{
 "cells": [
  {
   "cell_type": "code",
   "execution_count": 1,
   "metadata": {
    "_cell_guid": "b1076dfc-b9ad-4769-8c92-a6c4dae69d19",
    "_uuid": "8f2839f25d086af736a60e9eeb907d3b93b6e0e5",
    "execution": {
     "iopub.execute_input": "2025-08-20T14:24:36.796928Z",
     "iopub.status.busy": "2025-08-20T14:24:36.796566Z",
     "iopub.status.idle": "2025-08-20T14:26:24.312747Z",
     "shell.execute_reply": "2025-08-20T14:26:24.311251Z",
     "shell.execute_reply.started": "2025-08-20T14:24:36.796895Z"
    },
    "trusted": true
   },
   "outputs": [
    {
     "name": "stdout",
     "output_type": "stream",
     "text": [
      "Requirement already satisfied: torch in /usr/local/lib/python3.11/dist-packages (2.6.0+cu124)\n",
      "Requirement already satisfied: torchvision in /usr/local/lib/python3.11/dist-packages (0.21.0+cu124)\n",
      "Requirement already satisfied: torchaudio in /usr/local/lib/python3.11/dist-packages (2.6.0+cu124)\n",
      "Requirement already satisfied: filelock in /usr/local/lib/python3.11/dist-packages (from torch) (3.18.0)\n",
      "Requirement already satisfied: typing-extensions>=4.10.0 in /usr/local/lib/python3.11/dist-packages (from torch) (4.14.0)\n",
      "Requirement already satisfied: networkx in /usr/local/lib/python3.11/dist-packages (from torch) (3.5)\n",
      "Requirement already satisfied: jinja2 in /usr/local/lib/python3.11/dist-packages (from torch) (3.1.6)\n",
      "Requirement already satisfied: fsspec in /usr/local/lib/python3.11/dist-packages (from torch) (2025.5.1)\n",
      "Collecting nvidia-cuda-nvrtc-cu12==12.4.127 (from torch)\n",
      "  Downloading nvidia_cuda_nvrtc_cu12-12.4.127-py3-none-manylinux2014_x86_64.whl.metadata (1.5 kB)\n",
      "Collecting nvidia-cuda-runtime-cu12==12.4.127 (from torch)\n",
      "  Downloading nvidia_cuda_runtime_cu12-12.4.127-py3-none-manylinux2014_x86_64.whl.metadata (1.5 kB)\n",
      "Collecting nvidia-cuda-cupti-cu12==12.4.127 (from torch)\n",
      "  Downloading nvidia_cuda_cupti_cu12-12.4.127-py3-none-manylinux2014_x86_64.whl.metadata (1.6 kB)\n",
      "Collecting nvidia-cudnn-cu12==9.1.0.70 (from torch)\n",
      "  Downloading nvidia_cudnn_cu12-9.1.0.70-py3-none-manylinux2014_x86_64.whl.metadata (1.6 kB)\n",
      "Collecting nvidia-cublas-cu12==12.4.5.8 (from torch)\n",
      "  Downloading nvidia_cublas_cu12-12.4.5.8-py3-none-manylinux2014_x86_64.whl.metadata (1.5 kB)\n",
      "Collecting nvidia-cufft-cu12==11.2.1.3 (from torch)\n",
      "  Downloading nvidia_cufft_cu12-11.2.1.3-py3-none-manylinux2014_x86_64.whl.metadata (1.5 kB)\n",
      "Collecting nvidia-curand-cu12==10.3.5.147 (from torch)\n",
      "  Downloading nvidia_curand_cu12-10.3.5.147-py3-none-manylinux2014_x86_64.whl.metadata (1.5 kB)\n",
      "Collecting nvidia-cusolver-cu12==11.6.1.9 (from torch)\n",
      "  Downloading nvidia_cusolver_cu12-11.6.1.9-py3-none-manylinux2014_x86_64.whl.metadata (1.6 kB)\n",
      "Collecting nvidia-cusparse-cu12==12.3.1.170 (from torch)\n",
      "  Downloading nvidia_cusparse_cu12-12.3.1.170-py3-none-manylinux2014_x86_64.whl.metadata (1.6 kB)\n",
      "Requirement already satisfied: nvidia-cusparselt-cu12==0.6.2 in /usr/local/lib/python3.11/dist-packages (from torch) (0.6.2)\n",
      "Requirement already satisfied: nvidia-nccl-cu12==2.21.5 in /usr/local/lib/python3.11/dist-packages (from torch) (2.21.5)\n",
      "Requirement already satisfied: nvidia-nvtx-cu12==12.4.127 in /usr/local/lib/python3.11/dist-packages (from torch) (12.4.127)\n",
      "Collecting nvidia-nvjitlink-cu12==12.4.127 (from torch)\n",
      "  Downloading nvidia_nvjitlink_cu12-12.4.127-py3-none-manylinux2014_x86_64.whl.metadata (1.5 kB)\n",
      "Requirement already satisfied: triton==3.2.0 in /usr/local/lib/python3.11/dist-packages (from torch) (3.2.0)\n",
      "Requirement already satisfied: sympy==1.13.1 in /usr/local/lib/python3.11/dist-packages (from torch) (1.13.1)\n",
      "Requirement already satisfied: mpmath<1.4,>=1.1.0 in /usr/local/lib/python3.11/dist-packages (from sympy==1.13.1->torch) (1.3.0)\n",
      "Requirement already satisfied: numpy in /usr/local/lib/python3.11/dist-packages (from torchvision) (1.26.4)\n",
      "Requirement already satisfied: pillow!=8.3.*,>=5.3.0 in /usr/local/lib/python3.11/dist-packages (from torchvision) (11.2.1)\n",
      "Requirement already satisfied: MarkupSafe>=2.0 in /usr/local/lib/python3.11/dist-packages (from jinja2->torch) (3.0.2)\n",
      "Requirement already satisfied: mkl_fft in /usr/local/lib/python3.11/dist-packages (from numpy->torchvision) (1.3.8)\n",
      "Requirement already satisfied: mkl_random in /usr/local/lib/python3.11/dist-packages (from numpy->torchvision) (1.2.4)\n",
      "Requirement already satisfied: mkl_umath in /usr/local/lib/python3.11/dist-packages (from numpy->torchvision) (0.1.1)\n",
      "Requirement already satisfied: mkl in /usr/local/lib/python3.11/dist-packages (from numpy->torchvision) (2025.2.0)\n",
      "Requirement already satisfied: tbb4py in /usr/local/lib/python3.11/dist-packages (from numpy->torchvision) (2022.2.0)\n",
      "Requirement already satisfied: mkl-service in /usr/local/lib/python3.11/dist-packages (from numpy->torchvision) (2.4.1)\n",
      "Requirement already satisfied: intel-openmp<2026,>=2024 in /usr/local/lib/python3.11/dist-packages (from mkl->numpy->torchvision) (2024.2.0)\n",
      "Requirement already satisfied: tbb==2022.* in /usr/local/lib/python3.11/dist-packages (from mkl->numpy->torchvision) (2022.2.0)\n",
      "Requirement already satisfied: tcmlib==1.* in /usr/local/lib/python3.11/dist-packages (from tbb==2022.*->mkl->numpy->torchvision) (1.4.0)\n",
      "Requirement already satisfied: intel-cmplr-lib-rt in /usr/local/lib/python3.11/dist-packages (from mkl_umath->numpy->torchvision) (2024.2.0)\n",
      "Requirement already satisfied: intel-cmplr-lib-ur==2024.2.0 in /usr/local/lib/python3.11/dist-packages (from intel-openmp<2026,>=2024->mkl->numpy->torchvision) (2024.2.0)\n",
      "Downloading nvidia_cublas_cu12-12.4.5.8-py3-none-manylinux2014_x86_64.whl (363.4 MB)\n",
      "\u001b[2K   \u001b[90m━━━━━━━━━━━━━━━━━━━━━━━━━━━━━━━━━━━━━━━━\u001b[0m \u001b[32m363.4/363.4 MB\u001b[0m \u001b[31m3.8 MB/s\u001b[0m eta \u001b[36m0:00:00\u001b[0m:00:01\u001b[0m00:01\u001b[0m\n",
      "\u001b[?25hDownloading nvidia_cuda_cupti_cu12-12.4.127-py3-none-manylinux2014_x86_64.whl (13.8 MB)\n",
      "\u001b[2K   \u001b[90m━━━━━━━━━━━━━━━━━━━━━━━━━━━━━━━━━━━━━━━━\u001b[0m \u001b[32m13.8/13.8 MB\u001b[0m \u001b[31m85.0 MB/s\u001b[0m eta \u001b[36m0:00:00\u001b[0m:00:01\u001b[0m00:01\u001b[0m\n",
      "\u001b[?25hDownloading nvidia_cuda_nvrtc_cu12-12.4.127-py3-none-manylinux2014_x86_64.whl (24.6 MB)\n",
      "\u001b[2K   \u001b[90m━━━━━━━━━━━━━━━━━━━━━━━━━━━━━━━━━━━━━━━━\u001b[0m \u001b[32m24.6/24.6 MB\u001b[0m \u001b[31m65.3 MB/s\u001b[0m eta \u001b[36m0:00:00\u001b[0m:00:01\u001b[0m00:01\u001b[0m\n",
      "\u001b[?25hDownloading nvidia_cuda_runtime_cu12-12.4.127-py3-none-manylinux2014_x86_64.whl (883 kB)\n",
      "\u001b[2K   \u001b[90m━━━━━━━━━━━━━━━━━━━━━━━━━━━━━━━━━━━━━━━━\u001b[0m \u001b[32m883.7/883.7 kB\u001b[0m \u001b[31m33.0 MB/s\u001b[0m eta \u001b[36m0:00:00\u001b[0m\n",
      "\u001b[?25hDownloading nvidia_cudnn_cu12-9.1.0.70-py3-none-manylinux2014_x86_64.whl (664.8 MB)\n",
      "\u001b[2K   \u001b[90m━━━━━━━━━━━━━━━━━━━━━━━━━━━━━━━━━━━━━━━━\u001b[0m \u001b[32m664.8/664.8 MB\u001b[0m \u001b[31m2.2 MB/s\u001b[0m eta \u001b[36m0:00:00\u001b[0m:00:01\u001b[0m00:01\u001b[0m\n",
      "\u001b[?25hDownloading nvidia_cufft_cu12-11.2.1.3-py3-none-manylinux2014_x86_64.whl (211.5 MB)\n",
      "\u001b[2K   \u001b[90m━━━━━━━━━━━━━━━━━━━━━━━━━━━━━━━━━━━━━━━━\u001b[0m \u001b[32m211.5/211.5 MB\u001b[0m \u001b[31m1.9 MB/s\u001b[0m eta \u001b[36m0:00:00\u001b[0m:00:01\u001b[0m00:01\u001b[0m\n",
      "\u001b[?25hDownloading nvidia_curand_cu12-10.3.5.147-py3-none-manylinux2014_x86_64.whl (56.3 MB)\n",
      "\u001b[2K   \u001b[90m━━━━━━━━━━━━━━━━━━━━━━━━━━━━━━━━━━━━━━━━\u001b[0m \u001b[32m56.3/56.3 MB\u001b[0m \u001b[31m24.8 MB/s\u001b[0m eta \u001b[36m0:00:00\u001b[0m:00:01\u001b[0m00:01\u001b[0m\n",
      "\u001b[?25hDownloading nvidia_cusolver_cu12-11.6.1.9-py3-none-manylinux2014_x86_64.whl (127.9 MB)\n",
      "\u001b[2K   \u001b[90m━━━━━━━━━━━━━━━━━━━━━━━━━━━━━━━━━━━━━━━━\u001b[0m \u001b[32m127.9/127.9 MB\u001b[0m \u001b[31m8.1 MB/s\u001b[0m eta \u001b[36m0:00:00\u001b[0m:00:01\u001b[0m00:01\u001b[0m\n",
      "\u001b[?25hDownloading nvidia_cusparse_cu12-12.3.1.170-py3-none-manylinux2014_x86_64.whl (207.5 MB)\n",
      "\u001b[2K   \u001b[90m━━━━━━━━━━━━━━━━━━━━━━━━━━━━━━━━━━━━━━━━\u001b[0m \u001b[32m207.5/207.5 MB\u001b[0m \u001b[31m6.0 MB/s\u001b[0m eta \u001b[36m0:00:00\u001b[0m:00:01\u001b[0m00:01\u001b[0m\n",
      "\u001b[?25hDownloading nvidia_nvjitlink_cu12-12.4.127-py3-none-manylinux2014_x86_64.whl (21.1 MB)\n",
      "\u001b[2K   \u001b[90m━━━━━━━━━━━━━━━━━━━━━━━━━━━━━━━━━━━━━━━━\u001b[0m \u001b[32m21.1/21.1 MB\u001b[0m \u001b[31m68.2 MB/s\u001b[0m eta \u001b[36m0:00:00\u001b[0m:00:01\u001b[0m00:01\u001b[0m\n",
      "\u001b[?25hInstalling collected packages: nvidia-nvjitlink-cu12, nvidia-curand-cu12, nvidia-cufft-cu12, nvidia-cuda-runtime-cu12, nvidia-cuda-nvrtc-cu12, nvidia-cuda-cupti-cu12, nvidia-cublas-cu12, nvidia-cusparse-cu12, nvidia-cudnn-cu12, nvidia-cusolver-cu12\n",
      "  Attempting uninstall: nvidia-nvjitlink-cu12\n",
      "    Found existing installation: nvidia-nvjitlink-cu12 12.5.82\n",
      "    Uninstalling nvidia-nvjitlink-cu12-12.5.82:\n",
      "      Successfully uninstalled nvidia-nvjitlink-cu12-12.5.82\n",
      "  Attempting uninstall: nvidia-curand-cu12\n",
      "    Found existing installation: nvidia-curand-cu12 10.3.6.82\n",
      "    Uninstalling nvidia-curand-cu12-10.3.6.82:\n",
      "      Successfully uninstalled nvidia-curand-cu12-10.3.6.82\n",
      "  Attempting uninstall: nvidia-cufft-cu12\n",
      "    Found existing installation: nvidia-cufft-cu12 11.2.3.61\n",
      "    Uninstalling nvidia-cufft-cu12-11.2.3.61:\n",
      "      Successfully uninstalled nvidia-cufft-cu12-11.2.3.61\n",
      "  Attempting uninstall: nvidia-cuda-runtime-cu12\n",
      "    Found existing installation: nvidia-cuda-runtime-cu12 12.5.82\n",
      "    Uninstalling nvidia-cuda-runtime-cu12-12.5.82:\n",
      "      Successfully uninstalled nvidia-cuda-runtime-cu12-12.5.82\n",
      "  Attempting uninstall: nvidia-cuda-nvrtc-cu12\n",
      "    Found existing installation: nvidia-cuda-nvrtc-cu12 12.5.82\n",
      "    Uninstalling nvidia-cuda-nvrtc-cu12-12.5.82:\n",
      "      Successfully uninstalled nvidia-cuda-nvrtc-cu12-12.5.82\n",
      "  Attempting uninstall: nvidia-cuda-cupti-cu12\n",
      "    Found existing installation: nvidia-cuda-cupti-cu12 12.5.82\n",
      "    Uninstalling nvidia-cuda-cupti-cu12-12.5.82:\n",
      "      Successfully uninstalled nvidia-cuda-cupti-cu12-12.5.82\n",
      "  Attempting uninstall: nvidia-cublas-cu12\n",
      "    Found existing installation: nvidia-cublas-cu12 12.5.3.2\n",
      "    Uninstalling nvidia-cublas-cu12-12.5.3.2:\n",
      "      Successfully uninstalled nvidia-cublas-cu12-12.5.3.2\n",
      "  Attempting uninstall: nvidia-cusparse-cu12\n",
      "    Found existing installation: nvidia-cusparse-cu12 12.5.1.3\n",
      "    Uninstalling nvidia-cusparse-cu12-12.5.1.3:\n",
      "      Successfully uninstalled nvidia-cusparse-cu12-12.5.1.3\n",
      "  Attempting uninstall: nvidia-cudnn-cu12\n",
      "    Found existing installation: nvidia-cudnn-cu12 9.3.0.75\n",
      "    Uninstalling nvidia-cudnn-cu12-9.3.0.75:\n",
      "      Successfully uninstalled nvidia-cudnn-cu12-9.3.0.75\n",
      "  Attempting uninstall: nvidia-cusolver-cu12\n",
      "    Found existing installation: nvidia-cusolver-cu12 11.6.3.83\n",
      "    Uninstalling nvidia-cusolver-cu12-11.6.3.83:\n",
      "      Successfully uninstalled nvidia-cusolver-cu12-11.6.3.83\n",
      "Successfully installed nvidia-cublas-cu12-12.4.5.8 nvidia-cuda-cupti-cu12-12.4.127 nvidia-cuda-nvrtc-cu12-12.4.127 nvidia-cuda-runtime-cu12-12.4.127 nvidia-cudnn-cu12-9.1.0.70 nvidia-cufft-cu12-11.2.1.3 nvidia-curand-cu12-10.3.5.147 nvidia-cusolver-cu12-11.6.1.9 nvidia-cusparse-cu12-12.3.1.170 nvidia-nvjitlink-cu12-12.4.127\n",
      "Collecting ogb\n",
      "  Downloading ogb-1.3.6-py3-none-any.whl.metadata (6.2 kB)\n",
      "Requirement already satisfied: torch>=1.6.0 in /usr/local/lib/python3.11/dist-packages (from ogb) (2.6.0+cu124)\n",
      "Requirement already satisfied: numpy>=1.16.0 in /usr/local/lib/python3.11/dist-packages (from ogb) (1.26.4)\n",
      "Requirement already satisfied: tqdm>=4.29.0 in /usr/local/lib/python3.11/dist-packages (from ogb) (4.67.1)\n",
      "Requirement already satisfied: scikit-learn>=0.20.0 in /usr/local/lib/python3.11/dist-packages (from ogb) (1.2.2)\n",
      "Requirement already satisfied: pandas>=0.24.0 in /usr/local/lib/python3.11/dist-packages (from ogb) (2.2.3)\n",
      "Requirement already satisfied: six>=1.12.0 in /usr/local/lib/python3.11/dist-packages (from ogb) (1.17.0)\n",
      "Requirement already satisfied: urllib3>=1.24.0 in /usr/local/lib/python3.11/dist-packages (from ogb) (2.5.0)\n",
      "Collecting outdated>=0.2.0 (from ogb)\n",
      "  Downloading outdated-0.2.2-py2.py3-none-any.whl.metadata (4.7 kB)\n",
      "Requirement already satisfied: mkl_fft in /usr/local/lib/python3.11/dist-packages (from numpy>=1.16.0->ogb) (1.3.8)\n",
      "Requirement already satisfied: mkl_random in /usr/local/lib/python3.11/dist-packages (from numpy>=1.16.0->ogb) (1.2.4)\n",
      "Requirement already satisfied: mkl_umath in /usr/local/lib/python3.11/dist-packages (from numpy>=1.16.0->ogb) (0.1.1)\n",
      "Requirement already satisfied: mkl in /usr/local/lib/python3.11/dist-packages (from numpy>=1.16.0->ogb) (2025.2.0)\n",
      "Requirement already satisfied: tbb4py in /usr/local/lib/python3.11/dist-packages (from numpy>=1.16.0->ogb) (2022.2.0)\n",
      "Requirement already satisfied: mkl-service in /usr/local/lib/python3.11/dist-packages (from numpy>=1.16.0->ogb) (2.4.1)\n",
      "Requirement already satisfied: setuptools>=44 in /usr/local/lib/python3.11/dist-packages (from outdated>=0.2.0->ogb) (75.2.0)\n",
      "Collecting littleutils (from outdated>=0.2.0->ogb)\n",
      "  Downloading littleutils-0.2.4-py3-none-any.whl.metadata (679 bytes)\n",
      "Requirement already satisfied: requests in /usr/local/lib/python3.11/dist-packages (from outdated>=0.2.0->ogb) (2.32.4)\n",
      "Requirement already satisfied: python-dateutil>=2.8.2 in /usr/local/lib/python3.11/dist-packages (from pandas>=0.24.0->ogb) (2.9.0.post0)\n",
      "Requirement already satisfied: pytz>=2020.1 in /usr/local/lib/python3.11/dist-packages (from pandas>=0.24.0->ogb) (2025.2)\n",
      "Requirement already satisfied: tzdata>=2022.7 in /usr/local/lib/python3.11/dist-packages (from pandas>=0.24.0->ogb) (2025.2)\n",
      "Requirement already satisfied: scipy>=1.3.2 in /usr/local/lib/python3.11/dist-packages (from scikit-learn>=0.20.0->ogb) (1.15.3)\n",
      "Requirement already satisfied: joblib>=1.1.1 in /usr/local/lib/python3.11/dist-packages (from scikit-learn>=0.20.0->ogb) (1.5.1)\n",
      "Requirement already satisfied: threadpoolctl>=2.0.0 in /usr/local/lib/python3.11/dist-packages (from scikit-learn>=0.20.0->ogb) (3.6.0)\n",
      "Requirement already satisfied: filelock in /usr/local/lib/python3.11/dist-packages (from torch>=1.6.0->ogb) (3.18.0)\n",
      "Requirement already satisfied: typing-extensions>=4.10.0 in /usr/local/lib/python3.11/dist-packages (from torch>=1.6.0->ogb) (4.14.0)\n",
      "Requirement already satisfied: networkx in /usr/local/lib/python3.11/dist-packages (from torch>=1.6.0->ogb) (3.5)\n",
      "Requirement already satisfied: jinja2 in /usr/local/lib/python3.11/dist-packages (from torch>=1.6.0->ogb) (3.1.6)\n",
      "Requirement already satisfied: fsspec in /usr/local/lib/python3.11/dist-packages (from torch>=1.6.0->ogb) (2025.5.1)\n",
      "Requirement already satisfied: nvidia-cuda-nvrtc-cu12==12.4.127 in /usr/local/lib/python3.11/dist-packages (from torch>=1.6.0->ogb) (12.4.127)\n",
      "Requirement already satisfied: nvidia-cuda-runtime-cu12==12.4.127 in /usr/local/lib/python3.11/dist-packages (from torch>=1.6.0->ogb) (12.4.127)\n",
      "Requirement already satisfied: nvidia-cuda-cupti-cu12==12.4.127 in /usr/local/lib/python3.11/dist-packages (from torch>=1.6.0->ogb) (12.4.127)\n",
      "Requirement already satisfied: nvidia-cudnn-cu12==9.1.0.70 in /usr/local/lib/python3.11/dist-packages (from torch>=1.6.0->ogb) (9.1.0.70)\n",
      "Requirement already satisfied: nvidia-cublas-cu12==12.4.5.8 in /usr/local/lib/python3.11/dist-packages (from torch>=1.6.0->ogb) (12.4.5.8)\n",
      "Requirement already satisfied: nvidia-cufft-cu12==11.2.1.3 in /usr/local/lib/python3.11/dist-packages (from torch>=1.6.0->ogb) (11.2.1.3)\n",
      "Requirement already satisfied: nvidia-curand-cu12==10.3.5.147 in /usr/local/lib/python3.11/dist-packages (from torch>=1.6.0->ogb) (10.3.5.147)\n",
      "Requirement already satisfied: nvidia-cusolver-cu12==11.6.1.9 in /usr/local/lib/python3.11/dist-packages (from torch>=1.6.0->ogb) (11.6.1.9)\n",
      "Requirement already satisfied: nvidia-cusparse-cu12==12.3.1.170 in /usr/local/lib/python3.11/dist-packages (from torch>=1.6.0->ogb) (12.3.1.170)\n",
      "Requirement already satisfied: nvidia-cusparselt-cu12==0.6.2 in /usr/local/lib/python3.11/dist-packages (from torch>=1.6.0->ogb) (0.6.2)\n",
      "Requirement already satisfied: nvidia-nccl-cu12==2.21.5 in /usr/local/lib/python3.11/dist-packages (from torch>=1.6.0->ogb) (2.21.5)\n",
      "Requirement already satisfied: nvidia-nvtx-cu12==12.4.127 in /usr/local/lib/python3.11/dist-packages (from torch>=1.6.0->ogb) (12.4.127)\n",
      "Requirement already satisfied: nvidia-nvjitlink-cu12==12.4.127 in /usr/local/lib/python3.11/dist-packages (from torch>=1.6.0->ogb) (12.4.127)\n",
      "Requirement already satisfied: triton==3.2.0 in /usr/local/lib/python3.11/dist-packages (from torch>=1.6.0->ogb) (3.2.0)\n",
      "Requirement already satisfied: sympy==1.13.1 in /usr/local/lib/python3.11/dist-packages (from torch>=1.6.0->ogb) (1.13.1)\n",
      "Requirement already satisfied: mpmath<1.4,>=1.1.0 in /usr/local/lib/python3.11/dist-packages (from sympy==1.13.1->torch>=1.6.0->ogb) (1.3.0)\n",
      "Requirement already satisfied: MarkupSafe>=2.0 in /usr/local/lib/python3.11/dist-packages (from jinja2->torch>=1.6.0->ogb) (3.0.2)\n",
      "Requirement already satisfied: intel-openmp<2026,>=2024 in /usr/local/lib/python3.11/dist-packages (from mkl->numpy>=1.16.0->ogb) (2024.2.0)\n",
      "Requirement already satisfied: tbb==2022.* in /usr/local/lib/python3.11/dist-packages (from mkl->numpy>=1.16.0->ogb) (2022.2.0)\n",
      "Requirement already satisfied: tcmlib==1.* in /usr/local/lib/python3.11/dist-packages (from tbb==2022.*->mkl->numpy>=1.16.0->ogb) (1.4.0)\n",
      "Requirement already satisfied: intel-cmplr-lib-rt in /usr/local/lib/python3.11/dist-packages (from mkl_umath->numpy>=1.16.0->ogb) (2024.2.0)\n",
      "Requirement already satisfied: charset_normalizer<4,>=2 in /usr/local/lib/python3.11/dist-packages (from requests->outdated>=0.2.0->ogb) (3.4.2)\n",
      "Requirement already satisfied: idna<4,>=2.5 in /usr/local/lib/python3.11/dist-packages (from requests->outdated>=0.2.0->ogb) (3.10)\n",
      "Requirement already satisfied: certifi>=2017.4.17 in /usr/local/lib/python3.11/dist-packages (from requests->outdated>=0.2.0->ogb) (2025.6.15)\n",
      "Requirement already satisfied: intel-cmplr-lib-ur==2024.2.0 in /usr/local/lib/python3.11/dist-packages (from intel-openmp<2026,>=2024->mkl->numpy>=1.16.0->ogb) (2024.2.0)\n",
      "Downloading ogb-1.3.6-py3-none-any.whl (78 kB)\n",
      "\u001b[2K   \u001b[90m━━━━━━━━━━━━━━━━━━━━━━━━━━━━━━━━━━━━━━━━\u001b[0m \u001b[32m78.8/78.8 kB\u001b[0m \u001b[31m2.8 MB/s\u001b[0m eta \u001b[36m0:00:00\u001b[0m\n",
      "\u001b[?25hDownloading outdated-0.2.2-py2.py3-none-any.whl (7.5 kB)\n",
      "Downloading littleutils-0.2.4-py3-none-any.whl (8.1 kB)\n",
      "Installing collected packages: littleutils, outdated, ogb\n",
      "Successfully installed littleutils-0.2.4 ogb-1.3.6 outdated-0.2.2\n",
      "Collecting torch-geometric\n",
      "  Downloading torch_geometric-2.6.1-py3-none-any.whl.metadata (63 kB)\n",
      "\u001b[2K     \u001b[90m━━━━━━━━━━━━━━━━━━━━━━━━━━━━━━━━━━━━━━━━\u001b[0m \u001b[32m63.1/63.1 kB\u001b[0m \u001b[31m2.0 MB/s\u001b[0m eta \u001b[36m0:00:00\u001b[0m\n",
      "\u001b[?25hRequirement already satisfied: aiohttp in /usr/local/lib/python3.11/dist-packages (from torch-geometric) (3.12.13)\n",
      "Requirement already satisfied: fsspec in /usr/local/lib/python3.11/dist-packages (from torch-geometric) (2025.5.1)\n",
      "Requirement already satisfied: jinja2 in /usr/local/lib/python3.11/dist-packages (from torch-geometric) (3.1.6)\n",
      "Requirement already satisfied: numpy in /usr/local/lib/python3.11/dist-packages (from torch-geometric) (1.26.4)\n",
      "Requirement already satisfied: psutil>=5.8.0 in /usr/local/lib/python3.11/dist-packages (from torch-geometric) (7.0.0)\n",
      "Requirement already satisfied: pyparsing in /usr/local/lib/python3.11/dist-packages (from torch-geometric) (3.0.9)\n",
      "Requirement already satisfied: requests in /usr/local/lib/python3.11/dist-packages (from torch-geometric) (2.32.4)\n",
      "Requirement already satisfied: tqdm in /usr/local/lib/python3.11/dist-packages (from torch-geometric) (4.67.1)\n",
      "Requirement already satisfied: aiohappyeyeballs>=2.5.0 in /usr/local/lib/python3.11/dist-packages (from aiohttp->torch-geometric) (2.6.1)\n",
      "Requirement already satisfied: aiosignal>=1.1.2 in /usr/local/lib/python3.11/dist-packages (from aiohttp->torch-geometric) (1.3.2)\n",
      "Requirement already satisfied: attrs>=17.3.0 in /usr/local/lib/python3.11/dist-packages (from aiohttp->torch-geometric) (25.3.0)\n",
      "Requirement already satisfied: frozenlist>=1.1.1 in /usr/local/lib/python3.11/dist-packages (from aiohttp->torch-geometric) (1.7.0)\n",
      "Requirement already satisfied: multidict<7.0,>=4.5 in /usr/local/lib/python3.11/dist-packages (from aiohttp->torch-geometric) (6.6.3)\n",
      "Requirement already satisfied: propcache>=0.2.0 in /usr/local/lib/python3.11/dist-packages (from aiohttp->torch-geometric) (0.3.2)\n",
      "Requirement already satisfied: yarl<2.0,>=1.17.0 in /usr/local/lib/python3.11/dist-packages (from aiohttp->torch-geometric) (1.20.1)\n",
      "Requirement already satisfied: MarkupSafe>=2.0 in /usr/local/lib/python3.11/dist-packages (from jinja2->torch-geometric) (3.0.2)\n",
      "Requirement already satisfied: mkl_fft in /usr/local/lib/python3.11/dist-packages (from numpy->torch-geometric) (1.3.8)\n",
      "Requirement already satisfied: mkl_random in /usr/local/lib/python3.11/dist-packages (from numpy->torch-geometric) (1.2.4)\n",
      "Requirement already satisfied: mkl_umath in /usr/local/lib/python3.11/dist-packages (from numpy->torch-geometric) (0.1.1)\n",
      "Requirement already satisfied: mkl in /usr/local/lib/python3.11/dist-packages (from numpy->torch-geometric) (2025.2.0)\n",
      "Requirement already satisfied: tbb4py in /usr/local/lib/python3.11/dist-packages (from numpy->torch-geometric) (2022.2.0)\n",
      "Requirement already satisfied: mkl-service in /usr/local/lib/python3.11/dist-packages (from numpy->torch-geometric) (2.4.1)\n",
      "Requirement already satisfied: charset_normalizer<4,>=2 in /usr/local/lib/python3.11/dist-packages (from requests->torch-geometric) (3.4.2)\n",
      "Requirement already satisfied: idna<4,>=2.5 in /usr/local/lib/python3.11/dist-packages (from requests->torch-geometric) (3.10)\n",
      "Requirement already satisfied: urllib3<3,>=1.21.1 in /usr/local/lib/python3.11/dist-packages (from requests->torch-geometric) (2.5.0)\n",
      "Requirement already satisfied: certifi>=2017.4.17 in /usr/local/lib/python3.11/dist-packages (from requests->torch-geometric) (2025.6.15)\n",
      "Requirement already satisfied: intel-openmp<2026,>=2024 in /usr/local/lib/python3.11/dist-packages (from mkl->numpy->torch-geometric) (2024.2.0)\n",
      "Requirement already satisfied: tbb==2022.* in /usr/local/lib/python3.11/dist-packages (from mkl->numpy->torch-geometric) (2022.2.0)\n",
      "Requirement already satisfied: tcmlib==1.* in /usr/local/lib/python3.11/dist-packages (from tbb==2022.*->mkl->numpy->torch-geometric) (1.4.0)\n",
      "Requirement already satisfied: intel-cmplr-lib-rt in /usr/local/lib/python3.11/dist-packages (from mkl_umath->numpy->torch-geometric) (2024.2.0)\n",
      "Requirement already satisfied: intel-cmplr-lib-ur==2024.2.0 in /usr/local/lib/python3.11/dist-packages (from intel-openmp<2026,>=2024->mkl->numpy->torch-geometric) (2024.2.0)\n",
      "Downloading torch_geometric-2.6.1-py3-none-any.whl (1.1 MB)\n",
      "\u001b[2K   \u001b[90m━━━━━━━━━━━━━━━━━━━━━━━━━━━━━━━━━━━━━━━━\u001b[0m \u001b[32m1.1/1.1 MB\u001b[0m \u001b[31m29.7 MB/s\u001b[0m eta \u001b[36m0:00:00\u001b[0m00:01\u001b[0m\n",
      "\u001b[?25hInstalling collected packages: torch-geometric\n",
      "Successfully installed torch-geometric-2.6.1\n"
     ]
    }
   ],
   "source": [
    "!pip install torch torchvision torchaudio\n",
    "!pip install ogb\n",
    "!pip install torch-geometric"
   ]
  },
  {
   "cell_type": "code",
   "execution_count": null,
   "metadata": {
    "execution": {
     "iopub.execute_input": "2025-08-20T14:26:24.314710Z",
     "iopub.status.busy": "2025-08-20T14:26:24.314365Z",
     "iopub.status.idle": "2025-08-20T14:26:46.807498Z",
     "shell.execute_reply": "2025-08-20T14:26:46.806125Z",
     "shell.execute_reply.started": "2025-08-20T14:26:24.314677Z"
    },
    "trusted": true
   },
   "outputs": [],
   "source": [
    "import os, random, numpy as np, torch\n",
    "import torch.nn.functional as F\n",
    "from torch_geometric.datasets import TUDataset\n",
    "from torch_geometric.loader import DataLoader\n",
    "from torch_geometric.nn import GCNConv, global_mean_pool\n",
    "from torch_geometric.utils import to_networkx\n",
    "import networkx as nx\n",
    "import wandb\n",
    "\n",
    "wandb.login(key=\"Your-api-key\")\n",
    "Dataset_name = \"NCI1\""
   ]
  },
  {
   "cell_type": "markdown",
   "metadata": {},
   "source": [
    "# *Baseline*"
   ]
  },
  {
   "cell_type": "code",
   "execution_count": 3,
   "metadata": {
    "execution": {
     "iopub.execute_input": "2025-08-20T14:26:46.810475Z",
     "iopub.status.busy": "2025-08-20T14:26:46.809715Z",
     "iopub.status.idle": "2025-08-20T14:44:42.471564Z",
     "shell.execute_reply": "2025-08-20T14:44:42.470452Z",
     "shell.execute_reply.started": "2025-08-20T14:26:46.810443Z"
    },
    "trusted": true
   },
   "outputs": [
    {
     "name": "stderr",
     "output_type": "stream",
     "text": [
      "Downloading https://www.chrsmrrs.com/graphkerneldatasets/PROTEINS.zip\n",
      "Processing...\n",
      "Done!\n",
      "\u001b[34m\u001b[1mwandb\u001b[0m: \u001b[33mWARNING\u001b[0m Using a boolean value for 'reinit' is deprecated. Use 'return_previous' or 'finish_previous' instead.\n"
     ]
    },
    {
     "data": {
      "text/html": [
       "Tracking run with wandb version 0.20.1"
      ],
      "text/plain": [
       "<IPython.core.display.HTML object>"
      ]
     },
     "metadata": {},
     "output_type": "display_data"
    },
    {
     "data": {
      "text/html": [
       "Run data is saved locally in <code>/kaggle/working/wandb/run-20250820_142650-ivuassxn</code>"
      ],
      "text/plain": [
       "<IPython.core.display.HTML object>"
      ]
     },
     "metadata": {},
     "output_type": "display_data"
    },
    {
     "data": {
      "text/html": [
       "Syncing run <strong><a href='https://wandb.ai/noynetanel1-tel-aviv-university/GCN%20Graph%20classification%28Protein%29_Gal/runs/ivuassxn' target=\"_blank\">GCN_baseline_seed_1</a></strong> to <a href='https://wandb.ai/noynetanel1-tel-aviv-university/GCN%20Graph%20classification%28Protein%29_Gal' target=\"_blank\">Weights & Biases</a> (<a href='https://wandb.me/developer-guide' target=\"_blank\">docs</a>)<br>"
      ],
      "text/plain": [
       "<IPython.core.display.HTML object>"
      ]
     },
     "metadata": {},
     "output_type": "display_data"
    },
    {
     "data": {
      "text/html": [
       " View project at <a href='https://wandb.ai/noynetanel1-tel-aviv-university/GCN%20Graph%20classification%28Protein%29_Gal' target=\"_blank\">https://wandb.ai/noynetanel1-tel-aviv-university/GCN%20Graph%20classification%28Protein%29_Gal</a>"
      ],
      "text/plain": [
       "<IPython.core.display.HTML object>"
      ]
     },
     "metadata": {},
     "output_type": "display_data"
    },
    {
     "data": {
      "text/html": [
       " View run at <a href='https://wandb.ai/noynetanel1-tel-aviv-university/GCN%20Graph%20classification%28Protein%29_Gal/runs/ivuassxn' target=\"_blank\">https://wandb.ai/noynetanel1-tel-aviv-university/GCN%20Graph%20classification%28Protein%29_Gal/runs/ivuassxn</a>"
      ],
      "text/plain": [
       "<IPython.core.display.HTML object>"
      ]
     },
     "metadata": {},
     "output_type": "display_data"
    },
    {
     "name": "stdout",
     "output_type": "stream",
     "text": [
      "Seed 1 | Epoch 001 | Loss: 0.6778 | Test Acc: 0.5964\n",
      "Seed 1 | Epoch 002 | Loss: 0.6727 | Test Acc: 0.5964\n",
      "Seed 1 | Epoch 003 | Loss: 0.6664 | Test Acc: 0.6413\n",
      "Seed 1 | Epoch 004 | Loss: 0.6628 | Test Acc: 0.6457\n",
      "Seed 1 | Epoch 005 | Loss: 0.6576 | Test Acc: 0.6323\n",
      "Seed 1 | Epoch 006 | Loss: 0.6534 | Test Acc: 0.6323\n",
      "Seed 1 | Epoch 007 | Loss: 0.6492 | Test Acc: 0.6457\n",
      "Seed 1 | Epoch 008 | Loss: 0.6454 | Test Acc: 0.6413\n",
      "Seed 1 | Epoch 009 | Loss: 0.6410 | Test Acc: 0.6457\n",
      "Seed 1 | Epoch 010 | Loss: 0.6356 | Test Acc: 0.6637\n",
      "Seed 1 | Epoch 011 | Loss: 0.6314 | Test Acc: 0.6816\n",
      "Seed 1 | Epoch 012 | Loss: 0.6292 | Test Acc: 0.6726\n",
      "Seed 1 | Epoch 013 | Loss: 0.6338 | Test Acc: 0.6323\n",
      "Seed 1 | Epoch 014 | Loss: 0.6283 | Test Acc: 0.6682\n",
      "Seed 1 | Epoch 015 | Loss: 0.6253 | Test Acc: 0.6861\n",
      "Seed 1 | Epoch 016 | Loss: 0.6259 | Test Acc: 0.6726\n",
      "Seed 1 | Epoch 017 | Loss: 0.6256 | Test Acc: 0.6951\n",
      "Seed 1 | Epoch 018 | Loss: 0.6234 | Test Acc: 0.6816\n",
      "Seed 1 | Epoch 019 | Loss: 0.6213 | Test Acc: 0.6951\n",
      "Seed 1 | Epoch 020 | Loss: 0.6197 | Test Acc: 0.6637\n",
      "Seed 1 | Epoch 021 | Loss: 0.6245 | Test Acc: 0.6816\n",
      "Seed 1 | Epoch 022 | Loss: 0.6187 | Test Acc: 0.6726\n",
      "Seed 1 | Epoch 023 | Loss: 0.6200 | Test Acc: 0.6861\n",
      "Seed 1 | Epoch 024 | Loss: 0.6220 | Test Acc: 0.6771\n",
      "Seed 1 | Epoch 025 | Loss: 0.6218 | Test Acc: 0.6906\n",
      "Seed 1 | Epoch 026 | Loss: 0.6194 | Test Acc: 0.6861\n",
      "Seed 1 | Epoch 027 | Loss: 0.6172 | Test Acc: 0.6771\n",
      "Seed 1 | Epoch 028 | Loss: 0.6182 | Test Acc: 0.6457\n",
      "Seed 1 | Epoch 029 | Loss: 0.6248 | Test Acc: 0.6592\n",
      "Seed 1 | Epoch 030 | Loss: 0.6173 | Test Acc: 0.6816\n",
      "Seed 1 | Epoch 031 | Loss: 0.6159 | Test Acc: 0.6726\n",
      "Seed 1 | Epoch 032 | Loss: 0.6231 | Test Acc: 0.6951\n",
      "Seed 1 | Epoch 033 | Loss: 0.6183 | Test Acc: 0.6951\n",
      "Seed 1 | Epoch 034 | Loss: 0.6149 | Test Acc: 0.6771\n",
      "Seed 1 | Epoch 035 | Loss: 0.6169 | Test Acc: 0.6951\n",
      "Seed 1 | Epoch 036 | Loss: 0.6162 | Test Acc: 0.6816\n",
      "Seed 1 | Epoch 037 | Loss: 0.6172 | Test Acc: 0.6996\n",
      "Seed 1 | Epoch 038 | Loss: 0.6151 | Test Acc: 0.6906\n",
      "Seed 1 | Epoch 039 | Loss: 0.6137 | Test Acc: 0.6816\n",
      "Seed 1 | Epoch 040 | Loss: 0.6201 | Test Acc: 0.6996\n",
      "Seed 1 | Epoch 041 | Loss: 0.6142 | Test Acc: 0.6906\n",
      "Seed 1 | Epoch 042 | Loss: 0.6157 | Test Acc: 0.6592\n",
      "Seed 1 | Epoch 043 | Loss: 0.6173 | Test Acc: 0.6906\n",
      "Seed 1 | Epoch 044 | Loss: 0.6152 | Test Acc: 0.6861\n",
      "Seed 1 | Epoch 045 | Loss: 0.6153 | Test Acc: 0.6861\n",
      "Seed 1 | Epoch 046 | Loss: 0.6147 | Test Acc: 0.6996\n",
      "Seed 1 | Epoch 047 | Loss: 0.6130 | Test Acc: 0.6726\n",
      "Seed 1 | Epoch 048 | Loss: 0.6139 | Test Acc: 0.6726\n",
      "Seed 1 | Epoch 049 | Loss: 0.6165 | Test Acc: 0.6726\n",
      "Seed 1 | Epoch 050 | Loss: 0.6139 | Test Acc: 0.6861\n"
     ]
    },
    {
     "data": {
      "text/html": [],
      "text/plain": [
       "<IPython.core.display.HTML object>"
      ]
     },
     "metadata": {},
     "output_type": "display_data"
    },
    {
     "data": {
      "text/html": [
       "<br>    <style><br>        .wandb-row {<br>            display: flex;<br>            flex-direction: row;<br>            flex-wrap: wrap;<br>            justify-content: flex-start;<br>            width: 100%;<br>        }<br>        .wandb-col {<br>            display: flex;<br>            flex-direction: column;<br>            flex-basis: 100%;<br>            flex: 1;<br>            padding: 10px;<br>        }<br>    </style><br><div class=\"wandb-row\"><div class=\"wandb-col\"><h3>Run history:</h3><br/><table class=\"wandb\"><tr><td>epoch</td><td>▁▁▁▂▂▂▂▂▂▃▃▃▃▃▃▄▄▄▄▄▅▅▅▅▅▆▆▆▆▆▆▇▇▇▇▇▇███</td></tr><tr><td>loss</td><td>█▇▇▆▆▅▄▄▃▃▃▃▂▂▂▂▂▂▂▂▂▂▁▂▂▁▂▂▁▁▁▁▂▁▁▁▁▁▁▁</td></tr><tr><td>test_acc</td><td>▁▁▄▄▃▄▄▄▆▇▃▆▇▆██▆▇▆▇▇▇▆▄▅██▆█▇▇█▇▅▇▇█▆▆▇</td></tr><tr><td>train_acc</td><td>▁▁▃▃▄▃▃▄▇▆▇▇▇▇▇▇▇█▆▇▆▆▇█▇▇▇█▇█▇█▇▇▇██▇▇█</td></tr></table><br/></div><div class=\"wandb-col\"><h3>Run summary:</h3><br/><table class=\"wandb\"><tr><td>epoch</td><td>50</td></tr><tr><td>loss</td><td>0.61391</td></tr><tr><td>test_acc</td><td>0.6861</td></tr><tr><td>train_acc</td><td>0.71461</td></tr></table><br/></div></div>"
      ],
      "text/plain": [
       "<IPython.core.display.HTML object>"
      ]
     },
     "metadata": {},
     "output_type": "display_data"
    },
    {
     "data": {
      "text/html": [
       " View run <strong style=\"color:#cdcd00\">GCN_baseline_seed_1</strong> at: <a href='https://wandb.ai/noynetanel1-tel-aviv-university/GCN%20Graph%20classification%28Protein%29_Gal/runs/ivuassxn' target=\"_blank\">https://wandb.ai/noynetanel1-tel-aviv-university/GCN%20Graph%20classification%28Protein%29_Gal/runs/ivuassxn</a><br> View project at: <a href='https://wandb.ai/noynetanel1-tel-aviv-university/GCN%20Graph%20classification%28Protein%29_Gal' target=\"_blank\">https://wandb.ai/noynetanel1-tel-aviv-university/GCN%20Graph%20classification%28Protein%29_Gal</a><br>Synced 5 W&B file(s), 0 media file(s), 0 artifact file(s) and 0 other file(s)"
      ],
      "text/plain": [
       "<IPython.core.display.HTML object>"
      ]
     },
     "metadata": {},
     "output_type": "display_data"
    },
    {
     "data": {
      "text/html": [
       "Find logs at: <code>./wandb/run-20250820_142650-ivuassxn/logs</code>"
      ],
      "text/plain": [
       "<IPython.core.display.HTML object>"
      ]
     },
     "metadata": {},
     "output_type": "display_data"
    },
    {
     "data": {
      "text/html": [
       "Tracking run with wandb version 0.20.1"
      ],
      "text/plain": [
       "<IPython.core.display.HTML object>"
      ]
     },
     "metadata": {},
     "output_type": "display_data"
    },
    {
     "data": {
      "text/html": [
       "Run data is saved locally in <code>/kaggle/working/wandb/run-20250820_142724-h1c4xevy</code>"
      ],
      "text/plain": [
       "<IPython.core.display.HTML object>"
      ]
     },
     "metadata": {},
     "output_type": "display_data"
    },
    {
     "data": {
      "text/html": [
       "Syncing run <strong><a href='https://wandb.ai/noynetanel1-tel-aviv-university/GCN%20Graph%20classification%28Protein%29_Gal/runs/h1c4xevy' target=\"_blank\">GCN_baseline_seed_2</a></strong> to <a href='https://wandb.ai/noynetanel1-tel-aviv-university/GCN%20Graph%20classification%28Protein%29_Gal' target=\"_blank\">Weights & Biases</a> (<a href='https://wandb.me/developer-guide' target=\"_blank\">docs</a>)<br>"
      ],
      "text/plain": [
       "<IPython.core.display.HTML object>"
      ]
     },
     "metadata": {},
     "output_type": "display_data"
    },
    {
     "data": {
      "text/html": [
       " View project at <a href='https://wandb.ai/noynetanel1-tel-aviv-university/GCN%20Graph%20classification%28Protein%29_Gal' target=\"_blank\">https://wandb.ai/noynetanel1-tel-aviv-university/GCN%20Graph%20classification%28Protein%29_Gal</a>"
      ],
      "text/plain": [
       "<IPython.core.display.HTML object>"
      ]
     },
     "metadata": {},
     "output_type": "display_data"
    },
    {
     "data": {
      "text/html": [
       " View run at <a href='https://wandb.ai/noynetanel1-tel-aviv-university/GCN%20Graph%20classification%28Protein%29_Gal/runs/h1c4xevy' target=\"_blank\">https://wandb.ai/noynetanel1-tel-aviv-university/GCN%20Graph%20classification%28Protein%29_Gal/runs/h1c4xevy</a>"
      ],
      "text/plain": [
       "<IPython.core.display.HTML object>"
      ]
     },
     "metadata": {},
     "output_type": "display_data"
    },
    {
     "name": "stdout",
     "output_type": "stream",
     "text": [
      "Seed 2 | Epoch 001 | Loss: 0.6795 | Test Acc: 0.5695\n",
      "Seed 2 | Epoch 002 | Loss: 0.6708 | Test Acc: 0.5695\n",
      "Seed 2 | Epoch 003 | Loss: 0.6672 | Test Acc: 0.5695\n",
      "Seed 2 | Epoch 004 | Loss: 0.6606 | Test Acc: 0.5785\n",
      "Seed 2 | Epoch 005 | Loss: 0.6538 | Test Acc: 0.5919\n",
      "Seed 2 | Epoch 006 | Loss: 0.6458 | Test Acc: 0.6054\n",
      "Seed 2 | Epoch 007 | Loss: 0.6418 | Test Acc: 0.6054\n",
      "Seed 2 | Epoch 008 | Loss: 0.6337 | Test Acc: 0.6323\n",
      "Seed 2 | Epoch 009 | Loss: 0.6287 | Test Acc: 0.6413\n",
      "Seed 2 | Epoch 010 | Loss: 0.6279 | Test Acc: 0.6457\n",
      "Seed 2 | Epoch 011 | Loss: 0.6243 | Test Acc: 0.6413\n",
      "Seed 2 | Epoch 012 | Loss: 0.6218 | Test Acc: 0.6502\n",
      "Seed 2 | Epoch 013 | Loss: 0.6190 | Test Acc: 0.6502\n",
      "Seed 2 | Epoch 014 | Loss: 0.6175 | Test Acc: 0.6323\n",
      "Seed 2 | Epoch 015 | Loss: 0.6156 | Test Acc: 0.6323\n",
      "Seed 2 | Epoch 016 | Loss: 0.6175 | Test Acc: 0.6323\n",
      "Seed 2 | Epoch 017 | Loss: 0.6135 | Test Acc: 0.6368\n",
      "Seed 2 | Epoch 018 | Loss: 0.6135 | Test Acc: 0.6368\n",
      "Seed 2 | Epoch 019 | Loss: 0.6103 | Test Acc: 0.6368\n",
      "Seed 2 | Epoch 020 | Loss: 0.6105 | Test Acc: 0.6368\n",
      "Seed 2 | Epoch 021 | Loss: 0.6121 | Test Acc: 0.6278\n",
      "Seed 2 | Epoch 022 | Loss: 0.6107 | Test Acc: 0.6368\n",
      "Seed 2 | Epoch 023 | Loss: 0.6107 | Test Acc: 0.6368\n",
      "Seed 2 | Epoch 024 | Loss: 0.6097 | Test Acc: 0.6368\n",
      "Seed 2 | Epoch 025 | Loss: 0.6126 | Test Acc: 0.6368\n",
      "Seed 2 | Epoch 026 | Loss: 0.6108 | Test Acc: 0.6368\n",
      "Seed 2 | Epoch 027 | Loss: 0.6066 | Test Acc: 0.6278\n",
      "Seed 2 | Epoch 028 | Loss: 0.6083 | Test Acc: 0.6323\n",
      "Seed 2 | Epoch 029 | Loss: 0.6060 | Test Acc: 0.6368\n",
      "Seed 2 | Epoch 030 | Loss: 0.6135 | Test Acc: 0.6323\n",
      "Seed 2 | Epoch 031 | Loss: 0.6121 | Test Acc: 0.6457\n",
      "Seed 2 | Epoch 032 | Loss: 0.6105 | Test Acc: 0.6413\n",
      "Seed 2 | Epoch 033 | Loss: 0.6054 | Test Acc: 0.6233\n",
      "Seed 2 | Epoch 034 | Loss: 0.6074 | Test Acc: 0.6368\n",
      "Seed 2 | Epoch 035 | Loss: 0.6053 | Test Acc: 0.6413\n",
      "Seed 2 | Epoch 036 | Loss: 0.6052 | Test Acc: 0.6323\n",
      "Seed 2 | Epoch 037 | Loss: 0.6075 | Test Acc: 0.6368\n",
      "Seed 2 | Epoch 038 | Loss: 0.6069 | Test Acc: 0.6368\n",
      "Seed 2 | Epoch 039 | Loss: 0.6089 | Test Acc: 0.6502\n",
      "Seed 2 | Epoch 040 | Loss: 0.6060 | Test Acc: 0.6278\n",
      "Seed 2 | Epoch 041 | Loss: 0.6063 | Test Acc: 0.6278\n",
      "Seed 2 | Epoch 042 | Loss: 0.6069 | Test Acc: 0.6323\n",
      "Seed 2 | Epoch 043 | Loss: 0.6065 | Test Acc: 0.6323\n",
      "Seed 2 | Epoch 044 | Loss: 0.6044 | Test Acc: 0.6413\n",
      "Seed 2 | Epoch 045 | Loss: 0.6066 | Test Acc: 0.6233\n",
      "Seed 2 | Epoch 046 | Loss: 0.6045 | Test Acc: 0.6502\n",
      "Seed 2 | Epoch 047 | Loss: 0.6030 | Test Acc: 0.6457\n",
      "Seed 2 | Epoch 048 | Loss: 0.6055 | Test Acc: 0.6413\n",
      "Seed 2 | Epoch 049 | Loss: 0.6089 | Test Acc: 0.6278\n",
      "Seed 2 | Epoch 050 | Loss: 0.6037 | Test Acc: 0.6278\n"
     ]
    },
    {
     "data": {
      "text/html": [],
      "text/plain": [
       "<IPython.core.display.HTML object>"
      ]
     },
     "metadata": {},
     "output_type": "display_data"
    },
    {
     "data": {
      "text/html": [
       "<br>    <style><br>        .wandb-row {<br>            display: flex;<br>            flex-direction: row;<br>            flex-wrap: wrap;<br>            justify-content: flex-start;<br>            width: 100%;<br>        }<br>        .wandb-col {<br>            display: flex;<br>            flex-direction: column;<br>            flex-basis: 100%;<br>            flex: 1;<br>            padding: 10px;<br>        }<br>    </style><br><div class=\"wandb-row\"><div class=\"wandb-col\"><h3>Run history:</h3><br/><table class=\"wandb\"><tr><td>epoch</td><td>▁▁▁▁▂▂▂▂▂▂▃▃▃▃▃▄▄▄▄▄▄▅▅▅▅▅▅▆▆▆▆▆▆▇▇▇▇███</td></tr><tr><td>loss</td><td>█▇▇▆▆▅▄▃▃▃▂▂▂▂▂▂▂▂▂▂▂▁▁▁▂▂▁▁▁▁▁▂▁▁▁▁▁▁▁▁</td></tr><tr><td>test_acc</td><td>▁▁▁▂▃▄▆▇█▇█▆▆▇▇▇▆▇▇▇▇▆▆▇▆▇▆▇▇▆█▆▆▆▆▆██▇▆</td></tr><tr><td>train_acc</td><td>▁▁▁▂▃▄▇▇▆▇▇▇▇▇▇██▇█▇▇▇▇▇▇▇▇▇██▇▆▇▇▇█▆██▇</td></tr></table><br/></div><div class=\"wandb-col\"><h3>Run summary:</h3><br/><table class=\"wandb\"><tr><td>epoch</td><td>50</td></tr><tr><td>loss</td><td>0.60373</td></tr><tr><td>test_acc</td><td>0.6278</td></tr><tr><td>train_acc</td><td>0.71011</td></tr></table><br/></div></div>"
      ],
      "text/plain": [
       "<IPython.core.display.HTML object>"
      ]
     },
     "metadata": {},
     "output_type": "display_data"
    },
    {
     "data": {
      "text/html": [
       " View run <strong style=\"color:#cdcd00\">GCN_baseline_seed_2</strong> at: <a href='https://wandb.ai/noynetanel1-tel-aviv-university/GCN%20Graph%20classification%28Protein%29_Gal/runs/h1c4xevy' target=\"_blank\">https://wandb.ai/noynetanel1-tel-aviv-university/GCN%20Graph%20classification%28Protein%29_Gal/runs/h1c4xevy</a><br> View project at: <a href='https://wandb.ai/noynetanel1-tel-aviv-university/GCN%20Graph%20classification%28Protein%29_Gal' target=\"_blank\">https://wandb.ai/noynetanel1-tel-aviv-university/GCN%20Graph%20classification%28Protein%29_Gal</a><br>Synced 5 W&B file(s), 0 media file(s), 0 artifact file(s) and 0 other file(s)"
      ],
      "text/plain": [
       "<IPython.core.display.HTML object>"
      ]
     },
     "metadata": {},
     "output_type": "display_data"
    },
    {
     "data": {
      "text/html": [
       "Find logs at: <code>./wandb/run-20250820_142724-h1c4xevy/logs</code>"
      ],
      "text/plain": [
       "<IPython.core.display.HTML object>"
      ]
     },
     "metadata": {},
     "output_type": "display_data"
    },
    {
     "data": {
      "text/html": [
       "Tracking run with wandb version 0.20.1"
      ],
      "text/plain": [
       "<IPython.core.display.HTML object>"
      ]
     },
     "metadata": {},
     "output_type": "display_data"
    },
    {
     "data": {
      "text/html": [
       "Run data is saved locally in <code>/kaggle/working/wandb/run-20250820_142759-ue6s8vou</code>"
      ],
      "text/plain": [
       "<IPython.core.display.HTML object>"
      ]
     },
     "metadata": {},
     "output_type": "display_data"
    },
    {
     "data": {
      "text/html": [
       "Syncing run <strong><a href='https://wandb.ai/noynetanel1-tel-aviv-university/GCN%20Graph%20classification%28Protein%29_Gal/runs/ue6s8vou' target=\"_blank\">GCN_baseline_seed_3</a></strong> to <a href='https://wandb.ai/noynetanel1-tel-aviv-university/GCN%20Graph%20classification%28Protein%29_Gal' target=\"_blank\">Weights & Biases</a> (<a href='https://wandb.me/developer-guide' target=\"_blank\">docs</a>)<br>"
      ],
      "text/plain": [
       "<IPython.core.display.HTML object>"
      ]
     },
     "metadata": {},
     "output_type": "display_data"
    },
    {
     "data": {
      "text/html": [
       " View project at <a href='https://wandb.ai/noynetanel1-tel-aviv-university/GCN%20Graph%20classification%28Protein%29_Gal' target=\"_blank\">https://wandb.ai/noynetanel1-tel-aviv-university/GCN%20Graph%20classification%28Protein%29_Gal</a>"
      ],
      "text/plain": [
       "<IPython.core.display.HTML object>"
      ]
     },
     "metadata": {},
     "output_type": "display_data"
    },
    {
     "data": {
      "text/html": [
       " View run at <a href='https://wandb.ai/noynetanel1-tel-aviv-university/GCN%20Graph%20classification%28Protein%29_Gal/runs/ue6s8vou' target=\"_blank\">https://wandb.ai/noynetanel1-tel-aviv-university/GCN%20Graph%20classification%28Protein%29_Gal/runs/ue6s8vou</a>"
      ],
      "text/plain": [
       "<IPython.core.display.HTML object>"
      ]
     },
     "metadata": {},
     "output_type": "display_data"
    },
    {
     "name": "stdout",
     "output_type": "stream",
     "text": [
      "Seed 3 | Epoch 001 | Loss: 0.6750 | Test Acc: 0.5919\n",
      "Seed 3 | Epoch 002 | Loss: 0.6680 | Test Acc: 0.5919\n",
      "Seed 3 | Epoch 003 | Loss: 0.6631 | Test Acc: 0.6054\n",
      "Seed 3 | Epoch 004 | Loss: 0.6575 | Test Acc: 0.6099\n",
      "Seed 3 | Epoch 005 | Loss: 0.6537 | Test Acc: 0.6457\n",
      "Seed 3 | Epoch 006 | Loss: 0.6490 | Test Acc: 0.6099\n",
      "Seed 3 | Epoch 007 | Loss: 0.6413 | Test Acc: 0.6233\n",
      "Seed 3 | Epoch 008 | Loss: 0.6383 | Test Acc: 0.6278\n",
      "Seed 3 | Epoch 009 | Loss: 0.6357 | Test Acc: 0.6951\n",
      "Seed 3 | Epoch 010 | Loss: 0.6358 | Test Acc: 0.6726\n",
      "Seed 3 | Epoch 011 | Loss: 0.6366 | Test Acc: 0.6951\n",
      "Seed 3 | Epoch 012 | Loss: 0.6257 | Test Acc: 0.6906\n",
      "Seed 3 | Epoch 013 | Loss: 0.6251 | Test Acc: 0.6906\n",
      "Seed 3 | Epoch 014 | Loss: 0.6235 | Test Acc: 0.7220\n",
      "Seed 3 | Epoch 015 | Loss: 0.6229 | Test Acc: 0.7130\n",
      "Seed 3 | Epoch 016 | Loss: 0.6227 | Test Acc: 0.7130\n",
      "Seed 3 | Epoch 017 | Loss: 0.6210 | Test Acc: 0.6637\n",
      "Seed 3 | Epoch 018 | Loss: 0.6215 | Test Acc: 0.6996\n",
      "Seed 3 | Epoch 019 | Loss: 0.6173 | Test Acc: 0.7220\n",
      "Seed 3 | Epoch 020 | Loss: 0.6172 | Test Acc: 0.7130\n",
      "Seed 3 | Epoch 021 | Loss: 0.6181 | Test Acc: 0.7040\n",
      "Seed 3 | Epoch 022 | Loss: 0.6156 | Test Acc: 0.7175\n",
      "Seed 3 | Epoch 023 | Loss: 0.6147 | Test Acc: 0.7220\n",
      "Seed 3 | Epoch 024 | Loss: 0.6148 | Test Acc: 0.6861\n",
      "Seed 3 | Epoch 025 | Loss: 0.6160 | Test Acc: 0.7175\n",
      "Seed 3 | Epoch 026 | Loss: 0.6156 | Test Acc: 0.7130\n",
      "Seed 3 | Epoch 027 | Loss: 0.6203 | Test Acc: 0.7175\n",
      "Seed 3 | Epoch 028 | Loss: 0.6137 | Test Acc: 0.6996\n",
      "Seed 3 | Epoch 029 | Loss: 0.6142 | Test Acc: 0.7220\n",
      "Seed 3 | Epoch 030 | Loss: 0.6123 | Test Acc: 0.7175\n",
      "Seed 3 | Epoch 031 | Loss: 0.6130 | Test Acc: 0.7130\n",
      "Seed 3 | Epoch 032 | Loss: 0.6121 | Test Acc: 0.7130\n",
      "Seed 3 | Epoch 033 | Loss: 0.6107 | Test Acc: 0.7265\n",
      "Seed 3 | Epoch 034 | Loss: 0.6145 | Test Acc: 0.6726\n",
      "Seed 3 | Epoch 035 | Loss: 0.6149 | Test Acc: 0.7175\n",
      "Seed 3 | Epoch 036 | Loss: 0.6105 | Test Acc: 0.7040\n",
      "Seed 3 | Epoch 037 | Loss: 0.6167 | Test Acc: 0.7175\n",
      "Seed 3 | Epoch 038 | Loss: 0.6208 | Test Acc: 0.7175\n",
      "Seed 3 | Epoch 039 | Loss: 0.6136 | Test Acc: 0.7085\n",
      "Seed 3 | Epoch 040 | Loss: 0.6099 | Test Acc: 0.6771\n",
      "Seed 3 | Epoch 041 | Loss: 0.6133 | Test Acc: 0.6906\n",
      "Seed 3 | Epoch 042 | Loss: 0.6097 | Test Acc: 0.7175\n",
      "Seed 3 | Epoch 043 | Loss: 0.6129 | Test Acc: 0.6906\n",
      "Seed 3 | Epoch 044 | Loss: 0.6163 | Test Acc: 0.7309\n",
      "Seed 3 | Epoch 045 | Loss: 0.6169 | Test Acc: 0.6996\n",
      "Seed 3 | Epoch 046 | Loss: 0.6093 | Test Acc: 0.7085\n",
      "Seed 3 | Epoch 047 | Loss: 0.6080 | Test Acc: 0.7265\n",
      "Seed 3 | Epoch 048 | Loss: 0.6097 | Test Acc: 0.6951\n",
      "Seed 3 | Epoch 049 | Loss: 0.6088 | Test Acc: 0.7175\n",
      "Seed 3 | Epoch 050 | Loss: 0.6073 | Test Acc: 0.6996\n"
     ]
    },
    {
     "data": {
      "text/html": [],
      "text/plain": [
       "<IPython.core.display.HTML object>"
      ]
     },
     "metadata": {},
     "output_type": "display_data"
    },
    {
     "data": {
      "text/html": [
       "<br>    <style><br>        .wandb-row {<br>            display: flex;<br>            flex-direction: row;<br>            flex-wrap: wrap;<br>            justify-content: flex-start;<br>            width: 100%;<br>        }<br>        .wandb-col {<br>            display: flex;<br>            flex-direction: column;<br>            flex-basis: 100%;<br>            flex: 1;<br>            padding: 10px;<br>        }<br>    </style><br><div class=\"wandb-row\"><div class=\"wandb-col\"><h3>Run history:</h3><br/><table class=\"wandb\"><tr><td>epoch</td><td>▁▁▁▂▂▂▂▂▃▃▃▃▃▃▄▄▄▄▄▄▅▅▅▅▅▆▆▆▆▆▆▇▇▇▇▇▇███</td></tr><tr><td>loss</td><td>█▇▇▆▆▅▄▄▄▄▃▃▃▃▂▂▂▂▂▂▂▂▂▂▂▁▂▂▁▂▂▁▂▁▂▂▁▁▁▁</td></tr><tr><td>test_acc</td><td>▁▁▂▂▄▃▃▆▅▆▆▇▇▅▇▇▇██▆▇█▇██▇█▅█▇█▇▅▆█▇▇█▆▇</td></tr><tr><td>train_acc</td><td>▁▁▃▃▅▄▄▇▅▆▇▇▇▇▇▇▇▇▇▇▇▇▇▇██▆▇▇▇█▆▇█▇▇▇█▇▇</td></tr></table><br/></div><div class=\"wandb-col\"><h3>Run summary:</h3><br/><table class=\"wandb\"><tr><td>epoch</td><td>50</td></tr><tr><td>loss</td><td>0.60734</td></tr><tr><td>test_acc</td><td>0.69955</td></tr><tr><td>train_acc</td><td>0.69101</td></tr></table><br/></div></div>"
      ],
      "text/plain": [
       "<IPython.core.display.HTML object>"
      ]
     },
     "metadata": {},
     "output_type": "display_data"
    },
    {
     "data": {
      "text/html": [
       " View run <strong style=\"color:#cdcd00\">GCN_baseline_seed_3</strong> at: <a href='https://wandb.ai/noynetanel1-tel-aviv-university/GCN%20Graph%20classification%28Protein%29_Gal/runs/ue6s8vou' target=\"_blank\">https://wandb.ai/noynetanel1-tel-aviv-university/GCN%20Graph%20classification%28Protein%29_Gal/runs/ue6s8vou</a><br> View project at: <a href='https://wandb.ai/noynetanel1-tel-aviv-university/GCN%20Graph%20classification%28Protein%29_Gal' target=\"_blank\">https://wandb.ai/noynetanel1-tel-aviv-university/GCN%20Graph%20classification%28Protein%29_Gal</a><br>Synced 5 W&B file(s), 0 media file(s), 0 artifact file(s) and 0 other file(s)"
      ],
      "text/plain": [
       "<IPython.core.display.HTML object>"
      ]
     },
     "metadata": {},
     "output_type": "display_data"
    },
    {
     "data": {
      "text/html": [
       "Find logs at: <code>./wandb/run-20250820_142759-ue6s8vou/logs</code>"
      ],
      "text/plain": [
       "<IPython.core.display.HTML object>"
      ]
     },
     "metadata": {},
     "output_type": "display_data"
    },
    {
     "data": {
      "text/html": [
       "Tracking run with wandb version 0.20.1"
      ],
      "text/plain": [
       "<IPython.core.display.HTML object>"
      ]
     },
     "metadata": {},
     "output_type": "display_data"
    },
    {
     "data": {
      "text/html": [
       "Run data is saved locally in <code>/kaggle/working/wandb/run-20250820_142831-286pdong</code>"
      ],
      "text/plain": [
       "<IPython.core.display.HTML object>"
      ]
     },
     "metadata": {},
     "output_type": "display_data"
    },
    {
     "data": {
      "text/html": [
       "Syncing run <strong><a href='https://wandb.ai/noynetanel1-tel-aviv-university/GCN%20Graph%20classification%28Protein%29_Gal/runs/286pdong' target=\"_blank\">GCN_baseline_seed_4</a></strong> to <a href='https://wandb.ai/noynetanel1-tel-aviv-university/GCN%20Graph%20classification%28Protein%29_Gal' target=\"_blank\">Weights & Biases</a> (<a href='https://wandb.me/developer-guide' target=\"_blank\">docs</a>)<br>"
      ],
      "text/plain": [
       "<IPython.core.display.HTML object>"
      ]
     },
     "metadata": {},
     "output_type": "display_data"
    },
    {
     "data": {
      "text/html": [
       " View project at <a href='https://wandb.ai/noynetanel1-tel-aviv-university/GCN%20Graph%20classification%28Protein%29_Gal' target=\"_blank\">https://wandb.ai/noynetanel1-tel-aviv-university/GCN%20Graph%20classification%28Protein%29_Gal</a>"
      ],
      "text/plain": [
       "<IPython.core.display.HTML object>"
      ]
     },
     "metadata": {},
     "output_type": "display_data"
    },
    {
     "data": {
      "text/html": [
       " View run at <a href='https://wandb.ai/noynetanel1-tel-aviv-university/GCN%20Graph%20classification%28Protein%29_Gal/runs/286pdong' target=\"_blank\">https://wandb.ai/noynetanel1-tel-aviv-university/GCN%20Graph%20classification%28Protein%29_Gal/runs/286pdong</a>"
      ],
      "text/plain": [
       "<IPython.core.display.HTML object>"
      ]
     },
     "metadata": {},
     "output_type": "display_data"
    },
    {
     "name": "stdout",
     "output_type": "stream",
     "text": [
      "Seed 4 | Epoch 001 | Loss: 0.6807 | Test Acc: 0.6278\n",
      "Seed 4 | Epoch 002 | Loss: 0.6711 | Test Acc: 0.6592\n",
      "Seed 4 | Epoch 003 | Loss: 0.6675 | Test Acc: 0.6682\n",
      "Seed 4 | Epoch 004 | Loss: 0.6619 | Test Acc: 0.6771\n",
      "Seed 4 | Epoch 005 | Loss: 0.6580 | Test Acc: 0.6726\n",
      "Seed 4 | Epoch 006 | Loss: 0.6546 | Test Acc: 0.6951\n",
      "Seed 4 | Epoch 007 | Loss: 0.6500 | Test Acc: 0.6771\n",
      "Seed 4 | Epoch 008 | Loss: 0.6450 | Test Acc: 0.6771\n",
      "Seed 4 | Epoch 009 | Loss: 0.6446 | Test Acc: 0.6682\n",
      "Seed 4 | Epoch 010 | Loss: 0.6390 | Test Acc: 0.7085\n",
      "Seed 4 | Epoch 011 | Loss: 0.6395 | Test Acc: 0.7130\n",
      "Seed 4 | Epoch 012 | Loss: 0.6415 | Test Acc: 0.7265\n",
      "Seed 4 | Epoch 013 | Loss: 0.6350 | Test Acc: 0.7399\n",
      "Seed 4 | Epoch 014 | Loss: 0.6361 | Test Acc: 0.7040\n",
      "Seed 4 | Epoch 015 | Loss: 0.6314 | Test Acc: 0.7309\n",
      "Seed 4 | Epoch 016 | Loss: 0.6329 | Test Acc: 0.7220\n",
      "Seed 4 | Epoch 017 | Loss: 0.6311 | Test Acc: 0.7399\n",
      "Seed 4 | Epoch 018 | Loss: 0.6296 | Test Acc: 0.7265\n",
      "Seed 4 | Epoch 019 | Loss: 0.6311 | Test Acc: 0.7354\n",
      "Seed 4 | Epoch 020 | Loss: 0.6279 | Test Acc: 0.7309\n",
      "Seed 4 | Epoch 021 | Loss: 0.6243 | Test Acc: 0.7130\n",
      "Seed 4 | Epoch 022 | Loss: 0.6242 | Test Acc: 0.7309\n",
      "Seed 4 | Epoch 023 | Loss: 0.6267 | Test Acc: 0.7399\n",
      "Seed 4 | Epoch 024 | Loss: 0.6257 | Test Acc: 0.7130\n",
      "Seed 4 | Epoch 025 | Loss: 0.6275 | Test Acc: 0.7265\n",
      "Seed 4 | Epoch 026 | Loss: 0.6242 | Test Acc: 0.7265\n",
      "Seed 4 | Epoch 027 | Loss: 0.6220 | Test Acc: 0.7175\n",
      "Seed 4 | Epoch 028 | Loss: 0.6223 | Test Acc: 0.7265\n",
      "Seed 4 | Epoch 029 | Loss: 0.6255 | Test Acc: 0.7265\n",
      "Seed 4 | Epoch 030 | Loss: 0.6257 | Test Acc: 0.7309\n",
      "Seed 4 | Epoch 031 | Loss: 0.6216 | Test Acc: 0.7265\n",
      "Seed 4 | Epoch 032 | Loss: 0.6231 | Test Acc: 0.7220\n",
      "Seed 4 | Epoch 033 | Loss: 0.6240 | Test Acc: 0.6861\n",
      "Seed 4 | Epoch 034 | Loss: 0.6220 | Test Acc: 0.7130\n",
      "Seed 4 | Epoch 035 | Loss: 0.6211 | Test Acc: 0.7220\n",
      "Seed 4 | Epoch 036 | Loss: 0.6193 | Test Acc: 0.7354\n",
      "Seed 4 | Epoch 037 | Loss: 0.6187 | Test Acc: 0.7354\n",
      "Seed 4 | Epoch 038 | Loss: 0.6195 | Test Acc: 0.7399\n",
      "Seed 4 | Epoch 039 | Loss: 0.6176 | Test Acc: 0.7265\n",
      "Seed 4 | Epoch 040 | Loss: 0.6189 | Test Acc: 0.7309\n",
      "Seed 4 | Epoch 041 | Loss: 0.6187 | Test Acc: 0.7309\n",
      "Seed 4 | Epoch 042 | Loss: 0.6182 | Test Acc: 0.7040\n",
      "Seed 4 | Epoch 043 | Loss: 0.6181 | Test Acc: 0.7309\n",
      "Seed 4 | Epoch 044 | Loss: 0.6261 | Test Acc: 0.7534\n",
      "Seed 4 | Epoch 045 | Loss: 0.6212 | Test Acc: 0.7175\n",
      "Seed 4 | Epoch 046 | Loss: 0.6168 | Test Acc: 0.7130\n",
      "Seed 4 | Epoch 047 | Loss: 0.6164 | Test Acc: 0.7265\n",
      "Seed 4 | Epoch 048 | Loss: 0.6184 | Test Acc: 0.7130\n",
      "Seed 4 | Epoch 049 | Loss: 0.6159 | Test Acc: 0.7354\n",
      "Seed 4 | Epoch 050 | Loss: 0.6168 | Test Acc: 0.7265\n"
     ]
    },
    {
     "data": {
      "text/html": [],
      "text/plain": [
       "<IPython.core.display.HTML object>"
      ]
     },
     "metadata": {},
     "output_type": "display_data"
    },
    {
     "data": {
      "text/html": [
       "<br>    <style><br>        .wandb-row {<br>            display: flex;<br>            flex-direction: row;<br>            flex-wrap: wrap;<br>            justify-content: flex-start;<br>            width: 100%;<br>        }<br>        .wandb-col {<br>            display: flex;<br>            flex-direction: column;<br>            flex-basis: 100%;<br>            flex: 1;<br>            padding: 10px;<br>        }<br>    </style><br><div class=\"wandb-row\"><div class=\"wandb-col\"><h3>Run history:</h3><br/><table class=\"wandb\"><tr><td>epoch</td><td>▁▁▁▁▂▂▂▂▂▂▃▃▃▃▃▄▄▄▄▄▅▅▅▅▅▅▆▆▆▆▆▆▇▇▇▇▇▇██</td></tr><tr><td>loss</td><td>█▇▇▆▆▅▄▄▃▄▃▃▃▃▂▂▂▂▂▂▂▂▂▂▂▂▂▂▁▁▁▁▁▁▁▂▁▁▁▁</td></tr><tr><td>test_acc</td><td>▁▃▃▄▄▄▄▃▅▆▇▅▇▆▇▇▇▆▇▇▇▇▆▇▇▇▆▄▆▆▇▇▇▇▅█▆▆▇▇</td></tr><tr><td>train_acc</td><td>▁▃▄▃▄▃▃▃▆▆▆▆▆▆▆▇▇▇▆▆▇▇▇▇▆▇▇▆▇▇▇▇▇▇▇█▇█▇▇</td></tr></table><br/></div><div class=\"wandb-col\"><h3>Run summary:</h3><br/><table class=\"wandb\"><tr><td>epoch</td><td>50</td></tr><tr><td>loss</td><td>0.61682</td></tr><tr><td>test_acc</td><td>0.72646</td></tr><tr><td>train_acc</td><td>0.67978</td></tr></table><br/></div></div>"
      ],
      "text/plain": [
       "<IPython.core.display.HTML object>"
      ]
     },
     "metadata": {},
     "output_type": "display_data"
    },
    {
     "data": {
      "text/html": [
       " View run <strong style=\"color:#cdcd00\">GCN_baseline_seed_4</strong> at: <a href='https://wandb.ai/noynetanel1-tel-aviv-university/GCN%20Graph%20classification%28Protein%29_Gal/runs/286pdong' target=\"_blank\">https://wandb.ai/noynetanel1-tel-aviv-university/GCN%20Graph%20classification%28Protein%29_Gal/runs/286pdong</a><br> View project at: <a href='https://wandb.ai/noynetanel1-tel-aviv-university/GCN%20Graph%20classification%28Protein%29_Gal' target=\"_blank\">https://wandb.ai/noynetanel1-tel-aviv-university/GCN%20Graph%20classification%28Protein%29_Gal</a><br>Synced 5 W&B file(s), 0 media file(s), 0 artifact file(s) and 0 other file(s)"
      ],
      "text/plain": [
       "<IPython.core.display.HTML object>"
      ]
     },
     "metadata": {},
     "output_type": "display_data"
    },
    {
     "data": {
      "text/html": [
       "Find logs at: <code>./wandb/run-20250820_142831-286pdong/logs</code>"
      ],
      "text/plain": [
       "<IPython.core.display.HTML object>"
      ]
     },
     "metadata": {},
     "output_type": "display_data"
    },
    {
     "data": {
      "text/html": [
       "Tracking run with wandb version 0.20.1"
      ],
      "text/plain": [
       "<IPython.core.display.HTML object>"
      ]
     },
     "metadata": {},
     "output_type": "display_data"
    },
    {
     "data": {
      "text/html": [
       "Run data is saved locally in <code>/kaggle/working/wandb/run-20250820_142904-uwbwzom0</code>"
      ],
      "text/plain": [
       "<IPython.core.display.HTML object>"
      ]
     },
     "metadata": {},
     "output_type": "display_data"
    },
    {
     "data": {
      "text/html": [
       "Syncing run <strong><a href='https://wandb.ai/noynetanel1-tel-aviv-university/GCN%20Graph%20classification%28Protein%29_Gal/runs/uwbwzom0' target=\"_blank\">GCN_baseline_seed_5</a></strong> to <a href='https://wandb.ai/noynetanel1-tel-aviv-university/GCN%20Graph%20classification%28Protein%29_Gal' target=\"_blank\">Weights & Biases</a> (<a href='https://wandb.me/developer-guide' target=\"_blank\">docs</a>)<br>"
      ],
      "text/plain": [
       "<IPython.core.display.HTML object>"
      ]
     },
     "metadata": {},
     "output_type": "display_data"
    },
    {
     "data": {
      "text/html": [
       " View project at <a href='https://wandb.ai/noynetanel1-tel-aviv-university/GCN%20Graph%20classification%28Protein%29_Gal' target=\"_blank\">https://wandb.ai/noynetanel1-tel-aviv-university/GCN%20Graph%20classification%28Protein%29_Gal</a>"
      ],
      "text/plain": [
       "<IPython.core.display.HTML object>"
      ]
     },
     "metadata": {},
     "output_type": "display_data"
    },
    {
     "data": {
      "text/html": [
       " View run at <a href='https://wandb.ai/noynetanel1-tel-aviv-university/GCN%20Graph%20classification%28Protein%29_Gal/runs/uwbwzom0' target=\"_blank\">https://wandb.ai/noynetanel1-tel-aviv-university/GCN%20Graph%20classification%28Protein%29_Gal/runs/uwbwzom0</a>"
      ],
      "text/plain": [
       "<IPython.core.display.HTML object>"
      ]
     },
     "metadata": {},
     "output_type": "display_data"
    },
    {
     "name": "stdout",
     "output_type": "stream",
     "text": [
      "Seed 5 | Epoch 001 | Loss: 0.6792 | Test Acc: 0.6099\n",
      "Seed 5 | Epoch 002 | Loss: 0.6729 | Test Acc: 0.6099\n",
      "Seed 5 | Epoch 003 | Loss: 0.6691 | Test Acc: 0.6099\n",
      "Seed 5 | Epoch 004 | Loss: 0.6650 | Test Acc: 0.6323\n",
      "Seed 5 | Epoch 005 | Loss: 0.6604 | Test Acc: 0.6413\n",
      "Seed 5 | Epoch 006 | Loss: 0.6536 | Test Acc: 0.6457\n",
      "Seed 5 | Epoch 007 | Loss: 0.6479 | Test Acc: 0.6457\n",
      "Seed 5 | Epoch 008 | Loss: 0.6428 | Test Acc: 0.6906\n",
      "Seed 5 | Epoch 009 | Loss: 0.6375 | Test Acc: 0.6726\n",
      "Seed 5 | Epoch 010 | Loss: 0.6351 | Test Acc: 0.6637\n",
      "Seed 5 | Epoch 011 | Loss: 0.6351 | Test Acc: 0.6726\n",
      "Seed 5 | Epoch 012 | Loss: 0.6278 | Test Acc: 0.6816\n",
      "Seed 5 | Epoch 013 | Loss: 0.6296 | Test Acc: 0.6906\n",
      "Seed 5 | Epoch 014 | Loss: 0.6290 | Test Acc: 0.6951\n",
      "Seed 5 | Epoch 015 | Loss: 0.6249 | Test Acc: 0.6816\n",
      "Seed 5 | Epoch 016 | Loss: 0.6247 | Test Acc: 0.6861\n",
      "Seed 5 | Epoch 017 | Loss: 0.6264 | Test Acc: 0.6816\n",
      "Seed 5 | Epoch 018 | Loss: 0.6238 | Test Acc: 0.6906\n",
      "Seed 5 | Epoch 019 | Loss: 0.6270 | Test Acc: 0.6906\n",
      "Seed 5 | Epoch 020 | Loss: 0.6214 | Test Acc: 0.6906\n",
      "Seed 5 | Epoch 021 | Loss: 0.6218 | Test Acc: 0.6906\n",
      "Seed 5 | Epoch 022 | Loss: 0.6215 | Test Acc: 0.6816\n",
      "Seed 5 | Epoch 023 | Loss: 0.6214 | Test Acc: 0.6951\n",
      "Seed 5 | Epoch 024 | Loss: 0.6202 | Test Acc: 0.6906\n",
      "Seed 5 | Epoch 025 | Loss: 0.6234 | Test Acc: 0.6906\n",
      "Seed 5 | Epoch 026 | Loss: 0.6211 | Test Acc: 0.6861\n",
      "Seed 5 | Epoch 027 | Loss: 0.6223 | Test Acc: 0.6861\n",
      "Seed 5 | Epoch 028 | Loss: 0.6185 | Test Acc: 0.6951\n",
      "Seed 5 | Epoch 029 | Loss: 0.6212 | Test Acc: 0.6996\n",
      "Seed 5 | Epoch 030 | Loss: 0.6299 | Test Acc: 0.6816\n",
      "Seed 5 | Epoch 031 | Loss: 0.6187 | Test Acc: 0.6951\n",
      "Seed 5 | Epoch 032 | Loss: 0.6220 | Test Acc: 0.6906\n",
      "Seed 5 | Epoch 033 | Loss: 0.6166 | Test Acc: 0.6906\n",
      "Seed 5 | Epoch 034 | Loss: 0.6184 | Test Acc: 0.6996\n",
      "Seed 5 | Epoch 035 | Loss: 0.6184 | Test Acc: 0.6816\n",
      "Seed 5 | Epoch 036 | Loss: 0.6304 | Test Acc: 0.6906\n",
      "Seed 5 | Epoch 037 | Loss: 0.6232 | Test Acc: 0.6996\n",
      "Seed 5 | Epoch 038 | Loss: 0.6183 | Test Acc: 0.7040\n",
      "Seed 5 | Epoch 039 | Loss: 0.6199 | Test Acc: 0.7040\n",
      "Seed 5 | Epoch 040 | Loss: 0.6220 | Test Acc: 0.6951\n",
      "Seed 5 | Epoch 041 | Loss: 0.6193 | Test Acc: 0.6861\n",
      "Seed 5 | Epoch 042 | Loss: 0.6198 | Test Acc: 0.6906\n",
      "Seed 5 | Epoch 043 | Loss: 0.6201 | Test Acc: 0.6951\n",
      "Seed 5 | Epoch 044 | Loss: 0.6182 | Test Acc: 0.6951\n",
      "Seed 5 | Epoch 045 | Loss: 0.6179 | Test Acc: 0.6906\n",
      "Seed 5 | Epoch 046 | Loss: 0.6171 | Test Acc: 0.6951\n",
      "Seed 5 | Epoch 047 | Loss: 0.6198 | Test Acc: 0.7040\n",
      "Seed 5 | Epoch 048 | Loss: 0.6215 | Test Acc: 0.6996\n",
      "Seed 5 | Epoch 049 | Loss: 0.6243 | Test Acc: 0.6816\n",
      "Seed 5 | Epoch 050 | Loss: 0.6256 | Test Acc: 0.6861\n"
     ]
    },
    {
     "data": {
      "text/html": [],
      "text/plain": [
       "<IPython.core.display.HTML object>"
      ]
     },
     "metadata": {},
     "output_type": "display_data"
    },
    {
     "data": {
      "text/html": [
       "<br>    <style><br>        .wandb-row {<br>            display: flex;<br>            flex-direction: row;<br>            flex-wrap: wrap;<br>            justify-content: flex-start;<br>            width: 100%;<br>        }<br>        .wandb-col {<br>            display: flex;<br>            flex-direction: column;<br>            flex-basis: 100%;<br>            flex: 1;<br>            padding: 10px;<br>        }<br>    </style><br><div class=\"wandb-row\"><div class=\"wandb-col\"><h3>Run history:</h3><br/><table class=\"wandb\"><tr><td>epoch</td><td>▁▁▁▂▂▂▂▂▂▃▃▃▃▃▃▄▄▄▄▄▅▅▅▅▅▆▆▆▆▆▆▇▇▇▇▇▇███</td></tr><tr><td>loss</td><td>█▇▇▆▆▅▄▃▃▃▂▂▂▂▂▂▂▂▂▂▂▂▂▁▁▁▁▁▃▂▁▂▁▁▁▁▁▁▂▂</td></tr><tr><td>test_acc</td><td>▁▁▁▃▃▄▇▆▅▆▇▇▆▇▇▇▇▆▇▇▇▇▇█▆▇█▆▇██▇▇▇▇▇▇██▇</td></tr><tr><td>train_acc</td><td>▁▁▁▂▃▃▇▆▅▆▇▇▇▇▇▇▇▇▇▇▇▇▇▇▇█▇▇▆▇▇▇▇▆▇▇▇█▇▇</td></tr></table><br/></div><div class=\"wandb-col\"><h3>Run summary:</h3><br/><table class=\"wandb\"><tr><td>epoch</td><td>50</td></tr><tr><td>loss</td><td>0.62555</td></tr><tr><td>test_acc</td><td>0.6861</td></tr><tr><td>train_acc</td><td>0.68989</td></tr></table><br/></div></div>"
      ],
      "text/plain": [
       "<IPython.core.display.HTML object>"
      ]
     },
     "metadata": {},
     "output_type": "display_data"
    },
    {
     "data": {
      "text/html": [
       " View run <strong style=\"color:#cdcd00\">GCN_baseline_seed_5</strong> at: <a href='https://wandb.ai/noynetanel1-tel-aviv-university/GCN%20Graph%20classification%28Protein%29_Gal/runs/uwbwzom0' target=\"_blank\">https://wandb.ai/noynetanel1-tel-aviv-university/GCN%20Graph%20classification%28Protein%29_Gal/runs/uwbwzom0</a><br> View project at: <a href='https://wandb.ai/noynetanel1-tel-aviv-university/GCN%20Graph%20classification%28Protein%29_Gal' target=\"_blank\">https://wandb.ai/noynetanel1-tel-aviv-university/GCN%20Graph%20classification%28Protein%29_Gal</a><br>Synced 5 W&B file(s), 0 media file(s), 0 artifact file(s) and 0 other file(s)"
      ],
      "text/plain": [
       "<IPython.core.display.HTML object>"
      ]
     },
     "metadata": {},
     "output_type": "display_data"
    },
    {
     "data": {
      "text/html": [
       "Find logs at: <code>./wandb/run-20250820_142904-uwbwzom0/logs</code>"
      ],
      "text/plain": [
       "<IPython.core.display.HTML object>"
      ]
     },
     "metadata": {},
     "output_type": "display_data"
    },
    {
     "data": {
      "text/html": [
       "Tracking run with wandb version 0.20.1"
      ],
      "text/plain": [
       "<IPython.core.display.HTML object>"
      ]
     },
     "metadata": {},
     "output_type": "display_data"
    },
    {
     "data": {
      "text/html": [
       "Run data is saved locally in <code>/kaggle/working/wandb/run-20250820_142939-os3rep1c</code>"
      ],
      "text/plain": [
       "<IPython.core.display.HTML object>"
      ]
     },
     "metadata": {},
     "output_type": "display_data"
    },
    {
     "data": {
      "text/html": [
       "Syncing run <strong><a href='https://wandb.ai/noynetanel1-tel-aviv-university/GCN%20Graph%20classification%28Protein%29_Gal/runs/os3rep1c' target=\"_blank\">GCN_baseline_seed_6</a></strong> to <a href='https://wandb.ai/noynetanel1-tel-aviv-university/GCN%20Graph%20classification%28Protein%29_Gal' target=\"_blank\">Weights & Biases</a> (<a href='https://wandb.me/developer-guide' target=\"_blank\">docs</a>)<br>"
      ],
      "text/plain": [
       "<IPython.core.display.HTML object>"
      ]
     },
     "metadata": {},
     "output_type": "display_data"
    },
    {
     "data": {
      "text/html": [
       " View project at <a href='https://wandb.ai/noynetanel1-tel-aviv-university/GCN%20Graph%20classification%28Protein%29_Gal' target=\"_blank\">https://wandb.ai/noynetanel1-tel-aviv-university/GCN%20Graph%20classification%28Protein%29_Gal</a>"
      ],
      "text/plain": [
       "<IPython.core.display.HTML object>"
      ]
     },
     "metadata": {},
     "output_type": "display_data"
    },
    {
     "data": {
      "text/html": [
       " View run at <a href='https://wandb.ai/noynetanel1-tel-aviv-university/GCN%20Graph%20classification%28Protein%29_Gal/runs/os3rep1c' target=\"_blank\">https://wandb.ai/noynetanel1-tel-aviv-university/GCN%20Graph%20classification%28Protein%29_Gal/runs/os3rep1c</a>"
      ],
      "text/plain": [
       "<IPython.core.display.HTML object>"
      ]
     },
     "metadata": {},
     "output_type": "display_data"
    },
    {
     "name": "stdout",
     "output_type": "stream",
     "text": [
      "Seed 6 | Epoch 001 | Loss: 0.6809 | Test Acc: 0.6188\n",
      "Seed 6 | Epoch 002 | Loss: 0.6714 | Test Acc: 0.6278\n",
      "Seed 6 | Epoch 003 | Loss: 0.6659 | Test Acc: 0.6771\n",
      "Seed 6 | Epoch 004 | Loss: 0.6606 | Test Acc: 0.6726\n",
      "Seed 6 | Epoch 005 | Loss: 0.6568 | Test Acc: 0.6861\n",
      "Seed 6 | Epoch 006 | Loss: 0.6539 | Test Acc: 0.6771\n",
      "Seed 6 | Epoch 007 | Loss: 0.6481 | Test Acc: 0.6771\n",
      "Seed 6 | Epoch 008 | Loss: 0.6453 | Test Acc: 0.7220\n",
      "Seed 6 | Epoch 009 | Loss: 0.6401 | Test Acc: 0.7220\n",
      "Seed 6 | Epoch 010 | Loss: 0.6397 | Test Acc: 0.6996\n",
      "Seed 6 | Epoch 011 | Loss: 0.6368 | Test Acc: 0.7040\n",
      "Seed 6 | Epoch 012 | Loss: 0.6351 | Test Acc: 0.7040\n",
      "Seed 6 | Epoch 013 | Loss: 0.6366 | Test Acc: 0.7040\n",
      "Seed 6 | Epoch 014 | Loss: 0.6357 | Test Acc: 0.7085\n",
      "Seed 6 | Epoch 015 | Loss: 0.6344 | Test Acc: 0.7085\n",
      "Seed 6 | Epoch 016 | Loss: 0.6329 | Test Acc: 0.7175\n",
      "Seed 6 | Epoch 017 | Loss: 0.6310 | Test Acc: 0.6951\n",
      "Seed 6 | Epoch 018 | Loss: 0.6344 | Test Acc: 0.7085\n",
      "Seed 6 | Epoch 019 | Loss: 0.6272 | Test Acc: 0.7175\n",
      "Seed 6 | Epoch 020 | Loss: 0.6273 | Test Acc: 0.7130\n",
      "Seed 6 | Epoch 021 | Loss: 0.6260 | Test Acc: 0.7130\n",
      "Seed 6 | Epoch 022 | Loss: 0.6265 | Test Acc: 0.6906\n",
      "Seed 6 | Epoch 023 | Loss: 0.6274 | Test Acc: 0.7040\n",
      "Seed 6 | Epoch 024 | Loss: 0.6244 | Test Acc: 0.7085\n",
      "Seed 6 | Epoch 025 | Loss: 0.6275 | Test Acc: 0.7265\n",
      "Seed 6 | Epoch 026 | Loss: 0.6249 | Test Acc: 0.7040\n",
      "Seed 6 | Epoch 027 | Loss: 0.6221 | Test Acc: 0.7175\n",
      "Seed 6 | Epoch 028 | Loss: 0.6237 | Test Acc: 0.7130\n",
      "Seed 6 | Epoch 029 | Loss: 0.6220 | Test Acc: 0.7130\n",
      "Seed 6 | Epoch 030 | Loss: 0.6273 | Test Acc: 0.6726\n",
      "Seed 6 | Epoch 031 | Loss: 0.6240 | Test Acc: 0.7085\n",
      "Seed 6 | Epoch 032 | Loss: 0.6218 | Test Acc: 0.7130\n",
      "Seed 6 | Epoch 033 | Loss: 0.6214 | Test Acc: 0.7175\n",
      "Seed 6 | Epoch 034 | Loss: 0.6227 | Test Acc: 0.7040\n",
      "Seed 6 | Epoch 035 | Loss: 0.6263 | Test Acc: 0.7220\n",
      "Seed 6 | Epoch 036 | Loss: 0.6200 | Test Acc: 0.7175\n",
      "Seed 6 | Epoch 037 | Loss: 0.6201 | Test Acc: 0.7130\n",
      "Seed 6 | Epoch 038 | Loss: 0.6208 | Test Acc: 0.7085\n",
      "Seed 6 | Epoch 039 | Loss: 0.6184 | Test Acc: 0.7085\n",
      "Seed 6 | Epoch 040 | Loss: 0.6208 | Test Acc: 0.6996\n",
      "Seed 6 | Epoch 041 | Loss: 0.6199 | Test Acc: 0.7265\n",
      "Seed 6 | Epoch 042 | Loss: 0.6195 | Test Acc: 0.7085\n",
      "Seed 6 | Epoch 043 | Loss: 0.6195 | Test Acc: 0.6637\n",
      "Seed 6 | Epoch 044 | Loss: 0.6211 | Test Acc: 0.7085\n",
      "Seed 6 | Epoch 045 | Loss: 0.6198 | Test Acc: 0.7040\n",
      "Seed 6 | Epoch 046 | Loss: 0.6187 | Test Acc: 0.7175\n",
      "Seed 6 | Epoch 047 | Loss: 0.6189 | Test Acc: 0.7085\n",
      "Seed 6 | Epoch 048 | Loss: 0.6181 | Test Acc: 0.7085\n",
      "Seed 6 | Epoch 049 | Loss: 0.6176 | Test Acc: 0.7354\n",
      "Seed 6 | Epoch 050 | Loss: 0.6210 | Test Acc: 0.7130\n"
     ]
    },
    {
     "data": {
      "text/html": [],
      "text/plain": [
       "<IPython.core.display.HTML object>"
      ]
     },
     "metadata": {},
     "output_type": "display_data"
    },
    {
     "data": {
      "text/html": [
       "<br>    <style><br>        .wandb-row {<br>            display: flex;<br>            flex-direction: row;<br>            flex-wrap: wrap;<br>            justify-content: flex-start;<br>            width: 100%;<br>        }<br>        .wandb-col {<br>            display: flex;<br>            flex-direction: column;<br>            flex-basis: 100%;<br>            flex: 1;<br>            padding: 10px;<br>        }<br>    </style><br><div class=\"wandb-row\"><div class=\"wandb-col\"><h3>Run history:</h3><br/><table class=\"wandb\"><tr><td>epoch</td><td>▁▁▁▁▂▂▂▂▂▂▃▃▃▃▃▄▄▄▄▄▄▅▅▅▅▅▅▆▆▆▆▆▆▇▇▇▇▇██</td></tr><tr><td>loss</td><td>█▇▆▆▅▄▄▃▃▃▃▃▃▂▃▂▂▂▂▂▁▂▁▂▂▁▂▂▁▁▁▁▁▁▁▁▁▁▁▁</td></tr><tr><td>test_acc</td><td>▁▂▅▅▅▅██▆▇▇▇▇▇▆▇▇▆▇▇▇▇▇▇▅▇▇▇█▇▇▇▆█▇▇▇▇▇▇</td></tr><tr><td>train_acc</td><td>▁▂▃▄▄▇▇▇▇▇▇▇▇▇▇▇▇▇▇▇▇▇▇▇▆▇▇▇▇▇█▇▇▇▆▇█▇█▇</td></tr></table><br/></div><div class=\"wandb-col\"><h3>Run summary:</h3><br/><table class=\"wandb\"><tr><td>epoch</td><td>50</td></tr><tr><td>loss</td><td>0.62099</td></tr><tr><td>test_acc</td><td>0.713</td></tr><tr><td>train_acc</td><td>0.68427</td></tr></table><br/></div></div>"
      ],
      "text/plain": [
       "<IPython.core.display.HTML object>"
      ]
     },
     "metadata": {},
     "output_type": "display_data"
    },
    {
     "data": {
      "text/html": [
       " View run <strong style=\"color:#cdcd00\">GCN_baseline_seed_6</strong> at: <a href='https://wandb.ai/noynetanel1-tel-aviv-university/GCN%20Graph%20classification%28Protein%29_Gal/runs/os3rep1c' target=\"_blank\">https://wandb.ai/noynetanel1-tel-aviv-university/GCN%20Graph%20classification%28Protein%29_Gal/runs/os3rep1c</a><br> View project at: <a href='https://wandb.ai/noynetanel1-tel-aviv-university/GCN%20Graph%20classification%28Protein%29_Gal' target=\"_blank\">https://wandb.ai/noynetanel1-tel-aviv-university/GCN%20Graph%20classification%28Protein%29_Gal</a><br>Synced 5 W&B file(s), 0 media file(s), 0 artifact file(s) and 0 other file(s)"
      ],
      "text/plain": [
       "<IPython.core.display.HTML object>"
      ]
     },
     "metadata": {},
     "output_type": "display_data"
    },
    {
     "data": {
      "text/html": [
       "Find logs at: <code>./wandb/run-20250820_142939-os3rep1c/logs</code>"
      ],
      "text/plain": [
       "<IPython.core.display.HTML object>"
      ]
     },
     "metadata": {},
     "output_type": "display_data"
    },
    {
     "data": {
      "text/html": [
       "Tracking run with wandb version 0.20.1"
      ],
      "text/plain": [
       "<IPython.core.display.HTML object>"
      ]
     },
     "metadata": {},
     "output_type": "display_data"
    },
    {
     "data": {
      "text/html": [
       "Run data is saved locally in <code>/kaggle/working/wandb/run-20250820_143012-cdjijp8m</code>"
      ],
      "text/plain": [
       "<IPython.core.display.HTML object>"
      ]
     },
     "metadata": {},
     "output_type": "display_data"
    },
    {
     "data": {
      "text/html": [
       "Syncing run <strong><a href='https://wandb.ai/noynetanel1-tel-aviv-university/GCN%20Graph%20classification%28Protein%29_Gal/runs/cdjijp8m' target=\"_blank\">GCN_baseline_seed_7</a></strong> to <a href='https://wandb.ai/noynetanel1-tel-aviv-university/GCN%20Graph%20classification%28Protein%29_Gal' target=\"_blank\">Weights & Biases</a> (<a href='https://wandb.me/developer-guide' target=\"_blank\">docs</a>)<br>"
      ],
      "text/plain": [
       "<IPython.core.display.HTML object>"
      ]
     },
     "metadata": {},
     "output_type": "display_data"
    },
    {
     "data": {
      "text/html": [
       " View project at <a href='https://wandb.ai/noynetanel1-tel-aviv-university/GCN%20Graph%20classification%28Protein%29_Gal' target=\"_blank\">https://wandb.ai/noynetanel1-tel-aviv-university/GCN%20Graph%20classification%28Protein%29_Gal</a>"
      ],
      "text/plain": [
       "<IPython.core.display.HTML object>"
      ]
     },
     "metadata": {},
     "output_type": "display_data"
    },
    {
     "data": {
      "text/html": [
       " View run at <a href='https://wandb.ai/noynetanel1-tel-aviv-university/GCN%20Graph%20classification%28Protein%29_Gal/runs/cdjijp8m' target=\"_blank\">https://wandb.ai/noynetanel1-tel-aviv-university/GCN%20Graph%20classification%28Protein%29_Gal/runs/cdjijp8m</a>"
      ],
      "text/plain": [
       "<IPython.core.display.HTML object>"
      ]
     },
     "metadata": {},
     "output_type": "display_data"
    },
    {
     "name": "stdout",
     "output_type": "stream",
     "text": [
      "Seed 7 | Epoch 001 | Loss: 0.6886 | Test Acc: 0.6413\n",
      "Seed 7 | Epoch 002 | Loss: 0.6740 | Test Acc: 0.6502\n",
      "Seed 7 | Epoch 003 | Loss: 0.6684 | Test Acc: 0.6413\n",
      "Seed 7 | Epoch 004 | Loss: 0.6643 | Test Acc: 0.6413\n",
      "Seed 7 | Epoch 005 | Loss: 0.6619 | Test Acc: 0.6009\n",
      "Seed 7 | Epoch 006 | Loss: 0.6553 | Test Acc: 0.6457\n",
      "Seed 7 | Epoch 007 | Loss: 0.6519 | Test Acc: 0.6099\n",
      "Seed 7 | Epoch 008 | Loss: 0.6462 | Test Acc: 0.5964\n",
      "Seed 7 | Epoch 009 | Loss: 0.6447 | Test Acc: 0.6233\n",
      "Seed 7 | Epoch 010 | Loss: 0.6365 | Test Acc: 0.6233\n",
      "Seed 7 | Epoch 011 | Loss: 0.6328 | Test Acc: 0.6188\n",
      "Seed 7 | Epoch 012 | Loss: 0.6289 | Test Acc: 0.6278\n",
      "Seed 7 | Epoch 013 | Loss: 0.6272 | Test Acc: 0.6099\n",
      "Seed 7 | Epoch 014 | Loss: 0.6229 | Test Acc: 0.6323\n",
      "Seed 7 | Epoch 015 | Loss: 0.6221 | Test Acc: 0.6233\n",
      "Seed 7 | Epoch 016 | Loss: 0.6213 | Test Acc: 0.6637\n",
      "Seed 7 | Epoch 017 | Loss: 0.6225 | Test Acc: 0.6592\n",
      "Seed 7 | Epoch 018 | Loss: 0.6184 | Test Acc: 0.6816\n",
      "Seed 7 | Epoch 019 | Loss: 0.6170 | Test Acc: 0.6099\n",
      "Seed 7 | Epoch 020 | Loss: 0.6161 | Test Acc: 0.6233\n",
      "Seed 7 | Epoch 021 | Loss: 0.6154 | Test Acc: 0.6457\n",
      "Seed 7 | Epoch 022 | Loss: 0.6137 | Test Acc: 0.6278\n",
      "Seed 7 | Epoch 023 | Loss: 0.6126 | Test Acc: 0.6323\n",
      "Seed 7 | Epoch 024 | Loss: 0.6094 | Test Acc: 0.6054\n",
      "Seed 7 | Epoch 025 | Loss: 0.6104 | Test Acc: 0.6323\n",
      "Seed 7 | Epoch 026 | Loss: 0.6155 | Test Acc: 0.6726\n",
      "Seed 7 | Epoch 027 | Loss: 0.6210 | Test Acc: 0.6547\n",
      "Seed 7 | Epoch 028 | Loss: 0.6122 | Test Acc: 0.6278\n",
      "Seed 7 | Epoch 029 | Loss: 0.6092 | Test Acc: 0.6368\n",
      "Seed 7 | Epoch 030 | Loss: 0.6085 | Test Acc: 0.6054\n",
      "Seed 7 | Epoch 031 | Loss: 0.6087 | Test Acc: 0.6278\n",
      "Seed 7 | Epoch 032 | Loss: 0.6060 | Test Acc: 0.6278\n",
      "Seed 7 | Epoch 033 | Loss: 0.6082 | Test Acc: 0.6323\n",
      "Seed 7 | Epoch 034 | Loss: 0.6069 | Test Acc: 0.6726\n",
      "Seed 7 | Epoch 035 | Loss: 0.6080 | Test Acc: 0.6413\n",
      "Seed 7 | Epoch 036 | Loss: 0.6090 | Test Acc: 0.6323\n",
      "Seed 7 | Epoch 037 | Loss: 0.6085 | Test Acc: 0.6323\n",
      "Seed 7 | Epoch 038 | Loss: 0.6039 | Test Acc: 0.6323\n",
      "Seed 7 | Epoch 039 | Loss: 0.6065 | Test Acc: 0.6637\n",
      "Seed 7 | Epoch 040 | Loss: 0.6068 | Test Acc: 0.6233\n",
      "Seed 7 | Epoch 041 | Loss: 0.6076 | Test Acc: 0.6502\n",
      "Seed 7 | Epoch 042 | Loss: 0.6084 | Test Acc: 0.6413\n",
      "Seed 7 | Epoch 043 | Loss: 0.6065 | Test Acc: 0.6143\n",
      "Seed 7 | Epoch 044 | Loss: 0.6057 | Test Acc: 0.6323\n",
      "Seed 7 | Epoch 045 | Loss: 0.6045 | Test Acc: 0.6323\n",
      "Seed 7 | Epoch 046 | Loss: 0.6047 | Test Acc: 0.6457\n",
      "Seed 7 | Epoch 047 | Loss: 0.6078 | Test Acc: 0.6682\n",
      "Seed 7 | Epoch 048 | Loss: 0.6055 | Test Acc: 0.6278\n",
      "Seed 7 | Epoch 049 | Loss: 0.6039 | Test Acc: 0.6278\n",
      "Seed 7 | Epoch 050 | Loss: 0.6054 | Test Acc: 0.6368\n"
     ]
    },
    {
     "data": {
      "text/html": [],
      "text/plain": [
       "<IPython.core.display.HTML object>"
      ]
     },
     "metadata": {},
     "output_type": "display_data"
    },
    {
     "data": {
      "text/html": [
       "<br>    <style><br>        .wandb-row {<br>            display: flex;<br>            flex-direction: row;<br>            flex-wrap: wrap;<br>            justify-content: flex-start;<br>            width: 100%;<br>        }<br>        .wandb-col {<br>            display: flex;<br>            flex-direction: column;<br>            flex-basis: 100%;<br>            flex: 1;<br>            padding: 10px;<br>        }<br>    </style><br><div class=\"wandb-row\"><div class=\"wandb-col\"><h3>Run history:</h3><br/><table class=\"wandb\"><tr><td>epoch</td><td>▁▁▁▁▂▂▂▂▂▂▃▃▃▃▃▄▄▄▄▄▅▅▅▅▅▅▆▆▆▆▆▇▇▇▇▇▇███</td></tr><tr><td>loss</td><td>█▇▆▆▆▅▅▄▄▃▃▃▃▂▃▂▂▂▂▂▂▂▂▁▁▁▁▁▁▁▁▁▁▁▁▁▁▁▁▁</td></tr><tr><td>test_acc</td><td>▅▆▅▅▁▂▁▃▃▃▂▄▃▇▇▂▃▆▄▄▄█▆▄▅▄▄█▅▄▄▃▆▅▃▄▆█▄▅</td></tr><tr><td>train_acc</td><td>▁▂▃▃▅▅▅▅▅▇▇█▇▇▇▇▇▇█▇▇▇▇█████▇▇█▇▇▇▇▆▇▇██</td></tr></table><br/></div><div class=\"wandb-col\"><h3>Run summary:</h3><br/><table class=\"wandb\"><tr><td>epoch</td><td>50</td></tr><tr><td>loss</td><td>0.60539</td></tr><tr><td>test_acc</td><td>0.63677</td></tr><tr><td>train_acc</td><td>0.71461</td></tr></table><br/></div></div>"
      ],
      "text/plain": [
       "<IPython.core.display.HTML object>"
      ]
     },
     "metadata": {},
     "output_type": "display_data"
    },
    {
     "data": {
      "text/html": [
       " View run <strong style=\"color:#cdcd00\">GCN_baseline_seed_7</strong> at: <a href='https://wandb.ai/noynetanel1-tel-aviv-university/GCN%20Graph%20classification%28Protein%29_Gal/runs/cdjijp8m' target=\"_blank\">https://wandb.ai/noynetanel1-tel-aviv-university/GCN%20Graph%20classification%28Protein%29_Gal/runs/cdjijp8m</a><br> View project at: <a href='https://wandb.ai/noynetanel1-tel-aviv-university/GCN%20Graph%20classification%28Protein%29_Gal' target=\"_blank\">https://wandb.ai/noynetanel1-tel-aviv-university/GCN%20Graph%20classification%28Protein%29_Gal</a><br>Synced 5 W&B file(s), 0 media file(s), 0 artifact file(s) and 0 other file(s)"
      ],
      "text/plain": [
       "<IPython.core.display.HTML object>"
      ]
     },
     "metadata": {},
     "output_type": "display_data"
    },
    {
     "data": {
      "text/html": [
       "Find logs at: <code>./wandb/run-20250820_143012-cdjijp8m/logs</code>"
      ],
      "text/plain": [
       "<IPython.core.display.HTML object>"
      ]
     },
     "metadata": {},
     "output_type": "display_data"
    },
    {
     "data": {
      "text/html": [
       "Tracking run with wandb version 0.20.1"
      ],
      "text/plain": [
       "<IPython.core.display.HTML object>"
      ]
     },
     "metadata": {},
     "output_type": "display_data"
    },
    {
     "data": {
      "text/html": [
       "Run data is saved locally in <code>/kaggle/working/wandb/run-20250820_143047-83om53r2</code>"
      ],
      "text/plain": [
       "<IPython.core.display.HTML object>"
      ]
     },
     "metadata": {},
     "output_type": "display_data"
    },
    {
     "data": {
      "text/html": [
       "Syncing run <strong><a href='https://wandb.ai/noynetanel1-tel-aviv-university/GCN%20Graph%20classification%28Protein%29_Gal/runs/83om53r2' target=\"_blank\">GCN_baseline_seed_8</a></strong> to <a href='https://wandb.ai/noynetanel1-tel-aviv-university/GCN%20Graph%20classification%28Protein%29_Gal' target=\"_blank\">Weights & Biases</a> (<a href='https://wandb.me/developer-guide' target=\"_blank\">docs</a>)<br>"
      ],
      "text/plain": [
       "<IPython.core.display.HTML object>"
      ]
     },
     "metadata": {},
     "output_type": "display_data"
    },
    {
     "data": {
      "text/html": [
       " View project at <a href='https://wandb.ai/noynetanel1-tel-aviv-university/GCN%20Graph%20classification%28Protein%29_Gal' target=\"_blank\">https://wandb.ai/noynetanel1-tel-aviv-university/GCN%20Graph%20classification%28Protein%29_Gal</a>"
      ],
      "text/plain": [
       "<IPython.core.display.HTML object>"
      ]
     },
     "metadata": {},
     "output_type": "display_data"
    },
    {
     "data": {
      "text/html": [
       " View run at <a href='https://wandb.ai/noynetanel1-tel-aviv-university/GCN%20Graph%20classification%28Protein%29_Gal/runs/83om53r2' target=\"_blank\">https://wandb.ai/noynetanel1-tel-aviv-university/GCN%20Graph%20classification%28Protein%29_Gal/runs/83om53r2</a>"
      ],
      "text/plain": [
       "<IPython.core.display.HTML object>"
      ]
     },
     "metadata": {},
     "output_type": "display_data"
    },
    {
     "name": "stdout",
     "output_type": "stream",
     "text": [
      "Seed 8 | Epoch 001 | Loss: 0.6766 | Test Acc: 0.5964\n",
      "Seed 8 | Epoch 002 | Loss: 0.6700 | Test Acc: 0.5964\n",
      "Seed 8 | Epoch 003 | Loss: 0.6643 | Test Acc: 0.6278\n",
      "Seed 8 | Epoch 004 | Loss: 0.6591 | Test Acc: 0.6547\n",
      "Seed 8 | Epoch 005 | Loss: 0.6537 | Test Acc: 0.6502\n",
      "Seed 8 | Epoch 006 | Loss: 0.6503 | Test Acc: 0.6457\n",
      "Seed 8 | Epoch 007 | Loss: 0.6447 | Test Acc: 0.6457\n",
      "Seed 8 | Epoch 008 | Loss: 0.6404 | Test Acc: 0.7040\n",
      "Seed 8 | Epoch 009 | Loss: 0.6355 | Test Acc: 0.7220\n",
      "Seed 8 | Epoch 010 | Loss: 0.6329 | Test Acc: 0.7130\n",
      "Seed 8 | Epoch 011 | Loss: 0.6335 | Test Acc: 0.6861\n",
      "Seed 8 | Epoch 012 | Loss: 0.6317 | Test Acc: 0.7130\n",
      "Seed 8 | Epoch 013 | Loss: 0.6300 | Test Acc: 0.7040\n",
      "Seed 8 | Epoch 014 | Loss: 0.6254 | Test Acc: 0.6996\n",
      "Seed 8 | Epoch 015 | Loss: 0.6271 | Test Acc: 0.7085\n",
      "Seed 8 | Epoch 016 | Loss: 0.6257 | Test Acc: 0.6996\n",
      "Seed 8 | Epoch 017 | Loss: 0.6296 | Test Acc: 0.7175\n",
      "Seed 8 | Epoch 018 | Loss: 0.6249 | Test Acc: 0.7175\n",
      "Seed 8 | Epoch 019 | Loss: 0.6246 | Test Acc: 0.7130\n",
      "Seed 8 | Epoch 020 | Loss: 0.6257 | Test Acc: 0.7085\n",
      "Seed 8 | Epoch 021 | Loss: 0.6216 | Test Acc: 0.7220\n",
      "Seed 8 | Epoch 022 | Loss: 0.6213 | Test Acc: 0.7175\n",
      "Seed 8 | Epoch 023 | Loss: 0.6279 | Test Acc: 0.7130\n",
      "Seed 8 | Epoch 024 | Loss: 0.6227 | Test Acc: 0.7175\n",
      "Seed 8 | Epoch 025 | Loss: 0.6210 | Test Acc: 0.6906\n",
      "Seed 8 | Epoch 026 | Loss: 0.6220 | Test Acc: 0.7175\n",
      "Seed 8 | Epoch 027 | Loss: 0.6261 | Test Acc: 0.7175\n",
      "Seed 8 | Epoch 028 | Loss: 0.6233 | Test Acc: 0.7220\n",
      "Seed 8 | Epoch 029 | Loss: 0.6211 | Test Acc: 0.7085\n",
      "Seed 8 | Epoch 030 | Loss: 0.6187 | Test Acc: 0.7175\n",
      "Seed 8 | Epoch 031 | Loss: 0.6180 | Test Acc: 0.6951\n",
      "Seed 8 | Epoch 032 | Loss: 0.6210 | Test Acc: 0.7040\n",
      "Seed 8 | Epoch 033 | Loss: 0.6201 | Test Acc: 0.6368\n",
      "Seed 8 | Epoch 034 | Loss: 0.6215 | Test Acc: 0.6996\n",
      "Seed 8 | Epoch 035 | Loss: 0.6202 | Test Acc: 0.7085\n",
      "Seed 8 | Epoch 036 | Loss: 0.6180 | Test Acc: 0.7175\n",
      "Seed 8 | Epoch 037 | Loss: 0.6180 | Test Acc: 0.7040\n",
      "Seed 8 | Epoch 038 | Loss: 0.6149 | Test Acc: 0.7309\n",
      "Seed 8 | Epoch 039 | Loss: 0.6182 | Test Acc: 0.7175\n",
      "Seed 8 | Epoch 040 | Loss: 0.6214 | Test Acc: 0.7220\n",
      "Seed 8 | Epoch 041 | Loss: 0.6160 | Test Acc: 0.7040\n",
      "Seed 8 | Epoch 042 | Loss: 0.6169 | Test Acc: 0.7265\n",
      "Seed 8 | Epoch 043 | Loss: 0.6171 | Test Acc: 0.7085\n",
      "Seed 8 | Epoch 044 | Loss: 0.6179 | Test Acc: 0.7085\n",
      "Seed 8 | Epoch 045 | Loss: 0.6171 | Test Acc: 0.7040\n",
      "Seed 8 | Epoch 046 | Loss: 0.6194 | Test Acc: 0.6996\n",
      "Seed 8 | Epoch 047 | Loss: 0.6160 | Test Acc: 0.6906\n",
      "Seed 8 | Epoch 048 | Loss: 0.6152 | Test Acc: 0.7220\n",
      "Seed 8 | Epoch 049 | Loss: 0.6192 | Test Acc: 0.6951\n",
      "Seed 8 | Epoch 050 | Loss: 0.6127 | Test Acc: 0.7040\n"
     ]
    },
    {
     "data": {
      "text/html": [],
      "text/plain": [
       "<IPython.core.display.HTML object>"
      ]
     },
     "metadata": {},
     "output_type": "display_data"
    },
    {
     "data": {
      "text/html": [
       "<br>    <style><br>        .wandb-row {<br>            display: flex;<br>            flex-direction: row;<br>            flex-wrap: wrap;<br>            justify-content: flex-start;<br>            width: 100%;<br>        }<br>        .wandb-col {<br>            display: flex;<br>            flex-direction: column;<br>            flex-basis: 100%;<br>            flex: 1;<br>            padding: 10px;<br>        }<br>    </style><br><div class=\"wandb-row\"><div class=\"wandb-col\"><h3>Run history:</h3><br/><table class=\"wandb\"><tr><td>epoch</td><td>▁▁▁▂▂▂▂▂▂▃▃▃▃▃▃▄▄▄▄▄▅▅▅▅▅▅▆▆▆▆▆▇▇▇▇▇▇███</td></tr><tr><td>loss</td><td>█▇▇▆▅▅▄▃▃▃▃▂▃▂▃▂▂▂▂▃▂▂▂▂▂▂▂▂▂▂▁▂▂▁▁▁▂▁▁▁</td></tr><tr><td>test_acc</td><td>▁▁▃▄▄▄▇█▇▆▇▇▇██▇█▇█▆██▇█▆▃▇▇█▇██▇█▇▇▇▆█▇</td></tr><tr><td>train_acc</td><td>▁▁▂▄▃▄▇▇▇▅▇▆▇▇▇▆▇▇▆▇▇█▇█▇▆▃▅▇▇█▇▇██▇▇▇▇█</td></tr></table><br/></div><div class=\"wandb-col\"><h3>Run summary:</h3><br/><table class=\"wandb\"><tr><td>epoch</td><td>50</td></tr><tr><td>loss</td><td>0.61274</td></tr><tr><td>test_acc</td><td>0.70404</td></tr><tr><td>train_acc</td><td>0.70337</td></tr></table><br/></div></div>"
      ],
      "text/plain": [
       "<IPython.core.display.HTML object>"
      ]
     },
     "metadata": {},
     "output_type": "display_data"
    },
    {
     "data": {
      "text/html": [
       " View run <strong style=\"color:#cdcd00\">GCN_baseline_seed_8</strong> at: <a href='https://wandb.ai/noynetanel1-tel-aviv-university/GCN%20Graph%20classification%28Protein%29_Gal/runs/83om53r2' target=\"_blank\">https://wandb.ai/noynetanel1-tel-aviv-university/GCN%20Graph%20classification%28Protein%29_Gal/runs/83om53r2</a><br> View project at: <a href='https://wandb.ai/noynetanel1-tel-aviv-university/GCN%20Graph%20classification%28Protein%29_Gal' target=\"_blank\">https://wandb.ai/noynetanel1-tel-aviv-university/GCN%20Graph%20classification%28Protein%29_Gal</a><br>Synced 5 W&B file(s), 0 media file(s), 0 artifact file(s) and 0 other file(s)"
      ],
      "text/plain": [
       "<IPython.core.display.HTML object>"
      ]
     },
     "metadata": {},
     "output_type": "display_data"
    },
    {
     "data": {
      "text/html": [
       "Find logs at: <code>./wandb/run-20250820_143047-83om53r2/logs</code>"
      ],
      "text/plain": [
       "<IPython.core.display.HTML object>"
      ]
     },
     "metadata": {},
     "output_type": "display_data"
    },
    {
     "data": {
      "text/html": [
       "Tracking run with wandb version 0.20.1"
      ],
      "text/plain": [
       "<IPython.core.display.HTML object>"
      ]
     },
     "metadata": {},
     "output_type": "display_data"
    },
    {
     "data": {
      "text/html": [
       "Run data is saved locally in <code>/kaggle/working/wandb/run-20250820_143123-8679d1v8</code>"
      ],
      "text/plain": [
       "<IPython.core.display.HTML object>"
      ]
     },
     "metadata": {},
     "output_type": "display_data"
    },
    {
     "data": {
      "text/html": [
       "Syncing run <strong><a href='https://wandb.ai/noynetanel1-tel-aviv-university/GCN%20Graph%20classification%28Protein%29_Gal/runs/8679d1v8' target=\"_blank\">GCN_baseline_seed_9</a></strong> to <a href='https://wandb.ai/noynetanel1-tel-aviv-university/GCN%20Graph%20classification%28Protein%29_Gal' target=\"_blank\">Weights & Biases</a> (<a href='https://wandb.me/developer-guide' target=\"_blank\">docs</a>)<br>"
      ],
      "text/plain": [
       "<IPython.core.display.HTML object>"
      ]
     },
     "metadata": {},
     "output_type": "display_data"
    },
    {
     "data": {
      "text/html": [
       " View project at <a href='https://wandb.ai/noynetanel1-tel-aviv-university/GCN%20Graph%20classification%28Protein%29_Gal' target=\"_blank\">https://wandb.ai/noynetanel1-tel-aviv-university/GCN%20Graph%20classification%28Protein%29_Gal</a>"
      ],
      "text/plain": [
       "<IPython.core.display.HTML object>"
      ]
     },
     "metadata": {},
     "output_type": "display_data"
    },
    {
     "data": {
      "text/html": [
       " View run at <a href='https://wandb.ai/noynetanel1-tel-aviv-university/GCN%20Graph%20classification%28Protein%29_Gal/runs/8679d1v8' target=\"_blank\">https://wandb.ai/noynetanel1-tel-aviv-university/GCN%20Graph%20classification%28Protein%29_Gal/runs/8679d1v8</a>"
      ],
      "text/plain": [
       "<IPython.core.display.HTML object>"
      ]
     },
     "metadata": {},
     "output_type": "display_data"
    },
    {
     "name": "stdout",
     "output_type": "stream",
     "text": [
      "Seed 9 | Epoch 001 | Loss: 0.6810 | Test Acc: 0.6009\n",
      "Seed 9 | Epoch 002 | Loss: 0.6701 | Test Acc: 0.6278\n",
      "Seed 9 | Epoch 003 | Loss: 0.6672 | Test Acc: 0.6278\n",
      "Seed 9 | Epoch 004 | Loss: 0.6617 | Test Acc: 0.6368\n",
      "Seed 9 | Epoch 005 | Loss: 0.6604 | Test Acc: 0.6592\n",
      "Seed 9 | Epoch 006 | Loss: 0.6566 | Test Acc: 0.6368\n",
      "Seed 9 | Epoch 007 | Loss: 0.6547 | Test Acc: 0.6323\n",
      "Seed 9 | Epoch 008 | Loss: 0.6545 | Test Acc: 0.6592\n",
      "Seed 9 | Epoch 009 | Loss: 0.6487 | Test Acc: 0.6413\n",
      "Seed 9 | Epoch 010 | Loss: 0.6447 | Test Acc: 0.6547\n",
      "Seed 9 | Epoch 011 | Loss: 0.6438 | Test Acc: 0.6637\n",
      "Seed 9 | Epoch 012 | Loss: 0.6434 | Test Acc: 0.7399\n",
      "Seed 9 | Epoch 013 | Loss: 0.6420 | Test Acc: 0.7399\n",
      "Seed 9 | Epoch 014 | Loss: 0.6387 | Test Acc: 0.7534\n",
      "Seed 9 | Epoch 015 | Loss: 0.6371 | Test Acc: 0.7354\n",
      "Seed 9 | Epoch 016 | Loss: 0.6369 | Test Acc: 0.7534\n",
      "Seed 9 | Epoch 017 | Loss: 0.6346 | Test Acc: 0.7354\n",
      "Seed 9 | Epoch 018 | Loss: 0.6349 | Test Acc: 0.7444\n",
      "Seed 9 | Epoch 019 | Loss: 0.6343 | Test Acc: 0.7399\n",
      "Seed 9 | Epoch 020 | Loss: 0.6336 | Test Acc: 0.7399\n",
      "Seed 9 | Epoch 021 | Loss: 0.6334 | Test Acc: 0.7399\n",
      "Seed 9 | Epoch 022 | Loss: 0.6334 | Test Acc: 0.7444\n",
      "Seed 9 | Epoch 023 | Loss: 0.6357 | Test Acc: 0.7444\n",
      "Seed 9 | Epoch 024 | Loss: 0.6288 | Test Acc: 0.7444\n",
      "Seed 9 | Epoch 025 | Loss: 0.6294 | Test Acc: 0.7444\n",
      "Seed 9 | Epoch 026 | Loss: 0.6277 | Test Acc: 0.7489\n",
      "Seed 9 | Epoch 027 | Loss: 0.6311 | Test Acc: 0.7444\n",
      "Seed 9 | Epoch 028 | Loss: 0.6296 | Test Acc: 0.7399\n",
      "Seed 9 | Epoch 029 | Loss: 0.6258 | Test Acc: 0.7309\n",
      "Seed 9 | Epoch 030 | Loss: 0.6310 | Test Acc: 0.7309\n",
      "Seed 9 | Epoch 031 | Loss: 0.6254 | Test Acc: 0.7444\n",
      "Seed 9 | Epoch 032 | Loss: 0.6307 | Test Acc: 0.7354\n",
      "Seed 9 | Epoch 033 | Loss: 0.6323 | Test Acc: 0.7309\n",
      "Seed 9 | Epoch 034 | Loss: 0.6252 | Test Acc: 0.7309\n",
      "Seed 9 | Epoch 035 | Loss: 0.6239 | Test Acc: 0.7399\n",
      "Seed 9 | Epoch 036 | Loss: 0.6246 | Test Acc: 0.7399\n",
      "Seed 9 | Epoch 037 | Loss: 0.6238 | Test Acc: 0.7444\n",
      "Seed 9 | Epoch 038 | Loss: 0.6235 | Test Acc: 0.7265\n",
      "Seed 9 | Epoch 039 | Loss: 0.6280 | Test Acc: 0.7534\n",
      "Seed 9 | Epoch 040 | Loss: 0.6245 | Test Acc: 0.7354\n",
      "Seed 9 | Epoch 041 | Loss: 0.6245 | Test Acc: 0.7399\n",
      "Seed 9 | Epoch 042 | Loss: 0.6256 | Test Acc: 0.7309\n",
      "Seed 9 | Epoch 043 | Loss: 0.6244 | Test Acc: 0.7444\n",
      "Seed 9 | Epoch 044 | Loss: 0.6233 | Test Acc: 0.7130\n",
      "Seed 9 | Epoch 045 | Loss: 0.6259 | Test Acc: 0.7399\n",
      "Seed 9 | Epoch 046 | Loss: 0.6255 | Test Acc: 0.7354\n",
      "Seed 9 | Epoch 047 | Loss: 0.6221 | Test Acc: 0.7354\n",
      "Seed 9 | Epoch 048 | Loss: 0.6272 | Test Acc: 0.7309\n",
      "Seed 9 | Epoch 049 | Loss: 0.6216 | Test Acc: 0.7399\n",
      "Seed 9 | Epoch 050 | Loss: 0.6221 | Test Acc: 0.7444\n"
     ]
    },
    {
     "data": {
      "text/html": [],
      "text/plain": [
       "<IPython.core.display.HTML object>"
      ]
     },
     "metadata": {},
     "output_type": "display_data"
    },
    {
     "data": {
      "text/html": [
       "<br>    <style><br>        .wandb-row {<br>            display: flex;<br>            flex-direction: row;<br>            flex-wrap: wrap;<br>            justify-content: flex-start;<br>            width: 100%;<br>        }<br>        .wandb-col {<br>            display: flex;<br>            flex-direction: column;<br>            flex-basis: 100%;<br>            flex: 1;<br>            padding: 10px;<br>        }<br>    </style><br><div class=\"wandb-row\"><div class=\"wandb-col\"><h3>Run history:</h3><br/><table class=\"wandb\"><tr><td>epoch</td><td>▁▁▁▁▂▂▂▂▂▂▃▃▃▃▃▄▄▄▄▄▅▅▅▅▅▅▆▆▆▆▆▇▇▇▇▇▇███</td></tr><tr><td>loss</td><td>█▇▆▆▆▅▅▄▄▄▃▃▃▂▃▂▂▂▃▂▂▂▂▁▂▂▂▁▁▁▁▂▁▁▁▁▁▁▂▁</td></tr><tr><td>test_acc</td><td>▁▂▂▃▄▂▄▃▃▄▇█▇█▇▇▇▇████▇▇▇▇▇▇▇▇▇█▇▇▇▇▇▇▇█</td></tr><tr><td>train_acc</td><td>▁▃▃▃▅▄▄▄▅▅▇▇▇▇▇▇▇▇▇▇███▇▇▇▇▇▇█▇██▇▇█▇▇█▇</td></tr></table><br/></div><div class=\"wandb-col\"><h3>Run summary:</h3><br/><table class=\"wandb\"><tr><td>epoch</td><td>50</td></tr><tr><td>loss</td><td>0.62205</td></tr><tr><td>test_acc</td><td>0.74439</td></tr><tr><td>train_acc</td><td>0.68315</td></tr></table><br/></div></div>"
      ],
      "text/plain": [
       "<IPython.core.display.HTML object>"
      ]
     },
     "metadata": {},
     "output_type": "display_data"
    },
    {
     "data": {
      "text/html": [
       " View run <strong style=\"color:#cdcd00\">GCN_baseline_seed_9</strong> at: <a href='https://wandb.ai/noynetanel1-tel-aviv-university/GCN%20Graph%20classification%28Protein%29_Gal/runs/8679d1v8' target=\"_blank\">https://wandb.ai/noynetanel1-tel-aviv-university/GCN%20Graph%20classification%28Protein%29_Gal/runs/8679d1v8</a><br> View project at: <a href='https://wandb.ai/noynetanel1-tel-aviv-university/GCN%20Graph%20classification%28Protein%29_Gal' target=\"_blank\">https://wandb.ai/noynetanel1-tel-aviv-university/GCN%20Graph%20classification%28Protein%29_Gal</a><br>Synced 5 W&B file(s), 0 media file(s), 0 artifact file(s) and 0 other file(s)"
      ],
      "text/plain": [
       "<IPython.core.display.HTML object>"
      ]
     },
     "metadata": {},
     "output_type": "display_data"
    },
    {
     "data": {
      "text/html": [
       "Find logs at: <code>./wandb/run-20250820_143123-8679d1v8/logs</code>"
      ],
      "text/plain": [
       "<IPython.core.display.HTML object>"
      ]
     },
     "metadata": {},
     "output_type": "display_data"
    },
    {
     "data": {
      "text/html": [
       "Tracking run with wandb version 0.20.1"
      ],
      "text/plain": [
       "<IPython.core.display.HTML object>"
      ]
     },
     "metadata": {},
     "output_type": "display_data"
    },
    {
     "data": {
      "text/html": [
       "Run data is saved locally in <code>/kaggle/working/wandb/run-20250820_143159-krj54490</code>"
      ],
      "text/plain": [
       "<IPython.core.display.HTML object>"
      ]
     },
     "metadata": {},
     "output_type": "display_data"
    },
    {
     "data": {
      "text/html": [
       "Syncing run <strong><a href='https://wandb.ai/noynetanel1-tel-aviv-university/GCN%20Graph%20classification%28Protein%29_Gal/runs/krj54490' target=\"_blank\">GCN_baseline_seed_10</a></strong> to <a href='https://wandb.ai/noynetanel1-tel-aviv-university/GCN%20Graph%20classification%28Protein%29_Gal' target=\"_blank\">Weights & Biases</a> (<a href='https://wandb.me/developer-guide' target=\"_blank\">docs</a>)<br>"
      ],
      "text/plain": [
       "<IPython.core.display.HTML object>"
      ]
     },
     "metadata": {},
     "output_type": "display_data"
    },
    {
     "data": {
      "text/html": [
       " View project at <a href='https://wandb.ai/noynetanel1-tel-aviv-university/GCN%20Graph%20classification%28Protein%29_Gal' target=\"_blank\">https://wandb.ai/noynetanel1-tel-aviv-university/GCN%20Graph%20classification%28Protein%29_Gal</a>"
      ],
      "text/plain": [
       "<IPython.core.display.HTML object>"
      ]
     },
     "metadata": {},
     "output_type": "display_data"
    },
    {
     "data": {
      "text/html": [
       " View run at <a href='https://wandb.ai/noynetanel1-tel-aviv-university/GCN%20Graph%20classification%28Protein%29_Gal/runs/krj54490' target=\"_blank\">https://wandb.ai/noynetanel1-tel-aviv-university/GCN%20Graph%20classification%28Protein%29_Gal/runs/krj54490</a>"
      ],
      "text/plain": [
       "<IPython.core.display.HTML object>"
      ]
     },
     "metadata": {},
     "output_type": "display_data"
    },
    {
     "name": "stdout",
     "output_type": "stream",
     "text": [
      "Seed 10 | Epoch 001 | Loss: 0.6776 | Test Acc: 0.5785\n",
      "Seed 10 | Epoch 002 | Loss: 0.6701 | Test Acc: 0.5785\n",
      "Seed 10 | Epoch 003 | Loss: 0.6643 | Test Acc: 0.6323\n",
      "Seed 10 | Epoch 004 | Loss: 0.6610 | Test Acc: 0.6278\n",
      "Seed 10 | Epoch 005 | Loss: 0.6594 | Test Acc: 0.6323\n",
      "Seed 10 | Epoch 006 | Loss: 0.6544 | Test Acc: 0.6457\n",
      "Seed 10 | Epoch 007 | Loss: 0.6529 | Test Acc: 0.6413\n",
      "Seed 10 | Epoch 008 | Loss: 0.6495 | Test Acc: 0.6413\n",
      "Seed 10 | Epoch 009 | Loss: 0.6491 | Test Acc: 0.6413\n",
      "Seed 10 | Epoch 010 | Loss: 0.6428 | Test Acc: 0.7220\n",
      "Seed 10 | Epoch 011 | Loss: 0.6415 | Test Acc: 0.7220\n",
      "Seed 10 | Epoch 012 | Loss: 0.6376 | Test Acc: 0.7175\n",
      "Seed 10 | Epoch 013 | Loss: 0.6373 | Test Acc: 0.7444\n",
      "Seed 10 | Epoch 014 | Loss: 0.6343 | Test Acc: 0.7309\n",
      "Seed 10 | Epoch 015 | Loss: 0.6346 | Test Acc: 0.6368\n",
      "Seed 10 | Epoch 016 | Loss: 0.6343 | Test Acc: 0.7220\n",
      "Seed 10 | Epoch 017 | Loss: 0.6327 | Test Acc: 0.7265\n",
      "Seed 10 | Epoch 018 | Loss: 0.6314 | Test Acc: 0.7265\n",
      "Seed 10 | Epoch 019 | Loss: 0.6311 | Test Acc: 0.7265\n",
      "Seed 10 | Epoch 020 | Loss: 0.6302 | Test Acc: 0.7354\n",
      "Seed 10 | Epoch 021 | Loss: 0.6289 | Test Acc: 0.7354\n",
      "Seed 10 | Epoch 022 | Loss: 0.6284 | Test Acc: 0.7309\n",
      "Seed 10 | Epoch 023 | Loss: 0.6282 | Test Acc: 0.7309\n",
      "Seed 10 | Epoch 024 | Loss: 0.6274 | Test Acc: 0.7354\n",
      "Seed 10 | Epoch 025 | Loss: 0.6313 | Test Acc: 0.7309\n",
      "Seed 10 | Epoch 026 | Loss: 0.6273 | Test Acc: 0.7354\n",
      "Seed 10 | Epoch 027 | Loss: 0.6289 | Test Acc: 0.7175\n",
      "Seed 10 | Epoch 028 | Loss: 0.6252 | Test Acc: 0.7309\n",
      "Seed 10 | Epoch 029 | Loss: 0.6241 | Test Acc: 0.7309\n",
      "Seed 10 | Epoch 030 | Loss: 0.6229 | Test Acc: 0.7354\n",
      "Seed 10 | Epoch 031 | Loss: 0.6253 | Test Acc: 0.7399\n",
      "Seed 10 | Epoch 032 | Loss: 0.6239 | Test Acc: 0.7354\n",
      "Seed 10 | Epoch 033 | Loss: 0.6235 | Test Acc: 0.7489\n",
      "Seed 10 | Epoch 034 | Loss: 0.6234 | Test Acc: 0.7265\n",
      "Seed 10 | Epoch 035 | Loss: 0.6232 | Test Acc: 0.7399\n",
      "Seed 10 | Epoch 036 | Loss: 0.6244 | Test Acc: 0.7354\n",
      "Seed 10 | Epoch 037 | Loss: 0.6261 | Test Acc: 0.7220\n",
      "Seed 10 | Epoch 038 | Loss: 0.6227 | Test Acc: 0.7399\n",
      "Seed 10 | Epoch 039 | Loss: 0.6211 | Test Acc: 0.7265\n",
      "Seed 10 | Epoch 040 | Loss: 0.6206 | Test Acc: 0.7220\n",
      "Seed 10 | Epoch 041 | Loss: 0.6195 | Test Acc: 0.7309\n",
      "Seed 10 | Epoch 042 | Loss: 0.6216 | Test Acc: 0.7220\n",
      "Seed 10 | Epoch 043 | Loss: 0.6207 | Test Acc: 0.7354\n",
      "Seed 10 | Epoch 044 | Loss: 0.6214 | Test Acc: 0.7534\n",
      "Seed 10 | Epoch 045 | Loss: 0.6196 | Test Acc: 0.7220\n",
      "Seed 10 | Epoch 046 | Loss: 0.6207 | Test Acc: 0.7578\n",
      "Seed 10 | Epoch 047 | Loss: 0.6200 | Test Acc: 0.6996\n",
      "Seed 10 | Epoch 048 | Loss: 0.6245 | Test Acc: 0.7668\n",
      "Seed 10 | Epoch 049 | Loss: 0.6225 | Test Acc: 0.7399\n",
      "Seed 10 | Epoch 050 | Loss: 0.6197 | Test Acc: 0.7489\n"
     ]
    },
    {
     "data": {
      "text/html": [],
      "text/plain": [
       "<IPython.core.display.HTML object>"
      ]
     },
     "metadata": {},
     "output_type": "display_data"
    },
    {
     "data": {
      "text/html": [
       "<br>    <style><br>        .wandb-row {<br>            display: flex;<br>            flex-direction: row;<br>            flex-wrap: wrap;<br>            justify-content: flex-start;<br>            width: 100%;<br>        }<br>        .wandb-col {<br>            display: flex;<br>            flex-direction: column;<br>            flex-basis: 100%;<br>            flex: 1;<br>            padding: 10px;<br>        }<br>    </style><br><div class=\"wandb-row\"><div class=\"wandb-col\"><h3>Run history:</h3><br/><table class=\"wandb\"><tr><td>epoch</td><td>▁▁▁▁▂▂▂▂▂▂▃▃▃▃▃▄▄▄▄▄▄▅▅▅▅▅▅▆▆▆▆▆▇▇▇▇▇███</td></tr><tr><td>loss</td><td>█▇▆▆▆▅▅▅▄▃▃▃▃▂▂▂▂▂▂▂▂▂▂▁▂▁▁▁▂▂▁▁▁▁▁▁▁▁▂▁</td></tr><tr><td>test_acc</td><td>▁▁▃▃▃▃▃▃▆▆▇▇▃▇▇▇▇▇▇▇▇▆▇▇▇▇▇▇▇▇▇▇▆▇▇▆█▆█▇</td></tr><tr><td>train_acc</td><td>▁▁▃▃▃▄▃▃▇▇▇▇▃▇▆▆▇▇▆▆▆▇▆▆▇▇▇▇▇▇▇▇▇▇▆▇█▇▇▇</td></tr></table><br/></div><div class=\"wandb-col\"><h3>Run summary:</h3><br/><table class=\"wandb\"><tr><td>epoch</td><td>50</td></tr><tr><td>loss</td><td>0.61965</td></tr><tr><td>test_acc</td><td>0.74888</td></tr><tr><td>train_acc</td><td>0.68652</td></tr></table><br/></div></div>"
      ],
      "text/plain": [
       "<IPython.core.display.HTML object>"
      ]
     },
     "metadata": {},
     "output_type": "display_data"
    },
    {
     "data": {
      "text/html": [
       " View run <strong style=\"color:#cdcd00\">GCN_baseline_seed_10</strong> at: <a href='https://wandb.ai/noynetanel1-tel-aviv-university/GCN%20Graph%20classification%28Protein%29_Gal/runs/krj54490' target=\"_blank\">https://wandb.ai/noynetanel1-tel-aviv-university/GCN%20Graph%20classification%28Protein%29_Gal/runs/krj54490</a><br> View project at: <a href='https://wandb.ai/noynetanel1-tel-aviv-university/GCN%20Graph%20classification%28Protein%29_Gal' target=\"_blank\">https://wandb.ai/noynetanel1-tel-aviv-university/GCN%20Graph%20classification%28Protein%29_Gal</a><br>Synced 5 W&B file(s), 0 media file(s), 0 artifact file(s) and 0 other file(s)"
      ],
      "text/plain": [
       "<IPython.core.display.HTML object>"
      ]
     },
     "metadata": {},
     "output_type": "display_data"
    },
    {
     "data": {
      "text/html": [
       "Find logs at: <code>./wandb/run-20250820_143159-krj54490/logs</code>"
      ],
      "text/plain": [
       "<IPython.core.display.HTML object>"
      ]
     },
     "metadata": {},
     "output_type": "display_data"
    },
    {
     "data": {
      "text/html": [
       "Tracking run with wandb version 0.20.1"
      ],
      "text/plain": [
       "<IPython.core.display.HTML object>"
      ]
     },
     "metadata": {},
     "output_type": "display_data"
    },
    {
     "data": {
      "text/html": [
       "Run data is saved locally in <code>/kaggle/working/wandb/run-20250820_143236-1oz6iu0c</code>"
      ],
      "text/plain": [
       "<IPython.core.display.HTML object>"
      ]
     },
     "metadata": {},
     "output_type": "display_data"
    },
    {
     "data": {
      "text/html": [
       "Syncing run <strong><a href='https://wandb.ai/noynetanel1-tel-aviv-university/GCN%20Graph%20classification%28Protein%29_Gal/runs/1oz6iu0c' target=\"_blank\">GCN_baseline_seed_11</a></strong> to <a href='https://wandb.ai/noynetanel1-tel-aviv-university/GCN%20Graph%20classification%28Protein%29_Gal' target=\"_blank\">Weights & Biases</a> (<a href='https://wandb.me/developer-guide' target=\"_blank\">docs</a>)<br>"
      ],
      "text/plain": [
       "<IPython.core.display.HTML object>"
      ]
     },
     "metadata": {},
     "output_type": "display_data"
    },
    {
     "data": {
      "text/html": [
       " View project at <a href='https://wandb.ai/noynetanel1-tel-aviv-university/GCN%20Graph%20classification%28Protein%29_Gal' target=\"_blank\">https://wandb.ai/noynetanel1-tel-aviv-university/GCN%20Graph%20classification%28Protein%29_Gal</a>"
      ],
      "text/plain": [
       "<IPython.core.display.HTML object>"
      ]
     },
     "metadata": {},
     "output_type": "display_data"
    },
    {
     "data": {
      "text/html": [
       " View run at <a href='https://wandb.ai/noynetanel1-tel-aviv-university/GCN%20Graph%20classification%28Protein%29_Gal/runs/1oz6iu0c' target=\"_blank\">https://wandb.ai/noynetanel1-tel-aviv-university/GCN%20Graph%20classification%28Protein%29_Gal/runs/1oz6iu0c</a>"
      ],
      "text/plain": [
       "<IPython.core.display.HTML object>"
      ]
     },
     "metadata": {},
     "output_type": "display_data"
    },
    {
     "name": "stdout",
     "output_type": "stream",
     "text": [
      "Seed 11 | Epoch 001 | Loss: 0.6907 | Test Acc: 0.6637\n",
      "Seed 11 | Epoch 002 | Loss: 0.6777 | Test Acc: 0.6726\n",
      "Seed 11 | Epoch 003 | Loss: 0.6714 | Test Acc: 0.6816\n",
      "Seed 11 | Epoch 004 | Loss: 0.6661 | Test Acc: 0.6771\n",
      "Seed 11 | Epoch 005 | Loss: 0.6633 | Test Acc: 0.6726\n",
      "Seed 11 | Epoch 006 | Loss: 0.6567 | Test Acc: 0.6861\n",
      "Seed 11 | Epoch 007 | Loss: 0.6507 | Test Acc: 0.6816\n",
      "Seed 11 | Epoch 008 | Loss: 0.6462 | Test Acc: 0.6592\n",
      "Seed 11 | Epoch 009 | Loss: 0.6407 | Test Acc: 0.6996\n",
      "Seed 11 | Epoch 010 | Loss: 0.6361 | Test Acc: 0.7085\n",
      "Seed 11 | Epoch 011 | Loss: 0.6350 | Test Acc: 0.6996\n",
      "Seed 11 | Epoch 012 | Loss: 0.6310 | Test Acc: 0.6637\n",
      "Seed 11 | Epoch 013 | Loss: 0.6298 | Test Acc: 0.6726\n",
      "Seed 11 | Epoch 014 | Loss: 0.6281 | Test Acc: 0.7130\n",
      "Seed 11 | Epoch 015 | Loss: 0.6234 | Test Acc: 0.6323\n",
      "Seed 11 | Epoch 016 | Loss: 0.6270 | Test Acc: 0.6996\n",
      "Seed 11 | Epoch 017 | Loss: 0.6250 | Test Acc: 0.6682\n",
      "Seed 11 | Epoch 018 | Loss: 0.6233 | Test Acc: 0.7085\n",
      "Seed 11 | Epoch 019 | Loss: 0.6240 | Test Acc: 0.6592\n",
      "Seed 11 | Epoch 020 | Loss: 0.6227 | Test Acc: 0.6996\n",
      "Seed 11 | Epoch 021 | Loss: 0.6235 | Test Acc: 0.6592\n",
      "Seed 11 | Epoch 022 | Loss: 0.6273 | Test Acc: 0.6682\n",
      "Seed 11 | Epoch 023 | Loss: 0.6237 | Test Acc: 0.6951\n",
      "Seed 11 | Epoch 024 | Loss: 0.6219 | Test Acc: 0.6951\n",
      "Seed 11 | Epoch 025 | Loss: 0.6224 | Test Acc: 0.7040\n",
      "Seed 11 | Epoch 026 | Loss: 0.6194 | Test Acc: 0.7040\n",
      "Seed 11 | Epoch 027 | Loss: 0.6179 | Test Acc: 0.7085\n",
      "Seed 11 | Epoch 028 | Loss: 0.6240 | Test Acc: 0.6996\n",
      "Seed 11 | Epoch 029 | Loss: 0.6207 | Test Acc: 0.6682\n",
      "Seed 11 | Epoch 030 | Loss: 0.6168 | Test Acc: 0.7040\n",
      "Seed 11 | Epoch 031 | Loss: 0.6179 | Test Acc: 0.7040\n",
      "Seed 11 | Epoch 032 | Loss: 0.6214 | Test Acc: 0.7040\n",
      "Seed 11 | Epoch 033 | Loss: 0.6265 | Test Acc: 0.7175\n",
      "Seed 11 | Epoch 034 | Loss: 0.6272 | Test Acc: 0.7040\n",
      "Seed 11 | Epoch 035 | Loss: 0.6214 | Test Acc: 0.7085\n",
      "Seed 11 | Epoch 036 | Loss: 0.6168 | Test Acc: 0.6906\n",
      "Seed 11 | Epoch 037 | Loss: 0.6212 | Test Acc: 0.7040\n",
      "Seed 11 | Epoch 038 | Loss: 0.6184 | Test Acc: 0.7085\n",
      "Seed 11 | Epoch 039 | Loss: 0.6190 | Test Acc: 0.6906\n",
      "Seed 11 | Epoch 040 | Loss: 0.6169 | Test Acc: 0.6996\n",
      "Seed 11 | Epoch 041 | Loss: 0.6167 | Test Acc: 0.7130\n",
      "Seed 11 | Epoch 042 | Loss: 0.6157 | Test Acc: 0.6592\n",
      "Seed 11 | Epoch 043 | Loss: 0.6185 | Test Acc: 0.6682\n",
      "Seed 11 | Epoch 044 | Loss: 0.6141 | Test Acc: 0.6996\n",
      "Seed 11 | Epoch 045 | Loss: 0.6161 | Test Acc: 0.6682\n",
      "Seed 11 | Epoch 046 | Loss: 0.6167 | Test Acc: 0.6771\n",
      "Seed 11 | Epoch 047 | Loss: 0.6219 | Test Acc: 0.6368\n",
      "Seed 11 | Epoch 048 | Loss: 0.6171 | Test Acc: 0.6996\n",
      "Seed 11 | Epoch 049 | Loss: 0.6160 | Test Acc: 0.7085\n",
      "Seed 11 | Epoch 050 | Loss: 0.6160 | Test Acc: 0.6996\n"
     ]
    },
    {
     "data": {
      "text/html": [],
      "text/plain": [
       "<IPython.core.display.HTML object>"
      ]
     },
     "metadata": {},
     "output_type": "display_data"
    },
    {
     "data": {
      "text/html": [
       "<br>    <style><br>        .wandb-row {<br>            display: flex;<br>            flex-direction: row;<br>            flex-wrap: wrap;<br>            justify-content: flex-start;<br>            width: 100%;<br>        }<br>        .wandb-col {<br>            display: flex;<br>            flex-direction: column;<br>            flex-basis: 100%;<br>            flex: 1;<br>            padding: 10px;<br>        }<br>    </style><br><div class=\"wandb-row\"><div class=\"wandb-col\"><h3>Run history:</h3><br/><table class=\"wandb\"><tr><td>epoch</td><td>▁▁▁▁▂▂▂▂▂▃▃▃▃▃▄▄▄▄▄▄▅▅▅▅▅▆▆▆▆▆▆▇▇▇▇▇▇███</td></tr><tr><td>loss</td><td>█▇▆▆▅▄▄▃▃▃▂▂▂▂▂▂▂▂▂▂▁▁▂▁▁▂▂▂▁▂▁▁▁▁▁▁▁▂▁▁</td></tr><tr><td>test_acc</td><td>▄▄▅▅▄▅▃▇▇▇▄█▁▄▇▇▃▄▆▆▇▇▇▄▇▇█▇▇▆▇▆▇█▃▄▅▁▇▇</td></tr><tr><td>train_acc</td><td>▁▂▂▅▅▅█▇▇█▇▆▇█▇▇▇██▇████▇█▇▇▇████▇▇▇▇▆██</td></tr></table><br/></div><div class=\"wandb-col\"><h3>Run summary:</h3><br/><table class=\"wandb\"><tr><td>epoch</td><td>50</td></tr><tr><td>loss</td><td>0.61602</td></tr><tr><td>test_acc</td><td>0.69955</td></tr><tr><td>train_acc</td><td>0.7</td></tr></table><br/></div></div>"
      ],
      "text/plain": [
       "<IPython.core.display.HTML object>"
      ]
     },
     "metadata": {},
     "output_type": "display_data"
    },
    {
     "data": {
      "text/html": [
       " View run <strong style=\"color:#cdcd00\">GCN_baseline_seed_11</strong> at: <a href='https://wandb.ai/noynetanel1-tel-aviv-university/GCN%20Graph%20classification%28Protein%29_Gal/runs/1oz6iu0c' target=\"_blank\">https://wandb.ai/noynetanel1-tel-aviv-university/GCN%20Graph%20classification%28Protein%29_Gal/runs/1oz6iu0c</a><br> View project at: <a href='https://wandb.ai/noynetanel1-tel-aviv-university/GCN%20Graph%20classification%28Protein%29_Gal' target=\"_blank\">https://wandb.ai/noynetanel1-tel-aviv-university/GCN%20Graph%20classification%28Protein%29_Gal</a><br>Synced 5 W&B file(s), 0 media file(s), 0 artifact file(s) and 0 other file(s)"
      ],
      "text/plain": [
       "<IPython.core.display.HTML object>"
      ]
     },
     "metadata": {},
     "output_type": "display_data"
    },
    {
     "data": {
      "text/html": [
       "Find logs at: <code>./wandb/run-20250820_143236-1oz6iu0c/logs</code>"
      ],
      "text/plain": [
       "<IPython.core.display.HTML object>"
      ]
     },
     "metadata": {},
     "output_type": "display_data"
    },
    {
     "data": {
      "text/html": [
       "Tracking run with wandb version 0.20.1"
      ],
      "text/plain": [
       "<IPython.core.display.HTML object>"
      ]
     },
     "metadata": {},
     "output_type": "display_data"
    },
    {
     "data": {
      "text/html": [
       "Run data is saved locally in <code>/kaggle/working/wandb/run-20250820_143311-9u1bu7a9</code>"
      ],
      "text/plain": [
       "<IPython.core.display.HTML object>"
      ]
     },
     "metadata": {},
     "output_type": "display_data"
    },
    {
     "data": {
      "text/html": [
       "Syncing run <strong><a href='https://wandb.ai/noynetanel1-tel-aviv-university/GCN%20Graph%20classification%28Protein%29_Gal/runs/9u1bu7a9' target=\"_blank\">GCN_baseline_seed_12</a></strong> to <a href='https://wandb.ai/noynetanel1-tel-aviv-university/GCN%20Graph%20classification%28Protein%29_Gal' target=\"_blank\">Weights & Biases</a> (<a href='https://wandb.me/developer-guide' target=\"_blank\">docs</a>)<br>"
      ],
      "text/plain": [
       "<IPython.core.display.HTML object>"
      ]
     },
     "metadata": {},
     "output_type": "display_data"
    },
    {
     "data": {
      "text/html": [
       " View project at <a href='https://wandb.ai/noynetanel1-tel-aviv-university/GCN%20Graph%20classification%28Protein%29_Gal' target=\"_blank\">https://wandb.ai/noynetanel1-tel-aviv-university/GCN%20Graph%20classification%28Protein%29_Gal</a>"
      ],
      "text/plain": [
       "<IPython.core.display.HTML object>"
      ]
     },
     "metadata": {},
     "output_type": "display_data"
    },
    {
     "data": {
      "text/html": [
       " View run at <a href='https://wandb.ai/noynetanel1-tel-aviv-university/GCN%20Graph%20classification%28Protein%29_Gal/runs/9u1bu7a9' target=\"_blank\">https://wandb.ai/noynetanel1-tel-aviv-university/GCN%20Graph%20classification%28Protein%29_Gal/runs/9u1bu7a9</a>"
      ],
      "text/plain": [
       "<IPython.core.display.HTML object>"
      ]
     },
     "metadata": {},
     "output_type": "display_data"
    },
    {
     "name": "stdout",
     "output_type": "stream",
     "text": [
      "Seed 12 | Epoch 001 | Loss: 0.6775 | Test Acc: 0.5874\n",
      "Seed 12 | Epoch 002 | Loss: 0.6670 | Test Acc: 0.5919\n",
      "Seed 12 | Epoch 003 | Loss: 0.6624 | Test Acc: 0.6143\n",
      "Seed 12 | Epoch 004 | Loss: 0.6584 | Test Acc: 0.6368\n",
      "Seed 12 | Epoch 005 | Loss: 0.6539 | Test Acc: 0.6233\n",
      "Seed 12 | Epoch 006 | Loss: 0.6518 | Test Acc: 0.6099\n",
      "Seed 12 | Epoch 007 | Loss: 0.6452 | Test Acc: 0.6099\n",
      "Seed 12 | Epoch 008 | Loss: 0.6382 | Test Acc: 0.6143\n",
      "Seed 12 | Epoch 009 | Loss: 0.6347 | Test Acc: 0.6143\n",
      "Seed 12 | Epoch 010 | Loss: 0.6306 | Test Acc: 0.6457\n",
      "Seed 12 | Epoch 011 | Loss: 0.6266 | Test Acc: 0.6368\n",
      "Seed 12 | Epoch 012 | Loss: 0.6274 | Test Acc: 0.6413\n",
      "Seed 12 | Epoch 013 | Loss: 0.6232 | Test Acc: 0.6368\n",
      "Seed 12 | Epoch 014 | Loss: 0.6230 | Test Acc: 0.6413\n",
      "Seed 12 | Epoch 015 | Loss: 0.6193 | Test Acc: 0.6457\n",
      "Seed 12 | Epoch 016 | Loss: 0.6188 | Test Acc: 0.6368\n",
      "Seed 12 | Epoch 017 | Loss: 0.6199 | Test Acc: 0.6278\n",
      "Seed 12 | Epoch 018 | Loss: 0.6164 | Test Acc: 0.6502\n",
      "Seed 12 | Epoch 019 | Loss: 0.6164 | Test Acc: 0.6502\n",
      "Seed 12 | Epoch 020 | Loss: 0.6155 | Test Acc: 0.6502\n",
      "Seed 12 | Epoch 021 | Loss: 0.6123 | Test Acc: 0.6502\n",
      "Seed 12 | Epoch 022 | Loss: 0.6127 | Test Acc: 0.6368\n",
      "Seed 12 | Epoch 023 | Loss: 0.6122 | Test Acc: 0.6457\n",
      "Seed 12 | Epoch 024 | Loss: 0.6111 | Test Acc: 0.6457\n",
      "Seed 12 | Epoch 025 | Loss: 0.6108 | Test Acc: 0.6547\n",
      "Seed 12 | Epoch 026 | Loss: 0.6111 | Test Acc: 0.6592\n",
      "Seed 12 | Epoch 027 | Loss: 0.6133 | Test Acc: 0.6502\n",
      "Seed 12 | Epoch 028 | Loss: 0.6096 | Test Acc: 0.6457\n",
      "Seed 12 | Epoch 029 | Loss: 0.6109 | Test Acc: 0.6502\n",
      "Seed 12 | Epoch 030 | Loss: 0.6080 | Test Acc: 0.6457\n",
      "Seed 12 | Epoch 031 | Loss: 0.6069 | Test Acc: 0.6323\n",
      "Seed 12 | Epoch 032 | Loss: 0.6095 | Test Acc: 0.6547\n",
      "Seed 12 | Epoch 033 | Loss: 0.6071 | Test Acc: 0.6502\n",
      "Seed 12 | Epoch 034 | Loss: 0.6088 | Test Acc: 0.6726\n",
      "Seed 12 | Epoch 035 | Loss: 0.6057 | Test Acc: 0.6547\n",
      "Seed 12 | Epoch 036 | Loss: 0.6045 | Test Acc: 0.6637\n",
      "Seed 12 | Epoch 037 | Loss: 0.6079 | Test Acc: 0.6502\n",
      "Seed 12 | Epoch 038 | Loss: 0.6061 | Test Acc: 0.6637\n",
      "Seed 12 | Epoch 039 | Loss: 0.6072 | Test Acc: 0.6457\n",
      "Seed 12 | Epoch 040 | Loss: 0.6064 | Test Acc: 0.6368\n",
      "Seed 12 | Epoch 041 | Loss: 0.6054 | Test Acc: 0.6637\n",
      "Seed 12 | Epoch 042 | Loss: 0.6071 | Test Acc: 0.6637\n",
      "Seed 12 | Epoch 043 | Loss: 0.6063 | Test Acc: 0.6592\n",
      "Seed 12 | Epoch 044 | Loss: 0.6054 | Test Acc: 0.6413\n",
      "Seed 12 | Epoch 045 | Loss: 0.6084 | Test Acc: 0.6502\n",
      "Seed 12 | Epoch 046 | Loss: 0.6021 | Test Acc: 0.6592\n",
      "Seed 12 | Epoch 047 | Loss: 0.6027 | Test Acc: 0.6637\n",
      "Seed 12 | Epoch 048 | Loss: 0.6076 | Test Acc: 0.6682\n",
      "Seed 12 | Epoch 049 | Loss: 0.6047 | Test Acc: 0.6457\n",
      "Seed 12 | Epoch 050 | Loss: 0.6036 | Test Acc: 0.6637\n"
     ]
    },
    {
     "data": {
      "text/html": [],
      "text/plain": [
       "<IPython.core.display.HTML object>"
      ]
     },
     "metadata": {},
     "output_type": "display_data"
    },
    {
     "data": {
      "text/html": [
       "<br>    <style><br>        .wandb-row {<br>            display: flex;<br>            flex-direction: row;<br>            flex-wrap: wrap;<br>            justify-content: flex-start;<br>            width: 100%;<br>        }<br>        .wandb-col {<br>            display: flex;<br>            flex-direction: column;<br>            flex-basis: 100%;<br>            flex: 1;<br>            padding: 10px;<br>        }<br>    </style><br><div class=\"wandb-row\"><div class=\"wandb-col\"><h3>Run history:</h3><br/><table class=\"wandb\"><tr><td>epoch</td><td>▁▁▁▁▂▂▂▂▂▂▃▃▃▃▄▄▄▄▄▄▅▅▅▅▅▆▆▆▆▆▆▇▇▇▇▇▇███</td></tr><tr><td>loss</td><td>█▇▇▆▆▅▄▄▄▃▃▃▃▃▂▂▂▂▂▂▂▂▂▂▁▁▂▁▁▂▁▁▁▁▁▂▁▁▂▁</td></tr><tr><td>test_acc</td><td>▁▁▃▅▄▃▃▆▅▆▆▆▅▄▆▆▆▅▆▆▇▆▆▆▆▇▆▇█▆▆▅██▇▆▇███</td></tr><tr><td>train_acc</td><td>▁▁▂▃▄▄▇▇▇▇▇▇▇▇▇▇█▇█▇▇▇▇▇▇▇▇▇▇▇▇▆▇██████▇</td></tr></table><br/></div><div class=\"wandb-col\"><h3>Run summary:</h3><br/><table class=\"wandb\"><tr><td>epoch</td><td>50</td></tr><tr><td>loss</td><td>0.60355</td></tr><tr><td>test_acc</td><td>0.66368</td></tr><tr><td>train_acc</td><td>0.70674</td></tr></table><br/></div></div>"
      ],
      "text/plain": [
       "<IPython.core.display.HTML object>"
      ]
     },
     "metadata": {},
     "output_type": "display_data"
    },
    {
     "data": {
      "text/html": [
       " View run <strong style=\"color:#cdcd00\">GCN_baseline_seed_12</strong> at: <a href='https://wandb.ai/noynetanel1-tel-aviv-university/GCN%20Graph%20classification%28Protein%29_Gal/runs/9u1bu7a9' target=\"_blank\">https://wandb.ai/noynetanel1-tel-aviv-university/GCN%20Graph%20classification%28Protein%29_Gal/runs/9u1bu7a9</a><br> View project at: <a href='https://wandb.ai/noynetanel1-tel-aviv-university/GCN%20Graph%20classification%28Protein%29_Gal' target=\"_blank\">https://wandb.ai/noynetanel1-tel-aviv-university/GCN%20Graph%20classification%28Protein%29_Gal</a><br>Synced 5 W&B file(s), 0 media file(s), 0 artifact file(s) and 0 other file(s)"
      ],
      "text/plain": [
       "<IPython.core.display.HTML object>"
      ]
     },
     "metadata": {},
     "output_type": "display_data"
    },
    {
     "data": {
      "text/html": [
       "Find logs at: <code>./wandb/run-20250820_143311-9u1bu7a9/logs</code>"
      ],
      "text/plain": [
       "<IPython.core.display.HTML object>"
      ]
     },
     "metadata": {},
     "output_type": "display_data"
    },
    {
     "data": {
      "text/html": [
       "Tracking run with wandb version 0.20.1"
      ],
      "text/plain": [
       "<IPython.core.display.HTML object>"
      ]
     },
     "metadata": {},
     "output_type": "display_data"
    },
    {
     "data": {
      "text/html": [
       "Run data is saved locally in <code>/kaggle/working/wandb/run-20250820_143346-mhqbx88v</code>"
      ],
      "text/plain": [
       "<IPython.core.display.HTML object>"
      ]
     },
     "metadata": {},
     "output_type": "display_data"
    },
    {
     "data": {
      "text/html": [
       "Syncing run <strong><a href='https://wandb.ai/noynetanel1-tel-aviv-university/GCN%20Graph%20classification%28Protein%29_Gal/runs/mhqbx88v' target=\"_blank\">GCN_baseline_seed_13</a></strong> to <a href='https://wandb.ai/noynetanel1-tel-aviv-university/GCN%20Graph%20classification%28Protein%29_Gal' target=\"_blank\">Weights & Biases</a> (<a href='https://wandb.me/developer-guide' target=\"_blank\">docs</a>)<br>"
      ],
      "text/plain": [
       "<IPython.core.display.HTML object>"
      ]
     },
     "metadata": {},
     "output_type": "display_data"
    },
    {
     "data": {
      "text/html": [
       " View project at <a href='https://wandb.ai/noynetanel1-tel-aviv-university/GCN%20Graph%20classification%28Protein%29_Gal' target=\"_blank\">https://wandb.ai/noynetanel1-tel-aviv-university/GCN%20Graph%20classification%28Protein%29_Gal</a>"
      ],
      "text/plain": [
       "<IPython.core.display.HTML object>"
      ]
     },
     "metadata": {},
     "output_type": "display_data"
    },
    {
     "data": {
      "text/html": [
       " View run at <a href='https://wandb.ai/noynetanel1-tel-aviv-university/GCN%20Graph%20classification%28Protein%29_Gal/runs/mhqbx88v' target=\"_blank\">https://wandb.ai/noynetanel1-tel-aviv-university/GCN%20Graph%20classification%28Protein%29_Gal/runs/mhqbx88v</a>"
      ],
      "text/plain": [
       "<IPython.core.display.HTML object>"
      ]
     },
     "metadata": {},
     "output_type": "display_data"
    },
    {
     "name": "stdout",
     "output_type": "stream",
     "text": [
      "Seed 13 | Epoch 001 | Loss: 0.6784 | Test Acc: 0.6637\n",
      "Seed 13 | Epoch 002 | Loss: 0.6713 | Test Acc: 0.6502\n",
      "Seed 13 | Epoch 003 | Loss: 0.6690 | Test Acc: 0.6413\n",
      "Seed 13 | Epoch 004 | Loss: 0.6648 | Test Acc: 0.6233\n",
      "Seed 13 | Epoch 005 | Loss: 0.6632 | Test Acc: 0.6413\n",
      "Seed 13 | Epoch 006 | Loss: 0.6559 | Test Acc: 0.6368\n",
      "Seed 13 | Epoch 007 | Loss: 0.6523 | Test Acc: 0.6143\n",
      "Seed 13 | Epoch 008 | Loss: 0.6483 | Test Acc: 0.6368\n",
      "Seed 13 | Epoch 009 | Loss: 0.6431 | Test Acc: 0.6143\n",
      "Seed 13 | Epoch 010 | Loss: 0.6335 | Test Acc: 0.6547\n",
      "Seed 13 | Epoch 011 | Loss: 0.6411 | Test Acc: 0.6368\n",
      "Seed 13 | Epoch 012 | Loss: 0.6342 | Test Acc: 0.6682\n",
      "Seed 13 | Epoch 013 | Loss: 0.6360 | Test Acc: 0.6547\n",
      "Seed 13 | Epoch 014 | Loss: 0.6268 | Test Acc: 0.6547\n",
      "Seed 13 | Epoch 015 | Loss: 0.6277 | Test Acc: 0.6547\n",
      "Seed 13 | Epoch 016 | Loss: 0.6300 | Test Acc: 0.6457\n",
      "Seed 13 | Epoch 017 | Loss: 0.6235 | Test Acc: 0.6502\n",
      "Seed 13 | Epoch 018 | Loss: 0.6226 | Test Acc: 0.6592\n",
      "Seed 13 | Epoch 019 | Loss: 0.6208 | Test Acc: 0.6457\n",
      "Seed 13 | Epoch 020 | Loss: 0.6262 | Test Acc: 0.6861\n",
      "Seed 13 | Epoch 021 | Loss: 0.6221 | Test Acc: 0.6592\n",
      "Seed 13 | Epoch 022 | Loss: 0.6189 | Test Acc: 0.6547\n",
      "Seed 13 | Epoch 023 | Loss: 0.6187 | Test Acc: 0.6143\n",
      "Seed 13 | Epoch 024 | Loss: 0.6230 | Test Acc: 0.6592\n",
      "Seed 13 | Epoch 025 | Loss: 0.6175 | Test Acc: 0.6637\n",
      "Seed 13 | Epoch 026 | Loss: 0.6149 | Test Acc: 0.6547\n",
      "Seed 13 | Epoch 027 | Loss: 0.6125 | Test Acc: 0.6368\n",
      "Seed 13 | Epoch 028 | Loss: 0.6183 | Test Acc: 0.6726\n",
      "Seed 13 | Epoch 029 | Loss: 0.6140 | Test Acc: 0.6637\n",
      "Seed 13 | Epoch 030 | Loss: 0.6120 | Test Acc: 0.6682\n",
      "Seed 13 | Epoch 031 | Loss: 0.6157 | Test Acc: 0.6637\n",
      "Seed 13 | Epoch 032 | Loss: 0.6169 | Test Acc: 0.6592\n",
      "Seed 13 | Epoch 033 | Loss: 0.6201 | Test Acc: 0.6726\n",
      "Seed 13 | Epoch 034 | Loss: 0.6145 | Test Acc: 0.6906\n",
      "Seed 13 | Epoch 035 | Loss: 0.6157 | Test Acc: 0.6547\n",
      "Seed 13 | Epoch 036 | Loss: 0.6165 | Test Acc: 0.6592\n",
      "Seed 13 | Epoch 037 | Loss: 0.6128 | Test Acc: 0.6592\n",
      "Seed 13 | Epoch 038 | Loss: 0.6113 | Test Acc: 0.6771\n",
      "Seed 13 | Epoch 039 | Loss: 0.6107 | Test Acc: 0.6726\n",
      "Seed 13 | Epoch 040 | Loss: 0.6123 | Test Acc: 0.6413\n",
      "Seed 13 | Epoch 041 | Loss: 0.6161 | Test Acc: 0.6637\n",
      "Seed 13 | Epoch 042 | Loss: 0.6136 | Test Acc: 0.6682\n",
      "Seed 13 | Epoch 043 | Loss: 0.6108 | Test Acc: 0.6816\n",
      "Seed 13 | Epoch 044 | Loss: 0.6112 | Test Acc: 0.6816\n",
      "Seed 13 | Epoch 045 | Loss: 0.6113 | Test Acc: 0.6637\n",
      "Seed 13 | Epoch 046 | Loss: 0.6126 | Test Acc: 0.6682\n",
      "Seed 13 | Epoch 047 | Loss: 0.6134 | Test Acc: 0.6592\n",
      "Seed 13 | Epoch 048 | Loss: 0.6096 | Test Acc: 0.6368\n",
      "Seed 13 | Epoch 049 | Loss: 0.6136 | Test Acc: 0.6502\n",
      "Seed 13 | Epoch 050 | Loss: 0.6102 | Test Acc: 0.6726\n"
     ]
    },
    {
     "data": {
      "text/html": [],
      "text/plain": [
       "<IPython.core.display.HTML object>"
      ]
     },
     "metadata": {},
     "output_type": "display_data"
    },
    {
     "data": {
      "text/html": [
       "<br>    <style><br>        .wandb-row {<br>            display: flex;<br>            flex-direction: row;<br>            flex-wrap: wrap;<br>            justify-content: flex-start;<br>            width: 100%;<br>        }<br>        .wandb-col {<br>            display: flex;<br>            flex-direction: column;<br>            flex-basis: 100%;<br>            flex: 1;<br>            padding: 10px;<br>        }<br>    </style><br><div class=\"wandb-row\"><div class=\"wandb-col\"><h3>Run history:</h3><br/><table class=\"wandb\"><tr><td>epoch</td><td>▁▁▁▁▂▂▂▂▂▂▃▃▃▃▃▄▄▄▄▄▅▅▅▅▅▆▆▆▆▆▆▇▇▇▇▇▇███</td></tr><tr><td>loss</td><td>█▇▇▇▆▅▅▄▃▄▄▃▃▃▂▂▃▂▂▂▁▂▁▁▂▂▂▂▂▁▁▁▂▁▁▁▁▁▁▁</td></tr><tr><td>test_acc</td><td>▆▄▃▂▃▁▃▁▅▆▅▄▄▅▄▅▅▁▅▆▃▆▆▆▆▆█▅▅▅▆▃▆▆▇▆▆▅▃▆</td></tr><tr><td>train_acc</td><td>▁▅▄▅▅▅▅▅▄▄▇▇▅▇▇▇▇▅▇▇▅█▇▇█▇▇▇▇██▆▇██▇██▆█</td></tr></table><br/></div><div class=\"wandb-col\"><h3>Run summary:</h3><br/><table class=\"wandb\"><tr><td>epoch</td><td>50</td></tr><tr><td>loss</td><td>0.61021</td></tr><tr><td>test_acc</td><td>0.67265</td></tr><tr><td>train_acc</td><td>0.71236</td></tr></table><br/></div></div>"
      ],
      "text/plain": [
       "<IPython.core.display.HTML object>"
      ]
     },
     "metadata": {},
     "output_type": "display_data"
    },
    {
     "data": {
      "text/html": [
       " View run <strong style=\"color:#cdcd00\">GCN_baseline_seed_13</strong> at: <a href='https://wandb.ai/noynetanel1-tel-aviv-university/GCN%20Graph%20classification%28Protein%29_Gal/runs/mhqbx88v' target=\"_blank\">https://wandb.ai/noynetanel1-tel-aviv-university/GCN%20Graph%20classification%28Protein%29_Gal/runs/mhqbx88v</a><br> View project at: <a href='https://wandb.ai/noynetanel1-tel-aviv-university/GCN%20Graph%20classification%28Protein%29_Gal' target=\"_blank\">https://wandb.ai/noynetanel1-tel-aviv-university/GCN%20Graph%20classification%28Protein%29_Gal</a><br>Synced 5 W&B file(s), 0 media file(s), 0 artifact file(s) and 0 other file(s)"
      ],
      "text/plain": [
       "<IPython.core.display.HTML object>"
      ]
     },
     "metadata": {},
     "output_type": "display_data"
    },
    {
     "data": {
      "text/html": [
       "Find logs at: <code>./wandb/run-20250820_143346-mhqbx88v/logs</code>"
      ],
      "text/plain": [
       "<IPython.core.display.HTML object>"
      ]
     },
     "metadata": {},
     "output_type": "display_data"
    },
    {
     "data": {
      "text/html": [
       "Tracking run with wandb version 0.20.1"
      ],
      "text/plain": [
       "<IPython.core.display.HTML object>"
      ]
     },
     "metadata": {},
     "output_type": "display_data"
    },
    {
     "data": {
      "text/html": [
       "Run data is saved locally in <code>/kaggle/working/wandb/run-20250820_143422-6hswmiap</code>"
      ],
      "text/plain": [
       "<IPython.core.display.HTML object>"
      ]
     },
     "metadata": {},
     "output_type": "display_data"
    },
    {
     "data": {
      "text/html": [
       "Syncing run <strong><a href='https://wandb.ai/noynetanel1-tel-aviv-university/GCN%20Graph%20classification%28Protein%29_Gal/runs/6hswmiap' target=\"_blank\">GCN_baseline_seed_14</a></strong> to <a href='https://wandb.ai/noynetanel1-tel-aviv-university/GCN%20Graph%20classification%28Protein%29_Gal' target=\"_blank\">Weights & Biases</a> (<a href='https://wandb.me/developer-guide' target=\"_blank\">docs</a>)<br>"
      ],
      "text/plain": [
       "<IPython.core.display.HTML object>"
      ]
     },
     "metadata": {},
     "output_type": "display_data"
    },
    {
     "data": {
      "text/html": [
       " View project at <a href='https://wandb.ai/noynetanel1-tel-aviv-university/GCN%20Graph%20classification%28Protein%29_Gal' target=\"_blank\">https://wandb.ai/noynetanel1-tel-aviv-university/GCN%20Graph%20classification%28Protein%29_Gal</a>"
      ],
      "text/plain": [
       "<IPython.core.display.HTML object>"
      ]
     },
     "metadata": {},
     "output_type": "display_data"
    },
    {
     "data": {
      "text/html": [
       " View run at <a href='https://wandb.ai/noynetanel1-tel-aviv-university/GCN%20Graph%20classification%28Protein%29_Gal/runs/6hswmiap' target=\"_blank\">https://wandb.ai/noynetanel1-tel-aviv-university/GCN%20Graph%20classification%28Protein%29_Gal/runs/6hswmiap</a>"
      ],
      "text/plain": [
       "<IPython.core.display.HTML object>"
      ]
     },
     "metadata": {},
     "output_type": "display_data"
    },
    {
     "name": "stdout",
     "output_type": "stream",
     "text": [
      "Seed 14 | Epoch 001 | Loss: 0.6908 | Test Acc: 0.6054\n",
      "Seed 14 | Epoch 002 | Loss: 0.6717 | Test Acc: 0.6054\n",
      "Seed 14 | Epoch 003 | Loss: 0.6683 | Test Acc: 0.6099\n",
      "Seed 14 | Epoch 004 | Loss: 0.6644 | Test Acc: 0.6323\n",
      "Seed 14 | Epoch 005 | Loss: 0.6598 | Test Acc: 0.6233\n",
      "Seed 14 | Epoch 006 | Loss: 0.6555 | Test Acc: 0.6323\n",
      "Seed 14 | Epoch 007 | Loss: 0.6519 | Test Acc: 0.6233\n",
      "Seed 14 | Epoch 008 | Loss: 0.6476 | Test Acc: 0.6188\n",
      "Seed 14 | Epoch 009 | Loss: 0.6411 | Test Acc: 0.6233\n",
      "Seed 14 | Epoch 010 | Loss: 0.6368 | Test Acc: 0.6951\n",
      "Seed 14 | Epoch 011 | Loss: 0.6342 | Test Acc: 0.6996\n",
      "Seed 14 | Epoch 012 | Loss: 0.6310 | Test Acc: 0.6323\n",
      "Seed 14 | Epoch 013 | Loss: 0.6302 | Test Acc: 0.6188\n",
      "Seed 14 | Epoch 014 | Loss: 0.6276 | Test Acc: 0.7040\n",
      "Seed 14 | Epoch 015 | Loss: 0.6344 | Test Acc: 0.6278\n",
      "Seed 14 | Epoch 016 | Loss: 0.6221 | Test Acc: 0.7085\n",
      "Seed 14 | Epoch 017 | Loss: 0.6199 | Test Acc: 0.6951\n",
      "Seed 14 | Epoch 018 | Loss: 0.6189 | Test Acc: 0.6996\n",
      "Seed 14 | Epoch 019 | Loss: 0.6213 | Test Acc: 0.7220\n",
      "Seed 14 | Epoch 020 | Loss: 0.6191 | Test Acc: 0.7130\n",
      "Seed 14 | Epoch 021 | Loss: 0.6174 | Test Acc: 0.7085\n",
      "Seed 14 | Epoch 022 | Loss: 0.6197 | Test Acc: 0.6547\n",
      "Seed 14 | Epoch 023 | Loss: 0.6202 | Test Acc: 0.7130\n",
      "Seed 14 | Epoch 024 | Loss: 0.6154 | Test Acc: 0.6996\n",
      "Seed 14 | Epoch 025 | Loss: 0.6176 | Test Acc: 0.6996\n",
      "Seed 14 | Epoch 026 | Loss: 0.6201 | Test Acc: 0.7130\n",
      "Seed 14 | Epoch 027 | Loss: 0.6152 | Test Acc: 0.7130\n",
      "Seed 14 | Epoch 028 | Loss: 0.6137 | Test Acc: 0.7175\n",
      "Seed 14 | Epoch 029 | Loss: 0.6148 | Test Acc: 0.7040\n",
      "Seed 14 | Epoch 030 | Loss: 0.6140 | Test Acc: 0.7040\n",
      "Seed 14 | Epoch 031 | Loss: 0.6117 | Test Acc: 0.7040\n",
      "Seed 14 | Epoch 032 | Loss: 0.6124 | Test Acc: 0.7130\n",
      "Seed 14 | Epoch 033 | Loss: 0.6147 | Test Acc: 0.7175\n",
      "Seed 14 | Epoch 034 | Loss: 0.6147 | Test Acc: 0.7040\n",
      "Seed 14 | Epoch 035 | Loss: 0.6131 | Test Acc: 0.7040\n",
      "Seed 14 | Epoch 036 | Loss: 0.6125 | Test Acc: 0.7040\n",
      "Seed 14 | Epoch 037 | Loss: 0.6118 | Test Acc: 0.6816\n",
      "Seed 14 | Epoch 038 | Loss: 0.6124 | Test Acc: 0.6906\n",
      "Seed 14 | Epoch 039 | Loss: 0.6114 | Test Acc: 0.6951\n",
      "Seed 14 | Epoch 040 | Loss: 0.6109 | Test Acc: 0.6906\n",
      "Seed 14 | Epoch 041 | Loss: 0.6144 | Test Acc: 0.6996\n",
      "Seed 14 | Epoch 042 | Loss: 0.6118 | Test Acc: 0.7175\n",
      "Seed 14 | Epoch 043 | Loss: 0.6087 | Test Acc: 0.6996\n",
      "Seed 14 | Epoch 044 | Loss: 0.6082 | Test Acc: 0.7175\n",
      "Seed 14 | Epoch 045 | Loss: 0.6067 | Test Acc: 0.7040\n",
      "Seed 14 | Epoch 046 | Loss: 0.6095 | Test Acc: 0.6906\n",
      "Seed 14 | Epoch 047 | Loss: 0.6070 | Test Acc: 0.7130\n",
      "Seed 14 | Epoch 048 | Loss: 0.6071 | Test Acc: 0.7040\n",
      "Seed 14 | Epoch 049 | Loss: 0.6079 | Test Acc: 0.7130\n",
      "Seed 14 | Epoch 050 | Loss: 0.6064 | Test Acc: 0.7130\n"
     ]
    },
    {
     "data": {
      "text/html": [],
      "text/plain": [
       "<IPython.core.display.HTML object>"
      ]
     },
     "metadata": {},
     "output_type": "display_data"
    },
    {
     "data": {
      "text/html": [
       "<br>    <style><br>        .wandb-row {<br>            display: flex;<br>            flex-direction: row;<br>            flex-wrap: wrap;<br>            justify-content: flex-start;<br>            width: 100%;<br>        }<br>        .wandb-col {<br>            display: flex;<br>            flex-direction: column;<br>            flex-basis: 100%;<br>            flex: 1;<br>            padding: 10px;<br>        }<br>    </style><br><div class=\"wandb-row\"><div class=\"wandb-col\"><h3>Run history:</h3><br/><table class=\"wandb\"><tr><td>epoch</td><td>▁▁▁▁▂▂▂▂▂▃▃▃▃▃▃▄▄▄▄▄▅▅▅▅▅▆▆▆▆▆▆▇▇▇▇▇▇███</td></tr><tr><td>loss</td><td>█▆▆▆▅▅▄▄▃▃▃▃▂▂▂▂▂▂▂▂▂▂▂▂▂▁▂▂▂▂▁▁▁▂▁▁▁▁▁▁</td></tr><tr><td>test_acc</td><td>▁▁▃▂▃▂▂▇▇▃▇▂▇▇▇█▇▄█▇███▇▇██▇▇▇▆▇▆▇██▇▆▇█</td></tr><tr><td>train_acc</td><td>▁▁▃▃▃▄▄▄▇▇▅▇▄█▇▇██▅▇▇▇██▇██▇▇▇▆▇▇▇▇▇██▇█</td></tr></table><br/></div><div class=\"wandb-col\"><h3>Run summary:</h3><br/><table class=\"wandb\"><tr><td>epoch</td><td>50</td></tr><tr><td>loss</td><td>0.60641</td></tr><tr><td>test_acc</td><td>0.713</td></tr><tr><td>train_acc</td><td>0.70674</td></tr></table><br/></div></div>"
      ],
      "text/plain": [
       "<IPython.core.display.HTML object>"
      ]
     },
     "metadata": {},
     "output_type": "display_data"
    },
    {
     "data": {
      "text/html": [
       " View run <strong style=\"color:#cdcd00\">GCN_baseline_seed_14</strong> at: <a href='https://wandb.ai/noynetanel1-tel-aviv-university/GCN%20Graph%20classification%28Protein%29_Gal/runs/6hswmiap' target=\"_blank\">https://wandb.ai/noynetanel1-tel-aviv-university/GCN%20Graph%20classification%28Protein%29_Gal/runs/6hswmiap</a><br> View project at: <a href='https://wandb.ai/noynetanel1-tel-aviv-university/GCN%20Graph%20classification%28Protein%29_Gal' target=\"_blank\">https://wandb.ai/noynetanel1-tel-aviv-university/GCN%20Graph%20classification%28Protein%29_Gal</a><br>Synced 5 W&B file(s), 0 media file(s), 0 artifact file(s) and 0 other file(s)"
      ],
      "text/plain": [
       "<IPython.core.display.HTML object>"
      ]
     },
     "metadata": {},
     "output_type": "display_data"
    },
    {
     "data": {
      "text/html": [
       "Find logs at: <code>./wandb/run-20250820_143422-6hswmiap/logs</code>"
      ],
      "text/plain": [
       "<IPython.core.display.HTML object>"
      ]
     },
     "metadata": {},
     "output_type": "display_data"
    },
    {
     "data": {
      "text/html": [
       "Tracking run with wandb version 0.20.1"
      ],
      "text/plain": [
       "<IPython.core.display.HTML object>"
      ]
     },
     "metadata": {},
     "output_type": "display_data"
    },
    {
     "data": {
      "text/html": [
       "Run data is saved locally in <code>/kaggle/working/wandb/run-20250820_143459-vpju3pvu</code>"
      ],
      "text/plain": [
       "<IPython.core.display.HTML object>"
      ]
     },
     "metadata": {},
     "output_type": "display_data"
    },
    {
     "data": {
      "text/html": [
       "Syncing run <strong><a href='https://wandb.ai/noynetanel1-tel-aviv-university/GCN%20Graph%20classification%28Protein%29_Gal/runs/vpju3pvu' target=\"_blank\">GCN_baseline_seed_15</a></strong> to <a href='https://wandb.ai/noynetanel1-tel-aviv-university/GCN%20Graph%20classification%28Protein%29_Gal' target=\"_blank\">Weights & Biases</a> (<a href='https://wandb.me/developer-guide' target=\"_blank\">docs</a>)<br>"
      ],
      "text/plain": [
       "<IPython.core.display.HTML object>"
      ]
     },
     "metadata": {},
     "output_type": "display_data"
    },
    {
     "data": {
      "text/html": [
       " View project at <a href='https://wandb.ai/noynetanel1-tel-aviv-university/GCN%20Graph%20classification%28Protein%29_Gal' target=\"_blank\">https://wandb.ai/noynetanel1-tel-aviv-university/GCN%20Graph%20classification%28Protein%29_Gal</a>"
      ],
      "text/plain": [
       "<IPython.core.display.HTML object>"
      ]
     },
     "metadata": {},
     "output_type": "display_data"
    },
    {
     "data": {
      "text/html": [
       " View run at <a href='https://wandb.ai/noynetanel1-tel-aviv-university/GCN%20Graph%20classification%28Protein%29_Gal/runs/vpju3pvu' target=\"_blank\">https://wandb.ai/noynetanel1-tel-aviv-university/GCN%20Graph%20classification%28Protein%29_Gal/runs/vpju3pvu</a>"
      ],
      "text/plain": [
       "<IPython.core.display.HTML object>"
      ]
     },
     "metadata": {},
     "output_type": "display_data"
    },
    {
     "name": "stdout",
     "output_type": "stream",
     "text": [
      "Seed 15 | Epoch 001 | Loss: 0.6841 | Test Acc: 0.5964\n",
      "Seed 15 | Epoch 002 | Loss: 0.6729 | Test Acc: 0.5964\n",
      "Seed 15 | Epoch 003 | Loss: 0.6670 | Test Acc: 0.6143\n",
      "Seed 15 | Epoch 004 | Loss: 0.6651 | Test Acc: 0.6323\n",
      "Seed 15 | Epoch 005 | Loss: 0.6584 | Test Acc: 0.6368\n",
      "Seed 15 | Epoch 006 | Loss: 0.6540 | Test Acc: 0.6502\n",
      "Seed 15 | Epoch 007 | Loss: 0.6489 | Test Acc: 0.6278\n",
      "Seed 15 | Epoch 008 | Loss: 0.6446 | Test Acc: 0.6323\n",
      "Seed 15 | Epoch 009 | Loss: 0.6398 | Test Acc: 0.6637\n",
      "Seed 15 | Epoch 010 | Loss: 0.6358 | Test Acc: 0.6637\n",
      "Seed 15 | Epoch 011 | Loss: 0.6325 | Test Acc: 0.6547\n",
      "Seed 15 | Epoch 012 | Loss: 0.6308 | Test Acc: 0.6368\n",
      "Seed 15 | Epoch 013 | Loss: 0.6331 | Test Acc: 0.6771\n",
      "Seed 15 | Epoch 014 | Loss: 0.6250 | Test Acc: 0.6592\n",
      "Seed 15 | Epoch 015 | Loss: 0.6254 | Test Acc: 0.6278\n",
      "Seed 15 | Epoch 016 | Loss: 0.6262 | Test Acc: 0.6502\n",
      "Seed 15 | Epoch 017 | Loss: 0.6222 | Test Acc: 0.6457\n",
      "Seed 15 | Epoch 018 | Loss: 0.6212 | Test Acc: 0.6771\n",
      "Seed 15 | Epoch 019 | Loss: 0.6195 | Test Acc: 0.6861\n",
      "Seed 15 | Epoch 020 | Loss: 0.6184 | Test Acc: 0.6771\n",
      "Seed 15 | Epoch 021 | Loss: 0.6171 | Test Acc: 0.6726\n",
      "Seed 15 | Epoch 022 | Loss: 0.6162 | Test Acc: 0.6547\n",
      "Seed 15 | Epoch 023 | Loss: 0.6182 | Test Acc: 0.6682\n",
      "Seed 15 | Epoch 024 | Loss: 0.6161 | Test Acc: 0.6592\n",
      "Seed 15 | Epoch 025 | Loss: 0.6189 | Test Acc: 0.6682\n",
      "Seed 15 | Epoch 026 | Loss: 0.6136 | Test Acc: 0.6682\n",
      "Seed 15 | Epoch 027 | Loss: 0.6142 | Test Acc: 0.6682\n",
      "Seed 15 | Epoch 028 | Loss: 0.6132 | Test Acc: 0.6637\n",
      "Seed 15 | Epoch 029 | Loss: 0.6139 | Test Acc: 0.6637\n",
      "Seed 15 | Epoch 030 | Loss: 0.6141 | Test Acc: 0.6637\n",
      "Seed 15 | Epoch 031 | Loss: 0.6126 | Test Acc: 0.6457\n",
      "Seed 15 | Epoch 032 | Loss: 0.6092 | Test Acc: 0.6547\n",
      "Seed 15 | Epoch 033 | Loss: 0.6147 | Test Acc: 0.6592\n",
      "Seed 15 | Epoch 034 | Loss: 0.6139 | Test Acc: 0.6682\n",
      "Seed 15 | Epoch 035 | Loss: 0.6100 | Test Acc: 0.6771\n",
      "Seed 15 | Epoch 036 | Loss: 0.6116 | Test Acc: 0.6726\n",
      "Seed 15 | Epoch 037 | Loss: 0.6165 | Test Acc: 0.6726\n",
      "Seed 15 | Epoch 038 | Loss: 0.6101 | Test Acc: 0.6726\n",
      "Seed 15 | Epoch 039 | Loss: 0.6101 | Test Acc: 0.6637\n",
      "Seed 15 | Epoch 040 | Loss: 0.6122 | Test Acc: 0.6682\n",
      "Seed 15 | Epoch 041 | Loss: 0.6130 | Test Acc: 0.6682\n",
      "Seed 15 | Epoch 042 | Loss: 0.6120 | Test Acc: 0.6592\n",
      "Seed 15 | Epoch 043 | Loss: 0.6166 | Test Acc: 0.6637\n",
      "Seed 15 | Epoch 044 | Loss: 0.6125 | Test Acc: 0.6726\n",
      "Seed 15 | Epoch 045 | Loss: 0.6100 | Test Acc: 0.6592\n",
      "Seed 15 | Epoch 046 | Loss: 0.6108 | Test Acc: 0.6682\n",
      "Seed 15 | Epoch 047 | Loss: 0.6103 | Test Acc: 0.6637\n",
      "Seed 15 | Epoch 048 | Loss: 0.6091 | Test Acc: 0.6413\n",
      "Seed 15 | Epoch 049 | Loss: 0.6144 | Test Acc: 0.6771\n",
      "Seed 15 | Epoch 050 | Loss: 0.6094 | Test Acc: 0.6682\n"
     ]
    },
    {
     "data": {
      "text/html": [],
      "text/plain": [
       "<IPython.core.display.HTML object>"
      ]
     },
     "metadata": {},
     "output_type": "display_data"
    },
    {
     "data": {
      "text/html": [
       "<br>    <style><br>        .wandb-row {<br>            display: flex;<br>            flex-direction: row;<br>            flex-wrap: wrap;<br>            justify-content: flex-start;<br>            width: 100%;<br>        }<br>        .wandb-col {<br>            display: flex;<br>            flex-direction: column;<br>            flex-basis: 100%;<br>            flex: 1;<br>            padding: 10px;<br>        }<br>    </style><br><div class=\"wandb-row\"><div class=\"wandb-col\"><h3>Run history:</h3><br/><table class=\"wandb\"><tr><td>epoch</td><td>▁▁▁▁▂▂▂▂▂▃▃▃▃▃▃▄▄▄▄▄▅▅▅▅▅▅▆▆▆▆▆▇▇▇▇▇▇███</td></tr><tr><td>loss</td><td>█▇▆▆▆▅▄▄▃▃▃▂▃▃▂▂▂▂▂▂▁▁▁▁▁▂▁▁▁▂▁▁▁▁▂▁▁▁▁▁</td></tr><tr><td>test_acc</td><td>▁▁▂▄▄▃▄▆▆▆▇▆▃▅▅█▇▇▆▇▇▇▇▆▆▅▆▆▇▇▇▇▆▇▇▆▇▆▇▇</td></tr><tr><td>train_acc</td><td>▁▁▂▃▄▂▄▇▇▇▇█▄▇▇███▇████▇█▇█▇██▇█▇█▇▇▇▇▇█</td></tr></table><br/></div><div class=\"wandb-col\"><h3>Run summary:</h3><br/><table class=\"wandb\"><tr><td>epoch</td><td>50</td></tr><tr><td>loss</td><td>0.60944</td></tr><tr><td>test_acc</td><td>0.66816</td></tr><tr><td>train_acc</td><td>0.70899</td></tr></table><br/></div></div>"
      ],
      "text/plain": [
       "<IPython.core.display.HTML object>"
      ]
     },
     "metadata": {},
     "output_type": "display_data"
    },
    {
     "data": {
      "text/html": [
       " View run <strong style=\"color:#cdcd00\">GCN_baseline_seed_15</strong> at: <a href='https://wandb.ai/noynetanel1-tel-aviv-university/GCN%20Graph%20classification%28Protein%29_Gal/runs/vpju3pvu' target=\"_blank\">https://wandb.ai/noynetanel1-tel-aviv-university/GCN%20Graph%20classification%28Protein%29_Gal/runs/vpju3pvu</a><br> View project at: <a href='https://wandb.ai/noynetanel1-tel-aviv-university/GCN%20Graph%20classification%28Protein%29_Gal' target=\"_blank\">https://wandb.ai/noynetanel1-tel-aviv-university/GCN%20Graph%20classification%28Protein%29_Gal</a><br>Synced 5 W&B file(s), 0 media file(s), 0 artifact file(s) and 0 other file(s)"
      ],
      "text/plain": [
       "<IPython.core.display.HTML object>"
      ]
     },
     "metadata": {},
     "output_type": "display_data"
    },
    {
     "data": {
      "text/html": [
       "Find logs at: <code>./wandb/run-20250820_143459-vpju3pvu/logs</code>"
      ],
      "text/plain": [
       "<IPython.core.display.HTML object>"
      ]
     },
     "metadata": {},
     "output_type": "display_data"
    },
    {
     "data": {
      "text/html": [
       "Tracking run with wandb version 0.20.1"
      ],
      "text/plain": [
       "<IPython.core.display.HTML object>"
      ]
     },
     "metadata": {},
     "output_type": "display_data"
    },
    {
     "data": {
      "text/html": [
       "Run data is saved locally in <code>/kaggle/working/wandb/run-20250820_143540-p8iu3u2v</code>"
      ],
      "text/plain": [
       "<IPython.core.display.HTML object>"
      ]
     },
     "metadata": {},
     "output_type": "display_data"
    },
    {
     "data": {
      "text/html": [
       "Syncing run <strong><a href='https://wandb.ai/noynetanel1-tel-aviv-university/GCN%20Graph%20classification%28Protein%29_Gal/runs/p8iu3u2v' target=\"_blank\">GCN_baseline_seed_16</a></strong> to <a href='https://wandb.ai/noynetanel1-tel-aviv-university/GCN%20Graph%20classification%28Protein%29_Gal' target=\"_blank\">Weights & Biases</a> (<a href='https://wandb.me/developer-guide' target=\"_blank\">docs</a>)<br>"
      ],
      "text/plain": [
       "<IPython.core.display.HTML object>"
      ]
     },
     "metadata": {},
     "output_type": "display_data"
    },
    {
     "data": {
      "text/html": [
       " View project at <a href='https://wandb.ai/noynetanel1-tel-aviv-university/GCN%20Graph%20classification%28Protein%29_Gal' target=\"_blank\">https://wandb.ai/noynetanel1-tel-aviv-university/GCN%20Graph%20classification%28Protein%29_Gal</a>"
      ],
      "text/plain": [
       "<IPython.core.display.HTML object>"
      ]
     },
     "metadata": {},
     "output_type": "display_data"
    },
    {
     "data": {
      "text/html": [
       " View run at <a href='https://wandb.ai/noynetanel1-tel-aviv-university/GCN%20Graph%20classification%28Protein%29_Gal/runs/p8iu3u2v' target=\"_blank\">https://wandb.ai/noynetanel1-tel-aviv-university/GCN%20Graph%20classification%28Protein%29_Gal/runs/p8iu3u2v</a>"
      ],
      "text/plain": [
       "<IPython.core.display.HTML object>"
      ]
     },
     "metadata": {},
     "output_type": "display_data"
    },
    {
     "name": "stdout",
     "output_type": "stream",
     "text": [
      "Seed 16 | Epoch 001 | Loss: 0.6824 | Test Acc: 0.6861\n",
      "Seed 16 | Epoch 002 | Loss: 0.6755 | Test Acc: 0.7085\n",
      "Seed 16 | Epoch 003 | Loss: 0.6693 | Test Acc: 0.7130\n",
      "Seed 16 | Epoch 004 | Loss: 0.6627 | Test Acc: 0.7130\n",
      "Seed 16 | Epoch 005 | Loss: 0.6569 | Test Acc: 0.6906\n",
      "Seed 16 | Epoch 006 | Loss: 0.6510 | Test Acc: 0.6682\n",
      "Seed 16 | Epoch 007 | Loss: 0.6504 | Test Acc: 0.6906\n",
      "Seed 16 | Epoch 008 | Loss: 0.6401 | Test Acc: 0.7220\n",
      "Seed 16 | Epoch 009 | Loss: 0.6361 | Test Acc: 0.6771\n",
      "Seed 16 | Epoch 010 | Loss: 0.6346 | Test Acc: 0.6996\n",
      "Seed 16 | Epoch 011 | Loss: 0.6317 | Test Acc: 0.6951\n",
      "Seed 16 | Epoch 012 | Loss: 0.6325 | Test Acc: 0.6906\n",
      "Seed 16 | Epoch 013 | Loss: 0.6263 | Test Acc: 0.6906\n",
      "Seed 16 | Epoch 014 | Loss: 0.6244 | Test Acc: 0.6906\n",
      "Seed 16 | Epoch 015 | Loss: 0.6253 | Test Acc: 0.6951\n",
      "Seed 16 | Epoch 016 | Loss: 0.6261 | Test Acc: 0.6951\n",
      "Seed 16 | Epoch 017 | Loss: 0.6244 | Test Acc: 0.6951\n",
      "Seed 16 | Epoch 018 | Loss: 0.6242 | Test Acc: 0.6771\n",
      "Seed 16 | Epoch 019 | Loss: 0.6260 | Test Acc: 0.6996\n",
      "Seed 16 | Epoch 020 | Loss: 0.6215 | Test Acc: 0.6816\n",
      "Seed 16 | Epoch 021 | Loss: 0.6212 | Test Acc: 0.6996\n",
      "Seed 16 | Epoch 022 | Loss: 0.6209 | Test Acc: 0.6951\n",
      "Seed 16 | Epoch 023 | Loss: 0.6173 | Test Acc: 0.6771\n",
      "Seed 16 | Epoch 024 | Loss: 0.6189 | Test Acc: 0.6233\n",
      "Seed 16 | Epoch 025 | Loss: 0.6181 | Test Acc: 0.7040\n",
      "Seed 16 | Epoch 026 | Loss: 0.6208 | Test Acc: 0.6771\n",
      "Seed 16 | Epoch 027 | Loss: 0.6177 | Test Acc: 0.6323\n",
      "Seed 16 | Epoch 028 | Loss: 0.6212 | Test Acc: 0.6278\n",
      "Seed 16 | Epoch 029 | Loss: 0.6187 | Test Acc: 0.6771\n",
      "Seed 16 | Epoch 030 | Loss: 0.6147 | Test Acc: 0.6188\n",
      "Seed 16 | Epoch 031 | Loss: 0.6177 | Test Acc: 0.7175\n",
      "Seed 16 | Epoch 032 | Loss: 0.6131 | Test Acc: 0.6682\n",
      "Seed 16 | Epoch 033 | Loss: 0.6151 | Test Acc: 0.6592\n",
      "Seed 16 | Epoch 034 | Loss: 0.6153 | Test Acc: 0.6637\n",
      "Seed 16 | Epoch 035 | Loss: 0.6164 | Test Acc: 0.6861\n",
      "Seed 16 | Epoch 036 | Loss: 0.6189 | Test Acc: 0.7175\n",
      "Seed 16 | Epoch 037 | Loss: 0.6109 | Test Acc: 0.6188\n",
      "Seed 16 | Epoch 038 | Loss: 0.6163 | Test Acc: 0.6996\n",
      "Seed 16 | Epoch 039 | Loss: 0.6142 | Test Acc: 0.6996\n",
      "Seed 16 | Epoch 040 | Loss: 0.6156 | Test Acc: 0.7265\n",
      "Seed 16 | Epoch 041 | Loss: 0.6121 | Test Acc: 0.5874\n",
      "Seed 16 | Epoch 042 | Loss: 0.6204 | Test Acc: 0.6592\n",
      "Seed 16 | Epoch 043 | Loss: 0.6112 | Test Acc: 0.6726\n",
      "Seed 16 | Epoch 044 | Loss: 0.6132 | Test Acc: 0.6592\n",
      "Seed 16 | Epoch 045 | Loss: 0.6125 | Test Acc: 0.6592\n",
      "Seed 16 | Epoch 046 | Loss: 0.6183 | Test Acc: 0.6278\n",
      "Seed 16 | Epoch 047 | Loss: 0.6145 | Test Acc: 0.6951\n",
      "Seed 16 | Epoch 048 | Loss: 0.6144 | Test Acc: 0.6771\n",
      "Seed 16 | Epoch 049 | Loss: 0.6121 | Test Acc: 0.6726\n",
      "Seed 16 | Epoch 050 | Loss: 0.6125 | Test Acc: 0.7040\n"
     ]
    },
    {
     "data": {
      "text/html": [],
      "text/plain": [
       "<IPython.core.display.HTML object>"
      ]
     },
     "metadata": {},
     "output_type": "display_data"
    },
    {
     "data": {
      "text/html": [
       "<br>    <style><br>        .wandb-row {<br>            display: flex;<br>            flex-direction: row;<br>            flex-wrap: wrap;<br>            justify-content: flex-start;<br>            width: 100%;<br>        }<br>        .wandb-col {<br>            display: flex;<br>            flex-direction: column;<br>            flex-basis: 100%;<br>            flex: 1;<br>            padding: 10px;<br>        }<br>    </style><br><div class=\"wandb-row\"><div class=\"wandb-col\"><h3>Run history:</h3><br/><table class=\"wandb\"><tr><td>epoch</td><td>▁▁▁▁▂▂▂▂▂▂▃▃▃▃▃▄▄▄▄▄▄▅▅▅▅▅▆▆▆▆▆▇▇▇▇▇▇███</td></tr><tr><td>loss</td><td>█▇▇▆▅▅▄▃▃▃▂▂▂▂▂▂▂▂▂▂▂▂▂▂▁▁▁▁▂▂▁▁▁▂▁▁▂▁▁▁</td></tr><tr><td>test_acc</td><td>▆▇▇▇▆▆█▆▇▆▆▆▆▆▆▇▆▇▆▆▇▆▃▃▆█▅▅▆█▇▇█▁▅▅▃▆▆▇</td></tr><tr><td>train_acc</td><td>▁▂▄▄▇▇▇▇█▇▇█▇███▇██▆█▇▆▆▇▇██▇▆█▇▅▇██▇███</td></tr></table><br/></div><div class=\"wandb-col\"><h3>Run summary:</h3><br/><table class=\"wandb\"><tr><td>epoch</td><td>50</td></tr><tr><td>loss</td><td>0.6125</td></tr><tr><td>test_acc</td><td>0.70404</td></tr><tr><td>train_acc</td><td>0.69775</td></tr></table><br/></div></div>"
      ],
      "text/plain": [
       "<IPython.core.display.HTML object>"
      ]
     },
     "metadata": {},
     "output_type": "display_data"
    },
    {
     "data": {
      "text/html": [
       " View run <strong style=\"color:#cdcd00\">GCN_baseline_seed_16</strong> at: <a href='https://wandb.ai/noynetanel1-tel-aviv-university/GCN%20Graph%20classification%28Protein%29_Gal/runs/p8iu3u2v' target=\"_blank\">https://wandb.ai/noynetanel1-tel-aviv-university/GCN%20Graph%20classification%28Protein%29_Gal/runs/p8iu3u2v</a><br> View project at: <a href='https://wandb.ai/noynetanel1-tel-aviv-university/GCN%20Graph%20classification%28Protein%29_Gal' target=\"_blank\">https://wandb.ai/noynetanel1-tel-aviv-university/GCN%20Graph%20classification%28Protein%29_Gal</a><br>Synced 5 W&B file(s), 0 media file(s), 0 artifact file(s) and 0 other file(s)"
      ],
      "text/plain": [
       "<IPython.core.display.HTML object>"
      ]
     },
     "metadata": {},
     "output_type": "display_data"
    },
    {
     "data": {
      "text/html": [
       "Find logs at: <code>./wandb/run-20250820_143540-p8iu3u2v/logs</code>"
      ],
      "text/plain": [
       "<IPython.core.display.HTML object>"
      ]
     },
     "metadata": {},
     "output_type": "display_data"
    },
    {
     "data": {
      "text/html": [
       "Tracking run with wandb version 0.20.1"
      ],
      "text/plain": [
       "<IPython.core.display.HTML object>"
      ]
     },
     "metadata": {},
     "output_type": "display_data"
    },
    {
     "data": {
      "text/html": [
       "Run data is saved locally in <code>/kaggle/working/wandb/run-20250820_143617-me067nu4</code>"
      ],
      "text/plain": [
       "<IPython.core.display.HTML object>"
      ]
     },
     "metadata": {},
     "output_type": "display_data"
    },
    {
     "data": {
      "text/html": [
       "Syncing run <strong><a href='https://wandb.ai/noynetanel1-tel-aviv-university/GCN%20Graph%20classification%28Protein%29_Gal/runs/me067nu4' target=\"_blank\">GCN_baseline_seed_17</a></strong> to <a href='https://wandb.ai/noynetanel1-tel-aviv-university/GCN%20Graph%20classification%28Protein%29_Gal' target=\"_blank\">Weights & Biases</a> (<a href='https://wandb.me/developer-guide' target=\"_blank\">docs</a>)<br>"
      ],
      "text/plain": [
       "<IPython.core.display.HTML object>"
      ]
     },
     "metadata": {},
     "output_type": "display_data"
    },
    {
     "data": {
      "text/html": [
       " View project at <a href='https://wandb.ai/noynetanel1-tel-aviv-university/GCN%20Graph%20classification%28Protein%29_Gal' target=\"_blank\">https://wandb.ai/noynetanel1-tel-aviv-university/GCN%20Graph%20classification%28Protein%29_Gal</a>"
      ],
      "text/plain": [
       "<IPython.core.display.HTML object>"
      ]
     },
     "metadata": {},
     "output_type": "display_data"
    },
    {
     "data": {
      "text/html": [
       " View run at <a href='https://wandb.ai/noynetanel1-tel-aviv-university/GCN%20Graph%20classification%28Protein%29_Gal/runs/me067nu4' target=\"_blank\">https://wandb.ai/noynetanel1-tel-aviv-university/GCN%20Graph%20classification%28Protein%29_Gal/runs/me067nu4</a>"
      ],
      "text/plain": [
       "<IPython.core.display.HTML object>"
      ]
     },
     "metadata": {},
     "output_type": "display_data"
    },
    {
     "name": "stdout",
     "output_type": "stream",
     "text": [
      "Seed 17 | Epoch 001 | Loss: 0.6815 | Test Acc: 0.6323\n",
      "Seed 17 | Epoch 002 | Loss: 0.6760 | Test Acc: 0.6323\n",
      "Seed 17 | Epoch 003 | Loss: 0.6744 | Test Acc: 0.6323\n",
      "Seed 17 | Epoch 004 | Loss: 0.6691 | Test Acc: 0.6368\n",
      "Seed 17 | Epoch 005 | Loss: 0.6627 | Test Acc: 0.6547\n",
      "Seed 17 | Epoch 006 | Loss: 0.6582 | Test Acc: 0.6547\n",
      "Seed 17 | Epoch 007 | Loss: 0.6513 | Test Acc: 0.6547\n",
      "Seed 17 | Epoch 008 | Loss: 0.6451 | Test Acc: 0.6637\n",
      "Seed 17 | Epoch 009 | Loss: 0.6380 | Test Acc: 0.6592\n",
      "Seed 17 | Epoch 010 | Loss: 0.6380 | Test Acc: 0.6726\n",
      "Seed 17 | Epoch 011 | Loss: 0.6316 | Test Acc: 0.6861\n",
      "Seed 17 | Epoch 012 | Loss: 0.6324 | Test Acc: 0.6771\n",
      "Seed 17 | Epoch 013 | Loss: 0.6250 | Test Acc: 0.6682\n",
      "Seed 17 | Epoch 014 | Loss: 0.6217 | Test Acc: 0.6816\n",
      "Seed 17 | Epoch 015 | Loss: 0.6231 | Test Acc: 0.6637\n",
      "Seed 17 | Epoch 016 | Loss: 0.6207 | Test Acc: 0.6906\n",
      "Seed 17 | Epoch 017 | Loss: 0.6191 | Test Acc: 0.6816\n",
      "Seed 17 | Epoch 018 | Loss: 0.6174 | Test Acc: 0.6726\n",
      "Seed 17 | Epoch 019 | Loss: 0.6183 | Test Acc: 0.6951\n",
      "Seed 17 | Epoch 020 | Loss: 0.6192 | Test Acc: 0.6726\n",
      "Seed 17 | Epoch 021 | Loss: 0.6151 | Test Acc: 0.6816\n",
      "Seed 17 | Epoch 022 | Loss: 0.6185 | Test Acc: 0.6816\n",
      "Seed 17 | Epoch 023 | Loss: 0.6144 | Test Acc: 0.6726\n",
      "Seed 17 | Epoch 024 | Loss: 0.6145 | Test Acc: 0.6726\n",
      "Seed 17 | Epoch 025 | Loss: 0.6204 | Test Acc: 0.6682\n",
      "Seed 17 | Epoch 026 | Loss: 0.6147 | Test Acc: 0.6771\n",
      "Seed 17 | Epoch 027 | Loss: 0.6122 | Test Acc: 0.6726\n",
      "Seed 17 | Epoch 028 | Loss: 0.6122 | Test Acc: 0.6726\n",
      "Seed 17 | Epoch 029 | Loss: 0.6120 | Test Acc: 0.6816\n",
      "Seed 17 | Epoch 030 | Loss: 0.6126 | Test Acc: 0.6771\n",
      "Seed 17 | Epoch 031 | Loss: 0.6109 | Test Acc: 0.6861\n",
      "Seed 17 | Epoch 032 | Loss: 0.6112 | Test Acc: 0.6502\n",
      "Seed 17 | Epoch 033 | Loss: 0.6149 | Test Acc: 0.6771\n",
      "Seed 17 | Epoch 034 | Loss: 0.6108 | Test Acc: 0.6906\n",
      "Seed 17 | Epoch 035 | Loss: 0.6143 | Test Acc: 0.6771\n",
      "Seed 17 | Epoch 036 | Loss: 0.6158 | Test Acc: 0.6457\n",
      "Seed 17 | Epoch 037 | Loss: 0.6213 | Test Acc: 0.6637\n",
      "Seed 17 | Epoch 038 | Loss: 0.6141 | Test Acc: 0.6502\n",
      "Seed 17 | Epoch 039 | Loss: 0.6089 | Test Acc: 0.6906\n",
      "Seed 17 | Epoch 040 | Loss: 0.6095 | Test Acc: 0.6682\n",
      "Seed 17 | Epoch 041 | Loss: 0.6116 | Test Acc: 0.6771\n",
      "Seed 17 | Epoch 042 | Loss: 0.6115 | Test Acc: 0.6592\n",
      "Seed 17 | Epoch 043 | Loss: 0.6100 | Test Acc: 0.6951\n",
      "Seed 17 | Epoch 044 | Loss: 0.6109 | Test Acc: 0.6861\n",
      "Seed 17 | Epoch 045 | Loss: 0.6113 | Test Acc: 0.6906\n",
      "Seed 17 | Epoch 046 | Loss: 0.6165 | Test Acc: 0.7040\n",
      "Seed 17 | Epoch 047 | Loss: 0.6080 | Test Acc: 0.6637\n",
      "Seed 17 | Epoch 048 | Loss: 0.6093 | Test Acc: 0.6726\n",
      "Seed 17 | Epoch 049 | Loss: 0.6107 | Test Acc: 0.6861\n",
      "Seed 17 | Epoch 050 | Loss: 0.6124 | Test Acc: 0.6951\n"
     ]
    },
    {
     "data": {
      "text/html": [],
      "text/plain": [
       "<IPython.core.display.HTML object>"
      ]
     },
     "metadata": {},
     "output_type": "display_data"
    },
    {
     "data": {
      "text/html": [
       "<br>    <style><br>        .wandb-row {<br>            display: flex;<br>            flex-direction: row;<br>            flex-wrap: wrap;<br>            justify-content: flex-start;<br>            width: 100%;<br>        }<br>        .wandb-col {<br>            display: flex;<br>            flex-direction: column;<br>            flex-basis: 100%;<br>            flex: 1;<br>            padding: 10px;<br>        }<br>    </style><br><div class=\"wandb-row\"><div class=\"wandb-col\"><h3>Run history:</h3><br/><table class=\"wandb\"><tr><td>epoch</td><td>▁▁▁▁▂▂▂▂▂▂▃▃▃▃▃▄▄▄▄▄▄▅▅▅▅▅▅▆▆▆▆▆▇▇▇▇▇▇██</td></tr><tr><td>loss</td><td>█▇▇▇▆▄▄▄▃▃▂▂▂▂▂▂▂▂▂▂▂▁▁▁▁▁▂▁▂▂▂▁▁▁▁▁▁▂▁▁</td></tr><tr><td>test_acc</td><td>▁▁▁▁▃▃▄▄▅▆▅▆▄▇▆▇▅▆▅▅▅▅▅▆▅▃▇▅▂▄▇▅▅▄▇▇█▄▅▇</td></tr><tr><td>train_acc</td><td>▁▁▁▃▄▃▄▇▆▇█▇█▇▇█▇▇▇▇▇▇▇▇█▇█▇▇▇█▇▇▇█▇█▇▇█</td></tr></table><br/></div><div class=\"wandb-col\"><h3>Run summary:</h3><br/><table class=\"wandb\"><tr><td>epoch</td><td>50</td></tr><tr><td>loss</td><td>0.61244</td></tr><tr><td>test_acc</td><td>0.69507</td></tr><tr><td>train_acc</td><td>0.70337</td></tr></table><br/></div></div>"
      ],
      "text/plain": [
       "<IPython.core.display.HTML object>"
      ]
     },
     "metadata": {},
     "output_type": "display_data"
    },
    {
     "data": {
      "text/html": [
       " View run <strong style=\"color:#cdcd00\">GCN_baseline_seed_17</strong> at: <a href='https://wandb.ai/noynetanel1-tel-aviv-university/GCN%20Graph%20classification%28Protein%29_Gal/runs/me067nu4' target=\"_blank\">https://wandb.ai/noynetanel1-tel-aviv-university/GCN%20Graph%20classification%28Protein%29_Gal/runs/me067nu4</a><br> View project at: <a href='https://wandb.ai/noynetanel1-tel-aviv-university/GCN%20Graph%20classification%28Protein%29_Gal' target=\"_blank\">https://wandb.ai/noynetanel1-tel-aviv-university/GCN%20Graph%20classification%28Protein%29_Gal</a><br>Synced 5 W&B file(s), 0 media file(s), 0 artifact file(s) and 0 other file(s)"
      ],
      "text/plain": [
       "<IPython.core.display.HTML object>"
      ]
     },
     "metadata": {},
     "output_type": "display_data"
    },
    {
     "data": {
      "text/html": [
       "Find logs at: <code>./wandb/run-20250820_143617-me067nu4/logs</code>"
      ],
      "text/plain": [
       "<IPython.core.display.HTML object>"
      ]
     },
     "metadata": {},
     "output_type": "display_data"
    },
    {
     "data": {
      "text/html": [
       "Tracking run with wandb version 0.20.1"
      ],
      "text/plain": [
       "<IPython.core.display.HTML object>"
      ]
     },
     "metadata": {},
     "output_type": "display_data"
    },
    {
     "data": {
      "text/html": [
       "Run data is saved locally in <code>/kaggle/working/wandb/run-20250820_143652-0dzsczvt</code>"
      ],
      "text/plain": [
       "<IPython.core.display.HTML object>"
      ]
     },
     "metadata": {},
     "output_type": "display_data"
    },
    {
     "data": {
      "text/html": [
       "Syncing run <strong><a href='https://wandb.ai/noynetanel1-tel-aviv-university/GCN%20Graph%20classification%28Protein%29_Gal/runs/0dzsczvt' target=\"_blank\">GCN_baseline_seed_18</a></strong> to <a href='https://wandb.ai/noynetanel1-tel-aviv-university/GCN%20Graph%20classification%28Protein%29_Gal' target=\"_blank\">Weights & Biases</a> (<a href='https://wandb.me/developer-guide' target=\"_blank\">docs</a>)<br>"
      ],
      "text/plain": [
       "<IPython.core.display.HTML object>"
      ]
     },
     "metadata": {},
     "output_type": "display_data"
    },
    {
     "data": {
      "text/html": [
       " View project at <a href='https://wandb.ai/noynetanel1-tel-aviv-university/GCN%20Graph%20classification%28Protein%29_Gal' target=\"_blank\">https://wandb.ai/noynetanel1-tel-aviv-university/GCN%20Graph%20classification%28Protein%29_Gal</a>"
      ],
      "text/plain": [
       "<IPython.core.display.HTML object>"
      ]
     },
     "metadata": {},
     "output_type": "display_data"
    },
    {
     "data": {
      "text/html": [
       " View run at <a href='https://wandb.ai/noynetanel1-tel-aviv-university/GCN%20Graph%20classification%28Protein%29_Gal/runs/0dzsczvt' target=\"_blank\">https://wandb.ai/noynetanel1-tel-aviv-university/GCN%20Graph%20classification%28Protein%29_Gal/runs/0dzsczvt</a>"
      ],
      "text/plain": [
       "<IPython.core.display.HTML object>"
      ]
     },
     "metadata": {},
     "output_type": "display_data"
    },
    {
     "name": "stdout",
     "output_type": "stream",
     "text": [
      "Seed 18 | Epoch 001 | Loss: 0.6819 | Test Acc: 0.5695\n",
      "Seed 18 | Epoch 002 | Loss: 0.6703 | Test Acc: 0.5695\n",
      "Seed 18 | Epoch 003 | Loss: 0.6673 | Test Acc: 0.5695\n",
      "Seed 18 | Epoch 004 | Loss: 0.6624 | Test Acc: 0.5830\n",
      "Seed 18 | Epoch 005 | Loss: 0.6570 | Test Acc: 0.6368\n",
      "Seed 18 | Epoch 006 | Loss: 0.6520 | Test Acc: 0.6278\n",
      "Seed 18 | Epoch 007 | Loss: 0.6451 | Test Acc: 0.6502\n",
      "Seed 18 | Epoch 008 | Loss: 0.6388 | Test Acc: 0.6457\n",
      "Seed 18 | Epoch 009 | Loss: 0.6354 | Test Acc: 0.6413\n",
      "Seed 18 | Epoch 010 | Loss: 0.6317 | Test Acc: 0.7040\n",
      "Seed 18 | Epoch 011 | Loss: 0.6308 | Test Acc: 0.6996\n",
      "Seed 18 | Epoch 012 | Loss: 0.6266 | Test Acc: 0.6906\n",
      "Seed 18 | Epoch 013 | Loss: 0.6249 | Test Acc: 0.7085\n",
      "Seed 18 | Epoch 014 | Loss: 0.6258 | Test Acc: 0.6951\n",
      "Seed 18 | Epoch 015 | Loss: 0.6218 | Test Acc: 0.7085\n",
      "Seed 18 | Epoch 016 | Loss: 0.6237 | Test Acc: 0.6951\n",
      "Seed 18 | Epoch 017 | Loss: 0.6235 | Test Acc: 0.6996\n",
      "Seed 18 | Epoch 018 | Loss: 0.6210 | Test Acc: 0.7085\n",
      "Seed 18 | Epoch 019 | Loss: 0.6217 | Test Acc: 0.7175\n",
      "Seed 18 | Epoch 020 | Loss: 0.6179 | Test Acc: 0.7175\n",
      "Seed 18 | Epoch 021 | Loss: 0.6182 | Test Acc: 0.7130\n",
      "Seed 18 | Epoch 022 | Loss: 0.6204 | Test Acc: 0.6996\n",
      "Seed 18 | Epoch 023 | Loss: 0.6223 | Test Acc: 0.7040\n",
      "Seed 18 | Epoch 024 | Loss: 0.6186 | Test Acc: 0.7040\n",
      "Seed 18 | Epoch 025 | Loss: 0.6206 | Test Acc: 0.7220\n",
      "Seed 18 | Epoch 026 | Loss: 0.6208 | Test Acc: 0.6906\n",
      "Seed 18 | Epoch 027 | Loss: 0.6179 | Test Acc: 0.7175\n",
      "Seed 18 | Epoch 028 | Loss: 0.6207 | Test Acc: 0.7085\n",
      "Seed 18 | Epoch 029 | Loss: 0.6163 | Test Acc: 0.7130\n",
      "Seed 18 | Epoch 030 | Loss: 0.6141 | Test Acc: 0.7130\n",
      "Seed 18 | Epoch 031 | Loss: 0.6154 | Test Acc: 0.7040\n",
      "Seed 18 | Epoch 032 | Loss: 0.6171 | Test Acc: 0.7175\n",
      "Seed 18 | Epoch 033 | Loss: 0.6157 | Test Acc: 0.7130\n",
      "Seed 18 | Epoch 034 | Loss: 0.6147 | Test Acc: 0.7130\n",
      "Seed 18 | Epoch 035 | Loss: 0.6204 | Test Acc: 0.7130\n",
      "Seed 18 | Epoch 036 | Loss: 0.6142 | Test Acc: 0.7085\n",
      "Seed 18 | Epoch 037 | Loss: 0.6136 | Test Acc: 0.7220\n",
      "Seed 18 | Epoch 038 | Loss: 0.6135 | Test Acc: 0.7040\n",
      "Seed 18 | Epoch 039 | Loss: 0.6166 | Test Acc: 0.7040\n",
      "Seed 18 | Epoch 040 | Loss: 0.6140 | Test Acc: 0.7085\n",
      "Seed 18 | Epoch 041 | Loss: 0.6120 | Test Acc: 0.7220\n",
      "Seed 18 | Epoch 042 | Loss: 0.6142 | Test Acc: 0.7175\n",
      "Seed 18 | Epoch 043 | Loss: 0.6148 | Test Acc: 0.7130\n",
      "Seed 18 | Epoch 044 | Loss: 0.6126 | Test Acc: 0.7130\n",
      "Seed 18 | Epoch 045 | Loss: 0.6138 | Test Acc: 0.7220\n",
      "Seed 18 | Epoch 046 | Loss: 0.6155 | Test Acc: 0.7265\n",
      "Seed 18 | Epoch 047 | Loss: 0.6123 | Test Acc: 0.7265\n",
      "Seed 18 | Epoch 048 | Loss: 0.6118 | Test Acc: 0.7175\n",
      "Seed 18 | Epoch 049 | Loss: 0.6140 | Test Acc: 0.7040\n",
      "Seed 18 | Epoch 050 | Loss: 0.6121 | Test Acc: 0.7175\n"
     ]
    },
    {
     "data": {
      "text/html": [],
      "text/plain": [
       "<IPython.core.display.HTML object>"
      ]
     },
     "metadata": {},
     "output_type": "display_data"
    },
    {
     "data": {
      "text/html": [
       "<br>    <style><br>        .wandb-row {<br>            display: flex;<br>            flex-direction: row;<br>            flex-wrap: wrap;<br>            justify-content: flex-start;<br>            width: 100%;<br>        }<br>        .wandb-col {<br>            display: flex;<br>            flex-direction: column;<br>            flex-basis: 100%;<br>            flex: 1;<br>            padding: 10px;<br>        }<br>    </style><br><div class=\"wandb-row\"><div class=\"wandb-col\"><h3>Run history:</h3><br/><table class=\"wandb\"><tr><td>epoch</td><td>▁▁▁▂▂▂▂▂▂▃▃▃▃▃▃▄▄▄▄▄▅▅▅▅▅▆▆▆▆▆▆▇▇▇▇▇▇███</td></tr><tr><td>loss</td><td>█▇▆▆▅▄▃▃▃▂▂▂▂▂▂▂▂▂▂▂▂▂▂▁▁▂▁▁▂▁▁▁▁▁▁▁▁▁▁▁</td></tr><tr><td>test_acc</td><td>▁▁▂▄▄▄▄▇▇▆▇▇▇▇▇█▇▇▇▇▆█▇▇▇█▇▇▇█▇▇██▇█████</td></tr><tr><td>train_acc</td><td>▁▁▁▂▃▃▃▇▇▆▆█▇▆▇▇▇▆▇▇▇█▇▇▇▇▇█▇▇▇▇██▇███▇█</td></tr></table><br/></div><div class=\"wandb-col\"><h3>Run summary:</h3><br/><table class=\"wandb\"><tr><td>epoch</td><td>50</td></tr><tr><td>loss</td><td>0.61213</td></tr><tr><td>test_acc</td><td>0.71749</td></tr><tr><td>train_acc</td><td>0.70337</td></tr></table><br/></div></div>"
      ],
      "text/plain": [
       "<IPython.core.display.HTML object>"
      ]
     },
     "metadata": {},
     "output_type": "display_data"
    },
    {
     "data": {
      "text/html": [
       " View run <strong style=\"color:#cdcd00\">GCN_baseline_seed_18</strong> at: <a href='https://wandb.ai/noynetanel1-tel-aviv-university/GCN%20Graph%20classification%28Protein%29_Gal/runs/0dzsczvt' target=\"_blank\">https://wandb.ai/noynetanel1-tel-aviv-university/GCN%20Graph%20classification%28Protein%29_Gal/runs/0dzsczvt</a><br> View project at: <a href='https://wandb.ai/noynetanel1-tel-aviv-university/GCN%20Graph%20classification%28Protein%29_Gal' target=\"_blank\">https://wandb.ai/noynetanel1-tel-aviv-university/GCN%20Graph%20classification%28Protein%29_Gal</a><br>Synced 5 W&B file(s), 0 media file(s), 0 artifact file(s) and 0 other file(s)"
      ],
      "text/plain": [
       "<IPython.core.display.HTML object>"
      ]
     },
     "metadata": {},
     "output_type": "display_data"
    },
    {
     "data": {
      "text/html": [
       "Find logs at: <code>./wandb/run-20250820_143652-0dzsczvt/logs</code>"
      ],
      "text/plain": [
       "<IPython.core.display.HTML object>"
      ]
     },
     "metadata": {},
     "output_type": "display_data"
    },
    {
     "data": {
      "text/html": [
       "Tracking run with wandb version 0.20.1"
      ],
      "text/plain": [
       "<IPython.core.display.HTML object>"
      ]
     },
     "metadata": {},
     "output_type": "display_data"
    },
    {
     "data": {
      "text/html": [
       "Run data is saved locally in <code>/kaggle/working/wandb/run-20250820_143728-97kl2ulm</code>"
      ],
      "text/plain": [
       "<IPython.core.display.HTML object>"
      ]
     },
     "metadata": {},
     "output_type": "display_data"
    },
    {
     "data": {
      "text/html": [
       "Syncing run <strong><a href='https://wandb.ai/noynetanel1-tel-aviv-university/GCN%20Graph%20classification%28Protein%29_Gal/runs/97kl2ulm' target=\"_blank\">GCN_baseline_seed_19</a></strong> to <a href='https://wandb.ai/noynetanel1-tel-aviv-university/GCN%20Graph%20classification%28Protein%29_Gal' target=\"_blank\">Weights & Biases</a> (<a href='https://wandb.me/developer-guide' target=\"_blank\">docs</a>)<br>"
      ],
      "text/plain": [
       "<IPython.core.display.HTML object>"
      ]
     },
     "metadata": {},
     "output_type": "display_data"
    },
    {
     "data": {
      "text/html": [
       " View project at <a href='https://wandb.ai/noynetanel1-tel-aviv-university/GCN%20Graph%20classification%28Protein%29_Gal' target=\"_blank\">https://wandb.ai/noynetanel1-tel-aviv-university/GCN%20Graph%20classification%28Protein%29_Gal</a>"
      ],
      "text/plain": [
       "<IPython.core.display.HTML object>"
      ]
     },
     "metadata": {},
     "output_type": "display_data"
    },
    {
     "data": {
      "text/html": [
       " View run at <a href='https://wandb.ai/noynetanel1-tel-aviv-university/GCN%20Graph%20classification%28Protein%29_Gal/runs/97kl2ulm' target=\"_blank\">https://wandb.ai/noynetanel1-tel-aviv-university/GCN%20Graph%20classification%28Protein%29_Gal/runs/97kl2ulm</a>"
      ],
      "text/plain": [
       "<IPython.core.display.HTML object>"
      ]
     },
     "metadata": {},
     "output_type": "display_data"
    },
    {
     "name": "stdout",
     "output_type": "stream",
     "text": [
      "Seed 19 | Epoch 001 | Loss: 0.6795 | Test Acc: 0.5605\n",
      "Seed 19 | Epoch 002 | Loss: 0.6659 | Test Acc: 0.5740\n",
      "Seed 19 | Epoch 003 | Loss: 0.6655 | Test Acc: 0.5830\n",
      "Seed 19 | Epoch 004 | Loss: 0.6588 | Test Acc: 0.6278\n",
      "Seed 19 | Epoch 005 | Loss: 0.6567 | Test Acc: 0.6323\n",
      "Seed 19 | Epoch 006 | Loss: 0.6525 | Test Acc: 0.6278\n",
      "Seed 19 | Epoch 007 | Loss: 0.6522 | Test Acc: 0.6771\n",
      "Seed 19 | Epoch 008 | Loss: 0.6488 | Test Acc: 0.6457\n",
      "Seed 19 | Epoch 009 | Loss: 0.6405 | Test Acc: 0.6413\n",
      "Seed 19 | Epoch 010 | Loss: 0.6383 | Test Acc: 0.6547\n",
      "Seed 19 | Epoch 011 | Loss: 0.6352 | Test Acc: 0.6592\n",
      "Seed 19 | Epoch 012 | Loss: 0.6358 | Test Acc: 0.7354\n",
      "Seed 19 | Epoch 013 | Loss: 0.6328 | Test Acc: 0.7309\n",
      "Seed 19 | Epoch 014 | Loss: 0.6304 | Test Acc: 0.7220\n",
      "Seed 19 | Epoch 015 | Loss: 0.6289 | Test Acc: 0.7265\n",
      "Seed 19 | Epoch 016 | Loss: 0.6281 | Test Acc: 0.5964\n",
      "Seed 19 | Epoch 017 | Loss: 0.6271 | Test Acc: 0.7130\n",
      "Seed 19 | Epoch 018 | Loss: 0.6244 | Test Acc: 0.7175\n",
      "Seed 19 | Epoch 019 | Loss: 0.6257 | Test Acc: 0.7265\n",
      "Seed 19 | Epoch 020 | Loss: 0.6254 | Test Acc: 0.7175\n",
      "Seed 19 | Epoch 021 | Loss: 0.6221 | Test Acc: 0.7040\n",
      "Seed 19 | Epoch 022 | Loss: 0.6215 | Test Acc: 0.7265\n",
      "Seed 19 | Epoch 023 | Loss: 0.6209 | Test Acc: 0.7265\n",
      "Seed 19 | Epoch 024 | Loss: 0.6190 | Test Acc: 0.7309\n",
      "Seed 19 | Epoch 025 | Loss: 0.6181 | Test Acc: 0.7130\n",
      "Seed 19 | Epoch 026 | Loss: 0.6178 | Test Acc: 0.7265\n",
      "Seed 19 | Epoch 027 | Loss: 0.6215 | Test Acc: 0.7085\n",
      "Seed 19 | Epoch 028 | Loss: 0.6210 | Test Acc: 0.7220\n",
      "Seed 19 | Epoch 029 | Loss: 0.6173 | Test Acc: 0.7175\n",
      "Seed 19 | Epoch 030 | Loss: 0.6150 | Test Acc: 0.7354\n",
      "Seed 19 | Epoch 031 | Loss: 0.6179 | Test Acc: 0.7085\n",
      "Seed 19 | Epoch 032 | Loss: 0.6173 | Test Acc: 0.7354\n",
      "Seed 19 | Epoch 033 | Loss: 0.6142 | Test Acc: 0.7220\n",
      "Seed 19 | Epoch 034 | Loss: 0.6167 | Test Acc: 0.7175\n",
      "Seed 19 | Epoch 035 | Loss: 0.6150 | Test Acc: 0.7354\n",
      "Seed 19 | Epoch 036 | Loss: 0.6136 | Test Acc: 0.7130\n",
      "Seed 19 | Epoch 037 | Loss: 0.6124 | Test Acc: 0.7220\n",
      "Seed 19 | Epoch 038 | Loss: 0.6157 | Test Acc: 0.7130\n",
      "Seed 19 | Epoch 039 | Loss: 0.6143 | Test Acc: 0.7265\n",
      "Seed 19 | Epoch 040 | Loss: 0.6178 | Test Acc: 0.7354\n",
      "Seed 19 | Epoch 041 | Loss: 0.6182 | Test Acc: 0.7309\n",
      "Seed 19 | Epoch 042 | Loss: 0.6155 | Test Acc: 0.7265\n",
      "Seed 19 | Epoch 043 | Loss: 0.6180 | Test Acc: 0.6861\n",
      "Seed 19 | Epoch 044 | Loss: 0.6118 | Test Acc: 0.7175\n",
      "Seed 19 | Epoch 045 | Loss: 0.6136 | Test Acc: 0.7309\n",
      "Seed 19 | Epoch 046 | Loss: 0.6110 | Test Acc: 0.7175\n",
      "Seed 19 | Epoch 047 | Loss: 0.6119 | Test Acc: 0.7130\n",
      "Seed 19 | Epoch 048 | Loss: 0.6116 | Test Acc: 0.7175\n",
      "Seed 19 | Epoch 049 | Loss: 0.6125 | Test Acc: 0.7265\n",
      "Seed 19 | Epoch 050 | Loss: 0.6111 | Test Acc: 0.7175\n"
     ]
    },
    {
     "data": {
      "text/html": [],
      "text/plain": [
       "<IPython.core.display.HTML object>"
      ]
     },
     "metadata": {},
     "output_type": "display_data"
    },
    {
     "data": {
      "text/html": [
       "<br>    <style><br>        .wandb-row {<br>            display: flex;<br>            flex-direction: row;<br>            flex-wrap: wrap;<br>            justify-content: flex-start;<br>            width: 100%;<br>        }<br>        .wandb-col {<br>            display: flex;<br>            flex-direction: column;<br>            flex-basis: 100%;<br>            flex: 1;<br>            padding: 10px;<br>        }<br>    </style><br><div class=\"wandb-row\"><div class=\"wandb-col\"><h3>Run history:</h3><br/><table class=\"wandb\"><tr><td>epoch</td><td>▁▁▁▁▂▂▂▂▂▂▃▃▃▃▃▄▄▄▄▄▅▅▅▅▅▆▆▆▆▆▆▇▇▇▇▇▇███</td></tr><tr><td>loss</td><td>█▇▇▆▆▅▅▄▄▃▃▃▃▃▂▂▂▂▂▂▂▂▂▁▂▁▂▁▁▁▁▂▂▁▂▁▁▁▁▁</td></tr><tr><td>test_acc</td><td>▁▂▂▄▄▆▄▄▅▅█▇█▂▇█▇▇██▇█▇▇██▇▇█▇▇█████▇▇▇▇</td></tr><tr><td>train_acc</td><td>▁▂▂▄▃▄▃▃▄▄▆▇▇▄▇▇▇▇▇▇▇▇▇█▆▇▇█▇▇▇▆▅█▇▇███▇</td></tr></table><br/></div><div class=\"wandb-col\"><h3>Run summary:</h3><br/><table class=\"wandb\"><tr><td>epoch</td><td>50</td></tr><tr><td>loss</td><td>0.61114</td></tr><tr><td>test_acc</td><td>0.71749</td></tr><tr><td>train_acc</td><td>0.69101</td></tr></table><br/></div></div>"
      ],
      "text/plain": [
       "<IPython.core.display.HTML object>"
      ]
     },
     "metadata": {},
     "output_type": "display_data"
    },
    {
     "data": {
      "text/html": [
       " View run <strong style=\"color:#cdcd00\">GCN_baseline_seed_19</strong> at: <a href='https://wandb.ai/noynetanel1-tel-aviv-university/GCN%20Graph%20classification%28Protein%29_Gal/runs/97kl2ulm' target=\"_blank\">https://wandb.ai/noynetanel1-tel-aviv-university/GCN%20Graph%20classification%28Protein%29_Gal/runs/97kl2ulm</a><br> View project at: <a href='https://wandb.ai/noynetanel1-tel-aviv-university/GCN%20Graph%20classification%28Protein%29_Gal' target=\"_blank\">https://wandb.ai/noynetanel1-tel-aviv-university/GCN%20Graph%20classification%28Protein%29_Gal</a><br>Synced 5 W&B file(s), 0 media file(s), 0 artifact file(s) and 0 other file(s)"
      ],
      "text/plain": [
       "<IPython.core.display.HTML object>"
      ]
     },
     "metadata": {},
     "output_type": "display_data"
    },
    {
     "data": {
      "text/html": [
       "Find logs at: <code>./wandb/run-20250820_143728-97kl2ulm/logs</code>"
      ],
      "text/plain": [
       "<IPython.core.display.HTML object>"
      ]
     },
     "metadata": {},
     "output_type": "display_data"
    },
    {
     "data": {
      "text/html": [
       "Tracking run with wandb version 0.20.1"
      ],
      "text/plain": [
       "<IPython.core.display.HTML object>"
      ]
     },
     "metadata": {},
     "output_type": "display_data"
    },
    {
     "data": {
      "text/html": [
       "Run data is saved locally in <code>/kaggle/working/wandb/run-20250820_143804-qoxzkxci</code>"
      ],
      "text/plain": [
       "<IPython.core.display.HTML object>"
      ]
     },
     "metadata": {},
     "output_type": "display_data"
    },
    {
     "data": {
      "text/html": [
       "Syncing run <strong><a href='https://wandb.ai/noynetanel1-tel-aviv-university/GCN%20Graph%20classification%28Protein%29_Gal/runs/qoxzkxci' target=\"_blank\">GCN_baseline_seed_20</a></strong> to <a href='https://wandb.ai/noynetanel1-tel-aviv-university/GCN%20Graph%20classification%28Protein%29_Gal' target=\"_blank\">Weights & Biases</a> (<a href='https://wandb.me/developer-guide' target=\"_blank\">docs</a>)<br>"
      ],
      "text/plain": [
       "<IPython.core.display.HTML object>"
      ]
     },
     "metadata": {},
     "output_type": "display_data"
    },
    {
     "data": {
      "text/html": [
       " View project at <a href='https://wandb.ai/noynetanel1-tel-aviv-university/GCN%20Graph%20classification%28Protein%29_Gal' target=\"_blank\">https://wandb.ai/noynetanel1-tel-aviv-university/GCN%20Graph%20classification%28Protein%29_Gal</a>"
      ],
      "text/plain": [
       "<IPython.core.display.HTML object>"
      ]
     },
     "metadata": {},
     "output_type": "display_data"
    },
    {
     "data": {
      "text/html": [
       " View run at <a href='https://wandb.ai/noynetanel1-tel-aviv-university/GCN%20Graph%20classification%28Protein%29_Gal/runs/qoxzkxci' target=\"_blank\">https://wandb.ai/noynetanel1-tel-aviv-university/GCN%20Graph%20classification%28Protein%29_Gal/runs/qoxzkxci</a>"
      ],
      "text/plain": [
       "<IPython.core.display.HTML object>"
      ]
     },
     "metadata": {},
     "output_type": "display_data"
    },
    {
     "name": "stdout",
     "output_type": "stream",
     "text": [
      "Seed 20 | Epoch 001 | Loss: 0.6766 | Test Acc: 0.6188\n",
      "Seed 20 | Epoch 002 | Loss: 0.6697 | Test Acc: 0.6547\n",
      "Seed 20 | Epoch 003 | Loss: 0.6651 | Test Acc: 0.6502\n",
      "Seed 20 | Epoch 004 | Loss: 0.6602 | Test Acc: 0.6547\n",
      "Seed 20 | Epoch 005 | Loss: 0.6570 | Test Acc: 0.6682\n",
      "Seed 20 | Epoch 006 | Loss: 0.6533 | Test Acc: 0.6682\n",
      "Seed 20 | Epoch 007 | Loss: 0.6494 | Test Acc: 0.6502\n",
      "Seed 20 | Epoch 008 | Loss: 0.6455 | Test Acc: 0.6457\n",
      "Seed 20 | Epoch 009 | Loss: 0.6416 | Test Acc: 0.6637\n",
      "Seed 20 | Epoch 010 | Loss: 0.6392 | Test Acc: 0.7354\n",
      "Seed 20 | Epoch 011 | Loss: 0.6390 | Test Acc: 0.6457\n",
      "Seed 20 | Epoch 012 | Loss: 0.6361 | Test Acc: 0.7354\n",
      "Seed 20 | Epoch 013 | Loss: 0.6349 | Test Acc: 0.7354\n",
      "Seed 20 | Epoch 014 | Loss: 0.6349 | Test Acc: 0.7354\n",
      "Seed 20 | Epoch 015 | Loss: 0.6316 | Test Acc: 0.7220\n",
      "Seed 20 | Epoch 016 | Loss: 0.6330 | Test Acc: 0.7265\n",
      "Seed 20 | Epoch 017 | Loss: 0.6322 | Test Acc: 0.7489\n",
      "Seed 20 | Epoch 018 | Loss: 0.6296 | Test Acc: 0.7309\n",
      "Seed 20 | Epoch 019 | Loss: 0.6299 | Test Acc: 0.7444\n",
      "Seed 20 | Epoch 020 | Loss: 0.6288 | Test Acc: 0.7309\n",
      "Seed 20 | Epoch 021 | Loss: 0.6294 | Test Acc: 0.7444\n",
      "Seed 20 | Epoch 022 | Loss: 0.6301 | Test Acc: 0.7489\n",
      "Seed 20 | Epoch 023 | Loss: 0.6269 | Test Acc: 0.7534\n",
      "Seed 20 | Epoch 024 | Loss: 0.6284 | Test Acc: 0.7578\n",
      "Seed 20 | Epoch 025 | Loss: 0.6306 | Test Acc: 0.7175\n",
      "Seed 20 | Epoch 026 | Loss: 0.6286 | Test Acc: 0.7354\n",
      "Seed 20 | Epoch 027 | Loss: 0.6276 | Test Acc: 0.7444\n",
      "Seed 20 | Epoch 028 | Loss: 0.6270 | Test Acc: 0.7668\n",
      "Seed 20 | Epoch 029 | Loss: 0.6262 | Test Acc: 0.7489\n",
      "Seed 20 | Epoch 030 | Loss: 0.6264 | Test Acc: 0.7578\n",
      "Seed 20 | Epoch 031 | Loss: 0.6256 | Test Acc: 0.7534\n",
      "Seed 20 | Epoch 032 | Loss: 0.6265 | Test Acc: 0.7623\n",
      "Seed 20 | Epoch 033 | Loss: 0.6255 | Test Acc: 0.7623\n",
      "Seed 20 | Epoch 034 | Loss: 0.6263 | Test Acc: 0.7534\n",
      "Seed 20 | Epoch 035 | Loss: 0.6246 | Test Acc: 0.7534\n",
      "Seed 20 | Epoch 036 | Loss: 0.6257 | Test Acc: 0.7489\n",
      "Seed 20 | Epoch 037 | Loss: 0.6249 | Test Acc: 0.7489\n",
      "Seed 20 | Epoch 038 | Loss: 0.6273 | Test Acc: 0.7444\n",
      "Seed 20 | Epoch 039 | Loss: 0.6234 | Test Acc: 0.7489\n",
      "Seed 20 | Epoch 040 | Loss: 0.6246 | Test Acc: 0.7668\n",
      "Seed 20 | Epoch 041 | Loss: 0.6230 | Test Acc: 0.7534\n",
      "Seed 20 | Epoch 042 | Loss: 0.6243 | Test Acc: 0.7623\n",
      "Seed 20 | Epoch 043 | Loss: 0.6238 | Test Acc: 0.7668\n",
      "Seed 20 | Epoch 044 | Loss: 0.6239 | Test Acc: 0.7578\n",
      "Seed 20 | Epoch 045 | Loss: 0.6272 | Test Acc: 0.7578\n",
      "Seed 20 | Epoch 046 | Loss: 0.6284 | Test Acc: 0.7489\n",
      "Seed 20 | Epoch 047 | Loss: 0.6233 | Test Acc: 0.7623\n",
      "Seed 20 | Epoch 048 | Loss: 0.6244 | Test Acc: 0.7623\n",
      "Seed 20 | Epoch 049 | Loss: 0.6248 | Test Acc: 0.7399\n",
      "Seed 20 | Epoch 050 | Loss: 0.6231 | Test Acc: 0.7668\n"
     ]
    },
    {
     "data": {
      "text/html": [],
      "text/plain": [
       "<IPython.core.display.HTML object>"
      ]
     },
     "metadata": {},
     "output_type": "display_data"
    },
    {
     "data": {
      "text/html": [
       "<br>    <style><br>        .wandb-row {<br>            display: flex;<br>            flex-direction: row;<br>            flex-wrap: wrap;<br>            justify-content: flex-start;<br>            width: 100%;<br>        }<br>        .wandb-col {<br>            display: flex;<br>            flex-direction: column;<br>            flex-basis: 100%;<br>            flex: 1;<br>            padding: 10px;<br>        }<br>    </style><br><div class=\"wandb-row\"><div class=\"wandb-col\"><h3>Run history:</h3><br/><table class=\"wandb\"><tr><td>epoch</td><td>▁▁▁▁▂▂▂▂▂▂▃▃▃▃▃▄▄▄▄▄▅▅▅▅▅▅▆▆▆▆▆▆▇▇▇▇▇███</td></tr><tr><td>loss</td><td>█▇▇▆▅▄▃▃▃▃▃▂▂▂▂▂▂▂▂▂▂▂▂▁▁▁▁▁▁▁▂▁▁▁▁▂▂▁▁▁</td></tr><tr><td>test_acc</td><td>▁▃▂▃▃▂▃▇▂▇▇▆▆▇▆▆▇▇▇█▇▇█▇███▇▇▇▇█▇███▇███</td></tr><tr><td>train_acc</td><td>▁▃▄▄▄▄▄▅█▅██▇▇████▇▇██████▇█████████▇███</td></tr></table><br/></div><div class=\"wandb-col\"><h3>Run summary:</h3><br/><table class=\"wandb\"><tr><td>epoch</td><td>50</td></tr><tr><td>loss</td><td>0.6231</td></tr><tr><td>test_acc</td><td>0.76682</td></tr><tr><td>train_acc</td><td>0.69213</td></tr></table><br/></div></div>"
      ],
      "text/plain": [
       "<IPython.core.display.HTML object>"
      ]
     },
     "metadata": {},
     "output_type": "display_data"
    },
    {
     "data": {
      "text/html": [
       " View run <strong style=\"color:#cdcd00\">GCN_baseline_seed_20</strong> at: <a href='https://wandb.ai/noynetanel1-tel-aviv-university/GCN%20Graph%20classification%28Protein%29_Gal/runs/qoxzkxci' target=\"_blank\">https://wandb.ai/noynetanel1-tel-aviv-university/GCN%20Graph%20classification%28Protein%29_Gal/runs/qoxzkxci</a><br> View project at: <a href='https://wandb.ai/noynetanel1-tel-aviv-university/GCN%20Graph%20classification%28Protein%29_Gal' target=\"_blank\">https://wandb.ai/noynetanel1-tel-aviv-university/GCN%20Graph%20classification%28Protein%29_Gal</a><br>Synced 5 W&B file(s), 0 media file(s), 0 artifact file(s) and 0 other file(s)"
      ],
      "text/plain": [
       "<IPython.core.display.HTML object>"
      ]
     },
     "metadata": {},
     "output_type": "display_data"
    },
    {
     "data": {
      "text/html": [
       "Find logs at: <code>./wandb/run-20250820_143804-qoxzkxci/logs</code>"
      ],
      "text/plain": [
       "<IPython.core.display.HTML object>"
      ]
     },
     "metadata": {},
     "output_type": "display_data"
    },
    {
     "data": {
      "text/html": [
       "Tracking run with wandb version 0.20.1"
      ],
      "text/plain": [
       "<IPython.core.display.HTML object>"
      ]
     },
     "metadata": {},
     "output_type": "display_data"
    },
    {
     "data": {
      "text/html": [
       "Run data is saved locally in <code>/kaggle/working/wandb/run-20250820_143838-rkkhcdxd</code>"
      ],
      "text/plain": [
       "<IPython.core.display.HTML object>"
      ]
     },
     "metadata": {},
     "output_type": "display_data"
    },
    {
     "data": {
      "text/html": [
       "Syncing run <strong><a href='https://wandb.ai/noynetanel1-tel-aviv-university/GCN%20Graph%20classification%28Protein%29_Gal/runs/rkkhcdxd' target=\"_blank\">GCN_baseline_seed_21</a></strong> to <a href='https://wandb.ai/noynetanel1-tel-aviv-university/GCN%20Graph%20classification%28Protein%29_Gal' target=\"_blank\">Weights & Biases</a> (<a href='https://wandb.me/developer-guide' target=\"_blank\">docs</a>)<br>"
      ],
      "text/plain": [
       "<IPython.core.display.HTML object>"
      ]
     },
     "metadata": {},
     "output_type": "display_data"
    },
    {
     "data": {
      "text/html": [
       " View project at <a href='https://wandb.ai/noynetanel1-tel-aviv-university/GCN%20Graph%20classification%28Protein%29_Gal' target=\"_blank\">https://wandb.ai/noynetanel1-tel-aviv-university/GCN%20Graph%20classification%28Protein%29_Gal</a>"
      ],
      "text/plain": [
       "<IPython.core.display.HTML object>"
      ]
     },
     "metadata": {},
     "output_type": "display_data"
    },
    {
     "data": {
      "text/html": [
       " View run at <a href='https://wandb.ai/noynetanel1-tel-aviv-university/GCN%20Graph%20classification%28Protein%29_Gal/runs/rkkhcdxd' target=\"_blank\">https://wandb.ai/noynetanel1-tel-aviv-university/GCN%20Graph%20classification%28Protein%29_Gal/runs/rkkhcdxd</a>"
      ],
      "text/plain": [
       "<IPython.core.display.HTML object>"
      ]
     },
     "metadata": {},
     "output_type": "display_data"
    },
    {
     "name": "stdout",
     "output_type": "stream",
     "text": [
      "Seed 21 | Epoch 001 | Loss: 0.6802 | Test Acc: 0.6099\n",
      "Seed 21 | Epoch 002 | Loss: 0.6724 | Test Acc: 0.6099\n",
      "Seed 21 | Epoch 003 | Loss: 0.6681 | Test Acc: 0.6143\n",
      "Seed 21 | Epoch 004 | Loss: 0.6670 | Test Acc: 0.6368\n",
      "Seed 21 | Epoch 005 | Loss: 0.6617 | Test Acc: 0.6502\n",
      "Seed 21 | Epoch 006 | Loss: 0.6549 | Test Acc: 0.6457\n",
      "Seed 21 | Epoch 007 | Loss: 0.6500 | Test Acc: 0.6547\n",
      "Seed 21 | Epoch 008 | Loss: 0.6441 | Test Acc: 0.6906\n",
      "Seed 21 | Epoch 009 | Loss: 0.6432 | Test Acc: 0.6368\n",
      "Seed 21 | Epoch 010 | Loss: 0.6382 | Test Acc: 0.6502\n",
      "Seed 21 | Epoch 011 | Loss: 0.6332 | Test Acc: 0.7085\n",
      "Seed 21 | Epoch 012 | Loss: 0.6341 | Test Acc: 0.7040\n",
      "Seed 21 | Epoch 013 | Loss: 0.6302 | Test Acc: 0.6996\n",
      "Seed 21 | Epoch 014 | Loss: 0.6269 | Test Acc: 0.6951\n",
      "Seed 21 | Epoch 015 | Loss: 0.6295 | Test Acc: 0.7175\n",
      "Seed 21 | Epoch 016 | Loss: 0.6252 | Test Acc: 0.7085\n",
      "Seed 21 | Epoch 017 | Loss: 0.6260 | Test Acc: 0.7220\n",
      "Seed 21 | Epoch 018 | Loss: 0.6245 | Test Acc: 0.7040\n",
      "Seed 21 | Epoch 019 | Loss: 0.6237 | Test Acc: 0.7130\n",
      "Seed 21 | Epoch 020 | Loss: 0.6263 | Test Acc: 0.7040\n",
      "Seed 21 | Epoch 021 | Loss: 0.6215 | Test Acc: 0.7085\n",
      "Seed 21 | Epoch 022 | Loss: 0.6222 | Test Acc: 0.7130\n",
      "Seed 21 | Epoch 023 | Loss: 0.6212 | Test Acc: 0.7040\n",
      "Seed 21 | Epoch 024 | Loss: 0.6231 | Test Acc: 0.6682\n",
      "Seed 21 | Epoch 025 | Loss: 0.6222 | Test Acc: 0.7085\n",
      "Seed 21 | Epoch 026 | Loss: 0.6254 | Test Acc: 0.6861\n",
      "Seed 21 | Epoch 027 | Loss: 0.6198 | Test Acc: 0.7085\n",
      "Seed 21 | Epoch 028 | Loss: 0.6230 | Test Acc: 0.7130\n",
      "Seed 21 | Epoch 029 | Loss: 0.6197 | Test Acc: 0.7040\n",
      "Seed 21 | Epoch 030 | Loss: 0.6215 | Test Acc: 0.7130\n",
      "Seed 21 | Epoch 031 | Loss: 0.6217 | Test Acc: 0.6771\n",
      "Seed 21 | Epoch 032 | Loss: 0.6201 | Test Acc: 0.7040\n",
      "Seed 21 | Epoch 033 | Loss: 0.6218 | Test Acc: 0.7085\n",
      "Seed 21 | Epoch 034 | Loss: 0.6177 | Test Acc: 0.6951\n",
      "Seed 21 | Epoch 035 | Loss: 0.6231 | Test Acc: 0.7130\n",
      "Seed 21 | Epoch 036 | Loss: 0.6195 | Test Acc: 0.7040\n",
      "Seed 21 | Epoch 037 | Loss: 0.6187 | Test Acc: 0.7085\n",
      "Seed 21 | Epoch 038 | Loss: 0.6164 | Test Acc: 0.7085\n",
      "Seed 21 | Epoch 039 | Loss: 0.6193 | Test Acc: 0.6996\n",
      "Seed 21 | Epoch 040 | Loss: 0.6168 | Test Acc: 0.7040\n",
      "Seed 21 | Epoch 041 | Loss: 0.6188 | Test Acc: 0.7040\n",
      "Seed 21 | Epoch 042 | Loss: 0.6164 | Test Acc: 0.7040\n",
      "Seed 21 | Epoch 043 | Loss: 0.6161 | Test Acc: 0.7040\n",
      "Seed 21 | Epoch 044 | Loss: 0.6185 | Test Acc: 0.7040\n",
      "Seed 21 | Epoch 045 | Loss: 0.6176 | Test Acc: 0.6996\n",
      "Seed 21 | Epoch 046 | Loss: 0.6185 | Test Acc: 0.6996\n",
      "Seed 21 | Epoch 047 | Loss: 0.6152 | Test Acc: 0.7130\n",
      "Seed 21 | Epoch 048 | Loss: 0.6193 | Test Acc: 0.6951\n",
      "Seed 21 | Epoch 049 | Loss: 0.6136 | Test Acc: 0.7040\n",
      "Seed 21 | Epoch 050 | Loss: 0.6182 | Test Acc: 0.6771\n"
     ]
    },
    {
     "data": {
      "text/html": [],
      "text/plain": [
       "<IPython.core.display.HTML object>"
      ]
     },
     "metadata": {},
     "output_type": "display_data"
    },
    {
     "data": {
      "text/html": [
       "<br>    <style><br>        .wandb-row {<br>            display: flex;<br>            flex-direction: row;<br>            flex-wrap: wrap;<br>            justify-content: flex-start;<br>            width: 100%;<br>        }<br>        .wandb-col {<br>            display: flex;<br>            flex-direction: column;<br>            flex-basis: 100%;<br>            flex: 1;<br>            padding: 10px;<br>        }<br>    </style><br><div class=\"wandb-row\"><div class=\"wandb-col\"><h3>Run history:</h3><br/><table class=\"wandb\"><tr><td>epoch</td><td>▁▁▁▁▂▂▂▂▂▂▃▃▃▃▃▄▄▄▄▄▅▅▅▅▅▅▆▆▆▆▆▆▇▇▇▇▇███</td></tr><tr><td>loss</td><td>█▇▇▇▆▅▄▃▃▃▂▃▂▂▂▂▂▂▂▂▂▁▂▁▂▂▂▁▂▁▁▁▁▁▁▁▁▁▁▁</td></tr><tr><td>test_acc</td><td>▁▁▁▄▃▆▃▄▇▇▆█▇█▇▇▇▇▅▇▇▇▇▇▅▇▆▇▇▇▇▇▇▇▇▇▇▇▆▅</td></tr><tr><td>train_acc</td><td>▁▁▂▅▃▃▇▄▃▆▇▆▇▇▇▇▇▇▇█▇▇██▇▇▇█▇▇▇█▇█▇▇█▇▇▇</td></tr></table><br/></div><div class=\"wandb-col\"><h3>Run summary:</h3><br/><table class=\"wandb\"><tr><td>epoch</td><td>50</td></tr><tr><td>loss</td><td>0.61824</td></tr><tr><td>test_acc</td><td>0.67713</td></tr><tr><td>train_acc</td><td>0.68764</td></tr></table><br/></div></div>"
      ],
      "text/plain": [
       "<IPython.core.display.HTML object>"
      ]
     },
     "metadata": {},
     "output_type": "display_data"
    },
    {
     "data": {
      "text/html": [
       " View run <strong style=\"color:#cdcd00\">GCN_baseline_seed_21</strong> at: <a href='https://wandb.ai/noynetanel1-tel-aviv-university/GCN%20Graph%20classification%28Protein%29_Gal/runs/rkkhcdxd' target=\"_blank\">https://wandb.ai/noynetanel1-tel-aviv-university/GCN%20Graph%20classification%28Protein%29_Gal/runs/rkkhcdxd</a><br> View project at: <a href='https://wandb.ai/noynetanel1-tel-aviv-university/GCN%20Graph%20classification%28Protein%29_Gal' target=\"_blank\">https://wandb.ai/noynetanel1-tel-aviv-university/GCN%20Graph%20classification%28Protein%29_Gal</a><br>Synced 5 W&B file(s), 0 media file(s), 0 artifact file(s) and 0 other file(s)"
      ],
      "text/plain": [
       "<IPython.core.display.HTML object>"
      ]
     },
     "metadata": {},
     "output_type": "display_data"
    },
    {
     "data": {
      "text/html": [
       "Find logs at: <code>./wandb/run-20250820_143838-rkkhcdxd/logs</code>"
      ],
      "text/plain": [
       "<IPython.core.display.HTML object>"
      ]
     },
     "metadata": {},
     "output_type": "display_data"
    },
    {
     "data": {
      "text/html": [
       "Tracking run with wandb version 0.20.1"
      ],
      "text/plain": [
       "<IPython.core.display.HTML object>"
      ]
     },
     "metadata": {},
     "output_type": "display_data"
    },
    {
     "data": {
      "text/html": [
       "Run data is saved locally in <code>/kaggle/working/wandb/run-20250820_143912-97t516nh</code>"
      ],
      "text/plain": [
       "<IPython.core.display.HTML object>"
      ]
     },
     "metadata": {},
     "output_type": "display_data"
    },
    {
     "data": {
      "text/html": [
       "Syncing run <strong><a href='https://wandb.ai/noynetanel1-tel-aviv-university/GCN%20Graph%20classification%28Protein%29_Gal/runs/97t516nh' target=\"_blank\">GCN_baseline_seed_22</a></strong> to <a href='https://wandb.ai/noynetanel1-tel-aviv-university/GCN%20Graph%20classification%28Protein%29_Gal' target=\"_blank\">Weights & Biases</a> (<a href='https://wandb.me/developer-guide' target=\"_blank\">docs</a>)<br>"
      ],
      "text/plain": [
       "<IPython.core.display.HTML object>"
      ]
     },
     "metadata": {},
     "output_type": "display_data"
    },
    {
     "data": {
      "text/html": [
       " View project at <a href='https://wandb.ai/noynetanel1-tel-aviv-university/GCN%20Graph%20classification%28Protein%29_Gal' target=\"_blank\">https://wandb.ai/noynetanel1-tel-aviv-university/GCN%20Graph%20classification%28Protein%29_Gal</a>"
      ],
      "text/plain": [
       "<IPython.core.display.HTML object>"
      ]
     },
     "metadata": {},
     "output_type": "display_data"
    },
    {
     "data": {
      "text/html": [
       " View run at <a href='https://wandb.ai/noynetanel1-tel-aviv-university/GCN%20Graph%20classification%28Protein%29_Gal/runs/97t516nh' target=\"_blank\">https://wandb.ai/noynetanel1-tel-aviv-university/GCN%20Graph%20classification%28Protein%29_Gal/runs/97t516nh</a>"
      ],
      "text/plain": [
       "<IPython.core.display.HTML object>"
      ]
     },
     "metadata": {},
     "output_type": "display_data"
    },
    {
     "name": "stdout",
     "output_type": "stream",
     "text": [
      "Seed 22 | Epoch 001 | Loss: 0.6779 | Test Acc: 0.5964\n",
      "Seed 22 | Epoch 002 | Loss: 0.6695 | Test Acc: 0.6054\n",
      "Seed 22 | Epoch 003 | Loss: 0.6656 | Test Acc: 0.6054\n",
      "Seed 22 | Epoch 004 | Loss: 0.6613 | Test Acc: 0.6413\n",
      "Seed 22 | Epoch 005 | Loss: 0.6573 | Test Acc: 0.6233\n",
      "Seed 22 | Epoch 006 | Loss: 0.6513 | Test Acc: 0.6323\n",
      "Seed 22 | Epoch 007 | Loss: 0.6469 | Test Acc: 0.6726\n",
      "Seed 22 | Epoch 008 | Loss: 0.6460 | Test Acc: 0.6547\n",
      "Seed 22 | Epoch 009 | Loss: 0.6371 | Test Acc: 0.7040\n",
      "Seed 22 | Epoch 010 | Loss: 0.6360 | Test Acc: 0.6233\n",
      "Seed 22 | Epoch 011 | Loss: 0.6327 | Test Acc: 0.6233\n",
      "Seed 22 | Epoch 012 | Loss: 0.6316 | Test Acc: 0.6816\n",
      "Seed 22 | Epoch 013 | Loss: 0.6288 | Test Acc: 0.7085\n",
      "Seed 22 | Epoch 014 | Loss: 0.6260 | Test Acc: 0.6906\n",
      "Seed 22 | Epoch 015 | Loss: 0.6232 | Test Acc: 0.6996\n",
      "Seed 22 | Epoch 016 | Loss: 0.6265 | Test Acc: 0.7085\n",
      "Seed 22 | Epoch 017 | Loss: 0.6275 | Test Acc: 0.6996\n",
      "Seed 22 | Epoch 018 | Loss: 0.6196 | Test Acc: 0.7085\n",
      "Seed 22 | Epoch 019 | Loss: 0.6235 | Test Acc: 0.6996\n",
      "Seed 22 | Epoch 020 | Loss: 0.6231 | Test Acc: 0.7040\n",
      "Seed 22 | Epoch 021 | Loss: 0.6187 | Test Acc: 0.6682\n",
      "Seed 22 | Epoch 022 | Loss: 0.6218 | Test Acc: 0.7040\n",
      "Seed 22 | Epoch 023 | Loss: 0.6179 | Test Acc: 0.7040\n",
      "Seed 22 | Epoch 024 | Loss: 0.6187 | Test Acc: 0.7130\n",
      "Seed 22 | Epoch 025 | Loss: 0.6178 | Test Acc: 0.6592\n",
      "Seed 22 | Epoch 026 | Loss: 0.6205 | Test Acc: 0.7085\n",
      "Seed 22 | Epoch 027 | Loss: 0.6159 | Test Acc: 0.7085\n",
      "Seed 22 | Epoch 028 | Loss: 0.6142 | Test Acc: 0.7220\n",
      "Seed 22 | Epoch 029 | Loss: 0.6159 | Test Acc: 0.7085\n",
      "Seed 22 | Epoch 030 | Loss: 0.6158 | Test Acc: 0.7130\n",
      "Seed 22 | Epoch 031 | Loss: 0.6168 | Test Acc: 0.6637\n",
      "Seed 22 | Epoch 032 | Loss: 0.6166 | Test Acc: 0.7130\n",
      "Seed 22 | Epoch 033 | Loss: 0.6168 | Test Acc: 0.6996\n",
      "Seed 22 | Epoch 034 | Loss: 0.6142 | Test Acc: 0.7220\n",
      "Seed 22 | Epoch 035 | Loss: 0.6161 | Test Acc: 0.6457\n",
      "Seed 22 | Epoch 036 | Loss: 0.6161 | Test Acc: 0.7085\n",
      "Seed 22 | Epoch 037 | Loss: 0.6168 | Test Acc: 0.7085\n",
      "Seed 22 | Epoch 038 | Loss: 0.6132 | Test Acc: 0.7040\n",
      "Seed 22 | Epoch 039 | Loss: 0.6158 | Test Acc: 0.7130\n",
      "Seed 22 | Epoch 040 | Loss: 0.6131 | Test Acc: 0.6637\n",
      "Seed 22 | Epoch 041 | Loss: 0.6234 | Test Acc: 0.6906\n",
      "Seed 22 | Epoch 042 | Loss: 0.6119 | Test Acc: 0.6682\n",
      "Seed 22 | Epoch 043 | Loss: 0.6131 | Test Acc: 0.7175\n",
      "Seed 22 | Epoch 044 | Loss: 0.6147 | Test Acc: 0.7175\n",
      "Seed 22 | Epoch 045 | Loss: 0.6115 | Test Acc: 0.6951\n",
      "Seed 22 | Epoch 046 | Loss: 0.6110 | Test Acc: 0.7130\n",
      "Seed 22 | Epoch 047 | Loss: 0.6123 | Test Acc: 0.6996\n",
      "Seed 22 | Epoch 048 | Loss: 0.6155 | Test Acc: 0.7220\n",
      "Seed 22 | Epoch 049 | Loss: 0.6164 | Test Acc: 0.6726\n",
      "Seed 22 | Epoch 050 | Loss: 0.6135 | Test Acc: 0.6771\n"
     ]
    },
    {
     "data": {
      "text/html": [],
      "text/plain": [
       "<IPython.core.display.HTML object>"
      ]
     },
     "metadata": {},
     "output_type": "display_data"
    },
    {
     "data": {
      "text/html": [
       "<br>    <style><br>        .wandb-row {<br>            display: flex;<br>            flex-direction: row;<br>            flex-wrap: wrap;<br>            justify-content: flex-start;<br>            width: 100%;<br>        }<br>        .wandb-col {<br>            display: flex;<br>            flex-direction: column;<br>            flex-basis: 100%;<br>            flex: 1;<br>            padding: 10px;<br>        }<br>    </style><br><div class=\"wandb-row\"><div class=\"wandb-col\"><h3>Run history:</h3><br/><table class=\"wandb\"><tr><td>epoch</td><td>▁▁▁▁▂▂▂▂▂▂▃▃▃▃▃▄▄▄▄▄▄▅▅▅▅▅▆▆▆▆▆▆▇▇▇▇▇▇██</td></tr><tr><td>loss</td><td>█▇▆▆▅▅▄▄▃▃▃▂▃▃▂▂▂▂▂▂▂▁▂▁▂▂▁▂▂▂▁▁▂▁▁▁▁▁▁▁</td></tr><tr><td>test_acc</td><td>▁▂▂▄▂▅▄▇▂▂▇▆▇▇▇▇▇▅▇▇▄▇▇█▇▅▇▇█▄▇▇▅▆█▇▇▇█▅</td></tr><tr><td>train_acc</td><td>▁▃▃▄▄▅█▄▄▇▇█▇▇▇▇▇██▇▇▇█▇▇███▆███▇█▇█▇██▇</td></tr></table><br/></div><div class=\"wandb-col\"><h3>Run summary:</h3><br/><table class=\"wandb\"><tr><td>epoch</td><td>50</td></tr><tr><td>loss</td><td>0.61348</td></tr><tr><td>test_acc</td><td>0.67713</td></tr><tr><td>train_acc</td><td>0.68764</td></tr></table><br/></div></div>"
      ],
      "text/plain": [
       "<IPython.core.display.HTML object>"
      ]
     },
     "metadata": {},
     "output_type": "display_data"
    },
    {
     "data": {
      "text/html": [
       " View run <strong style=\"color:#cdcd00\">GCN_baseline_seed_22</strong> at: <a href='https://wandb.ai/noynetanel1-tel-aviv-university/GCN%20Graph%20classification%28Protein%29_Gal/runs/97t516nh' target=\"_blank\">https://wandb.ai/noynetanel1-tel-aviv-university/GCN%20Graph%20classification%28Protein%29_Gal/runs/97t516nh</a><br> View project at: <a href='https://wandb.ai/noynetanel1-tel-aviv-university/GCN%20Graph%20classification%28Protein%29_Gal' target=\"_blank\">https://wandb.ai/noynetanel1-tel-aviv-university/GCN%20Graph%20classification%28Protein%29_Gal</a><br>Synced 5 W&B file(s), 0 media file(s), 0 artifact file(s) and 0 other file(s)"
      ],
      "text/plain": [
       "<IPython.core.display.HTML object>"
      ]
     },
     "metadata": {},
     "output_type": "display_data"
    },
    {
     "data": {
      "text/html": [
       "Find logs at: <code>./wandb/run-20250820_143912-97t516nh/logs</code>"
      ],
      "text/plain": [
       "<IPython.core.display.HTML object>"
      ]
     },
     "metadata": {},
     "output_type": "display_data"
    },
    {
     "data": {
      "text/html": [
       "Tracking run with wandb version 0.20.1"
      ],
      "text/plain": [
       "<IPython.core.display.HTML object>"
      ]
     },
     "metadata": {},
     "output_type": "display_data"
    },
    {
     "data": {
      "text/html": [
       "Run data is saved locally in <code>/kaggle/working/wandb/run-20250820_143949-pi1ddneb</code>"
      ],
      "text/plain": [
       "<IPython.core.display.HTML object>"
      ]
     },
     "metadata": {},
     "output_type": "display_data"
    },
    {
     "data": {
      "text/html": [
       "Syncing run <strong><a href='https://wandb.ai/noynetanel1-tel-aviv-university/GCN%20Graph%20classification%28Protein%29_Gal/runs/pi1ddneb' target=\"_blank\">GCN_baseline_seed_23</a></strong> to <a href='https://wandb.ai/noynetanel1-tel-aviv-university/GCN%20Graph%20classification%28Protein%29_Gal' target=\"_blank\">Weights & Biases</a> (<a href='https://wandb.me/developer-guide' target=\"_blank\">docs</a>)<br>"
      ],
      "text/plain": [
       "<IPython.core.display.HTML object>"
      ]
     },
     "metadata": {},
     "output_type": "display_data"
    },
    {
     "data": {
      "text/html": [
       " View project at <a href='https://wandb.ai/noynetanel1-tel-aviv-university/GCN%20Graph%20classification%28Protein%29_Gal' target=\"_blank\">https://wandb.ai/noynetanel1-tel-aviv-university/GCN%20Graph%20classification%28Protein%29_Gal</a>"
      ],
      "text/plain": [
       "<IPython.core.display.HTML object>"
      ]
     },
     "metadata": {},
     "output_type": "display_data"
    },
    {
     "data": {
      "text/html": [
       " View run at <a href='https://wandb.ai/noynetanel1-tel-aviv-university/GCN%20Graph%20classification%28Protein%29_Gal/runs/pi1ddneb' target=\"_blank\">https://wandb.ai/noynetanel1-tel-aviv-university/GCN%20Graph%20classification%28Protein%29_Gal/runs/pi1ddneb</a>"
      ],
      "text/plain": [
       "<IPython.core.display.HTML object>"
      ]
     },
     "metadata": {},
     "output_type": "display_data"
    },
    {
     "name": "stdout",
     "output_type": "stream",
     "text": [
      "Seed 23 | Epoch 001 | Loss: 0.6901 | Test Acc: 0.5919\n",
      "Seed 23 | Epoch 002 | Loss: 0.6713 | Test Acc: 0.5919\n",
      "Seed 23 | Epoch 003 | Loss: 0.6658 | Test Acc: 0.6099\n",
      "Seed 23 | Epoch 004 | Loss: 0.6617 | Test Acc: 0.6188\n",
      "Seed 23 | Epoch 005 | Loss: 0.6568 | Test Acc: 0.6323\n",
      "Seed 23 | Epoch 006 | Loss: 0.6546 | Test Acc: 0.6771\n",
      "Seed 23 | Epoch 007 | Loss: 0.6478 | Test Acc: 0.6368\n",
      "Seed 23 | Epoch 008 | Loss: 0.6445 | Test Acc: 0.7444\n",
      "Seed 23 | Epoch 009 | Loss: 0.6428 | Test Acc: 0.6188\n",
      "Seed 23 | Epoch 010 | Loss: 0.6451 | Test Acc: 0.6368\n",
      "Seed 23 | Epoch 011 | Loss: 0.6358 | Test Acc: 0.7399\n",
      "Seed 23 | Epoch 012 | Loss: 0.6347 | Test Acc: 0.7220\n",
      "Seed 23 | Epoch 013 | Loss: 0.6349 | Test Acc: 0.7175\n",
      "Seed 23 | Epoch 014 | Loss: 0.6330 | Test Acc: 0.7354\n",
      "Seed 23 | Epoch 015 | Loss: 0.6317 | Test Acc: 0.7444\n",
      "Seed 23 | Epoch 016 | Loss: 0.6290 | Test Acc: 0.7220\n",
      "Seed 23 | Epoch 017 | Loss: 0.6296 | Test Acc: 0.7265\n",
      "Seed 23 | Epoch 018 | Loss: 0.6331 | Test Acc: 0.7220\n",
      "Seed 23 | Epoch 019 | Loss: 0.6265 | Test Acc: 0.7489\n",
      "Seed 23 | Epoch 020 | Loss: 0.6324 | Test Acc: 0.7489\n",
      "Seed 23 | Epoch 021 | Loss: 0.6278 | Test Acc: 0.7175\n",
      "Seed 23 | Epoch 022 | Loss: 0.6248 | Test Acc: 0.7534\n",
      "Seed 23 | Epoch 023 | Loss: 0.6230 | Test Acc: 0.7220\n",
      "Seed 23 | Epoch 024 | Loss: 0.6247 | Test Acc: 0.7489\n",
      "Seed 23 | Epoch 025 | Loss: 0.6261 | Test Acc: 0.7309\n",
      "Seed 23 | Epoch 026 | Loss: 0.6241 | Test Acc: 0.7354\n",
      "Seed 23 | Epoch 027 | Loss: 0.6237 | Test Acc: 0.7220\n",
      "Seed 23 | Epoch 028 | Loss: 0.6236 | Test Acc: 0.7354\n",
      "Seed 23 | Epoch 029 | Loss: 0.6250 | Test Acc: 0.7399\n",
      "Seed 23 | Epoch 030 | Loss: 0.6225 | Test Acc: 0.7444\n",
      "Seed 23 | Epoch 031 | Loss: 0.6212 | Test Acc: 0.7444\n",
      "Seed 23 | Epoch 032 | Loss: 0.6203 | Test Acc: 0.7309\n",
      "Seed 23 | Epoch 033 | Loss: 0.6216 | Test Acc: 0.7444\n",
      "Seed 23 | Epoch 034 | Loss: 0.6206 | Test Acc: 0.7489\n",
      "Seed 23 | Epoch 035 | Loss: 0.6229 | Test Acc: 0.7085\n",
      "Seed 23 | Epoch 036 | Loss: 0.6232 | Test Acc: 0.7444\n",
      "Seed 23 | Epoch 037 | Loss: 0.6188 | Test Acc: 0.7444\n",
      "Seed 23 | Epoch 038 | Loss: 0.6196 | Test Acc: 0.7399\n",
      "Seed 23 | Epoch 039 | Loss: 0.6239 | Test Acc: 0.7444\n",
      "Seed 23 | Epoch 040 | Loss: 0.6201 | Test Acc: 0.7534\n",
      "Seed 23 | Epoch 041 | Loss: 0.6210 | Test Acc: 0.7489\n",
      "Seed 23 | Epoch 042 | Loss: 0.6241 | Test Acc: 0.7265\n",
      "Seed 23 | Epoch 043 | Loss: 0.6209 | Test Acc: 0.7399\n",
      "Seed 23 | Epoch 044 | Loss: 0.6188 | Test Acc: 0.7040\n",
      "Seed 23 | Epoch 045 | Loss: 0.6275 | Test Acc: 0.7354\n",
      "Seed 23 | Epoch 046 | Loss: 0.6165 | Test Acc: 0.7354\n",
      "Seed 23 | Epoch 047 | Loss: 0.6257 | Test Acc: 0.7444\n",
      "Seed 23 | Epoch 048 | Loss: 0.6220 | Test Acc: 0.7489\n",
      "Seed 23 | Epoch 049 | Loss: 0.6237 | Test Acc: 0.7175\n",
      "Seed 23 | Epoch 050 | Loss: 0.6302 | Test Acc: 0.6996\n"
     ]
    },
    {
     "data": {
      "text/html": [],
      "text/plain": [
       "<IPython.core.display.HTML object>"
      ]
     },
     "metadata": {},
     "output_type": "display_data"
    },
    {
     "data": {
      "text/html": [
       "<br>    <style><br>        .wandb-row {<br>            display: flex;<br>            flex-direction: row;<br>            flex-wrap: wrap;<br>            justify-content: flex-start;<br>            width: 100%;<br>        }<br>        .wandb-col {<br>            display: flex;<br>            flex-direction: column;<br>            flex-basis: 100%;<br>            flex: 1;<br>            padding: 10px;<br>        }<br>    </style><br><div class=\"wandb-row\"><div class=\"wandb-col\"><h3>Run history:</h3><br/><table class=\"wandb\"><tr><td>epoch</td><td>▁▁▁▁▂▂▂▂▂▂▃▃▃▃▃▄▄▄▄▄▅▅▅▅▅▆▆▆▆▆▆▇▇▇▇▇▇███</td></tr><tr><td>loss</td><td>█▆▆▅▅▄▄▄▄▃▃▃▂▂▂▂▃▂▂▂▂▂▂▂▁▁▁▂▂▁▂▁▁▂▁▂▁▂▂▂</td></tr><tr><td>test_acc</td><td>▁▁▂▃▅█▂▃▇▇▇█▇▇█▆█▇█▇▇▇▇████▆█████▇▇▇▇██▆</td></tr><tr><td>train_acc</td><td>▁▁▂▃▄▇▃▃▇▇▇▇▇▇▇▇▆▇▇▇▇▇▆▇▇▇▇▇▆▇▇█▇▇▇▇▆▇▇▆</td></tr></table><br/></div><div class=\"wandb-col\"><h3>Run summary:</h3><br/><table class=\"wandb\"><tr><td>epoch</td><td>50</td></tr><tr><td>loss</td><td>0.63022</td></tr><tr><td>test_acc</td><td>0.69955</td></tr><tr><td>train_acc</td><td>0.67191</td></tr></table><br/></div></div>"
      ],
      "text/plain": [
       "<IPython.core.display.HTML object>"
      ]
     },
     "metadata": {},
     "output_type": "display_data"
    },
    {
     "data": {
      "text/html": [
       " View run <strong style=\"color:#cdcd00\">GCN_baseline_seed_23</strong> at: <a href='https://wandb.ai/noynetanel1-tel-aviv-university/GCN%20Graph%20classification%28Protein%29_Gal/runs/pi1ddneb' target=\"_blank\">https://wandb.ai/noynetanel1-tel-aviv-university/GCN%20Graph%20classification%28Protein%29_Gal/runs/pi1ddneb</a><br> View project at: <a href='https://wandb.ai/noynetanel1-tel-aviv-university/GCN%20Graph%20classification%28Protein%29_Gal' target=\"_blank\">https://wandb.ai/noynetanel1-tel-aviv-university/GCN%20Graph%20classification%28Protein%29_Gal</a><br>Synced 5 W&B file(s), 0 media file(s), 0 artifact file(s) and 0 other file(s)"
      ],
      "text/plain": [
       "<IPython.core.display.HTML object>"
      ]
     },
     "metadata": {},
     "output_type": "display_data"
    },
    {
     "data": {
      "text/html": [
       "Find logs at: <code>./wandb/run-20250820_143949-pi1ddneb/logs</code>"
      ],
      "text/plain": [
       "<IPython.core.display.HTML object>"
      ]
     },
     "metadata": {},
     "output_type": "display_data"
    },
    {
     "data": {
      "text/html": [
       "Tracking run with wandb version 0.20.1"
      ],
      "text/plain": [
       "<IPython.core.display.HTML object>"
      ]
     },
     "metadata": {},
     "output_type": "display_data"
    },
    {
     "data": {
      "text/html": [
       "Run data is saved locally in <code>/kaggle/working/wandb/run-20250820_144025-582p982k</code>"
      ],
      "text/plain": [
       "<IPython.core.display.HTML object>"
      ]
     },
     "metadata": {},
     "output_type": "display_data"
    },
    {
     "data": {
      "text/html": [
       "Syncing run <strong><a href='https://wandb.ai/noynetanel1-tel-aviv-university/GCN%20Graph%20classification%28Protein%29_Gal/runs/582p982k' target=\"_blank\">GCN_baseline_seed_24</a></strong> to <a href='https://wandb.ai/noynetanel1-tel-aviv-university/GCN%20Graph%20classification%28Protein%29_Gal' target=\"_blank\">Weights & Biases</a> (<a href='https://wandb.me/developer-guide' target=\"_blank\">docs</a>)<br>"
      ],
      "text/plain": [
       "<IPython.core.display.HTML object>"
      ]
     },
     "metadata": {},
     "output_type": "display_data"
    },
    {
     "data": {
      "text/html": [
       " View project at <a href='https://wandb.ai/noynetanel1-tel-aviv-university/GCN%20Graph%20classification%28Protein%29_Gal' target=\"_blank\">https://wandb.ai/noynetanel1-tel-aviv-university/GCN%20Graph%20classification%28Protein%29_Gal</a>"
      ],
      "text/plain": [
       "<IPython.core.display.HTML object>"
      ]
     },
     "metadata": {},
     "output_type": "display_data"
    },
    {
     "data": {
      "text/html": [
       " View run at <a href='https://wandb.ai/noynetanel1-tel-aviv-university/GCN%20Graph%20classification%28Protein%29_Gal/runs/582p982k' target=\"_blank\">https://wandb.ai/noynetanel1-tel-aviv-university/GCN%20Graph%20classification%28Protein%29_Gal/runs/582p982k</a>"
      ],
      "text/plain": [
       "<IPython.core.display.HTML object>"
      ]
     },
     "metadata": {},
     "output_type": "display_data"
    },
    {
     "name": "stdout",
     "output_type": "stream",
     "text": [
      "Seed 24 | Epoch 001 | Loss: 0.6753 | Test Acc: 0.6054\n",
      "Seed 24 | Epoch 002 | Loss: 0.6709 | Test Acc: 0.6054\n",
      "Seed 24 | Epoch 003 | Loss: 0.6650 | Test Acc: 0.6233\n",
      "Seed 24 | Epoch 004 | Loss: 0.6598 | Test Acc: 0.6413\n",
      "Seed 24 | Epoch 005 | Loss: 0.6534 | Test Acc: 0.6413\n",
      "Seed 24 | Epoch 006 | Loss: 0.6472 | Test Acc: 0.6457\n",
      "Seed 24 | Epoch 007 | Loss: 0.6400 | Test Acc: 0.6457\n",
      "Seed 24 | Epoch 008 | Loss: 0.6344 | Test Acc: 0.6368\n",
      "Seed 24 | Epoch 009 | Loss: 0.6356 | Test Acc: 0.6413\n",
      "Seed 24 | Epoch 010 | Loss: 0.6301 | Test Acc: 0.6861\n",
      "Seed 24 | Epoch 011 | Loss: 0.6280 | Test Acc: 0.6816\n",
      "Seed 24 | Epoch 012 | Loss: 0.6239 | Test Acc: 0.6726\n",
      "Seed 24 | Epoch 013 | Loss: 0.6242 | Test Acc: 0.6771\n",
      "Seed 24 | Epoch 014 | Loss: 0.6198 | Test Acc: 0.6906\n",
      "Seed 24 | Epoch 015 | Loss: 0.6210 | Test Acc: 0.6682\n",
      "Seed 24 | Epoch 016 | Loss: 0.6178 | Test Acc: 0.6861\n",
      "Seed 24 | Epoch 017 | Loss: 0.6156 | Test Acc: 0.6861\n",
      "Seed 24 | Epoch 018 | Loss: 0.6159 | Test Acc: 0.6771\n",
      "Seed 24 | Epoch 019 | Loss: 0.6165 | Test Acc: 0.6771\n",
      "Seed 24 | Epoch 020 | Loss: 0.6166 | Test Acc: 0.6771\n",
      "Seed 24 | Epoch 021 | Loss: 0.6141 | Test Acc: 0.6771\n",
      "Seed 24 | Epoch 022 | Loss: 0.6173 | Test Acc: 0.6771\n",
      "Seed 24 | Epoch 023 | Loss: 0.6150 | Test Acc: 0.6726\n",
      "Seed 24 | Epoch 024 | Loss: 0.6149 | Test Acc: 0.6816\n",
      "Seed 24 | Epoch 025 | Loss: 0.6118 | Test Acc: 0.6771\n",
      "Seed 24 | Epoch 026 | Loss: 0.6131 | Test Acc: 0.6726\n",
      "Seed 24 | Epoch 027 | Loss: 0.6150 | Test Acc: 0.6592\n",
      "Seed 24 | Epoch 028 | Loss: 0.6124 | Test Acc: 0.6771\n",
      "Seed 24 | Epoch 029 | Loss: 0.6102 | Test Acc: 0.6771\n",
      "Seed 24 | Epoch 030 | Loss: 0.6131 | Test Acc: 0.6816\n",
      "Seed 24 | Epoch 031 | Loss: 0.6087 | Test Acc: 0.6816\n",
      "Seed 24 | Epoch 032 | Loss: 0.6115 | Test Acc: 0.6682\n",
      "Seed 24 | Epoch 033 | Loss: 0.6122 | Test Acc: 0.6592\n",
      "Seed 24 | Epoch 034 | Loss: 0.6105 | Test Acc: 0.6816\n",
      "Seed 24 | Epoch 035 | Loss: 0.6117 | Test Acc: 0.6726\n",
      "Seed 24 | Epoch 036 | Loss: 0.6094 | Test Acc: 0.6771\n",
      "Seed 24 | Epoch 037 | Loss: 0.6067 | Test Acc: 0.6726\n",
      "Seed 24 | Epoch 038 | Loss: 0.6086 | Test Acc: 0.6771\n",
      "Seed 24 | Epoch 039 | Loss: 0.6072 | Test Acc: 0.6861\n",
      "Seed 24 | Epoch 040 | Loss: 0.6081 | Test Acc: 0.6771\n",
      "Seed 24 | Epoch 041 | Loss: 0.6090 | Test Acc: 0.6951\n",
      "Seed 24 | Epoch 042 | Loss: 0.6085 | Test Acc: 0.6816\n",
      "Seed 24 | Epoch 043 | Loss: 0.6110 | Test Acc: 0.6816\n",
      "Seed 24 | Epoch 044 | Loss: 0.6093 | Test Acc: 0.6906\n",
      "Seed 24 | Epoch 045 | Loss: 0.6076 | Test Acc: 0.6816\n",
      "Seed 24 | Epoch 046 | Loss: 0.6139 | Test Acc: 0.6592\n",
      "Seed 24 | Epoch 047 | Loss: 0.6080 | Test Acc: 0.6771\n",
      "Seed 24 | Epoch 048 | Loss: 0.6062 | Test Acc: 0.6682\n",
      "Seed 24 | Epoch 049 | Loss: 0.6075 | Test Acc: 0.6771\n",
      "Seed 24 | Epoch 050 | Loss: 0.6088 | Test Acc: 0.6861\n"
     ]
    },
    {
     "data": {
      "text/html": [],
      "text/plain": [
       "<IPython.core.display.HTML object>"
      ]
     },
     "metadata": {},
     "output_type": "display_data"
    },
    {
     "data": {
      "text/html": [
       "<br>    <style><br>        .wandb-row {<br>            display: flex;<br>            flex-direction: row;<br>            flex-wrap: wrap;<br>            justify-content: flex-start;<br>            width: 100%;<br>        }<br>        .wandb-col {<br>            display: flex;<br>            flex-direction: column;<br>            flex-basis: 100%;<br>            flex: 1;<br>            padding: 10px;<br>        }<br>    </style><br><div class=\"wandb-row\"><div class=\"wandb-col\"><h3>Run history:</h3><br/><table class=\"wandb\"><tr><td>epoch</td><td>▁▁▁▁▂▂▂▂▂▃▃▃▃▃▃▄▄▄▄▄▅▅▅▅▅▅▆▆▆▆▆▆▇▇▇▇▇▇██</td></tr><tr><td>loss</td><td>██▇▆▆▄▄▄▃▃▂▂▂▂▂▂▂▂▂▂▂▂▂▁▂▂▂▁▂▁▁▁▁▁▁▁▁▂▁▁</td></tr><tr><td>test_acc</td><td>▁▁▂▄▄▄▃▄▇▇▇█▆▇▇▇▇▇▇▆▇▆▅▇▇▆▅▇▆▇▇▇▇█▇█▇▅▆▇</td></tr><tr><td>train_acc</td><td>▁▂▃▃▃▃▇▇█▇▇▇▇▇▇▇▇▆▇▇▆▇▇▇▇▆▇▇▇▇█▇█▇▇▇▆▇▇▇</td></tr></table><br/></div><div class=\"wandb-col\"><h3>Run summary:</h3><br/><table class=\"wandb\"><tr><td>epoch</td><td>50</td></tr><tr><td>loss</td><td>0.60882</td></tr><tr><td>test_acc</td><td>0.6861</td></tr><tr><td>train_acc</td><td>0.70449</td></tr></table><br/></div></div>"
      ],
      "text/plain": [
       "<IPython.core.display.HTML object>"
      ]
     },
     "metadata": {},
     "output_type": "display_data"
    },
    {
     "data": {
      "text/html": [
       " View run <strong style=\"color:#cdcd00\">GCN_baseline_seed_24</strong> at: <a href='https://wandb.ai/noynetanel1-tel-aviv-university/GCN%20Graph%20classification%28Protein%29_Gal/runs/582p982k' target=\"_blank\">https://wandb.ai/noynetanel1-tel-aviv-university/GCN%20Graph%20classification%28Protein%29_Gal/runs/582p982k</a><br> View project at: <a href='https://wandb.ai/noynetanel1-tel-aviv-university/GCN%20Graph%20classification%28Protein%29_Gal' target=\"_blank\">https://wandb.ai/noynetanel1-tel-aviv-university/GCN%20Graph%20classification%28Protein%29_Gal</a><br>Synced 5 W&B file(s), 0 media file(s), 0 artifact file(s) and 0 other file(s)"
      ],
      "text/plain": [
       "<IPython.core.display.HTML object>"
      ]
     },
     "metadata": {},
     "output_type": "display_data"
    },
    {
     "data": {
      "text/html": [
       "Find logs at: <code>./wandb/run-20250820_144025-582p982k/logs</code>"
      ],
      "text/plain": [
       "<IPython.core.display.HTML object>"
      ]
     },
     "metadata": {},
     "output_type": "display_data"
    },
    {
     "data": {
      "text/html": [
       "Tracking run with wandb version 0.20.1"
      ],
      "text/plain": [
       "<IPython.core.display.HTML object>"
      ]
     },
     "metadata": {},
     "output_type": "display_data"
    },
    {
     "data": {
      "text/html": [
       "Run data is saved locally in <code>/kaggle/working/wandb/run-20250820_144102-ckpahypd</code>"
      ],
      "text/plain": [
       "<IPython.core.display.HTML object>"
      ]
     },
     "metadata": {},
     "output_type": "display_data"
    },
    {
     "data": {
      "text/html": [
       "Syncing run <strong><a href='https://wandb.ai/noynetanel1-tel-aviv-university/GCN%20Graph%20classification%28Protein%29_Gal/runs/ckpahypd' target=\"_blank\">GCN_baseline_seed_25</a></strong> to <a href='https://wandb.ai/noynetanel1-tel-aviv-university/GCN%20Graph%20classification%28Protein%29_Gal' target=\"_blank\">Weights & Biases</a> (<a href='https://wandb.me/developer-guide' target=\"_blank\">docs</a>)<br>"
      ],
      "text/plain": [
       "<IPython.core.display.HTML object>"
      ]
     },
     "metadata": {},
     "output_type": "display_data"
    },
    {
     "data": {
      "text/html": [
       " View project at <a href='https://wandb.ai/noynetanel1-tel-aviv-university/GCN%20Graph%20classification%28Protein%29_Gal' target=\"_blank\">https://wandb.ai/noynetanel1-tel-aviv-university/GCN%20Graph%20classification%28Protein%29_Gal</a>"
      ],
      "text/plain": [
       "<IPython.core.display.HTML object>"
      ]
     },
     "metadata": {},
     "output_type": "display_data"
    },
    {
     "data": {
      "text/html": [
       " View run at <a href='https://wandb.ai/noynetanel1-tel-aviv-university/GCN%20Graph%20classification%28Protein%29_Gal/runs/ckpahypd' target=\"_blank\">https://wandb.ai/noynetanel1-tel-aviv-university/GCN%20Graph%20classification%28Protein%29_Gal/runs/ckpahypd</a>"
      ],
      "text/plain": [
       "<IPython.core.display.HTML object>"
      ]
     },
     "metadata": {},
     "output_type": "display_data"
    },
    {
     "name": "stdout",
     "output_type": "stream",
     "text": [
      "Seed 25 | Epoch 001 | Loss: 0.6805 | Test Acc: 0.5830\n",
      "Seed 25 | Epoch 002 | Loss: 0.6699 | Test Acc: 0.5830\n",
      "Seed 25 | Epoch 003 | Loss: 0.6654 | Test Acc: 0.6278\n",
      "Seed 25 | Epoch 004 | Loss: 0.6616 | Test Acc: 0.6233\n",
      "Seed 25 | Epoch 005 | Loss: 0.6594 | Test Acc: 0.6457\n",
      "Seed 25 | Epoch 006 | Loss: 0.6516 | Test Acc: 0.6457\n",
      "Seed 25 | Epoch 007 | Loss: 0.6464 | Test Acc: 0.6547\n",
      "Seed 25 | Epoch 008 | Loss: 0.6418 | Test Acc: 0.6502\n",
      "Seed 25 | Epoch 009 | Loss: 0.6397 | Test Acc: 0.6592\n",
      "Seed 25 | Epoch 010 | Loss: 0.6371 | Test Acc: 0.6951\n",
      "Seed 25 | Epoch 011 | Loss: 0.6324 | Test Acc: 0.6906\n",
      "Seed 25 | Epoch 012 | Loss: 0.6307 | Test Acc: 0.6816\n",
      "Seed 25 | Epoch 013 | Loss: 0.6291 | Test Acc: 0.6726\n",
      "Seed 25 | Epoch 014 | Loss: 0.6269 | Test Acc: 0.6816\n",
      "Seed 25 | Epoch 015 | Loss: 0.6281 | Test Acc: 0.6906\n",
      "Seed 25 | Epoch 016 | Loss: 0.6241 | Test Acc: 0.6906\n",
      "Seed 25 | Epoch 017 | Loss: 0.6251 | Test Acc: 0.6906\n",
      "Seed 25 | Epoch 018 | Loss: 0.6242 | Test Acc: 0.6906\n",
      "Seed 25 | Epoch 019 | Loss: 0.6217 | Test Acc: 0.6906\n",
      "Seed 25 | Epoch 020 | Loss: 0.6211 | Test Acc: 0.6816\n",
      "Seed 25 | Epoch 021 | Loss: 0.6224 | Test Acc: 0.6816\n",
      "Seed 25 | Epoch 022 | Loss: 0.6174 | Test Acc: 0.6906\n",
      "Seed 25 | Epoch 023 | Loss: 0.6253 | Test Acc: 0.6906\n",
      "Seed 25 | Epoch 024 | Loss: 0.6191 | Test Acc: 0.6816\n",
      "Seed 25 | Epoch 025 | Loss: 0.6152 | Test Acc: 0.6906\n",
      "Seed 25 | Epoch 026 | Loss: 0.6252 | Test Acc: 0.6951\n",
      "Seed 25 | Epoch 027 | Loss: 0.6197 | Test Acc: 0.6996\n",
      "Seed 25 | Epoch 028 | Loss: 0.6171 | Test Acc: 0.6906\n",
      "Seed 25 | Epoch 029 | Loss: 0.6174 | Test Acc: 0.6996\n",
      "Seed 25 | Epoch 030 | Loss: 0.6174 | Test Acc: 0.6996\n",
      "Seed 25 | Epoch 031 | Loss: 0.6156 | Test Acc: 0.6951\n",
      "Seed 25 | Epoch 032 | Loss: 0.6194 | Test Acc: 0.7040\n",
      "Seed 25 | Epoch 033 | Loss: 0.6169 | Test Acc: 0.6996\n",
      "Seed 25 | Epoch 034 | Loss: 0.6159 | Test Acc: 0.6906\n",
      "Seed 25 | Epoch 035 | Loss: 0.6164 | Test Acc: 0.7040\n",
      "Seed 25 | Epoch 036 | Loss: 0.6148 | Test Acc: 0.7040\n",
      "Seed 25 | Epoch 037 | Loss: 0.6203 | Test Acc: 0.6951\n",
      "Seed 25 | Epoch 038 | Loss: 0.6170 | Test Acc: 0.7040\n",
      "Seed 25 | Epoch 039 | Loss: 0.6217 | Test Acc: 0.6906\n",
      "Seed 25 | Epoch 040 | Loss: 0.6177 | Test Acc: 0.7040\n",
      "Seed 25 | Epoch 041 | Loss: 0.6157 | Test Acc: 0.6996\n",
      "Seed 25 | Epoch 042 | Loss: 0.6132 | Test Acc: 0.6861\n",
      "Seed 25 | Epoch 043 | Loss: 0.6131 | Test Acc: 0.6816\n",
      "Seed 25 | Epoch 044 | Loss: 0.6138 | Test Acc: 0.7085\n",
      "Seed 25 | Epoch 045 | Loss: 0.6110 | Test Acc: 0.6547\n",
      "Seed 25 | Epoch 046 | Loss: 0.6147 | Test Acc: 0.7085\n",
      "Seed 25 | Epoch 047 | Loss: 0.6129 | Test Acc: 0.6951\n",
      "Seed 25 | Epoch 048 | Loss: 0.6135 | Test Acc: 0.7040\n",
      "Seed 25 | Epoch 049 | Loss: 0.6134 | Test Acc: 0.7040\n",
      "Seed 25 | Epoch 050 | Loss: 0.6129 | Test Acc: 0.6996\n"
     ]
    },
    {
     "data": {
      "text/html": [],
      "text/plain": [
       "<IPython.core.display.HTML object>"
      ]
     },
     "metadata": {},
     "output_type": "display_data"
    },
    {
     "data": {
      "text/html": [
       "<br>    <style><br>        .wandb-row {<br>            display: flex;<br>            flex-direction: row;<br>            flex-wrap: wrap;<br>            justify-content: flex-start;<br>            width: 100%;<br>        }<br>        .wandb-col {<br>            display: flex;<br>            flex-direction: column;<br>            flex-basis: 100%;<br>            flex: 1;<br>            padding: 10px;<br>        }<br>    </style><br><div class=\"wandb-row\"><div class=\"wandb-col\"><h3>Run history:</h3><br/><table class=\"wandb\"><tr><td>epoch</td><td>▁▁▁▁▂▂▂▂▂▂▃▃▃▃▃▄▄▄▄▄▅▅▅▅▅▅▆▆▆▆▆▇▇▇▇▇▇███</td></tr><tr><td>loss</td><td>█▇▆▆▆▅▄▄▄▃▃▃▂▂▂▂▂▂▂▁▂▂▂▂▁▂▁▂▁▂▂▂▁▁▁▁▁▁▁▁</td></tr><tr><td>test_acc</td><td>▁▁▃▃▅▅▅▅▇▇▆▆▇▇▇▇▆▆▇▇▇█▇████▇███▇██▆▅█▇██</td></tr><tr><td>train_acc</td><td>▁▁▃▂▃▄▆▇▇▇▇▇▇▇▇▇▇█▇▇▇█▇▇▇█▇▇▇▇▇▇▇█▇▆█▇█▇</td></tr></table><br/></div><div class=\"wandb-col\"><h3>Run summary:</h3><br/><table class=\"wandb\"><tr><td>epoch</td><td>50</td></tr><tr><td>loss</td><td>0.61294</td></tr><tr><td>test_acc</td><td>0.69955</td></tr><tr><td>train_acc</td><td>0.69663</td></tr></table><br/></div></div>"
      ],
      "text/plain": [
       "<IPython.core.display.HTML object>"
      ]
     },
     "metadata": {},
     "output_type": "display_data"
    },
    {
     "data": {
      "text/html": [
       " View run <strong style=\"color:#cdcd00\">GCN_baseline_seed_25</strong> at: <a href='https://wandb.ai/noynetanel1-tel-aviv-university/GCN%20Graph%20classification%28Protein%29_Gal/runs/ckpahypd' target=\"_blank\">https://wandb.ai/noynetanel1-tel-aviv-university/GCN%20Graph%20classification%28Protein%29_Gal/runs/ckpahypd</a><br> View project at: <a href='https://wandb.ai/noynetanel1-tel-aviv-university/GCN%20Graph%20classification%28Protein%29_Gal' target=\"_blank\">https://wandb.ai/noynetanel1-tel-aviv-university/GCN%20Graph%20classification%28Protein%29_Gal</a><br>Synced 5 W&B file(s), 0 media file(s), 0 artifact file(s) and 0 other file(s)"
      ],
      "text/plain": [
       "<IPython.core.display.HTML object>"
      ]
     },
     "metadata": {},
     "output_type": "display_data"
    },
    {
     "data": {
      "text/html": [
       "Find logs at: <code>./wandb/run-20250820_144102-ckpahypd/logs</code>"
      ],
      "text/plain": [
       "<IPython.core.display.HTML object>"
      ]
     },
     "metadata": {},
     "output_type": "display_data"
    },
    {
     "data": {
      "text/html": [
       "Tracking run with wandb version 0.20.1"
      ],
      "text/plain": [
       "<IPython.core.display.HTML object>"
      ]
     },
     "metadata": {},
     "output_type": "display_data"
    },
    {
     "data": {
      "text/html": [
       "Run data is saved locally in <code>/kaggle/working/wandb/run-20250820_144139-23twqdbm</code>"
      ],
      "text/plain": [
       "<IPython.core.display.HTML object>"
      ]
     },
     "metadata": {},
     "output_type": "display_data"
    },
    {
     "data": {
      "text/html": [
       "Syncing run <strong><a href='https://wandb.ai/noynetanel1-tel-aviv-university/GCN%20Graph%20classification%28Protein%29_Gal/runs/23twqdbm' target=\"_blank\">GCN_baseline_seed_26</a></strong> to <a href='https://wandb.ai/noynetanel1-tel-aviv-university/GCN%20Graph%20classification%28Protein%29_Gal' target=\"_blank\">Weights & Biases</a> (<a href='https://wandb.me/developer-guide' target=\"_blank\">docs</a>)<br>"
      ],
      "text/plain": [
       "<IPython.core.display.HTML object>"
      ]
     },
     "metadata": {},
     "output_type": "display_data"
    },
    {
     "data": {
      "text/html": [
       " View project at <a href='https://wandb.ai/noynetanel1-tel-aviv-university/GCN%20Graph%20classification%28Protein%29_Gal' target=\"_blank\">https://wandb.ai/noynetanel1-tel-aviv-university/GCN%20Graph%20classification%28Protein%29_Gal</a>"
      ],
      "text/plain": [
       "<IPython.core.display.HTML object>"
      ]
     },
     "metadata": {},
     "output_type": "display_data"
    },
    {
     "data": {
      "text/html": [
       " View run at <a href='https://wandb.ai/noynetanel1-tel-aviv-university/GCN%20Graph%20classification%28Protein%29_Gal/runs/23twqdbm' target=\"_blank\">https://wandb.ai/noynetanel1-tel-aviv-university/GCN%20Graph%20classification%28Protein%29_Gal/runs/23twqdbm</a>"
      ],
      "text/plain": [
       "<IPython.core.display.HTML object>"
      ]
     },
     "metadata": {},
     "output_type": "display_data"
    },
    {
     "name": "stdout",
     "output_type": "stream",
     "text": [
      "Seed 26 | Epoch 001 | Loss: 0.6872 | Test Acc: 0.6188\n",
      "Seed 26 | Epoch 002 | Loss: 0.6743 | Test Acc: 0.6188\n",
      "Seed 26 | Epoch 003 | Loss: 0.6694 | Test Acc: 0.6637\n",
      "Seed 26 | Epoch 004 | Loss: 0.6645 | Test Acc: 0.6368\n",
      "Seed 26 | Epoch 005 | Loss: 0.6621 | Test Acc: 0.6413\n",
      "Seed 26 | Epoch 006 | Loss: 0.6604 | Test Acc: 0.6413\n",
      "Seed 26 | Epoch 007 | Loss: 0.6566 | Test Acc: 0.6278\n",
      "Seed 26 | Epoch 008 | Loss: 0.6487 | Test Acc: 0.6413\n",
      "Seed 26 | Epoch 009 | Loss: 0.6433 | Test Acc: 0.6592\n",
      "Seed 26 | Epoch 010 | Loss: 0.6424 | Test Acc: 0.6726\n",
      "Seed 26 | Epoch 011 | Loss: 0.6363 | Test Acc: 0.6233\n",
      "Seed 26 | Epoch 012 | Loss: 0.6365 | Test Acc: 0.6861\n",
      "Seed 26 | Epoch 013 | Loss: 0.6335 | Test Acc: 0.6816\n",
      "Seed 26 | Epoch 014 | Loss: 0.6325 | Test Acc: 0.6861\n",
      "Seed 26 | Epoch 015 | Loss: 0.6273 | Test Acc: 0.6547\n",
      "Seed 26 | Epoch 016 | Loss: 0.6308 | Test Acc: 0.6771\n",
      "Seed 26 | Epoch 017 | Loss: 0.6243 | Test Acc: 0.6861\n",
      "Seed 26 | Epoch 018 | Loss: 0.6245 | Test Acc: 0.6861\n",
      "Seed 26 | Epoch 019 | Loss: 0.6234 | Test Acc: 0.6906\n",
      "Seed 26 | Epoch 020 | Loss: 0.6227 | Test Acc: 0.6906\n",
      "Seed 26 | Epoch 021 | Loss: 0.6197 | Test Acc: 0.6906\n",
      "Seed 26 | Epoch 022 | Loss: 0.6265 | Test Acc: 0.6771\n",
      "Seed 26 | Epoch 023 | Loss: 0.6198 | Test Acc: 0.6861\n",
      "Seed 26 | Epoch 024 | Loss: 0.6202 | Test Acc: 0.6816\n",
      "Seed 26 | Epoch 025 | Loss: 0.6219 | Test Acc: 0.6816\n",
      "Seed 26 | Epoch 026 | Loss: 0.6198 | Test Acc: 0.6771\n",
      "Seed 26 | Epoch 027 | Loss: 0.6199 | Test Acc: 0.6861\n",
      "Seed 26 | Epoch 028 | Loss: 0.6187 | Test Acc: 0.6816\n",
      "Seed 26 | Epoch 029 | Loss: 0.6176 | Test Acc: 0.6951\n",
      "Seed 26 | Epoch 030 | Loss: 0.6173 | Test Acc: 0.6816\n",
      "Seed 26 | Epoch 031 | Loss: 0.6180 | Test Acc: 0.6726\n",
      "Seed 26 | Epoch 032 | Loss: 0.6180 | Test Acc: 0.6951\n",
      "Seed 26 | Epoch 033 | Loss: 0.6218 | Test Acc: 0.6816\n",
      "Seed 26 | Epoch 034 | Loss: 0.6143 | Test Acc: 0.6906\n",
      "Seed 26 | Epoch 035 | Loss: 0.6198 | Test Acc: 0.6413\n",
      "Seed 26 | Epoch 036 | Loss: 0.6149 | Test Acc: 0.6906\n",
      "Seed 26 | Epoch 037 | Loss: 0.6144 | Test Acc: 0.6861\n",
      "Seed 26 | Epoch 038 | Loss: 0.6161 | Test Acc: 0.6143\n",
      "Seed 26 | Epoch 039 | Loss: 0.6185 | Test Acc: 0.6816\n",
      "Seed 26 | Epoch 040 | Loss: 0.6155 | Test Acc: 0.6771\n",
      "Seed 26 | Epoch 041 | Loss: 0.6182 | Test Acc: 0.6906\n",
      "Seed 26 | Epoch 042 | Loss: 0.6167 | Test Acc: 0.6906\n",
      "Seed 26 | Epoch 043 | Loss: 0.6150 | Test Acc: 0.6906\n",
      "Seed 26 | Epoch 044 | Loss: 0.6143 | Test Acc: 0.6861\n",
      "Seed 26 | Epoch 045 | Loss: 0.6125 | Test Acc: 0.6816\n",
      "Seed 26 | Epoch 046 | Loss: 0.6181 | Test Acc: 0.6816\n",
      "Seed 26 | Epoch 047 | Loss: 0.6157 | Test Acc: 0.6547\n",
      "Seed 26 | Epoch 048 | Loss: 0.6157 | Test Acc: 0.6592\n",
      "Seed 26 | Epoch 049 | Loss: 0.6172 | Test Acc: 0.6861\n",
      "Seed 26 | Epoch 050 | Loss: 0.6138 | Test Acc: 0.6906\n"
     ]
    },
    {
     "data": {
      "text/html": [],
      "text/plain": [
       "<IPython.core.display.HTML object>"
      ]
     },
     "metadata": {},
     "output_type": "display_data"
    },
    {
     "data": {
      "text/html": [
       "<br>    <style><br>        .wandb-row {<br>            display: flex;<br>            flex-direction: row;<br>            flex-wrap: wrap;<br>            justify-content: flex-start;<br>            width: 100%;<br>        }<br>        .wandb-col {<br>            display: flex;<br>            flex-direction: column;<br>            flex-basis: 100%;<br>            flex: 1;<br>            padding: 10px;<br>        }<br>    </style><br><div class=\"wandb-row\"><div class=\"wandb-col\"><h3>Run history:</h3><br/><table class=\"wandb\"><tr><td>epoch</td><td>▁▁▁▁▂▂▂▂▂▃▃▃▃▃▃▄▄▄▄▄▅▅▅▅▅▆▆▆▆▆▆▇▇▇▇▇▇███</td></tr><tr><td>loss</td><td>█▇▆▆▆▅▄▄▃▃▂▃▂▂▂▂▂▂▂▂▂▂▁▁▂▂▁▂▁▁▂▁▂▁▁▁▂▁▁▁</td></tr><tr><td>test_acc</td><td>▁▁▃▃▃▃▅▆▁▇▇▄▆▇▇██▆▇▇▇▇█▇▆▇█▃█▇▇▆███▇▇▄▅█</td></tr><tr><td>train_acc</td><td>▁▁▃▃▄▄▄▃▇▄▇▇▆▇██▇▇█▇▇▇▇▇▇▇█▅█▇█▇█▇█▇▇▆▆█</td></tr></table><br/></div><div class=\"wandb-col\"><h3>Run summary:</h3><br/><table class=\"wandb\"><tr><td>epoch</td><td>50</td></tr><tr><td>loss</td><td>0.6138</td></tr><tr><td>test_acc</td><td>0.69058</td></tr><tr><td>train_acc</td><td>0.71685</td></tr></table><br/></div></div>"
      ],
      "text/plain": [
       "<IPython.core.display.HTML object>"
      ]
     },
     "metadata": {},
     "output_type": "display_data"
    },
    {
     "data": {
      "text/html": [
       " View run <strong style=\"color:#cdcd00\">GCN_baseline_seed_26</strong> at: <a href='https://wandb.ai/noynetanel1-tel-aviv-university/GCN%20Graph%20classification%28Protein%29_Gal/runs/23twqdbm' target=\"_blank\">https://wandb.ai/noynetanel1-tel-aviv-university/GCN%20Graph%20classification%28Protein%29_Gal/runs/23twqdbm</a><br> View project at: <a href='https://wandb.ai/noynetanel1-tel-aviv-university/GCN%20Graph%20classification%28Protein%29_Gal' target=\"_blank\">https://wandb.ai/noynetanel1-tel-aviv-university/GCN%20Graph%20classification%28Protein%29_Gal</a><br>Synced 5 W&B file(s), 0 media file(s), 0 artifact file(s) and 0 other file(s)"
      ],
      "text/plain": [
       "<IPython.core.display.HTML object>"
      ]
     },
     "metadata": {},
     "output_type": "display_data"
    },
    {
     "data": {
      "text/html": [
       "Find logs at: <code>./wandb/run-20250820_144139-23twqdbm/logs</code>"
      ],
      "text/plain": [
       "<IPython.core.display.HTML object>"
      ]
     },
     "metadata": {},
     "output_type": "display_data"
    },
    {
     "data": {
      "text/html": [
       "Tracking run with wandb version 0.20.1"
      ],
      "text/plain": [
       "<IPython.core.display.HTML object>"
      ]
     },
     "metadata": {},
     "output_type": "display_data"
    },
    {
     "data": {
      "text/html": [
       "Run data is saved locally in <code>/kaggle/working/wandb/run-20250820_144215-vc2xxi31</code>"
      ],
      "text/plain": [
       "<IPython.core.display.HTML object>"
      ]
     },
     "metadata": {},
     "output_type": "display_data"
    },
    {
     "data": {
      "text/html": [
       "Syncing run <strong><a href='https://wandb.ai/noynetanel1-tel-aviv-university/GCN%20Graph%20classification%28Protein%29_Gal/runs/vc2xxi31' target=\"_blank\">GCN_baseline_seed_27</a></strong> to <a href='https://wandb.ai/noynetanel1-tel-aviv-university/GCN%20Graph%20classification%28Protein%29_Gal' target=\"_blank\">Weights & Biases</a> (<a href='https://wandb.me/developer-guide' target=\"_blank\">docs</a>)<br>"
      ],
      "text/plain": [
       "<IPython.core.display.HTML object>"
      ]
     },
     "metadata": {},
     "output_type": "display_data"
    },
    {
     "data": {
      "text/html": [
       " View project at <a href='https://wandb.ai/noynetanel1-tel-aviv-university/GCN%20Graph%20classification%28Protein%29_Gal' target=\"_blank\">https://wandb.ai/noynetanel1-tel-aviv-university/GCN%20Graph%20classification%28Protein%29_Gal</a>"
      ],
      "text/plain": [
       "<IPython.core.display.HTML object>"
      ]
     },
     "metadata": {},
     "output_type": "display_data"
    },
    {
     "data": {
      "text/html": [
       " View run at <a href='https://wandb.ai/noynetanel1-tel-aviv-university/GCN%20Graph%20classification%28Protein%29_Gal/runs/vc2xxi31' target=\"_blank\">https://wandb.ai/noynetanel1-tel-aviv-university/GCN%20Graph%20classification%28Protein%29_Gal/runs/vc2xxi31</a>"
      ],
      "text/plain": [
       "<IPython.core.display.HTML object>"
      ]
     },
     "metadata": {},
     "output_type": "display_data"
    },
    {
     "name": "stdout",
     "output_type": "stream",
     "text": [
      "Seed 27 | Epoch 001 | Loss: 0.6826 | Test Acc: 0.6099\n",
      "Seed 27 | Epoch 002 | Loss: 0.6720 | Test Acc: 0.6099\n",
      "Seed 27 | Epoch 003 | Loss: 0.6676 | Test Acc: 0.6188\n",
      "Seed 27 | Epoch 004 | Loss: 0.6624 | Test Acc: 0.6233\n",
      "Seed 27 | Epoch 005 | Loss: 0.6559 | Test Acc: 0.6233\n",
      "Seed 27 | Epoch 006 | Loss: 0.6514 | Test Acc: 0.6188\n",
      "Seed 27 | Epoch 007 | Loss: 0.6433 | Test Acc: 0.6278\n",
      "Seed 27 | Epoch 008 | Loss: 0.6391 | Test Acc: 0.6233\n",
      "Seed 27 | Epoch 009 | Loss: 0.6336 | Test Acc: 0.6368\n",
      "Seed 27 | Epoch 010 | Loss: 0.6294 | Test Acc: 0.6188\n",
      "Seed 27 | Epoch 011 | Loss: 0.6266 | Test Acc: 0.6233\n",
      "Seed 27 | Epoch 012 | Loss: 0.6252 | Test Acc: 0.6009\n",
      "Seed 27 | Epoch 013 | Loss: 0.6239 | Test Acc: 0.6413\n",
      "Seed 27 | Epoch 014 | Loss: 0.6226 | Test Acc: 0.6323\n",
      "Seed 27 | Epoch 015 | Loss: 0.6209 | Test Acc: 0.6188\n",
      "Seed 27 | Epoch 016 | Loss: 0.6196 | Test Acc: 0.6368\n",
      "Seed 27 | Epoch 017 | Loss: 0.6205 | Test Acc: 0.6188\n",
      "Seed 27 | Epoch 018 | Loss: 0.6202 | Test Acc: 0.6547\n",
      "Seed 27 | Epoch 019 | Loss: 0.6169 | Test Acc: 0.6188\n",
      "Seed 27 | Epoch 020 | Loss: 0.6151 | Test Acc: 0.6413\n",
      "Seed 27 | Epoch 021 | Loss: 0.6150 | Test Acc: 0.6323\n",
      "Seed 27 | Epoch 022 | Loss: 0.6153 | Test Acc: 0.6368\n",
      "Seed 27 | Epoch 023 | Loss: 0.6157 | Test Acc: 0.6413\n",
      "Seed 27 | Epoch 024 | Loss: 0.6144 | Test Acc: 0.6368\n",
      "Seed 27 | Epoch 025 | Loss: 0.6138 | Test Acc: 0.6368\n",
      "Seed 27 | Epoch 026 | Loss: 0.6123 | Test Acc: 0.6323\n",
      "Seed 27 | Epoch 027 | Loss: 0.6128 | Test Acc: 0.6368\n",
      "Seed 27 | Epoch 028 | Loss: 0.6139 | Test Acc: 0.6323\n",
      "Seed 27 | Epoch 029 | Loss: 0.6112 | Test Acc: 0.6323\n",
      "Seed 27 | Epoch 030 | Loss: 0.6188 | Test Acc: 0.5964\n",
      "Seed 27 | Epoch 031 | Loss: 0.6181 | Test Acc: 0.6368\n",
      "Seed 27 | Epoch 032 | Loss: 0.6090 | Test Acc: 0.6457\n",
      "Seed 27 | Epoch 033 | Loss: 0.6100 | Test Acc: 0.6323\n",
      "Seed 27 | Epoch 034 | Loss: 0.6104 | Test Acc: 0.6368\n",
      "Seed 27 | Epoch 035 | Loss: 0.6095 | Test Acc: 0.6413\n",
      "Seed 27 | Epoch 036 | Loss: 0.6114 | Test Acc: 0.6413\n",
      "Seed 27 | Epoch 037 | Loss: 0.6088 | Test Acc: 0.6413\n",
      "Seed 27 | Epoch 038 | Loss: 0.6106 | Test Acc: 0.6502\n",
      "Seed 27 | Epoch 039 | Loss: 0.6133 | Test Acc: 0.5740\n",
      "Seed 27 | Epoch 040 | Loss: 0.6089 | Test Acc: 0.6457\n",
      "Seed 27 | Epoch 041 | Loss: 0.6095 | Test Acc: 0.6323\n",
      "Seed 27 | Epoch 042 | Loss: 0.6099 | Test Acc: 0.6368\n",
      "Seed 27 | Epoch 043 | Loss: 0.6087 | Test Acc: 0.6368\n",
      "Seed 27 | Epoch 044 | Loss: 0.6088 | Test Acc: 0.6368\n",
      "Seed 27 | Epoch 045 | Loss: 0.6082 | Test Acc: 0.6188\n",
      "Seed 27 | Epoch 046 | Loss: 0.6135 | Test Acc: 0.6502\n",
      "Seed 27 | Epoch 047 | Loss: 0.6080 | Test Acc: 0.6413\n",
      "Seed 27 | Epoch 048 | Loss: 0.6126 | Test Acc: 0.6457\n",
      "Seed 27 | Epoch 049 | Loss: 0.6101 | Test Acc: 0.6278\n",
      "Seed 27 | Epoch 050 | Loss: 0.6107 | Test Acc: 0.6502\n"
     ]
    },
    {
     "data": {
      "text/html": [],
      "text/plain": [
       "<IPython.core.display.HTML object>"
      ]
     },
     "metadata": {},
     "output_type": "display_data"
    },
    {
     "data": {
      "text/html": [
       "<br>    <style><br>        .wandb-row {<br>            display: flex;<br>            flex-direction: row;<br>            flex-wrap: wrap;<br>            justify-content: flex-start;<br>            width: 100%;<br>        }<br>        .wandb-col {<br>            display: flex;<br>            flex-direction: column;<br>            flex-basis: 100%;<br>            flex: 1;<br>            padding: 10px;<br>        }<br>    </style><br><div class=\"wandb-row\"><div class=\"wandb-col\"><h3>Run history:</h3><br/><table class=\"wandb\"><tr><td>epoch</td><td>▁▁▁▁▂▂▂▂▂▂▃▃▃▃▃▄▄▄▄▄▅▅▅▅▅▆▆▆▆▆▆▇▇▇▇▇▇███</td></tr><tr><td>loss</td><td>█▇▇▆▅▄▃▃▃▃▂▂▂▂▂▂▂▂▂▂▁▂▁▂▂▁▁▁▁▁▁▁▁▁▁▁▂▁▁▁</td></tr><tr><td>test_acc</td><td>▄▄▅▅▅▅▆▅▅▃▆▅▆▅█▇▆▆▇▆▆▆▆▆▃▇▆▆▇▇█▁▆▆▆▅█▇▇█</td></tr><tr><td>train_acc</td><td>▁▁▂▄▂▇▇█▇██▇▇▇█▇▇█▇██▇█▇▇▇█▇▇▇█▅▇██▇▇██▇</td></tr></table><br/></div><div class=\"wandb-col\"><h3>Run summary:</h3><br/><table class=\"wandb\"><tr><td>epoch</td><td>50</td></tr><tr><td>loss</td><td>0.61074</td></tr><tr><td>test_acc</td><td>0.65022</td></tr><tr><td>train_acc</td><td>0.69438</td></tr></table><br/></div></div>"
      ],
      "text/plain": [
       "<IPython.core.display.HTML object>"
      ]
     },
     "metadata": {},
     "output_type": "display_data"
    },
    {
     "data": {
      "text/html": [
       " View run <strong style=\"color:#cdcd00\">GCN_baseline_seed_27</strong> at: <a href='https://wandb.ai/noynetanel1-tel-aviv-university/GCN%20Graph%20classification%28Protein%29_Gal/runs/vc2xxi31' target=\"_blank\">https://wandb.ai/noynetanel1-tel-aviv-university/GCN%20Graph%20classification%28Protein%29_Gal/runs/vc2xxi31</a><br> View project at: <a href='https://wandb.ai/noynetanel1-tel-aviv-university/GCN%20Graph%20classification%28Protein%29_Gal' target=\"_blank\">https://wandb.ai/noynetanel1-tel-aviv-university/GCN%20Graph%20classification%28Protein%29_Gal</a><br>Synced 5 W&B file(s), 0 media file(s), 0 artifact file(s) and 0 other file(s)"
      ],
      "text/plain": [
       "<IPython.core.display.HTML object>"
      ]
     },
     "metadata": {},
     "output_type": "display_data"
    },
    {
     "data": {
      "text/html": [
       "Find logs at: <code>./wandb/run-20250820_144215-vc2xxi31/logs</code>"
      ],
      "text/plain": [
       "<IPython.core.display.HTML object>"
      ]
     },
     "metadata": {},
     "output_type": "display_data"
    },
    {
     "data": {
      "text/html": [
       "Tracking run with wandb version 0.20.1"
      ],
      "text/plain": [
       "<IPython.core.display.HTML object>"
      ]
     },
     "metadata": {},
     "output_type": "display_data"
    },
    {
     "data": {
      "text/html": [
       "Run data is saved locally in <code>/kaggle/working/wandb/run-20250820_144252-7lo5dfwl</code>"
      ],
      "text/plain": [
       "<IPython.core.display.HTML object>"
      ]
     },
     "metadata": {},
     "output_type": "display_data"
    },
    {
     "data": {
      "text/html": [
       "Syncing run <strong><a href='https://wandb.ai/noynetanel1-tel-aviv-university/GCN%20Graph%20classification%28Protein%29_Gal/runs/7lo5dfwl' target=\"_blank\">GCN_baseline_seed_28</a></strong> to <a href='https://wandb.ai/noynetanel1-tel-aviv-university/GCN%20Graph%20classification%28Protein%29_Gal' target=\"_blank\">Weights & Biases</a> (<a href='https://wandb.me/developer-guide' target=\"_blank\">docs</a>)<br>"
      ],
      "text/plain": [
       "<IPython.core.display.HTML object>"
      ]
     },
     "metadata": {},
     "output_type": "display_data"
    },
    {
     "data": {
      "text/html": [
       " View project at <a href='https://wandb.ai/noynetanel1-tel-aviv-university/GCN%20Graph%20classification%28Protein%29_Gal' target=\"_blank\">https://wandb.ai/noynetanel1-tel-aviv-university/GCN%20Graph%20classification%28Protein%29_Gal</a>"
      ],
      "text/plain": [
       "<IPython.core.display.HTML object>"
      ]
     },
     "metadata": {},
     "output_type": "display_data"
    },
    {
     "data": {
      "text/html": [
       " View run at <a href='https://wandb.ai/noynetanel1-tel-aviv-university/GCN%20Graph%20classification%28Protein%29_Gal/runs/7lo5dfwl' target=\"_blank\">https://wandb.ai/noynetanel1-tel-aviv-university/GCN%20Graph%20classification%28Protein%29_Gal/runs/7lo5dfwl</a>"
      ],
      "text/plain": [
       "<IPython.core.display.HTML object>"
      ]
     },
     "metadata": {},
     "output_type": "display_data"
    },
    {
     "name": "stdout",
     "output_type": "stream",
     "text": [
      "Seed 28 | Epoch 001 | Loss: 0.6808 | Test Acc: 0.6009\n",
      "Seed 28 | Epoch 002 | Loss: 0.6700 | Test Acc: 0.6143\n",
      "Seed 28 | Epoch 003 | Loss: 0.6647 | Test Acc: 0.6143\n",
      "Seed 28 | Epoch 004 | Loss: 0.6615 | Test Acc: 0.6188\n",
      "Seed 28 | Epoch 005 | Loss: 0.6560 | Test Acc: 0.6054\n",
      "Seed 28 | Epoch 006 | Loss: 0.6500 | Test Acc: 0.6188\n",
      "Seed 28 | Epoch 007 | Loss: 0.6457 | Test Acc: 0.6009\n",
      "Seed 28 | Epoch 008 | Loss: 0.6392 | Test Acc: 0.6278\n",
      "Seed 28 | Epoch 009 | Loss: 0.6424 | Test Acc: 0.6099\n",
      "Seed 28 | Epoch 010 | Loss: 0.6335 | Test Acc: 0.6009\n",
      "Seed 28 | Epoch 011 | Loss: 0.6323 | Test Acc: 0.6726\n",
      "Seed 28 | Epoch 012 | Loss: 0.6307 | Test Acc: 0.6861\n",
      "Seed 28 | Epoch 013 | Loss: 0.6245 | Test Acc: 0.6771\n",
      "Seed 28 | Epoch 014 | Loss: 0.6233 | Test Acc: 0.6951\n",
      "Seed 28 | Epoch 015 | Loss: 0.6218 | Test Acc: 0.6771\n",
      "Seed 28 | Epoch 016 | Loss: 0.6202 | Test Acc: 0.6951\n",
      "Seed 28 | Epoch 017 | Loss: 0.6202 | Test Acc: 0.7040\n",
      "Seed 28 | Epoch 018 | Loss: 0.6187 | Test Acc: 0.6861\n",
      "Seed 28 | Epoch 019 | Loss: 0.6179 | Test Acc: 0.6861\n",
      "Seed 28 | Epoch 020 | Loss: 0.6167 | Test Acc: 0.6951\n",
      "Seed 28 | Epoch 021 | Loss: 0.6174 | Test Acc: 0.6368\n",
      "Seed 28 | Epoch 022 | Loss: 0.6218 | Test Acc: 0.6861\n",
      "Seed 28 | Epoch 023 | Loss: 0.6165 | Test Acc: 0.6771\n",
      "Seed 28 | Epoch 024 | Loss: 0.6170 | Test Acc: 0.6861\n",
      "Seed 28 | Epoch 025 | Loss: 0.6125 | Test Acc: 0.6996\n",
      "Seed 28 | Epoch 026 | Loss: 0.6164 | Test Acc: 0.6951\n",
      "Seed 28 | Epoch 027 | Loss: 0.6174 | Test Acc: 0.6682\n",
      "Seed 28 | Epoch 028 | Loss: 0.6177 | Test Acc: 0.6861\n",
      "Seed 28 | Epoch 029 | Loss: 0.6110 | Test Acc: 0.6861\n",
      "Seed 28 | Epoch 030 | Loss: 0.6147 | Test Acc: 0.6816\n",
      "Seed 28 | Epoch 031 | Loss: 0.6130 | Test Acc: 0.6861\n",
      "Seed 28 | Epoch 032 | Loss: 0.6099 | Test Acc: 0.6861\n",
      "Seed 28 | Epoch 033 | Loss: 0.6162 | Test Acc: 0.6906\n",
      "Seed 28 | Epoch 034 | Loss: 0.6115 | Test Acc: 0.6996\n",
      "Seed 28 | Epoch 035 | Loss: 0.6100 | Test Acc: 0.6861\n",
      "Seed 28 | Epoch 036 | Loss: 0.6165 | Test Acc: 0.7040\n",
      "Seed 28 | Epoch 037 | Loss: 0.6136 | Test Acc: 0.6906\n",
      "Seed 28 | Epoch 038 | Loss: 0.6107 | Test Acc: 0.6816\n",
      "Seed 28 | Epoch 039 | Loss: 0.6131 | Test Acc: 0.6996\n",
      "Seed 28 | Epoch 040 | Loss: 0.6112 | Test Acc: 0.6996\n",
      "Seed 28 | Epoch 041 | Loss: 0.6094 | Test Acc: 0.6906\n",
      "Seed 28 | Epoch 042 | Loss: 0.6110 | Test Acc: 0.6637\n",
      "Seed 28 | Epoch 043 | Loss: 0.6119 | Test Acc: 0.6906\n",
      "Seed 28 | Epoch 044 | Loss: 0.6112 | Test Acc: 0.6906\n",
      "Seed 28 | Epoch 045 | Loss: 0.6070 | Test Acc: 0.6951\n",
      "Seed 28 | Epoch 046 | Loss: 0.6151 | Test Acc: 0.6861\n",
      "Seed 28 | Epoch 047 | Loss: 0.6183 | Test Acc: 0.6726\n",
      "Seed 28 | Epoch 048 | Loss: 0.6105 | Test Acc: 0.6861\n",
      "Seed 28 | Epoch 049 | Loss: 0.6100 | Test Acc: 0.6996\n",
      "Seed 28 | Epoch 050 | Loss: 0.6088 | Test Acc: 0.6906\n"
     ]
    },
    {
     "data": {
      "text/html": [],
      "text/plain": [
       "<IPython.core.display.HTML object>"
      ]
     },
     "metadata": {},
     "output_type": "display_data"
    },
    {
     "data": {
      "text/html": [
       "<br>    <style><br>        .wandb-row {<br>            display: flex;<br>            flex-direction: row;<br>            flex-wrap: wrap;<br>            justify-content: flex-start;<br>            width: 100%;<br>        }<br>        .wandb-col {<br>            display: flex;<br>            flex-direction: column;<br>            flex-basis: 100%;<br>            flex: 1;<br>            padding: 10px;<br>        }<br>    </style><br><div class=\"wandb-row\"><div class=\"wandb-col\"><h3>Run history:</h3><br/><table class=\"wandb\"><tr><td>epoch</td><td>▁▁▁▁▂▂▂▂▃▃▃▃▃▃▄▄▄▄▄▄▅▅▅▅▅▆▆▆▆▆▆▇▇▇▇▇▇███</td></tr><tr><td>loss</td><td>█▇▆▆▆▄▄▄▃▃▂▂▂▂▂▂▂▂▂▂▂▂▁▂▂▂▁▁▂▂▂▁▁▁▁▁▂▂▁▁</td></tr><tr><td>test_acc</td><td>▁▂▂▂▁▁▃▂▁▆▆▇▆▇█▇▇▃▇▆█▇▆▇▇▇▇▇█▇▇▆██▇▇▇▇▇▇</td></tr><tr><td>train_acc</td><td>▁▂▃▄▄▄▄▄▄▇▆▇▇▇▇▇▅▇▇▇▇▇▇▇▇▇▇▇▇▇█▇▇▆▇█▇▇▇▇</td></tr></table><br/></div><div class=\"wandb-col\"><h3>Run summary:</h3><br/><table class=\"wandb\"><tr><td>epoch</td><td>50</td></tr><tr><td>loss</td><td>0.6088</td></tr><tr><td>test_acc</td><td>0.69058</td></tr><tr><td>train_acc</td><td>0.70337</td></tr></table><br/></div></div>"
      ],
      "text/plain": [
       "<IPython.core.display.HTML object>"
      ]
     },
     "metadata": {},
     "output_type": "display_data"
    },
    {
     "data": {
      "text/html": [
       " View run <strong style=\"color:#cdcd00\">GCN_baseline_seed_28</strong> at: <a href='https://wandb.ai/noynetanel1-tel-aviv-university/GCN%20Graph%20classification%28Protein%29_Gal/runs/7lo5dfwl' target=\"_blank\">https://wandb.ai/noynetanel1-tel-aviv-university/GCN%20Graph%20classification%28Protein%29_Gal/runs/7lo5dfwl</a><br> View project at: <a href='https://wandb.ai/noynetanel1-tel-aviv-university/GCN%20Graph%20classification%28Protein%29_Gal' target=\"_blank\">https://wandb.ai/noynetanel1-tel-aviv-university/GCN%20Graph%20classification%28Protein%29_Gal</a><br>Synced 5 W&B file(s), 0 media file(s), 0 artifact file(s) and 0 other file(s)"
      ],
      "text/plain": [
       "<IPython.core.display.HTML object>"
      ]
     },
     "metadata": {},
     "output_type": "display_data"
    },
    {
     "data": {
      "text/html": [
       "Find logs at: <code>./wandb/run-20250820_144252-7lo5dfwl/logs</code>"
      ],
      "text/plain": [
       "<IPython.core.display.HTML object>"
      ]
     },
     "metadata": {},
     "output_type": "display_data"
    },
    {
     "data": {
      "text/html": [
       "Tracking run with wandb version 0.20.1"
      ],
      "text/plain": [
       "<IPython.core.display.HTML object>"
      ]
     },
     "metadata": {},
     "output_type": "display_data"
    },
    {
     "data": {
      "text/html": [
       "Run data is saved locally in <code>/kaggle/working/wandb/run-20250820_144328-d170rvta</code>"
      ],
      "text/plain": [
       "<IPython.core.display.HTML object>"
      ]
     },
     "metadata": {},
     "output_type": "display_data"
    },
    {
     "data": {
      "text/html": [
       "Syncing run <strong><a href='https://wandb.ai/noynetanel1-tel-aviv-university/GCN%20Graph%20classification%28Protein%29_Gal/runs/d170rvta' target=\"_blank\">GCN_baseline_seed_29</a></strong> to <a href='https://wandb.ai/noynetanel1-tel-aviv-university/GCN%20Graph%20classification%28Protein%29_Gal' target=\"_blank\">Weights & Biases</a> (<a href='https://wandb.me/developer-guide' target=\"_blank\">docs</a>)<br>"
      ],
      "text/plain": [
       "<IPython.core.display.HTML object>"
      ]
     },
     "metadata": {},
     "output_type": "display_data"
    },
    {
     "data": {
      "text/html": [
       " View project at <a href='https://wandb.ai/noynetanel1-tel-aviv-university/GCN%20Graph%20classification%28Protein%29_Gal' target=\"_blank\">https://wandb.ai/noynetanel1-tel-aviv-university/GCN%20Graph%20classification%28Protein%29_Gal</a>"
      ],
      "text/plain": [
       "<IPython.core.display.HTML object>"
      ]
     },
     "metadata": {},
     "output_type": "display_data"
    },
    {
     "data": {
      "text/html": [
       " View run at <a href='https://wandb.ai/noynetanel1-tel-aviv-university/GCN%20Graph%20classification%28Protein%29_Gal/runs/d170rvta' target=\"_blank\">https://wandb.ai/noynetanel1-tel-aviv-university/GCN%20Graph%20classification%28Protein%29_Gal/runs/d170rvta</a>"
      ],
      "text/plain": [
       "<IPython.core.display.HTML object>"
      ]
     },
     "metadata": {},
     "output_type": "display_data"
    },
    {
     "name": "stdout",
     "output_type": "stream",
     "text": [
      "Seed 29 | Epoch 001 | Loss: 0.6779 | Test Acc: 0.6323\n",
      "Seed 29 | Epoch 002 | Loss: 0.6723 | Test Acc: 0.6368\n",
      "Seed 29 | Epoch 003 | Loss: 0.6705 | Test Acc: 0.6457\n",
      "Seed 29 | Epoch 004 | Loss: 0.6648 | Test Acc: 0.6413\n",
      "Seed 29 | Epoch 005 | Loss: 0.6620 | Test Acc: 0.6502\n",
      "Seed 29 | Epoch 006 | Loss: 0.6638 | Test Acc: 0.6413\n",
      "Seed 29 | Epoch 007 | Loss: 0.6555 | Test Acc: 0.6368\n",
      "Seed 29 | Epoch 008 | Loss: 0.6494 | Test Acc: 0.6771\n",
      "Seed 29 | Epoch 009 | Loss: 0.6452 | Test Acc: 0.6996\n",
      "Seed 29 | Epoch 010 | Loss: 0.6440 | Test Acc: 0.7399\n",
      "Seed 29 | Epoch 011 | Loss: 0.6415 | Test Acc: 0.7309\n",
      "Seed 29 | Epoch 012 | Loss: 0.6373 | Test Acc: 0.6951\n",
      "Seed 29 | Epoch 013 | Loss: 0.6391 | Test Acc: 0.6861\n",
      "Seed 29 | Epoch 014 | Loss: 0.6345 | Test Acc: 0.7130\n",
      "Seed 29 | Epoch 015 | Loss: 0.6336 | Test Acc: 0.7309\n",
      "Seed 29 | Epoch 016 | Loss: 0.6302 | Test Acc: 0.7130\n",
      "Seed 29 | Epoch 017 | Loss: 0.6313 | Test Acc: 0.7130\n",
      "Seed 29 | Epoch 018 | Loss: 0.6302 | Test Acc: 0.7265\n",
      "Seed 29 | Epoch 019 | Loss: 0.6322 | Test Acc: 0.7175\n",
      "Seed 29 | Epoch 020 | Loss: 0.6298 | Test Acc: 0.7175\n",
      "Seed 29 | Epoch 021 | Loss: 0.6273 | Test Acc: 0.7265\n",
      "Seed 29 | Epoch 022 | Loss: 0.6266 | Test Acc: 0.7265\n",
      "Seed 29 | Epoch 023 | Loss: 0.6270 | Test Acc: 0.7265\n",
      "Seed 29 | Epoch 024 | Loss: 0.6265 | Test Acc: 0.7175\n",
      "Seed 29 | Epoch 025 | Loss: 0.6260 | Test Acc: 0.7265\n",
      "Seed 29 | Epoch 026 | Loss: 0.6247 | Test Acc: 0.7265\n",
      "Seed 29 | Epoch 027 | Loss: 0.6263 | Test Acc: 0.7265\n",
      "Seed 29 | Epoch 028 | Loss: 0.6256 | Test Acc: 0.7265\n",
      "Seed 29 | Epoch 029 | Loss: 0.6250 | Test Acc: 0.7220\n",
      "Seed 29 | Epoch 030 | Loss: 0.6231 | Test Acc: 0.7220\n",
      "Seed 29 | Epoch 031 | Loss: 0.6276 | Test Acc: 0.7085\n",
      "Seed 29 | Epoch 032 | Loss: 0.6291 | Test Acc: 0.7354\n",
      "Seed 29 | Epoch 033 | Loss: 0.6218 | Test Acc: 0.7130\n",
      "Seed 29 | Epoch 034 | Loss: 0.6230 | Test Acc: 0.7309\n",
      "Seed 29 | Epoch 035 | Loss: 0.6213 | Test Acc: 0.7085\n",
      "Seed 29 | Epoch 036 | Loss: 0.6205 | Test Acc: 0.7309\n",
      "Seed 29 | Epoch 037 | Loss: 0.6218 | Test Acc: 0.7265\n",
      "Seed 29 | Epoch 038 | Loss: 0.6203 | Test Acc: 0.6996\n",
      "Seed 29 | Epoch 039 | Loss: 0.6231 | Test Acc: 0.7309\n",
      "Seed 29 | Epoch 040 | Loss: 0.6188 | Test Acc: 0.7354\n",
      "Seed 29 | Epoch 041 | Loss: 0.6308 | Test Acc: 0.6951\n",
      "Seed 29 | Epoch 042 | Loss: 0.6200 | Test Acc: 0.7085\n",
      "Seed 29 | Epoch 043 | Loss: 0.6200 | Test Acc: 0.7309\n",
      "Seed 29 | Epoch 044 | Loss: 0.6225 | Test Acc: 0.7399\n",
      "Seed 29 | Epoch 045 | Loss: 0.6197 | Test Acc: 0.7085\n",
      "Seed 29 | Epoch 046 | Loss: 0.6194 | Test Acc: 0.7175\n",
      "Seed 29 | Epoch 047 | Loss: 0.6198 | Test Acc: 0.7354\n",
      "Seed 29 | Epoch 048 | Loss: 0.6201 | Test Acc: 0.7265\n",
      "Seed 29 | Epoch 049 | Loss: 0.6210 | Test Acc: 0.7040\n",
      "Seed 29 | Epoch 050 | Loss: 0.6202 | Test Acc: 0.7220\n"
     ]
    },
    {
     "data": {
      "text/html": [],
      "text/plain": [
       "<IPython.core.display.HTML object>"
      ]
     },
     "metadata": {},
     "output_type": "display_data"
    },
    {
     "data": {
      "text/html": [
       "<br>    <style><br>        .wandb-row {<br>            display: flex;<br>            flex-direction: row;<br>            flex-wrap: wrap;<br>            justify-content: flex-start;<br>            width: 100%;<br>        }<br>        .wandb-col {<br>            display: flex;<br>            flex-direction: column;<br>            flex-basis: 100%;<br>            flex: 1;<br>            padding: 10px;<br>        }<br>    </style><br><div class=\"wandb-row\"><div class=\"wandb-col\"><h3>Run history:</h3><br/><table class=\"wandb\"><tr><td>epoch</td><td>▁▁▁▂▂▂▂▂▂▃▃▃▃▃▃▄▄▄▄▄▅▅▅▅▅▆▆▆▆▆▆▇▇▇▇▇▇███</td></tr><tr><td>loss</td><td>█▇▇▆▆▅▅▄▄▄▃▃▃▂▂▂▂▂▂▂▂▂▂▂▂▂▁▁▁▁▁▂▁▂▁▁▁▁▁▁</td></tr><tr><td>test_acc</td><td>▁▁▂▂▂▁▄▅█▇▅▆▇▆▆▇▇▇▇▇▇▇▇▇▇▆█▆▇▆▇▅▇█▆█▆▇▇▇</td></tr><tr><td>train_acc</td><td>▁▂▃▃▄▄▅▇▇▇▇▇▇▇▇▇▇▇▇▇▇▇▇▇▇▇█▇███▇▆▇▇▇▇█▇█</td></tr></table><br/></div><div class=\"wandb-col\"><h3>Run summary:</h3><br/><table class=\"wandb\"><tr><td>epoch</td><td>50</td></tr><tr><td>loss</td><td>0.62018</td></tr><tr><td>test_acc</td><td>0.72197</td></tr><tr><td>train_acc</td><td>0.69213</td></tr></table><br/></div></div>"
      ],
      "text/plain": [
       "<IPython.core.display.HTML object>"
      ]
     },
     "metadata": {},
     "output_type": "display_data"
    },
    {
     "data": {
      "text/html": [
       " View run <strong style=\"color:#cdcd00\">GCN_baseline_seed_29</strong> at: <a href='https://wandb.ai/noynetanel1-tel-aviv-university/GCN%20Graph%20classification%28Protein%29_Gal/runs/d170rvta' target=\"_blank\">https://wandb.ai/noynetanel1-tel-aviv-university/GCN%20Graph%20classification%28Protein%29_Gal/runs/d170rvta</a><br> View project at: <a href='https://wandb.ai/noynetanel1-tel-aviv-university/GCN%20Graph%20classification%28Protein%29_Gal' target=\"_blank\">https://wandb.ai/noynetanel1-tel-aviv-university/GCN%20Graph%20classification%28Protein%29_Gal</a><br>Synced 5 W&B file(s), 0 media file(s), 0 artifact file(s) and 0 other file(s)"
      ],
      "text/plain": [
       "<IPython.core.display.HTML object>"
      ]
     },
     "metadata": {},
     "output_type": "display_data"
    },
    {
     "data": {
      "text/html": [
       "Find logs at: <code>./wandb/run-20250820_144328-d170rvta/logs</code>"
      ],
      "text/plain": [
       "<IPython.core.display.HTML object>"
      ]
     },
     "metadata": {},
     "output_type": "display_data"
    },
    {
     "data": {
      "text/html": [
       "Tracking run with wandb version 0.20.1"
      ],
      "text/plain": [
       "<IPython.core.display.HTML object>"
      ]
     },
     "metadata": {},
     "output_type": "display_data"
    },
    {
     "data": {
      "text/html": [
       "Run data is saved locally in <code>/kaggle/working/wandb/run-20250820_144407-7s4peucb</code>"
      ],
      "text/plain": [
       "<IPython.core.display.HTML object>"
      ]
     },
     "metadata": {},
     "output_type": "display_data"
    },
    {
     "data": {
      "text/html": [
       "Syncing run <strong><a href='https://wandb.ai/noynetanel1-tel-aviv-university/GCN%20Graph%20classification%28Protein%29_Gal/runs/7s4peucb' target=\"_blank\">GCN_baseline_seed_30</a></strong> to <a href='https://wandb.ai/noynetanel1-tel-aviv-university/GCN%20Graph%20classification%28Protein%29_Gal' target=\"_blank\">Weights & Biases</a> (<a href='https://wandb.me/developer-guide' target=\"_blank\">docs</a>)<br>"
      ],
      "text/plain": [
       "<IPython.core.display.HTML object>"
      ]
     },
     "metadata": {},
     "output_type": "display_data"
    },
    {
     "data": {
      "text/html": [
       " View project at <a href='https://wandb.ai/noynetanel1-tel-aviv-university/GCN%20Graph%20classification%28Protein%29_Gal' target=\"_blank\">https://wandb.ai/noynetanel1-tel-aviv-university/GCN%20Graph%20classification%28Protein%29_Gal</a>"
      ],
      "text/plain": [
       "<IPython.core.display.HTML object>"
      ]
     },
     "metadata": {},
     "output_type": "display_data"
    },
    {
     "data": {
      "text/html": [
       " View run at <a href='https://wandb.ai/noynetanel1-tel-aviv-university/GCN%20Graph%20classification%28Protein%29_Gal/runs/7s4peucb' target=\"_blank\">https://wandb.ai/noynetanel1-tel-aviv-university/GCN%20Graph%20classification%28Protein%29_Gal/runs/7s4peucb</a>"
      ],
      "text/plain": [
       "<IPython.core.display.HTML object>"
      ]
     },
     "metadata": {},
     "output_type": "display_data"
    },
    {
     "name": "stdout",
     "output_type": "stream",
     "text": [
      "Seed 30 | Epoch 001 | Loss: 0.6803 | Test Acc: 0.5964\n",
      "Seed 30 | Epoch 002 | Loss: 0.6709 | Test Acc: 0.5964\n",
      "Seed 30 | Epoch 003 | Loss: 0.6667 | Test Acc: 0.6009\n",
      "Seed 30 | Epoch 004 | Loss: 0.6642 | Test Acc: 0.6054\n",
      "Seed 30 | Epoch 005 | Loss: 0.6605 | Test Acc: 0.5964\n",
      "Seed 30 | Epoch 006 | Loss: 0.6548 | Test Acc: 0.6009\n",
      "Seed 30 | Epoch 007 | Loss: 0.6508 | Test Acc: 0.5964\n",
      "Seed 30 | Epoch 008 | Loss: 0.6459 | Test Acc: 0.5874\n",
      "Seed 30 | Epoch 009 | Loss: 0.6438 | Test Acc: 0.5919\n",
      "Seed 30 | Epoch 010 | Loss: 0.6383 | Test Acc: 0.5964\n",
      "Seed 30 | Epoch 011 | Loss: 0.6368 | Test Acc: 0.6009\n",
      "Seed 30 | Epoch 012 | Loss: 0.6321 | Test Acc: 0.6368\n",
      "Seed 30 | Epoch 013 | Loss: 0.6298 | Test Acc: 0.6637\n",
      "Seed 30 | Epoch 014 | Loss: 0.6252 | Test Acc: 0.6278\n",
      "Seed 30 | Epoch 015 | Loss: 0.6258 | Test Acc: 0.6278\n",
      "Seed 30 | Epoch 016 | Loss: 0.6244 | Test Acc: 0.5964\n",
      "Seed 30 | Epoch 017 | Loss: 0.6280 | Test Acc: 0.6323\n",
      "Seed 30 | Epoch 018 | Loss: 0.6222 | Test Acc: 0.6413\n",
      "Seed 30 | Epoch 019 | Loss: 0.6197 | Test Acc: 0.6592\n",
      "Seed 30 | Epoch 020 | Loss: 0.6188 | Test Acc: 0.6413\n",
      "Seed 30 | Epoch 021 | Loss: 0.6166 | Test Acc: 0.6637\n",
      "Seed 30 | Epoch 022 | Loss: 0.6170 | Test Acc: 0.6368\n",
      "Seed 30 | Epoch 023 | Loss: 0.6160 | Test Acc: 0.6457\n",
      "Seed 30 | Epoch 024 | Loss: 0.6176 | Test Acc: 0.6457\n",
      "Seed 30 | Epoch 025 | Loss: 0.6191 | Test Acc: 0.6457\n",
      "Seed 30 | Epoch 026 | Loss: 0.6151 | Test Acc: 0.6547\n",
      "Seed 30 | Epoch 027 | Loss: 0.6167 | Test Acc: 0.6637\n",
      "Seed 30 | Epoch 028 | Loss: 0.6125 | Test Acc: 0.6457\n",
      "Seed 30 | Epoch 029 | Loss: 0.6164 | Test Acc: 0.6502\n",
      "Seed 30 | Epoch 030 | Loss: 0.6112 | Test Acc: 0.6547\n",
      "Seed 30 | Epoch 031 | Loss: 0.6135 | Test Acc: 0.6771\n",
      "Seed 30 | Epoch 032 | Loss: 0.6119 | Test Acc: 0.6368\n",
      "Seed 30 | Epoch 033 | Loss: 0.6126 | Test Acc: 0.6637\n",
      "Seed 30 | Epoch 034 | Loss: 0.6121 | Test Acc: 0.6682\n",
      "Seed 30 | Epoch 035 | Loss: 0.6094 | Test Acc: 0.6457\n",
      "Seed 30 | Epoch 036 | Loss: 0.6129 | Test Acc: 0.6726\n",
      "Seed 30 | Epoch 037 | Loss: 0.6100 | Test Acc: 0.6457\n",
      "Seed 30 | Epoch 038 | Loss: 0.6132 | Test Acc: 0.6457\n",
      "Seed 30 | Epoch 039 | Loss: 0.6163 | Test Acc: 0.6592\n",
      "Seed 30 | Epoch 040 | Loss: 0.6097 | Test Acc: 0.6592\n",
      "Seed 30 | Epoch 041 | Loss: 0.6090 | Test Acc: 0.6726\n",
      "Seed 30 | Epoch 042 | Loss: 0.6102 | Test Acc: 0.6502\n",
      "Seed 30 | Epoch 043 | Loss: 0.6075 | Test Acc: 0.6726\n",
      "Seed 30 | Epoch 044 | Loss: 0.6078 | Test Acc: 0.6547\n",
      "Seed 30 | Epoch 045 | Loss: 0.6106 | Test Acc: 0.6547\n",
      "Seed 30 | Epoch 046 | Loss: 0.6125 | Test Acc: 0.6726\n",
      "Seed 30 | Epoch 047 | Loss: 0.6086 | Test Acc: 0.6413\n",
      "Seed 30 | Epoch 048 | Loss: 0.6073 | Test Acc: 0.6413\n",
      "Seed 30 | Epoch 049 | Loss: 0.6091 | Test Acc: 0.6323\n",
      "Seed 30 | Epoch 050 | Loss: 0.6108 | Test Acc: 0.6726\n"
     ]
    },
    {
     "data": {
      "text/html": [],
      "text/plain": [
       "<IPython.core.display.HTML object>"
      ]
     },
     "metadata": {},
     "output_type": "display_data"
    },
    {
     "data": {
      "text/html": [
       "<br>    <style><br>        .wandb-row {<br>            display: flex;<br>            flex-direction: row;<br>            flex-wrap: wrap;<br>            justify-content: flex-start;<br>            width: 100%;<br>        }<br>        .wandb-col {<br>            display: flex;<br>            flex-direction: column;<br>            flex-basis: 100%;<br>            flex: 1;<br>            padding: 10px;<br>        }<br>    </style><br><div class=\"wandb-row\"><div class=\"wandb-col\"><h3>Run history:</h3><br/><table class=\"wandb\"><tr><td>epoch</td><td>▁▁▁▁▂▂▂▂▂▂▃▃▃▃▃▄▄▄▄▄▄▅▅▅▅▅▅▆▆▆▆▆▇▇▇▇▇███</td></tr><tr><td>loss</td><td>█▇▇▆▆▅▅▅▄▄▃▃▃▂▂▂▂▂▂▂▂▁▂▁▂▂▁▁▂▁▂▁▁▁▁▁▁▁▁▁</td></tr><tr><td>test_acc</td><td>▂▂▂▂▂▂▁▁▂▂▄▄▂▅▅▅▇▅▆▆▇▇▆▆▇▅▇█▆█▆▇▇▆█▇█▅▅█</td></tr><tr><td>train_acc</td><td>▁▁▅▃▅▄▅▄▅▇█▇▄█▆█▇▇▇▇▇▇█▇▇▆▇█▇▇▇▆█▇▇▆▇▆█▇</td></tr></table><br/></div><div class=\"wandb-col\"><h3>Run summary:</h3><br/><table class=\"wandb\"><tr><td>epoch</td><td>50</td></tr><tr><td>loss</td><td>0.61082</td></tr><tr><td>test_acc</td><td>0.67265</td></tr><tr><td>train_acc</td><td>0.71011</td></tr></table><br/></div></div>"
      ],
      "text/plain": [
       "<IPython.core.display.HTML object>"
      ]
     },
     "metadata": {},
     "output_type": "display_data"
    },
    {
     "data": {
      "text/html": [
       " View run <strong style=\"color:#cdcd00\">GCN_baseline_seed_30</strong> at: <a href='https://wandb.ai/noynetanel1-tel-aviv-university/GCN%20Graph%20classification%28Protein%29_Gal/runs/7s4peucb' target=\"_blank\">https://wandb.ai/noynetanel1-tel-aviv-university/GCN%20Graph%20classification%28Protein%29_Gal/runs/7s4peucb</a><br> View project at: <a href='https://wandb.ai/noynetanel1-tel-aviv-university/GCN%20Graph%20classification%28Protein%29_Gal' target=\"_blank\">https://wandb.ai/noynetanel1-tel-aviv-university/GCN%20Graph%20classification%28Protein%29_Gal</a><br>Synced 5 W&B file(s), 0 media file(s), 0 artifact file(s) and 0 other file(s)"
      ],
      "text/plain": [
       "<IPython.core.display.HTML object>"
      ]
     },
     "metadata": {},
     "output_type": "display_data"
    },
    {
     "data": {
      "text/html": [
       "Find logs at: <code>./wandb/run-20250820_144407-7s4peucb/logs</code>"
      ],
      "text/plain": [
       "<IPython.core.display.HTML object>"
      ]
     },
     "metadata": {},
     "output_type": "display_data"
    }
   ],
   "source": [
    "import os\n",
    "import random\n",
    "import numpy as np\n",
    "import torch\n",
    "import torch.nn.functional as F\n",
    "from torch_geometric.datasets import TUDataset\n",
    "from torch_geometric.loader import DataLoader\n",
    "from torch_geometric.nn import GCNConv, global_mean_pool\n",
    "import wandb\n",
    "\n",
    "EPOCHS = int(os.getenv(\"EPOCHS\", \"50\"))\n",
    "PROJECT = f\"GCN Graph classification({Dataset_name})_Gal\"\n",
    "ENTITY = \"noynetanel1-tel-aviv-university\"\n",
    "\n",
    "class GCN(torch.nn.Module):\n",
    "    def __init__(self, in_channels, hidden_channels, out_channels):\n",
    "        super().__init__()\n",
    "        self.conv1 = GCNConv(in_channels, hidden_channels)\n",
    "        self.conv2 = GCNConv(hidden_channels, hidden_channels)\n",
    "        self.lin = torch.nn.Linear(hidden_channels, out_channels)\n",
    "    def forward(self, x, edge_index, batch):\n",
    "        x = self.conv1(x, edge_index)\n",
    "        x = F.relu(x)\n",
    "        x = self.conv2(x, edge_index)\n",
    "        x = global_mean_pool(x, batch)\n",
    "        x = self.lin(x)\n",
    "        return F.log_softmax(x, dim=1)\n",
    "\n",
    "def set_seed(s):\n",
    "    random.seed(s)\n",
    "    np.random.seed(s)\n",
    "    torch.manual_seed(s)\n",
    "    torch.cuda.manual_seed_all(s)\n",
    "\n",
    "def run_seed(seed):\n",
    "    set_seed(seed)\n",
    "    \n",
    "    dataset = TUDataset(root='data/TUDataset', name=Dataset_name)\n",
    "\n",
    "    # Filter out None graphs and create x if missing\n",
    "    clean_dataset = []\n",
    "    for data in dataset:\n",
    "        if data is None:\n",
    "            continue\n",
    "        if data.x is None:\n",
    "            data.x = torch.ones((data.num_nodes, 1), dtype=torch.float)\n",
    "        clean_dataset.append(data)\n",
    "\n",
    "    if len(clean_dataset) == 0:\n",
    "        raise RuntimeError(f\"No valid graphs in dataset. Check your {Dataset_name} installation.\")\n",
    "\n",
    "    dataset = clean_dataset\n",
    "\n",
    "    device = torch.device('cuda' if torch.cuda.is_available() else 'cpu')\n",
    "    in_channels = dataset[0].x.shape[1]\n",
    "    out_channels = max([data.y.max().item() for data in dataset]) + 1\n",
    "    model = GCN(in_channels, 64, out_channels).to(device)\n",
    "\n",
    "    # Shuffle using random.shuffle instead of dataset.shuffle()\n",
    "    random.shuffle(dataset)\n",
    "\n",
    "    num_graphs = len(dataset)\n",
    "    train_size = int(0.8 * num_graphs)\n",
    "    train_dataset = dataset[:train_size]\n",
    "    test_dataset = dataset[train_size:]\n",
    "    train_loader = DataLoader(train_dataset, batch_size=32, shuffle=True)\n",
    "    test_loader = DataLoader(test_dataset, batch_size=32, shuffle=False)\n",
    "\n",
    "    optimizer = torch.optim.Adam(model.parameters(), lr=0.001)\n",
    "\n",
    "    wandb.init(\n",
    "        project=PROJECT,\n",
    "        entity=ENTITY,\n",
    "        name=f\"GCN_baseline_seed_{seed}\",\n",
    "        group=f\"GCN_{Dataset_name}_baseline\",\n",
    "        job_type=\"baseline\",\n",
    "        reinit=True,\n",
    "        config={\n",
    "            \"model\":\"GCN\",\n",
    "            \"dataset\":Dataset_name,\n",
    "            \"hidden_channels\":64,\n",
    "            \"lr\":0.001,\n",
    "            \"epochs\":EPOCHS,\n",
    "            \"task\":\"Baseline\",\n",
    "            \"seed\":seed\n",
    "        }\n",
    "    )\n",
    "\n",
    "    def train():\n",
    "        model.train()\n",
    "        total_loss = 0.0\n",
    "        for batch in train_loader:\n",
    "            batch = batch.to(device)\n",
    "            optimizer.zero_grad()\n",
    "            out = model(batch.x, batch.edge_index, batch.batch)\n",
    "            loss = F.nll_loss(out, batch.y)\n",
    "            loss.backward()\n",
    "            optimizer.step()\n",
    "            total_loss += loss.item()\n",
    "        return total_loss / len(train_loader)\n",
    "\n",
    "    def test(loader):\n",
    "        model.eval()\n",
    "        correct = 0\n",
    "        for batch in loader:\n",
    "            batch = batch.to(device)\n",
    "            out = model(batch.x, batch.edge_index, batch.batch)\n",
    "            pred = out.argmax(dim=1)\n",
    "            correct += (pred == batch.y).sum().item()\n",
    "        return correct / len(loader.dataset)\n",
    "\n",
    "    for epoch in range(1, EPOCHS + 1):\n",
    "        loss = train()\n",
    "        test_acc = test(test_loader)\n",
    "        train_acc = test(train_loader)\n",
    "        \n",
    "        print(f\"Seed {seed} | Epoch {epoch:03d} | Loss: {loss:.4f} | Test Acc: {test_acc:.4f}\")\n",
    "        wandb.log({\"epoch\": epoch, \"loss\": loss, \"train_acc\": train_acc, \"test_acc\": test_acc})\n",
    "\n",
    "    wandb.finish()\n",
    "\n",
    "if __name__ == \"__main__\":\n",
    "    for s in range(1, 31):\n",
    "        run_seed(s)\n"
   ]
  },
  {
   "cell_type": "markdown",
   "metadata": {},
   "source": [
    "# *BFS*"
   ]
  },
  {
   "cell_type": "code",
   "execution_count": 6,
   "metadata": {
    "execution": {
     "iopub.execute_input": "2025-08-20T14:58:17.765369Z",
     "iopub.status.busy": "2025-08-20T14:58:17.764984Z",
     "iopub.status.idle": "2025-08-20T16:09:35.655368Z",
     "shell.execute_reply": "2025-08-20T16:09:35.654116Z",
     "shell.execute_reply.started": "2025-08-20T14:58:17.765338Z"
    },
    "trusted": true
   },
   "outputs": [
    {
     "data": {
      "text/html": [
       "Tracking run with wandb version 0.20.1"
      ],
      "text/plain": [
       "<IPython.core.display.HTML object>"
      ]
     },
     "metadata": {},
     "output_type": "display_data"
    },
    {
     "data": {
      "text/html": [
       "Run data is saved locally in <code>/kaggle/working/wandb/run-20250820_145818-nu92699v</code>"
      ],
      "text/plain": [
       "<IPython.core.display.HTML object>"
      ]
     },
     "metadata": {},
     "output_type": "display_data"
    },
    {
     "data": {
      "text/html": [
       "Syncing run <strong><a href='https://wandb.ai/noynetanel1-tel-aviv-university/GCN%20Graph%20classification%28Protein%29_Gal/runs/nu92699v' target=\"_blank\">GCN_BFS_seed_1</a></strong> to <a href='https://wandb.ai/noynetanel1-tel-aviv-university/GCN%20Graph%20classification%28Protein%29_Gal' target=\"_blank\">Weights & Biases</a> (<a href='https://wandb.me/developer-guide' target=\"_blank\">docs</a>)<br>"
      ],
      "text/plain": [
       "<IPython.core.display.HTML object>"
      ]
     },
     "metadata": {},
     "output_type": "display_data"
    },
    {
     "data": {
      "text/html": [
       " View project at <a href='https://wandb.ai/noynetanel1-tel-aviv-university/GCN%20Graph%20classification%28Protein%29_Gal' target=\"_blank\">https://wandb.ai/noynetanel1-tel-aviv-university/GCN%20Graph%20classification%28Protein%29_Gal</a>"
      ],
      "text/plain": [
       "<IPython.core.display.HTML object>"
      ]
     },
     "metadata": {},
     "output_type": "display_data"
    },
    {
     "data": {
      "text/html": [
       " View run at <a href='https://wandb.ai/noynetanel1-tel-aviv-university/GCN%20Graph%20classification%28Protein%29_Gal/runs/nu92699v' target=\"_blank\">https://wandb.ai/noynetanel1-tel-aviv-university/GCN%20Graph%20classification%28Protein%29_Gal/runs/nu92699v</a>"
      ],
      "text/plain": [
       "<IPython.core.display.HTML object>"
      ]
     },
     "metadata": {},
     "output_type": "display_data"
    },
    {
     "name": "stdout",
     "output_type": "stream",
     "text": [
      "Seed 1 | Epoch 001 | Loss: 0.6811 | Test Acc: 0.5785\n",
      "Seed 1 | Epoch 002 | Loss: 0.6696 | Test Acc: 0.5785\n",
      "Seed 1 | Epoch 003 | Loss: 0.6660 | Test Acc: 0.5785\n",
      "Seed 1 | Epoch 004 | Loss: 0.6612 | Test Acc: 0.6009\n",
      "Seed 1 | Epoch 005 | Loss: 0.6558 | Test Acc: 0.6188\n",
      "Seed 1 | Epoch 006 | Loss: 0.6480 | Test Acc: 0.6188\n",
      "Seed 1 | Epoch 007 | Loss: 0.6400 | Test Acc: 0.6233\n",
      "Seed 1 | Epoch 008 | Loss: 0.6318 | Test Acc: 0.6323\n",
      "Seed 1 | Epoch 009 | Loss: 0.6222 | Test Acc: 0.6413\n",
      "Seed 1 | Epoch 010 | Loss: 0.6232 | Test Acc: 0.6547\n",
      "Seed 1 | Epoch 011 | Loss: 0.6143 | Test Acc: 0.6771\n",
      "Seed 1 | Epoch 012 | Loss: 0.6022 | Test Acc: 0.6771\n",
      "Seed 1 | Epoch 013 | Loss: 0.5930 | Test Acc: 0.6816\n",
      "Seed 1 | Epoch 014 | Loss: 0.5871 | Test Acc: 0.6726\n",
      "Seed 1 | Epoch 015 | Loss: 0.5849 | Test Acc: 0.6637\n",
      "Seed 1 | Epoch 016 | Loss: 0.5754 | Test Acc: 0.6726\n",
      "Seed 1 | Epoch 017 | Loss: 0.5695 | Test Acc: 0.6951\n",
      "Seed 1 | Epoch 018 | Loss: 0.5617 | Test Acc: 0.6951\n",
      "Seed 1 | Epoch 019 | Loss: 0.5601 | Test Acc: 0.6816\n",
      "Seed 1 | Epoch 020 | Loss: 0.5592 | Test Acc: 0.6951\n",
      "Seed 1 | Epoch 021 | Loss: 0.5486 | Test Acc: 0.6996\n",
      "Seed 1 | Epoch 022 | Loss: 0.5458 | Test Acc: 0.6951\n",
      "Seed 1 | Epoch 023 | Loss: 0.5441 | Test Acc: 0.7085\n",
      "Seed 1 | Epoch 024 | Loss: 0.5354 | Test Acc: 0.7040\n",
      "Seed 1 | Epoch 025 | Loss: 0.5330 | Test Acc: 0.7175\n",
      "Seed 1 | Epoch 026 | Loss: 0.5354 | Test Acc: 0.7175\n",
      "Seed 1 | Epoch 027 | Loss: 0.5353 | Test Acc: 0.7040\n",
      "Seed 1 | Epoch 028 | Loss: 0.5237 | Test Acc: 0.7175\n",
      "Seed 1 | Epoch 029 | Loss: 0.5301 | Test Acc: 0.7354\n",
      "Seed 1 | Epoch 030 | Loss: 0.5181 | Test Acc: 0.7175\n",
      "Seed 1 | Epoch 031 | Loss: 0.5208 | Test Acc: 0.7175\n",
      "Seed 1 | Epoch 032 | Loss: 0.5190 | Test Acc: 0.7265\n",
      "Seed 1 | Epoch 033 | Loss: 0.5163 | Test Acc: 0.7130\n",
      "Seed 1 | Epoch 034 | Loss: 0.5132 | Test Acc: 0.7309\n",
      "Seed 1 | Epoch 035 | Loss: 0.5115 | Test Acc: 0.7309\n",
      "Seed 1 | Epoch 036 | Loss: 0.5205 | Test Acc: 0.7175\n",
      "Seed 1 | Epoch 037 | Loss: 0.5099 | Test Acc: 0.7220\n",
      "Seed 1 | Epoch 038 | Loss: 0.5122 | Test Acc: 0.7354\n",
      "Seed 1 | Epoch 039 | Loss: 0.5080 | Test Acc: 0.7085\n",
      "Seed 1 | Epoch 040 | Loss: 0.5036 | Test Acc: 0.7399\n",
      "Seed 1 | Epoch 041 | Loss: 0.5034 | Test Acc: 0.7399\n",
      "Seed 1 | Epoch 042 | Loss: 0.5033 | Test Acc: 0.7354\n",
      "Seed 1 | Epoch 043 | Loss: 0.5044 | Test Acc: 0.7265\n",
      "Seed 1 | Epoch 044 | Loss: 0.5016 | Test Acc: 0.7265\n",
      "Seed 1 | Epoch 045 | Loss: 0.5061 | Test Acc: 0.7309\n",
      "Seed 1 | Epoch 046 | Loss: 0.5054 | Test Acc: 0.7309\n",
      "Seed 1 | Epoch 047 | Loss: 0.5151 | Test Acc: 0.7130\n",
      "Seed 1 | Epoch 048 | Loss: 0.5161 | Test Acc: 0.7130\n",
      "Seed 1 | Epoch 049 | Loss: 0.5067 | Test Acc: 0.7399\n",
      "Seed 1 | Epoch 050 | Loss: 0.4975 | Test Acc: 0.7354\n"
     ]
    },
    {
     "data": {
      "text/html": [],
      "text/plain": [
       "<IPython.core.display.HTML object>"
      ]
     },
     "metadata": {},
     "output_type": "display_data"
    },
    {
     "data": {
      "text/html": [
       "<br>    <style><br>        .wandb-row {<br>            display: flex;<br>            flex-direction: row;<br>            flex-wrap: wrap;<br>            justify-content: flex-start;<br>            width: 100%;<br>        }<br>        .wandb-col {<br>            display: flex;<br>            flex-direction: column;<br>            flex-basis: 100%;<br>            flex: 1;<br>            padding: 10px;<br>        }<br>    </style><br><div class=\"wandb-row\"><div class=\"wandb-col\"><h3>Run history:</h3><br/><table class=\"wandb\"><tr><td>epoch</td><td>▁▁▁▁▂▂▂▂▂▂▃▃▃▃▃▄▄▄▄▄▅▅▅▅▅▆▆▆▆▆▆▇▇▇▇▇▇███</td></tr><tr><td>loss</td><td>██▇▇▇▆▆▆▅▅▄▄▄▄▃▃▃▃▂▂▂▂▂▂▂▂▂▂▂▁▁▁▁▁▁▁▁▂▂▁</td></tr><tr><td>test_acc</td><td>▁▁▁▂▃▃▃▄▄▅▅▅▅▆▆▆▆▆▇▆▇▆▇█▇▇▇██▇█▇█████▇▇█</td></tr><tr><td>train_acc</td><td>▁▁▁▁▂▃▅▅▅▅▆▅▆▆▆▇▆▆▇▇▇▇▇█▇████▇█▇██████▇█</td></tr></table><br/></div><div class=\"wandb-col\"><h3>Run summary:</h3><br/><table class=\"wandb\"><tr><td>epoch</td><td>50</td></tr><tr><td>loss</td><td>0.49746</td></tr><tr><td>test_acc</td><td>0.73543</td></tr><tr><td>train_acc</td><td>0.76854</td></tr></table><br/></div></div>"
      ],
      "text/plain": [
       "<IPython.core.display.HTML object>"
      ]
     },
     "metadata": {},
     "output_type": "display_data"
    },
    {
     "data": {
      "text/html": [
       " View run <strong style=\"color:#cdcd00\">GCN_BFS_seed_1</strong> at: <a href='https://wandb.ai/noynetanel1-tel-aviv-university/GCN%20Graph%20classification%28Protein%29_Gal/runs/nu92699v' target=\"_blank\">https://wandb.ai/noynetanel1-tel-aviv-university/GCN%20Graph%20classification%28Protein%29_Gal/runs/nu92699v</a><br> View project at: <a href='https://wandb.ai/noynetanel1-tel-aviv-university/GCN%20Graph%20classification%28Protein%29_Gal' target=\"_blank\">https://wandb.ai/noynetanel1-tel-aviv-university/GCN%20Graph%20classification%28Protein%29_Gal</a><br>Synced 5 W&B file(s), 0 media file(s), 0 artifact file(s) and 0 other file(s)"
      ],
      "text/plain": [
       "<IPython.core.display.HTML object>"
      ]
     },
     "metadata": {},
     "output_type": "display_data"
    },
    {
     "data": {
      "text/html": [
       "Find logs at: <code>./wandb/run-20250820_145818-nu92699v/logs</code>"
      ],
      "text/plain": [
       "<IPython.core.display.HTML object>"
      ]
     },
     "metadata": {},
     "output_type": "display_data"
    },
    {
     "data": {
      "text/html": [
       "Tracking run with wandb version 0.20.1"
      ],
      "text/plain": [
       "<IPython.core.display.HTML object>"
      ]
     },
     "metadata": {},
     "output_type": "display_data"
    },
    {
     "data": {
      "text/html": [
       "Run data is saved locally in <code>/kaggle/working/wandb/run-20250820_150033-rdorl0td</code>"
      ],
      "text/plain": [
       "<IPython.core.display.HTML object>"
      ]
     },
     "metadata": {},
     "output_type": "display_data"
    },
    {
     "data": {
      "text/html": [
       "Syncing run <strong><a href='https://wandb.ai/noynetanel1-tel-aviv-university/GCN%20Graph%20classification%28Protein%29_Gal/runs/rdorl0td' target=\"_blank\">GCN_BFS_seed_2</a></strong> to <a href='https://wandb.ai/noynetanel1-tel-aviv-university/GCN%20Graph%20classification%28Protein%29_Gal' target=\"_blank\">Weights & Biases</a> (<a href='https://wandb.me/developer-guide' target=\"_blank\">docs</a>)<br>"
      ],
      "text/plain": [
       "<IPython.core.display.HTML object>"
      ]
     },
     "metadata": {},
     "output_type": "display_data"
    },
    {
     "data": {
      "text/html": [
       " View project at <a href='https://wandb.ai/noynetanel1-tel-aviv-university/GCN%20Graph%20classification%28Protein%29_Gal' target=\"_blank\">https://wandb.ai/noynetanel1-tel-aviv-university/GCN%20Graph%20classification%28Protein%29_Gal</a>"
      ],
      "text/plain": [
       "<IPython.core.display.HTML object>"
      ]
     },
     "metadata": {},
     "output_type": "display_data"
    },
    {
     "data": {
      "text/html": [
       " View run at <a href='https://wandb.ai/noynetanel1-tel-aviv-university/GCN%20Graph%20classification%28Protein%29_Gal/runs/rdorl0td' target=\"_blank\">https://wandb.ai/noynetanel1-tel-aviv-university/GCN%20Graph%20classification%28Protein%29_Gal/runs/rdorl0td</a>"
      ],
      "text/plain": [
       "<IPython.core.display.HTML object>"
      ]
     },
     "metadata": {},
     "output_type": "display_data"
    },
    {
     "name": "stdout",
     "output_type": "stream",
     "text": [
      "Seed 2 | Epoch 001 | Loss: 0.6774 | Test Acc: 0.6188\n",
      "Seed 2 | Epoch 002 | Loss: 0.6744 | Test Acc: 0.6188\n",
      "Seed 2 | Epoch 003 | Loss: 0.6693 | Test Acc: 0.6188\n",
      "Seed 2 | Epoch 004 | Loss: 0.6646 | Test Acc: 0.6906\n",
      "Seed 2 | Epoch 005 | Loss: 0.6595 | Test Acc: 0.6861\n",
      "Seed 2 | Epoch 006 | Loss: 0.6504 | Test Acc: 0.6726\n",
      "Seed 2 | Epoch 007 | Loss: 0.6456 | Test Acc: 0.7265\n",
      "Seed 2 | Epoch 008 | Loss: 0.6355 | Test Acc: 0.7040\n",
      "Seed 2 | Epoch 009 | Loss: 0.6264 | Test Acc: 0.7309\n",
      "Seed 2 | Epoch 010 | Loss: 0.6188 | Test Acc: 0.7220\n",
      "Seed 2 | Epoch 011 | Loss: 0.6116 | Test Acc: 0.7220\n",
      "Seed 2 | Epoch 012 | Loss: 0.6138 | Test Acc: 0.6996\n",
      "Seed 2 | Epoch 013 | Loss: 0.6015 | Test Acc: 0.7265\n",
      "Seed 2 | Epoch 014 | Loss: 0.5938 | Test Acc: 0.7265\n",
      "Seed 2 | Epoch 015 | Loss: 0.5979 | Test Acc: 0.7399\n",
      "Seed 2 | Epoch 016 | Loss: 0.5871 | Test Acc: 0.7354\n",
      "Seed 2 | Epoch 017 | Loss: 0.5784 | Test Acc: 0.7309\n",
      "Seed 2 | Epoch 018 | Loss: 0.5764 | Test Acc: 0.7265\n",
      "Seed 2 | Epoch 019 | Loss: 0.5712 | Test Acc: 0.7399\n",
      "Seed 2 | Epoch 020 | Loss: 0.5640 | Test Acc: 0.7623\n",
      "Seed 2 | Epoch 021 | Loss: 0.5613 | Test Acc: 0.7623\n",
      "Seed 2 | Epoch 022 | Loss: 0.5574 | Test Acc: 0.7668\n",
      "Seed 2 | Epoch 023 | Loss: 0.5529 | Test Acc: 0.7623\n",
      "Seed 2 | Epoch 024 | Loss: 0.5496 | Test Acc: 0.7623\n",
      "Seed 2 | Epoch 025 | Loss: 0.5463 | Test Acc: 0.7668\n",
      "Seed 2 | Epoch 026 | Loss: 0.5443 | Test Acc: 0.7578\n",
      "Seed 2 | Epoch 027 | Loss: 0.5500 | Test Acc: 0.7265\n",
      "Seed 2 | Epoch 028 | Loss: 0.5661 | Test Acc: 0.7668\n",
      "Seed 2 | Epoch 029 | Loss: 0.5433 | Test Acc: 0.7758\n",
      "Seed 2 | Epoch 030 | Loss: 0.5331 | Test Acc: 0.7758\n",
      "Seed 2 | Epoch 031 | Loss: 0.5299 | Test Acc: 0.7668\n",
      "Seed 2 | Epoch 032 | Loss: 0.5315 | Test Acc: 0.7713\n",
      "Seed 2 | Epoch 033 | Loss: 0.5311 | Test Acc: 0.7713\n",
      "Seed 2 | Epoch 034 | Loss: 0.5334 | Test Acc: 0.7534\n",
      "Seed 2 | Epoch 035 | Loss: 0.5340 | Test Acc: 0.7578\n",
      "Seed 2 | Epoch 036 | Loss: 0.5491 | Test Acc: 0.7713\n",
      "Seed 2 | Epoch 037 | Loss: 0.5224 | Test Acc: 0.7489\n",
      "Seed 2 | Epoch 038 | Loss: 0.5277 | Test Acc: 0.7713\n",
      "Seed 2 | Epoch 039 | Loss: 0.5240 | Test Acc: 0.7578\n",
      "Seed 2 | Epoch 040 | Loss: 0.5185 | Test Acc: 0.7668\n",
      "Seed 2 | Epoch 041 | Loss: 0.5193 | Test Acc: 0.7668\n",
      "Seed 2 | Epoch 042 | Loss: 0.5145 | Test Acc: 0.7578\n",
      "Seed 2 | Epoch 043 | Loss: 0.5217 | Test Acc: 0.7668\n",
      "Seed 2 | Epoch 044 | Loss: 0.5218 | Test Acc: 0.7668\n",
      "Seed 2 | Epoch 045 | Loss: 0.5231 | Test Acc: 0.7713\n",
      "Seed 2 | Epoch 046 | Loss: 0.5148 | Test Acc: 0.7713\n",
      "Seed 2 | Epoch 047 | Loss: 0.5133 | Test Acc: 0.7578\n",
      "Seed 2 | Epoch 048 | Loss: 0.5087 | Test Acc: 0.7578\n",
      "Seed 2 | Epoch 049 | Loss: 0.5109 | Test Acc: 0.7534\n",
      "Seed 2 | Epoch 050 | Loss: 0.5092 | Test Acc: 0.7578\n"
     ]
    },
    {
     "data": {
      "text/html": [],
      "text/plain": [
       "<IPython.core.display.HTML object>"
      ]
     },
     "metadata": {},
     "output_type": "display_data"
    },
    {
     "data": {
      "text/html": [
       "<br>    <style><br>        .wandb-row {<br>            display: flex;<br>            flex-direction: row;<br>            flex-wrap: wrap;<br>            justify-content: flex-start;<br>            width: 100%;<br>        }<br>        .wandb-col {<br>            display: flex;<br>            flex-direction: column;<br>            flex-basis: 100%;<br>            flex: 1;<br>            padding: 10px;<br>        }<br>    </style><br><div class=\"wandb-row\"><div class=\"wandb-col\"><h3>Run history:</h3><br/><table class=\"wandb\"><tr><td>epoch</td><td>▁▁▁▁▂▂▂▂▂▃▃▃▃▃▄▄▄▄▄▄▅▅▅▅▅▆▆▆▆▆▆▇▇▇▇▇▇███</td></tr><tr><td>loss</td><td>███▇▇▇▆▆▆▅▅▅▅▄▄▄▃▃▃▃▃▂▃▃▂▂▂▂▂▂▂▂▂▁▁▂▂▁▁▁</td></tr><tr><td>test_acc</td><td>▁▁▁▄▄▆▅▆▆▆▆▆▆▆▆▆▇▇█▇█▇▆████▇▇█▇██▇███▇▇▇</td></tr><tr><td>train_acc</td><td>▁▁▁▂▃▄▄▅▆▅▆▆▆▆▆▆▇▇▇▇▇▇▆▇███▇██▇▇██████▇█</td></tr></table><br/></div><div class=\"wandb-col\"><h3>Run summary:</h3><br/><table class=\"wandb\"><tr><td>epoch</td><td>50</td></tr><tr><td>loss</td><td>0.50919</td></tr><tr><td>test_acc</td><td>0.75785</td></tr><tr><td>train_acc</td><td>0.76517</td></tr></table><br/></div></div>"
      ],
      "text/plain": [
       "<IPython.core.display.HTML object>"
      ]
     },
     "metadata": {},
     "output_type": "display_data"
    },
    {
     "data": {
      "text/html": [
       " View run <strong style=\"color:#cdcd00\">GCN_BFS_seed_2</strong> at: <a href='https://wandb.ai/noynetanel1-tel-aviv-university/GCN%20Graph%20classification%28Protein%29_Gal/runs/rdorl0td' target=\"_blank\">https://wandb.ai/noynetanel1-tel-aviv-university/GCN%20Graph%20classification%28Protein%29_Gal/runs/rdorl0td</a><br> View project at: <a href='https://wandb.ai/noynetanel1-tel-aviv-university/GCN%20Graph%20classification%28Protein%29_Gal' target=\"_blank\">https://wandb.ai/noynetanel1-tel-aviv-university/GCN%20Graph%20classification%28Protein%29_Gal</a><br>Synced 5 W&B file(s), 0 media file(s), 0 artifact file(s) and 0 other file(s)"
      ],
      "text/plain": [
       "<IPython.core.display.HTML object>"
      ]
     },
     "metadata": {},
     "output_type": "display_data"
    },
    {
     "data": {
      "text/html": [
       "Find logs at: <code>./wandb/run-20250820_150033-rdorl0td/logs</code>"
      ],
      "text/plain": [
       "<IPython.core.display.HTML object>"
      ]
     },
     "metadata": {},
     "output_type": "display_data"
    },
    {
     "data": {
      "text/html": [
       "Tracking run with wandb version 0.20.1"
      ],
      "text/plain": [
       "<IPython.core.display.HTML object>"
      ]
     },
     "metadata": {},
     "output_type": "display_data"
    },
    {
     "data": {
      "text/html": [
       "Run data is saved locally in <code>/kaggle/working/wandb/run-20250820_150349-jcn5k69v</code>"
      ],
      "text/plain": [
       "<IPython.core.display.HTML object>"
      ]
     },
     "metadata": {},
     "output_type": "display_data"
    },
    {
     "data": {
      "text/html": [
       "Syncing run <strong><a href='https://wandb.ai/noynetanel1-tel-aviv-university/GCN%20Graph%20classification%28Protein%29_Gal/runs/jcn5k69v' target=\"_blank\">GCN_BFS_seed_3</a></strong> to <a href='https://wandb.ai/noynetanel1-tel-aviv-university/GCN%20Graph%20classification%28Protein%29_Gal' target=\"_blank\">Weights & Biases</a> (<a href='https://wandb.me/developer-guide' target=\"_blank\">docs</a>)<br>"
      ],
      "text/plain": [
       "<IPython.core.display.HTML object>"
      ]
     },
     "metadata": {},
     "output_type": "display_data"
    },
    {
     "data": {
      "text/html": [
       " View project at <a href='https://wandb.ai/noynetanel1-tel-aviv-university/GCN%20Graph%20classification%28Protein%29_Gal' target=\"_blank\">https://wandb.ai/noynetanel1-tel-aviv-university/GCN%20Graph%20classification%28Protein%29_Gal</a>"
      ],
      "text/plain": [
       "<IPython.core.display.HTML object>"
      ]
     },
     "metadata": {},
     "output_type": "display_data"
    },
    {
     "data": {
      "text/html": [
       " View run at <a href='https://wandb.ai/noynetanel1-tel-aviv-university/GCN%20Graph%20classification%28Protein%29_Gal/runs/jcn5k69v' target=\"_blank\">https://wandb.ai/noynetanel1-tel-aviv-university/GCN%20Graph%20classification%28Protein%29_Gal/runs/jcn5k69v</a>"
      ],
      "text/plain": [
       "<IPython.core.display.HTML object>"
      ]
     },
     "metadata": {},
     "output_type": "display_data"
    },
    {
     "name": "stdout",
     "output_type": "stream",
     "text": [
      "Seed 3 | Epoch 001 | Loss: 0.6737 | Test Acc: 0.5426\n",
      "Seed 3 | Epoch 002 | Loss: 0.6679 | Test Acc: 0.5426\n",
      "Seed 3 | Epoch 003 | Loss: 0.6630 | Test Acc: 0.5426\n",
      "Seed 3 | Epoch 004 | Loss: 0.6575 | Test Acc: 0.5471\n",
      "Seed 3 | Epoch 005 | Loss: 0.6521 | Test Acc: 0.5471\n",
      "Seed 3 | Epoch 006 | Loss: 0.6466 | Test Acc: 0.5471\n",
      "Seed 3 | Epoch 007 | Loss: 0.6401 | Test Acc: 0.5516\n",
      "Seed 3 | Epoch 008 | Loss: 0.6325 | Test Acc: 0.5919\n",
      "Seed 3 | Epoch 009 | Loss: 0.6259 | Test Acc: 0.6502\n",
      "Seed 3 | Epoch 010 | Loss: 0.6173 | Test Acc: 0.6323\n",
      "Seed 3 | Epoch 011 | Loss: 0.6072 | Test Acc: 0.6278\n",
      "Seed 3 | Epoch 012 | Loss: 0.6048 | Test Acc: 0.6682\n",
      "Seed 3 | Epoch 013 | Loss: 0.5974 | Test Acc: 0.6547\n",
      "Seed 3 | Epoch 014 | Loss: 0.5865 | Test Acc: 0.6682\n",
      "Seed 3 | Epoch 015 | Loss: 0.5829 | Test Acc: 0.6637\n",
      "Seed 3 | Epoch 016 | Loss: 0.5746 | Test Acc: 0.6726\n",
      "Seed 3 | Epoch 017 | Loss: 0.5682 | Test Acc: 0.6816\n",
      "Seed 3 | Epoch 018 | Loss: 0.5623 | Test Acc: 0.6816\n",
      "Seed 3 | Epoch 019 | Loss: 0.5602 | Test Acc: 0.6816\n",
      "Seed 3 | Epoch 020 | Loss: 0.5530 | Test Acc: 0.6996\n",
      "Seed 3 | Epoch 021 | Loss: 0.5467 | Test Acc: 0.6502\n",
      "Seed 3 | Epoch 022 | Loss: 0.5379 | Test Acc: 0.7040\n",
      "Seed 3 | Epoch 023 | Loss: 0.5331 | Test Acc: 0.6592\n",
      "Seed 3 | Epoch 024 | Loss: 0.5364 | Test Acc: 0.6951\n",
      "Seed 3 | Epoch 025 | Loss: 0.5526 | Test Acc: 0.6861\n",
      "Seed 3 | Epoch 026 | Loss: 0.5282 | Test Acc: 0.6951\n",
      "Seed 3 | Epoch 027 | Loss: 0.5238 | Test Acc: 0.6996\n",
      "Seed 3 | Epoch 028 | Loss: 0.5160 | Test Acc: 0.6547\n",
      "Seed 3 | Epoch 029 | Loss: 0.5147 | Test Acc: 0.6861\n",
      "Seed 3 | Epoch 030 | Loss: 0.5154 | Test Acc: 0.6368\n",
      "Seed 3 | Epoch 031 | Loss: 0.5187 | Test Acc: 0.6906\n",
      "Seed 3 | Epoch 032 | Loss: 0.5116 | Test Acc: 0.6816\n",
      "Seed 3 | Epoch 033 | Loss: 0.5053 | Test Acc: 0.6771\n",
      "Seed 3 | Epoch 034 | Loss: 0.5163 | Test Acc: 0.6682\n",
      "Seed 3 | Epoch 035 | Loss: 0.5050 | Test Acc: 0.6906\n",
      "Seed 3 | Epoch 036 | Loss: 0.5112 | Test Acc: 0.6682\n",
      "Seed 3 | Epoch 037 | Loss: 0.5049 | Test Acc: 0.6726\n",
      "Seed 3 | Epoch 038 | Loss: 0.4973 | Test Acc: 0.6726\n",
      "Seed 3 | Epoch 039 | Loss: 0.4986 | Test Acc: 0.6771\n",
      "Seed 3 | Epoch 040 | Loss: 0.4962 | Test Acc: 0.6726\n",
      "Seed 3 | Epoch 041 | Loss: 0.5004 | Test Acc: 0.6726\n",
      "Seed 3 | Epoch 042 | Loss: 0.4993 | Test Acc: 0.6771\n",
      "Seed 3 | Epoch 043 | Loss: 0.4983 | Test Acc: 0.6637\n",
      "Seed 3 | Epoch 044 | Loss: 0.4950 | Test Acc: 0.6726\n",
      "Seed 3 | Epoch 045 | Loss: 0.4979 | Test Acc: 0.6951\n",
      "Seed 3 | Epoch 046 | Loss: 0.4991 | Test Acc: 0.6861\n",
      "Seed 3 | Epoch 047 | Loss: 0.4994 | Test Acc: 0.6682\n",
      "Seed 3 | Epoch 048 | Loss: 0.4924 | Test Acc: 0.6771\n",
      "Seed 3 | Epoch 049 | Loss: 0.4910 | Test Acc: 0.6726\n",
      "Seed 3 | Epoch 050 | Loss: 0.4909 | Test Acc: 0.6726\n"
     ]
    },
    {
     "data": {
      "text/html": [],
      "text/plain": [
       "<IPython.core.display.HTML object>"
      ]
     },
     "metadata": {},
     "output_type": "display_data"
    },
    {
     "data": {
      "text/html": [
       "<br>    <style><br>        .wandb-row {<br>            display: flex;<br>            flex-direction: row;<br>            flex-wrap: wrap;<br>            justify-content: flex-start;<br>            width: 100%;<br>        }<br>        .wandb-col {<br>            display: flex;<br>            flex-direction: column;<br>            flex-basis: 100%;<br>            flex: 1;<br>            padding: 10px;<br>        }<br>    </style><br><div class=\"wandb-row\"><div class=\"wandb-col\"><h3>Run history:</h3><br/><table class=\"wandb\"><tr><td>epoch</td><td>▁▁▁▁▂▂▂▂▂▃▃▃▃▃▃▄▄▄▄▄▅▅▅▅▅▆▆▆▆▆▆▇▇▇▇▇▇███</td></tr><tr><td>loss</td><td>███▇▇▇▆▆▆▅▅▅▅▄▄▄▃▃▃▃▃▂▂▂▂▂▂▂▂▂▂▁▁▁▁▁▁▁▁▁</td></tr><tr><td>test_acc</td><td>▁▁▁▁▁▁▃▆▅▅▆▆▆▇▇▇█▆█▆▇██▆▇▇▇▇▆▇▇▇▇▇▇█▇▆▇▇</td></tr><tr><td>train_acc</td><td>▁▁▁▂▃▄▄▄▄▅▆▆▆▆▆▇▆▇▆▆▇▇▆▇▆█▇▇█▇▇▇▇██████▇</td></tr></table><br/></div><div class=\"wandb-col\"><h3>Run summary:</h3><br/><table class=\"wandb\"><tr><td>epoch</td><td>50</td></tr><tr><td>loss</td><td>0.49091</td></tr><tr><td>test_acc</td><td>0.67265</td></tr><tr><td>train_acc</td><td>0.76854</td></tr></table><br/></div></div>"
      ],
      "text/plain": [
       "<IPython.core.display.HTML object>"
      ]
     },
     "metadata": {},
     "output_type": "display_data"
    },
    {
     "data": {
      "text/html": [
       " View run <strong style=\"color:#cdcd00\">GCN_BFS_seed_3</strong> at: <a href='https://wandb.ai/noynetanel1-tel-aviv-university/GCN%20Graph%20classification%28Protein%29_Gal/runs/jcn5k69v' target=\"_blank\">https://wandb.ai/noynetanel1-tel-aviv-university/GCN%20Graph%20classification%28Protein%29_Gal/runs/jcn5k69v</a><br> View project at: <a href='https://wandb.ai/noynetanel1-tel-aviv-university/GCN%20Graph%20classification%28Protein%29_Gal' target=\"_blank\">https://wandb.ai/noynetanel1-tel-aviv-university/GCN%20Graph%20classification%28Protein%29_Gal</a><br>Synced 5 W&B file(s), 0 media file(s), 0 artifact file(s) and 0 other file(s)"
      ],
      "text/plain": [
       "<IPython.core.display.HTML object>"
      ]
     },
     "metadata": {},
     "output_type": "display_data"
    },
    {
     "data": {
      "text/html": [
       "Find logs at: <code>./wandb/run-20250820_150349-jcn5k69v/logs</code>"
      ],
      "text/plain": [
       "<IPython.core.display.HTML object>"
      ]
     },
     "metadata": {},
     "output_type": "display_data"
    },
    {
     "data": {
      "text/html": [
       "Tracking run with wandb version 0.20.1"
      ],
      "text/plain": [
       "<IPython.core.display.HTML object>"
      ]
     },
     "metadata": {},
     "output_type": "display_data"
    },
    {
     "data": {
      "text/html": [
       "Run data is saved locally in <code>/kaggle/working/wandb/run-20250820_150607-kbjsgbxn</code>"
      ],
      "text/plain": [
       "<IPython.core.display.HTML object>"
      ]
     },
     "metadata": {},
     "output_type": "display_data"
    },
    {
     "data": {
      "text/html": [
       "Syncing run <strong><a href='https://wandb.ai/noynetanel1-tel-aviv-university/GCN%20Graph%20classification%28Protein%29_Gal/runs/kbjsgbxn' target=\"_blank\">GCN_BFS_seed_4</a></strong> to <a href='https://wandb.ai/noynetanel1-tel-aviv-university/GCN%20Graph%20classification%28Protein%29_Gal' target=\"_blank\">Weights & Biases</a> (<a href='https://wandb.me/developer-guide' target=\"_blank\">docs</a>)<br>"
      ],
      "text/plain": [
       "<IPython.core.display.HTML object>"
      ]
     },
     "metadata": {},
     "output_type": "display_data"
    },
    {
     "data": {
      "text/html": [
       " View project at <a href='https://wandb.ai/noynetanel1-tel-aviv-university/GCN%20Graph%20classification%28Protein%29_Gal' target=\"_blank\">https://wandb.ai/noynetanel1-tel-aviv-university/GCN%20Graph%20classification%28Protein%29_Gal</a>"
      ],
      "text/plain": [
       "<IPython.core.display.HTML object>"
      ]
     },
     "metadata": {},
     "output_type": "display_data"
    },
    {
     "data": {
      "text/html": [
       " View run at <a href='https://wandb.ai/noynetanel1-tel-aviv-university/GCN%20Graph%20classification%28Protein%29_Gal/runs/kbjsgbxn' target=\"_blank\">https://wandb.ai/noynetanel1-tel-aviv-university/GCN%20Graph%20classification%28Protein%29_Gal/runs/kbjsgbxn</a>"
      ],
      "text/plain": [
       "<IPython.core.display.HTML object>"
      ]
     },
     "metadata": {},
     "output_type": "display_data"
    },
    {
     "name": "stdout",
     "output_type": "stream",
     "text": [
      "Seed 4 | Epoch 001 | Loss: 0.6761 | Test Acc: 0.6413\n",
      "Seed 4 | Epoch 002 | Loss: 0.6680 | Test Acc: 0.6816\n",
      "Seed 4 | Epoch 003 | Loss: 0.6617 | Test Acc: 0.6726\n",
      "Seed 4 | Epoch 004 | Loss: 0.6583 | Test Acc: 0.6816\n",
      "Seed 4 | Epoch 005 | Loss: 0.6513 | Test Acc: 0.6682\n",
      "Seed 4 | Epoch 006 | Loss: 0.6458 | Test Acc: 0.6726\n",
      "Seed 4 | Epoch 007 | Loss: 0.6384 | Test Acc: 0.6816\n",
      "Seed 4 | Epoch 008 | Loss: 0.6359 | Test Acc: 0.6996\n",
      "Seed 4 | Epoch 009 | Loss: 0.6284 | Test Acc: 0.7175\n",
      "Seed 4 | Epoch 010 | Loss: 0.6226 | Test Acc: 0.7175\n",
      "Seed 4 | Epoch 011 | Loss: 0.6166 | Test Acc: 0.7175\n",
      "Seed 4 | Epoch 012 | Loss: 0.6103 | Test Acc: 0.7085\n",
      "Seed 4 | Epoch 013 | Loss: 0.6055 | Test Acc: 0.7354\n",
      "Seed 4 | Epoch 014 | Loss: 0.6010 | Test Acc: 0.7175\n",
      "Seed 4 | Epoch 015 | Loss: 0.5925 | Test Acc: 0.7444\n",
      "Seed 4 | Epoch 016 | Loss: 0.5876 | Test Acc: 0.7265\n",
      "Seed 4 | Epoch 017 | Loss: 0.5938 | Test Acc: 0.7265\n",
      "Seed 4 | Epoch 018 | Loss: 0.5838 | Test Acc: 0.7489\n",
      "Seed 4 | Epoch 019 | Loss: 0.5715 | Test Acc: 0.7444\n",
      "Seed 4 | Epoch 020 | Loss: 0.5699 | Test Acc: 0.7309\n",
      "Seed 4 | Epoch 021 | Loss: 0.5748 | Test Acc: 0.7309\n",
      "Seed 4 | Epoch 022 | Loss: 0.5582 | Test Acc: 0.7489\n",
      "Seed 4 | Epoch 023 | Loss: 0.5635 | Test Acc: 0.7399\n",
      "Seed 4 | Epoch 024 | Loss: 0.5537 | Test Acc: 0.7668\n",
      "Seed 4 | Epoch 025 | Loss: 0.5510 | Test Acc: 0.7578\n",
      "Seed 4 | Epoch 026 | Loss: 0.5435 | Test Acc: 0.7399\n",
      "Seed 4 | Epoch 027 | Loss: 0.5448 | Test Acc: 0.7668\n",
      "Seed 4 | Epoch 028 | Loss: 0.5382 | Test Acc: 0.7399\n",
      "Seed 4 | Epoch 029 | Loss: 0.5446 | Test Acc: 0.7489\n",
      "Seed 4 | Epoch 030 | Loss: 0.5382 | Test Acc: 0.7534\n",
      "Seed 4 | Epoch 031 | Loss: 0.5293 | Test Acc: 0.7668\n",
      "Seed 4 | Epoch 032 | Loss: 0.5298 | Test Acc: 0.7309\n",
      "Seed 4 | Epoch 033 | Loss: 0.5235 | Test Acc: 0.7265\n",
      "Seed 4 | Epoch 034 | Loss: 0.5247 | Test Acc: 0.7309\n",
      "Seed 4 | Epoch 035 | Loss: 0.5227 | Test Acc: 0.7578\n",
      "Seed 4 | Epoch 036 | Loss: 0.5201 | Test Acc: 0.7354\n",
      "Seed 4 | Epoch 037 | Loss: 0.5208 | Test Acc: 0.7668\n",
      "Seed 4 | Epoch 038 | Loss: 0.5126 | Test Acc: 0.7354\n",
      "Seed 4 | Epoch 039 | Loss: 0.5256 | Test Acc: 0.7399\n",
      "Seed 4 | Epoch 040 | Loss: 0.5148 | Test Acc: 0.7309\n",
      "Seed 4 | Epoch 041 | Loss: 0.5134 | Test Acc: 0.7534\n",
      "Seed 4 | Epoch 042 | Loss: 0.5101 | Test Acc: 0.7623\n",
      "Seed 4 | Epoch 043 | Loss: 0.5149 | Test Acc: 0.7623\n",
      "Seed 4 | Epoch 044 | Loss: 0.5091 | Test Acc: 0.7803\n",
      "Seed 4 | Epoch 045 | Loss: 0.5074 | Test Acc: 0.7623\n",
      "Seed 4 | Epoch 046 | Loss: 0.5178 | Test Acc: 0.7713\n",
      "Seed 4 | Epoch 047 | Loss: 0.5172 | Test Acc: 0.7578\n",
      "Seed 4 | Epoch 048 | Loss: 0.5113 | Test Acc: 0.7713\n",
      "Seed 4 | Epoch 049 | Loss: 0.5033 | Test Acc: 0.7265\n",
      "Seed 4 | Epoch 050 | Loss: 0.5133 | Test Acc: 0.7444\n"
     ]
    },
    {
     "data": {
      "text/html": [],
      "text/plain": [
       "<IPython.core.display.HTML object>"
      ]
     },
     "metadata": {},
     "output_type": "display_data"
    },
    {
     "data": {
      "text/html": [
       "<br>    <style><br>        .wandb-row {<br>            display: flex;<br>            flex-direction: row;<br>            flex-wrap: wrap;<br>            justify-content: flex-start;<br>            width: 100%;<br>        }<br>        .wandb-col {<br>            display: flex;<br>            flex-direction: column;<br>            flex-basis: 100%;<br>            flex: 1;<br>            padding: 10px;<br>        }<br>    </style><br><div class=\"wandb-row\"><div class=\"wandb-col\"><h3>Run history:</h3><br/><table class=\"wandb\"><tr><td>epoch</td><td>▁▁▁▁▂▂▂▂▂▃▃▃▃▃▃▄▄▄▄▄▅▅▅▅▅▆▆▆▆▆▆▇▇▇▇▇▇███</td></tr><tr><td>loss</td><td>█▇▇▇▇▆▆▆▆▅▅▅▄▅▄▄▃▃▃▃▃▂▃▂▂▂▂▂▂▂▂▁▁▁▁▁▁▁▁▁</td></tr><tr><td>test_acc</td><td>▁▃▃▃▂▃▄▅▅▅▆▅▇▆▆▆▆▇▆█▆█▆▇▇▆▆▆▆█▆▆▇████▇█▇</td></tr><tr><td>train_acc</td><td>▁▃▃▃▃▄▅▆▅▅▆▆▅▆▇▇▇▇▇▇▇█▇██▇▇██▇██████████</td></tr></table><br/></div><div class=\"wandb-col\"><h3>Run summary:</h3><br/><table class=\"wandb\"><tr><td>epoch</td><td>50</td></tr><tr><td>loss</td><td>0.51328</td></tr><tr><td>test_acc</td><td>0.74439</td></tr><tr><td>train_acc</td><td>0.75955</td></tr></table><br/></div></div>"
      ],
      "text/plain": [
       "<IPython.core.display.HTML object>"
      ]
     },
     "metadata": {},
     "output_type": "display_data"
    },
    {
     "data": {
      "text/html": [
       " View run <strong style=\"color:#cdcd00\">GCN_BFS_seed_4</strong> at: <a href='https://wandb.ai/noynetanel1-tel-aviv-university/GCN%20Graph%20classification%28Protein%29_Gal/runs/kbjsgbxn' target=\"_blank\">https://wandb.ai/noynetanel1-tel-aviv-university/GCN%20Graph%20classification%28Protein%29_Gal/runs/kbjsgbxn</a><br> View project at: <a href='https://wandb.ai/noynetanel1-tel-aviv-university/GCN%20Graph%20classification%28Protein%29_Gal' target=\"_blank\">https://wandb.ai/noynetanel1-tel-aviv-university/GCN%20Graph%20classification%28Protein%29_Gal</a><br>Synced 5 W&B file(s), 0 media file(s), 0 artifact file(s) and 0 other file(s)"
      ],
      "text/plain": [
       "<IPython.core.display.HTML object>"
      ]
     },
     "metadata": {},
     "output_type": "display_data"
    },
    {
     "data": {
      "text/html": [
       "Find logs at: <code>./wandb/run-20250820_150607-kbjsgbxn/logs</code>"
      ],
      "text/plain": [
       "<IPython.core.display.HTML object>"
      ]
     },
     "metadata": {},
     "output_type": "display_data"
    },
    {
     "data": {
      "text/html": [
       "Tracking run with wandb version 0.20.1"
      ],
      "text/plain": [
       "<IPython.core.display.HTML object>"
      ]
     },
     "metadata": {},
     "output_type": "display_data"
    },
    {
     "data": {
      "text/html": [
       "Run data is saved locally in <code>/kaggle/working/wandb/run-20250820_150827-r62hsckg</code>"
      ],
      "text/plain": [
       "<IPython.core.display.HTML object>"
      ]
     },
     "metadata": {},
     "output_type": "display_data"
    },
    {
     "data": {
      "text/html": [
       "Syncing run <strong><a href='https://wandb.ai/noynetanel1-tel-aviv-university/GCN%20Graph%20classification%28Protein%29_Gal/runs/r62hsckg' target=\"_blank\">GCN_BFS_seed_5</a></strong> to <a href='https://wandb.ai/noynetanel1-tel-aviv-university/GCN%20Graph%20classification%28Protein%29_Gal' target=\"_blank\">Weights & Biases</a> (<a href='https://wandb.me/developer-guide' target=\"_blank\">docs</a>)<br>"
      ],
      "text/plain": [
       "<IPython.core.display.HTML object>"
      ]
     },
     "metadata": {},
     "output_type": "display_data"
    },
    {
     "data": {
      "text/html": [
       " View project at <a href='https://wandb.ai/noynetanel1-tel-aviv-university/GCN%20Graph%20classification%28Protein%29_Gal' target=\"_blank\">https://wandb.ai/noynetanel1-tel-aviv-university/GCN%20Graph%20classification%28Protein%29_Gal</a>"
      ],
      "text/plain": [
       "<IPython.core.display.HTML object>"
      ]
     },
     "metadata": {},
     "output_type": "display_data"
    },
    {
     "data": {
      "text/html": [
       " View run at <a href='https://wandb.ai/noynetanel1-tel-aviv-university/GCN%20Graph%20classification%28Protein%29_Gal/runs/r62hsckg' target=\"_blank\">https://wandb.ai/noynetanel1-tel-aviv-university/GCN%20Graph%20classification%28Protein%29_Gal/runs/r62hsckg</a>"
      ],
      "text/plain": [
       "<IPython.core.display.HTML object>"
      ]
     },
     "metadata": {},
     "output_type": "display_data"
    },
    {
     "name": "stdout",
     "output_type": "stream",
     "text": [
      "Seed 5 | Epoch 001 | Loss: 0.6822 | Test Acc: 0.6143\n",
      "Seed 5 | Epoch 002 | Loss: 0.6711 | Test Acc: 0.6143\n",
      "Seed 5 | Epoch 003 | Loss: 0.6661 | Test Acc: 0.6278\n",
      "Seed 5 | Epoch 004 | Loss: 0.6608 | Test Acc: 0.6413\n",
      "Seed 5 | Epoch 005 | Loss: 0.6540 | Test Acc: 0.6457\n",
      "Seed 5 | Epoch 006 | Loss: 0.6485 | Test Acc: 0.6502\n",
      "Seed 5 | Epoch 007 | Loss: 0.6405 | Test Acc: 0.6592\n",
      "Seed 5 | Epoch 008 | Loss: 0.6297 | Test Acc: 0.6457\n",
      "Seed 5 | Epoch 009 | Loss: 0.6227 | Test Acc: 0.6996\n",
      "Seed 5 | Epoch 010 | Loss: 0.6185 | Test Acc: 0.6996\n",
      "Seed 5 | Epoch 011 | Loss: 0.6122 | Test Acc: 0.6906\n",
      "Seed 5 | Epoch 012 | Loss: 0.6035 | Test Acc: 0.6951\n",
      "Seed 5 | Epoch 013 | Loss: 0.5974 | Test Acc: 0.7040\n",
      "Seed 5 | Epoch 014 | Loss: 0.5905 | Test Acc: 0.7085\n",
      "Seed 5 | Epoch 015 | Loss: 0.5859 | Test Acc: 0.6996\n",
      "Seed 5 | Epoch 016 | Loss: 0.5960 | Test Acc: 0.7085\n",
      "Seed 5 | Epoch 017 | Loss: 0.5772 | Test Acc: 0.7085\n",
      "Seed 5 | Epoch 018 | Loss: 0.5750 | Test Acc: 0.7175\n",
      "Seed 5 | Epoch 019 | Loss: 0.5739 | Test Acc: 0.7130\n",
      "Seed 5 | Epoch 020 | Loss: 0.5757 | Test Acc: 0.7399\n",
      "Seed 5 | Epoch 021 | Loss: 0.5631 | Test Acc: 0.7220\n",
      "Seed 5 | Epoch 022 | Loss: 0.5584 | Test Acc: 0.7444\n",
      "Seed 5 | Epoch 023 | Loss: 0.5520 | Test Acc: 0.7534\n",
      "Seed 5 | Epoch 024 | Loss: 0.5507 | Test Acc: 0.7444\n",
      "Seed 5 | Epoch 025 | Loss: 0.5502 | Test Acc: 0.7668\n",
      "Seed 5 | Epoch 026 | Loss: 0.5490 | Test Acc: 0.7534\n",
      "Seed 5 | Epoch 027 | Loss: 0.5418 | Test Acc: 0.7489\n",
      "Seed 5 | Epoch 028 | Loss: 0.5476 | Test Acc: 0.7623\n",
      "Seed 5 | Epoch 029 | Loss: 0.5378 | Test Acc: 0.7668\n",
      "Seed 5 | Epoch 030 | Loss: 0.5352 | Test Acc: 0.7668\n",
      "Seed 5 | Epoch 031 | Loss: 0.5463 | Test Acc: 0.7713\n",
      "Seed 5 | Epoch 032 | Loss: 0.5374 | Test Acc: 0.7354\n",
      "Seed 5 | Epoch 033 | Loss: 0.5351 | Test Acc: 0.7444\n",
      "Seed 5 | Epoch 034 | Loss: 0.5414 | Test Acc: 0.7623\n",
      "Seed 5 | Epoch 035 | Loss: 0.5307 | Test Acc: 0.7354\n",
      "Seed 5 | Epoch 036 | Loss: 0.5325 | Test Acc: 0.7758\n",
      "Seed 5 | Epoch 037 | Loss: 0.5290 | Test Acc: 0.7623\n",
      "Seed 5 | Epoch 038 | Loss: 0.5434 | Test Acc: 0.7713\n",
      "Seed 5 | Epoch 039 | Loss: 0.5304 | Test Acc: 0.7489\n",
      "Seed 5 | Epoch 040 | Loss: 0.5360 | Test Acc: 0.7399\n",
      "Seed 5 | Epoch 041 | Loss: 0.5257 | Test Acc: 0.7668\n",
      "Seed 5 | Epoch 042 | Loss: 0.5208 | Test Acc: 0.7444\n",
      "Seed 5 | Epoch 043 | Loss: 0.5258 | Test Acc: 0.7758\n",
      "Seed 5 | Epoch 044 | Loss: 0.5250 | Test Acc: 0.7534\n",
      "Seed 5 | Epoch 045 | Loss: 0.5192 | Test Acc: 0.7713\n",
      "Seed 5 | Epoch 046 | Loss: 0.5219 | Test Acc: 0.7489\n",
      "Seed 5 | Epoch 047 | Loss: 0.5227 | Test Acc: 0.7713\n",
      "Seed 5 | Epoch 048 | Loss: 0.5168 | Test Acc: 0.7489\n",
      "Seed 5 | Epoch 049 | Loss: 0.5215 | Test Acc: 0.7713\n",
      "Seed 5 | Epoch 050 | Loss: 0.5193 | Test Acc: 0.7489\n"
     ]
    },
    {
     "data": {
      "text/html": [],
      "text/plain": [
       "<IPython.core.display.HTML object>"
      ]
     },
     "metadata": {},
     "output_type": "display_data"
    },
    {
     "data": {
      "text/html": [
       "<br>    <style><br>        .wandb-row {<br>            display: flex;<br>            flex-direction: row;<br>            flex-wrap: wrap;<br>            justify-content: flex-start;<br>            width: 100%;<br>        }<br>        .wandb-col {<br>            display: flex;<br>            flex-direction: column;<br>            flex-basis: 100%;<br>            flex: 1;<br>            padding: 10px;<br>        }<br>    </style><br><div class=\"wandb-row\"><div class=\"wandb-col\"><h3>Run history:</h3><br/><table class=\"wandb\"><tr><td>epoch</td><td>▁▁▁▁▂▂▂▂▂▂▃▃▃▃▃▄▄▄▄▄▅▅▅▅▅▅▆▆▆▆▆▆▇▇▇▇▇███</td></tr><tr><td>loss</td><td>██▇▇▇▆▆▅▅▅▄▄▄▃▃▃▃▃▂▂▂▂▂▂▂▂▂▂▁▂▂▁▂▁▁▁▁▁▁▁</td></tr><tr><td>test_acc</td><td>▁▁▂▂▂▃▂▅▅▄▅▅▅▅▅▅▆▇▇▇▇▇▇██▆▇▇▆█▇▆█▇██▇█▇▇</td></tr><tr><td>train_acc</td><td>▁▁▂▂▄▃▃▄▆▆▆▆▆▇▇▇▆▇▇▇▇▇▆▇▇▆▇█▇███████▇█▇█</td></tr></table><br/></div><div class=\"wandb-col\"><h3>Run summary:</h3><br/><table class=\"wandb\"><tr><td>epoch</td><td>50</td></tr><tr><td>loss</td><td>0.51926</td></tr><tr><td>test_acc</td><td>0.74888</td></tr><tr><td>train_acc</td><td>0.75955</td></tr></table><br/></div></div>"
      ],
      "text/plain": [
       "<IPython.core.display.HTML object>"
      ]
     },
     "metadata": {},
     "output_type": "display_data"
    },
    {
     "data": {
      "text/html": [
       " View run <strong style=\"color:#cdcd00\">GCN_BFS_seed_5</strong> at: <a href='https://wandb.ai/noynetanel1-tel-aviv-university/GCN%20Graph%20classification%28Protein%29_Gal/runs/r62hsckg' target=\"_blank\">https://wandb.ai/noynetanel1-tel-aviv-university/GCN%20Graph%20classification%28Protein%29_Gal/runs/r62hsckg</a><br> View project at: <a href='https://wandb.ai/noynetanel1-tel-aviv-university/GCN%20Graph%20classification%28Protein%29_Gal' target=\"_blank\">https://wandb.ai/noynetanel1-tel-aviv-university/GCN%20Graph%20classification%28Protein%29_Gal</a><br>Synced 5 W&B file(s), 0 media file(s), 0 artifact file(s) and 0 other file(s)"
      ],
      "text/plain": [
       "<IPython.core.display.HTML object>"
      ]
     },
     "metadata": {},
     "output_type": "display_data"
    },
    {
     "data": {
      "text/html": [
       "Find logs at: <code>./wandb/run-20250820_150827-r62hsckg/logs</code>"
      ],
      "text/plain": [
       "<IPython.core.display.HTML object>"
      ]
     },
     "metadata": {},
     "output_type": "display_data"
    },
    {
     "data": {
      "text/html": [
       "Tracking run with wandb version 0.20.1"
      ],
      "text/plain": [
       "<IPython.core.display.HTML object>"
      ]
     },
     "metadata": {},
     "output_type": "display_data"
    },
    {
     "data": {
      "text/html": [
       "Run data is saved locally in <code>/kaggle/working/wandb/run-20250820_151044-x00cak43</code>"
      ],
      "text/plain": [
       "<IPython.core.display.HTML object>"
      ]
     },
     "metadata": {},
     "output_type": "display_data"
    },
    {
     "data": {
      "text/html": [
       "Syncing run <strong><a href='https://wandb.ai/noynetanel1-tel-aviv-university/GCN%20Graph%20classification%28Protein%29_Gal/runs/x00cak43' target=\"_blank\">GCN_BFS_seed_6</a></strong> to <a href='https://wandb.ai/noynetanel1-tel-aviv-university/GCN%20Graph%20classification%28Protein%29_Gal' target=\"_blank\">Weights & Biases</a> (<a href='https://wandb.me/developer-guide' target=\"_blank\">docs</a>)<br>"
      ],
      "text/plain": [
       "<IPython.core.display.HTML object>"
      ]
     },
     "metadata": {},
     "output_type": "display_data"
    },
    {
     "data": {
      "text/html": [
       " View project at <a href='https://wandb.ai/noynetanel1-tel-aviv-university/GCN%20Graph%20classification%28Protein%29_Gal' target=\"_blank\">https://wandb.ai/noynetanel1-tel-aviv-university/GCN%20Graph%20classification%28Protein%29_Gal</a>"
      ],
      "text/plain": [
       "<IPython.core.display.HTML object>"
      ]
     },
     "metadata": {},
     "output_type": "display_data"
    },
    {
     "data": {
      "text/html": [
       " View run at <a href='https://wandb.ai/noynetanel1-tel-aviv-university/GCN%20Graph%20classification%28Protein%29_Gal/runs/x00cak43' target=\"_blank\">https://wandb.ai/noynetanel1-tel-aviv-university/GCN%20Graph%20classification%28Protein%29_Gal/runs/x00cak43</a>"
      ],
      "text/plain": [
       "<IPython.core.display.HTML object>"
      ]
     },
     "metadata": {},
     "output_type": "display_data"
    },
    {
     "name": "stdout",
     "output_type": "stream",
     "text": [
      "Seed 6 | Epoch 001 | Loss: 0.6785 | Test Acc: 0.6368\n",
      "Seed 6 | Epoch 002 | Loss: 0.6736 | Test Acc: 0.6368\n",
      "Seed 6 | Epoch 003 | Loss: 0.6697 | Test Acc: 0.6457\n",
      "Seed 6 | Epoch 004 | Loss: 0.6683 | Test Acc: 0.6682\n",
      "Seed 6 | Epoch 005 | Loss: 0.6638 | Test Acc: 0.6502\n",
      "Seed 6 | Epoch 006 | Loss: 0.6630 | Test Acc: 0.6726\n",
      "Seed 6 | Epoch 007 | Loss: 0.6602 | Test Acc: 0.6682\n",
      "Seed 6 | Epoch 008 | Loss: 0.6545 | Test Acc: 0.6682\n",
      "Seed 6 | Epoch 009 | Loss: 0.6535 | Test Acc: 0.6682\n",
      "Seed 6 | Epoch 010 | Loss: 0.6454 | Test Acc: 0.6637\n",
      "Seed 6 | Epoch 011 | Loss: 0.6409 | Test Acc: 0.6771\n",
      "Seed 6 | Epoch 012 | Loss: 0.6337 | Test Acc: 0.6996\n",
      "Seed 6 | Epoch 013 | Loss: 0.6299 | Test Acc: 0.6861\n",
      "Seed 6 | Epoch 014 | Loss: 0.6258 | Test Acc: 0.7220\n",
      "Seed 6 | Epoch 015 | Loss: 0.6249 | Test Acc: 0.7130\n",
      "Seed 6 | Epoch 016 | Loss: 0.6211 | Test Acc: 0.6951\n",
      "Seed 6 | Epoch 017 | Loss: 0.6181 | Test Acc: 0.7175\n",
      "Seed 6 | Epoch 018 | Loss: 0.6078 | Test Acc: 0.7354\n",
      "Seed 6 | Epoch 019 | Loss: 0.6059 | Test Acc: 0.7265\n",
      "Seed 6 | Epoch 020 | Loss: 0.5950 | Test Acc: 0.7265\n",
      "Seed 6 | Epoch 021 | Loss: 0.5993 | Test Acc: 0.7309\n",
      "Seed 6 | Epoch 022 | Loss: 0.5925 | Test Acc: 0.7309\n",
      "Seed 6 | Epoch 023 | Loss: 0.5827 | Test Acc: 0.7489\n",
      "Seed 6 | Epoch 024 | Loss: 0.5881 | Test Acc: 0.7578\n",
      "Seed 6 | Epoch 025 | Loss: 0.5758 | Test Acc: 0.7713\n",
      "Seed 6 | Epoch 026 | Loss: 0.5918 | Test Acc: 0.7668\n",
      "Seed 6 | Epoch 027 | Loss: 0.5810 | Test Acc: 0.7713\n",
      "Seed 6 | Epoch 028 | Loss: 0.5685 | Test Acc: 0.7713\n",
      "Seed 6 | Epoch 029 | Loss: 0.5653 | Test Acc: 0.7937\n",
      "Seed 6 | Epoch 030 | Loss: 0.5597 | Test Acc: 0.7982\n",
      "Seed 6 | Epoch 031 | Loss: 0.5601 | Test Acc: 0.7937\n",
      "Seed 6 | Epoch 032 | Loss: 0.5668 | Test Acc: 0.7937\n",
      "Seed 6 | Epoch 033 | Loss: 0.5614 | Test Acc: 0.7489\n",
      "Seed 6 | Epoch 034 | Loss: 0.5528 | Test Acc: 0.7982\n",
      "Seed 6 | Epoch 035 | Loss: 0.5504 | Test Acc: 0.7803\n",
      "Seed 6 | Epoch 036 | Loss: 0.5509 | Test Acc: 0.7937\n",
      "Seed 6 | Epoch 037 | Loss: 0.5487 | Test Acc: 0.7803\n",
      "Seed 6 | Epoch 038 | Loss: 0.5511 | Test Acc: 0.7713\n",
      "Seed 6 | Epoch 039 | Loss: 0.5475 | Test Acc: 0.7668\n",
      "Seed 6 | Epoch 040 | Loss: 0.5433 | Test Acc: 0.7713\n",
      "Seed 6 | Epoch 041 | Loss: 0.5395 | Test Acc: 0.7534\n",
      "Seed 6 | Epoch 042 | Loss: 0.5526 | Test Acc: 0.7848\n",
      "Seed 6 | Epoch 043 | Loss: 0.5562 | Test Acc: 0.7892\n",
      "Seed 6 | Epoch 044 | Loss: 0.5479 | Test Acc: 0.7982\n",
      "Seed 6 | Epoch 045 | Loss: 0.5417 | Test Acc: 0.7848\n",
      "Seed 6 | Epoch 046 | Loss: 0.5585 | Test Acc: 0.7982\n",
      "Seed 6 | Epoch 047 | Loss: 0.5309 | Test Acc: 0.7848\n",
      "Seed 6 | Epoch 048 | Loss: 0.5417 | Test Acc: 0.7848\n",
      "Seed 6 | Epoch 049 | Loss: 0.5322 | Test Acc: 0.7892\n",
      "Seed 6 | Epoch 050 | Loss: 0.5331 | Test Acc: 0.7982\n"
     ]
    },
    {
     "data": {
      "text/html": [],
      "text/plain": [
       "<IPython.core.display.HTML object>"
      ]
     },
     "metadata": {},
     "output_type": "display_data"
    },
    {
     "data": {
      "text/html": [
       "<br>    <style><br>        .wandb-row {<br>            display: flex;<br>            flex-direction: row;<br>            flex-wrap: wrap;<br>            justify-content: flex-start;<br>            width: 100%;<br>        }<br>        .wandb-col {<br>            display: flex;<br>            flex-direction: column;<br>            flex-basis: 100%;<br>            flex: 1;<br>            padding: 10px;<br>        }<br>    </style><br><div class=\"wandb-row\"><div class=\"wandb-col\"><h3>Run history:</h3><br/><table class=\"wandb\"><tr><td>epoch</td><td>▁▁▁▁▂▂▂▂▂▂▃▃▃▃▃▄▄▄▄▄▄▅▅▅▅▅▆▆▆▆▆▆▇▇▇▇▇▇██</td></tr><tr><td>loss</td><td>████▇▇▇▇▆▆▆▆▅▅▅▅▄▄▄▃▃▃▃▃▂▃▂▂▂▂▂▂▂▁▂▂▂▁▂▁</td></tr><tr><td>test_acc</td><td>▁▁▁▂▂▂▂▂▃▄▅▄▄▄▅▅▅▅▆▆▇▇███▆█▇█▇▇▇▆▇█▇█▇▇█</td></tr><tr><td>train_acc</td><td>▁▁▂▃▂▃▃▄▃▄▅▄▄▆▆▆▆▅▆▇▇▇▇▇▇▇▆▇█▇▇██▆▇███▇▇</td></tr></table><br/></div><div class=\"wandb-col\"><h3>Run summary:</h3><br/><table class=\"wandb\"><tr><td>epoch</td><td>50</td></tr><tr><td>loss</td><td>0.53311</td></tr><tr><td>test_acc</td><td>0.79821</td></tr><tr><td>train_acc</td><td>0.75393</td></tr></table><br/></div></div>"
      ],
      "text/plain": [
       "<IPython.core.display.HTML object>"
      ]
     },
     "metadata": {},
     "output_type": "display_data"
    },
    {
     "data": {
      "text/html": [
       " View run <strong style=\"color:#cdcd00\">GCN_BFS_seed_6</strong> at: <a href='https://wandb.ai/noynetanel1-tel-aviv-university/GCN%20Graph%20classification%28Protein%29_Gal/runs/x00cak43' target=\"_blank\">https://wandb.ai/noynetanel1-tel-aviv-university/GCN%20Graph%20classification%28Protein%29_Gal/runs/x00cak43</a><br> View project at: <a href='https://wandb.ai/noynetanel1-tel-aviv-university/GCN%20Graph%20classification%28Protein%29_Gal' target=\"_blank\">https://wandb.ai/noynetanel1-tel-aviv-university/GCN%20Graph%20classification%28Protein%29_Gal</a><br>Synced 5 W&B file(s), 0 media file(s), 0 artifact file(s) and 0 other file(s)"
      ],
      "text/plain": [
       "<IPython.core.display.HTML object>"
      ]
     },
     "metadata": {},
     "output_type": "display_data"
    },
    {
     "data": {
      "text/html": [
       "Find logs at: <code>./wandb/run-20250820_151044-x00cak43/logs</code>"
      ],
      "text/plain": [
       "<IPython.core.display.HTML object>"
      ]
     },
     "metadata": {},
     "output_type": "display_data"
    },
    {
     "data": {
      "text/html": [
       "Tracking run with wandb version 0.20.1"
      ],
      "text/plain": [
       "<IPython.core.display.HTML object>"
      ]
     },
     "metadata": {},
     "output_type": "display_data"
    },
    {
     "data": {
      "text/html": [
       "Run data is saved locally in <code>/kaggle/working/wandb/run-20250820_151300-u2pby7ie</code>"
      ],
      "text/plain": [
       "<IPython.core.display.HTML object>"
      ]
     },
     "metadata": {},
     "output_type": "display_data"
    },
    {
     "data": {
      "text/html": [
       "Syncing run <strong><a href='https://wandb.ai/noynetanel1-tel-aviv-university/GCN%20Graph%20classification%28Protein%29_Gal/runs/u2pby7ie' target=\"_blank\">GCN_BFS_seed_7</a></strong> to <a href='https://wandb.ai/noynetanel1-tel-aviv-university/GCN%20Graph%20classification%28Protein%29_Gal' target=\"_blank\">Weights & Biases</a> (<a href='https://wandb.me/developer-guide' target=\"_blank\">docs</a>)<br>"
      ],
      "text/plain": [
       "<IPython.core.display.HTML object>"
      ]
     },
     "metadata": {},
     "output_type": "display_data"
    },
    {
     "data": {
      "text/html": [
       " View project at <a href='https://wandb.ai/noynetanel1-tel-aviv-university/GCN%20Graph%20classification%28Protein%29_Gal' target=\"_blank\">https://wandb.ai/noynetanel1-tel-aviv-university/GCN%20Graph%20classification%28Protein%29_Gal</a>"
      ],
      "text/plain": [
       "<IPython.core.display.HTML object>"
      ]
     },
     "metadata": {},
     "output_type": "display_data"
    },
    {
     "data": {
      "text/html": [
       " View run at <a href='https://wandb.ai/noynetanel1-tel-aviv-university/GCN%20Graph%20classification%28Protein%29_Gal/runs/u2pby7ie' target=\"_blank\">https://wandb.ai/noynetanel1-tel-aviv-university/GCN%20Graph%20classification%28Protein%29_Gal/runs/u2pby7ie</a>"
      ],
      "text/plain": [
       "<IPython.core.display.HTML object>"
      ]
     },
     "metadata": {},
     "output_type": "display_data"
    },
    {
     "name": "stdout",
     "output_type": "stream",
     "text": [
      "Seed 7 | Epoch 001 | Loss: 0.6783 | Test Acc: 0.5785\n",
      "Seed 7 | Epoch 002 | Loss: 0.6693 | Test Acc: 0.5785\n",
      "Seed 7 | Epoch 003 | Loss: 0.6645 | Test Acc: 0.5830\n",
      "Seed 7 | Epoch 004 | Loss: 0.6619 | Test Acc: 0.5919\n",
      "Seed 7 | Epoch 005 | Loss: 0.6566 | Test Acc: 0.6054\n",
      "Seed 7 | Epoch 006 | Loss: 0.6525 | Test Acc: 0.6009\n",
      "Seed 7 | Epoch 007 | Loss: 0.6482 | Test Acc: 0.5874\n",
      "Seed 7 | Epoch 008 | Loss: 0.6452 | Test Acc: 0.5964\n",
      "Seed 7 | Epoch 009 | Loss: 0.6390 | Test Acc: 0.5919\n",
      "Seed 7 | Epoch 010 | Loss: 0.6339 | Test Acc: 0.6323\n",
      "Seed 7 | Epoch 011 | Loss: 0.6310 | Test Acc: 0.6323\n",
      "Seed 7 | Epoch 012 | Loss: 0.6312 | Test Acc: 0.6009\n",
      "Seed 7 | Epoch 013 | Loss: 0.6289 | Test Acc: 0.6413\n",
      "Seed 7 | Epoch 014 | Loss: 0.6148 | Test Acc: 0.6188\n",
      "Seed 7 | Epoch 015 | Loss: 0.6184 | Test Acc: 0.6592\n",
      "Seed 7 | Epoch 016 | Loss: 0.6059 | Test Acc: 0.6951\n",
      "Seed 7 | Epoch 017 | Loss: 0.5985 | Test Acc: 0.6951\n",
      "Seed 7 | Epoch 018 | Loss: 0.5904 | Test Acc: 0.6637\n",
      "Seed 7 | Epoch 019 | Loss: 0.5861 | Test Acc: 0.6816\n",
      "Seed 7 | Epoch 020 | Loss: 0.5836 | Test Acc: 0.7040\n",
      "Seed 7 | Epoch 021 | Loss: 0.5843 | Test Acc: 0.7265\n",
      "Seed 7 | Epoch 022 | Loss: 0.5811 | Test Acc: 0.7085\n",
      "Seed 7 | Epoch 023 | Loss: 0.5680 | Test Acc: 0.7040\n",
      "Seed 7 | Epoch 024 | Loss: 0.5652 | Test Acc: 0.7399\n",
      "Seed 7 | Epoch 025 | Loss: 0.5667 | Test Acc: 0.7309\n",
      "Seed 7 | Epoch 026 | Loss: 0.5659 | Test Acc: 0.7085\n",
      "Seed 7 | Epoch 027 | Loss: 0.5577 | Test Acc: 0.7489\n",
      "Seed 7 | Epoch 028 | Loss: 0.5542 | Test Acc: 0.7444\n",
      "Seed 7 | Epoch 029 | Loss: 0.5475 | Test Acc: 0.7534\n",
      "Seed 7 | Epoch 030 | Loss: 0.5576 | Test Acc: 0.6951\n",
      "Seed 7 | Epoch 031 | Loss: 0.5554 | Test Acc: 0.7489\n",
      "Seed 7 | Epoch 032 | Loss: 0.5437 | Test Acc: 0.7399\n",
      "Seed 7 | Epoch 033 | Loss: 0.5424 | Test Acc: 0.7354\n",
      "Seed 7 | Epoch 034 | Loss: 0.5363 | Test Acc: 0.7578\n",
      "Seed 7 | Epoch 035 | Loss: 0.5355 | Test Acc: 0.7623\n",
      "Seed 7 | Epoch 036 | Loss: 0.5332 | Test Acc: 0.7668\n",
      "Seed 7 | Epoch 037 | Loss: 0.5372 | Test Acc: 0.7534\n",
      "Seed 7 | Epoch 038 | Loss: 0.5379 | Test Acc: 0.7668\n",
      "Seed 7 | Epoch 039 | Loss: 0.5269 | Test Acc: 0.7578\n",
      "Seed 7 | Epoch 040 | Loss: 0.5262 | Test Acc: 0.7623\n",
      "Seed 7 | Epoch 041 | Loss: 0.5238 | Test Acc: 0.7713\n",
      "Seed 7 | Epoch 042 | Loss: 0.5284 | Test Acc: 0.7578\n",
      "Seed 7 | Epoch 043 | Loss: 0.5211 | Test Acc: 0.6906\n",
      "Seed 7 | Epoch 044 | Loss: 0.5419 | Test Acc: 0.7668\n",
      "Seed 7 | Epoch 045 | Loss: 0.5374 | Test Acc: 0.7309\n",
      "Seed 7 | Epoch 046 | Loss: 0.5292 | Test Acc: 0.7713\n",
      "Seed 7 | Epoch 047 | Loss: 0.5347 | Test Acc: 0.7444\n",
      "Seed 7 | Epoch 048 | Loss: 0.5286 | Test Acc: 0.7668\n",
      "Seed 7 | Epoch 049 | Loss: 0.5183 | Test Acc: 0.7713\n",
      "Seed 7 | Epoch 050 | Loss: 0.5265 | Test Acc: 0.7444\n"
     ]
    },
    {
     "data": {
      "text/html": [],
      "text/plain": [
       "<IPython.core.display.HTML object>"
      ]
     },
     "metadata": {},
     "output_type": "display_data"
    },
    {
     "data": {
      "text/html": [
       "<br>    <style><br>        .wandb-row {<br>            display: flex;<br>            flex-direction: row;<br>            flex-wrap: wrap;<br>            justify-content: flex-start;<br>            width: 100%;<br>        }<br>        .wandb-col {<br>            display: flex;<br>            flex-direction: column;<br>            flex-basis: 100%;<br>            flex: 1;<br>            padding: 10px;<br>        }<br>    </style><br><div class=\"wandb-row\"><div class=\"wandb-col\"><h3>Run history:</h3><br/><table class=\"wandb\"><tr><td>epoch</td><td>▁▁▁▂▂▂▂▂▂▃▃▃▃▃▃▄▄▄▄▄▅▅▅▅▅▅▆▆▆▆▆▇▇▇▇▇▇███</td></tr><tr><td>loss</td><td>██▇▇▇▇▇▆▆▆▆▅▅▄▄▄▄▄▃▃▃▃▂▂▃▂▂▂▂▂▁▁▁▁▁▂▁▂▁▁</td></tr><tr><td>test_acc</td><td>▁▁▁▁▂▁▂▁▃▃▂▄▅▅▄▆▆▆▆▇▇▇▇▅▇▇███▇████▅▇█▇█▇</td></tr><tr><td>train_acc</td><td>▁▁▁▁▂▃▂▃▅▄▄▃▅▆▆▆▆▇▇▇▇▇▇▇█▇▇▇▇█▇██▇██▇███</td></tr></table><br/></div><div class=\"wandb-col\"><h3>Run summary:</h3><br/><table class=\"wandb\"><tr><td>epoch</td><td>50</td></tr><tr><td>loss</td><td>0.52648</td></tr><tr><td>test_acc</td><td>0.74439</td></tr><tr><td>train_acc</td><td>0.75281</td></tr></table><br/></div></div>"
      ],
      "text/plain": [
       "<IPython.core.display.HTML object>"
      ]
     },
     "metadata": {},
     "output_type": "display_data"
    },
    {
     "data": {
      "text/html": [
       " View run <strong style=\"color:#cdcd00\">GCN_BFS_seed_7</strong> at: <a href='https://wandb.ai/noynetanel1-tel-aviv-university/GCN%20Graph%20classification%28Protein%29_Gal/runs/u2pby7ie' target=\"_blank\">https://wandb.ai/noynetanel1-tel-aviv-university/GCN%20Graph%20classification%28Protein%29_Gal/runs/u2pby7ie</a><br> View project at: <a href='https://wandb.ai/noynetanel1-tel-aviv-university/GCN%20Graph%20classification%28Protein%29_Gal' target=\"_blank\">https://wandb.ai/noynetanel1-tel-aviv-university/GCN%20Graph%20classification%28Protein%29_Gal</a><br>Synced 5 W&B file(s), 0 media file(s), 0 artifact file(s) and 0 other file(s)"
      ],
      "text/plain": [
       "<IPython.core.display.HTML object>"
      ]
     },
     "metadata": {},
     "output_type": "display_data"
    },
    {
     "data": {
      "text/html": [
       "Find logs at: <code>./wandb/run-20250820_151300-u2pby7ie/logs</code>"
      ],
      "text/plain": [
       "<IPython.core.display.HTML object>"
      ]
     },
     "metadata": {},
     "output_type": "display_data"
    },
    {
     "data": {
      "text/html": [
       "Tracking run with wandb version 0.20.1"
      ],
      "text/plain": [
       "<IPython.core.display.HTML object>"
      ]
     },
     "metadata": {},
     "output_type": "display_data"
    },
    {
     "data": {
      "text/html": [
       "Run data is saved locally in <code>/kaggle/working/wandb/run-20250820_151523-4xaoce0s</code>"
      ],
      "text/plain": [
       "<IPython.core.display.HTML object>"
      ]
     },
     "metadata": {},
     "output_type": "display_data"
    },
    {
     "data": {
      "text/html": [
       "Syncing run <strong><a href='https://wandb.ai/noynetanel1-tel-aviv-university/GCN%20Graph%20classification%28Protein%29_Gal/runs/4xaoce0s' target=\"_blank\">GCN_BFS_seed_8</a></strong> to <a href='https://wandb.ai/noynetanel1-tel-aviv-university/GCN%20Graph%20classification%28Protein%29_Gal' target=\"_blank\">Weights & Biases</a> (<a href='https://wandb.me/developer-guide' target=\"_blank\">docs</a>)<br>"
      ],
      "text/plain": [
       "<IPython.core.display.HTML object>"
      ]
     },
     "metadata": {},
     "output_type": "display_data"
    },
    {
     "data": {
      "text/html": [
       " View project at <a href='https://wandb.ai/noynetanel1-tel-aviv-university/GCN%20Graph%20classification%28Protein%29_Gal' target=\"_blank\">https://wandb.ai/noynetanel1-tel-aviv-university/GCN%20Graph%20classification%28Protein%29_Gal</a>"
      ],
      "text/plain": [
       "<IPython.core.display.HTML object>"
      ]
     },
     "metadata": {},
     "output_type": "display_data"
    },
    {
     "data": {
      "text/html": [
       " View run at <a href='https://wandb.ai/noynetanel1-tel-aviv-university/GCN%20Graph%20classification%28Protein%29_Gal/runs/4xaoce0s' target=\"_blank\">https://wandb.ai/noynetanel1-tel-aviv-university/GCN%20Graph%20classification%28Protein%29_Gal/runs/4xaoce0s</a>"
      ],
      "text/plain": [
       "<IPython.core.display.HTML object>"
      ]
     },
     "metadata": {},
     "output_type": "display_data"
    },
    {
     "name": "stdout",
     "output_type": "stream",
     "text": [
      "Seed 8 | Epoch 001 | Loss: 0.6778 | Test Acc: 0.5426\n",
      "Seed 8 | Epoch 002 | Loss: 0.6635 | Test Acc: 0.5426\n",
      "Seed 8 | Epoch 003 | Loss: 0.6594 | Test Acc: 0.5605\n",
      "Seed 8 | Epoch 004 | Loss: 0.6535 | Test Acc: 0.5695\n",
      "Seed 8 | Epoch 005 | Loss: 0.6478 | Test Acc: 0.5650\n",
      "Seed 8 | Epoch 006 | Loss: 0.6435 | Test Acc: 0.5605\n",
      "Seed 8 | Epoch 007 | Loss: 0.6336 | Test Acc: 0.5695\n",
      "Seed 8 | Epoch 008 | Loss: 0.6285 | Test Acc: 0.6368\n",
      "Seed 8 | Epoch 009 | Loss: 0.6217 | Test Acc: 0.5650\n",
      "Seed 8 | Epoch 010 | Loss: 0.6143 | Test Acc: 0.6457\n",
      "Seed 8 | Epoch 011 | Loss: 0.6068 | Test Acc: 0.6009\n",
      "Seed 8 | Epoch 012 | Loss: 0.6025 | Test Acc: 0.6457\n",
      "Seed 8 | Epoch 013 | Loss: 0.5933 | Test Acc: 0.6592\n",
      "Seed 8 | Epoch 014 | Loss: 0.5875 | Test Acc: 0.6682\n",
      "Seed 8 | Epoch 015 | Loss: 0.5831 | Test Acc: 0.6547\n",
      "Seed 8 | Epoch 016 | Loss: 0.5788 | Test Acc: 0.6592\n",
      "Seed 8 | Epoch 017 | Loss: 0.5745 | Test Acc: 0.6637\n",
      "Seed 8 | Epoch 018 | Loss: 0.5717 | Test Acc: 0.6547\n",
      "Seed 8 | Epoch 019 | Loss: 0.5656 | Test Acc: 0.6592\n",
      "Seed 8 | Epoch 020 | Loss: 0.5583 | Test Acc: 0.6592\n",
      "Seed 8 | Epoch 021 | Loss: 0.5584 | Test Acc: 0.6592\n",
      "Seed 8 | Epoch 022 | Loss: 0.5525 | Test Acc: 0.6637\n",
      "Seed 8 | Epoch 023 | Loss: 0.5494 | Test Acc: 0.6637\n",
      "Seed 8 | Epoch 024 | Loss: 0.5459 | Test Acc: 0.6682\n",
      "Seed 8 | Epoch 025 | Loss: 0.5478 | Test Acc: 0.6816\n",
      "Seed 8 | Epoch 026 | Loss: 0.5373 | Test Acc: 0.6682\n",
      "Seed 8 | Epoch 027 | Loss: 0.5332 | Test Acc: 0.6996\n",
      "Seed 8 | Epoch 028 | Loss: 0.5370 | Test Acc: 0.6771\n",
      "Seed 8 | Epoch 029 | Loss: 0.5293 | Test Acc: 0.6816\n",
      "Seed 8 | Epoch 030 | Loss: 0.5320 | Test Acc: 0.6682\n",
      "Seed 8 | Epoch 031 | Loss: 0.5246 | Test Acc: 0.6771\n",
      "Seed 8 | Epoch 032 | Loss: 0.5237 | Test Acc: 0.6861\n",
      "Seed 8 | Epoch 033 | Loss: 0.5313 | Test Acc: 0.6996\n",
      "Seed 8 | Epoch 034 | Loss: 0.5172 | Test Acc: 0.7085\n",
      "Seed 8 | Epoch 035 | Loss: 0.5194 | Test Acc: 0.6996\n",
      "Seed 8 | Epoch 036 | Loss: 0.5203 | Test Acc: 0.6951\n",
      "Seed 8 | Epoch 037 | Loss: 0.5244 | Test Acc: 0.6951\n",
      "Seed 8 | Epoch 038 | Loss: 0.5161 | Test Acc: 0.7040\n",
      "Seed 8 | Epoch 039 | Loss: 0.5181 | Test Acc: 0.6861\n",
      "Seed 8 | Epoch 040 | Loss: 0.5136 | Test Acc: 0.7040\n",
      "Seed 8 | Epoch 041 | Loss: 0.5132 | Test Acc: 0.7040\n",
      "Seed 8 | Epoch 042 | Loss: 0.5120 | Test Acc: 0.7220\n",
      "Seed 8 | Epoch 043 | Loss: 0.5096 | Test Acc: 0.7085\n",
      "Seed 8 | Epoch 044 | Loss: 0.5119 | Test Acc: 0.7175\n",
      "Seed 8 | Epoch 045 | Loss: 0.5350 | Test Acc: 0.6906\n",
      "Seed 8 | Epoch 046 | Loss: 0.5110 | Test Acc: 0.6996\n",
      "Seed 8 | Epoch 047 | Loss: 0.5106 | Test Acc: 0.7220\n",
      "Seed 8 | Epoch 048 | Loss: 0.5160 | Test Acc: 0.7040\n",
      "Seed 8 | Epoch 049 | Loss: 0.5004 | Test Acc: 0.7309\n",
      "Seed 8 | Epoch 050 | Loss: 0.5036 | Test Acc: 0.7220\n"
     ]
    },
    {
     "data": {
      "text/html": [],
      "text/plain": [
       "<IPython.core.display.HTML object>"
      ]
     },
     "metadata": {},
     "output_type": "display_data"
    },
    {
     "data": {
      "text/html": [
       "<br>    <style><br>        .wandb-row {<br>            display: flex;<br>            flex-direction: row;<br>            flex-wrap: wrap;<br>            justify-content: flex-start;<br>            width: 100%;<br>        }<br>        .wandb-col {<br>            display: flex;<br>            flex-direction: column;<br>            flex-basis: 100%;<br>            flex: 1;<br>            padding: 10px;<br>        }<br>    </style><br><div class=\"wandb-row\"><div class=\"wandb-col\"><h3>Run history:</h3><br/><table class=\"wandb\"><tr><td>epoch</td><td>▁▁▁▁▂▂▂▂▂▂▃▃▃▃▃▄▄▄▄▄▅▅▅▅▅▅▆▆▆▆▆▆▇▇▇▇▇███</td></tr><tr><td>loss</td><td>█▇▇▇▇▆▆▆▅▅▅▄▄▄▄▃▃▃▃▃▂▂▂▂▂▂▂▂▂▂▁▂▁▁▁▂▁▁▁▁</td></tr><tr><td>test_acc</td><td>▁▁▂▂▂▂▅▂▅▅▆▅▆▆▅▆▆▆▆▆▆▇▆▆▆▇▇▇▇▇▇▇▇▇██▇█▇█</td></tr><tr><td>train_acc</td><td>▁▁▂▂▃▄▃▅▅▄▆▆▆▆▆▇▇▇▆▇▇▇█▇▇▇▇██▇▇████▇████</td></tr></table><br/></div><div class=\"wandb-col\"><h3>Run summary:</h3><br/><table class=\"wandb\"><tr><td>epoch</td><td>50</td></tr><tr><td>loss</td><td>0.50364</td></tr><tr><td>test_acc</td><td>0.72197</td></tr><tr><td>train_acc</td><td>0.76742</td></tr></table><br/></div></div>"
      ],
      "text/plain": [
       "<IPython.core.display.HTML object>"
      ]
     },
     "metadata": {},
     "output_type": "display_data"
    },
    {
     "data": {
      "text/html": [
       " View run <strong style=\"color:#cdcd00\">GCN_BFS_seed_8</strong> at: <a href='https://wandb.ai/noynetanel1-tel-aviv-university/GCN%20Graph%20classification%28Protein%29_Gal/runs/4xaoce0s' target=\"_blank\">https://wandb.ai/noynetanel1-tel-aviv-university/GCN%20Graph%20classification%28Protein%29_Gal/runs/4xaoce0s</a><br> View project at: <a href='https://wandb.ai/noynetanel1-tel-aviv-university/GCN%20Graph%20classification%28Protein%29_Gal' target=\"_blank\">https://wandb.ai/noynetanel1-tel-aviv-university/GCN%20Graph%20classification%28Protein%29_Gal</a><br>Synced 5 W&B file(s), 0 media file(s), 0 artifact file(s) and 0 other file(s)"
      ],
      "text/plain": [
       "<IPython.core.display.HTML object>"
      ]
     },
     "metadata": {},
     "output_type": "display_data"
    },
    {
     "data": {
      "text/html": [
       "Find logs at: <code>./wandb/run-20250820_151523-4xaoce0s/logs</code>"
      ],
      "text/plain": [
       "<IPython.core.display.HTML object>"
      ]
     },
     "metadata": {},
     "output_type": "display_data"
    },
    {
     "data": {
      "text/html": [
       "Tracking run with wandb version 0.20.1"
      ],
      "text/plain": [
       "<IPython.core.display.HTML object>"
      ]
     },
     "metadata": {},
     "output_type": "display_data"
    },
    {
     "data": {
      "text/html": [
       "Run data is saved locally in <code>/kaggle/working/wandb/run-20250820_151739-a55trn5p</code>"
      ],
      "text/plain": [
       "<IPython.core.display.HTML object>"
      ]
     },
     "metadata": {},
     "output_type": "display_data"
    },
    {
     "data": {
      "text/html": [
       "Syncing run <strong><a href='https://wandb.ai/noynetanel1-tel-aviv-university/GCN%20Graph%20classification%28Protein%29_Gal/runs/a55trn5p' target=\"_blank\">GCN_BFS_seed_9</a></strong> to <a href='https://wandb.ai/noynetanel1-tel-aviv-university/GCN%20Graph%20classification%28Protein%29_Gal' target=\"_blank\">Weights & Biases</a> (<a href='https://wandb.me/developer-guide' target=\"_blank\">docs</a>)<br>"
      ],
      "text/plain": [
       "<IPython.core.display.HTML object>"
      ]
     },
     "metadata": {},
     "output_type": "display_data"
    },
    {
     "data": {
      "text/html": [
       " View project at <a href='https://wandb.ai/noynetanel1-tel-aviv-university/GCN%20Graph%20classification%28Protein%29_Gal' target=\"_blank\">https://wandb.ai/noynetanel1-tel-aviv-university/GCN%20Graph%20classification%28Protein%29_Gal</a>"
      ],
      "text/plain": [
       "<IPython.core.display.HTML object>"
      ]
     },
     "metadata": {},
     "output_type": "display_data"
    },
    {
     "data": {
      "text/html": [
       " View run at <a href='https://wandb.ai/noynetanel1-tel-aviv-university/GCN%20Graph%20classification%28Protein%29_Gal/runs/a55trn5p' target=\"_blank\">https://wandb.ai/noynetanel1-tel-aviv-university/GCN%20Graph%20classification%28Protein%29_Gal/runs/a55trn5p</a>"
      ],
      "text/plain": [
       "<IPython.core.display.HTML object>"
      ]
     },
     "metadata": {},
     "output_type": "display_data"
    },
    {
     "name": "stdout",
     "output_type": "stream",
     "text": [
      "Seed 9 | Epoch 001 | Loss: 0.6742 | Test Acc: 0.5874\n",
      "Seed 9 | Epoch 002 | Loss: 0.6680 | Test Acc: 0.5874\n",
      "Seed 9 | Epoch 003 | Loss: 0.6637 | Test Acc: 0.5919\n",
      "Seed 9 | Epoch 004 | Loss: 0.6602 | Test Acc: 0.5919\n",
      "Seed 9 | Epoch 005 | Loss: 0.6558 | Test Acc: 0.5874\n",
      "Seed 9 | Epoch 006 | Loss: 0.6504 | Test Acc: 0.6054\n",
      "Seed 9 | Epoch 007 | Loss: 0.6460 | Test Acc: 0.6054\n",
      "Seed 9 | Epoch 008 | Loss: 0.6358 | Test Acc: 0.6278\n",
      "Seed 9 | Epoch 009 | Loss: 0.6287 | Test Acc: 0.6637\n",
      "Seed 9 | Epoch 010 | Loss: 0.6229 | Test Acc: 0.7265\n",
      "Seed 9 | Epoch 011 | Loss: 0.6212 | Test Acc: 0.7265\n",
      "Seed 9 | Epoch 012 | Loss: 0.6137 | Test Acc: 0.6861\n",
      "Seed 9 | Epoch 013 | Loss: 0.6067 | Test Acc: 0.7354\n",
      "Seed 9 | Epoch 014 | Loss: 0.6016 | Test Acc: 0.6906\n",
      "Seed 9 | Epoch 015 | Loss: 0.5952 | Test Acc: 0.6996\n",
      "Seed 9 | Epoch 016 | Loss: 0.5927 | Test Acc: 0.6951\n",
      "Seed 9 | Epoch 017 | Loss: 0.5862 | Test Acc: 0.6906\n",
      "Seed 9 | Epoch 018 | Loss: 0.5841 | Test Acc: 0.7489\n",
      "Seed 9 | Epoch 019 | Loss: 0.5790 | Test Acc: 0.7578\n",
      "Seed 9 | Epoch 020 | Loss: 0.5808 | Test Acc: 0.7265\n",
      "Seed 9 | Epoch 021 | Loss: 0.5761 | Test Acc: 0.7085\n",
      "Seed 9 | Epoch 022 | Loss: 0.5672 | Test Acc: 0.7309\n",
      "Seed 9 | Epoch 023 | Loss: 0.5677 | Test Acc: 0.7534\n",
      "Seed 9 | Epoch 024 | Loss: 0.5657 | Test Acc: 0.7444\n",
      "Seed 9 | Epoch 025 | Loss: 0.5623 | Test Acc: 0.7354\n",
      "Seed 9 | Epoch 026 | Loss: 0.5567 | Test Acc: 0.7399\n",
      "Seed 9 | Epoch 027 | Loss: 0.5555 | Test Acc: 0.7399\n",
      "Seed 9 | Epoch 028 | Loss: 0.5474 | Test Acc: 0.7803\n",
      "Seed 9 | Epoch 029 | Loss: 0.5485 | Test Acc: 0.7444\n",
      "Seed 9 | Epoch 030 | Loss: 0.5522 | Test Acc: 0.7444\n",
      "Seed 9 | Epoch 031 | Loss: 0.5418 | Test Acc: 0.7399\n",
      "Seed 9 | Epoch 032 | Loss: 0.5439 | Test Acc: 0.7444\n",
      "Seed 9 | Epoch 033 | Loss: 0.5453 | Test Acc: 0.7354\n",
      "Seed 9 | Epoch 034 | Loss: 0.5465 | Test Acc: 0.7220\n",
      "Seed 9 | Epoch 035 | Loss: 0.5399 | Test Acc: 0.7399\n",
      "Seed 9 | Epoch 036 | Loss: 0.5330 | Test Acc: 0.7803\n",
      "Seed 9 | Epoch 037 | Loss: 0.5361 | Test Acc: 0.7444\n",
      "Seed 9 | Epoch 038 | Loss: 0.5365 | Test Acc: 0.7623\n",
      "Seed 9 | Epoch 039 | Loss: 0.5342 | Test Acc: 0.7623\n",
      "Seed 9 | Epoch 040 | Loss: 0.5405 | Test Acc: 0.7578\n",
      "Seed 9 | Epoch 041 | Loss: 0.5322 | Test Acc: 0.7623\n",
      "Seed 9 | Epoch 042 | Loss: 0.5337 | Test Acc: 0.7534\n",
      "Seed 9 | Epoch 043 | Loss: 0.5322 | Test Acc: 0.7803\n",
      "Seed 9 | Epoch 044 | Loss: 0.5366 | Test Acc: 0.7489\n",
      "Seed 9 | Epoch 045 | Loss: 0.5336 | Test Acc: 0.7623\n",
      "Seed 9 | Epoch 046 | Loss: 0.5263 | Test Acc: 0.7578\n",
      "Seed 9 | Epoch 047 | Loss: 0.5268 | Test Acc: 0.7489\n",
      "Seed 9 | Epoch 048 | Loss: 0.5279 | Test Acc: 0.7758\n",
      "Seed 9 | Epoch 049 | Loss: 0.5314 | Test Acc: 0.7713\n",
      "Seed 9 | Epoch 050 | Loss: 0.5278 | Test Acc: 0.7713\n"
     ]
    },
    {
     "data": {
      "text/html": [],
      "text/plain": [
       "<IPython.core.display.HTML object>"
      ]
     },
     "metadata": {},
     "output_type": "display_data"
    },
    {
     "data": {
      "text/html": [
       "<br>    <style><br>        .wandb-row {<br>            display: flex;<br>            flex-direction: row;<br>            flex-wrap: wrap;<br>            justify-content: flex-start;<br>            width: 100%;<br>        }<br>        .wandb-col {<br>            display: flex;<br>            flex-direction: column;<br>            flex-basis: 100%;<br>            flex: 1;<br>            padding: 10px;<br>        }<br>    </style><br><div class=\"wandb-row\"><div class=\"wandb-col\"><h3>Run history:</h3><br/><table class=\"wandb\"><tr><td>epoch</td><td>▁▁▁▁▂▂▂▂▂▂▃▃▃▃▃▄▄▄▄▄▄▅▅▅▅▅▅▆▆▆▆▆▇▇▇▇▇▇██</td></tr><tr><td>loss</td><td>███▇▇▇▆▆▆▅▅▄▄▄▄▄▃▃▃▃▂▂▂▂▂▂▂▂▂▁▁▁▂▁▁▁▁▁▁▁</td></tr><tr><td>test_acc</td><td>▁▁▁▁▁▂▂▄▆▆▆▅▅▅▅▇▆▅▆▇▆▇▇█▇▇▇▆▆▇▇▇▇▇▇▇▇▇▇█</td></tr><tr><td>train_acc</td><td>▁▁▂▃▄▃▄▆▅▅▅▆▆▆▆▆▇▇▇██▇█▇▇▇▇██▇███████▇██</td></tr></table><br/></div><div class=\"wandb-col\"><h3>Run summary:</h3><br/><table class=\"wandb\"><tr><td>epoch</td><td>50</td></tr><tr><td>loss</td><td>0.5278</td></tr><tr><td>test_acc</td><td>0.7713</td></tr><tr><td>train_acc</td><td>0.74944</td></tr></table><br/></div></div>"
      ],
      "text/plain": [
       "<IPython.core.display.HTML object>"
      ]
     },
     "metadata": {},
     "output_type": "display_data"
    },
    {
     "data": {
      "text/html": [
       " View run <strong style=\"color:#cdcd00\">GCN_BFS_seed_9</strong> at: <a href='https://wandb.ai/noynetanel1-tel-aviv-university/GCN%20Graph%20classification%28Protein%29_Gal/runs/a55trn5p' target=\"_blank\">https://wandb.ai/noynetanel1-tel-aviv-university/GCN%20Graph%20classification%28Protein%29_Gal/runs/a55trn5p</a><br> View project at: <a href='https://wandb.ai/noynetanel1-tel-aviv-university/GCN%20Graph%20classification%28Protein%29_Gal' target=\"_blank\">https://wandb.ai/noynetanel1-tel-aviv-university/GCN%20Graph%20classification%28Protein%29_Gal</a><br>Synced 5 W&B file(s), 0 media file(s), 0 artifact file(s) and 0 other file(s)"
      ],
      "text/plain": [
       "<IPython.core.display.HTML object>"
      ]
     },
     "metadata": {},
     "output_type": "display_data"
    },
    {
     "data": {
      "text/html": [
       "Find logs at: <code>./wandb/run-20250820_151739-a55trn5p/logs</code>"
      ],
      "text/plain": [
       "<IPython.core.display.HTML object>"
      ]
     },
     "metadata": {},
     "output_type": "display_data"
    },
    {
     "data": {
      "text/html": [
       "Tracking run with wandb version 0.20.1"
      ],
      "text/plain": [
       "<IPython.core.display.HTML object>"
      ]
     },
     "metadata": {},
     "output_type": "display_data"
    },
    {
     "data": {
      "text/html": [
       "Run data is saved locally in <code>/kaggle/working/wandb/run-20250820_152005-qzj8s6qy</code>"
      ],
      "text/plain": [
       "<IPython.core.display.HTML object>"
      ]
     },
     "metadata": {},
     "output_type": "display_data"
    },
    {
     "data": {
      "text/html": [
       "Syncing run <strong><a href='https://wandb.ai/noynetanel1-tel-aviv-university/GCN%20Graph%20classification%28Protein%29_Gal/runs/qzj8s6qy' target=\"_blank\">GCN_BFS_seed_10</a></strong> to <a href='https://wandb.ai/noynetanel1-tel-aviv-university/GCN%20Graph%20classification%28Protein%29_Gal' target=\"_blank\">Weights & Biases</a> (<a href='https://wandb.me/developer-guide' target=\"_blank\">docs</a>)<br>"
      ],
      "text/plain": [
       "<IPython.core.display.HTML object>"
      ]
     },
     "metadata": {},
     "output_type": "display_data"
    },
    {
     "data": {
      "text/html": [
       " View project at <a href='https://wandb.ai/noynetanel1-tel-aviv-university/GCN%20Graph%20classification%28Protein%29_Gal' target=\"_blank\">https://wandb.ai/noynetanel1-tel-aviv-university/GCN%20Graph%20classification%28Protein%29_Gal</a>"
      ],
      "text/plain": [
       "<IPython.core.display.HTML object>"
      ]
     },
     "metadata": {},
     "output_type": "display_data"
    },
    {
     "data": {
      "text/html": [
       " View run at <a href='https://wandb.ai/noynetanel1-tel-aviv-university/GCN%20Graph%20classification%28Protein%29_Gal/runs/qzj8s6qy' target=\"_blank\">https://wandb.ai/noynetanel1-tel-aviv-university/GCN%20Graph%20classification%28Protein%29_Gal/runs/qzj8s6qy</a>"
      ],
      "text/plain": [
       "<IPython.core.display.HTML object>"
      ]
     },
     "metadata": {},
     "output_type": "display_data"
    },
    {
     "name": "stdout",
     "output_type": "stream",
     "text": [
      "Seed 10 | Epoch 001 | Loss: 0.6770 | Test Acc: 0.5471\n",
      "Seed 10 | Epoch 002 | Loss: 0.6647 | Test Acc: 0.5471\n",
      "Seed 10 | Epoch 003 | Loss: 0.6602 | Test Acc: 0.5695\n",
      "Seed 10 | Epoch 004 | Loss: 0.6551 | Test Acc: 0.5919\n",
      "Seed 10 | Epoch 005 | Loss: 0.6517 | Test Acc: 0.6143\n",
      "Seed 10 | Epoch 006 | Loss: 0.6433 | Test Acc: 0.6233\n",
      "Seed 10 | Epoch 007 | Loss: 0.6404 | Test Acc: 0.6592\n",
      "Seed 10 | Epoch 008 | Loss: 0.6324 | Test Acc: 0.6547\n",
      "Seed 10 | Epoch 009 | Loss: 0.6271 | Test Acc: 0.6009\n",
      "Seed 10 | Epoch 010 | Loss: 0.6216 | Test Acc: 0.6726\n",
      "Seed 10 | Epoch 011 | Loss: 0.6157 | Test Acc: 0.6861\n",
      "Seed 10 | Epoch 012 | Loss: 0.6124 | Test Acc: 0.6637\n",
      "Seed 10 | Epoch 013 | Loss: 0.6131 | Test Acc: 0.7085\n",
      "Seed 10 | Epoch 014 | Loss: 0.6149 | Test Acc: 0.7085\n",
      "Seed 10 | Epoch 015 | Loss: 0.6033 | Test Acc: 0.7265\n",
      "Seed 10 | Epoch 016 | Loss: 0.6004 | Test Acc: 0.6771\n",
      "Seed 10 | Epoch 017 | Loss: 0.5961 | Test Acc: 0.6502\n",
      "Seed 10 | Epoch 018 | Loss: 0.5942 | Test Acc: 0.6771\n",
      "Seed 10 | Epoch 019 | Loss: 0.5873 | Test Acc: 0.6816\n",
      "Seed 10 | Epoch 020 | Loss: 0.5817 | Test Acc: 0.6592\n",
      "Seed 10 | Epoch 021 | Loss: 0.5828 | Test Acc: 0.6906\n",
      "Seed 10 | Epoch 022 | Loss: 0.5785 | Test Acc: 0.6951\n",
      "Seed 10 | Epoch 023 | Loss: 0.5710 | Test Acc: 0.6951\n",
      "Seed 10 | Epoch 024 | Loss: 0.5672 | Test Acc: 0.6996\n",
      "Seed 10 | Epoch 025 | Loss: 0.5636 | Test Acc: 0.7085\n",
      "Seed 10 | Epoch 026 | Loss: 0.5594 | Test Acc: 0.6951\n",
      "Seed 10 | Epoch 027 | Loss: 0.5644 | Test Acc: 0.6996\n",
      "Seed 10 | Epoch 028 | Loss: 0.5544 | Test Acc: 0.6996\n",
      "Seed 10 | Epoch 029 | Loss: 0.5500 | Test Acc: 0.7489\n",
      "Seed 10 | Epoch 030 | Loss: 0.5457 | Test Acc: 0.7444\n",
      "Seed 10 | Epoch 031 | Loss: 0.5412 | Test Acc: 0.7175\n",
      "Seed 10 | Epoch 032 | Loss: 0.5415 | Test Acc: 0.7444\n",
      "Seed 10 | Epoch 033 | Loss: 0.5455 | Test Acc: 0.7220\n",
      "Seed 10 | Epoch 034 | Loss: 0.5409 | Test Acc: 0.7265\n",
      "Seed 10 | Epoch 035 | Loss: 0.5428 | Test Acc: 0.7265\n",
      "Seed 10 | Epoch 036 | Loss: 0.5381 | Test Acc: 0.7534\n",
      "Seed 10 | Epoch 037 | Loss: 0.5320 | Test Acc: 0.7668\n",
      "Seed 10 | Epoch 038 | Loss: 0.5540 | Test Acc: 0.7265\n",
      "Seed 10 | Epoch 039 | Loss: 0.5248 | Test Acc: 0.7220\n",
      "Seed 10 | Epoch 040 | Loss: 0.5236 | Test Acc: 0.7444\n",
      "Seed 10 | Epoch 041 | Loss: 0.5228 | Test Acc: 0.7220\n",
      "Seed 10 | Epoch 042 | Loss: 0.5214 | Test Acc: 0.7175\n",
      "Seed 10 | Epoch 043 | Loss: 0.5249 | Test Acc: 0.7085\n",
      "Seed 10 | Epoch 044 | Loss: 0.5585 | Test Acc: 0.7309\n",
      "Seed 10 | Epoch 045 | Loss: 0.5207 | Test Acc: 0.7623\n",
      "Seed 10 | Epoch 046 | Loss: 0.5239 | Test Acc: 0.7175\n",
      "Seed 10 | Epoch 047 | Loss: 0.5182 | Test Acc: 0.7354\n",
      "Seed 10 | Epoch 048 | Loss: 0.5270 | Test Acc: 0.7444\n",
      "Seed 10 | Epoch 049 | Loss: 0.5172 | Test Acc: 0.7220\n",
      "Seed 10 | Epoch 050 | Loss: 0.5228 | Test Acc: 0.7220\n"
     ]
    },
    {
     "data": {
      "text/html": [],
      "text/plain": [
       "<IPython.core.display.HTML object>"
      ]
     },
     "metadata": {},
     "output_type": "display_data"
    },
    {
     "data": {
      "text/html": [
       "<br>    <style><br>        .wandb-row {<br>            display: flex;<br>            flex-direction: row;<br>            flex-wrap: wrap;<br>            justify-content: flex-start;<br>            width: 100%;<br>        }<br>        .wandb-col {<br>            display: flex;<br>            flex-direction: column;<br>            flex-basis: 100%;<br>            flex: 1;<br>            padding: 10px;<br>        }<br>    </style><br><div class=\"wandb-row\"><div class=\"wandb-col\"><h3>Run history:</h3><br/><table class=\"wandb\"><tr><td>epoch</td><td>▁▁▁▁▂▂▂▂▂▃▃▃▃▃▄▄▄▄▄▄▅▅▅▅▅▆▆▆▆▆▆▇▇▇▇▇▇███</td></tr><tr><td>loss</td><td>█▇▇▇▇▆▆▆▆▅▅▅▅▅▄▄▄▄▃▃▃▃▃▂▂▂▂▂▂▂▃▁▁▁▁▁▁▁▁▁</td></tr><tr><td>test_acc</td><td>▁▁▂▂▃▅▄▃▅▆▆▆▇▅▄▅▅▆▆▆▆▆▆▆█▇▇▇▇█▇▇▇▇▆█▇▇▇▇</td></tr><tr><td>train_acc</td><td>▁▁▁▂▂▃▄▂▄▅▅▅▅▅▅▅▆▆▇▇▇▇▇▇▇▇▇▇▇▇███▇▆█████</td></tr></table><br/></div><div class=\"wandb-col\"><h3>Run summary:</h3><br/><table class=\"wandb\"><tr><td>epoch</td><td>50</td></tr><tr><td>loss</td><td>0.52283</td></tr><tr><td>test_acc</td><td>0.72197</td></tr><tr><td>train_acc</td><td>0.76404</td></tr></table><br/></div></div>"
      ],
      "text/plain": [
       "<IPython.core.display.HTML object>"
      ]
     },
     "metadata": {},
     "output_type": "display_data"
    },
    {
     "data": {
      "text/html": [
       " View run <strong style=\"color:#cdcd00\">GCN_BFS_seed_10</strong> at: <a href='https://wandb.ai/noynetanel1-tel-aviv-university/GCN%20Graph%20classification%28Protein%29_Gal/runs/qzj8s6qy' target=\"_blank\">https://wandb.ai/noynetanel1-tel-aviv-university/GCN%20Graph%20classification%28Protein%29_Gal/runs/qzj8s6qy</a><br> View project at: <a href='https://wandb.ai/noynetanel1-tel-aviv-university/GCN%20Graph%20classification%28Protein%29_Gal' target=\"_blank\">https://wandb.ai/noynetanel1-tel-aviv-university/GCN%20Graph%20classification%28Protein%29_Gal</a><br>Synced 5 W&B file(s), 0 media file(s), 0 artifact file(s) and 0 other file(s)"
      ],
      "text/plain": [
       "<IPython.core.display.HTML object>"
      ]
     },
     "metadata": {},
     "output_type": "display_data"
    },
    {
     "data": {
      "text/html": [
       "Find logs at: <code>./wandb/run-20250820_152005-qzj8s6qy/logs</code>"
      ],
      "text/plain": [
       "<IPython.core.display.HTML object>"
      ]
     },
     "metadata": {},
     "output_type": "display_data"
    },
    {
     "data": {
      "text/html": [
       "Tracking run with wandb version 0.20.1"
      ],
      "text/plain": [
       "<IPython.core.display.HTML object>"
      ]
     },
     "metadata": {},
     "output_type": "display_data"
    },
    {
     "data": {
      "text/html": [
       "Run data is saved locally in <code>/kaggle/working/wandb/run-20250820_152227-reio8ntn</code>"
      ],
      "text/plain": [
       "<IPython.core.display.HTML object>"
      ]
     },
     "metadata": {},
     "output_type": "display_data"
    },
    {
     "data": {
      "text/html": [
       "Syncing run <strong><a href='https://wandb.ai/noynetanel1-tel-aviv-university/GCN%20Graph%20classification%28Protein%29_Gal/runs/reio8ntn' target=\"_blank\">GCN_BFS_seed_11</a></strong> to <a href='https://wandb.ai/noynetanel1-tel-aviv-university/GCN%20Graph%20classification%28Protein%29_Gal' target=\"_blank\">Weights & Biases</a> (<a href='https://wandb.me/developer-guide' target=\"_blank\">docs</a>)<br>"
      ],
      "text/plain": [
       "<IPython.core.display.HTML object>"
      ]
     },
     "metadata": {},
     "output_type": "display_data"
    },
    {
     "data": {
      "text/html": [
       " View project at <a href='https://wandb.ai/noynetanel1-tel-aviv-university/GCN%20Graph%20classification%28Protein%29_Gal' target=\"_blank\">https://wandb.ai/noynetanel1-tel-aviv-university/GCN%20Graph%20classification%28Protein%29_Gal</a>"
      ],
      "text/plain": [
       "<IPython.core.display.HTML object>"
      ]
     },
     "metadata": {},
     "output_type": "display_data"
    },
    {
     "data": {
      "text/html": [
       " View run at <a href='https://wandb.ai/noynetanel1-tel-aviv-university/GCN%20Graph%20classification%28Protein%29_Gal/runs/reio8ntn' target=\"_blank\">https://wandb.ai/noynetanel1-tel-aviv-university/GCN%20Graph%20classification%28Protein%29_Gal/runs/reio8ntn</a>"
      ],
      "text/plain": [
       "<IPython.core.display.HTML object>"
      ]
     },
     "metadata": {},
     "output_type": "display_data"
    },
    {
     "name": "stdout",
     "output_type": "stream",
     "text": [
      "Seed 11 | Epoch 001 | Loss: 0.6770 | Test Acc: 0.5874\n",
      "Seed 11 | Epoch 002 | Loss: 0.6692 | Test Acc: 0.5874\n",
      "Seed 11 | Epoch 003 | Loss: 0.6640 | Test Acc: 0.6188\n",
      "Seed 11 | Epoch 004 | Loss: 0.6590 | Test Acc: 0.6233\n",
      "Seed 11 | Epoch 005 | Loss: 0.6527 | Test Acc: 0.6323\n",
      "Seed 11 | Epoch 006 | Loss: 0.6459 | Test Acc: 0.6278\n",
      "Seed 11 | Epoch 007 | Loss: 0.6433 | Test Acc: 0.6278\n",
      "Seed 11 | Epoch 008 | Loss: 0.6310 | Test Acc: 0.6816\n",
      "Seed 11 | Epoch 009 | Loss: 0.6262 | Test Acc: 0.6726\n",
      "Seed 11 | Epoch 010 | Loss: 0.6252 | Test Acc: 0.6547\n",
      "Seed 11 | Epoch 011 | Loss: 0.6161 | Test Acc: 0.6726\n",
      "Seed 11 | Epoch 012 | Loss: 0.6157 | Test Acc: 0.6682\n",
      "Seed 11 | Epoch 013 | Loss: 0.6119 | Test Acc: 0.6726\n",
      "Seed 11 | Epoch 014 | Loss: 0.6061 | Test Acc: 0.6861\n",
      "Seed 11 | Epoch 015 | Loss: 0.6045 | Test Acc: 0.6771\n",
      "Seed 11 | Epoch 016 | Loss: 0.5992 | Test Acc: 0.6861\n",
      "Seed 11 | Epoch 017 | Loss: 0.5963 | Test Acc: 0.6771\n",
      "Seed 11 | Epoch 018 | Loss: 0.6007 | Test Acc: 0.6951\n",
      "Seed 11 | Epoch 019 | Loss: 0.5904 | Test Acc: 0.6996\n",
      "Seed 11 | Epoch 020 | Loss: 0.5862 | Test Acc: 0.6951\n",
      "Seed 11 | Epoch 021 | Loss: 0.5825 | Test Acc: 0.7175\n",
      "Seed 11 | Epoch 022 | Loss: 0.5823 | Test Acc: 0.6951\n",
      "Seed 11 | Epoch 023 | Loss: 0.5791 | Test Acc: 0.7130\n",
      "Seed 11 | Epoch 024 | Loss: 0.5782 | Test Acc: 0.7130\n",
      "Seed 11 | Epoch 025 | Loss: 0.5731 | Test Acc: 0.7130\n",
      "Seed 11 | Epoch 026 | Loss: 0.5724 | Test Acc: 0.7175\n",
      "Seed 11 | Epoch 027 | Loss: 0.5681 | Test Acc: 0.7175\n",
      "Seed 11 | Epoch 028 | Loss: 0.5669 | Test Acc: 0.6996\n",
      "Seed 11 | Epoch 029 | Loss: 0.5618 | Test Acc: 0.7265\n",
      "Seed 11 | Epoch 030 | Loss: 0.5596 | Test Acc: 0.7309\n",
      "Seed 11 | Epoch 031 | Loss: 0.5804 | Test Acc: 0.7175\n",
      "Seed 11 | Epoch 032 | Loss: 0.5571 | Test Acc: 0.7175\n",
      "Seed 11 | Epoch 033 | Loss: 0.5548 | Test Acc: 0.7085\n",
      "Seed 11 | Epoch 034 | Loss: 0.5535 | Test Acc: 0.7220\n",
      "Seed 11 | Epoch 035 | Loss: 0.5484 | Test Acc: 0.7444\n",
      "Seed 11 | Epoch 036 | Loss: 0.5440 | Test Acc: 0.7489\n",
      "Seed 11 | Epoch 037 | Loss: 0.5435 | Test Acc: 0.7623\n",
      "Seed 11 | Epoch 038 | Loss: 0.5466 | Test Acc: 0.7175\n",
      "Seed 11 | Epoch 039 | Loss: 0.5425 | Test Acc: 0.7489\n",
      "Seed 11 | Epoch 040 | Loss: 0.5433 | Test Acc: 0.7489\n",
      "Seed 11 | Epoch 041 | Loss: 0.5462 | Test Acc: 0.7668\n",
      "Seed 11 | Epoch 042 | Loss: 0.5415 | Test Acc: 0.7578\n",
      "Seed 11 | Epoch 043 | Loss: 0.5401 | Test Acc: 0.7354\n",
      "Seed 11 | Epoch 044 | Loss: 0.5301 | Test Acc: 0.7399\n",
      "Seed 11 | Epoch 045 | Loss: 0.5350 | Test Acc: 0.7354\n",
      "Seed 11 | Epoch 046 | Loss: 0.5352 | Test Acc: 0.7623\n",
      "Seed 11 | Epoch 047 | Loss: 0.5369 | Test Acc: 0.7758\n",
      "Seed 11 | Epoch 048 | Loss: 0.5327 | Test Acc: 0.7265\n",
      "Seed 11 | Epoch 049 | Loss: 0.5290 | Test Acc: 0.7758\n",
      "Seed 11 | Epoch 050 | Loss: 0.5270 | Test Acc: 0.7309\n"
     ]
    },
    {
     "data": {
      "text/html": [],
      "text/plain": [
       "<IPython.core.display.HTML object>"
      ]
     },
     "metadata": {},
     "output_type": "display_data"
    },
    {
     "data": {
      "text/html": [
       "<br>    <style><br>        .wandb-row {<br>            display: flex;<br>            flex-direction: row;<br>            flex-wrap: wrap;<br>            justify-content: flex-start;<br>            width: 100%;<br>        }<br>        .wandb-col {<br>            display: flex;<br>            flex-direction: column;<br>            flex-basis: 100%;<br>            flex: 1;<br>            padding: 10px;<br>        }<br>    </style><br><div class=\"wandb-row\"><div class=\"wandb-col\"><h3>Run history:</h3><br/><table class=\"wandb\"><tr><td>epoch</td><td>▁▁▁▁▂▂▂▂▂▃▃▃▃▃▃▄▄▄▄▄▅▅▅▅▅▅▆▆▆▆▆▇▇▇▇▇▇███</td></tr><tr><td>loss</td><td>██▇▇▇▆▆▆▆▅▅▅▅▄▄▄▄▄▄▃▃▃▃▃▃▂▂▂▂▂▂▂▂▂▂▁▁▁▁▁</td></tr><tr><td>test_acc</td><td>▁▁▂▂▃▃▅▄▄▄▄▅▅▅▅▅▅▆▅▆▆▆▆▅▆▆▆▆▆▇█▆▇██▇▇█▆▇</td></tr><tr><td>train_acc</td><td>▁▁▂▂▃▃▆▅▅▅▅▆▅▆▆▆▆▆▆▇▇▇▇▇▇▇▇▇▇▇▇█▇▇█▇████</td></tr></table><br/></div><div class=\"wandb-col\"><h3>Run summary:</h3><br/><table class=\"wandb\"><tr><td>epoch</td><td>50</td></tr><tr><td>loss</td><td>0.52705</td></tr><tr><td>test_acc</td><td>0.73094</td></tr><tr><td>train_acc</td><td>0.75506</td></tr></table><br/></div></div>"
      ],
      "text/plain": [
       "<IPython.core.display.HTML object>"
      ]
     },
     "metadata": {},
     "output_type": "display_data"
    },
    {
     "data": {
      "text/html": [
       " View run <strong style=\"color:#cdcd00\">GCN_BFS_seed_11</strong> at: <a href='https://wandb.ai/noynetanel1-tel-aviv-university/GCN%20Graph%20classification%28Protein%29_Gal/runs/reio8ntn' target=\"_blank\">https://wandb.ai/noynetanel1-tel-aviv-university/GCN%20Graph%20classification%28Protein%29_Gal/runs/reio8ntn</a><br> View project at: <a href='https://wandb.ai/noynetanel1-tel-aviv-university/GCN%20Graph%20classification%28Protein%29_Gal' target=\"_blank\">https://wandb.ai/noynetanel1-tel-aviv-university/GCN%20Graph%20classification%28Protein%29_Gal</a><br>Synced 5 W&B file(s), 0 media file(s), 0 artifact file(s) and 0 other file(s)"
      ],
      "text/plain": [
       "<IPython.core.display.HTML object>"
      ]
     },
     "metadata": {},
     "output_type": "display_data"
    },
    {
     "data": {
      "text/html": [
       "Find logs at: <code>./wandb/run-20250820_152227-reio8ntn/logs</code>"
      ],
      "text/plain": [
       "<IPython.core.display.HTML object>"
      ]
     },
     "metadata": {},
     "output_type": "display_data"
    },
    {
     "data": {
      "text/html": [
       "Tracking run with wandb version 0.20.1"
      ],
      "text/plain": [
       "<IPython.core.display.HTML object>"
      ]
     },
     "metadata": {},
     "output_type": "display_data"
    },
    {
     "data": {
      "text/html": [
       "Run data is saved locally in <code>/kaggle/working/wandb/run-20250820_152443-fwj0hwlw</code>"
      ],
      "text/plain": [
       "<IPython.core.display.HTML object>"
      ]
     },
     "metadata": {},
     "output_type": "display_data"
    },
    {
     "data": {
      "text/html": [
       "Syncing run <strong><a href='https://wandb.ai/noynetanel1-tel-aviv-university/GCN%20Graph%20classification%28Protein%29_Gal/runs/fwj0hwlw' target=\"_blank\">GCN_BFS_seed_12</a></strong> to <a href='https://wandb.ai/noynetanel1-tel-aviv-university/GCN%20Graph%20classification%28Protein%29_Gal' target=\"_blank\">Weights & Biases</a> (<a href='https://wandb.me/developer-guide' target=\"_blank\">docs</a>)<br>"
      ],
      "text/plain": [
       "<IPython.core.display.HTML object>"
      ]
     },
     "metadata": {},
     "output_type": "display_data"
    },
    {
     "data": {
      "text/html": [
       " View project at <a href='https://wandb.ai/noynetanel1-tel-aviv-university/GCN%20Graph%20classification%28Protein%29_Gal' target=\"_blank\">https://wandb.ai/noynetanel1-tel-aviv-university/GCN%20Graph%20classification%28Protein%29_Gal</a>"
      ],
      "text/plain": [
       "<IPython.core.display.HTML object>"
      ]
     },
     "metadata": {},
     "output_type": "display_data"
    },
    {
     "data": {
      "text/html": [
       " View run at <a href='https://wandb.ai/noynetanel1-tel-aviv-university/GCN%20Graph%20classification%28Protein%29_Gal/runs/fwj0hwlw' target=\"_blank\">https://wandb.ai/noynetanel1-tel-aviv-university/GCN%20Graph%20classification%28Protein%29_Gal/runs/fwj0hwlw</a>"
      ],
      "text/plain": [
       "<IPython.core.display.HTML object>"
      ]
     },
     "metadata": {},
     "output_type": "display_data"
    },
    {
     "name": "stdout",
     "output_type": "stream",
     "text": [
      "Seed 12 | Epoch 001 | Loss: 0.6897 | Test Acc: 0.6547\n",
      "Seed 12 | Epoch 002 | Loss: 0.6745 | Test Acc: 0.6547\n",
      "Seed 12 | Epoch 003 | Loss: 0.6695 | Test Acc: 0.6637\n",
      "Seed 12 | Epoch 004 | Loss: 0.6633 | Test Acc: 0.6637\n",
      "Seed 12 | Epoch 005 | Loss: 0.6579 | Test Acc: 0.6771\n",
      "Seed 12 | Epoch 006 | Loss: 0.6483 | Test Acc: 0.6816\n",
      "Seed 12 | Epoch 007 | Loss: 0.6408 | Test Acc: 0.6682\n",
      "Seed 12 | Epoch 008 | Loss: 0.6303 | Test Acc: 0.6816\n",
      "Seed 12 | Epoch 009 | Loss: 0.6276 | Test Acc: 0.6906\n",
      "Seed 12 | Epoch 010 | Loss: 0.6170 | Test Acc: 0.6906\n",
      "Seed 12 | Epoch 011 | Loss: 0.6135 | Test Acc: 0.6951\n",
      "Seed 12 | Epoch 012 | Loss: 0.6044 | Test Acc: 0.6996\n",
      "Seed 12 | Epoch 013 | Loss: 0.6021 | Test Acc: 0.7040\n",
      "Seed 12 | Epoch 014 | Loss: 0.5932 | Test Acc: 0.7040\n",
      "Seed 12 | Epoch 015 | Loss: 0.5909 | Test Acc: 0.7130\n",
      "Seed 12 | Epoch 016 | Loss: 0.5838 | Test Acc: 0.6861\n",
      "Seed 12 | Epoch 017 | Loss: 0.5829 | Test Acc: 0.6996\n",
      "Seed 12 | Epoch 018 | Loss: 0.5744 | Test Acc: 0.7175\n",
      "Seed 12 | Epoch 019 | Loss: 0.5737 | Test Acc: 0.6996\n",
      "Seed 12 | Epoch 020 | Loss: 0.5666 | Test Acc: 0.7220\n",
      "Seed 12 | Epoch 021 | Loss: 0.5581 | Test Acc: 0.6951\n",
      "Seed 12 | Epoch 022 | Loss: 0.5560 | Test Acc: 0.6771\n",
      "Seed 12 | Epoch 023 | Loss: 0.5573 | Test Acc: 0.7265\n",
      "Seed 12 | Epoch 024 | Loss: 0.5482 | Test Acc: 0.7309\n",
      "Seed 12 | Epoch 025 | Loss: 0.5435 | Test Acc: 0.7175\n",
      "Seed 12 | Epoch 026 | Loss: 0.5400 | Test Acc: 0.7085\n",
      "Seed 12 | Epoch 027 | Loss: 0.5368 | Test Acc: 0.6996\n",
      "Seed 12 | Epoch 028 | Loss: 0.5312 | Test Acc: 0.7085\n",
      "Seed 12 | Epoch 029 | Loss: 0.5277 | Test Acc: 0.7220\n",
      "Seed 12 | Epoch 030 | Loss: 0.5321 | Test Acc: 0.7085\n",
      "Seed 12 | Epoch 031 | Loss: 0.5242 | Test Acc: 0.7130\n",
      "Seed 12 | Epoch 032 | Loss: 0.5194 | Test Acc: 0.7220\n",
      "Seed 12 | Epoch 033 | Loss: 0.5193 | Test Acc: 0.7265\n",
      "Seed 12 | Epoch 034 | Loss: 0.5196 | Test Acc: 0.7354\n",
      "Seed 12 | Epoch 035 | Loss: 0.5149 | Test Acc: 0.7220\n",
      "Seed 12 | Epoch 036 | Loss: 0.5202 | Test Acc: 0.7130\n",
      "Seed 12 | Epoch 037 | Loss: 0.5206 | Test Acc: 0.7399\n",
      "Seed 12 | Epoch 038 | Loss: 0.5126 | Test Acc: 0.7309\n",
      "Seed 12 | Epoch 039 | Loss: 0.5091 | Test Acc: 0.7220\n",
      "Seed 12 | Epoch 040 | Loss: 0.5108 | Test Acc: 0.7399\n",
      "Seed 12 | Epoch 041 | Loss: 0.5091 | Test Acc: 0.7220\n",
      "Seed 12 | Epoch 042 | Loss: 0.5060 | Test Acc: 0.7175\n",
      "Seed 12 | Epoch 043 | Loss: 0.5069 | Test Acc: 0.7265\n",
      "Seed 12 | Epoch 044 | Loss: 0.5052 | Test Acc: 0.7265\n",
      "Seed 12 | Epoch 045 | Loss: 0.5139 | Test Acc: 0.7130\n",
      "Seed 12 | Epoch 046 | Loss: 0.5136 | Test Acc: 0.7309\n",
      "Seed 12 | Epoch 047 | Loss: 0.5056 | Test Acc: 0.7309\n",
      "Seed 12 | Epoch 048 | Loss: 0.5050 | Test Acc: 0.7309\n",
      "Seed 12 | Epoch 049 | Loss: 0.4993 | Test Acc: 0.7220\n",
      "Seed 12 | Epoch 050 | Loss: 0.5036 | Test Acc: 0.7309\n"
     ]
    },
    {
     "data": {
      "text/html": [],
      "text/plain": [
       "<IPython.core.display.HTML object>"
      ]
     },
     "metadata": {},
     "output_type": "display_data"
    },
    {
     "data": {
      "text/html": [
       "<br>    <style><br>        .wandb-row {<br>            display: flex;<br>            flex-direction: row;<br>            flex-wrap: wrap;<br>            justify-content: flex-start;<br>            width: 100%;<br>        }<br>        .wandb-col {<br>            display: flex;<br>            flex-direction: column;<br>            flex-basis: 100%;<br>            flex: 1;<br>            padding: 10px;<br>        }<br>    </style><br><div class=\"wandb-row\"><div class=\"wandb-col\"><h3>Run history:</h3><br/><table class=\"wandb\"><tr><td>epoch</td><td>▁▁▁▁▂▂▂▂▂▂▃▃▃▃▃▄▄▄▄▄▅▅▅▅▅▆▆▆▆▆▆▇▇▇▇▇▇███</td></tr><tr><td>loss</td><td>█▇▇▇▇▆▆▆▅▅▄▄▄▄▄▃▃▃▃▃▂▂▂▂▂▂▂▁▂▂▁▁▁▁▁▁▁▁▁▁</td></tr><tr><td>test_acc</td><td>▁▁▂▂▃▂▃▄▄▄▅▅▆▄▅▅▇▄▃▇▆▅▅▅▇▆▇▇█▇█▇▇█▇▇▇▇▇▇</td></tr><tr><td>train_acc</td><td>▁▁▂▃▃▄▃▄▅▆▆▆▆▆▇▇▇▇▇▇▇▇▇▇▇███▇████▇█████▇</td></tr></table><br/></div><div class=\"wandb-col\"><h3>Run summary:</h3><br/><table class=\"wandb\"><tr><td>epoch</td><td>50</td></tr><tr><td>loss</td><td>0.50359</td></tr><tr><td>test_acc</td><td>0.73094</td></tr><tr><td>train_acc</td><td>0.74045</td></tr></table><br/></div></div>"
      ],
      "text/plain": [
       "<IPython.core.display.HTML object>"
      ]
     },
     "metadata": {},
     "output_type": "display_data"
    },
    {
     "data": {
      "text/html": [
       " View run <strong style=\"color:#cdcd00\">GCN_BFS_seed_12</strong> at: <a href='https://wandb.ai/noynetanel1-tel-aviv-university/GCN%20Graph%20classification%28Protein%29_Gal/runs/fwj0hwlw' target=\"_blank\">https://wandb.ai/noynetanel1-tel-aviv-university/GCN%20Graph%20classification%28Protein%29_Gal/runs/fwj0hwlw</a><br> View project at: <a href='https://wandb.ai/noynetanel1-tel-aviv-university/GCN%20Graph%20classification%28Protein%29_Gal' target=\"_blank\">https://wandb.ai/noynetanel1-tel-aviv-university/GCN%20Graph%20classification%28Protein%29_Gal</a><br>Synced 5 W&B file(s), 0 media file(s), 0 artifact file(s) and 0 other file(s)"
      ],
      "text/plain": [
       "<IPython.core.display.HTML object>"
      ]
     },
     "metadata": {},
     "output_type": "display_data"
    },
    {
     "data": {
      "text/html": [
       "Find logs at: <code>./wandb/run-20250820_152443-fwj0hwlw/logs</code>"
      ],
      "text/plain": [
       "<IPython.core.display.HTML object>"
      ]
     },
     "metadata": {},
     "output_type": "display_data"
    },
    {
     "data": {
      "text/html": [
       "Tracking run with wandb version 0.20.1"
      ],
      "text/plain": [
       "<IPython.core.display.HTML object>"
      ]
     },
     "metadata": {},
     "output_type": "display_data"
    },
    {
     "data": {
      "text/html": [
       "Run data is saved locally in <code>/kaggle/working/wandb/run-20250820_152658-x7hxw9bl</code>"
      ],
      "text/plain": [
       "<IPython.core.display.HTML object>"
      ]
     },
     "metadata": {},
     "output_type": "display_data"
    },
    {
     "data": {
      "text/html": [
       "Syncing run <strong><a href='https://wandb.ai/noynetanel1-tel-aviv-university/GCN%20Graph%20classification%28Protein%29_Gal/runs/x7hxw9bl' target=\"_blank\">GCN_BFS_seed_13</a></strong> to <a href='https://wandb.ai/noynetanel1-tel-aviv-university/GCN%20Graph%20classification%28Protein%29_Gal' target=\"_blank\">Weights & Biases</a> (<a href='https://wandb.me/developer-guide' target=\"_blank\">docs</a>)<br>"
      ],
      "text/plain": [
       "<IPython.core.display.HTML object>"
      ]
     },
     "metadata": {},
     "output_type": "display_data"
    },
    {
     "data": {
      "text/html": [
       " View project at <a href='https://wandb.ai/noynetanel1-tel-aviv-university/GCN%20Graph%20classification%28Protein%29_Gal' target=\"_blank\">https://wandb.ai/noynetanel1-tel-aviv-university/GCN%20Graph%20classification%28Protein%29_Gal</a>"
      ],
      "text/plain": [
       "<IPython.core.display.HTML object>"
      ]
     },
     "metadata": {},
     "output_type": "display_data"
    },
    {
     "data": {
      "text/html": [
       " View run at <a href='https://wandb.ai/noynetanel1-tel-aviv-university/GCN%20Graph%20classification%28Protein%29_Gal/runs/x7hxw9bl' target=\"_blank\">https://wandb.ai/noynetanel1-tel-aviv-university/GCN%20Graph%20classification%28Protein%29_Gal/runs/x7hxw9bl</a>"
      ],
      "text/plain": [
       "<IPython.core.display.HTML object>"
      ]
     },
     "metadata": {},
     "output_type": "display_data"
    },
    {
     "name": "stdout",
     "output_type": "stream",
     "text": [
      "Seed 13 | Epoch 001 | Loss: 0.6750 | Test Acc: 0.5695\n",
      "Seed 13 | Epoch 002 | Loss: 0.6699 | Test Acc: 0.5695\n",
      "Seed 13 | Epoch 003 | Loss: 0.6661 | Test Acc: 0.5695\n",
      "Seed 13 | Epoch 004 | Loss: 0.6655 | Test Acc: 0.5830\n",
      "Seed 13 | Epoch 005 | Loss: 0.6591 | Test Acc: 0.6099\n",
      "Seed 13 | Epoch 006 | Loss: 0.6541 | Test Acc: 0.6278\n",
      "Seed 13 | Epoch 007 | Loss: 0.6489 | Test Acc: 0.6457\n",
      "Seed 13 | Epoch 008 | Loss: 0.6450 | Test Acc: 0.6726\n",
      "Seed 13 | Epoch 009 | Loss: 0.6374 | Test Acc: 0.6143\n",
      "Seed 13 | Epoch 010 | Loss: 0.6312 | Test Acc: 0.6278\n",
      "Seed 13 | Epoch 011 | Loss: 0.6300 | Test Acc: 0.6592\n",
      "Seed 13 | Epoch 012 | Loss: 0.6254 | Test Acc: 0.7130\n",
      "Seed 13 | Epoch 013 | Loss: 0.6222 | Test Acc: 0.7175\n",
      "Seed 13 | Epoch 014 | Loss: 0.6131 | Test Acc: 0.7265\n",
      "Seed 13 | Epoch 015 | Loss: 0.6088 | Test Acc: 0.6861\n",
      "Seed 13 | Epoch 016 | Loss: 0.6023 | Test Acc: 0.7399\n",
      "Seed 13 | Epoch 017 | Loss: 0.6004 | Test Acc: 0.7175\n",
      "Seed 13 | Epoch 018 | Loss: 0.5921 | Test Acc: 0.7399\n",
      "Seed 13 | Epoch 019 | Loss: 0.5899 | Test Acc: 0.7399\n",
      "Seed 13 | Epoch 020 | Loss: 0.5838 | Test Acc: 0.7578\n",
      "Seed 13 | Epoch 021 | Loss: 0.5778 | Test Acc: 0.6816\n",
      "Seed 13 | Epoch 022 | Loss: 0.5749 | Test Acc: 0.7713\n",
      "Seed 13 | Epoch 023 | Loss: 0.5712 | Test Acc: 0.7623\n",
      "Seed 13 | Epoch 024 | Loss: 0.5656 | Test Acc: 0.7623\n",
      "Seed 13 | Epoch 025 | Loss: 0.5633 | Test Acc: 0.7399\n",
      "Seed 13 | Epoch 026 | Loss: 0.5604 | Test Acc: 0.7578\n",
      "Seed 13 | Epoch 027 | Loss: 0.5561 | Test Acc: 0.7578\n",
      "Seed 13 | Epoch 028 | Loss: 0.5670 | Test Acc: 0.7444\n",
      "Seed 13 | Epoch 029 | Loss: 0.5603 | Test Acc: 0.7623\n",
      "Seed 13 | Epoch 030 | Loss: 0.5512 | Test Acc: 0.7220\n",
      "Seed 13 | Epoch 031 | Loss: 0.5452 | Test Acc: 0.7534\n",
      "Seed 13 | Epoch 032 | Loss: 0.5467 | Test Acc: 0.7489\n",
      "Seed 13 | Epoch 033 | Loss: 0.5448 | Test Acc: 0.7578\n",
      "Seed 13 | Epoch 034 | Loss: 0.5440 | Test Acc: 0.7758\n",
      "Seed 13 | Epoch 035 | Loss: 0.5410 | Test Acc: 0.7713\n",
      "Seed 13 | Epoch 036 | Loss: 0.5409 | Test Acc: 0.7578\n",
      "Seed 13 | Epoch 037 | Loss: 0.5444 | Test Acc: 0.7489\n",
      "Seed 13 | Epoch 038 | Loss: 0.5320 | Test Acc: 0.7399\n",
      "Seed 13 | Epoch 039 | Loss: 0.5269 | Test Acc: 0.7444\n",
      "Seed 13 | Epoch 040 | Loss: 0.5283 | Test Acc: 0.7803\n",
      "Seed 13 | Epoch 041 | Loss: 0.5337 | Test Acc: 0.7668\n",
      "Seed 13 | Epoch 042 | Loss: 0.5311 | Test Acc: 0.7713\n",
      "Seed 13 | Epoch 043 | Loss: 0.5252 | Test Acc: 0.7354\n",
      "Seed 13 | Epoch 044 | Loss: 0.5346 | Test Acc: 0.7534\n",
      "Seed 13 | Epoch 045 | Loss: 0.5210 | Test Acc: 0.7848\n",
      "Seed 13 | Epoch 046 | Loss: 0.5269 | Test Acc: 0.7309\n",
      "Seed 13 | Epoch 047 | Loss: 0.5242 | Test Acc: 0.7803\n",
      "Seed 13 | Epoch 048 | Loss: 0.5149 | Test Acc: 0.7489\n",
      "Seed 13 | Epoch 049 | Loss: 0.5205 | Test Acc: 0.7309\n",
      "Seed 13 | Epoch 050 | Loss: 0.5218 | Test Acc: 0.7623\n"
     ]
    },
    {
     "data": {
      "text/html": [],
      "text/plain": [
       "<IPython.core.display.HTML object>"
      ]
     },
     "metadata": {},
     "output_type": "display_data"
    },
    {
     "data": {
      "text/html": [
       "<br>    <style><br>        .wandb-row {<br>            display: flex;<br>            flex-direction: row;<br>            flex-wrap: wrap;<br>            justify-content: flex-start;<br>            width: 100%;<br>        }<br>        .wandb-col {<br>            display: flex;<br>            flex-direction: column;<br>            flex-basis: 100%;<br>            flex: 1;<br>            padding: 10px;<br>        }<br>    </style><br><div class=\"wandb-row\"><div class=\"wandb-col\"><h3>Run history:</h3><br/><table class=\"wandb\"><tr><td>epoch</td><td>▁▁▁▁▂▂▂▂▂▃▃▃▃▃▄▄▄▄▄▄▅▅▅▅▅▆▆▆▆▆▆▇▇▇▇▇▇███</td></tr><tr><td>loss</td><td>████▇▇▇▆▆▆▅▅▅▅▄▄▄▄▃▃▃▃▃▃▂▂▂▂▂▂▂▂▂▂▁▁▂▁▁▁</td></tr><tr><td>test_acc</td><td>▁▁▁▁▃▄▂▄▆▆▅▇▆▇▇▅█▇▇▇▇▇▇▆▇▇██▇▇▇█▇█▆█▆█▇▇</td></tr><tr><td>train_acc</td><td>▁▁▂▂▃▄▃▄▅▅▅▅▅▆▆▅▆▆▆▇▇▇▇▆▇▇█▇█▇█▇██▇█▇█▇█</td></tr></table><br/></div><div class=\"wandb-col\"><h3>Run summary:</h3><br/><table class=\"wandb\"><tr><td>epoch</td><td>50</td></tr><tr><td>loss</td><td>0.5218</td></tr><tr><td>test_acc</td><td>0.76233</td></tr><tr><td>train_acc</td><td>0.75281</td></tr></table><br/></div></div>"
      ],
      "text/plain": [
       "<IPython.core.display.HTML object>"
      ]
     },
     "metadata": {},
     "output_type": "display_data"
    },
    {
     "data": {
      "text/html": [
       " View run <strong style=\"color:#cdcd00\">GCN_BFS_seed_13</strong> at: <a href='https://wandb.ai/noynetanel1-tel-aviv-university/GCN%20Graph%20classification%28Protein%29_Gal/runs/x7hxw9bl' target=\"_blank\">https://wandb.ai/noynetanel1-tel-aviv-university/GCN%20Graph%20classification%28Protein%29_Gal/runs/x7hxw9bl</a><br> View project at: <a href='https://wandb.ai/noynetanel1-tel-aviv-university/GCN%20Graph%20classification%28Protein%29_Gal' target=\"_blank\">https://wandb.ai/noynetanel1-tel-aviv-university/GCN%20Graph%20classification%28Protein%29_Gal</a><br>Synced 5 W&B file(s), 0 media file(s), 0 artifact file(s) and 0 other file(s)"
      ],
      "text/plain": [
       "<IPython.core.display.HTML object>"
      ]
     },
     "metadata": {},
     "output_type": "display_data"
    },
    {
     "data": {
      "text/html": [
       "Find logs at: <code>./wandb/run-20250820_152658-x7hxw9bl/logs</code>"
      ],
      "text/plain": [
       "<IPython.core.display.HTML object>"
      ]
     },
     "metadata": {},
     "output_type": "display_data"
    },
    {
     "data": {
      "text/html": [
       "Tracking run with wandb version 0.20.1"
      ],
      "text/plain": [
       "<IPython.core.display.HTML object>"
      ]
     },
     "metadata": {},
     "output_type": "display_data"
    },
    {
     "data": {
      "text/html": [
       "Run data is saved locally in <code>/kaggle/working/wandb/run-20250820_152916-sgqowxcy</code>"
      ],
      "text/plain": [
       "<IPython.core.display.HTML object>"
      ]
     },
     "metadata": {},
     "output_type": "display_data"
    },
    {
     "data": {
      "text/html": [
       "Syncing run <strong><a href='https://wandb.ai/noynetanel1-tel-aviv-university/GCN%20Graph%20classification%28Protein%29_Gal/runs/sgqowxcy' target=\"_blank\">GCN_BFS_seed_14</a></strong> to <a href='https://wandb.ai/noynetanel1-tel-aviv-university/GCN%20Graph%20classification%28Protein%29_Gal' target=\"_blank\">Weights & Biases</a> (<a href='https://wandb.me/developer-guide' target=\"_blank\">docs</a>)<br>"
      ],
      "text/plain": [
       "<IPython.core.display.HTML object>"
      ]
     },
     "metadata": {},
     "output_type": "display_data"
    },
    {
     "data": {
      "text/html": [
       " View project at <a href='https://wandb.ai/noynetanel1-tel-aviv-university/GCN%20Graph%20classification%28Protein%29_Gal' target=\"_blank\">https://wandb.ai/noynetanel1-tel-aviv-university/GCN%20Graph%20classification%28Protein%29_Gal</a>"
      ],
      "text/plain": [
       "<IPython.core.display.HTML object>"
      ]
     },
     "metadata": {},
     "output_type": "display_data"
    },
    {
     "data": {
      "text/html": [
       " View run at <a href='https://wandb.ai/noynetanel1-tel-aviv-university/GCN%20Graph%20classification%28Protein%29_Gal/runs/sgqowxcy' target=\"_blank\">https://wandb.ai/noynetanel1-tel-aviv-university/GCN%20Graph%20classification%28Protein%29_Gal/runs/sgqowxcy</a>"
      ],
      "text/plain": [
       "<IPython.core.display.HTML object>"
      ]
     },
     "metadata": {},
     "output_type": "display_data"
    },
    {
     "name": "stdout",
     "output_type": "stream",
     "text": [
      "Seed 14 | Epoch 001 | Loss: 0.6791 | Test Acc: 0.5830\n",
      "Seed 14 | Epoch 002 | Loss: 0.6702 | Test Acc: 0.5830\n",
      "Seed 14 | Epoch 003 | Loss: 0.6620 | Test Acc: 0.6054\n",
      "Seed 14 | Epoch 004 | Loss: 0.6582 | Test Acc: 0.6233\n",
      "Seed 14 | Epoch 005 | Loss: 0.6495 | Test Acc: 0.6413\n",
      "Seed 14 | Epoch 006 | Loss: 0.6428 | Test Acc: 0.6188\n",
      "Seed 14 | Epoch 007 | Loss: 0.6382 | Test Acc: 0.6368\n",
      "Seed 14 | Epoch 008 | Loss: 0.6281 | Test Acc: 0.6726\n",
      "Seed 14 | Epoch 009 | Loss: 0.6195 | Test Acc: 0.6502\n",
      "Seed 14 | Epoch 010 | Loss: 0.6114 | Test Acc: 0.6951\n",
      "Seed 14 | Epoch 011 | Loss: 0.6092 | Test Acc: 0.7265\n",
      "Seed 14 | Epoch 012 | Loss: 0.5994 | Test Acc: 0.6816\n",
      "Seed 14 | Epoch 013 | Loss: 0.6074 | Test Acc: 0.7220\n",
      "Seed 14 | Epoch 014 | Loss: 0.5953 | Test Acc: 0.6996\n",
      "Seed 14 | Epoch 015 | Loss: 0.5909 | Test Acc: 0.6771\n",
      "Seed 14 | Epoch 016 | Loss: 0.5825 | Test Acc: 0.6996\n",
      "Seed 14 | Epoch 017 | Loss: 0.5789 | Test Acc: 0.7309\n",
      "Seed 14 | Epoch 018 | Loss: 0.5714 | Test Acc: 0.7399\n",
      "Seed 14 | Epoch 019 | Loss: 0.5659 | Test Acc: 0.7489\n",
      "Seed 14 | Epoch 020 | Loss: 0.5617 | Test Acc: 0.7623\n",
      "Seed 14 | Epoch 021 | Loss: 0.5637 | Test Acc: 0.7085\n",
      "Seed 14 | Epoch 022 | Loss: 0.5525 | Test Acc: 0.7623\n",
      "Seed 14 | Epoch 023 | Loss: 0.5488 | Test Acc: 0.7623\n",
      "Seed 14 | Epoch 024 | Loss: 0.5498 | Test Acc: 0.7623\n",
      "Seed 14 | Epoch 025 | Loss: 0.5486 | Test Acc: 0.7399\n",
      "Seed 14 | Epoch 026 | Loss: 0.5448 | Test Acc: 0.7354\n",
      "Seed 14 | Epoch 027 | Loss: 0.5449 | Test Acc: 0.7130\n",
      "Seed 14 | Epoch 028 | Loss: 0.5383 | Test Acc: 0.7399\n",
      "Seed 14 | Epoch 029 | Loss: 0.5382 | Test Acc: 0.7309\n",
      "Seed 14 | Epoch 030 | Loss: 0.5347 | Test Acc: 0.7399\n",
      "Seed 14 | Epoch 031 | Loss: 0.5321 | Test Acc: 0.7444\n",
      "Seed 14 | Epoch 032 | Loss: 0.5364 | Test Acc: 0.7623\n",
      "Seed 14 | Epoch 033 | Loss: 0.5307 | Test Acc: 0.7309\n",
      "Seed 14 | Epoch 034 | Loss: 0.5309 | Test Acc: 0.7534\n",
      "Seed 14 | Epoch 035 | Loss: 0.5310 | Test Acc: 0.7848\n",
      "Seed 14 | Epoch 036 | Loss: 0.5259 | Test Acc: 0.7668\n",
      "Seed 14 | Epoch 037 | Loss: 0.5298 | Test Acc: 0.7309\n",
      "Seed 14 | Epoch 038 | Loss: 0.5215 | Test Acc: 0.7489\n",
      "Seed 14 | Epoch 039 | Loss: 0.5199 | Test Acc: 0.7534\n",
      "Seed 14 | Epoch 040 | Loss: 0.5266 | Test Acc: 0.7623\n",
      "Seed 14 | Epoch 041 | Loss: 0.5298 | Test Acc: 0.7489\n",
      "Seed 14 | Epoch 042 | Loss: 0.5219 | Test Acc: 0.7399\n",
      "Seed 14 | Epoch 043 | Loss: 0.5206 | Test Acc: 0.7489\n",
      "Seed 14 | Epoch 044 | Loss: 0.5264 | Test Acc: 0.7623\n",
      "Seed 14 | Epoch 045 | Loss: 0.5224 | Test Acc: 0.7534\n",
      "Seed 14 | Epoch 046 | Loss: 0.5179 | Test Acc: 0.7534\n",
      "Seed 14 | Epoch 047 | Loss: 0.5160 | Test Acc: 0.7668\n",
      "Seed 14 | Epoch 048 | Loss: 0.5166 | Test Acc: 0.7758\n",
      "Seed 14 | Epoch 049 | Loss: 0.5182 | Test Acc: 0.7623\n",
      "Seed 14 | Epoch 050 | Loss: 0.5131 | Test Acc: 0.7265\n"
     ]
    },
    {
     "data": {
      "text/html": [],
      "text/plain": [
       "<IPython.core.display.HTML object>"
      ]
     },
     "metadata": {},
     "output_type": "display_data"
    },
    {
     "data": {
      "text/html": [
       "<br>    <style><br>        .wandb-row {<br>            display: flex;<br>            flex-direction: row;<br>            flex-wrap: wrap;<br>            justify-content: flex-start;<br>            width: 100%;<br>        }<br>        .wandb-col {<br>            display: flex;<br>            flex-direction: column;<br>            flex-basis: 100%;<br>            flex: 1;<br>            padding: 10px;<br>        }<br>    </style><br><div class=\"wandb-row\"><div class=\"wandb-col\"><h3>Run history:</h3><br/><table class=\"wandb\"><tr><td>epoch</td><td>▁▁▁▁▂▂▂▂▂▂▃▃▃▃▃▄▄▄▄▄▅▅▅▅▅▆▆▆▆▆▆▇▇▇▇▇▇███</td></tr><tr><td>loss</td><td>██▇▇▇▆▆▅▅▅▅▄▄▄▃▃▃▃▃▃▂▂▂▂▂▂▂▂▂▂▁▂▂▁▁▁▁▁▁▁</td></tr><tr><td>test_acc</td><td>▁▁▂▂▃▃▃▅▆▄▅▄▅▆▇▅▇▇▇▆▆▆▆▆▇▆▇█▇▆▇▇▇▆▇▇▇▇█▆</td></tr><tr><td>train_acc</td><td>▁▂▂▃▃▅▄▆▆▆▆▆▇▇▇▆▇▇▇▇▇█▇██▇█▇▇██████████▇</td></tr></table><br/></div><div class=\"wandb-col\"><h3>Run summary:</h3><br/><table class=\"wandb\"><tr><td>epoch</td><td>50</td></tr><tr><td>loss</td><td>0.51305</td></tr><tr><td>test_acc</td><td>0.72646</td></tr><tr><td>train_acc</td><td>0.74719</td></tr></table><br/></div></div>"
      ],
      "text/plain": [
       "<IPython.core.display.HTML object>"
      ]
     },
     "metadata": {},
     "output_type": "display_data"
    },
    {
     "data": {
      "text/html": [
       " View run <strong style=\"color:#cdcd00\">GCN_BFS_seed_14</strong> at: <a href='https://wandb.ai/noynetanel1-tel-aviv-university/GCN%20Graph%20classification%28Protein%29_Gal/runs/sgqowxcy' target=\"_blank\">https://wandb.ai/noynetanel1-tel-aviv-university/GCN%20Graph%20classification%28Protein%29_Gal/runs/sgqowxcy</a><br> View project at: <a href='https://wandb.ai/noynetanel1-tel-aviv-university/GCN%20Graph%20classification%28Protein%29_Gal' target=\"_blank\">https://wandb.ai/noynetanel1-tel-aviv-university/GCN%20Graph%20classification%28Protein%29_Gal</a><br>Synced 5 W&B file(s), 0 media file(s), 0 artifact file(s) and 0 other file(s)"
      ],
      "text/plain": [
       "<IPython.core.display.HTML object>"
      ]
     },
     "metadata": {},
     "output_type": "display_data"
    },
    {
     "data": {
      "text/html": [
       "Find logs at: <code>./wandb/run-20250820_152916-sgqowxcy/logs</code>"
      ],
      "text/plain": [
       "<IPython.core.display.HTML object>"
      ]
     },
     "metadata": {},
     "output_type": "display_data"
    },
    {
     "data": {
      "text/html": [
       "Tracking run with wandb version 0.20.1"
      ],
      "text/plain": [
       "<IPython.core.display.HTML object>"
      ]
     },
     "metadata": {},
     "output_type": "display_data"
    },
    {
     "data": {
      "text/html": [
       "Run data is saved locally in <code>/kaggle/working/wandb/run-20250820_153135-729t2slx</code>"
      ],
      "text/plain": [
       "<IPython.core.display.HTML object>"
      ]
     },
     "metadata": {},
     "output_type": "display_data"
    },
    {
     "data": {
      "text/html": [
       "Syncing run <strong><a href='https://wandb.ai/noynetanel1-tel-aviv-university/GCN%20Graph%20classification%28Protein%29_Gal/runs/729t2slx' target=\"_blank\">GCN_BFS_seed_15</a></strong> to <a href='https://wandb.ai/noynetanel1-tel-aviv-university/GCN%20Graph%20classification%28Protein%29_Gal' target=\"_blank\">Weights & Biases</a> (<a href='https://wandb.me/developer-guide' target=\"_blank\">docs</a>)<br>"
      ],
      "text/plain": [
       "<IPython.core.display.HTML object>"
      ]
     },
     "metadata": {},
     "output_type": "display_data"
    },
    {
     "data": {
      "text/html": [
       " View project at <a href='https://wandb.ai/noynetanel1-tel-aviv-university/GCN%20Graph%20classification%28Protein%29_Gal' target=\"_blank\">https://wandb.ai/noynetanel1-tel-aviv-university/GCN%20Graph%20classification%28Protein%29_Gal</a>"
      ],
      "text/plain": [
       "<IPython.core.display.HTML object>"
      ]
     },
     "metadata": {},
     "output_type": "display_data"
    },
    {
     "data": {
      "text/html": [
       " View run at <a href='https://wandb.ai/noynetanel1-tel-aviv-university/GCN%20Graph%20classification%28Protein%29_Gal/runs/729t2slx' target=\"_blank\">https://wandb.ai/noynetanel1-tel-aviv-university/GCN%20Graph%20classification%28Protein%29_Gal/runs/729t2slx</a>"
      ],
      "text/plain": [
       "<IPython.core.display.HTML object>"
      ]
     },
     "metadata": {},
     "output_type": "display_data"
    },
    {
     "name": "stdout",
     "output_type": "stream",
     "text": [
      "Seed 15 | Epoch 001 | Loss: 0.6798 | Test Acc: 0.6188\n",
      "Seed 15 | Epoch 002 | Loss: 0.6725 | Test Acc: 0.6547\n",
      "Seed 15 | Epoch 003 | Loss: 0.6672 | Test Acc: 0.6188\n",
      "Seed 15 | Epoch 004 | Loss: 0.6627 | Test Acc: 0.6637\n",
      "Seed 15 | Epoch 005 | Loss: 0.6576 | Test Acc: 0.6502\n",
      "Seed 15 | Epoch 006 | Loss: 0.6500 | Test Acc: 0.6592\n",
      "Seed 15 | Epoch 007 | Loss: 0.6431 | Test Acc: 0.7354\n",
      "Seed 15 | Epoch 008 | Loss: 0.6411 | Test Acc: 0.7220\n",
      "Seed 15 | Epoch 009 | Loss: 0.6321 | Test Acc: 0.7040\n",
      "Seed 15 | Epoch 010 | Loss: 0.6288 | Test Acc: 0.7444\n",
      "Seed 15 | Epoch 011 | Loss: 0.6214 | Test Acc: 0.7220\n",
      "Seed 15 | Epoch 012 | Loss: 0.6208 | Test Acc: 0.7534\n",
      "Seed 15 | Epoch 013 | Loss: 0.6206 | Test Acc: 0.7175\n",
      "Seed 15 | Epoch 014 | Loss: 0.6105 | Test Acc: 0.7354\n",
      "Seed 15 | Epoch 015 | Loss: 0.6080 | Test Acc: 0.7534\n",
      "Seed 15 | Epoch 016 | Loss: 0.6045 | Test Acc: 0.7265\n",
      "Seed 15 | Epoch 017 | Loss: 0.6077 | Test Acc: 0.7309\n",
      "Seed 15 | Epoch 018 | Loss: 0.6018 | Test Acc: 0.7534\n",
      "Seed 15 | Epoch 019 | Loss: 0.5967 | Test Acc: 0.7175\n",
      "Seed 15 | Epoch 020 | Loss: 0.6036 | Test Acc: 0.7220\n",
      "Seed 15 | Epoch 021 | Loss: 0.5961 | Test Acc: 0.7578\n",
      "Seed 15 | Epoch 022 | Loss: 0.5920 | Test Acc: 0.7623\n",
      "Seed 15 | Epoch 023 | Loss: 0.5835 | Test Acc: 0.7309\n",
      "Seed 15 | Epoch 024 | Loss: 0.5919 | Test Acc: 0.7175\n",
      "Seed 15 | Epoch 025 | Loss: 0.5833 | Test Acc: 0.7534\n",
      "Seed 15 | Epoch 026 | Loss: 0.5785 | Test Acc: 0.7758\n",
      "Seed 15 | Epoch 027 | Loss: 0.5725 | Test Acc: 0.7713\n",
      "Seed 15 | Epoch 028 | Loss: 0.5722 | Test Acc: 0.7354\n",
      "Seed 15 | Epoch 029 | Loss: 0.5689 | Test Acc: 0.7668\n",
      "Seed 15 | Epoch 030 | Loss: 0.5637 | Test Acc: 0.7534\n",
      "Seed 15 | Epoch 031 | Loss: 0.5640 | Test Acc: 0.7713\n",
      "Seed 15 | Epoch 032 | Loss: 0.5611 | Test Acc: 0.7489\n",
      "Seed 15 | Epoch 033 | Loss: 0.5621 | Test Acc: 0.7668\n",
      "Seed 15 | Epoch 034 | Loss: 0.5563 | Test Acc: 0.7175\n",
      "Seed 15 | Epoch 035 | Loss: 0.5602 | Test Acc: 0.7803\n",
      "Seed 15 | Epoch 036 | Loss: 0.5555 | Test Acc: 0.7713\n",
      "Seed 15 | Epoch 037 | Loss: 0.5497 | Test Acc: 0.7444\n",
      "Seed 15 | Epoch 038 | Loss: 0.5513 | Test Acc: 0.7623\n",
      "Seed 15 | Epoch 039 | Loss: 0.5569 | Test Acc: 0.7848\n",
      "Seed 15 | Epoch 040 | Loss: 0.5537 | Test Acc: 0.7848\n",
      "Seed 15 | Epoch 041 | Loss: 0.5506 | Test Acc: 0.7803\n",
      "Seed 15 | Epoch 042 | Loss: 0.5388 | Test Acc: 0.7713\n",
      "Seed 15 | Epoch 043 | Loss: 0.5402 | Test Acc: 0.7937\n",
      "Seed 15 | Epoch 044 | Loss: 0.5348 | Test Acc: 0.7982\n",
      "Seed 15 | Epoch 045 | Loss: 0.5351 | Test Acc: 0.7937\n",
      "Seed 15 | Epoch 046 | Loss: 0.5366 | Test Acc: 0.7982\n",
      "Seed 15 | Epoch 047 | Loss: 0.5457 | Test Acc: 0.7848\n",
      "Seed 15 | Epoch 048 | Loss: 0.5383 | Test Acc: 0.7848\n",
      "Seed 15 | Epoch 049 | Loss: 0.5334 | Test Acc: 0.7892\n",
      "Seed 15 | Epoch 050 | Loss: 0.5274 | Test Acc: 0.7982\n"
     ]
    },
    {
     "data": {
      "text/html": [],
      "text/plain": [
       "<IPython.core.display.HTML object>"
      ]
     },
     "metadata": {},
     "output_type": "display_data"
    },
    {
     "data": {
      "text/html": [
       "<br>    <style><br>        .wandb-row {<br>            display: flex;<br>            flex-direction: row;<br>            flex-wrap: wrap;<br>            justify-content: flex-start;<br>            width: 100%;<br>        }<br>        .wandb-col {<br>            display: flex;<br>            flex-direction: column;<br>            flex-basis: 100%;<br>            flex: 1;<br>            padding: 10px;<br>        }<br>    </style><br><div class=\"wandb-row\"><div class=\"wandb-col\"><h3>Run history:</h3><br/><table class=\"wandb\"><tr><td>epoch</td><td>▁▁▁▁▂▂▂▂▂▂▃▃▃▃▃▄▄▄▄▄▄▅▅▅▅▅▅▆▆▆▆▇▇▇▇▇▇███</td></tr><tr><td>loss</td><td>██▇▇▇▆▆▆▆▅▅▅▅▅▅▄▅▄▄▄▄▃▃▃▃▃▃▃▂▃▂▂▂▂▂▁▁▂▂▁</td></tr><tr><td>test_acc</td><td>▁▂▁▃▂▆▅▄▆▅▅▆▆▅▅▅▆▇▅▆▇▆▇▆▇▇▅▇▇▆▇▇▇▇███▇▇█</td></tr><tr><td>train_acc</td><td>▁▂▁▃▂▄▅▅▅▅▅▅▅▅▆▅▆▆▆▆▆▇▆▆▇▇▇▆▇▆▇▇▇▇██████</td></tr></table><br/></div><div class=\"wandb-col\"><h3>Run summary:</h3><br/><table class=\"wandb\"><tr><td>epoch</td><td>50</td></tr><tr><td>loss</td><td>0.52743</td></tr><tr><td>test_acc</td><td>0.79821</td></tr><tr><td>train_acc</td><td>0.75281</td></tr></table><br/></div></div>"
      ],
      "text/plain": [
       "<IPython.core.display.HTML object>"
      ]
     },
     "metadata": {},
     "output_type": "display_data"
    },
    {
     "data": {
      "text/html": [
       " View run <strong style=\"color:#cdcd00\">GCN_BFS_seed_15</strong> at: <a href='https://wandb.ai/noynetanel1-tel-aviv-university/GCN%20Graph%20classification%28Protein%29_Gal/runs/729t2slx' target=\"_blank\">https://wandb.ai/noynetanel1-tel-aviv-university/GCN%20Graph%20classification%28Protein%29_Gal/runs/729t2slx</a><br> View project at: <a href='https://wandb.ai/noynetanel1-tel-aviv-university/GCN%20Graph%20classification%28Protein%29_Gal' target=\"_blank\">https://wandb.ai/noynetanel1-tel-aviv-university/GCN%20Graph%20classification%28Protein%29_Gal</a><br>Synced 5 W&B file(s), 0 media file(s), 0 artifact file(s) and 0 other file(s)"
      ],
      "text/plain": [
       "<IPython.core.display.HTML object>"
      ]
     },
     "metadata": {},
     "output_type": "display_data"
    },
    {
     "data": {
      "text/html": [
       "Find logs at: <code>./wandb/run-20250820_153135-729t2slx/logs</code>"
      ],
      "text/plain": [
       "<IPython.core.display.HTML object>"
      ]
     },
     "metadata": {},
     "output_type": "display_data"
    },
    {
     "data": {
      "text/html": [
       "Tracking run with wandb version 0.20.1"
      ],
      "text/plain": [
       "<IPython.core.display.HTML object>"
      ]
     },
     "metadata": {},
     "output_type": "display_data"
    },
    {
     "data": {
      "text/html": [
       "Run data is saved locally in <code>/kaggle/working/wandb/run-20250820_153353-zz117r3o</code>"
      ],
      "text/plain": [
       "<IPython.core.display.HTML object>"
      ]
     },
     "metadata": {},
     "output_type": "display_data"
    },
    {
     "data": {
      "text/html": [
       "Syncing run <strong><a href='https://wandb.ai/noynetanel1-tel-aviv-university/GCN%20Graph%20classification%28Protein%29_Gal/runs/zz117r3o' target=\"_blank\">GCN_BFS_seed_16</a></strong> to <a href='https://wandb.ai/noynetanel1-tel-aviv-university/GCN%20Graph%20classification%28Protein%29_Gal' target=\"_blank\">Weights & Biases</a> (<a href='https://wandb.me/developer-guide' target=\"_blank\">docs</a>)<br>"
      ],
      "text/plain": [
       "<IPython.core.display.HTML object>"
      ]
     },
     "metadata": {},
     "output_type": "display_data"
    },
    {
     "data": {
      "text/html": [
       " View project at <a href='https://wandb.ai/noynetanel1-tel-aviv-university/GCN%20Graph%20classification%28Protein%29_Gal' target=\"_blank\">https://wandb.ai/noynetanel1-tel-aviv-university/GCN%20Graph%20classification%28Protein%29_Gal</a>"
      ],
      "text/plain": [
       "<IPython.core.display.HTML object>"
      ]
     },
     "metadata": {},
     "output_type": "display_data"
    },
    {
     "data": {
      "text/html": [
       " View run at <a href='https://wandb.ai/noynetanel1-tel-aviv-university/GCN%20Graph%20classification%28Protein%29_Gal/runs/zz117r3o' target=\"_blank\">https://wandb.ai/noynetanel1-tel-aviv-university/GCN%20Graph%20classification%28Protein%29_Gal/runs/zz117r3o</a>"
      ],
      "text/plain": [
       "<IPython.core.display.HTML object>"
      ]
     },
     "metadata": {},
     "output_type": "display_data"
    },
    {
     "name": "stdout",
     "output_type": "stream",
     "text": [
      "Seed 16 | Epoch 001 | Loss: 0.6725 | Test Acc: 0.6188\n",
      "Seed 16 | Epoch 002 | Loss: 0.6689 | Test Acc: 0.6323\n",
      "Seed 16 | Epoch 003 | Loss: 0.6657 | Test Acc: 0.6502\n",
      "Seed 16 | Epoch 004 | Loss: 0.6622 | Test Acc: 0.6502\n",
      "Seed 16 | Epoch 005 | Loss: 0.6599 | Test Acc: 0.6547\n",
      "Seed 16 | Epoch 006 | Loss: 0.6569 | Test Acc: 0.6547\n",
      "Seed 16 | Epoch 007 | Loss: 0.6526 | Test Acc: 0.6278\n",
      "Seed 16 | Epoch 008 | Loss: 0.6477 | Test Acc: 0.6547\n",
      "Seed 16 | Epoch 009 | Loss: 0.6432 | Test Acc: 0.6502\n",
      "Seed 16 | Epoch 010 | Loss: 0.6381 | Test Acc: 0.7130\n",
      "Seed 16 | Epoch 011 | Loss: 0.6407 | Test Acc: 0.6278\n",
      "Seed 16 | Epoch 012 | Loss: 0.6319 | Test Acc: 0.6906\n",
      "Seed 16 | Epoch 013 | Loss: 0.6235 | Test Acc: 0.7534\n",
      "Seed 16 | Epoch 014 | Loss: 0.6233 | Test Acc: 0.7175\n",
      "Seed 16 | Epoch 015 | Loss: 0.6222 | Test Acc: 0.6861\n",
      "Seed 16 | Epoch 016 | Loss: 0.6101 | Test Acc: 0.7399\n",
      "Seed 16 | Epoch 017 | Loss: 0.6085 | Test Acc: 0.7399\n",
      "Seed 16 | Epoch 018 | Loss: 0.6046 | Test Acc: 0.7444\n",
      "Seed 16 | Epoch 019 | Loss: 0.5980 | Test Acc: 0.7578\n",
      "Seed 16 | Epoch 020 | Loss: 0.5952 | Test Acc: 0.7713\n",
      "Seed 16 | Epoch 021 | Loss: 0.5928 | Test Acc: 0.7309\n",
      "Seed 16 | Epoch 022 | Loss: 0.5922 | Test Acc: 0.7354\n",
      "Seed 16 | Epoch 023 | Loss: 0.5901 | Test Acc: 0.7713\n",
      "Seed 16 | Epoch 024 | Loss: 0.5795 | Test Acc: 0.7668\n",
      "Seed 16 | Epoch 025 | Loss: 0.5725 | Test Acc: 0.7758\n",
      "Seed 16 | Epoch 026 | Loss: 0.5763 | Test Acc: 0.7578\n",
      "Seed 16 | Epoch 027 | Loss: 0.5672 | Test Acc: 0.7758\n",
      "Seed 16 | Epoch 028 | Loss: 0.5631 | Test Acc: 0.7803\n",
      "Seed 16 | Epoch 029 | Loss: 0.5572 | Test Acc: 0.7803\n",
      "Seed 16 | Epoch 030 | Loss: 0.5616 | Test Acc: 0.7668\n",
      "Seed 16 | Epoch 031 | Loss: 0.5525 | Test Acc: 0.7713\n",
      "Seed 16 | Epoch 032 | Loss: 0.5505 | Test Acc: 0.7758\n",
      "Seed 16 | Epoch 033 | Loss: 0.5464 | Test Acc: 0.7713\n",
      "Seed 16 | Epoch 034 | Loss: 0.5470 | Test Acc: 0.7668\n",
      "Seed 16 | Epoch 035 | Loss: 0.5511 | Test Acc: 0.7623\n",
      "Seed 16 | Epoch 036 | Loss: 0.5406 | Test Acc: 0.7668\n",
      "Seed 16 | Epoch 037 | Loss: 0.5447 | Test Acc: 0.7668\n",
      "Seed 16 | Epoch 038 | Loss: 0.5379 | Test Acc: 0.7713\n",
      "Seed 16 | Epoch 039 | Loss: 0.5361 | Test Acc: 0.7668\n",
      "Seed 16 | Epoch 040 | Loss: 0.5408 | Test Acc: 0.7623\n",
      "Seed 16 | Epoch 041 | Loss: 0.5439 | Test Acc: 0.7534\n",
      "Seed 16 | Epoch 042 | Loss: 0.5332 | Test Acc: 0.7578\n",
      "Seed 16 | Epoch 043 | Loss: 0.5286 | Test Acc: 0.7623\n",
      "Seed 16 | Epoch 044 | Loss: 0.5496 | Test Acc: 0.7713\n",
      "Seed 16 | Epoch 045 | Loss: 0.5466 | Test Acc: 0.7713\n",
      "Seed 16 | Epoch 046 | Loss: 0.5225 | Test Acc: 0.7309\n",
      "Seed 16 | Epoch 047 | Loss: 0.5341 | Test Acc: 0.7578\n",
      "Seed 16 | Epoch 048 | Loss: 0.5267 | Test Acc: 0.7758\n",
      "Seed 16 | Epoch 049 | Loss: 0.5293 | Test Acc: 0.7937\n",
      "Seed 16 | Epoch 050 | Loss: 0.5307 | Test Acc: 0.7713\n"
     ]
    },
    {
     "data": {
      "text/html": [],
      "text/plain": [
       "<IPython.core.display.HTML object>"
      ]
     },
     "metadata": {},
     "output_type": "display_data"
    },
    {
     "data": {
      "text/html": [
       "<br>    <style><br>        .wandb-row {<br>            display: flex;<br>            flex-direction: row;<br>            flex-wrap: wrap;<br>            justify-content: flex-start;<br>            width: 100%;<br>        }<br>        .wandb-col {<br>            display: flex;<br>            flex-direction: column;<br>            flex-basis: 100%;<br>            flex: 1;<br>            padding: 10px;<br>        }<br>    </style><br><div class=\"wandb-row\"><div class=\"wandb-col\"><h3>Run history:</h3><br/><table class=\"wandb\"><tr><td>epoch</td><td>▁▁▁▁▂▂▂▂▂▂▃▃▃▃▃▄▄▄▄▄▄▅▅▅▅▅▆▆▆▆▆▇▇▇▇▇▇███</td></tr><tr><td>loss</td><td>████▇▇▇▇▆▇▆▆▆▅▅▄▄▄▄▄▄▃▃▃▃▂▂▂▂▂▂▂▂▂▂▂▁▂▁▁</td></tr><tr><td>test_acc</td><td>▁▂▂▂▃▁▃▂▅▁▇▅▄▆▆▇█▆▆█████▇██▇▇▇█▇▇▇▇█▆▇██</td></tr><tr><td>train_acc</td><td>▁▂▃▃▃▂▃▃▅▃▅▅▄▅▅▆▆▅▆▆▆▇▇▇▇▇▇▇▇▇██▇███▅███</td></tr></table><br/></div><div class=\"wandb-col\"><h3>Run summary:</h3><br/><table class=\"wandb\"><tr><td>epoch</td><td>50</td></tr><tr><td>loss</td><td>0.53075</td></tr><tr><td>test_acc</td><td>0.7713</td></tr><tr><td>train_acc</td><td>0.76067</td></tr></table><br/></div></div>"
      ],
      "text/plain": [
       "<IPython.core.display.HTML object>"
      ]
     },
     "metadata": {},
     "output_type": "display_data"
    },
    {
     "data": {
      "text/html": [
       " View run <strong style=\"color:#cdcd00\">GCN_BFS_seed_16</strong> at: <a href='https://wandb.ai/noynetanel1-tel-aviv-university/GCN%20Graph%20classification%28Protein%29_Gal/runs/zz117r3o' target=\"_blank\">https://wandb.ai/noynetanel1-tel-aviv-university/GCN%20Graph%20classification%28Protein%29_Gal/runs/zz117r3o</a><br> View project at: <a href='https://wandb.ai/noynetanel1-tel-aviv-university/GCN%20Graph%20classification%28Protein%29_Gal' target=\"_blank\">https://wandb.ai/noynetanel1-tel-aviv-university/GCN%20Graph%20classification%28Protein%29_Gal</a><br>Synced 5 W&B file(s), 0 media file(s), 0 artifact file(s) and 0 other file(s)"
      ],
      "text/plain": [
       "<IPython.core.display.HTML object>"
      ]
     },
     "metadata": {},
     "output_type": "display_data"
    },
    {
     "data": {
      "text/html": [
       "Find logs at: <code>./wandb/run-20250820_153353-zz117r3o/logs</code>"
      ],
      "text/plain": [
       "<IPython.core.display.HTML object>"
      ]
     },
     "metadata": {},
     "output_type": "display_data"
    },
    {
     "data": {
      "text/html": [
       "Tracking run with wandb version 0.20.1"
      ],
      "text/plain": [
       "<IPython.core.display.HTML object>"
      ]
     },
     "metadata": {},
     "output_type": "display_data"
    },
    {
     "data": {
      "text/html": [
       "Run data is saved locally in <code>/kaggle/working/wandb/run-20250820_153755-mef1nh48</code>"
      ],
      "text/plain": [
       "<IPython.core.display.HTML object>"
      ]
     },
     "metadata": {},
     "output_type": "display_data"
    },
    {
     "data": {
      "text/html": [
       "Syncing run <strong><a href='https://wandb.ai/noynetanel1-tel-aviv-university/GCN%20Graph%20classification%28Protein%29_Gal/runs/mef1nh48' target=\"_blank\">GCN_BFS_seed_17</a></strong> to <a href='https://wandb.ai/noynetanel1-tel-aviv-university/GCN%20Graph%20classification%28Protein%29_Gal' target=\"_blank\">Weights & Biases</a> (<a href='https://wandb.me/developer-guide' target=\"_blank\">docs</a>)<br>"
      ],
      "text/plain": [
       "<IPython.core.display.HTML object>"
      ]
     },
     "metadata": {},
     "output_type": "display_data"
    },
    {
     "data": {
      "text/html": [
       " View project at <a href='https://wandb.ai/noynetanel1-tel-aviv-university/GCN%20Graph%20classification%28Protein%29_Gal' target=\"_blank\">https://wandb.ai/noynetanel1-tel-aviv-university/GCN%20Graph%20classification%28Protein%29_Gal</a>"
      ],
      "text/plain": [
       "<IPython.core.display.HTML object>"
      ]
     },
     "metadata": {},
     "output_type": "display_data"
    },
    {
     "data": {
      "text/html": [
       " View run at <a href='https://wandb.ai/noynetanel1-tel-aviv-university/GCN%20Graph%20classification%28Protein%29_Gal/runs/mef1nh48' target=\"_blank\">https://wandb.ai/noynetanel1-tel-aviv-university/GCN%20Graph%20classification%28Protein%29_Gal/runs/mef1nh48</a>"
      ],
      "text/plain": [
       "<IPython.core.display.HTML object>"
      ]
     },
     "metadata": {},
     "output_type": "display_data"
    },
    {
     "name": "stdout",
     "output_type": "stream",
     "text": [
      "Seed 17 | Epoch 001 | Loss: 0.6778 | Test Acc: 0.6009\n",
      "Seed 17 | Epoch 002 | Loss: 0.6721 | Test Acc: 0.6009\n",
      "Seed 17 | Epoch 003 | Loss: 0.6680 | Test Acc: 0.6009\n",
      "Seed 17 | Epoch 004 | Loss: 0.6620 | Test Acc: 0.6278\n",
      "Seed 17 | Epoch 005 | Loss: 0.6566 | Test Acc: 0.6457\n",
      "Seed 17 | Epoch 006 | Loss: 0.6508 | Test Acc: 0.6413\n",
      "Seed 17 | Epoch 007 | Loss: 0.6422 | Test Acc: 0.6368\n",
      "Seed 17 | Epoch 008 | Loss: 0.6335 | Test Acc: 0.6861\n",
      "Seed 17 | Epoch 009 | Loss: 0.6268 | Test Acc: 0.6771\n",
      "Seed 17 | Epoch 010 | Loss: 0.6204 | Test Acc: 0.6951\n",
      "Seed 17 | Epoch 011 | Loss: 0.6139 | Test Acc: 0.6996\n",
      "Seed 17 | Epoch 012 | Loss: 0.6116 | Test Acc: 0.6861\n",
      "Seed 17 | Epoch 013 | Loss: 0.6108 | Test Acc: 0.6996\n",
      "Seed 17 | Epoch 014 | Loss: 0.6090 | Test Acc: 0.7085\n",
      "Seed 17 | Epoch 015 | Loss: 0.6004 | Test Acc: 0.7040\n",
      "Seed 17 | Epoch 016 | Loss: 0.5972 | Test Acc: 0.7085\n",
      "Seed 17 | Epoch 017 | Loss: 0.5949 | Test Acc: 0.7085\n",
      "Seed 17 | Epoch 018 | Loss: 0.5905 | Test Acc: 0.7309\n",
      "Seed 17 | Epoch 019 | Loss: 0.5836 | Test Acc: 0.7578\n",
      "Seed 17 | Epoch 020 | Loss: 0.5808 | Test Acc: 0.7040\n",
      "Seed 17 | Epoch 021 | Loss: 0.5802 | Test Acc: 0.7354\n",
      "Seed 17 | Epoch 022 | Loss: 0.5721 | Test Acc: 0.7354\n",
      "Seed 17 | Epoch 023 | Loss: 0.5675 | Test Acc: 0.7489\n",
      "Seed 17 | Epoch 024 | Loss: 0.5674 | Test Acc: 0.7444\n",
      "Seed 17 | Epoch 025 | Loss: 0.5621 | Test Acc: 0.7534\n",
      "Seed 17 | Epoch 026 | Loss: 0.5614 | Test Acc: 0.7444\n",
      "Seed 17 | Epoch 027 | Loss: 0.5534 | Test Acc: 0.7578\n",
      "Seed 17 | Epoch 028 | Loss: 0.5524 | Test Acc: 0.7489\n",
      "Seed 17 | Epoch 029 | Loss: 0.5526 | Test Acc: 0.7534\n",
      "Seed 17 | Epoch 030 | Loss: 0.5475 | Test Acc: 0.7489\n",
      "Seed 17 | Epoch 031 | Loss: 0.5448 | Test Acc: 0.7668\n",
      "Seed 17 | Epoch 032 | Loss: 0.5540 | Test Acc: 0.7354\n",
      "Seed 17 | Epoch 033 | Loss: 0.5435 | Test Acc: 0.7265\n",
      "Seed 17 | Epoch 034 | Loss: 0.5461 | Test Acc: 0.7848\n",
      "Seed 17 | Epoch 035 | Loss: 0.5330 | Test Acc: 0.7354\n",
      "Seed 17 | Epoch 036 | Loss: 0.5478 | Test Acc: 0.7803\n",
      "Seed 17 | Epoch 037 | Loss: 0.5464 | Test Acc: 0.7578\n",
      "Seed 17 | Epoch 038 | Loss: 0.5340 | Test Acc: 0.7578\n",
      "Seed 17 | Epoch 039 | Loss: 0.5326 | Test Acc: 0.7848\n",
      "Seed 17 | Epoch 040 | Loss: 0.5342 | Test Acc: 0.7444\n",
      "Seed 17 | Epoch 041 | Loss: 0.5505 | Test Acc: 0.7534\n",
      "Seed 17 | Epoch 042 | Loss: 0.5366 | Test Acc: 0.7803\n",
      "Seed 17 | Epoch 043 | Loss: 0.5270 | Test Acc: 0.7758\n",
      "Seed 17 | Epoch 044 | Loss: 0.5334 | Test Acc: 0.7892\n",
      "Seed 17 | Epoch 045 | Loss: 0.5258 | Test Acc: 0.7803\n",
      "Seed 17 | Epoch 046 | Loss: 0.5317 | Test Acc: 0.7713\n",
      "Seed 17 | Epoch 047 | Loss: 0.5327 | Test Acc: 0.7444\n",
      "Seed 17 | Epoch 048 | Loss: 0.5287 | Test Acc: 0.7668\n",
      "Seed 17 | Epoch 049 | Loss: 0.5282 | Test Acc: 0.7758\n",
      "Seed 17 | Epoch 050 | Loss: 0.5202 | Test Acc: 0.7489\n"
     ]
    },
    {
     "data": {
      "text/html": [],
      "text/plain": [
       "<IPython.core.display.HTML object>"
      ]
     },
     "metadata": {},
     "output_type": "display_data"
    },
    {
     "data": {
      "text/html": [
       "<br>    <style><br>        .wandb-row {<br>            display: flex;<br>            flex-direction: row;<br>            flex-wrap: wrap;<br>            justify-content: flex-start;<br>            width: 100%;<br>        }<br>        .wandb-col {<br>            display: flex;<br>            flex-direction: column;<br>            flex-basis: 100%;<br>            flex: 1;<br>            padding: 10px;<br>        }<br>    </style><br><div class=\"wandb-row\"><div class=\"wandb-col\"><h3>Run history:</h3><br/><table class=\"wandb\"><tr><td>epoch</td><td>▁▁▁▂▂▂▂▂▂▃▃▃▃▃▃▄▄▄▄▄▅▅▅▅▅▅▆▆▆▆▆▆▇▇▇▇▇███</td></tr><tr><td>loss</td><td>███▇▇▆▆▆▅▅▅▅▄▄▄▄▄▄▃▃▃▃▂▂▂▂▂▂▂▁▂▁▁▁▂▁▁▁▁▁</td></tr><tr><td>test_acc</td><td>▁▁▂▃▃▄▄▅▅▄▅▅▅▅▆▅▆▆▇▆▆▇▇▇▇▆▆█▆██▆▇███▇▆▇▇</td></tr><tr><td>train_acc</td><td>▁▁▁▂▃▃▆▅▆▅▆▆▆▆▆▆▇▇▇▆▇▇██▇▆█▇███▇▇████▇█▇</td></tr></table><br/></div><div class=\"wandb-col\"><h3>Run summary:</h3><br/><table class=\"wandb\"><tr><td>epoch</td><td>50</td></tr><tr><td>loss</td><td>0.52018</td></tr><tr><td>test_acc</td><td>0.74888</td></tr><tr><td>train_acc</td><td>0.73034</td></tr></table><br/></div></div>"
      ],
      "text/plain": [
       "<IPython.core.display.HTML object>"
      ]
     },
     "metadata": {},
     "output_type": "display_data"
    },
    {
     "data": {
      "text/html": [
       " View run <strong style=\"color:#cdcd00\">GCN_BFS_seed_17</strong> at: <a href='https://wandb.ai/noynetanel1-tel-aviv-university/GCN%20Graph%20classification%28Protein%29_Gal/runs/mef1nh48' target=\"_blank\">https://wandb.ai/noynetanel1-tel-aviv-university/GCN%20Graph%20classification%28Protein%29_Gal/runs/mef1nh48</a><br> View project at: <a href='https://wandb.ai/noynetanel1-tel-aviv-university/GCN%20Graph%20classification%28Protein%29_Gal' target=\"_blank\">https://wandb.ai/noynetanel1-tel-aviv-university/GCN%20Graph%20classification%28Protein%29_Gal</a><br>Synced 5 W&B file(s), 0 media file(s), 0 artifact file(s) and 0 other file(s)"
      ],
      "text/plain": [
       "<IPython.core.display.HTML object>"
      ]
     },
     "metadata": {},
     "output_type": "display_data"
    },
    {
     "data": {
      "text/html": [
       "Find logs at: <code>./wandb/run-20250820_153755-mef1nh48/logs</code>"
      ],
      "text/plain": [
       "<IPython.core.display.HTML object>"
      ]
     },
     "metadata": {},
     "output_type": "display_data"
    },
    {
     "data": {
      "text/html": [
       "Tracking run with wandb version 0.20.1"
      ],
      "text/plain": [
       "<IPython.core.display.HTML object>"
      ]
     },
     "metadata": {},
     "output_type": "display_data"
    },
    {
     "data": {
      "text/html": [
       "Run data is saved locally in <code>/kaggle/working/wandb/run-20250820_154013-y2101ewn</code>"
      ],
      "text/plain": [
       "<IPython.core.display.HTML object>"
      ]
     },
     "metadata": {},
     "output_type": "display_data"
    },
    {
     "data": {
      "text/html": [
       "Syncing run <strong><a href='https://wandb.ai/noynetanel1-tel-aviv-university/GCN%20Graph%20classification%28Protein%29_Gal/runs/y2101ewn' target=\"_blank\">GCN_BFS_seed_18</a></strong> to <a href='https://wandb.ai/noynetanel1-tel-aviv-university/GCN%20Graph%20classification%28Protein%29_Gal' target=\"_blank\">Weights & Biases</a> (<a href='https://wandb.me/developer-guide' target=\"_blank\">docs</a>)<br>"
      ],
      "text/plain": [
       "<IPython.core.display.HTML object>"
      ]
     },
     "metadata": {},
     "output_type": "display_data"
    },
    {
     "data": {
      "text/html": [
       " View project at <a href='https://wandb.ai/noynetanel1-tel-aviv-university/GCN%20Graph%20classification%28Protein%29_Gal' target=\"_blank\">https://wandb.ai/noynetanel1-tel-aviv-university/GCN%20Graph%20classification%28Protein%29_Gal</a>"
      ],
      "text/plain": [
       "<IPython.core.display.HTML object>"
      ]
     },
     "metadata": {},
     "output_type": "display_data"
    },
    {
     "data": {
      "text/html": [
       " View run at <a href='https://wandb.ai/noynetanel1-tel-aviv-university/GCN%20Graph%20classification%28Protein%29_Gal/runs/y2101ewn' target=\"_blank\">https://wandb.ai/noynetanel1-tel-aviv-university/GCN%20Graph%20classification%28Protein%29_Gal/runs/y2101ewn</a>"
      ],
      "text/plain": [
       "<IPython.core.display.HTML object>"
      ]
     },
     "metadata": {},
     "output_type": "display_data"
    },
    {
     "name": "stdout",
     "output_type": "stream",
     "text": [
      "Seed 18 | Epoch 001 | Loss: 0.6750 | Test Acc: 0.6143\n",
      "Seed 18 | Epoch 002 | Loss: 0.6663 | Test Acc: 0.6054\n",
      "Seed 18 | Epoch 003 | Loss: 0.6616 | Test Acc: 0.6188\n",
      "Seed 18 | Epoch 004 | Loss: 0.6557 | Test Acc: 0.6233\n",
      "Seed 18 | Epoch 005 | Loss: 0.6497 | Test Acc: 0.6323\n",
      "Seed 18 | Epoch 006 | Loss: 0.6439 | Test Acc: 0.6188\n",
      "Seed 18 | Epoch 007 | Loss: 0.6394 | Test Acc: 0.6278\n",
      "Seed 18 | Epoch 008 | Loss: 0.6310 | Test Acc: 0.6233\n",
      "Seed 18 | Epoch 009 | Loss: 0.6230 | Test Acc: 0.6413\n",
      "Seed 18 | Epoch 010 | Loss: 0.6184 | Test Acc: 0.6502\n",
      "Seed 18 | Epoch 011 | Loss: 0.6076 | Test Acc: 0.6502\n",
      "Seed 18 | Epoch 012 | Loss: 0.6047 | Test Acc: 0.6457\n",
      "Seed 18 | Epoch 013 | Loss: 0.6017 | Test Acc: 0.6457\n",
      "Seed 18 | Epoch 014 | Loss: 0.5948 | Test Acc: 0.6592\n",
      "Seed 18 | Epoch 015 | Loss: 0.5886 | Test Acc: 0.6502\n",
      "Seed 18 | Epoch 016 | Loss: 0.5786 | Test Acc: 0.6771\n",
      "Seed 18 | Epoch 017 | Loss: 0.5752 | Test Acc: 0.6726\n",
      "Seed 18 | Epoch 018 | Loss: 0.5687 | Test Acc: 0.6771\n",
      "Seed 18 | Epoch 019 | Loss: 0.5680 | Test Acc: 0.6816\n",
      "Seed 18 | Epoch 020 | Loss: 0.5737 | Test Acc: 0.6726\n",
      "Seed 18 | Epoch 021 | Loss: 0.5637 | Test Acc: 0.6861\n",
      "Seed 18 | Epoch 022 | Loss: 0.5585 | Test Acc: 0.6951\n",
      "Seed 18 | Epoch 023 | Loss: 0.5555 | Test Acc: 0.6951\n",
      "Seed 18 | Epoch 024 | Loss: 0.5430 | Test Acc: 0.6951\n",
      "Seed 18 | Epoch 025 | Loss: 0.5458 | Test Acc: 0.7040\n",
      "Seed 18 | Epoch 026 | Loss: 0.5356 | Test Acc: 0.7040\n",
      "Seed 18 | Epoch 027 | Loss: 0.5352 | Test Acc: 0.7130\n",
      "Seed 18 | Epoch 028 | Loss: 0.5393 | Test Acc: 0.6771\n",
      "Seed 18 | Epoch 029 | Loss: 0.5291 | Test Acc: 0.6996\n",
      "Seed 18 | Epoch 030 | Loss: 0.5271 | Test Acc: 0.7040\n",
      "Seed 18 | Epoch 031 | Loss: 0.5235 | Test Acc: 0.7265\n",
      "Seed 18 | Epoch 032 | Loss: 0.5290 | Test Acc: 0.7085\n",
      "Seed 18 | Epoch 033 | Loss: 0.5247 | Test Acc: 0.7130\n",
      "Seed 18 | Epoch 034 | Loss: 0.5197 | Test Acc: 0.7085\n",
      "Seed 18 | Epoch 035 | Loss: 0.5192 | Test Acc: 0.6951\n",
      "Seed 18 | Epoch 036 | Loss: 0.5174 | Test Acc: 0.7040\n",
      "Seed 18 | Epoch 037 | Loss: 0.5094 | Test Acc: 0.7085\n",
      "Seed 18 | Epoch 038 | Loss: 0.5193 | Test Acc: 0.7130\n",
      "Seed 18 | Epoch 039 | Loss: 0.5262 | Test Acc: 0.7040\n",
      "Seed 18 | Epoch 040 | Loss: 0.5141 | Test Acc: 0.7130\n",
      "Seed 18 | Epoch 041 | Loss: 0.5108 | Test Acc: 0.7085\n",
      "Seed 18 | Epoch 042 | Loss: 0.5109 | Test Acc: 0.7130\n",
      "Seed 18 | Epoch 043 | Loss: 0.5063 | Test Acc: 0.7085\n",
      "Seed 18 | Epoch 044 | Loss: 0.5021 | Test Acc: 0.7175\n",
      "Seed 18 | Epoch 045 | Loss: 0.5143 | Test Acc: 0.7130\n",
      "Seed 18 | Epoch 046 | Loss: 0.5108 | Test Acc: 0.7130\n",
      "Seed 18 | Epoch 047 | Loss: 0.5032 | Test Acc: 0.7175\n",
      "Seed 18 | Epoch 048 | Loss: 0.5036 | Test Acc: 0.7175\n",
      "Seed 18 | Epoch 049 | Loss: 0.5076 | Test Acc: 0.7040\n",
      "Seed 18 | Epoch 050 | Loss: 0.5028 | Test Acc: 0.7175\n"
     ]
    },
    {
     "data": {
      "text/html": [],
      "text/plain": [
       "<IPython.core.display.HTML object>"
      ]
     },
     "metadata": {},
     "output_type": "display_data"
    },
    {
     "data": {
      "text/html": [
       "<br>    <style><br>        .wandb-row {<br>            display: flex;<br>            flex-direction: row;<br>            flex-wrap: wrap;<br>            justify-content: flex-start;<br>            width: 100%;<br>        }<br>        .wandb-col {<br>            display: flex;<br>            flex-direction: column;<br>            flex-basis: 100%;<br>            flex: 1;<br>            padding: 10px;<br>        }<br>    </style><br><div class=\"wandb-row\"><div class=\"wandb-col\"><h3>Run history:</h3><br/><table class=\"wandb\"><tr><td>epoch</td><td>▁▁▁▁▂▂▂▂▂▃▃▃▃▃▃▄▄▄▄▄▅▅▅▅▅▆▆▆▆▆▆▇▇▇▇▇▇███</td></tr><tr><td>loss</td><td>██▇▇▇▇▆▆▆▅▅▅▄▄▄▄▄▃▃▃▃▂▂▂▂▂▂▂▂▂▂▂▁▁▁▁▁▁▁▁</td></tr><tr><td>test_acc</td><td>▁▁▂▂▁▂▃▃▃▃▄▃▅▅▅▅▅▆▆▆▇▇▆▇█▇▇▆▇▇▇▇▇▇▇▇▇▇▇▇</td></tr><tr><td>train_acc</td><td>▁▃▃▄▃▃▄▄▄▅▆▅▆▆▆▆▇▇▇▇▇▆█▇▇▇████▇▇████▇▇██</td></tr></table><br/></div><div class=\"wandb-col\"><h3>Run summary:</h3><br/><table class=\"wandb\"><tr><td>epoch</td><td>50</td></tr><tr><td>loss</td><td>0.50277</td></tr><tr><td>test_acc</td><td>0.71749</td></tr><tr><td>train_acc</td><td>0.76854</td></tr></table><br/></div></div>"
      ],
      "text/plain": [
       "<IPython.core.display.HTML object>"
      ]
     },
     "metadata": {},
     "output_type": "display_data"
    },
    {
     "data": {
      "text/html": [
       " View run <strong style=\"color:#cdcd00\">GCN_BFS_seed_18</strong> at: <a href='https://wandb.ai/noynetanel1-tel-aviv-university/GCN%20Graph%20classification%28Protein%29_Gal/runs/y2101ewn' target=\"_blank\">https://wandb.ai/noynetanel1-tel-aviv-university/GCN%20Graph%20classification%28Protein%29_Gal/runs/y2101ewn</a><br> View project at: <a href='https://wandb.ai/noynetanel1-tel-aviv-university/GCN%20Graph%20classification%28Protein%29_Gal' target=\"_blank\">https://wandb.ai/noynetanel1-tel-aviv-university/GCN%20Graph%20classification%28Protein%29_Gal</a><br>Synced 5 W&B file(s), 0 media file(s), 0 artifact file(s) and 0 other file(s)"
      ],
      "text/plain": [
       "<IPython.core.display.HTML object>"
      ]
     },
     "metadata": {},
     "output_type": "display_data"
    },
    {
     "data": {
      "text/html": [
       "Find logs at: <code>./wandb/run-20250820_154013-y2101ewn/logs</code>"
      ],
      "text/plain": [
       "<IPython.core.display.HTML object>"
      ]
     },
     "metadata": {},
     "output_type": "display_data"
    },
    {
     "data": {
      "text/html": [
       "Tracking run with wandb version 0.20.1"
      ],
      "text/plain": [
       "<IPython.core.display.HTML object>"
      ]
     },
     "metadata": {},
     "output_type": "display_data"
    },
    {
     "data": {
      "text/html": [
       "Run data is saved locally in <code>/kaggle/working/wandb/run-20250820_154229-zg7kbghw</code>"
      ],
      "text/plain": [
       "<IPython.core.display.HTML object>"
      ]
     },
     "metadata": {},
     "output_type": "display_data"
    },
    {
     "data": {
      "text/html": [
       "Syncing run <strong><a href='https://wandb.ai/noynetanel1-tel-aviv-university/GCN%20Graph%20classification%28Protein%29_Gal/runs/zg7kbghw' target=\"_blank\">GCN_BFS_seed_19</a></strong> to <a href='https://wandb.ai/noynetanel1-tel-aviv-university/GCN%20Graph%20classification%28Protein%29_Gal' target=\"_blank\">Weights & Biases</a> (<a href='https://wandb.me/developer-guide' target=\"_blank\">docs</a>)<br>"
      ],
      "text/plain": [
       "<IPython.core.display.HTML object>"
      ]
     },
     "metadata": {},
     "output_type": "display_data"
    },
    {
     "data": {
      "text/html": [
       " View project at <a href='https://wandb.ai/noynetanel1-tel-aviv-university/GCN%20Graph%20classification%28Protein%29_Gal' target=\"_blank\">https://wandb.ai/noynetanel1-tel-aviv-university/GCN%20Graph%20classification%28Protein%29_Gal</a>"
      ],
      "text/plain": [
       "<IPython.core.display.HTML object>"
      ]
     },
     "metadata": {},
     "output_type": "display_data"
    },
    {
     "data": {
      "text/html": [
       " View run at <a href='https://wandb.ai/noynetanel1-tel-aviv-university/GCN%20Graph%20classification%28Protein%29_Gal/runs/zg7kbghw' target=\"_blank\">https://wandb.ai/noynetanel1-tel-aviv-university/GCN%20Graph%20classification%28Protein%29_Gal/runs/zg7kbghw</a>"
      ],
      "text/plain": [
       "<IPython.core.display.HTML object>"
      ]
     },
     "metadata": {},
     "output_type": "display_data"
    },
    {
     "name": "stdout",
     "output_type": "stream",
     "text": [
      "Seed 19 | Epoch 001 | Loss: 0.6846 | Test Acc: 0.6054\n",
      "Seed 19 | Epoch 002 | Loss: 0.6759 | Test Acc: 0.6054\n",
      "Seed 19 | Epoch 003 | Loss: 0.6696 | Test Acc: 0.6054\n",
      "Seed 19 | Epoch 004 | Loss: 0.6644 | Test Acc: 0.6054\n",
      "Seed 19 | Epoch 005 | Loss: 0.6605 | Test Acc: 0.6592\n",
      "Seed 19 | Epoch 006 | Loss: 0.6539 | Test Acc: 0.6323\n",
      "Seed 19 | Epoch 007 | Loss: 0.6458 | Test Acc: 0.6637\n",
      "Seed 19 | Epoch 008 | Loss: 0.6413 | Test Acc: 0.6368\n",
      "Seed 19 | Epoch 009 | Loss: 0.6348 | Test Acc: 0.6682\n",
      "Seed 19 | Epoch 010 | Loss: 0.6287 | Test Acc: 0.6816\n",
      "Seed 19 | Epoch 011 | Loss: 0.6220 | Test Acc: 0.6906\n",
      "Seed 19 | Epoch 012 | Loss: 0.6224 | Test Acc: 0.6951\n",
      "Seed 19 | Epoch 013 | Loss: 0.6131 | Test Acc: 0.6951\n",
      "Seed 19 | Epoch 014 | Loss: 0.6136 | Test Acc: 0.6906\n",
      "Seed 19 | Epoch 015 | Loss: 0.6082 | Test Acc: 0.6996\n",
      "Seed 19 | Epoch 016 | Loss: 0.5987 | Test Acc: 0.7085\n",
      "Seed 19 | Epoch 017 | Loss: 0.5963 | Test Acc: 0.7130\n",
      "Seed 19 | Epoch 018 | Loss: 0.5892 | Test Acc: 0.7265\n",
      "Seed 19 | Epoch 019 | Loss: 0.5855 | Test Acc: 0.7175\n",
      "Seed 19 | Epoch 020 | Loss: 0.5849 | Test Acc: 0.7265\n",
      "Seed 19 | Epoch 021 | Loss: 0.5798 | Test Acc: 0.7265\n",
      "Seed 19 | Epoch 022 | Loss: 0.5785 | Test Acc: 0.7354\n",
      "Seed 19 | Epoch 023 | Loss: 0.5687 | Test Acc: 0.7265\n",
      "Seed 19 | Epoch 024 | Loss: 0.5718 | Test Acc: 0.7309\n",
      "Seed 19 | Epoch 025 | Loss: 0.5660 | Test Acc: 0.7175\n",
      "Seed 19 | Epoch 026 | Loss: 0.5575 | Test Acc: 0.7399\n",
      "Seed 19 | Epoch 027 | Loss: 0.5553 | Test Acc: 0.7085\n",
      "Seed 19 | Epoch 028 | Loss: 0.5622 | Test Acc: 0.7309\n",
      "Seed 19 | Epoch 029 | Loss: 0.5465 | Test Acc: 0.7265\n",
      "Seed 19 | Epoch 030 | Loss: 0.5442 | Test Acc: 0.7220\n",
      "Seed 19 | Epoch 031 | Loss: 0.5439 | Test Acc: 0.7399\n",
      "Seed 19 | Epoch 032 | Loss: 0.5443 | Test Acc: 0.7175\n",
      "Seed 19 | Epoch 033 | Loss: 0.5382 | Test Acc: 0.7489\n",
      "Seed 19 | Epoch 034 | Loss: 0.5325 | Test Acc: 0.7399\n",
      "Seed 19 | Epoch 035 | Loss: 0.5314 | Test Acc: 0.7309\n",
      "Seed 19 | Epoch 036 | Loss: 0.5313 | Test Acc: 0.7309\n",
      "Seed 19 | Epoch 037 | Loss: 0.5268 | Test Acc: 0.7399\n",
      "Seed 19 | Epoch 038 | Loss: 0.5260 | Test Acc: 0.7309\n",
      "Seed 19 | Epoch 039 | Loss: 0.5244 | Test Acc: 0.7309\n",
      "Seed 19 | Epoch 040 | Loss: 0.5315 | Test Acc: 0.7399\n",
      "Seed 19 | Epoch 041 | Loss: 0.5235 | Test Acc: 0.7534\n",
      "Seed 19 | Epoch 042 | Loss: 0.5201 | Test Acc: 0.7040\n",
      "Seed 19 | Epoch 043 | Loss: 0.5228 | Test Acc: 0.7578\n",
      "Seed 19 | Epoch 044 | Loss: 0.5180 | Test Acc: 0.7309\n",
      "Seed 19 | Epoch 045 | Loss: 0.5363 | Test Acc: 0.7578\n",
      "Seed 19 | Epoch 046 | Loss: 0.5210 | Test Acc: 0.7130\n",
      "Seed 19 | Epoch 047 | Loss: 0.5178 | Test Acc: 0.7220\n",
      "Seed 19 | Epoch 048 | Loss: 0.5164 | Test Acc: 0.7399\n",
      "Seed 19 | Epoch 049 | Loss: 0.5069 | Test Acc: 0.7354\n",
      "Seed 19 | Epoch 050 | Loss: 0.5038 | Test Acc: 0.7175\n"
     ]
    },
    {
     "data": {
      "text/html": [],
      "text/plain": [
       "<IPython.core.display.HTML object>"
      ]
     },
     "metadata": {},
     "output_type": "display_data"
    },
    {
     "data": {
      "text/html": [
       "<br>    <style><br>        .wandb-row {<br>            display: flex;<br>            flex-direction: row;<br>            flex-wrap: wrap;<br>            justify-content: flex-start;<br>            width: 100%;<br>        }<br>        .wandb-col {<br>            display: flex;<br>            flex-direction: column;<br>            flex-basis: 100%;<br>            flex: 1;<br>            padding: 10px;<br>        }<br>    </style><br><div class=\"wandb-row\"><div class=\"wandb-col\"><h3>Run history:</h3><br/><table class=\"wandb\"><tr><td>epoch</td><td>▁▁▁▁▂▂▂▂▂▃▃▃▃▃▄▄▄▄▄▄▅▅▅▅▅▆▆▆▆▆▆▇▇▇▇▇▇███</td></tr><tr><td>loss</td><td>██▇▇▇▆▆▆▆▆▅▅▅▅▄▄▄▄▄▃▃▃▃▃▃▂▂▂▂▂▂▂▂▂▂▂▂▂▁▁</td></tr><tr><td>test_acc</td><td>▁▁▁▁▃▄▂▄▄▅▅▅▆▆▆▇▇▇▇▆▆▇▇▆▇█▇▇▇▇▇▇█▆██▆▆▇▆</td></tr><tr><td>train_acc</td><td>▁▁▁▃▂▃▄▅▅▅▅▅▆▆▆▆▆▅▇▆▆▆▇▇▇▇▇▇▇▇▇▇▇█▇█▇███</td></tr></table><br/></div><div class=\"wandb-col\"><h3>Run summary:</h3><br/><table class=\"wandb\"><tr><td>epoch</td><td>50</td></tr><tr><td>loss</td><td>0.5038</td></tr><tr><td>test_acc</td><td>0.71749</td></tr><tr><td>train_acc</td><td>0.76629</td></tr></table><br/></div></div>"
      ],
      "text/plain": [
       "<IPython.core.display.HTML object>"
      ]
     },
     "metadata": {},
     "output_type": "display_data"
    },
    {
     "data": {
      "text/html": [
       " View run <strong style=\"color:#cdcd00\">GCN_BFS_seed_19</strong> at: <a href='https://wandb.ai/noynetanel1-tel-aviv-university/GCN%20Graph%20classification%28Protein%29_Gal/runs/zg7kbghw' target=\"_blank\">https://wandb.ai/noynetanel1-tel-aviv-university/GCN%20Graph%20classification%28Protein%29_Gal/runs/zg7kbghw</a><br> View project at: <a href='https://wandb.ai/noynetanel1-tel-aviv-university/GCN%20Graph%20classification%28Protein%29_Gal' target=\"_blank\">https://wandb.ai/noynetanel1-tel-aviv-university/GCN%20Graph%20classification%28Protein%29_Gal</a><br>Synced 5 W&B file(s), 0 media file(s), 0 artifact file(s) and 0 other file(s)"
      ],
      "text/plain": [
       "<IPython.core.display.HTML object>"
      ]
     },
     "metadata": {},
     "output_type": "display_data"
    },
    {
     "data": {
      "text/html": [
       "Find logs at: <code>./wandb/run-20250820_154229-zg7kbghw/logs</code>"
      ],
      "text/plain": [
       "<IPython.core.display.HTML object>"
      ]
     },
     "metadata": {},
     "output_type": "display_data"
    },
    {
     "data": {
      "text/html": [
       "Tracking run with wandb version 0.20.1"
      ],
      "text/plain": [
       "<IPython.core.display.HTML object>"
      ]
     },
     "metadata": {},
     "output_type": "display_data"
    },
    {
     "data": {
      "text/html": [
       "Run data is saved locally in <code>/kaggle/working/wandb/run-20250820_154447-js3k3u14</code>"
      ],
      "text/plain": [
       "<IPython.core.display.HTML object>"
      ]
     },
     "metadata": {},
     "output_type": "display_data"
    },
    {
     "data": {
      "text/html": [
       "Syncing run <strong><a href='https://wandb.ai/noynetanel1-tel-aviv-university/GCN%20Graph%20classification%28Protein%29_Gal/runs/js3k3u14' target=\"_blank\">GCN_BFS_seed_20</a></strong> to <a href='https://wandb.ai/noynetanel1-tel-aviv-university/GCN%20Graph%20classification%28Protein%29_Gal' target=\"_blank\">Weights & Biases</a> (<a href='https://wandb.me/developer-guide' target=\"_blank\">docs</a>)<br>"
      ],
      "text/plain": [
       "<IPython.core.display.HTML object>"
      ]
     },
     "metadata": {},
     "output_type": "display_data"
    },
    {
     "data": {
      "text/html": [
       " View project at <a href='https://wandb.ai/noynetanel1-tel-aviv-university/GCN%20Graph%20classification%28Protein%29_Gal' target=\"_blank\">https://wandb.ai/noynetanel1-tel-aviv-university/GCN%20Graph%20classification%28Protein%29_Gal</a>"
      ],
      "text/plain": [
       "<IPython.core.display.HTML object>"
      ]
     },
     "metadata": {},
     "output_type": "display_data"
    },
    {
     "data": {
      "text/html": [
       " View run at <a href='https://wandb.ai/noynetanel1-tel-aviv-university/GCN%20Graph%20classification%28Protein%29_Gal/runs/js3k3u14' target=\"_blank\">https://wandb.ai/noynetanel1-tel-aviv-university/GCN%20Graph%20classification%28Protein%29_Gal/runs/js3k3u14</a>"
      ],
      "text/plain": [
       "<IPython.core.display.HTML object>"
      ]
     },
     "metadata": {},
     "output_type": "display_data"
    },
    {
     "name": "stdout",
     "output_type": "stream",
     "text": [
      "Seed 20 | Epoch 001 | Loss: 0.6664 | Test Acc: 0.5067\n",
      "Seed 20 | Epoch 002 | Loss: 0.6601 | Test Acc: 0.5247\n",
      "Seed 20 | Epoch 003 | Loss: 0.6545 | Test Acc: 0.5336\n",
      "Seed 20 | Epoch 004 | Loss: 0.6505 | Test Acc: 0.5471\n",
      "Seed 20 | Epoch 005 | Loss: 0.6471 | Test Acc: 0.5740\n",
      "Seed 20 | Epoch 006 | Loss: 0.6425 | Test Acc: 0.5605\n",
      "Seed 20 | Epoch 007 | Loss: 0.6372 | Test Acc: 0.5740\n",
      "Seed 20 | Epoch 008 | Loss: 0.6322 | Test Acc: 0.5605\n",
      "Seed 20 | Epoch 009 | Loss: 0.6251 | Test Acc: 0.5650\n",
      "Seed 20 | Epoch 010 | Loss: 0.6254 | Test Acc: 0.5740\n",
      "Seed 20 | Epoch 011 | Loss: 0.6175 | Test Acc: 0.6502\n",
      "Seed 20 | Epoch 012 | Loss: 0.6199 | Test Acc: 0.6233\n",
      "Seed 20 | Epoch 013 | Loss: 0.6069 | Test Acc: 0.6054\n",
      "Seed 20 | Epoch 014 | Loss: 0.5989 | Test Acc: 0.6682\n",
      "Seed 20 | Epoch 015 | Loss: 0.6084 | Test Acc: 0.6592\n",
      "Seed 20 | Epoch 016 | Loss: 0.5939 | Test Acc: 0.6637\n",
      "Seed 20 | Epoch 017 | Loss: 0.5908 | Test Acc: 0.6368\n",
      "Seed 20 | Epoch 018 | Loss: 0.5870 | Test Acc: 0.7309\n",
      "Seed 20 | Epoch 019 | Loss: 0.5911 | Test Acc: 0.6457\n",
      "Seed 20 | Epoch 020 | Loss: 0.5732 | Test Acc: 0.6726\n",
      "Seed 20 | Epoch 021 | Loss: 0.5755 | Test Acc: 0.7175\n",
      "Seed 20 | Epoch 022 | Loss: 0.5794 | Test Acc: 0.7085\n",
      "Seed 20 | Epoch 023 | Loss: 0.5629 | Test Acc: 0.7175\n",
      "Seed 20 | Epoch 024 | Loss: 0.5600 | Test Acc: 0.6457\n",
      "Seed 20 | Epoch 025 | Loss: 0.5624 | Test Acc: 0.6682\n",
      "Seed 20 | Epoch 026 | Loss: 0.5571 | Test Acc: 0.6413\n",
      "Seed 20 | Epoch 027 | Loss: 0.5561 | Test Acc: 0.6726\n",
      "Seed 20 | Epoch 028 | Loss: 0.5473 | Test Acc: 0.6726\n",
      "Seed 20 | Epoch 029 | Loss: 0.5421 | Test Acc: 0.6726\n",
      "Seed 20 | Epoch 030 | Loss: 0.5408 | Test Acc: 0.6682\n",
      "Seed 20 | Epoch 031 | Loss: 0.5393 | Test Acc: 0.7399\n",
      "Seed 20 | Epoch 032 | Loss: 0.5451 | Test Acc: 0.6771\n",
      "Seed 20 | Epoch 033 | Loss: 0.5342 | Test Acc: 0.7040\n",
      "Seed 20 | Epoch 034 | Loss: 0.5308 | Test Acc: 0.6637\n",
      "Seed 20 | Epoch 035 | Loss: 0.5269 | Test Acc: 0.7220\n",
      "Seed 20 | Epoch 036 | Loss: 0.5286 | Test Acc: 0.7265\n",
      "Seed 20 | Epoch 037 | Loss: 0.5237 | Test Acc: 0.6771\n",
      "Seed 20 | Epoch 038 | Loss: 0.5260 | Test Acc: 0.6861\n",
      "Seed 20 | Epoch 039 | Loss: 0.5199 | Test Acc: 0.6996\n",
      "Seed 20 | Epoch 040 | Loss: 0.5295 | Test Acc: 0.7354\n",
      "Seed 20 | Epoch 041 | Loss: 0.5249 | Test Acc: 0.6951\n",
      "Seed 20 | Epoch 042 | Loss: 0.5218 | Test Acc: 0.6861\n",
      "Seed 20 | Epoch 043 | Loss: 0.5145 | Test Acc: 0.6996\n",
      "Seed 20 | Epoch 044 | Loss: 0.5141 | Test Acc: 0.7130\n",
      "Seed 20 | Epoch 045 | Loss: 0.5101 | Test Acc: 0.6861\n",
      "Seed 20 | Epoch 046 | Loss: 0.5201 | Test Acc: 0.6996\n",
      "Seed 20 | Epoch 047 | Loss: 0.5131 | Test Acc: 0.6906\n",
      "Seed 20 | Epoch 048 | Loss: 0.5130 | Test Acc: 0.7309\n",
      "Seed 20 | Epoch 049 | Loss: 0.5361 | Test Acc: 0.6816\n",
      "Seed 20 | Epoch 050 | Loss: 0.5222 | Test Acc: 0.7354\n"
     ]
    },
    {
     "data": {
      "text/html": [],
      "text/plain": [
       "<IPython.core.display.HTML object>"
      ]
     },
     "metadata": {},
     "output_type": "display_data"
    },
    {
     "data": {
      "text/html": [
       "<br>    <style><br>        .wandb-row {<br>            display: flex;<br>            flex-direction: row;<br>            flex-wrap: wrap;<br>            justify-content: flex-start;<br>            width: 100%;<br>        }<br>        .wandb-col {<br>            display: flex;<br>            flex-direction: column;<br>            flex-basis: 100%;<br>            flex: 1;<br>            padding: 10px;<br>        }<br>    </style><br><div class=\"wandb-row\"><div class=\"wandb-col\"><h3>Run history:</h3><br/><table class=\"wandb\"><tr><td>epoch</td><td>▁▁▁▁▂▂▂▂▂▃▃▃▃▃▃▄▄▄▄▄▅▅▅▅▅▅▆▆▆▆▆▇▇▇▇▇▇███</td></tr><tr><td>loss</td><td>██▇▇▇▇▆▆▆▆▅▅▅▅▅▅▄▄▄▃▃▃▃▃▂▃▂▂▂▂▂▁▂▂▁▁▁▁▁▂</td></tr><tr><td>test_acc</td><td>▁▂▂▂▃▃▃▃▃▅▆▆▆▅█▆▇▇▇▅▅▆▆▆▆▆▇▆██▆▇█▆▇▆▇▇██</td></tr><tr><td>train_acc</td><td>▁▂▂▂▃▃▃▃▃▅▄▅▅▅▆▆▆▆▆▆▇▅▇▇▇▇▇▇█▇▇█▇▇▇▇▇▇██</td></tr></table><br/></div><div class=\"wandb-col\"><h3>Run summary:</h3><br/><table class=\"wandb\"><tr><td>epoch</td><td>50</td></tr><tr><td>loss</td><td>0.52217</td></tr><tr><td>test_acc</td><td>0.73543</td></tr><tr><td>train_acc</td><td>0.77416</td></tr></table><br/></div></div>"
      ],
      "text/plain": [
       "<IPython.core.display.HTML object>"
      ]
     },
     "metadata": {},
     "output_type": "display_data"
    },
    {
     "data": {
      "text/html": [
       " View run <strong style=\"color:#cdcd00\">GCN_BFS_seed_20</strong> at: <a href='https://wandb.ai/noynetanel1-tel-aviv-university/GCN%20Graph%20classification%28Protein%29_Gal/runs/js3k3u14' target=\"_blank\">https://wandb.ai/noynetanel1-tel-aviv-university/GCN%20Graph%20classification%28Protein%29_Gal/runs/js3k3u14</a><br> View project at: <a href='https://wandb.ai/noynetanel1-tel-aviv-university/GCN%20Graph%20classification%28Protein%29_Gal' target=\"_blank\">https://wandb.ai/noynetanel1-tel-aviv-university/GCN%20Graph%20classification%28Protein%29_Gal</a><br>Synced 5 W&B file(s), 0 media file(s), 0 artifact file(s) and 0 other file(s)"
      ],
      "text/plain": [
       "<IPython.core.display.HTML object>"
      ]
     },
     "metadata": {},
     "output_type": "display_data"
    },
    {
     "data": {
      "text/html": [
       "Find logs at: <code>./wandb/run-20250820_154447-js3k3u14/logs</code>"
      ],
      "text/plain": [
       "<IPython.core.display.HTML object>"
      ]
     },
     "metadata": {},
     "output_type": "display_data"
    },
    {
     "data": {
      "text/html": [
       "Tracking run with wandb version 0.20.1"
      ],
      "text/plain": [
       "<IPython.core.display.HTML object>"
      ]
     },
     "metadata": {},
     "output_type": "display_data"
    },
    {
     "data": {
      "text/html": [
       "Run data is saved locally in <code>/kaggle/working/wandb/run-20250820_154702-ikw0d9mo</code>"
      ],
      "text/plain": [
       "<IPython.core.display.HTML object>"
      ]
     },
     "metadata": {},
     "output_type": "display_data"
    },
    {
     "data": {
      "text/html": [
       "Syncing run <strong><a href='https://wandb.ai/noynetanel1-tel-aviv-university/GCN%20Graph%20classification%28Protein%29_Gal/runs/ikw0d9mo' target=\"_blank\">GCN_BFS_seed_21</a></strong> to <a href='https://wandb.ai/noynetanel1-tel-aviv-university/GCN%20Graph%20classification%28Protein%29_Gal' target=\"_blank\">Weights & Biases</a> (<a href='https://wandb.me/developer-guide' target=\"_blank\">docs</a>)<br>"
      ],
      "text/plain": [
       "<IPython.core.display.HTML object>"
      ]
     },
     "metadata": {},
     "output_type": "display_data"
    },
    {
     "data": {
      "text/html": [
       " View project at <a href='https://wandb.ai/noynetanel1-tel-aviv-university/GCN%20Graph%20classification%28Protein%29_Gal' target=\"_blank\">https://wandb.ai/noynetanel1-tel-aviv-university/GCN%20Graph%20classification%28Protein%29_Gal</a>"
      ],
      "text/plain": [
       "<IPython.core.display.HTML object>"
      ]
     },
     "metadata": {},
     "output_type": "display_data"
    },
    {
     "data": {
      "text/html": [
       " View run at <a href='https://wandb.ai/noynetanel1-tel-aviv-university/GCN%20Graph%20classification%28Protein%29_Gal/runs/ikw0d9mo' target=\"_blank\">https://wandb.ai/noynetanel1-tel-aviv-university/GCN%20Graph%20classification%28Protein%29_Gal/runs/ikw0d9mo</a>"
      ],
      "text/plain": [
       "<IPython.core.display.HTML object>"
      ]
     },
     "metadata": {},
     "output_type": "display_data"
    },
    {
     "name": "stdout",
     "output_type": "stream",
     "text": [
      "Seed 21 | Epoch 001 | Loss: 0.6735 | Test Acc: 0.5605\n",
      "Seed 21 | Epoch 002 | Loss: 0.6640 | Test Acc: 0.5605\n",
      "Seed 21 | Epoch 003 | Loss: 0.6587 | Test Acc: 0.5919\n",
      "Seed 21 | Epoch 004 | Loss: 0.6521 | Test Acc: 0.5874\n",
      "Seed 21 | Epoch 005 | Loss: 0.6469 | Test Acc: 0.5919\n",
      "Seed 21 | Epoch 006 | Loss: 0.6394 | Test Acc: 0.6143\n",
      "Seed 21 | Epoch 007 | Loss: 0.6310 | Test Acc: 0.6637\n",
      "Seed 21 | Epoch 008 | Loss: 0.6295 | Test Acc: 0.6771\n",
      "Seed 21 | Epoch 009 | Loss: 0.6226 | Test Acc: 0.6682\n",
      "Seed 21 | Epoch 010 | Loss: 0.6171 | Test Acc: 0.6861\n",
      "Seed 21 | Epoch 011 | Loss: 0.6174 | Test Acc: 0.6457\n",
      "Seed 21 | Epoch 012 | Loss: 0.6120 | Test Acc: 0.6816\n",
      "Seed 21 | Epoch 013 | Loss: 0.6125 | Test Acc: 0.6996\n",
      "Seed 21 | Epoch 014 | Loss: 0.6083 | Test Acc: 0.6951\n",
      "Seed 21 | Epoch 015 | Loss: 0.6002 | Test Acc: 0.6996\n",
      "Seed 21 | Epoch 016 | Loss: 0.5990 | Test Acc: 0.6771\n",
      "Seed 21 | Epoch 017 | Loss: 0.5984 | Test Acc: 0.6996\n",
      "Seed 21 | Epoch 018 | Loss: 0.5924 | Test Acc: 0.6951\n",
      "Seed 21 | Epoch 019 | Loss: 0.5955 | Test Acc: 0.7085\n",
      "Seed 21 | Epoch 020 | Loss: 0.5918 | Test Acc: 0.7040\n",
      "Seed 21 | Epoch 021 | Loss: 0.5832 | Test Acc: 0.7175\n",
      "Seed 21 | Epoch 022 | Loss: 0.5794 | Test Acc: 0.7175\n",
      "Seed 21 | Epoch 023 | Loss: 0.5794 | Test Acc: 0.7175\n",
      "Seed 21 | Epoch 024 | Loss: 0.5765 | Test Acc: 0.7220\n",
      "Seed 21 | Epoch 025 | Loss: 0.5710 | Test Acc: 0.6592\n",
      "Seed 21 | Epoch 026 | Loss: 0.5769 | Test Acc: 0.6951\n",
      "Seed 21 | Epoch 027 | Loss: 0.5666 | Test Acc: 0.7354\n",
      "Seed 21 | Epoch 028 | Loss: 0.5645 | Test Acc: 0.7354\n",
      "Seed 21 | Epoch 029 | Loss: 0.5702 | Test Acc: 0.6457\n",
      "Seed 21 | Epoch 030 | Loss: 0.5789 | Test Acc: 0.6861\n",
      "Seed 21 | Epoch 031 | Loss: 0.5638 | Test Acc: 0.7578\n",
      "Seed 21 | Epoch 032 | Loss: 0.5603 | Test Acc: 0.7309\n",
      "Seed 21 | Epoch 033 | Loss: 0.5544 | Test Acc: 0.7489\n",
      "Seed 21 | Epoch 034 | Loss: 0.5500 | Test Acc: 0.7309\n",
      "Seed 21 | Epoch 035 | Loss: 0.5487 | Test Acc: 0.7040\n",
      "Seed 21 | Epoch 036 | Loss: 0.5460 | Test Acc: 0.7578\n",
      "Seed 21 | Epoch 037 | Loss: 0.5466 | Test Acc: 0.7175\n",
      "Seed 21 | Epoch 038 | Loss: 0.5435 | Test Acc: 0.7085\n",
      "Seed 21 | Epoch 039 | Loss: 0.5459 | Test Acc: 0.7130\n",
      "Seed 21 | Epoch 040 | Loss: 0.5422 | Test Acc: 0.7444\n",
      "Seed 21 | Epoch 041 | Loss: 0.5393 | Test Acc: 0.7578\n",
      "Seed 21 | Epoch 042 | Loss: 0.5353 | Test Acc: 0.7399\n",
      "Seed 21 | Epoch 043 | Loss: 0.5395 | Test Acc: 0.7668\n",
      "Seed 21 | Epoch 044 | Loss: 0.5452 | Test Acc: 0.7623\n",
      "Seed 21 | Epoch 045 | Loss: 0.5327 | Test Acc: 0.7354\n",
      "Seed 21 | Epoch 046 | Loss: 0.5366 | Test Acc: 0.7668\n",
      "Seed 21 | Epoch 047 | Loss: 0.5354 | Test Acc: 0.7534\n",
      "Seed 21 | Epoch 048 | Loss: 0.5312 | Test Acc: 0.7713\n",
      "Seed 21 | Epoch 049 | Loss: 0.5250 | Test Acc: 0.7578\n",
      "Seed 21 | Epoch 050 | Loss: 0.5296 | Test Acc: 0.7668\n"
     ]
    },
    {
     "data": {
      "text/html": [],
      "text/plain": [
       "<IPython.core.display.HTML object>"
      ]
     },
     "metadata": {},
     "output_type": "display_data"
    },
    {
     "data": {
      "text/html": [
       "<br>    <style><br>        .wandb-row {<br>            display: flex;<br>            flex-direction: row;<br>            flex-wrap: wrap;<br>            justify-content: flex-start;<br>            width: 100%;<br>        }<br>        .wandb-col {<br>            display: flex;<br>            flex-direction: column;<br>            flex-basis: 100%;<br>            flex: 1;<br>            padding: 10px;<br>        }<br>    </style><br><div class=\"wandb-row\"><div class=\"wandb-col\"><h3>Run history:</h3><br/><table class=\"wandb\"><tr><td>epoch</td><td>▁▁▁▁▂▂▂▂▂▂▃▃▃▃▃▄▄▄▄▄▅▅▅▅▅▆▆▆▆▆▆▇▇▇▇▇▇███</td></tr><tr><td>loss</td><td>██▇▇▇▆▆▆▅▅▅▄▄▄▄▄▄▃▃▃▃▃▃▃▃▂▂▂▂▂▂▂▂▁▁▁▁▁▁▁</td></tr><tr><td>test_acc</td><td>▁▁▂▂▂▄▅▅▅▄▆▅▆▅▆▆▆▆▆▆▅▇▇▄▅▇▇▇█▆▆▇█▇█▇█▇██</td></tr><tr><td>train_acc</td><td>▁▁▂▂▃▅▄▅▅▅▅▆▆▆▆▆▆▆▆▇▆▇▇▅▅▇▇▇▇▇▇▆▇███████</td></tr></table><br/></div><div class=\"wandb-col\"><h3>Run summary:</h3><br/><table class=\"wandb\"><tr><td>epoch</td><td>50</td></tr><tr><td>loss</td><td>0.52964</td></tr><tr><td>test_acc</td><td>0.76682</td></tr><tr><td>train_acc</td><td>0.75506</td></tr></table><br/></div></div>"
      ],
      "text/plain": [
       "<IPython.core.display.HTML object>"
      ]
     },
     "metadata": {},
     "output_type": "display_data"
    },
    {
     "data": {
      "text/html": [
       " View run <strong style=\"color:#cdcd00\">GCN_BFS_seed_21</strong> at: <a href='https://wandb.ai/noynetanel1-tel-aviv-university/GCN%20Graph%20classification%28Protein%29_Gal/runs/ikw0d9mo' target=\"_blank\">https://wandb.ai/noynetanel1-tel-aviv-university/GCN%20Graph%20classification%28Protein%29_Gal/runs/ikw0d9mo</a><br> View project at: <a href='https://wandb.ai/noynetanel1-tel-aviv-university/GCN%20Graph%20classification%28Protein%29_Gal' target=\"_blank\">https://wandb.ai/noynetanel1-tel-aviv-university/GCN%20Graph%20classification%28Protein%29_Gal</a><br>Synced 5 W&B file(s), 0 media file(s), 0 artifact file(s) and 0 other file(s)"
      ],
      "text/plain": [
       "<IPython.core.display.HTML object>"
      ]
     },
     "metadata": {},
     "output_type": "display_data"
    },
    {
     "data": {
      "text/html": [
       "Find logs at: <code>./wandb/run-20250820_154702-ikw0d9mo/logs</code>"
      ],
      "text/plain": [
       "<IPython.core.display.HTML object>"
      ]
     },
     "metadata": {},
     "output_type": "display_data"
    },
    {
     "data": {
      "text/html": [
       "Tracking run with wandb version 0.20.1"
      ],
      "text/plain": [
       "<IPython.core.display.HTML object>"
      ]
     },
     "metadata": {},
     "output_type": "display_data"
    },
    {
     "data": {
      "text/html": [
       "Run data is saved locally in <code>/kaggle/working/wandb/run-20250820_154927-hm467ptp</code>"
      ],
      "text/plain": [
       "<IPython.core.display.HTML object>"
      ]
     },
     "metadata": {},
     "output_type": "display_data"
    },
    {
     "data": {
      "text/html": [
       "Syncing run <strong><a href='https://wandb.ai/noynetanel1-tel-aviv-university/GCN%20Graph%20classification%28Protein%29_Gal/runs/hm467ptp' target=\"_blank\">GCN_BFS_seed_22</a></strong> to <a href='https://wandb.ai/noynetanel1-tel-aviv-university/GCN%20Graph%20classification%28Protein%29_Gal' target=\"_blank\">Weights & Biases</a> (<a href='https://wandb.me/developer-guide' target=\"_blank\">docs</a>)<br>"
      ],
      "text/plain": [
       "<IPython.core.display.HTML object>"
      ]
     },
     "metadata": {},
     "output_type": "display_data"
    },
    {
     "data": {
      "text/html": [
       " View project at <a href='https://wandb.ai/noynetanel1-tel-aviv-university/GCN%20Graph%20classification%28Protein%29_Gal' target=\"_blank\">https://wandb.ai/noynetanel1-tel-aviv-university/GCN%20Graph%20classification%28Protein%29_Gal</a>"
      ],
      "text/plain": [
       "<IPython.core.display.HTML object>"
      ]
     },
     "metadata": {},
     "output_type": "display_data"
    },
    {
     "data": {
      "text/html": [
       " View run at <a href='https://wandb.ai/noynetanel1-tel-aviv-university/GCN%20Graph%20classification%28Protein%29_Gal/runs/hm467ptp' target=\"_blank\">https://wandb.ai/noynetanel1-tel-aviv-university/GCN%20Graph%20classification%28Protein%29_Gal/runs/hm467ptp</a>"
      ],
      "text/plain": [
       "<IPython.core.display.HTML object>"
      ]
     },
     "metadata": {},
     "output_type": "display_data"
    },
    {
     "name": "stdout",
     "output_type": "stream",
     "text": [
      "Seed 22 | Epoch 001 | Loss: 0.6756 | Test Acc: 0.5605\n",
      "Seed 22 | Epoch 002 | Loss: 0.6688 | Test Acc: 0.5605\n",
      "Seed 22 | Epoch 003 | Loss: 0.6635 | Test Acc: 0.5605\n",
      "Seed 22 | Epoch 004 | Loss: 0.6598 | Test Acc: 0.5964\n",
      "Seed 22 | Epoch 005 | Loss: 0.6537 | Test Acc: 0.6323\n",
      "Seed 22 | Epoch 006 | Loss: 0.6457 | Test Acc: 0.6188\n",
      "Seed 22 | Epoch 007 | Loss: 0.6398 | Test Acc: 0.6054\n",
      "Seed 22 | Epoch 008 | Loss: 0.6377 | Test Acc: 0.6413\n",
      "Seed 22 | Epoch 009 | Loss: 0.6285 | Test Acc: 0.6547\n",
      "Seed 22 | Epoch 010 | Loss: 0.6164 | Test Acc: 0.6592\n",
      "Seed 22 | Epoch 011 | Loss: 0.6114 | Test Acc: 0.6771\n",
      "Seed 22 | Epoch 012 | Loss: 0.6067 | Test Acc: 0.6547\n",
      "Seed 22 | Epoch 013 | Loss: 0.6025 | Test Acc: 0.6771\n",
      "Seed 22 | Epoch 014 | Loss: 0.5959 | Test Acc: 0.6637\n",
      "Seed 22 | Epoch 015 | Loss: 0.5926 | Test Acc: 0.6592\n",
      "Seed 22 | Epoch 016 | Loss: 0.5906 | Test Acc: 0.6996\n",
      "Seed 22 | Epoch 017 | Loss: 0.5890 | Test Acc: 0.7040\n",
      "Seed 22 | Epoch 018 | Loss: 0.5794 | Test Acc: 0.6637\n",
      "Seed 22 | Epoch 019 | Loss: 0.5755 | Test Acc: 0.6951\n",
      "Seed 22 | Epoch 020 | Loss: 0.5723 | Test Acc: 0.7309\n",
      "Seed 22 | Epoch 021 | Loss: 0.5717 | Test Acc: 0.7175\n",
      "Seed 22 | Epoch 022 | Loss: 0.5623 | Test Acc: 0.7354\n",
      "Seed 22 | Epoch 023 | Loss: 0.5606 | Test Acc: 0.7354\n",
      "Seed 22 | Epoch 024 | Loss: 0.5596 | Test Acc: 0.7399\n",
      "Seed 22 | Epoch 025 | Loss: 0.5490 | Test Acc: 0.7354\n",
      "Seed 22 | Epoch 026 | Loss: 0.5461 | Test Acc: 0.6996\n",
      "Seed 22 | Epoch 027 | Loss: 0.5580 | Test Acc: 0.7309\n",
      "Seed 22 | Epoch 028 | Loss: 0.5435 | Test Acc: 0.7220\n",
      "Seed 22 | Epoch 029 | Loss: 0.5396 | Test Acc: 0.7175\n",
      "Seed 22 | Epoch 030 | Loss: 0.5425 | Test Acc: 0.7489\n",
      "Seed 22 | Epoch 031 | Loss: 0.5351 | Test Acc: 0.7265\n",
      "Seed 22 | Epoch 032 | Loss: 0.5320 | Test Acc: 0.7175\n",
      "Seed 22 | Epoch 033 | Loss: 0.5316 | Test Acc: 0.7354\n",
      "Seed 22 | Epoch 034 | Loss: 0.5402 | Test Acc: 0.7175\n",
      "Seed 22 | Epoch 035 | Loss: 0.5454 | Test Acc: 0.7489\n",
      "Seed 22 | Epoch 036 | Loss: 0.5344 | Test Acc: 0.7309\n",
      "Seed 22 | Epoch 037 | Loss: 0.5231 | Test Acc: 0.7220\n",
      "Seed 22 | Epoch 038 | Loss: 0.5226 | Test Acc: 0.7354\n",
      "Seed 22 | Epoch 039 | Loss: 0.5324 | Test Acc: 0.7175\n",
      "Seed 22 | Epoch 040 | Loss: 0.5177 | Test Acc: 0.7175\n",
      "Seed 22 | Epoch 041 | Loss: 0.5206 | Test Acc: 0.7489\n",
      "Seed 22 | Epoch 042 | Loss: 0.5218 | Test Acc: 0.7444\n",
      "Seed 22 | Epoch 043 | Loss: 0.5178 | Test Acc: 0.7489\n",
      "Seed 22 | Epoch 044 | Loss: 0.5232 | Test Acc: 0.7399\n",
      "Seed 22 | Epoch 045 | Loss: 0.5137 | Test Acc: 0.7220\n",
      "Seed 22 | Epoch 046 | Loss: 0.5231 | Test Acc: 0.7578\n",
      "Seed 22 | Epoch 047 | Loss: 0.5120 | Test Acc: 0.7489\n",
      "Seed 22 | Epoch 048 | Loss: 0.5100 | Test Acc: 0.7399\n",
      "Seed 22 | Epoch 049 | Loss: 0.5079 | Test Acc: 0.7444\n",
      "Seed 22 | Epoch 050 | Loss: 0.5115 | Test Acc: 0.7489\n"
     ]
    },
    {
     "data": {
      "text/html": [],
      "text/plain": [
       "<IPython.core.display.HTML object>"
      ]
     },
     "metadata": {},
     "output_type": "display_data"
    },
    {
     "data": {
      "text/html": [
       "<br>    <style><br>        .wandb-row {<br>            display: flex;<br>            flex-direction: row;<br>            flex-wrap: wrap;<br>            justify-content: flex-start;<br>            width: 100%;<br>        }<br>        .wandb-col {<br>            display: flex;<br>            flex-direction: column;<br>            flex-basis: 100%;<br>            flex: 1;<br>            padding: 10px;<br>        }<br>    </style><br><div class=\"wandb-row\"><div class=\"wandb-col\"><h3>Run history:</h3><br/><table class=\"wandb\"><tr><td>epoch</td><td>▁▁▁▁▂▂▂▂▂▃▃▃▃▃▃▄▄▄▄▄▅▅▅▅▅▆▆▆▆▆▆▇▇▇▇▇▇███</td></tr><tr><td>loss</td><td>██▇▇▇▆▆▆▅▅▅▄▄▄▄▄▄▃▃▃▃▃▂▂▂▂▂▂▂▂▂▂▁▁▁▁▂▁▁▁</td></tr><tr><td>test_acc</td><td>▁▁▁▂▄▃▄▄▄▅▅▅▄▆▆▆▇▇▇▇▆▇▇▇█▇▇▇█▇▇▇▇██▇▇█▇█</td></tr><tr><td>train_acc</td><td>▁▁▁▂▃▃▄▅▅▅▆▅▅▆▆▆▆▇▆▆▇▇▇▇▇▇▇▇▇▇▇▇▇████▇██</td></tr></table><br/></div><div class=\"wandb-col\"><h3>Run summary:</h3><br/><table class=\"wandb\"><tr><td>epoch</td><td>50</td></tr><tr><td>loss</td><td>0.51146</td></tr><tr><td>test_acc</td><td>0.74888</td></tr><tr><td>train_acc</td><td>0.76629</td></tr></table><br/></div></div>"
      ],
      "text/plain": [
       "<IPython.core.display.HTML object>"
      ]
     },
     "metadata": {},
     "output_type": "display_data"
    },
    {
     "data": {
      "text/html": [
       " View run <strong style=\"color:#cdcd00\">GCN_BFS_seed_22</strong> at: <a href='https://wandb.ai/noynetanel1-tel-aviv-university/GCN%20Graph%20classification%28Protein%29_Gal/runs/hm467ptp' target=\"_blank\">https://wandb.ai/noynetanel1-tel-aviv-university/GCN%20Graph%20classification%28Protein%29_Gal/runs/hm467ptp</a><br> View project at: <a href='https://wandb.ai/noynetanel1-tel-aviv-university/GCN%20Graph%20classification%28Protein%29_Gal' target=\"_blank\">https://wandb.ai/noynetanel1-tel-aviv-university/GCN%20Graph%20classification%28Protein%29_Gal</a><br>Synced 5 W&B file(s), 0 media file(s), 0 artifact file(s) and 0 other file(s)"
      ],
      "text/plain": [
       "<IPython.core.display.HTML object>"
      ]
     },
     "metadata": {},
     "output_type": "display_data"
    },
    {
     "data": {
      "text/html": [
       "Find logs at: <code>./wandb/run-20250820_154927-hm467ptp/logs</code>"
      ],
      "text/plain": [
       "<IPython.core.display.HTML object>"
      ]
     },
     "metadata": {},
     "output_type": "display_data"
    },
    {
     "data": {
      "text/html": [
       "Tracking run with wandb version 0.20.1"
      ],
      "text/plain": [
       "<IPython.core.display.HTML object>"
      ]
     },
     "metadata": {},
     "output_type": "display_data"
    },
    {
     "data": {
      "text/html": [
       "Run data is saved locally in <code>/kaggle/working/wandb/run-20250820_155142-7jxfba2g</code>"
      ],
      "text/plain": [
       "<IPython.core.display.HTML object>"
      ]
     },
     "metadata": {},
     "output_type": "display_data"
    },
    {
     "data": {
      "text/html": [
       "Syncing run <strong><a href='https://wandb.ai/noynetanel1-tel-aviv-university/GCN%20Graph%20classification%28Protein%29_Gal/runs/7jxfba2g' target=\"_blank\">GCN_BFS_seed_23</a></strong> to <a href='https://wandb.ai/noynetanel1-tel-aviv-university/GCN%20Graph%20classification%28Protein%29_Gal' target=\"_blank\">Weights & Biases</a> (<a href='https://wandb.me/developer-guide' target=\"_blank\">docs</a>)<br>"
      ],
      "text/plain": [
       "<IPython.core.display.HTML object>"
      ]
     },
     "metadata": {},
     "output_type": "display_data"
    },
    {
     "data": {
      "text/html": [
       " View project at <a href='https://wandb.ai/noynetanel1-tel-aviv-university/GCN%20Graph%20classification%28Protein%29_Gal' target=\"_blank\">https://wandb.ai/noynetanel1-tel-aviv-university/GCN%20Graph%20classification%28Protein%29_Gal</a>"
      ],
      "text/plain": [
       "<IPython.core.display.HTML object>"
      ]
     },
     "metadata": {},
     "output_type": "display_data"
    },
    {
     "data": {
      "text/html": [
       " View run at <a href='https://wandb.ai/noynetanel1-tel-aviv-university/GCN%20Graph%20classification%28Protein%29_Gal/runs/7jxfba2g' target=\"_blank\">https://wandb.ai/noynetanel1-tel-aviv-university/GCN%20Graph%20classification%28Protein%29_Gal/runs/7jxfba2g</a>"
      ],
      "text/plain": [
       "<IPython.core.display.HTML object>"
      ]
     },
     "metadata": {},
     "output_type": "display_data"
    },
    {
     "name": "stdout",
     "output_type": "stream",
     "text": [
      "Seed 23 | Epoch 001 | Loss: 0.6792 | Test Acc: 0.6143\n",
      "Seed 23 | Epoch 002 | Loss: 0.6687 | Test Acc: 0.6188\n",
      "Seed 23 | Epoch 003 | Loss: 0.6662 | Test Acc: 0.6592\n",
      "Seed 23 | Epoch 004 | Loss: 0.6624 | Test Acc: 0.6816\n",
      "Seed 23 | Epoch 005 | Loss: 0.6599 | Test Acc: 0.6637\n",
      "Seed 23 | Epoch 006 | Loss: 0.6543 | Test Acc: 0.6457\n",
      "Seed 23 | Epoch 007 | Loss: 0.6522 | Test Acc: 0.6682\n",
      "Seed 23 | Epoch 008 | Loss: 0.6433 | Test Acc: 0.7040\n",
      "Seed 23 | Epoch 009 | Loss: 0.6329 | Test Acc: 0.6816\n",
      "Seed 23 | Epoch 010 | Loss: 0.6260 | Test Acc: 0.7175\n",
      "Seed 23 | Epoch 011 | Loss: 0.6157 | Test Acc: 0.7040\n",
      "Seed 23 | Epoch 012 | Loss: 0.6038 | Test Acc: 0.7130\n",
      "Seed 23 | Epoch 013 | Loss: 0.6015 | Test Acc: 0.7489\n",
      "Seed 23 | Epoch 014 | Loss: 0.5949 | Test Acc: 0.7489\n",
      "Seed 23 | Epoch 015 | Loss: 0.5866 | Test Acc: 0.7399\n",
      "Seed 23 | Epoch 016 | Loss: 0.5786 | Test Acc: 0.7399\n",
      "Seed 23 | Epoch 017 | Loss: 0.5778 | Test Acc: 0.7399\n",
      "Seed 23 | Epoch 018 | Loss: 0.5666 | Test Acc: 0.7444\n",
      "Seed 23 | Epoch 019 | Loss: 0.5655 | Test Acc: 0.7578\n",
      "Seed 23 | Epoch 020 | Loss: 0.5628 | Test Acc: 0.7444\n",
      "Seed 23 | Epoch 021 | Loss: 0.5634 | Test Acc: 0.7623\n",
      "Seed 23 | Epoch 022 | Loss: 0.5587 | Test Acc: 0.7489\n",
      "Seed 23 | Epoch 023 | Loss: 0.5599 | Test Acc: 0.7623\n",
      "Seed 23 | Epoch 024 | Loss: 0.5458 | Test Acc: 0.7399\n",
      "Seed 23 | Epoch 025 | Loss: 0.5468 | Test Acc: 0.7354\n",
      "Seed 23 | Epoch 026 | Loss: 0.5453 | Test Acc: 0.7578\n",
      "Seed 23 | Epoch 027 | Loss: 0.5447 | Test Acc: 0.7489\n",
      "Seed 23 | Epoch 028 | Loss: 0.5365 | Test Acc: 0.7623\n",
      "Seed 23 | Epoch 029 | Loss: 0.5442 | Test Acc: 0.7444\n",
      "Seed 23 | Epoch 030 | Loss: 0.5369 | Test Acc: 0.7758\n",
      "Seed 23 | Epoch 031 | Loss: 0.5345 | Test Acc: 0.7578\n",
      "Seed 23 | Epoch 032 | Loss: 0.5323 | Test Acc: 0.7758\n",
      "Seed 23 | Epoch 033 | Loss: 0.5332 | Test Acc: 0.7489\n",
      "Seed 23 | Epoch 034 | Loss: 0.5340 | Test Acc: 0.7668\n",
      "Seed 23 | Epoch 035 | Loss: 0.5311 | Test Acc: 0.7489\n",
      "Seed 23 | Epoch 036 | Loss: 0.5354 | Test Acc: 0.7758\n",
      "Seed 23 | Epoch 037 | Loss: 0.5352 | Test Acc: 0.7578\n",
      "Seed 23 | Epoch 038 | Loss: 0.5270 | Test Acc: 0.7534\n",
      "Seed 23 | Epoch 039 | Loss: 0.5324 | Test Acc: 0.7578\n",
      "Seed 23 | Epoch 040 | Loss: 0.5264 | Test Acc: 0.7578\n",
      "Seed 23 | Epoch 041 | Loss: 0.5296 | Test Acc: 0.7578\n",
      "Seed 23 | Epoch 042 | Loss: 0.5309 | Test Acc: 0.7130\n",
      "Seed 23 | Epoch 043 | Loss: 0.5400 | Test Acc: 0.7578\n",
      "Seed 23 | Epoch 044 | Loss: 0.5275 | Test Acc: 0.7578\n",
      "Seed 23 | Epoch 045 | Loss: 0.5268 | Test Acc: 0.7623\n",
      "Seed 23 | Epoch 046 | Loss: 0.5302 | Test Acc: 0.7713\n",
      "Seed 23 | Epoch 047 | Loss: 0.5310 | Test Acc: 0.7534\n",
      "Seed 23 | Epoch 048 | Loss: 0.5262 | Test Acc: 0.7713\n",
      "Seed 23 | Epoch 049 | Loss: 0.5270 | Test Acc: 0.7668\n",
      "Seed 23 | Epoch 050 | Loss: 0.5255 | Test Acc: 0.7803\n"
     ]
    },
    {
     "data": {
      "text/html": [],
      "text/plain": [
       "<IPython.core.display.HTML object>"
      ]
     },
     "metadata": {},
     "output_type": "display_data"
    },
    {
     "data": {
      "text/html": [
       "<br>    <style><br>        .wandb-row {<br>            display: flex;<br>            flex-direction: row;<br>            flex-wrap: wrap;<br>            justify-content: flex-start;<br>            width: 100%;<br>        }<br>        .wandb-col {<br>            display: flex;<br>            flex-direction: column;<br>            flex-basis: 100%;<br>            flex: 1;<br>            padding: 10px;<br>        }<br>    </style><br><div class=\"wandb-row\"><div class=\"wandb-col\"><h3>Run history:</h3><br/><table class=\"wandb\"><tr><td>epoch</td><td>▁▁▁▁▂▂▂▂▂▂▃▃▃▃▃▄▄▄▄▄▅▅▅▅▅▅▆▆▆▆▆▆▇▇▇▇▇███</td></tr><tr><td>loss</td><td>██▇▇▇▇▆▆▆▅▄▄▃▃▃▃▃▃▃▂▂▂▂▂▂▁▁▁▁▁▁▁▁▁▂▁▁▁▁▁</td></tr><tr><td>test_acc</td><td>▁▁▃▃▂▅▄▅▅▅▇▆▆▆▆▆▇▇▇▆▇▇▇▆██▇▇▇█▇▇▇▅▇▇█▇██</td></tr><tr><td>train_acc</td><td>▁▂▃▂▂▃▄▄▄▆▆▆▇▇▆▇▇▆▇█▇▇▇█▇▇█▇█▇███▇██████</td></tr></table><br/></div><div class=\"wandb-col\"><h3>Run summary:</h3><br/><table class=\"wandb\"><tr><td>epoch</td><td>50</td></tr><tr><td>loss</td><td>0.52551</td></tr><tr><td>test_acc</td><td>0.78027</td></tr><tr><td>train_acc</td><td>0.75281</td></tr></table><br/></div></div>"
      ],
      "text/plain": [
       "<IPython.core.display.HTML object>"
      ]
     },
     "metadata": {},
     "output_type": "display_data"
    },
    {
     "data": {
      "text/html": [
       " View run <strong style=\"color:#cdcd00\">GCN_BFS_seed_23</strong> at: <a href='https://wandb.ai/noynetanel1-tel-aviv-university/GCN%20Graph%20classification%28Protein%29_Gal/runs/7jxfba2g' target=\"_blank\">https://wandb.ai/noynetanel1-tel-aviv-university/GCN%20Graph%20classification%28Protein%29_Gal/runs/7jxfba2g</a><br> View project at: <a href='https://wandb.ai/noynetanel1-tel-aviv-university/GCN%20Graph%20classification%28Protein%29_Gal' target=\"_blank\">https://wandb.ai/noynetanel1-tel-aviv-university/GCN%20Graph%20classification%28Protein%29_Gal</a><br>Synced 5 W&B file(s), 0 media file(s), 0 artifact file(s) and 0 other file(s)"
      ],
      "text/plain": [
       "<IPython.core.display.HTML object>"
      ]
     },
     "metadata": {},
     "output_type": "display_data"
    },
    {
     "data": {
      "text/html": [
       "Find logs at: <code>./wandb/run-20250820_155142-7jxfba2g/logs</code>"
      ],
      "text/plain": [
       "<IPython.core.display.HTML object>"
      ]
     },
     "metadata": {},
     "output_type": "display_data"
    },
    {
     "data": {
      "text/html": [
       "Tracking run with wandb version 0.20.1"
      ],
      "text/plain": [
       "<IPython.core.display.HTML object>"
      ]
     },
     "metadata": {},
     "output_type": "display_data"
    },
    {
     "data": {
      "text/html": [
       "Run data is saved locally in <code>/kaggle/working/wandb/run-20250820_155357-sq5cfz9w</code>"
      ],
      "text/plain": [
       "<IPython.core.display.HTML object>"
      ]
     },
     "metadata": {},
     "output_type": "display_data"
    },
    {
     "data": {
      "text/html": [
       "Syncing run <strong><a href='https://wandb.ai/noynetanel1-tel-aviv-university/GCN%20Graph%20classification%28Protein%29_Gal/runs/sq5cfz9w' target=\"_blank\">GCN_BFS_seed_24</a></strong> to <a href='https://wandb.ai/noynetanel1-tel-aviv-university/GCN%20Graph%20classification%28Protein%29_Gal' target=\"_blank\">Weights & Biases</a> (<a href='https://wandb.me/developer-guide' target=\"_blank\">docs</a>)<br>"
      ],
      "text/plain": [
       "<IPython.core.display.HTML object>"
      ]
     },
     "metadata": {},
     "output_type": "display_data"
    },
    {
     "data": {
      "text/html": [
       " View project at <a href='https://wandb.ai/noynetanel1-tel-aviv-university/GCN%20Graph%20classification%28Protein%29_Gal' target=\"_blank\">https://wandb.ai/noynetanel1-tel-aviv-university/GCN%20Graph%20classification%28Protein%29_Gal</a>"
      ],
      "text/plain": [
       "<IPython.core.display.HTML object>"
      ]
     },
     "metadata": {},
     "output_type": "display_data"
    },
    {
     "data": {
      "text/html": [
       " View run at <a href='https://wandb.ai/noynetanel1-tel-aviv-university/GCN%20Graph%20classification%28Protein%29_Gal/runs/sq5cfz9w' target=\"_blank\">https://wandb.ai/noynetanel1-tel-aviv-university/GCN%20Graph%20classification%28Protein%29_Gal/runs/sq5cfz9w</a>"
      ],
      "text/plain": [
       "<IPython.core.display.HTML object>"
      ]
     },
     "metadata": {},
     "output_type": "display_data"
    },
    {
     "name": "stdout",
     "output_type": "stream",
     "text": [
      "Seed 24 | Epoch 001 | Loss: 0.6765 | Test Acc: 0.5605\n",
      "Seed 24 | Epoch 002 | Loss: 0.6661 | Test Acc: 0.5605\n",
      "Seed 24 | Epoch 003 | Loss: 0.6615 | Test Acc: 0.5605\n",
      "Seed 24 | Epoch 004 | Loss: 0.6600 | Test Acc: 0.6188\n",
      "Seed 24 | Epoch 005 | Loss: 0.6531 | Test Acc: 0.6054\n",
      "Seed 24 | Epoch 006 | Loss: 0.6470 | Test Acc: 0.6099\n",
      "Seed 24 | Epoch 007 | Loss: 0.6397 | Test Acc: 0.6099\n",
      "Seed 24 | Epoch 008 | Loss: 0.6290 | Test Acc: 0.6368\n",
      "Seed 24 | Epoch 009 | Loss: 0.6216 | Test Acc: 0.6368\n",
      "Seed 24 | Epoch 010 | Loss: 0.6121 | Test Acc: 0.6413\n",
      "Seed 24 | Epoch 011 | Loss: 0.6137 | Test Acc: 0.6771\n",
      "Seed 24 | Epoch 012 | Loss: 0.6043 | Test Acc: 0.6816\n",
      "Seed 24 | Epoch 013 | Loss: 0.6008 | Test Acc: 0.6726\n",
      "Seed 24 | Epoch 014 | Loss: 0.5929 | Test Acc: 0.6637\n",
      "Seed 24 | Epoch 015 | Loss: 0.5930 | Test Acc: 0.6771\n",
      "Seed 24 | Epoch 016 | Loss: 0.5869 | Test Acc: 0.6951\n",
      "Seed 24 | Epoch 017 | Loss: 0.5837 | Test Acc: 0.6816\n",
      "Seed 24 | Epoch 018 | Loss: 0.5776 | Test Acc: 0.6816\n",
      "Seed 24 | Epoch 019 | Loss: 0.5707 | Test Acc: 0.6861\n",
      "Seed 24 | Epoch 020 | Loss: 0.5689 | Test Acc: 0.6906\n",
      "Seed 24 | Epoch 021 | Loss: 0.5637 | Test Acc: 0.6861\n",
      "Seed 24 | Epoch 022 | Loss: 0.5552 | Test Acc: 0.6861\n",
      "Seed 24 | Epoch 023 | Loss: 0.5561 | Test Acc: 0.6906\n",
      "Seed 24 | Epoch 024 | Loss: 0.5513 | Test Acc: 0.6951\n",
      "Seed 24 | Epoch 025 | Loss: 0.5503 | Test Acc: 0.6951\n",
      "Seed 24 | Epoch 026 | Loss: 0.5488 | Test Acc: 0.6906\n",
      "Seed 24 | Epoch 027 | Loss: 0.5471 | Test Acc: 0.7175\n",
      "Seed 24 | Epoch 028 | Loss: 0.5392 | Test Acc: 0.7085\n",
      "Seed 24 | Epoch 029 | Loss: 0.5394 | Test Acc: 0.6996\n",
      "Seed 24 | Epoch 030 | Loss: 0.5427 | Test Acc: 0.6816\n",
      "Seed 24 | Epoch 031 | Loss: 0.5328 | Test Acc: 0.7040\n",
      "Seed 24 | Epoch 032 | Loss: 0.5339 | Test Acc: 0.6906\n",
      "Seed 24 | Epoch 033 | Loss: 0.5312 | Test Acc: 0.7130\n",
      "Seed 24 | Epoch 034 | Loss: 0.5216 | Test Acc: 0.7175\n",
      "Seed 24 | Epoch 035 | Loss: 0.5237 | Test Acc: 0.7175\n",
      "Seed 24 | Epoch 036 | Loss: 0.5225 | Test Acc: 0.7220\n",
      "Seed 24 | Epoch 037 | Loss: 0.5161 | Test Acc: 0.7175\n",
      "Seed 24 | Epoch 038 | Loss: 0.5181 | Test Acc: 0.7220\n",
      "Seed 24 | Epoch 039 | Loss: 0.5297 | Test Acc: 0.6771\n",
      "Seed 24 | Epoch 040 | Loss: 0.5237 | Test Acc: 0.7309\n",
      "Seed 24 | Epoch 041 | Loss: 0.5148 | Test Acc: 0.7175\n",
      "Seed 24 | Epoch 042 | Loss: 0.5248 | Test Acc: 0.7265\n",
      "Seed 24 | Epoch 043 | Loss: 0.5169 | Test Acc: 0.7175\n",
      "Seed 24 | Epoch 044 | Loss: 0.5174 | Test Acc: 0.7309\n",
      "Seed 24 | Epoch 045 | Loss: 0.5135 | Test Acc: 0.7130\n",
      "Seed 24 | Epoch 046 | Loss: 0.5233 | Test Acc: 0.7399\n",
      "Seed 24 | Epoch 047 | Loss: 0.5086 | Test Acc: 0.7309\n",
      "Seed 24 | Epoch 048 | Loss: 0.5068 | Test Acc: 0.7399\n",
      "Seed 24 | Epoch 049 | Loss: 0.5117 | Test Acc: 0.7309\n",
      "Seed 24 | Epoch 050 | Loss: 0.5105 | Test Acc: 0.7220\n"
     ]
    },
    {
     "data": {
      "text/html": [],
      "text/plain": [
       "<IPython.core.display.HTML object>"
      ]
     },
     "metadata": {},
     "output_type": "display_data"
    },
    {
     "data": {
      "text/html": [
       "<br>    <style><br>        .wandb-row {<br>            display: flex;<br>            flex-direction: row;<br>            flex-wrap: wrap;<br>            justify-content: flex-start;<br>            width: 100%;<br>        }<br>        .wandb-col {<br>            display: flex;<br>            flex-direction: column;<br>            flex-basis: 100%;<br>            flex: 1;<br>            padding: 10px;<br>        }<br>    </style><br><div class=\"wandb-row\"><div class=\"wandb-col\"><h3>Run history:</h3><br/><table class=\"wandb\"><tr><td>epoch</td><td>▁▁▁▁▂▂▂▂▂▂▃▃▃▃▃▄▄▄▄▄▅▅▅▅▅▆▆▆▆▆▆▇▇▇▇▇▇███</td></tr><tr><td>loss</td><td>██▇▇▇▆▆▆▅▅▅▅▅▄▄▄▃▃▃▃▃▃▂▂▂▂▂▂▂▂▁▂▂▁▂▁▁▂▁▁</td></tr><tr><td>test_acc</td><td>▁▁▁▃▃▃▄▄▄▆▅▅▆▆▆▆▆▆▆▆▆▆▇▇▆▇▇▇▇▇▆█▇▇▇▇███▇</td></tr><tr><td>train_acc</td><td>▁▁▁▃▂▃▄▄▄▅▆▆▆▆▆▆▇▆▆▇▇▇█▇▇▆▇▇███▆▇▇██████</td></tr></table><br/></div><div class=\"wandb-col\"><h3>Run summary:</h3><br/><table class=\"wandb\"><tr><td>epoch</td><td>50</td></tr><tr><td>loss</td><td>0.51048</td></tr><tr><td>test_acc</td><td>0.72197</td></tr><tr><td>train_acc</td><td>0.77191</td></tr></table><br/></div></div>"
      ],
      "text/plain": [
       "<IPython.core.display.HTML object>"
      ]
     },
     "metadata": {},
     "output_type": "display_data"
    },
    {
     "data": {
      "text/html": [
       " View run <strong style=\"color:#cdcd00\">GCN_BFS_seed_24</strong> at: <a href='https://wandb.ai/noynetanel1-tel-aviv-university/GCN%20Graph%20classification%28Protein%29_Gal/runs/sq5cfz9w' target=\"_blank\">https://wandb.ai/noynetanel1-tel-aviv-university/GCN%20Graph%20classification%28Protein%29_Gal/runs/sq5cfz9w</a><br> View project at: <a href='https://wandb.ai/noynetanel1-tel-aviv-university/GCN%20Graph%20classification%28Protein%29_Gal' target=\"_blank\">https://wandb.ai/noynetanel1-tel-aviv-university/GCN%20Graph%20classification%28Protein%29_Gal</a><br>Synced 5 W&B file(s), 0 media file(s), 0 artifact file(s) and 0 other file(s)"
      ],
      "text/plain": [
       "<IPython.core.display.HTML object>"
      ]
     },
     "metadata": {},
     "output_type": "display_data"
    },
    {
     "data": {
      "text/html": [
       "Find logs at: <code>./wandb/run-20250820_155357-sq5cfz9w/logs</code>"
      ],
      "text/plain": [
       "<IPython.core.display.HTML object>"
      ]
     },
     "metadata": {},
     "output_type": "display_data"
    },
    {
     "data": {
      "text/html": [
       "Tracking run with wandb version 0.20.1"
      ],
      "text/plain": [
       "<IPython.core.display.HTML object>"
      ]
     },
     "metadata": {},
     "output_type": "display_data"
    },
    {
     "data": {
      "text/html": [
       "Run data is saved locally in <code>/kaggle/working/wandb/run-20250820_155611-iahe48ta</code>"
      ],
      "text/plain": [
       "<IPython.core.display.HTML object>"
      ]
     },
     "metadata": {},
     "output_type": "display_data"
    },
    {
     "data": {
      "text/html": [
       "Syncing run <strong><a href='https://wandb.ai/noynetanel1-tel-aviv-university/GCN%20Graph%20classification%28Protein%29_Gal/runs/iahe48ta' target=\"_blank\">GCN_BFS_seed_25</a></strong> to <a href='https://wandb.ai/noynetanel1-tel-aviv-university/GCN%20Graph%20classification%28Protein%29_Gal' target=\"_blank\">Weights & Biases</a> (<a href='https://wandb.me/developer-guide' target=\"_blank\">docs</a>)<br>"
      ],
      "text/plain": [
       "<IPython.core.display.HTML object>"
      ]
     },
     "metadata": {},
     "output_type": "display_data"
    },
    {
     "data": {
      "text/html": [
       " View project at <a href='https://wandb.ai/noynetanel1-tel-aviv-university/GCN%20Graph%20classification%28Protein%29_Gal' target=\"_blank\">https://wandb.ai/noynetanel1-tel-aviv-university/GCN%20Graph%20classification%28Protein%29_Gal</a>"
      ],
      "text/plain": [
       "<IPython.core.display.HTML object>"
      ]
     },
     "metadata": {},
     "output_type": "display_data"
    },
    {
     "data": {
      "text/html": [
       " View run at <a href='https://wandb.ai/noynetanel1-tel-aviv-university/GCN%20Graph%20classification%28Protein%29_Gal/runs/iahe48ta' target=\"_blank\">https://wandb.ai/noynetanel1-tel-aviv-university/GCN%20Graph%20classification%28Protein%29_Gal/runs/iahe48ta</a>"
      ],
      "text/plain": [
       "<IPython.core.display.HTML object>"
      ]
     },
     "metadata": {},
     "output_type": "display_data"
    },
    {
     "name": "stdout",
     "output_type": "stream",
     "text": [
      "Seed 25 | Epoch 001 | Loss: 0.6728 | Test Acc: 0.6143\n",
      "Seed 25 | Epoch 002 | Loss: 0.6722 | Test Acc: 0.6457\n",
      "Seed 25 | Epoch 003 | Loss: 0.6663 | Test Acc: 0.6502\n",
      "Seed 25 | Epoch 004 | Loss: 0.6595 | Test Acc: 0.6726\n",
      "Seed 25 | Epoch 005 | Loss: 0.6558 | Test Acc: 0.6637\n",
      "Seed 25 | Epoch 006 | Loss: 0.6476 | Test Acc: 0.6457\n",
      "Seed 25 | Epoch 007 | Loss: 0.6373 | Test Acc: 0.6771\n",
      "Seed 25 | Epoch 008 | Loss: 0.6321 | Test Acc: 0.6771\n",
      "Seed 25 | Epoch 009 | Loss: 0.6204 | Test Acc: 0.6861\n",
      "Seed 25 | Epoch 010 | Loss: 0.6119 | Test Acc: 0.6951\n",
      "Seed 25 | Epoch 011 | Loss: 0.6025 | Test Acc: 0.7040\n",
      "Seed 25 | Epoch 012 | Loss: 0.5948 | Test Acc: 0.7040\n",
      "Seed 25 | Epoch 013 | Loss: 0.5880 | Test Acc: 0.6996\n",
      "Seed 25 | Epoch 014 | Loss: 0.5818 | Test Acc: 0.7085\n",
      "Seed 25 | Epoch 015 | Loss: 0.5733 | Test Acc: 0.6951\n",
      "Seed 25 | Epoch 016 | Loss: 0.5689 | Test Acc: 0.6951\n",
      "Seed 25 | Epoch 017 | Loss: 0.5762 | Test Acc: 0.6951\n",
      "Seed 25 | Epoch 018 | Loss: 0.5602 | Test Acc: 0.7220\n",
      "Seed 25 | Epoch 019 | Loss: 0.5524 | Test Acc: 0.7354\n",
      "Seed 25 | Epoch 020 | Loss: 0.5471 | Test Acc: 0.7399\n",
      "Seed 25 | Epoch 021 | Loss: 0.5424 | Test Acc: 0.7265\n",
      "Seed 25 | Epoch 022 | Loss: 0.5398 | Test Acc: 0.7265\n",
      "Seed 25 | Epoch 023 | Loss: 0.5361 | Test Acc: 0.7085\n",
      "Seed 25 | Epoch 024 | Loss: 0.5373 | Test Acc: 0.7220\n",
      "Seed 25 | Epoch 025 | Loss: 0.5302 | Test Acc: 0.7399\n",
      "Seed 25 | Epoch 026 | Loss: 0.5259 | Test Acc: 0.7265\n",
      "Seed 25 | Epoch 027 | Loss: 0.5313 | Test Acc: 0.7130\n",
      "Seed 25 | Epoch 028 | Loss: 0.5348 | Test Acc: 0.7220\n",
      "Seed 25 | Epoch 029 | Loss: 0.5274 | Test Acc: 0.7130\n",
      "Seed 25 | Epoch 030 | Loss: 0.5172 | Test Acc: 0.7354\n",
      "Seed 25 | Epoch 031 | Loss: 0.5239 | Test Acc: 0.7085\n",
      "Seed 25 | Epoch 032 | Loss: 0.5284 | Test Acc: 0.7354\n",
      "Seed 25 | Epoch 033 | Loss: 0.5181 | Test Acc: 0.7265\n",
      "Seed 25 | Epoch 034 | Loss: 0.5108 | Test Acc: 0.7265\n",
      "Seed 25 | Epoch 035 | Loss: 0.5117 | Test Acc: 0.7399\n",
      "Seed 25 | Epoch 036 | Loss: 0.5100 | Test Acc: 0.7265\n",
      "Seed 25 | Epoch 037 | Loss: 0.5124 | Test Acc: 0.7354\n",
      "Seed 25 | Epoch 038 | Loss: 0.5063 | Test Acc: 0.7175\n",
      "Seed 25 | Epoch 039 | Loss: 0.5215 | Test Acc: 0.7354\n",
      "Seed 25 | Epoch 040 | Loss: 0.5183 | Test Acc: 0.7175\n",
      "Seed 25 | Epoch 041 | Loss: 0.5148 | Test Acc: 0.7354\n",
      "Seed 25 | Epoch 042 | Loss: 0.5153 | Test Acc: 0.7130\n",
      "Seed 25 | Epoch 043 | Loss: 0.5045 | Test Acc: 0.7444\n",
      "Seed 25 | Epoch 044 | Loss: 0.5064 | Test Acc: 0.7354\n",
      "Seed 25 | Epoch 045 | Loss: 0.5010 | Test Acc: 0.7175\n",
      "Seed 25 | Epoch 046 | Loss: 0.5072 | Test Acc: 0.7265\n",
      "Seed 25 | Epoch 047 | Loss: 0.5021 | Test Acc: 0.7354\n",
      "Seed 25 | Epoch 048 | Loss: 0.5094 | Test Acc: 0.7220\n",
      "Seed 25 | Epoch 049 | Loss: 0.5065 | Test Acc: 0.7489\n",
      "Seed 25 | Epoch 050 | Loss: 0.4980 | Test Acc: 0.7489\n"
     ]
    },
    {
     "data": {
      "text/html": [],
      "text/plain": [
       "<IPython.core.display.HTML object>"
      ]
     },
     "metadata": {},
     "output_type": "display_data"
    },
    {
     "data": {
      "text/html": [
       "<br>    <style><br>        .wandb-row {<br>            display: flex;<br>            flex-direction: row;<br>            flex-wrap: wrap;<br>            justify-content: flex-start;<br>            width: 100%;<br>        }<br>        .wandb-col {<br>            display: flex;<br>            flex-direction: column;<br>            flex-basis: 100%;<br>            flex: 1;<br>            padding: 10px;<br>        }<br>    </style><br><div class=\"wandb-row\"><div class=\"wandb-col\"><h3>Run history:</h3><br/><table class=\"wandb\"><tr><td>epoch</td><td>▁▁▁▁▂▂▂▂▂▂▃▃▃▃▃▄▄▄▄▄▅▅▅▅▅▆▆▆▆▆▆▇▇▇▇▇▇███</td></tr><tr><td>loss</td><td>███▇▇▇▆▆▆▅▅▄▄▄▄▃▃▃▃▃▂▂▂▂▂▂▂▂▂▂▂▁▂▂▁▁▁▁▁▁</td></tr><tr><td>test_acc</td><td>▁▃▃▄▃▄▅▅▆▆▆▅▅▅▇█▇▇▆▇▇▆▇▆▇▇▇▇█▇▆▇▆▇▆▇▆▇▇█</td></tr><tr><td>train_acc</td><td>▁▂▂▃▃▄▅▅▅▆▅▆▆▆▇▇▇▇▇▇▇▇▇▇▇▇██▇▇█████▇▇▇▇█</td></tr></table><br/></div><div class=\"wandb-col\"><h3>Run summary:</h3><br/><table class=\"wandb\"><tr><td>epoch</td><td>50</td></tr><tr><td>loss</td><td>0.49796</td></tr><tr><td>test_acc</td><td>0.74888</td></tr><tr><td>train_acc</td><td>0.7764</td></tr></table><br/></div></div>"
      ],
      "text/plain": [
       "<IPython.core.display.HTML object>"
      ]
     },
     "metadata": {},
     "output_type": "display_data"
    },
    {
     "data": {
      "text/html": [
       " View run <strong style=\"color:#cdcd00\">GCN_BFS_seed_25</strong> at: <a href='https://wandb.ai/noynetanel1-tel-aviv-university/GCN%20Graph%20classification%28Protein%29_Gal/runs/iahe48ta' target=\"_blank\">https://wandb.ai/noynetanel1-tel-aviv-university/GCN%20Graph%20classification%28Protein%29_Gal/runs/iahe48ta</a><br> View project at: <a href='https://wandb.ai/noynetanel1-tel-aviv-university/GCN%20Graph%20classification%28Protein%29_Gal' target=\"_blank\">https://wandb.ai/noynetanel1-tel-aviv-university/GCN%20Graph%20classification%28Protein%29_Gal</a><br>Synced 5 W&B file(s), 0 media file(s), 0 artifact file(s) and 0 other file(s)"
      ],
      "text/plain": [
       "<IPython.core.display.HTML object>"
      ]
     },
     "metadata": {},
     "output_type": "display_data"
    },
    {
     "data": {
      "text/html": [
       "Find logs at: <code>./wandb/run-20250820_155611-iahe48ta/logs</code>"
      ],
      "text/plain": [
       "<IPython.core.display.HTML object>"
      ]
     },
     "metadata": {},
     "output_type": "display_data"
    },
    {
     "data": {
      "text/html": [
       "Tracking run with wandb version 0.20.1"
      ],
      "text/plain": [
       "<IPython.core.display.HTML object>"
      ]
     },
     "metadata": {},
     "output_type": "display_data"
    },
    {
     "data": {
      "text/html": [
       "Run data is saved locally in <code>/kaggle/working/wandb/run-20250820_155825-o7jzess4</code>"
      ],
      "text/plain": [
       "<IPython.core.display.HTML object>"
      ]
     },
     "metadata": {},
     "output_type": "display_data"
    },
    {
     "data": {
      "text/html": [
       "Syncing run <strong><a href='https://wandb.ai/noynetanel1-tel-aviv-university/GCN%20Graph%20classification%28Protein%29_Gal/runs/o7jzess4' target=\"_blank\">GCN_BFS_seed_26</a></strong> to <a href='https://wandb.ai/noynetanel1-tel-aviv-university/GCN%20Graph%20classification%28Protein%29_Gal' target=\"_blank\">Weights & Biases</a> (<a href='https://wandb.me/developer-guide' target=\"_blank\">docs</a>)<br>"
      ],
      "text/plain": [
       "<IPython.core.display.HTML object>"
      ]
     },
     "metadata": {},
     "output_type": "display_data"
    },
    {
     "data": {
      "text/html": [
       " View project at <a href='https://wandb.ai/noynetanel1-tel-aviv-university/GCN%20Graph%20classification%28Protein%29_Gal' target=\"_blank\">https://wandb.ai/noynetanel1-tel-aviv-university/GCN%20Graph%20classification%28Protein%29_Gal</a>"
      ],
      "text/plain": [
       "<IPython.core.display.HTML object>"
      ]
     },
     "metadata": {},
     "output_type": "display_data"
    },
    {
     "data": {
      "text/html": [
       " View run at <a href='https://wandb.ai/noynetanel1-tel-aviv-university/GCN%20Graph%20classification%28Protein%29_Gal/runs/o7jzess4' target=\"_blank\">https://wandb.ai/noynetanel1-tel-aviv-university/GCN%20Graph%20classification%28Protein%29_Gal/runs/o7jzess4</a>"
      ],
      "text/plain": [
       "<IPython.core.display.HTML object>"
      ]
     },
     "metadata": {},
     "output_type": "display_data"
    },
    {
     "name": "stdout",
     "output_type": "stream",
     "text": [
      "Seed 26 | Epoch 001 | Loss: 0.6774 | Test Acc: 0.6278\n",
      "Seed 26 | Epoch 002 | Loss: 0.6702 | Test Acc: 0.6278\n",
      "Seed 26 | Epoch 003 | Loss: 0.6655 | Test Acc: 0.6502\n",
      "Seed 26 | Epoch 004 | Loss: 0.6609 | Test Acc: 0.6323\n",
      "Seed 26 | Epoch 005 | Loss: 0.6545 | Test Acc: 0.6188\n",
      "Seed 26 | Epoch 006 | Loss: 0.6467 | Test Acc: 0.6323\n",
      "Seed 26 | Epoch 007 | Loss: 0.6375 | Test Acc: 0.6413\n",
      "Seed 26 | Epoch 008 | Loss: 0.6278 | Test Acc: 0.6413\n",
      "Seed 26 | Epoch 009 | Loss: 0.6177 | Test Acc: 0.6368\n",
      "Seed 26 | Epoch 010 | Loss: 0.6150 | Test Acc: 0.6682\n",
      "Seed 26 | Epoch 011 | Loss: 0.6130 | Test Acc: 0.6637\n",
      "Seed 26 | Epoch 012 | Loss: 0.6007 | Test Acc: 0.6457\n",
      "Seed 26 | Epoch 013 | Loss: 0.5963 | Test Acc: 0.6457\n",
      "Seed 26 | Epoch 014 | Loss: 0.5895 | Test Acc: 0.6637\n",
      "Seed 26 | Epoch 015 | Loss: 0.5863 | Test Acc: 0.6682\n",
      "Seed 26 | Epoch 016 | Loss: 0.5837 | Test Acc: 0.6457\n",
      "Seed 26 | Epoch 017 | Loss: 0.5814 | Test Acc: 0.6771\n",
      "Seed 26 | Epoch 018 | Loss: 0.5732 | Test Acc: 0.6726\n",
      "Seed 26 | Epoch 019 | Loss: 0.5653 | Test Acc: 0.6771\n",
      "Seed 26 | Epoch 020 | Loss: 0.5596 | Test Acc: 0.6726\n",
      "Seed 26 | Epoch 021 | Loss: 0.5567 | Test Acc: 0.6771\n",
      "Seed 26 | Epoch 022 | Loss: 0.5593 | Test Acc: 0.6861\n",
      "Seed 26 | Epoch 023 | Loss: 0.5523 | Test Acc: 0.6637\n",
      "Seed 26 | Epoch 024 | Loss: 0.5454 | Test Acc: 0.6861\n",
      "Seed 26 | Epoch 025 | Loss: 0.5414 | Test Acc: 0.6861\n",
      "Seed 26 | Epoch 026 | Loss: 0.5368 | Test Acc: 0.7265\n",
      "Seed 26 | Epoch 027 | Loss: 0.5313 | Test Acc: 0.7265\n",
      "Seed 26 | Epoch 028 | Loss: 0.5312 | Test Acc: 0.7085\n",
      "Seed 26 | Epoch 029 | Loss: 0.5267 | Test Acc: 0.7130\n",
      "Seed 26 | Epoch 030 | Loss: 0.5217 | Test Acc: 0.7220\n",
      "Seed 26 | Epoch 031 | Loss: 0.5256 | Test Acc: 0.7175\n",
      "Seed 26 | Epoch 032 | Loss: 0.5195 | Test Acc: 0.7175\n",
      "Seed 26 | Epoch 033 | Loss: 0.5227 | Test Acc: 0.7130\n",
      "Seed 26 | Epoch 034 | Loss: 0.5172 | Test Acc: 0.7175\n",
      "Seed 26 | Epoch 035 | Loss: 0.5081 | Test Acc: 0.7265\n",
      "Seed 26 | Epoch 036 | Loss: 0.5163 | Test Acc: 0.7130\n",
      "Seed 26 | Epoch 037 | Loss: 0.5119 | Test Acc: 0.7220\n",
      "Seed 26 | Epoch 038 | Loss: 0.5113 | Test Acc: 0.7220\n",
      "Seed 26 | Epoch 039 | Loss: 0.5009 | Test Acc: 0.7130\n",
      "Seed 26 | Epoch 040 | Loss: 0.5125 | Test Acc: 0.7220\n",
      "Seed 26 | Epoch 041 | Loss: 0.5108 | Test Acc: 0.7265\n",
      "Seed 26 | Epoch 042 | Loss: 0.4996 | Test Acc: 0.7265\n",
      "Seed 26 | Epoch 043 | Loss: 0.5022 | Test Acc: 0.7265\n",
      "Seed 26 | Epoch 044 | Loss: 0.4983 | Test Acc: 0.7085\n",
      "Seed 26 | Epoch 045 | Loss: 0.4968 | Test Acc: 0.7265\n",
      "Seed 26 | Epoch 046 | Loss: 0.5123 | Test Acc: 0.7130\n",
      "Seed 26 | Epoch 047 | Loss: 0.5047 | Test Acc: 0.7265\n",
      "Seed 26 | Epoch 048 | Loss: 0.4991 | Test Acc: 0.7354\n",
      "Seed 26 | Epoch 049 | Loss: 0.4938 | Test Acc: 0.7220\n",
      "Seed 26 | Epoch 050 | Loss: 0.4980 | Test Acc: 0.7220\n"
     ]
    },
    {
     "data": {
      "text/html": [],
      "text/plain": [
       "<IPython.core.display.HTML object>"
      ]
     },
     "metadata": {},
     "output_type": "display_data"
    },
    {
     "data": {
      "text/html": [
       "<br>    <style><br>        .wandb-row {<br>            display: flex;<br>            flex-direction: row;<br>            flex-wrap: wrap;<br>            justify-content: flex-start;<br>            width: 100%;<br>        }<br>        .wandb-col {<br>            display: flex;<br>            flex-direction: column;<br>            flex-basis: 100%;<br>            flex: 1;<br>            padding: 10px;<br>        }<br>    </style><br><div class=\"wandb-row\"><div class=\"wandb-col\"><h3>Run history:</h3><br/><table class=\"wandb\"><tr><td>epoch</td><td>▁▁▁▁▂▂▂▂▂▃▃▃▃▃▃▄▄▄▄▄▅▅▅▅▅▅▆▆▆▆▆▇▇▇▇▇▇███</td></tr><tr><td>loss</td><td>███▇▇▆▆▆▆▆▅▅▄▄▄▄▃▃▃▃▃▃▂▂▂▂▂▂▁▂▂▁▂▂▁▁▂▁▁▁</td></tr><tr><td>test_acc</td><td>▂▂▂▁▂▂▂▄▄▃▄▄▃▅▄▄▅▅▄▅▇▇▇▇▇▇▇▇▇▇▇▇▇▇▇▇▇▇█▇</td></tr><tr><td>train_acc</td><td>▁▁▂▃▄▃▄▅▄▅▆▆▆▆▆▇▆▇▆▇▇▇▇▇▇█▇██████▇█▇▇███</td></tr></table><br/></div><div class=\"wandb-col\"><h3>Run summary:</h3><br/><table class=\"wandb\"><tr><td>epoch</td><td>50</td></tr><tr><td>loss</td><td>0.49803</td></tr><tr><td>test_acc</td><td>0.72197</td></tr><tr><td>train_acc</td><td>0.76629</td></tr></table><br/></div></div>"
      ],
      "text/plain": [
       "<IPython.core.display.HTML object>"
      ]
     },
     "metadata": {},
     "output_type": "display_data"
    },
    {
     "data": {
      "text/html": [
       " View run <strong style=\"color:#cdcd00\">GCN_BFS_seed_26</strong> at: <a href='https://wandb.ai/noynetanel1-tel-aviv-university/GCN%20Graph%20classification%28Protein%29_Gal/runs/o7jzess4' target=\"_blank\">https://wandb.ai/noynetanel1-tel-aviv-university/GCN%20Graph%20classification%28Protein%29_Gal/runs/o7jzess4</a><br> View project at: <a href='https://wandb.ai/noynetanel1-tel-aviv-university/GCN%20Graph%20classification%28Protein%29_Gal' target=\"_blank\">https://wandb.ai/noynetanel1-tel-aviv-university/GCN%20Graph%20classification%28Protein%29_Gal</a><br>Synced 5 W&B file(s), 0 media file(s), 0 artifact file(s) and 0 other file(s)"
      ],
      "text/plain": [
       "<IPython.core.display.HTML object>"
      ]
     },
     "metadata": {},
     "output_type": "display_data"
    },
    {
     "data": {
      "text/html": [
       "Find logs at: <code>./wandb/run-20250820_155825-o7jzess4/logs</code>"
      ],
      "text/plain": [
       "<IPython.core.display.HTML object>"
      ]
     },
     "metadata": {},
     "output_type": "display_data"
    },
    {
     "data": {
      "text/html": [
       "Tracking run with wandb version 0.20.1"
      ],
      "text/plain": [
       "<IPython.core.display.HTML object>"
      ]
     },
     "metadata": {},
     "output_type": "display_data"
    },
    {
     "data": {
      "text/html": [
       "Run data is saved locally in <code>/kaggle/working/wandb/run-20250820_160040-kwbv8ug5</code>"
      ],
      "text/plain": [
       "<IPython.core.display.HTML object>"
      ]
     },
     "metadata": {},
     "output_type": "display_data"
    },
    {
     "data": {
      "text/html": [
       "Syncing run <strong><a href='https://wandb.ai/noynetanel1-tel-aviv-university/GCN%20Graph%20classification%28Protein%29_Gal/runs/kwbv8ug5' target=\"_blank\">GCN_BFS_seed_27</a></strong> to <a href='https://wandb.ai/noynetanel1-tel-aviv-university/GCN%20Graph%20classification%28Protein%29_Gal' target=\"_blank\">Weights & Biases</a> (<a href='https://wandb.me/developer-guide' target=\"_blank\">docs</a>)<br>"
      ],
      "text/plain": [
       "<IPython.core.display.HTML object>"
      ]
     },
     "metadata": {},
     "output_type": "display_data"
    },
    {
     "data": {
      "text/html": [
       " View project at <a href='https://wandb.ai/noynetanel1-tel-aviv-university/GCN%20Graph%20classification%28Protein%29_Gal' target=\"_blank\">https://wandb.ai/noynetanel1-tel-aviv-university/GCN%20Graph%20classification%28Protein%29_Gal</a>"
      ],
      "text/plain": [
       "<IPython.core.display.HTML object>"
      ]
     },
     "metadata": {},
     "output_type": "display_data"
    },
    {
     "data": {
      "text/html": [
       " View run at <a href='https://wandb.ai/noynetanel1-tel-aviv-university/GCN%20Graph%20classification%28Protein%29_Gal/runs/kwbv8ug5' target=\"_blank\">https://wandb.ai/noynetanel1-tel-aviv-university/GCN%20Graph%20classification%28Protein%29_Gal/runs/kwbv8ug5</a>"
      ],
      "text/plain": [
       "<IPython.core.display.HTML object>"
      ]
     },
     "metadata": {},
     "output_type": "display_data"
    },
    {
     "name": "stdout",
     "output_type": "stream",
     "text": [
      "Seed 27 | Epoch 001 | Loss: 0.6766 | Test Acc: 0.6009\n",
      "Seed 27 | Epoch 002 | Loss: 0.6680 | Test Acc: 0.6009\n",
      "Seed 27 | Epoch 003 | Loss: 0.6624 | Test Acc: 0.6009\n",
      "Seed 27 | Epoch 004 | Loss: 0.6544 | Test Acc: 0.6547\n",
      "Seed 27 | Epoch 005 | Loss: 0.6455 | Test Acc: 0.6323\n",
      "Seed 27 | Epoch 006 | Loss: 0.6419 | Test Acc: 0.6502\n",
      "Seed 27 | Epoch 007 | Loss: 0.6306 | Test Acc: 0.6592\n",
      "Seed 27 | Epoch 008 | Loss: 0.6227 | Test Acc: 0.6861\n",
      "Seed 27 | Epoch 009 | Loss: 0.6171 | Test Acc: 0.6323\n",
      "Seed 27 | Epoch 010 | Loss: 0.6097 | Test Acc: 0.6816\n",
      "Seed 27 | Epoch 011 | Loss: 0.6040 | Test Acc: 0.7040\n",
      "Seed 27 | Epoch 012 | Loss: 0.6057 | Test Acc: 0.6906\n",
      "Seed 27 | Epoch 013 | Loss: 0.5948 | Test Acc: 0.6816\n",
      "Seed 27 | Epoch 014 | Loss: 0.5909 | Test Acc: 0.7040\n",
      "Seed 27 | Epoch 015 | Loss: 0.5876 | Test Acc: 0.6951\n",
      "Seed 27 | Epoch 016 | Loss: 0.5825 | Test Acc: 0.6951\n",
      "Seed 27 | Epoch 017 | Loss: 0.5843 | Test Acc: 0.7085\n",
      "Seed 27 | Epoch 018 | Loss: 0.5765 | Test Acc: 0.6951\n",
      "Seed 27 | Epoch 019 | Loss: 0.5763 | Test Acc: 0.7175\n",
      "Seed 27 | Epoch 020 | Loss: 0.5715 | Test Acc: 0.7220\n",
      "Seed 27 | Epoch 021 | Loss: 0.5677 | Test Acc: 0.7309\n",
      "Seed 27 | Epoch 022 | Loss: 0.5615 | Test Acc: 0.7265\n",
      "Seed 27 | Epoch 023 | Loss: 0.5626 | Test Acc: 0.7354\n",
      "Seed 27 | Epoch 024 | Loss: 0.5549 | Test Acc: 0.7130\n",
      "Seed 27 | Epoch 025 | Loss: 0.5543 | Test Acc: 0.7265\n",
      "Seed 27 | Epoch 026 | Loss: 0.5488 | Test Acc: 0.7354\n",
      "Seed 27 | Epoch 027 | Loss: 0.5589 | Test Acc: 0.7265\n",
      "Seed 27 | Epoch 028 | Loss: 0.5437 | Test Acc: 0.7444\n",
      "Seed 27 | Epoch 029 | Loss: 0.5426 | Test Acc: 0.7489\n",
      "Seed 27 | Epoch 030 | Loss: 0.5423 | Test Acc: 0.7220\n",
      "Seed 27 | Epoch 031 | Loss: 0.5354 | Test Acc: 0.7220\n",
      "Seed 27 | Epoch 032 | Loss: 0.5364 | Test Acc: 0.7354\n",
      "Seed 27 | Epoch 033 | Loss: 0.5384 | Test Acc: 0.7578\n",
      "Seed 27 | Epoch 034 | Loss: 0.5267 | Test Acc: 0.7668\n",
      "Seed 27 | Epoch 035 | Loss: 0.5283 | Test Acc: 0.7399\n",
      "Seed 27 | Epoch 036 | Loss: 0.5255 | Test Acc: 0.7623\n",
      "Seed 27 | Epoch 037 | Loss: 0.5304 | Test Acc: 0.7444\n",
      "Seed 27 | Epoch 038 | Loss: 0.5263 | Test Acc: 0.7444\n",
      "Seed 27 | Epoch 039 | Loss: 0.5171 | Test Acc: 0.7578\n",
      "Seed 27 | Epoch 040 | Loss: 0.5230 | Test Acc: 0.7265\n",
      "Seed 27 | Epoch 041 | Loss: 0.5224 | Test Acc: 0.7578\n",
      "Seed 27 | Epoch 042 | Loss: 0.5205 | Test Acc: 0.7534\n",
      "Seed 27 | Epoch 043 | Loss: 0.5247 | Test Acc: 0.7444\n",
      "Seed 27 | Epoch 044 | Loss: 0.5241 | Test Acc: 0.7489\n",
      "Seed 27 | Epoch 045 | Loss: 0.5190 | Test Acc: 0.7265\n",
      "Seed 27 | Epoch 046 | Loss: 0.5177 | Test Acc: 0.7265\n",
      "Seed 27 | Epoch 047 | Loss: 0.5133 | Test Acc: 0.7489\n",
      "Seed 27 | Epoch 048 | Loss: 0.5145 | Test Acc: 0.7354\n",
      "Seed 27 | Epoch 049 | Loss: 0.5368 | Test Acc: 0.7444\n",
      "Seed 27 | Epoch 050 | Loss: 0.5134 | Test Acc: 0.7489\n"
     ]
    },
    {
     "data": {
      "text/html": [],
      "text/plain": [
       "<IPython.core.display.HTML object>"
      ]
     },
     "metadata": {},
     "output_type": "display_data"
    },
    {
     "data": {
      "text/html": [
       "<br>    <style><br>        .wandb-row {<br>            display: flex;<br>            flex-direction: row;<br>            flex-wrap: wrap;<br>            justify-content: flex-start;<br>            width: 100%;<br>        }<br>        .wandb-col {<br>            display: flex;<br>            flex-direction: column;<br>            flex-basis: 100%;<br>            flex: 1;<br>            padding: 10px;<br>        }<br>    </style><br><div class=\"wandb-row\"><div class=\"wandb-col\"><h3>Run history:</h3><br/><table class=\"wandb\"><tr><td>epoch</td><td>▁▁▁▁▂▂▂▂▂▂▃▃▃▃▃▄▄▄▄▄▅▅▅▅▅▆▆▆▆▆▆▇▇▇▇▇▇███</td></tr><tr><td>loss</td><td>██▇▇▇▆▅▅▅▅▄▄▄▄▄▃▃▃▃▃▃▂▂▂▂▂▂▂▂▂▁▁▁▁▁▁▁▁▁▁</td></tr><tr><td>test_acc</td><td>▁▁▃▂▃▅▂▄▅▅▅▅▅▆▅▆▆▆▇▆▇▆▇▇▆▇██▇█▇█▆█▇▇▆▆▇▇</td></tr><tr><td>train_acc</td><td>▁▁▁▃▃▃▅▅▅▅▅▆▆▅▆▆▆▆▇▆▆▇▇▇▇▇▇▇▇▇▇▇▇█▇███▇▇</td></tr></table><br/></div><div class=\"wandb-col\"><h3>Run summary:</h3><br/><table class=\"wandb\"><tr><td>epoch</td><td>50</td></tr><tr><td>loss</td><td>0.51335</td></tr><tr><td>test_acc</td><td>0.74888</td></tr><tr><td>train_acc</td><td>0.76067</td></tr></table><br/></div></div>"
      ],
      "text/plain": [
       "<IPython.core.display.HTML object>"
      ]
     },
     "metadata": {},
     "output_type": "display_data"
    },
    {
     "data": {
      "text/html": [
       " View run <strong style=\"color:#cdcd00\">GCN_BFS_seed_27</strong> at: <a href='https://wandb.ai/noynetanel1-tel-aviv-university/GCN%20Graph%20classification%28Protein%29_Gal/runs/kwbv8ug5' target=\"_blank\">https://wandb.ai/noynetanel1-tel-aviv-university/GCN%20Graph%20classification%28Protein%29_Gal/runs/kwbv8ug5</a><br> View project at: <a href='https://wandb.ai/noynetanel1-tel-aviv-university/GCN%20Graph%20classification%28Protein%29_Gal' target=\"_blank\">https://wandb.ai/noynetanel1-tel-aviv-university/GCN%20Graph%20classification%28Protein%29_Gal</a><br>Synced 5 W&B file(s), 0 media file(s), 0 artifact file(s) and 0 other file(s)"
      ],
      "text/plain": [
       "<IPython.core.display.HTML object>"
      ]
     },
     "metadata": {},
     "output_type": "display_data"
    },
    {
     "data": {
      "text/html": [
       "Find logs at: <code>./wandb/run-20250820_160040-kwbv8ug5/logs</code>"
      ],
      "text/plain": [
       "<IPython.core.display.HTML object>"
      ]
     },
     "metadata": {},
     "output_type": "display_data"
    },
    {
     "data": {
      "text/html": [],
      "text/plain": [
       "<IPython.core.display.HTML object>"
      ]
     },
     "metadata": {},
     "output_type": "display_data"
    },
    {
     "data": {
      "text/html": [
       "Tracking run with wandb version 0.20.1"
      ],
      "text/plain": [
       "<IPython.core.display.HTML object>"
      ]
     },
     "metadata": {},
     "output_type": "display_data"
    },
    {
     "data": {
      "text/html": [
       "Run data is saved locally in <code>/kaggle/working/wandb/run-20250820_160254-z6rjq8ff</code>"
      ],
      "text/plain": [
       "<IPython.core.display.HTML object>"
      ]
     },
     "metadata": {},
     "output_type": "display_data"
    },
    {
     "data": {
      "text/html": [
       "Syncing run <strong><a href='https://wandb.ai/noynetanel1-tel-aviv-university/GCN%20Graph%20classification%28Protein%29_Gal/runs/z6rjq8ff' target=\"_blank\">GCN_BFS_seed_28</a></strong> to <a href='https://wandb.ai/noynetanel1-tel-aviv-university/GCN%20Graph%20classification%28Protein%29_Gal' target=\"_blank\">Weights & Biases</a> (<a href='https://wandb.me/developer-guide' target=\"_blank\">docs</a>)<br>"
      ],
      "text/plain": [
       "<IPython.core.display.HTML object>"
      ]
     },
     "metadata": {},
     "output_type": "display_data"
    },
    {
     "data": {
      "text/html": [
       " View project at <a href='https://wandb.ai/noynetanel1-tel-aviv-university/GCN%20Graph%20classification%28Protein%29_Gal' target=\"_blank\">https://wandb.ai/noynetanel1-tel-aviv-university/GCN%20Graph%20classification%28Protein%29_Gal</a>"
      ],
      "text/plain": [
       "<IPython.core.display.HTML object>"
      ]
     },
     "metadata": {},
     "output_type": "display_data"
    },
    {
     "data": {
      "text/html": [
       " View run at <a href='https://wandb.ai/noynetanel1-tel-aviv-university/GCN%20Graph%20classification%28Protein%29_Gal/runs/z6rjq8ff' target=\"_blank\">https://wandb.ai/noynetanel1-tel-aviv-university/GCN%20Graph%20classification%28Protein%29_Gal/runs/z6rjq8ff</a>"
      ],
      "text/plain": [
       "<IPython.core.display.HTML object>"
      ]
     },
     "metadata": {},
     "output_type": "display_data"
    },
    {
     "name": "stdout",
     "output_type": "stream",
     "text": [
      "Seed 28 | Epoch 001 | Loss: 0.6740 | Test Acc: 0.5919\n",
      "Seed 28 | Epoch 002 | Loss: 0.6695 | Test Acc: 0.5919\n",
      "Seed 28 | Epoch 003 | Loss: 0.6670 | Test Acc: 0.6054\n",
      "Seed 28 | Epoch 004 | Loss: 0.6633 | Test Acc: 0.6457\n",
      "Seed 28 | Epoch 005 | Loss: 0.6611 | Test Acc: 0.6278\n",
      "Seed 28 | Epoch 006 | Loss: 0.6594 | Test Acc: 0.6637\n",
      "Seed 28 | Epoch 007 | Loss: 0.6539 | Test Acc: 0.6502\n",
      "Seed 28 | Epoch 008 | Loss: 0.6483 | Test Acc: 0.6502\n",
      "Seed 28 | Epoch 009 | Loss: 0.6417 | Test Acc: 0.6502\n",
      "Seed 28 | Epoch 010 | Loss: 0.6372 | Test Acc: 0.6547\n",
      "Seed 28 | Epoch 011 | Loss: 0.6344 | Test Acc: 0.6861\n",
      "Seed 28 | Epoch 012 | Loss: 0.6298 | Test Acc: 0.7085\n",
      "Seed 28 | Epoch 013 | Loss: 0.6253 | Test Acc: 0.7085\n",
      "Seed 28 | Epoch 014 | Loss: 0.6236 | Test Acc: 0.7220\n",
      "Seed 28 | Epoch 015 | Loss: 0.6195 | Test Acc: 0.7130\n",
      "Seed 28 | Epoch 016 | Loss: 0.6159 | Test Acc: 0.7130\n",
      "Seed 28 | Epoch 017 | Loss: 0.6133 | Test Acc: 0.7399\n",
      "Seed 28 | Epoch 018 | Loss: 0.6146 | Test Acc: 0.7220\n",
      "Seed 28 | Epoch 019 | Loss: 0.6088 | Test Acc: 0.7220\n",
      "Seed 28 | Epoch 020 | Loss: 0.6083 | Test Acc: 0.7444\n",
      "Seed 28 | Epoch 021 | Loss: 0.6019 | Test Acc: 0.7130\n",
      "Seed 28 | Epoch 022 | Loss: 0.6029 | Test Acc: 0.7175\n",
      "Seed 28 | Epoch 023 | Loss: 0.5963 | Test Acc: 0.7354\n",
      "Seed 28 | Epoch 024 | Loss: 0.5914 | Test Acc: 0.7220\n",
      "Seed 28 | Epoch 025 | Loss: 0.5889 | Test Acc: 0.7220\n",
      "Seed 28 | Epoch 026 | Loss: 0.6062 | Test Acc: 0.7578\n",
      "Seed 28 | Epoch 027 | Loss: 0.5846 | Test Acc: 0.7309\n",
      "Seed 28 | Epoch 028 | Loss: 0.5876 | Test Acc: 0.7534\n",
      "Seed 28 | Epoch 029 | Loss: 0.5831 | Test Acc: 0.7578\n",
      "Seed 28 | Epoch 030 | Loss: 0.5780 | Test Acc: 0.7399\n",
      "Seed 28 | Epoch 031 | Loss: 0.5761 | Test Acc: 0.7578\n",
      "Seed 28 | Epoch 032 | Loss: 0.5823 | Test Acc: 0.7489\n",
      "Seed 28 | Epoch 033 | Loss: 0.5815 | Test Acc: 0.7265\n",
      "Seed 28 | Epoch 034 | Loss: 0.5670 | Test Acc: 0.7354\n",
      "Seed 28 | Epoch 035 | Loss: 0.5659 | Test Acc: 0.7354\n",
      "Seed 28 | Epoch 036 | Loss: 0.5667 | Test Acc: 0.7489\n",
      "Seed 28 | Epoch 037 | Loss: 0.5643 | Test Acc: 0.7668\n",
      "Seed 28 | Epoch 038 | Loss: 0.5578 | Test Acc: 0.7848\n",
      "Seed 28 | Epoch 039 | Loss: 0.5636 | Test Acc: 0.7399\n",
      "Seed 28 | Epoch 040 | Loss: 0.5552 | Test Acc: 0.7892\n",
      "Seed 28 | Epoch 041 | Loss: 0.5518 | Test Acc: 0.7937\n",
      "Seed 28 | Epoch 042 | Loss: 0.5539 | Test Acc: 0.7713\n",
      "Seed 28 | Epoch 043 | Loss: 0.5607 | Test Acc: 0.7892\n",
      "Seed 28 | Epoch 044 | Loss: 0.5510 | Test Acc: 0.7803\n",
      "Seed 28 | Epoch 045 | Loss: 0.5453 | Test Acc: 0.7130\n",
      "Seed 28 | Epoch 046 | Loss: 0.5555 | Test Acc: 0.8027\n",
      "Seed 28 | Epoch 047 | Loss: 0.5526 | Test Acc: 0.7758\n",
      "Seed 28 | Epoch 048 | Loss: 0.5408 | Test Acc: 0.7848\n",
      "Seed 28 | Epoch 049 | Loss: 0.5443 | Test Acc: 0.7848\n",
      "Seed 28 | Epoch 050 | Loss: 0.5415 | Test Acc: 0.7803\n"
     ]
    },
    {
     "data": {
      "text/html": [],
      "text/plain": [
       "<IPython.core.display.HTML object>"
      ]
     },
     "metadata": {},
     "output_type": "display_data"
    },
    {
     "data": {
      "text/html": [
       "<br>    <style><br>        .wandb-row {<br>            display: flex;<br>            flex-direction: row;<br>            flex-wrap: wrap;<br>            justify-content: flex-start;<br>            width: 100%;<br>        }<br>        .wandb-col {<br>            display: flex;<br>            flex-direction: column;<br>            flex-basis: 100%;<br>            flex: 1;<br>            padding: 10px;<br>        }<br>    </style><br><div class=\"wandb-row\"><div class=\"wandb-col\"><h3>Run history:</h3><br/><table class=\"wandb\"><tr><td>epoch</td><td>▁▁▁▁▂▂▂▂▂▂▃▃▃▃▃▄▄▄▄▄▅▅▅▅▅▆▆▆▆▆▆▇▇▇▇▇▇███</td></tr><tr><td>loss</td><td>███▇▇▇▇▆▆▆▅▅▅▅▅▅▅▄▄▄▄▃▃▃▃▃▃▂▂▂▂▂▂▂▂▁▂▂▁▁</td></tr><tr><td>test_acc</td><td>▁▁▁▃▂▃▃▃▄▅▅▅▆▅▅▅▅▆▅▅▆▆▇▆▇▅▆▆▆▇▆██▇█▅█▇▇▇</td></tr><tr><td>train_acc</td><td>▁▁▁▂▃▃▃▃▅▅▆▆▆▆▆▆▆▆▆▆▆▇▇▇▇▆▇▇▇▇▇▇█▇▇▆▇███</td></tr></table><br/></div><div class=\"wandb-col\"><h3>Run summary:</h3><br/><table class=\"wandb\"><tr><td>epoch</td><td>50</td></tr><tr><td>loss</td><td>0.5415</td></tr><tr><td>test_acc</td><td>0.78027</td></tr><tr><td>train_acc</td><td>0.74719</td></tr></table><br/></div></div>"
      ],
      "text/plain": [
       "<IPython.core.display.HTML object>"
      ]
     },
     "metadata": {},
     "output_type": "display_data"
    },
    {
     "data": {
      "text/html": [
       " View run <strong style=\"color:#cdcd00\">GCN_BFS_seed_28</strong> at: <a href='https://wandb.ai/noynetanel1-tel-aviv-university/GCN%20Graph%20classification%28Protein%29_Gal/runs/z6rjq8ff' target=\"_blank\">https://wandb.ai/noynetanel1-tel-aviv-university/GCN%20Graph%20classification%28Protein%29_Gal/runs/z6rjq8ff</a><br> View project at: <a href='https://wandb.ai/noynetanel1-tel-aviv-university/GCN%20Graph%20classification%28Protein%29_Gal' target=\"_blank\">https://wandb.ai/noynetanel1-tel-aviv-university/GCN%20Graph%20classification%28Protein%29_Gal</a><br>Synced 5 W&B file(s), 0 media file(s), 0 artifact file(s) and 0 other file(s)"
      ],
      "text/plain": [
       "<IPython.core.display.HTML object>"
      ]
     },
     "metadata": {},
     "output_type": "display_data"
    },
    {
     "data": {
      "text/html": [
       "Find logs at: <code>./wandb/run-20250820_160254-z6rjq8ff/logs</code>"
      ],
      "text/plain": [
       "<IPython.core.display.HTML object>"
      ]
     },
     "metadata": {},
     "output_type": "display_data"
    },
    {
     "data": {
      "text/html": [
       "Tracking run with wandb version 0.20.1"
      ],
      "text/plain": [
       "<IPython.core.display.HTML object>"
      ]
     },
     "metadata": {},
     "output_type": "display_data"
    },
    {
     "data": {
      "text/html": [
       "Run data is saved locally in <code>/kaggle/working/wandb/run-20250820_160509-0nfj5lp1</code>"
      ],
      "text/plain": [
       "<IPython.core.display.HTML object>"
      ]
     },
     "metadata": {},
     "output_type": "display_data"
    },
    {
     "data": {
      "text/html": [
       "Syncing run <strong><a href='https://wandb.ai/noynetanel1-tel-aviv-university/GCN%20Graph%20classification%28Protein%29_Gal/runs/0nfj5lp1' target=\"_blank\">GCN_BFS_seed_29</a></strong> to <a href='https://wandb.ai/noynetanel1-tel-aviv-university/GCN%20Graph%20classification%28Protein%29_Gal' target=\"_blank\">Weights & Biases</a> (<a href='https://wandb.me/developer-guide' target=\"_blank\">docs</a>)<br>"
      ],
      "text/plain": [
       "<IPython.core.display.HTML object>"
      ]
     },
     "metadata": {},
     "output_type": "display_data"
    },
    {
     "data": {
      "text/html": [
       " View project at <a href='https://wandb.ai/noynetanel1-tel-aviv-university/GCN%20Graph%20classification%28Protein%29_Gal' target=\"_blank\">https://wandb.ai/noynetanel1-tel-aviv-university/GCN%20Graph%20classification%28Protein%29_Gal</a>"
      ],
      "text/plain": [
       "<IPython.core.display.HTML object>"
      ]
     },
     "metadata": {},
     "output_type": "display_data"
    },
    {
     "data": {
      "text/html": [
       " View run at <a href='https://wandb.ai/noynetanel1-tel-aviv-university/GCN%20Graph%20classification%28Protein%29_Gal/runs/0nfj5lp1' target=\"_blank\">https://wandb.ai/noynetanel1-tel-aviv-university/GCN%20Graph%20classification%28Protein%29_Gal/runs/0nfj5lp1</a>"
      ],
      "text/plain": [
       "<IPython.core.display.HTML object>"
      ]
     },
     "metadata": {},
     "output_type": "display_data"
    },
    {
     "name": "stdout",
     "output_type": "stream",
     "text": [
      "Seed 29 | Epoch 001 | Loss: 0.6768 | Test Acc: 0.5964\n",
      "Seed 29 | Epoch 002 | Loss: 0.6722 | Test Acc: 0.5964\n",
      "Seed 29 | Epoch 003 | Loss: 0.6698 | Test Acc: 0.6188\n",
      "Seed 29 | Epoch 004 | Loss: 0.6632 | Test Acc: 0.6413\n",
      "Seed 29 | Epoch 005 | Loss: 0.6585 | Test Acc: 0.6413\n",
      "Seed 29 | Epoch 006 | Loss: 0.6524 | Test Acc: 0.6413\n",
      "Seed 29 | Epoch 007 | Loss: 0.6447 | Test Acc: 0.6368\n",
      "Seed 29 | Epoch 008 | Loss: 0.6377 | Test Acc: 0.6682\n",
      "Seed 29 | Epoch 009 | Loss: 0.6295 | Test Acc: 0.6592\n",
      "Seed 29 | Epoch 010 | Loss: 0.6231 | Test Acc: 0.6547\n",
      "Seed 29 | Epoch 011 | Loss: 0.6169 | Test Acc: 0.6726\n",
      "Seed 29 | Epoch 012 | Loss: 0.6107 | Test Acc: 0.6502\n",
      "Seed 29 | Epoch 013 | Loss: 0.6111 | Test Acc: 0.6413\n",
      "Seed 29 | Epoch 014 | Loss: 0.6073 | Test Acc: 0.6771\n",
      "Seed 29 | Epoch 015 | Loss: 0.5975 | Test Acc: 0.7040\n",
      "Seed 29 | Epoch 016 | Loss: 0.5925 | Test Acc: 0.6502\n",
      "Seed 29 | Epoch 017 | Loss: 0.5947 | Test Acc: 0.6457\n",
      "Seed 29 | Epoch 018 | Loss: 0.5861 | Test Acc: 0.6592\n",
      "Seed 29 | Epoch 019 | Loss: 0.5813 | Test Acc: 0.6682\n",
      "Seed 29 | Epoch 020 | Loss: 0.5755 | Test Acc: 0.6771\n",
      "Seed 29 | Epoch 021 | Loss: 0.5719 | Test Acc: 0.6951\n",
      "Seed 29 | Epoch 022 | Loss: 0.5672 | Test Acc: 0.6726\n",
      "Seed 29 | Epoch 023 | Loss: 0.5626 | Test Acc: 0.7085\n",
      "Seed 29 | Epoch 024 | Loss: 0.5664 | Test Acc: 0.7040\n",
      "Seed 29 | Epoch 025 | Loss: 0.5574 | Test Acc: 0.6906\n",
      "Seed 29 | Epoch 026 | Loss: 0.5540 | Test Acc: 0.6861\n",
      "Seed 29 | Epoch 027 | Loss: 0.5569 | Test Acc: 0.6996\n",
      "Seed 29 | Epoch 028 | Loss: 0.5549 | Test Acc: 0.6906\n",
      "Seed 29 | Epoch 029 | Loss: 0.5531 | Test Acc: 0.6906\n",
      "Seed 29 | Epoch 030 | Loss: 0.5410 | Test Acc: 0.6816\n",
      "Seed 29 | Epoch 031 | Loss: 0.5460 | Test Acc: 0.7130\n",
      "Seed 29 | Epoch 032 | Loss: 0.5392 | Test Acc: 0.6726\n",
      "Seed 29 | Epoch 033 | Loss: 0.5332 | Test Acc: 0.7130\n",
      "Seed 29 | Epoch 034 | Loss: 0.5318 | Test Acc: 0.7085\n",
      "Seed 29 | Epoch 035 | Loss: 0.5391 | Test Acc: 0.7085\n",
      "Seed 29 | Epoch 036 | Loss: 0.5295 | Test Acc: 0.6951\n",
      "Seed 29 | Epoch 037 | Loss: 0.5296 | Test Acc: 0.6861\n",
      "Seed 29 | Epoch 038 | Loss: 0.5437 | Test Acc: 0.6906\n",
      "Seed 29 | Epoch 039 | Loss: 0.5282 | Test Acc: 0.7085\n",
      "Seed 29 | Epoch 040 | Loss: 0.5248 | Test Acc: 0.7220\n",
      "Seed 29 | Epoch 041 | Loss: 0.5291 | Test Acc: 0.6996\n",
      "Seed 29 | Epoch 042 | Loss: 0.5253 | Test Acc: 0.7220\n",
      "Seed 29 | Epoch 043 | Loss: 0.5243 | Test Acc: 0.6816\n",
      "Seed 29 | Epoch 044 | Loss: 0.5342 | Test Acc: 0.7040\n",
      "Seed 29 | Epoch 045 | Loss: 0.5271 | Test Acc: 0.7175\n",
      "Seed 29 | Epoch 046 | Loss: 0.5177 | Test Acc: 0.6951\n",
      "Seed 29 | Epoch 047 | Loss: 0.5235 | Test Acc: 0.7085\n",
      "Seed 29 | Epoch 048 | Loss: 0.5238 | Test Acc: 0.7534\n",
      "Seed 29 | Epoch 049 | Loss: 0.5304 | Test Acc: 0.7085\n",
      "Seed 29 | Epoch 050 | Loss: 0.5135 | Test Acc: 0.7220\n"
     ]
    },
    {
     "data": {
      "text/html": [],
      "text/plain": [
       "<IPython.core.display.HTML object>"
      ]
     },
     "metadata": {},
     "output_type": "display_data"
    },
    {
     "data": {
      "text/html": [
       "<br>    <style><br>        .wandb-row {<br>            display: flex;<br>            flex-direction: row;<br>            flex-wrap: wrap;<br>            justify-content: flex-start;<br>            width: 100%;<br>        }<br>        .wandb-col {<br>            display: flex;<br>            flex-direction: column;<br>            flex-basis: 100%;<br>            flex: 1;<br>            padding: 10px;<br>        }<br>    </style><br><div class=\"wandb-row\"><div class=\"wandb-col\"><h3>Run history:</h3><br/><table class=\"wandb\"><tr><td>epoch</td><td>▁▁▁▂▂▂▂▂▂▃▃▃▃▃▃▄▄▄▄▄▅▅▅▅▅▆▆▆▆▆▆▇▇▇▇▇▇███</td></tr><tr><td>loss</td><td>███▇▇▇▆▆▆▅▅▅▅▄▄▄▄▃▃▃▃▃▃▃▂▂▂▂▂▂▂▁▁▂▁▂▁▁▁▂</td></tr><tr><td>test_acc</td><td>▁▁▂▃▃▃▄▄▄▄▃▅▆▃▄▅▅▄▆▆▅▆▅▅▅▄▆▆▆▅▅▆▇▆▇▆▆▆█▇</td></tr><tr><td>train_acc</td><td>▁▁▂▂▂▃▄▄▅▅▅▅▅▆▆▆▆▆▇▆▆▇▇▇▇▇█▇▇█▇███▆██▇▇█</td></tr></table><br/></div><div class=\"wandb-col\"><h3>Run summary:</h3><br/><table class=\"wandb\"><tr><td>epoch</td><td>50</td></tr><tr><td>loss</td><td>0.5135</td></tr><tr><td>test_acc</td><td>0.72197</td></tr><tr><td>train_acc</td><td>0.76966</td></tr></table><br/></div></div>"
      ],
      "text/plain": [
       "<IPython.core.display.HTML object>"
      ]
     },
     "metadata": {},
     "output_type": "display_data"
    },
    {
     "data": {
      "text/html": [
       " View run <strong style=\"color:#cdcd00\">GCN_BFS_seed_29</strong> at: <a href='https://wandb.ai/noynetanel1-tel-aviv-university/GCN%20Graph%20classification%28Protein%29_Gal/runs/0nfj5lp1' target=\"_blank\">https://wandb.ai/noynetanel1-tel-aviv-university/GCN%20Graph%20classification%28Protein%29_Gal/runs/0nfj5lp1</a><br> View project at: <a href='https://wandb.ai/noynetanel1-tel-aviv-university/GCN%20Graph%20classification%28Protein%29_Gal' target=\"_blank\">https://wandb.ai/noynetanel1-tel-aviv-university/GCN%20Graph%20classification%28Protein%29_Gal</a><br>Synced 5 W&B file(s), 0 media file(s), 0 artifact file(s) and 0 other file(s)"
      ],
      "text/plain": [
       "<IPython.core.display.HTML object>"
      ]
     },
     "metadata": {},
     "output_type": "display_data"
    },
    {
     "data": {
      "text/html": [
       "Find logs at: <code>./wandb/run-20250820_160509-0nfj5lp1/logs</code>"
      ],
      "text/plain": [
       "<IPython.core.display.HTML object>"
      ]
     },
     "metadata": {},
     "output_type": "display_data"
    },
    {
     "data": {
      "text/html": [
       "Tracking run with wandb version 0.20.1"
      ],
      "text/plain": [
       "<IPython.core.display.HTML object>"
      ]
     },
     "metadata": {},
     "output_type": "display_data"
    },
    {
     "data": {
      "text/html": [
       "Run data is saved locally in <code>/kaggle/working/wandb/run-20250820_160722-f8vppq6b</code>"
      ],
      "text/plain": [
       "<IPython.core.display.HTML object>"
      ]
     },
     "metadata": {},
     "output_type": "display_data"
    },
    {
     "data": {
      "text/html": [
       "Syncing run <strong><a href='https://wandb.ai/noynetanel1-tel-aviv-university/GCN%20Graph%20classification%28Protein%29_Gal/runs/f8vppq6b' target=\"_blank\">GCN_BFS_seed_30</a></strong> to <a href='https://wandb.ai/noynetanel1-tel-aviv-university/GCN%20Graph%20classification%28Protein%29_Gal' target=\"_blank\">Weights & Biases</a> (<a href='https://wandb.me/developer-guide' target=\"_blank\">docs</a>)<br>"
      ],
      "text/plain": [
       "<IPython.core.display.HTML object>"
      ]
     },
     "metadata": {},
     "output_type": "display_data"
    },
    {
     "data": {
      "text/html": [
       " View project at <a href='https://wandb.ai/noynetanel1-tel-aviv-university/GCN%20Graph%20classification%28Protein%29_Gal' target=\"_blank\">https://wandb.ai/noynetanel1-tel-aviv-university/GCN%20Graph%20classification%28Protein%29_Gal</a>"
      ],
      "text/plain": [
       "<IPython.core.display.HTML object>"
      ]
     },
     "metadata": {},
     "output_type": "display_data"
    },
    {
     "data": {
      "text/html": [
       " View run at <a href='https://wandb.ai/noynetanel1-tel-aviv-university/GCN%20Graph%20classification%28Protein%29_Gal/runs/f8vppq6b' target=\"_blank\">https://wandb.ai/noynetanel1-tel-aviv-university/GCN%20Graph%20classification%28Protein%29_Gal/runs/f8vppq6b</a>"
      ],
      "text/plain": [
       "<IPython.core.display.HTML object>"
      ]
     },
     "metadata": {},
     "output_type": "display_data"
    },
    {
     "name": "stdout",
     "output_type": "stream",
     "text": [
      "Seed 30 | Epoch 001 | Loss: 0.6841 | Test Acc: 0.6592\n",
      "Seed 30 | Epoch 002 | Loss: 0.6739 | Test Acc: 0.6547\n",
      "Seed 30 | Epoch 003 | Loss: 0.6711 | Test Acc: 0.6413\n",
      "Seed 30 | Epoch 004 | Loss: 0.6650 | Test Acc: 0.6592\n",
      "Seed 30 | Epoch 005 | Loss: 0.6603 | Test Acc: 0.6637\n",
      "Seed 30 | Epoch 006 | Loss: 0.6530 | Test Acc: 0.6637\n",
      "Seed 30 | Epoch 007 | Loss: 0.6441 | Test Acc: 0.6771\n",
      "Seed 30 | Epoch 008 | Loss: 0.6367 | Test Acc: 0.6771\n",
      "Seed 30 | Epoch 009 | Loss: 0.6251 | Test Acc: 0.6771\n",
      "Seed 30 | Epoch 010 | Loss: 0.6164 | Test Acc: 0.7175\n",
      "Seed 30 | Epoch 011 | Loss: 0.6054 | Test Acc: 0.6996\n",
      "Seed 30 | Epoch 012 | Loss: 0.6024 | Test Acc: 0.6951\n",
      "Seed 30 | Epoch 013 | Loss: 0.5896 | Test Acc: 0.6951\n",
      "Seed 30 | Epoch 014 | Loss: 0.5851 | Test Acc: 0.6771\n",
      "Seed 30 | Epoch 015 | Loss: 0.5772 | Test Acc: 0.6861\n",
      "Seed 30 | Epoch 016 | Loss: 0.5712 | Test Acc: 0.7040\n",
      "Seed 30 | Epoch 017 | Loss: 0.5643 | Test Acc: 0.7130\n",
      "Seed 30 | Epoch 018 | Loss: 0.5622 | Test Acc: 0.7130\n",
      "Seed 30 | Epoch 019 | Loss: 0.5571 | Test Acc: 0.7130\n",
      "Seed 30 | Epoch 020 | Loss: 0.5492 | Test Acc: 0.7175\n",
      "Seed 30 | Epoch 021 | Loss: 0.5468 | Test Acc: 0.7130\n",
      "Seed 30 | Epoch 022 | Loss: 0.5451 | Test Acc: 0.7175\n",
      "Seed 30 | Epoch 023 | Loss: 0.5376 | Test Acc: 0.7220\n",
      "Seed 30 | Epoch 024 | Loss: 0.5342 | Test Acc: 0.7220\n",
      "Seed 30 | Epoch 025 | Loss: 0.5320 | Test Acc: 0.7265\n",
      "Seed 30 | Epoch 026 | Loss: 0.5289 | Test Acc: 0.7309\n",
      "Seed 30 | Epoch 027 | Loss: 0.5317 | Test Acc: 0.7040\n",
      "Seed 30 | Epoch 028 | Loss: 0.5279 | Test Acc: 0.7354\n",
      "Seed 30 | Epoch 029 | Loss: 0.5216 | Test Acc: 0.7175\n",
      "Seed 30 | Epoch 030 | Loss: 0.5239 | Test Acc: 0.7399\n",
      "Seed 30 | Epoch 031 | Loss: 0.5219 | Test Acc: 0.7309\n",
      "Seed 30 | Epoch 032 | Loss: 0.5252 | Test Acc: 0.7399\n",
      "Seed 30 | Epoch 033 | Loss: 0.5272 | Test Acc: 0.7444\n",
      "Seed 30 | Epoch 034 | Loss: 0.5126 | Test Acc: 0.7399\n",
      "Seed 30 | Epoch 035 | Loss: 0.5172 | Test Acc: 0.7534\n",
      "Seed 30 | Epoch 036 | Loss: 0.5172 | Test Acc: 0.7040\n",
      "Seed 30 | Epoch 037 | Loss: 0.5143 | Test Acc: 0.7175\n",
      "Seed 30 | Epoch 038 | Loss: 0.5200 | Test Acc: 0.6996\n",
      "Seed 30 | Epoch 039 | Loss: 0.5299 | Test Acc: 0.7175\n",
      "Seed 30 | Epoch 040 | Loss: 0.5103 | Test Acc: 0.7489\n",
      "Seed 30 | Epoch 041 | Loss: 0.5091 | Test Acc: 0.7354\n",
      "Seed 30 | Epoch 042 | Loss: 0.5091 | Test Acc: 0.7309\n",
      "Seed 30 | Epoch 043 | Loss: 0.5100 | Test Acc: 0.7309\n",
      "Seed 30 | Epoch 044 | Loss: 0.5199 | Test Acc: 0.7265\n",
      "Seed 30 | Epoch 045 | Loss: 0.5098 | Test Acc: 0.7175\n",
      "Seed 30 | Epoch 046 | Loss: 0.5069 | Test Acc: 0.7220\n",
      "Seed 30 | Epoch 047 | Loss: 0.5279 | Test Acc: 0.7265\n",
      "Seed 30 | Epoch 048 | Loss: 0.5045 | Test Acc: 0.7399\n",
      "Seed 30 | Epoch 049 | Loss: 0.5068 | Test Acc: 0.7354\n",
      "Seed 30 | Epoch 050 | Loss: 0.5060 | Test Acc: 0.7309\n"
     ]
    },
    {
     "data": {
      "text/html": [],
      "text/plain": [
       "<IPython.core.display.HTML object>"
      ]
     },
     "metadata": {},
     "output_type": "display_data"
    },
    {
     "data": {
      "text/html": [
       "<br>    <style><br>        .wandb-row {<br>            display: flex;<br>            flex-direction: row;<br>            flex-wrap: wrap;<br>            justify-content: flex-start;<br>            width: 100%;<br>        }<br>        .wandb-col {<br>            display: flex;<br>            flex-direction: column;<br>            flex-basis: 100%;<br>            flex: 1;<br>            padding: 10px;<br>        }<br>    </style><br><div class=\"wandb-row\"><div class=\"wandb-col\"><h3>Run history:</h3><br/><table class=\"wandb\"><tr><td>epoch</td><td>▁▁▁▁▂▂▂▂▂▂▃▃▃▃▃▄▄▄▄▄▄▅▅▅▅▅▆▆▆▆▆▆▇▇▇▇▇███</td></tr><tr><td>loss</td><td>██▇▇▇▆▆▅▅▅▄▄▄▃▃▃▃▂▂▂▂▂▂▂▂▂▁▁▁▁▂▁▁▁▁▁▁▂▁▁</td></tr><tr><td>test_acc</td><td>▂▂▁▂▂▃▃▃▅▄▃▄▅▅▅▆▅▆▆▆▇▅▇▆▇▇▇█▅▆▆█▇▇▇▆▆▆▇▇</td></tr><tr><td>train_acc</td><td>▁▁▃▃▂▅▄▅▆▆▆▇▇▇▇▇█▇████▇██████▇███████▇██</td></tr></table><br/></div><div class=\"wandb-col\"><h3>Run summary:</h3><br/><table class=\"wandb\"><tr><td>epoch</td><td>50</td></tr><tr><td>loss</td><td>0.50602</td></tr><tr><td>test_acc</td><td>0.73094</td></tr><tr><td>train_acc</td><td>0.77079</td></tr></table><br/></div></div>"
      ],
      "text/plain": [
       "<IPython.core.display.HTML object>"
      ]
     },
     "metadata": {},
     "output_type": "display_data"
    },
    {
     "data": {
      "text/html": [
       " View run <strong style=\"color:#cdcd00\">GCN_BFS_seed_30</strong> at: <a href='https://wandb.ai/noynetanel1-tel-aviv-university/GCN%20Graph%20classification%28Protein%29_Gal/runs/f8vppq6b' target=\"_blank\">https://wandb.ai/noynetanel1-tel-aviv-university/GCN%20Graph%20classification%28Protein%29_Gal/runs/f8vppq6b</a><br> View project at: <a href='https://wandb.ai/noynetanel1-tel-aviv-university/GCN%20Graph%20classification%28Protein%29_Gal' target=\"_blank\">https://wandb.ai/noynetanel1-tel-aviv-university/GCN%20Graph%20classification%28Protein%29_Gal</a><br>Synced 5 W&B file(s), 0 media file(s), 0 artifact file(s) and 0 other file(s)"
      ],
      "text/plain": [
       "<IPython.core.display.HTML object>"
      ]
     },
     "metadata": {},
     "output_type": "display_data"
    },
    {
     "data": {
      "text/html": [
       "Find logs at: <code>./wandb/run-20250820_160722-f8vppq6b/logs</code>"
      ],
      "text/plain": [
       "<IPython.core.display.HTML object>"
      ]
     },
     "metadata": {},
     "output_type": "display_data"
    }
   ],
   "source": [
    "import os, random, numpy as np, torch\n",
    "import torch.nn.functional as F\n",
    "from torch_geometric.datasets import TUDataset\n",
    "from torch_geometric.loader import DataLoader\n",
    "from torch_geometric.nn import GCNConv, global_mean_pool\n",
    "from torch_geometric.utils import to_networkx\n",
    "import networkx as nx\n",
    "import wandb\n",
    "\n",
    "EPOCHS = int(os.getenv(\"EPOCHS\", \"50\"))\n",
    "NUM_SEEDS = int(os.getenv(\"NUM_SEEDS\", \"30\"))\n",
    "PROJECT = f\"GCN Graph classification({Dataset_name})_Gal\"\n",
    "ENTITY = \"noynetanel1-tel-aviv-university\"\n",
    "\n",
    "class GCN(torch.nn.Module):\n",
    "    def __init__(self, in_channels, hidden_channels, out_channels):\n",
    "        super().__init__()\n",
    "        self.conv1 = GCNConv(in_channels, hidden_channels)\n",
    "        self.conv2 = GCNConv(hidden_channels, hidden_channels)\n",
    "        self.lin = torch.nn.Linear(hidden_channels, out_channels)\n",
    "\n",
    "    def forward(self, x, edge_index, batch):\n",
    "        x = self.conv1(x, edge_index)\n",
    "        x = F.relu(x)\n",
    "        x = self.conv2(x, edge_index)\n",
    "        x = global_mean_pool(x, batch)\n",
    "        return F.log_softmax(self.lin(x), dim=1)\n",
    "\n",
    "def set_seed(s):\n",
    "    random.seed(s)\n",
    "    np.random.seed(s)\n",
    "    torch.manual_seed(s)\n",
    "    torch.cuda.manual_seed_all(s)\n",
    "    torch.backends.cudnn.deterministic = True\n",
    "    torch.backends.cudnn.benchmark = False\n",
    "\n",
    "def add_bfs_rank(d):\n",
    "    d = d.clone()\n",
    "    if d.x is None:\n",
    "        d.x = torch.ones((d.num_nodes, 1), dtype=torch.float)\n",
    "    G = to_networkx(d, to_undirected=True)\n",
    "    root = int(d.edge_index[0][0].item()) if d.edge_index.numel() > 0 else 0\n",
    "    bfs_order = list(nx.bfs_tree(G, root)) if G.number_of_nodes() > 0 else []\n",
    "    bfs_rank = torch.full((d.num_nodes, 1), -1.0, dtype=torch.float)\n",
    "    L = max(1, len(bfs_order))\n",
    "    for i, node in enumerate(bfs_order):\n",
    "        bfs_rank[node] = float(i) / float(L)\n",
    "    d.x = torch.cat([d.x, bfs_rank], dim=1)\n",
    "    return d\n",
    "\n",
    "def run_seed(seed):\n",
    "    set_seed(seed)\n",
    "    dataset = TUDataset(root='data/TUDataset', name=Dataset_name, transform=add_bfs_rank)\n",
    "    torch.manual_seed(seed)\n",
    "    dataset = dataset.shuffle()\n",
    "    num_graphs = len(dataset)\n",
    "    train_size = int(0.8 * num_graphs)\n",
    "    train_dataset = dataset[:train_size]\n",
    "    test_dataset = dataset[train_size:]\n",
    "    train_loader = DataLoader(train_dataset, batch_size=32, shuffle=True, num_workers=2)\n",
    "    test_loader = DataLoader(test_dataset, batch_size=32, shuffle=False, num_workers=2)\n",
    "    device = torch.device('cuda' if torch.cuda.is_available() else 'cpu')\n",
    "    in_channels = dataset[0].x.size(1)\n",
    "    model = GCN(in_channels, 64, dataset.num_classes).to(device)\n",
    "    optimizer = torch.optim.Adam(model.parameters(), lr=0.001)\n",
    "    wandb.init(\n",
    "        project=PROJECT,\n",
    "        entity=ENTITY,\n",
    "        name=f\"GCN_BFS_seed_{seed}\",\n",
    "        group=f\"GCN_{Dataset_name}_BFS\",\n",
    "        job_type=\"bfs\",\n",
    "        reinit=True,\n",
    "        config={\"model\":\"GCN\",\"hidden_channels\":64,\"epochs\":EPOCHS,\"lr\":0.001,\"dataset\":\"REDDIT-BINARY\",\"task\":\"BFS\",\"positional_encoding\":\"BFS\",\"seed\":seed}\n",
    "    )\n",
    "\n",
    "    def train():\n",
    "        model.train()\n",
    "        total_loss = 0.0\n",
    "        for data in train_loader:\n",
    "            data = data.to(device)\n",
    "            optimizer.zero_grad()\n",
    "            out = model(data.x, data.edge_index, data.batch)\n",
    "            loss = F.nll_loss(out, data.y)\n",
    "            loss.backward()\n",
    "            optimizer.step()\n",
    "            total_loss += loss.item()\n",
    "        return total_loss / len(train_loader)\n",
    "\n",
    "    def test(loader):\n",
    "        model.eval()\n",
    "        correct = 0\n",
    "        for data in loader:\n",
    "            data = data.to(device)\n",
    "            out = model(data.x, data.edge_index, data.batch)\n",
    "            pred = out.argmax(dim=1)\n",
    "            correct += int((pred == data.y).sum())\n",
    "        return correct / len(loader.dataset)\n",
    "\n",
    "    for epoch in range(1, EPOCHS + 1):\n",
    "        loss = train()\n",
    "        test_acc = test(test_loader)\n",
    "        train_acc = test(train_loader)\n",
    "        print(f\"Seed {seed} | Epoch {epoch:03d} | Loss: {loss:.4f} | Test Acc: {test_acc:.4f}\")\n",
    "        wandb.log({\"epoch\": epoch, \"loss\": loss, \"train_acc\": train_acc, \"test_acc\": test_acc})\n",
    "    wandb.finish()\n",
    "\n",
    "if __name__ == \"__main__\":\n",
    "    wandb.login()\n",
    "    for s in range(1, NUM_SEEDS + 1):\n",
    "        run_seed(s)\n"
   ]
  }
 ],
 "metadata": {
  "kaggle": {
   "accelerator": "none",
   "dataSources": [],
   "dockerImageVersionId": 31089,
   "isGpuEnabled": false,
   "isInternetEnabled": true,
   "language": "python",
   "sourceType": "notebook"
  },
  "kernelspec": {
   "display_name": "Python 3",
   "language": "python",
   "name": "python3"
  },
  "language_info": {
   "codemirror_mode": {
    "name": "ipython",
    "version": 3
   },
   "file_extension": ".py",
   "mimetype": "text/x-python",
   "name": "python",
   "nbconvert_exporter": "python",
   "pygments_lexer": "ipython3",
   "version": "3.11.13"
  }
 },
 "nbformat": 4,
 "nbformat_minor": 4
}
