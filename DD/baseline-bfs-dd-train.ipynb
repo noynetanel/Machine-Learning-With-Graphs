{
 "cells": [
  {
   "cell_type": "code",
   "execution_count": 1,
   "metadata": {
    "_cell_guid": "b1076dfc-b9ad-4769-8c92-a6c4dae69d19",
    "_uuid": "8f2839f25d086af736a60e9eeb907d3b93b6e0e5",
    "execution": {
     "iopub.execute_input": "2025-08-22T19:21:50.341741Z",
     "iopub.status.busy": "2025-08-22T19:21:50.341377Z",
     "iopub.status.idle": "2025-08-22T19:23:35.914552Z",
     "shell.execute_reply": "2025-08-22T19:23:35.913416Z",
     "shell.execute_reply.started": "2025-08-22T19:21:50.341711Z"
    },
    "trusted": true
   },
   "outputs": [
    {
     "name": "stdout",
     "output_type": "stream",
     "text": [
      "Requirement already satisfied: torch in /usr/local/lib/python3.11/dist-packages (2.6.0+cu124)\n",
      "Requirement already satisfied: torchvision in /usr/local/lib/python3.11/dist-packages (0.21.0+cu124)\n",
      "Requirement already satisfied: torchaudio in /usr/local/lib/python3.11/dist-packages (2.6.0+cu124)\n",
      "Requirement already satisfied: filelock in /usr/local/lib/python3.11/dist-packages (from torch) (3.18.0)\n",
      "Requirement already satisfied: typing-extensions>=4.10.0 in /usr/local/lib/python3.11/dist-packages (from torch) (4.14.0)\n",
      "Requirement already satisfied: networkx in /usr/local/lib/python3.11/dist-packages (from torch) (3.5)\n",
      "Requirement already satisfied: jinja2 in /usr/local/lib/python3.11/dist-packages (from torch) (3.1.6)\n",
      "Requirement already satisfied: fsspec in /usr/local/lib/python3.11/dist-packages (from torch) (2025.5.1)\n",
      "Collecting nvidia-cuda-nvrtc-cu12==12.4.127 (from torch)\n",
      "  Downloading nvidia_cuda_nvrtc_cu12-12.4.127-py3-none-manylinux2014_x86_64.whl.metadata (1.5 kB)\n",
      "Collecting nvidia-cuda-runtime-cu12==12.4.127 (from torch)\n",
      "  Downloading nvidia_cuda_runtime_cu12-12.4.127-py3-none-manylinux2014_x86_64.whl.metadata (1.5 kB)\n",
      "Collecting nvidia-cuda-cupti-cu12==12.4.127 (from torch)\n",
      "  Downloading nvidia_cuda_cupti_cu12-12.4.127-py3-none-manylinux2014_x86_64.whl.metadata (1.6 kB)\n",
      "Collecting nvidia-cudnn-cu12==9.1.0.70 (from torch)\n",
      "  Downloading nvidia_cudnn_cu12-9.1.0.70-py3-none-manylinux2014_x86_64.whl.metadata (1.6 kB)\n",
      "Collecting nvidia-cublas-cu12==12.4.5.8 (from torch)\n",
      "  Downloading nvidia_cublas_cu12-12.4.5.8-py3-none-manylinux2014_x86_64.whl.metadata (1.5 kB)\n",
      "Collecting nvidia-cufft-cu12==11.2.1.3 (from torch)\n",
      "  Downloading nvidia_cufft_cu12-11.2.1.3-py3-none-manylinux2014_x86_64.whl.metadata (1.5 kB)\n",
      "Collecting nvidia-curand-cu12==10.3.5.147 (from torch)\n",
      "  Downloading nvidia_curand_cu12-10.3.5.147-py3-none-manylinux2014_x86_64.whl.metadata (1.5 kB)\n",
      "Collecting nvidia-cusolver-cu12==11.6.1.9 (from torch)\n",
      "  Downloading nvidia_cusolver_cu12-11.6.1.9-py3-none-manylinux2014_x86_64.whl.metadata (1.6 kB)\n",
      "Collecting nvidia-cusparse-cu12==12.3.1.170 (from torch)\n",
      "  Downloading nvidia_cusparse_cu12-12.3.1.170-py3-none-manylinux2014_x86_64.whl.metadata (1.6 kB)\n",
      "Requirement already satisfied: nvidia-cusparselt-cu12==0.6.2 in /usr/local/lib/python3.11/dist-packages (from torch) (0.6.2)\n",
      "Requirement already satisfied: nvidia-nccl-cu12==2.21.5 in /usr/local/lib/python3.11/dist-packages (from torch) (2.21.5)\n",
      "Requirement already satisfied: nvidia-nvtx-cu12==12.4.127 in /usr/local/lib/python3.11/dist-packages (from torch) (12.4.127)\n",
      "Collecting nvidia-nvjitlink-cu12==12.4.127 (from torch)\n",
      "  Downloading nvidia_nvjitlink_cu12-12.4.127-py3-none-manylinux2014_x86_64.whl.metadata (1.5 kB)\n",
      "Requirement already satisfied: triton==3.2.0 in /usr/local/lib/python3.11/dist-packages (from torch) (3.2.0)\n",
      "Requirement already satisfied: sympy==1.13.1 in /usr/local/lib/python3.11/dist-packages (from torch) (1.13.1)\n",
      "Requirement already satisfied: mpmath<1.4,>=1.1.0 in /usr/local/lib/python3.11/dist-packages (from sympy==1.13.1->torch) (1.3.0)\n",
      "Requirement already satisfied: numpy in /usr/local/lib/python3.11/dist-packages (from torchvision) (1.26.4)\n",
      "Requirement already satisfied: pillow!=8.3.*,>=5.3.0 in /usr/local/lib/python3.11/dist-packages (from torchvision) (11.2.1)\n",
      "Requirement already satisfied: MarkupSafe>=2.0 in /usr/local/lib/python3.11/dist-packages (from jinja2->torch) (3.0.2)\n",
      "Requirement already satisfied: mkl_fft in /usr/local/lib/python3.11/dist-packages (from numpy->torchvision) (1.3.8)\n",
      "Requirement already satisfied: mkl_random in /usr/local/lib/python3.11/dist-packages (from numpy->torchvision) (1.2.4)\n",
      "Requirement already satisfied: mkl_umath in /usr/local/lib/python3.11/dist-packages (from numpy->torchvision) (0.1.1)\n",
      "Requirement already satisfied: mkl in /usr/local/lib/python3.11/dist-packages (from numpy->torchvision) (2025.2.0)\n",
      "Requirement already satisfied: tbb4py in /usr/local/lib/python3.11/dist-packages (from numpy->torchvision) (2022.2.0)\n",
      "Requirement already satisfied: mkl-service in /usr/local/lib/python3.11/dist-packages (from numpy->torchvision) (2.4.1)\n",
      "Requirement already satisfied: intel-openmp<2026,>=2024 in /usr/local/lib/python3.11/dist-packages (from mkl->numpy->torchvision) (2024.2.0)\n",
      "Requirement already satisfied: tbb==2022.* in /usr/local/lib/python3.11/dist-packages (from mkl->numpy->torchvision) (2022.2.0)\n",
      "Requirement already satisfied: tcmlib==1.* in /usr/local/lib/python3.11/dist-packages (from tbb==2022.*->mkl->numpy->torchvision) (1.4.0)\n",
      "Requirement already satisfied: intel-cmplr-lib-rt in /usr/local/lib/python3.11/dist-packages (from mkl_umath->numpy->torchvision) (2024.2.0)\n",
      "Requirement already satisfied: intel-cmplr-lib-ur==2024.2.0 in /usr/local/lib/python3.11/dist-packages (from intel-openmp<2026,>=2024->mkl->numpy->torchvision) (2024.2.0)\n",
      "Downloading nvidia_cublas_cu12-12.4.5.8-py3-none-manylinux2014_x86_64.whl (363.4 MB)\n",
      "\u001b[2K   \u001b[90m━━━━━━━━━━━━━━━━━━━━━━━━━━━━━━━━━━━━━━━━\u001b[0m \u001b[32m363.4/363.4 MB\u001b[0m \u001b[31m3.8 MB/s\u001b[0m eta \u001b[36m0:00:00\u001b[0m:00:01\u001b[0m00:01\u001b[0m\n",
      "\u001b[?25hDownloading nvidia_cuda_cupti_cu12-12.4.127-py3-none-manylinux2014_x86_64.whl (13.8 MB)\n",
      "\u001b[2K   \u001b[90m━━━━━━━━━━━━━━━━━━━━━━━━━━━━━━━━━━━━━━━━\u001b[0m \u001b[32m13.8/13.8 MB\u001b[0m \u001b[31m82.4 MB/s\u001b[0m eta \u001b[36m0:00:00\u001b[0m:00:01\u001b[0m0:01\u001b[0m\n",
      "\u001b[?25hDownloading nvidia_cuda_nvrtc_cu12-12.4.127-py3-none-manylinux2014_x86_64.whl (24.6 MB)\n",
      "\u001b[2K   \u001b[90m━━━━━━━━━━━━━━━━━━━━━━━━━━━━━━━━━━━━━━━━\u001b[0m \u001b[32m24.6/24.6 MB\u001b[0m \u001b[31m64.6 MB/s\u001b[0m eta \u001b[36m0:00:00\u001b[0m:00:01\u001b[0m00:01\u001b[0m\n",
      "\u001b[?25hDownloading nvidia_cuda_runtime_cu12-12.4.127-py3-none-manylinux2014_x86_64.whl (883 kB)\n",
      "\u001b[2K   \u001b[90m━━━━━━━━━━━━━━━━━━━━━━━━━━━━━━━━━━━━━━━━\u001b[0m \u001b[32m883.7/883.7 kB\u001b[0m \u001b[31m32.7 MB/s\u001b[0m eta \u001b[36m0:00:00\u001b[0m\n",
      "\u001b[?25hDownloading nvidia_cudnn_cu12-9.1.0.70-py3-none-manylinux2014_x86_64.whl (664.8 MB)\n",
      "\u001b[2K   \u001b[90m━━━━━━━━━━━━━━━━━━━━━━━━━━━━━━━━━━━━━━━━\u001b[0m \u001b[32m664.8/664.8 MB\u001b[0m \u001b[31m1.8 MB/s\u001b[0m eta \u001b[36m0:00:00\u001b[0m:00:01\u001b[0m00:01\u001b[0m\n",
      "\u001b[?25hDownloading nvidia_cufft_cu12-11.2.1.3-py3-none-manylinux2014_x86_64.whl (211.5 MB)\n",
      "\u001b[2K   \u001b[90m━━━━━━━━━━━━━━━━━━━━━━━━━━━━━━━━━━━━━━━━\u001b[0m \u001b[32m211.5/211.5 MB\u001b[0m \u001b[31m6.0 MB/s\u001b[0m eta \u001b[36m0:00:00\u001b[0m:00:01\u001b[0m00:01\u001b[0m\n",
      "\u001b[?25hDownloading nvidia_curand_cu12-10.3.5.147-py3-none-manylinux2014_x86_64.whl (56.3 MB)\n",
      "\u001b[2K   \u001b[90m━━━━━━━━━━━━━━━━━━━━━━━━━━━━━━━━━━━━━━━━\u001b[0m \u001b[32m56.3/56.3 MB\u001b[0m \u001b[31m30.7 MB/s\u001b[0m eta \u001b[36m0:00:00\u001b[0m:00:01\u001b[0m00:01\u001b[0m\n",
      "\u001b[?25hDownloading nvidia_cusolver_cu12-11.6.1.9-py3-none-manylinux2014_x86_64.whl (127.9 MB)\n",
      "\u001b[2K   \u001b[90m━━━━━━━━━━━━━━━━━━━━━━━━━━━━━━━━━━━━━━━━\u001b[0m \u001b[32m127.9/127.9 MB\u001b[0m \u001b[31m12.9 MB/s\u001b[0m eta \u001b[36m0:00:00\u001b[0m00:01\u001b[0m00:01\u001b[0m\n",
      "\u001b[?25hDownloading nvidia_cusparse_cu12-12.3.1.170-py3-none-manylinux2014_x86_64.whl (207.5 MB)\n",
      "\u001b[2K   \u001b[90m━━━━━━━━━━━━━━━━━━━━━━━━━━━━━━━━━━━━━━━━\u001b[0m \u001b[32m207.5/207.5 MB\u001b[0m \u001b[31m2.8 MB/s\u001b[0m eta \u001b[36m0:00:00\u001b[0m:00:01\u001b[0m00:01\u001b[0m\n",
      "\u001b[?25hDownloading nvidia_nvjitlink_cu12-12.4.127-py3-none-manylinux2014_x86_64.whl (21.1 MB)\n",
      "\u001b[2K   \u001b[90m━━━━━━━━━━━━━━━━━━━━━━━━━━━━━━━━━━━━━━━━\u001b[0m \u001b[32m21.1/21.1 MB\u001b[0m \u001b[31m46.9 MB/s\u001b[0m eta \u001b[36m0:00:00\u001b[0m:00:01\u001b[0m00:01\u001b[0m\n",
      "\u001b[?25hInstalling collected packages: nvidia-nvjitlink-cu12, nvidia-curand-cu12, nvidia-cufft-cu12, nvidia-cuda-runtime-cu12, nvidia-cuda-nvrtc-cu12, nvidia-cuda-cupti-cu12, nvidia-cublas-cu12, nvidia-cusparse-cu12, nvidia-cudnn-cu12, nvidia-cusolver-cu12\n",
      "  Attempting uninstall: nvidia-nvjitlink-cu12\n",
      "    Found existing installation: nvidia-nvjitlink-cu12 12.5.82\n",
      "    Uninstalling nvidia-nvjitlink-cu12-12.5.82:\n",
      "      Successfully uninstalled nvidia-nvjitlink-cu12-12.5.82\n",
      "  Attempting uninstall: nvidia-curand-cu12\n",
      "    Found existing installation: nvidia-curand-cu12 10.3.6.82\n",
      "    Uninstalling nvidia-curand-cu12-10.3.6.82:\n",
      "      Successfully uninstalled nvidia-curand-cu12-10.3.6.82\n",
      "  Attempting uninstall: nvidia-cufft-cu12\n",
      "    Found existing installation: nvidia-cufft-cu12 11.2.3.61\n",
      "    Uninstalling nvidia-cufft-cu12-11.2.3.61:\n",
      "      Successfully uninstalled nvidia-cufft-cu12-11.2.3.61\n",
      "  Attempting uninstall: nvidia-cuda-runtime-cu12\n",
      "    Found existing installation: nvidia-cuda-runtime-cu12 12.5.82\n",
      "    Uninstalling nvidia-cuda-runtime-cu12-12.5.82:\n",
      "      Successfully uninstalled nvidia-cuda-runtime-cu12-12.5.82\n",
      "  Attempting uninstall: nvidia-cuda-nvrtc-cu12\n",
      "    Found existing installation: nvidia-cuda-nvrtc-cu12 12.5.82\n",
      "    Uninstalling nvidia-cuda-nvrtc-cu12-12.5.82:\n",
      "      Successfully uninstalled nvidia-cuda-nvrtc-cu12-12.5.82\n",
      "  Attempting uninstall: nvidia-cuda-cupti-cu12\n",
      "    Found existing installation: nvidia-cuda-cupti-cu12 12.5.82\n",
      "    Uninstalling nvidia-cuda-cupti-cu12-12.5.82:\n",
      "      Successfully uninstalled nvidia-cuda-cupti-cu12-12.5.82\n",
      "  Attempting uninstall: nvidia-cublas-cu12\n",
      "    Found existing installation: nvidia-cublas-cu12 12.5.3.2\n",
      "    Uninstalling nvidia-cublas-cu12-12.5.3.2:\n",
      "      Successfully uninstalled nvidia-cublas-cu12-12.5.3.2\n",
      "  Attempting uninstall: nvidia-cusparse-cu12\n",
      "    Found existing installation: nvidia-cusparse-cu12 12.5.1.3\n",
      "    Uninstalling nvidia-cusparse-cu12-12.5.1.3:\n",
      "      Successfully uninstalled nvidia-cusparse-cu12-12.5.1.3\n",
      "  Attempting uninstall: nvidia-cudnn-cu12\n",
      "    Found existing installation: nvidia-cudnn-cu12 9.3.0.75\n",
      "    Uninstalling nvidia-cudnn-cu12-9.3.0.75:\n",
      "      Successfully uninstalled nvidia-cudnn-cu12-9.3.0.75\n",
      "  Attempting uninstall: nvidia-cusolver-cu12\n",
      "    Found existing installation: nvidia-cusolver-cu12 11.6.3.83\n",
      "    Uninstalling nvidia-cusolver-cu12-11.6.3.83:\n",
      "      Successfully uninstalled nvidia-cusolver-cu12-11.6.3.83\n",
      "Successfully installed nvidia-cublas-cu12-12.4.5.8 nvidia-cuda-cupti-cu12-12.4.127 nvidia-cuda-nvrtc-cu12-12.4.127 nvidia-cuda-runtime-cu12-12.4.127 nvidia-cudnn-cu12-9.1.0.70 nvidia-cufft-cu12-11.2.1.3 nvidia-curand-cu12-10.3.5.147 nvidia-cusolver-cu12-11.6.1.9 nvidia-cusparse-cu12-12.3.1.170 nvidia-nvjitlink-cu12-12.4.127\n",
      "Collecting ogb\n",
      "  Downloading ogb-1.3.6-py3-none-any.whl.metadata (6.2 kB)\n",
      "Requirement already satisfied: torch>=1.6.0 in /usr/local/lib/python3.11/dist-packages (from ogb) (2.6.0+cu124)\n",
      "Requirement already satisfied: numpy>=1.16.0 in /usr/local/lib/python3.11/dist-packages (from ogb) (1.26.4)\n",
      "Requirement already satisfied: tqdm>=4.29.0 in /usr/local/lib/python3.11/dist-packages (from ogb) (4.67.1)\n",
      "Requirement already satisfied: scikit-learn>=0.20.0 in /usr/local/lib/python3.11/dist-packages (from ogb) (1.2.2)\n",
      "Requirement already satisfied: pandas>=0.24.0 in /usr/local/lib/python3.11/dist-packages (from ogb) (2.2.3)\n",
      "Requirement already satisfied: six>=1.12.0 in /usr/local/lib/python3.11/dist-packages (from ogb) (1.17.0)\n",
      "Requirement already satisfied: urllib3>=1.24.0 in /usr/local/lib/python3.11/dist-packages (from ogb) (2.5.0)\n",
      "Collecting outdated>=0.2.0 (from ogb)\n",
      "  Downloading outdated-0.2.2-py2.py3-none-any.whl.metadata (4.7 kB)\n",
      "Requirement already satisfied: mkl_fft in /usr/local/lib/python3.11/dist-packages (from numpy>=1.16.0->ogb) (1.3.8)\n",
      "Requirement already satisfied: mkl_random in /usr/local/lib/python3.11/dist-packages (from numpy>=1.16.0->ogb) (1.2.4)\n",
      "Requirement already satisfied: mkl_umath in /usr/local/lib/python3.11/dist-packages (from numpy>=1.16.0->ogb) (0.1.1)\n",
      "Requirement already satisfied: mkl in /usr/local/lib/python3.11/dist-packages (from numpy>=1.16.0->ogb) (2025.2.0)\n",
      "Requirement already satisfied: tbb4py in /usr/local/lib/python3.11/dist-packages (from numpy>=1.16.0->ogb) (2022.2.0)\n",
      "Requirement already satisfied: mkl-service in /usr/local/lib/python3.11/dist-packages (from numpy>=1.16.0->ogb) (2.4.1)\n",
      "Requirement already satisfied: setuptools>=44 in /usr/local/lib/python3.11/dist-packages (from outdated>=0.2.0->ogb) (75.2.0)\n",
      "Collecting littleutils (from outdated>=0.2.0->ogb)\n",
      "  Downloading littleutils-0.2.4-py3-none-any.whl.metadata (679 bytes)\n",
      "Requirement already satisfied: requests in /usr/local/lib/python3.11/dist-packages (from outdated>=0.2.0->ogb) (2.32.4)\n",
      "Requirement already satisfied: python-dateutil>=2.8.2 in /usr/local/lib/python3.11/dist-packages (from pandas>=0.24.0->ogb) (2.9.0.post0)\n",
      "Requirement already satisfied: pytz>=2020.1 in /usr/local/lib/python3.11/dist-packages (from pandas>=0.24.0->ogb) (2025.2)\n",
      "Requirement already satisfied: tzdata>=2022.7 in /usr/local/lib/python3.11/dist-packages (from pandas>=0.24.0->ogb) (2025.2)\n",
      "Requirement already satisfied: scipy>=1.3.2 in /usr/local/lib/python3.11/dist-packages (from scikit-learn>=0.20.0->ogb) (1.15.3)\n",
      "Requirement already satisfied: joblib>=1.1.1 in /usr/local/lib/python3.11/dist-packages (from scikit-learn>=0.20.0->ogb) (1.5.1)\n",
      "Requirement already satisfied: threadpoolctl>=2.0.0 in /usr/local/lib/python3.11/dist-packages (from scikit-learn>=0.20.0->ogb) (3.6.0)\n",
      "Requirement already satisfied: filelock in /usr/local/lib/python3.11/dist-packages (from torch>=1.6.0->ogb) (3.18.0)\n",
      "Requirement already satisfied: typing-extensions>=4.10.0 in /usr/local/lib/python3.11/dist-packages (from torch>=1.6.0->ogb) (4.14.0)\n",
      "Requirement already satisfied: networkx in /usr/local/lib/python3.11/dist-packages (from torch>=1.6.0->ogb) (3.5)\n",
      "Requirement already satisfied: jinja2 in /usr/local/lib/python3.11/dist-packages (from torch>=1.6.0->ogb) (3.1.6)\n",
      "Requirement already satisfied: fsspec in /usr/local/lib/python3.11/dist-packages (from torch>=1.6.0->ogb) (2025.5.1)\n",
      "Requirement already satisfied: nvidia-cuda-nvrtc-cu12==12.4.127 in /usr/local/lib/python3.11/dist-packages (from torch>=1.6.0->ogb) (12.4.127)\n",
      "Requirement already satisfied: nvidia-cuda-runtime-cu12==12.4.127 in /usr/local/lib/python3.11/dist-packages (from torch>=1.6.0->ogb) (12.4.127)\n",
      "Requirement already satisfied: nvidia-cuda-cupti-cu12==12.4.127 in /usr/local/lib/python3.11/dist-packages (from torch>=1.6.0->ogb) (12.4.127)\n",
      "Requirement already satisfied: nvidia-cudnn-cu12==9.1.0.70 in /usr/local/lib/python3.11/dist-packages (from torch>=1.6.0->ogb) (9.1.0.70)\n",
      "Requirement already satisfied: nvidia-cublas-cu12==12.4.5.8 in /usr/local/lib/python3.11/dist-packages (from torch>=1.6.0->ogb) (12.4.5.8)\n",
      "Requirement already satisfied: nvidia-cufft-cu12==11.2.1.3 in /usr/local/lib/python3.11/dist-packages (from torch>=1.6.0->ogb) (11.2.1.3)\n",
      "Requirement already satisfied: nvidia-curand-cu12==10.3.5.147 in /usr/local/lib/python3.11/dist-packages (from torch>=1.6.0->ogb) (10.3.5.147)\n",
      "Requirement already satisfied: nvidia-cusolver-cu12==11.6.1.9 in /usr/local/lib/python3.11/dist-packages (from torch>=1.6.0->ogb) (11.6.1.9)\n",
      "Requirement already satisfied: nvidia-cusparse-cu12==12.3.1.170 in /usr/local/lib/python3.11/dist-packages (from torch>=1.6.0->ogb) (12.3.1.170)\n",
      "Requirement already satisfied: nvidia-cusparselt-cu12==0.6.2 in /usr/local/lib/python3.11/dist-packages (from torch>=1.6.0->ogb) (0.6.2)\n",
      "Requirement already satisfied: nvidia-nccl-cu12==2.21.5 in /usr/local/lib/python3.11/dist-packages (from torch>=1.6.0->ogb) (2.21.5)\n",
      "Requirement already satisfied: nvidia-nvtx-cu12==12.4.127 in /usr/local/lib/python3.11/dist-packages (from torch>=1.6.0->ogb) (12.4.127)\n",
      "Requirement already satisfied: nvidia-nvjitlink-cu12==12.4.127 in /usr/local/lib/python3.11/dist-packages (from torch>=1.6.0->ogb) (12.4.127)\n",
      "Requirement already satisfied: triton==3.2.0 in /usr/local/lib/python3.11/dist-packages (from torch>=1.6.0->ogb) (3.2.0)\n",
      "Requirement already satisfied: sympy==1.13.1 in /usr/local/lib/python3.11/dist-packages (from torch>=1.6.0->ogb) (1.13.1)\n",
      "Requirement already satisfied: mpmath<1.4,>=1.1.0 in /usr/local/lib/python3.11/dist-packages (from sympy==1.13.1->torch>=1.6.0->ogb) (1.3.0)\n",
      "Requirement already satisfied: MarkupSafe>=2.0 in /usr/local/lib/python3.11/dist-packages (from jinja2->torch>=1.6.0->ogb) (3.0.2)\n",
      "Requirement already satisfied: intel-openmp<2026,>=2024 in /usr/local/lib/python3.11/dist-packages (from mkl->numpy>=1.16.0->ogb) (2024.2.0)\n",
      "Requirement already satisfied: tbb==2022.* in /usr/local/lib/python3.11/dist-packages (from mkl->numpy>=1.16.0->ogb) (2022.2.0)\n",
      "Requirement already satisfied: tcmlib==1.* in /usr/local/lib/python3.11/dist-packages (from tbb==2022.*->mkl->numpy>=1.16.0->ogb) (1.4.0)\n",
      "Requirement already satisfied: intel-cmplr-lib-rt in /usr/local/lib/python3.11/dist-packages (from mkl_umath->numpy>=1.16.0->ogb) (2024.2.0)\n",
      "Requirement already satisfied: charset_normalizer<4,>=2 in /usr/local/lib/python3.11/dist-packages (from requests->outdated>=0.2.0->ogb) (3.4.2)\n",
      "Requirement already satisfied: idna<4,>=2.5 in /usr/local/lib/python3.11/dist-packages (from requests->outdated>=0.2.0->ogb) (3.10)\n",
      "Requirement already satisfied: certifi>=2017.4.17 in /usr/local/lib/python3.11/dist-packages (from requests->outdated>=0.2.0->ogb) (2025.6.15)\n",
      "Requirement already satisfied: intel-cmplr-lib-ur==2024.2.0 in /usr/local/lib/python3.11/dist-packages (from intel-openmp<2026,>=2024->mkl->numpy>=1.16.0->ogb) (2024.2.0)\n",
      "Downloading ogb-1.3.6-py3-none-any.whl (78 kB)\n",
      "\u001b[2K   \u001b[90m━━━━━━━━━━━━━━━━━━━━━━━━━━━━━━━━━━━━━━━━\u001b[0m \u001b[32m78.8/78.8 kB\u001b[0m \u001b[31m3.2 MB/s\u001b[0m eta \u001b[36m0:00:00\u001b[0m\n",
      "\u001b[?25hDownloading outdated-0.2.2-py2.py3-none-any.whl (7.5 kB)\n",
      "Downloading littleutils-0.2.4-py3-none-any.whl (8.1 kB)\n",
      "Installing collected packages: littleutils, outdated, ogb\n",
      "Successfully installed littleutils-0.2.4 ogb-1.3.6 outdated-0.2.2\n",
      "Collecting torch-geometric\n",
      "  Downloading torch_geometric-2.6.1-py3-none-any.whl.metadata (63 kB)\n",
      "\u001b[2K     \u001b[90m━━━━━━━━━━━━━━━━━━━━━━━━━━━━━━━━━━━━━━━━\u001b[0m \u001b[32m63.1/63.1 kB\u001b[0m \u001b[31m2.5 MB/s\u001b[0m eta \u001b[36m0:00:00\u001b[0m\n",
      "\u001b[?25hRequirement already satisfied: aiohttp in /usr/local/lib/python3.11/dist-packages (from torch-geometric) (3.12.13)\n",
      "Requirement already satisfied: fsspec in /usr/local/lib/python3.11/dist-packages (from torch-geometric) (2025.5.1)\n",
      "Requirement already satisfied: jinja2 in /usr/local/lib/python3.11/dist-packages (from torch-geometric) (3.1.6)\n",
      "Requirement already satisfied: numpy in /usr/local/lib/python3.11/dist-packages (from torch-geometric) (1.26.4)\n",
      "Requirement already satisfied: psutil>=5.8.0 in /usr/local/lib/python3.11/dist-packages (from torch-geometric) (7.0.0)\n",
      "Requirement already satisfied: pyparsing in /usr/local/lib/python3.11/dist-packages (from torch-geometric) (3.0.9)\n",
      "Requirement already satisfied: requests in /usr/local/lib/python3.11/dist-packages (from torch-geometric) (2.32.4)\n",
      "Requirement already satisfied: tqdm in /usr/local/lib/python3.11/dist-packages (from torch-geometric) (4.67.1)\n",
      "Requirement already satisfied: aiohappyeyeballs>=2.5.0 in /usr/local/lib/python3.11/dist-packages (from aiohttp->torch-geometric) (2.6.1)\n",
      "Requirement already satisfied: aiosignal>=1.1.2 in /usr/local/lib/python3.11/dist-packages (from aiohttp->torch-geometric) (1.3.2)\n",
      "Requirement already satisfied: attrs>=17.3.0 in /usr/local/lib/python3.11/dist-packages (from aiohttp->torch-geometric) (25.3.0)\n",
      "Requirement already satisfied: frozenlist>=1.1.1 in /usr/local/lib/python3.11/dist-packages (from aiohttp->torch-geometric) (1.7.0)\n",
      "Requirement already satisfied: multidict<7.0,>=4.5 in /usr/local/lib/python3.11/dist-packages (from aiohttp->torch-geometric) (6.6.3)\n",
      "Requirement already satisfied: propcache>=0.2.0 in /usr/local/lib/python3.11/dist-packages (from aiohttp->torch-geometric) (0.3.2)\n",
      "Requirement already satisfied: yarl<2.0,>=1.17.0 in /usr/local/lib/python3.11/dist-packages (from aiohttp->torch-geometric) (1.20.1)\n",
      "Requirement already satisfied: MarkupSafe>=2.0 in /usr/local/lib/python3.11/dist-packages (from jinja2->torch-geometric) (3.0.2)\n",
      "Requirement already satisfied: mkl_fft in /usr/local/lib/python3.11/dist-packages (from numpy->torch-geometric) (1.3.8)\n",
      "Requirement already satisfied: mkl_random in /usr/local/lib/python3.11/dist-packages (from numpy->torch-geometric) (1.2.4)\n",
      "Requirement already satisfied: mkl_umath in /usr/local/lib/python3.11/dist-packages (from numpy->torch-geometric) (0.1.1)\n",
      "Requirement already satisfied: mkl in /usr/local/lib/python3.11/dist-packages (from numpy->torch-geometric) (2025.2.0)\n",
      "Requirement already satisfied: tbb4py in /usr/local/lib/python3.11/dist-packages (from numpy->torch-geometric) (2022.2.0)\n",
      "Requirement already satisfied: mkl-service in /usr/local/lib/python3.11/dist-packages (from numpy->torch-geometric) (2.4.1)\n",
      "Requirement already satisfied: charset_normalizer<4,>=2 in /usr/local/lib/python3.11/dist-packages (from requests->torch-geometric) (3.4.2)\n",
      "Requirement already satisfied: idna<4,>=2.5 in /usr/local/lib/python3.11/dist-packages (from requests->torch-geometric) (3.10)\n",
      "Requirement already satisfied: urllib3<3,>=1.21.1 in /usr/local/lib/python3.11/dist-packages (from requests->torch-geometric) (2.5.0)\n",
      "Requirement already satisfied: certifi>=2017.4.17 in /usr/local/lib/python3.11/dist-packages (from requests->torch-geometric) (2025.6.15)\n",
      "Requirement already satisfied: intel-openmp<2026,>=2024 in /usr/local/lib/python3.11/dist-packages (from mkl->numpy->torch-geometric) (2024.2.0)\n",
      "Requirement already satisfied: tbb==2022.* in /usr/local/lib/python3.11/dist-packages (from mkl->numpy->torch-geometric) (2022.2.0)\n",
      "Requirement already satisfied: tcmlib==1.* in /usr/local/lib/python3.11/dist-packages (from tbb==2022.*->mkl->numpy->torch-geometric) (1.4.0)\n",
      "Requirement already satisfied: intel-cmplr-lib-rt in /usr/local/lib/python3.11/dist-packages (from mkl_umath->numpy->torch-geometric) (2024.2.0)\n",
      "Requirement already satisfied: intel-cmplr-lib-ur==2024.2.0 in /usr/local/lib/python3.11/dist-packages (from intel-openmp<2026,>=2024->mkl->numpy->torch-geometric) (2024.2.0)\n",
      "Downloading torch_geometric-2.6.1-py3-none-any.whl (1.1 MB)\n",
      "\u001b[2K   \u001b[90m━━━━━━━━━━━━━━━━━━━━━━━━━━━━━━━━━━━━━━━━\u001b[0m \u001b[32m1.1/1.1 MB\u001b[0m \u001b[31m28.6 MB/s\u001b[0m eta \u001b[36m0:00:00\u001b[0m00:01\u001b[0m\n",
      "\u001b[?25hInstalling collected packages: torch-geometric\n",
      "Successfully installed torch-geometric-2.6.1\n"
     ]
    }
   ],
   "source": [
    "!pip install torch torchvision torchaudio\n",
    "!pip install ogb\n",
    "!pip install torch-geometric"
   ]
  },
  {
   "cell_type": "code",
   "execution_count": null,
   "metadata": {
    "execution": {
     "iopub.execute_input": "2025-08-22T19:30:49.396608Z",
     "iopub.status.busy": "2025-08-22T19:30:49.395845Z",
     "iopub.status.idle": "2025-08-22T19:30:49.404468Z",
     "shell.execute_reply": "2025-08-22T19:30:49.403686Z",
     "shell.execute_reply.started": "2025-08-22T19:30:49.396575Z"
    },
    "trusted": true
   },
   "outputs": [
    {
     "name": "stderr",
     "output_type": "stream",
     "text": [
      "\u001b[34m\u001b[1mwandb\u001b[0m: \u001b[33mWARNING\u001b[0m Calling wandb.login() after wandb.init() has no effect.\n"
     ]
    }
   ],
   "source": [
    "import os, random, numpy as np, torch\n",
    "import torch.nn.functional as F\n",
    "from torch_geometric.datasets import TUDataset\n",
    "from torch_geometric.loader import DataLoader\n",
    "from torch_geometric.nn import GCNConv, global_mean_pool\n",
    "from torch_geometric.utils import to_networkx\n",
    "import networkx as nx\n",
    "import wandb\n",
    "\n",
    "wandb.login(key=\"Your-api-key\")\n",
    "Dataset_name = \"DD\""
   ]
  },
  {
   "cell_type": "markdown",
   "metadata": {},
   "source": [
    "# *Baseline*"
   ]
  },
  {
   "cell_type": "code",
   "execution_count": 6,
   "metadata": {
    "execution": {
     "iopub.execute_input": "2025-08-22T19:30:56.158007Z",
     "iopub.status.busy": "2025-08-22T19:30:56.157631Z",
     "iopub.status.idle": "2025-08-22T20:21:00.595998Z",
     "shell.execute_reply": "2025-08-22T20:21:00.595067Z",
     "shell.execute_reply.started": "2025-08-22T19:30:56.157981Z"
    },
    "trusted": true
   },
   "outputs": [
    {
     "name": "stderr",
     "output_type": "stream",
     "text": [
      "Downloading https://www.chrsmrrs.com/graphkerneldatasets/DD.zip\n",
      "Processing...\n",
      "Done!\n"
     ]
    },
    {
     "data": {
      "text/html": [
       "Finishing previous runs because reinit is set to True."
      ],
      "text/plain": [
       "<IPython.core.display.HTML object>"
      ]
     },
     "metadata": {},
     "output_type": "display_data"
    },
    {
     "data": {
      "text/html": [],
      "text/plain": [
       "<IPython.core.display.HTML object>"
      ]
     },
     "metadata": {},
     "output_type": "display_data"
    },
    {
     "data": {
      "text/html": [
       " View run <strong style=\"color:#cdcd00\">GCN_baseline_seed_1</strong> at: <a href='https://wandb.ai/noynetanel1-tel-aviv-university/GCN%20Graph%20classification%28Fingerprint%29_Gal/runs/spf3ihgx' target=\"_blank\">https://wandb.ai/noynetanel1-tel-aviv-university/GCN%20Graph%20classification%28Fingerprint%29_Gal/runs/spf3ihgx</a><br> View project at: <a href='https://wandb.ai/noynetanel1-tel-aviv-university/GCN%20Graph%20classification%28Fingerprint%29_Gal' target=\"_blank\">https://wandb.ai/noynetanel1-tel-aviv-university/GCN%20Graph%20classification%28Fingerprint%29_Gal</a><br>Synced 5 W&B file(s), 0 media file(s), 0 artifact file(s) and 0 other file(s)"
      ],
      "text/plain": [
       "<IPython.core.display.HTML object>"
      ]
     },
     "metadata": {},
     "output_type": "display_data"
    },
    {
     "data": {
      "text/html": [
       "Find logs at: <code>./wandb/run-20250822_192712-spf3ihgx/logs</code>"
      ],
      "text/plain": [
       "<IPython.core.display.HTML object>"
      ]
     },
     "metadata": {},
     "output_type": "display_data"
    },
    {
     "data": {
      "text/html": [
       "Tracking run with wandb version 0.20.1"
      ],
      "text/plain": [
       "<IPython.core.display.HTML object>"
      ]
     },
     "metadata": {},
     "output_type": "display_data"
    },
    {
     "data": {
      "text/html": [
       "Run data is saved locally in <code>/kaggle/working/wandb/run-20250822_193105-gwq1xg5f</code>"
      ],
      "text/plain": [
       "<IPython.core.display.HTML object>"
      ]
     },
     "metadata": {},
     "output_type": "display_data"
    },
    {
     "data": {
      "text/html": [
       "Syncing run <strong><a href='https://wandb.ai/noynetanel1-tel-aviv-university/GCN%20Graph%20classification%28DD%29_Gal/runs/gwq1xg5f' target=\"_blank\">GCN_baseline_seed_1</a></strong> to <a href='https://wandb.ai/noynetanel1-tel-aviv-university/GCN%20Graph%20classification%28DD%29_Gal' target=\"_blank\">Weights & Biases</a> (<a href='https://wandb.me/developer-guide' target=\"_blank\">docs</a>)<br>"
      ],
      "text/plain": [
       "<IPython.core.display.HTML object>"
      ]
     },
     "metadata": {},
     "output_type": "display_data"
    },
    {
     "data": {
      "text/html": [
       " View project at <a href='https://wandb.ai/noynetanel1-tel-aviv-university/GCN%20Graph%20classification%28DD%29_Gal' target=\"_blank\">https://wandb.ai/noynetanel1-tel-aviv-university/GCN%20Graph%20classification%28DD%29_Gal</a>"
      ],
      "text/plain": [
       "<IPython.core.display.HTML object>"
      ]
     },
     "metadata": {},
     "output_type": "display_data"
    },
    {
     "data": {
      "text/html": [
       " View run at <a href='https://wandb.ai/noynetanel1-tel-aviv-university/GCN%20Graph%20classification%28DD%29_Gal/runs/gwq1xg5f' target=\"_blank\">https://wandb.ai/noynetanel1-tel-aviv-university/GCN%20Graph%20classification%28DD%29_Gal/runs/gwq1xg5f</a>"
      ],
      "text/plain": [
       "<IPython.core.display.HTML object>"
      ]
     },
     "metadata": {},
     "output_type": "display_data"
    },
    {
     "name": "stdout",
     "output_type": "stream",
     "text": [
      "Seed 1 | Epoch 001 | Loss: 0.6838 | Test Acc: 0.5720\n",
      "Seed 1 | Epoch 002 | Loss: 0.6744 | Test Acc: 0.5720\n",
      "Seed 1 | Epoch 003 | Loss: 0.6723 | Test Acc: 0.5720\n",
      "Seed 1 | Epoch 004 | Loss: 0.6678 | Test Acc: 0.5720\n",
      "Seed 1 | Epoch 005 | Loss: 0.6670 | Test Acc: 0.5847\n",
      "Seed 1 | Epoch 006 | Loss: 0.6534 | Test Acc: 0.6441\n",
      "Seed 1 | Epoch 007 | Loss: 0.6446 | Test Acc: 0.6144\n",
      "Seed 1 | Epoch 008 | Loss: 0.6232 | Test Acc: 0.6144\n",
      "Seed 1 | Epoch 009 | Loss: 0.6066 | Test Acc: 0.6610\n",
      "Seed 1 | Epoch 010 | Loss: 0.5952 | Test Acc: 0.6610\n",
      "Seed 1 | Epoch 011 | Loss: 0.6002 | Test Acc: 0.6568\n",
      "Seed 1 | Epoch 012 | Loss: 0.5907 | Test Acc: 0.6610\n",
      "Seed 1 | Epoch 013 | Loss: 0.5831 | Test Acc: 0.6653\n",
      "Seed 1 | Epoch 014 | Loss: 0.5769 | Test Acc: 0.6653\n",
      "Seed 1 | Epoch 015 | Loss: 0.5767 | Test Acc: 0.6229\n",
      "Seed 1 | Epoch 016 | Loss: 0.5770 | Test Acc: 0.6864\n",
      "Seed 1 | Epoch 017 | Loss: 0.5678 | Test Acc: 0.6568\n",
      "Seed 1 | Epoch 018 | Loss: 0.5602 | Test Acc: 0.6483\n",
      "Seed 1 | Epoch 019 | Loss: 0.5742 | Test Acc: 0.6483\n",
      "Seed 1 | Epoch 020 | Loss: 0.5685 | Test Acc: 0.6695\n",
      "Seed 1 | Epoch 021 | Loss: 0.5620 | Test Acc: 0.6695\n",
      "Seed 1 | Epoch 022 | Loss: 0.5548 | Test Acc: 0.6864\n",
      "Seed 1 | Epoch 023 | Loss: 0.5537 | Test Acc: 0.6568\n",
      "Seed 1 | Epoch 024 | Loss: 0.5581 | Test Acc: 0.6780\n",
      "Seed 1 | Epoch 025 | Loss: 0.5530 | Test Acc: 0.6864\n",
      "Seed 1 | Epoch 026 | Loss: 0.5478 | Test Acc: 0.6653\n",
      "Seed 1 | Epoch 027 | Loss: 0.5507 | Test Acc: 0.6695\n",
      "Seed 1 | Epoch 028 | Loss: 0.5514 | Test Acc: 0.6780\n",
      "Seed 1 | Epoch 029 | Loss: 0.5473 | Test Acc: 0.6822\n",
      "Seed 1 | Epoch 030 | Loss: 0.5452 | Test Acc: 0.6695\n",
      "Seed 1 | Epoch 031 | Loss: 0.5504 | Test Acc: 0.6695\n",
      "Seed 1 | Epoch 032 | Loss: 0.5610 | Test Acc: 0.6568\n",
      "Seed 1 | Epoch 033 | Loss: 0.5484 | Test Acc: 0.6653\n",
      "Seed 1 | Epoch 034 | Loss: 0.5455 | Test Acc: 0.6695\n",
      "Seed 1 | Epoch 035 | Loss: 0.5409 | Test Acc: 0.6653\n",
      "Seed 1 | Epoch 036 | Loss: 0.5507 | Test Acc: 0.6356\n",
      "Seed 1 | Epoch 037 | Loss: 0.5624 | Test Acc: 0.6949\n",
      "Seed 1 | Epoch 038 | Loss: 0.5400 | Test Acc: 0.6737\n",
      "Seed 1 | Epoch 039 | Loss: 0.5376 | Test Acc: 0.6822\n",
      "Seed 1 | Epoch 040 | Loss: 0.5422 | Test Acc: 0.6822\n",
      "Seed 1 | Epoch 041 | Loss: 0.5424 | Test Acc: 0.6780\n",
      "Seed 1 | Epoch 042 | Loss: 0.5365 | Test Acc: 0.6907\n",
      "Seed 1 | Epoch 043 | Loss: 0.5377 | Test Acc: 0.6949\n",
      "Seed 1 | Epoch 044 | Loss: 0.5366 | Test Acc: 0.6610\n",
      "Seed 1 | Epoch 045 | Loss: 0.5419 | Test Acc: 0.6695\n",
      "Seed 1 | Epoch 046 | Loss: 0.5350 | Test Acc: 0.6525\n",
      "Seed 1 | Epoch 047 | Loss: 0.5376 | Test Acc: 0.6907\n",
      "Seed 1 | Epoch 048 | Loss: 0.5282 | Test Acc: 0.6568\n",
      "Seed 1 | Epoch 049 | Loss: 0.5468 | Test Acc: 0.6398\n",
      "Seed 1 | Epoch 050 | Loss: 0.5268 | Test Acc: 0.7034\n"
     ]
    },
    {
     "data": {
      "text/html": [],
      "text/plain": [
       "<IPython.core.display.HTML object>"
      ]
     },
     "metadata": {},
     "output_type": "display_data"
    },
    {
     "data": {
      "text/html": [
       "<br>    <style><br>        .wandb-row {<br>            display: flex;<br>            flex-direction: row;<br>            flex-wrap: wrap;<br>            justify-content: flex-start;<br>            width: 100%;<br>        }<br>        .wandb-col {<br>            display: flex;<br>            flex-direction: column;<br>            flex-basis: 100%;<br>            flex: 1;<br>            padding: 10px;<br>        }<br>    </style><br><div class=\"wandb-row\"><div class=\"wandb-col\"><h3>Run history:</h3><br/><table class=\"wandb\"><tr><td>epoch</td><td>▁▁▁▁▂▂▂▂▂▂▃▃▃▃▃▄▄▄▄▄▄▅▅▅▅▅▆▆▆▆▆▇▇▇▇▇▇███</td></tr><tr><td>loss</td><td>██▇▇▇▆▅▅▄▄▃▃▃▃▂▃▃▂▂▂▂▂▂▂▂▃▂▂▂▂▂▁▂▂▁▁▂▁▁▁</td></tr><tr><td>test_acc</td><td>▁▁▁▁▂▃▃▆▆▆▆▆▄▇▆▆▆▇▆▇▆▆▇▇▆▆▆▆▆▄▆▇▇▇█▆▅▇▆█</td></tr><tr><td>train_acc</td><td>▁▁▁▁▂▅▄▆▇▅▇▇▅▇▆▇▇▇▇▇▇▇▇▇▇▇██▅▇█▇████████</td></tr></table><br/></div><div class=\"wandb-col\"><h3>Run summary:</h3><br/><table class=\"wandb\"><tr><td>epoch</td><td>50</td></tr><tr><td>loss</td><td>0.5268</td></tr><tr><td>test_acc</td><td>0.70339</td></tr><tr><td>train_acc</td><td>0.75584</td></tr></table><br/></div></div>"
      ],
      "text/plain": [
       "<IPython.core.display.HTML object>"
      ]
     },
     "metadata": {},
     "output_type": "display_data"
    },
    {
     "data": {
      "text/html": [
       " View run <strong style=\"color:#cdcd00\">GCN_baseline_seed_1</strong> at: <a href='https://wandb.ai/noynetanel1-tel-aviv-university/GCN%20Graph%20classification%28DD%29_Gal/runs/gwq1xg5f' target=\"_blank\">https://wandb.ai/noynetanel1-tel-aviv-university/GCN%20Graph%20classification%28DD%29_Gal/runs/gwq1xg5f</a><br> View project at: <a href='https://wandb.ai/noynetanel1-tel-aviv-university/GCN%20Graph%20classification%28DD%29_Gal' target=\"_blank\">https://wandb.ai/noynetanel1-tel-aviv-university/GCN%20Graph%20classification%28DD%29_Gal</a><br>Synced 5 W&B file(s), 0 media file(s), 0 artifact file(s) and 0 other file(s)"
      ],
      "text/plain": [
       "<IPython.core.display.HTML object>"
      ]
     },
     "metadata": {},
     "output_type": "display_data"
    },
    {
     "data": {
      "text/html": [
       "Find logs at: <code>./wandb/run-20250822_193105-gwq1xg5f/logs</code>"
      ],
      "text/plain": [
       "<IPython.core.display.HTML object>"
      ]
     },
     "metadata": {},
     "output_type": "display_data"
    },
    {
     "data": {
      "text/html": [
       "Tracking run with wandb version 0.20.1"
      ],
      "text/plain": [
       "<IPython.core.display.HTML object>"
      ]
     },
     "metadata": {},
     "output_type": "display_data"
    },
    {
     "data": {
      "text/html": [
       "Run data is saved locally in <code>/kaggle/working/wandb/run-20250822_193248-7rrstzoc</code>"
      ],
      "text/plain": [
       "<IPython.core.display.HTML object>"
      ]
     },
     "metadata": {},
     "output_type": "display_data"
    },
    {
     "data": {
      "text/html": [
       "Syncing run <strong><a href='https://wandb.ai/noynetanel1-tel-aviv-university/GCN%20Graph%20classification%28DD%29_Gal/runs/7rrstzoc' target=\"_blank\">GCN_baseline_seed_2</a></strong> to <a href='https://wandb.ai/noynetanel1-tel-aviv-university/GCN%20Graph%20classification%28DD%29_Gal' target=\"_blank\">Weights & Biases</a> (<a href='https://wandb.me/developer-guide' target=\"_blank\">docs</a>)<br>"
      ],
      "text/plain": [
       "<IPython.core.display.HTML object>"
      ]
     },
     "metadata": {},
     "output_type": "display_data"
    },
    {
     "data": {
      "text/html": [
       " View project at <a href='https://wandb.ai/noynetanel1-tel-aviv-university/GCN%20Graph%20classification%28DD%29_Gal' target=\"_blank\">https://wandb.ai/noynetanel1-tel-aviv-university/GCN%20Graph%20classification%28DD%29_Gal</a>"
      ],
      "text/plain": [
       "<IPython.core.display.HTML object>"
      ]
     },
     "metadata": {},
     "output_type": "display_data"
    },
    {
     "data": {
      "text/html": [
       " View run at <a href='https://wandb.ai/noynetanel1-tel-aviv-university/GCN%20Graph%20classification%28DD%29_Gal/runs/7rrstzoc' target=\"_blank\">https://wandb.ai/noynetanel1-tel-aviv-university/GCN%20Graph%20classification%28DD%29_Gal/runs/7rrstzoc</a>"
      ],
      "text/plain": [
       "<IPython.core.display.HTML object>"
      ]
     },
     "metadata": {},
     "output_type": "display_data"
    },
    {
     "name": "stdout",
     "output_type": "stream",
     "text": [
      "Seed 2 | Epoch 001 | Loss: 0.6861 | Test Acc: 0.5805\n",
      "Seed 2 | Epoch 002 | Loss: 0.6772 | Test Acc: 0.5805\n",
      "Seed 2 | Epoch 003 | Loss: 0.6753 | Test Acc: 0.5805\n",
      "Seed 2 | Epoch 004 | Loss: 0.6698 | Test Acc: 0.5805\n",
      "Seed 2 | Epoch 005 | Loss: 0.6616 | Test Acc: 0.5805\n",
      "Seed 2 | Epoch 006 | Loss: 0.6527 | Test Acc: 0.6271\n",
      "Seed 2 | Epoch 007 | Loss: 0.6408 | Test Acc: 0.6610\n",
      "Seed 2 | Epoch 008 | Loss: 0.6214 | Test Acc: 0.6271\n",
      "Seed 2 | Epoch 009 | Loss: 0.6030 | Test Acc: 0.6271\n",
      "Seed 2 | Epoch 010 | Loss: 0.6049 | Test Acc: 0.6610\n",
      "Seed 2 | Epoch 011 | Loss: 0.6006 | Test Acc: 0.7076\n",
      "Seed 2 | Epoch 012 | Loss: 0.5901 | Test Acc: 0.6907\n",
      "Seed 2 | Epoch 013 | Loss: 0.5928 | Test Acc: 0.7076\n",
      "Seed 2 | Epoch 014 | Loss: 0.5828 | Test Acc: 0.6737\n",
      "Seed 2 | Epoch 015 | Loss: 0.5841 | Test Acc: 0.6737\n",
      "Seed 2 | Epoch 016 | Loss: 0.5860 | Test Acc: 0.6822\n",
      "Seed 2 | Epoch 017 | Loss: 0.5862 | Test Acc: 0.6568\n",
      "Seed 2 | Epoch 018 | Loss: 0.5793 | Test Acc: 0.6907\n",
      "Seed 2 | Epoch 019 | Loss: 0.5763 | Test Acc: 0.7076\n",
      "Seed 2 | Epoch 020 | Loss: 0.5727 | Test Acc: 0.7119\n",
      "Seed 2 | Epoch 021 | Loss: 0.5706 | Test Acc: 0.7076\n",
      "Seed 2 | Epoch 022 | Loss: 0.5711 | Test Acc: 0.6822\n",
      "Seed 2 | Epoch 023 | Loss: 0.5730 | Test Acc: 0.7034\n",
      "Seed 2 | Epoch 024 | Loss: 0.5645 | Test Acc: 0.6949\n",
      "Seed 2 | Epoch 025 | Loss: 0.5627 | Test Acc: 0.6780\n",
      "Seed 2 | Epoch 026 | Loss: 0.5752 | Test Acc: 0.6737\n",
      "Seed 2 | Epoch 027 | Loss: 0.5723 | Test Acc: 0.6949\n",
      "Seed 2 | Epoch 028 | Loss: 0.5643 | Test Acc: 0.7076\n",
      "Seed 2 | Epoch 029 | Loss: 0.5562 | Test Acc: 0.6992\n",
      "Seed 2 | Epoch 030 | Loss: 0.5594 | Test Acc: 0.6949\n",
      "Seed 2 | Epoch 031 | Loss: 0.5627 | Test Acc: 0.6695\n",
      "Seed 2 | Epoch 032 | Loss: 0.5575 | Test Acc: 0.6695\n",
      "Seed 2 | Epoch 033 | Loss: 0.5571 | Test Acc: 0.7034\n",
      "Seed 2 | Epoch 034 | Loss: 0.5521 | Test Acc: 0.6737\n",
      "Seed 2 | Epoch 035 | Loss: 0.5629 | Test Acc: 0.7119\n",
      "Seed 2 | Epoch 036 | Loss: 0.5620 | Test Acc: 0.6737\n",
      "Seed 2 | Epoch 037 | Loss: 0.5763 | Test Acc: 0.7119\n",
      "Seed 2 | Epoch 038 | Loss: 0.5552 | Test Acc: 0.7034\n",
      "Seed 2 | Epoch 039 | Loss: 0.5523 | Test Acc: 0.6992\n",
      "Seed 2 | Epoch 040 | Loss: 0.5497 | Test Acc: 0.7161\n",
      "Seed 2 | Epoch 041 | Loss: 0.5534 | Test Acc: 0.6992\n",
      "Seed 2 | Epoch 042 | Loss: 0.5450 | Test Acc: 0.6780\n",
      "Seed 2 | Epoch 043 | Loss: 0.5499 | Test Acc: 0.7034\n",
      "Seed 2 | Epoch 044 | Loss: 0.5409 | Test Acc: 0.6949\n",
      "Seed 2 | Epoch 045 | Loss: 0.5421 | Test Acc: 0.7034\n",
      "Seed 2 | Epoch 046 | Loss: 0.5439 | Test Acc: 0.7203\n",
      "Seed 2 | Epoch 047 | Loss: 0.5391 | Test Acc: 0.7203\n",
      "Seed 2 | Epoch 048 | Loss: 0.5446 | Test Acc: 0.7161\n",
      "Seed 2 | Epoch 049 | Loss: 0.5419 | Test Acc: 0.7119\n",
      "Seed 2 | Epoch 050 | Loss: 0.5342 | Test Acc: 0.6907\n"
     ]
    },
    {
     "data": {
      "text/html": [],
      "text/plain": [
       "<IPython.core.display.HTML object>"
      ]
     },
     "metadata": {},
     "output_type": "display_data"
    },
    {
     "data": {
      "text/html": [
       "<br>    <style><br>        .wandb-row {<br>            display: flex;<br>            flex-direction: row;<br>            flex-wrap: wrap;<br>            justify-content: flex-start;<br>            width: 100%;<br>        }<br>        .wandb-col {<br>            display: flex;<br>            flex-direction: column;<br>            flex-basis: 100%;<br>            flex: 1;<br>            padding: 10px;<br>        }<br>    </style><br><div class=\"wandb-row\"><div class=\"wandb-col\"><h3>Run history:</h3><br/><table class=\"wandb\"><tr><td>epoch</td><td>▁▁▁▁▂▂▂▂▂▂▃▃▃▃▃▄▄▄▄▄▅▅▅▅▅▅▆▆▆▆▆▆▇▇▇▇▇███</td></tr><tr><td>loss</td><td>███▇▇▆▅▄▄▄▄▃▃▃▃▃▃▃▃▃▂▃▃▂▂▂▂▂▂▂▂▂▂▂▂▁▁▁▁▁</td></tr><tr><td>test_acc</td><td>▁▁▁▁▁▅▃▃▅▇▇▆▆▆▅▇█▇▆▇▆▇▇▇▇▇▆█▆█▇█▇▆▇▇███▇</td></tr><tr><td>train_acc</td><td>▁▁▁▁▁▅▄▃▆▇▇▇▆▇▅▇▇▇▆█▇▆██▇▇█▆▇▆██▇█▇█████</td></tr></table><br/></div><div class=\"wandb-col\"><h3>Run summary:</h3><br/><table class=\"wandb\"><tr><td>epoch</td><td>50</td></tr><tr><td>loss</td><td>0.53415</td></tr><tr><td>test_acc</td><td>0.69068</td></tr><tr><td>train_acc</td><td>0.73567</td></tr></table><br/></div></div>"
      ],
      "text/plain": [
       "<IPython.core.display.HTML object>"
      ]
     },
     "metadata": {},
     "output_type": "display_data"
    },
    {
     "data": {
      "text/html": [
       " View run <strong style=\"color:#cdcd00\">GCN_baseline_seed_2</strong> at: <a href='https://wandb.ai/noynetanel1-tel-aviv-university/GCN%20Graph%20classification%28DD%29_Gal/runs/7rrstzoc' target=\"_blank\">https://wandb.ai/noynetanel1-tel-aviv-university/GCN%20Graph%20classification%28DD%29_Gal/runs/7rrstzoc</a><br> View project at: <a href='https://wandb.ai/noynetanel1-tel-aviv-university/GCN%20Graph%20classification%28DD%29_Gal' target=\"_blank\">https://wandb.ai/noynetanel1-tel-aviv-university/GCN%20Graph%20classification%28DD%29_Gal</a><br>Synced 5 W&B file(s), 0 media file(s), 0 artifact file(s) and 0 other file(s)"
      ],
      "text/plain": [
       "<IPython.core.display.HTML object>"
      ]
     },
     "metadata": {},
     "output_type": "display_data"
    },
    {
     "data": {
      "text/html": [
       "Find logs at: <code>./wandb/run-20250822_193248-7rrstzoc/logs</code>"
      ],
      "text/plain": [
       "<IPython.core.display.HTML object>"
      ]
     },
     "metadata": {},
     "output_type": "display_data"
    },
    {
     "data": {
      "text/html": [
       "Tracking run with wandb version 0.20.1"
      ],
      "text/plain": [
       "<IPython.core.display.HTML object>"
      ]
     },
     "metadata": {},
     "output_type": "display_data"
    },
    {
     "data": {
      "text/html": [
       "Run data is saved locally in <code>/kaggle/working/wandb/run-20250822_193426-43nwyjdb</code>"
      ],
      "text/plain": [
       "<IPython.core.display.HTML object>"
      ]
     },
     "metadata": {},
     "output_type": "display_data"
    },
    {
     "data": {
      "text/html": [
       "Syncing run <strong><a href='https://wandb.ai/noynetanel1-tel-aviv-university/GCN%20Graph%20classification%28DD%29_Gal/runs/43nwyjdb' target=\"_blank\">GCN_baseline_seed_3</a></strong> to <a href='https://wandb.ai/noynetanel1-tel-aviv-university/GCN%20Graph%20classification%28DD%29_Gal' target=\"_blank\">Weights & Biases</a> (<a href='https://wandb.me/developer-guide' target=\"_blank\">docs</a>)<br>"
      ],
      "text/plain": [
       "<IPython.core.display.HTML object>"
      ]
     },
     "metadata": {},
     "output_type": "display_data"
    },
    {
     "data": {
      "text/html": [
       " View project at <a href='https://wandb.ai/noynetanel1-tel-aviv-university/GCN%20Graph%20classification%28DD%29_Gal' target=\"_blank\">https://wandb.ai/noynetanel1-tel-aviv-university/GCN%20Graph%20classification%28DD%29_Gal</a>"
      ],
      "text/plain": [
       "<IPython.core.display.HTML object>"
      ]
     },
     "metadata": {},
     "output_type": "display_data"
    },
    {
     "data": {
      "text/html": [
       " View run at <a href='https://wandb.ai/noynetanel1-tel-aviv-university/GCN%20Graph%20classification%28DD%29_Gal/runs/43nwyjdb' target=\"_blank\">https://wandb.ai/noynetanel1-tel-aviv-university/GCN%20Graph%20classification%28DD%29_Gal/runs/43nwyjdb</a>"
      ],
      "text/plain": [
       "<IPython.core.display.HTML object>"
      ]
     },
     "metadata": {},
     "output_type": "display_data"
    },
    {
     "name": "stdout",
     "output_type": "stream",
     "text": [
      "Seed 3 | Epoch 001 | Loss: 0.6771 | Test Acc: 0.5551\n",
      "Seed 3 | Epoch 002 | Loss: 0.6733 | Test Acc: 0.5551\n",
      "Seed 3 | Epoch 003 | Loss: 0.6716 | Test Acc: 0.5551\n",
      "Seed 3 | Epoch 004 | Loss: 0.6679 | Test Acc: 0.5551\n",
      "Seed 3 | Epoch 005 | Loss: 0.6622 | Test Acc: 0.5678\n",
      "Seed 3 | Epoch 006 | Loss: 0.6507 | Test Acc: 0.6907\n",
      "Seed 3 | Epoch 007 | Loss: 0.6382 | Test Acc: 0.6949\n",
      "Seed 3 | Epoch 008 | Loss: 0.6203 | Test Acc: 0.6780\n",
      "Seed 3 | Epoch 009 | Loss: 0.6078 | Test Acc: 0.7034\n",
      "Seed 3 | Epoch 010 | Loss: 0.5949 | Test Acc: 0.6864\n",
      "Seed 3 | Epoch 011 | Loss: 0.5878 | Test Acc: 0.6949\n",
      "Seed 3 | Epoch 012 | Loss: 0.5936 | Test Acc: 0.7034\n",
      "Seed 3 | Epoch 013 | Loss: 0.5881 | Test Acc: 0.6780\n",
      "Seed 3 | Epoch 014 | Loss: 0.5805 | Test Acc: 0.6949\n",
      "Seed 3 | Epoch 015 | Loss: 0.5765 | Test Acc: 0.6864\n",
      "Seed 3 | Epoch 016 | Loss: 0.5812 | Test Acc: 0.6992\n",
      "Seed 3 | Epoch 017 | Loss: 0.5753 | Test Acc: 0.6864\n",
      "Seed 3 | Epoch 018 | Loss: 0.5798 | Test Acc: 0.6780\n",
      "Seed 3 | Epoch 019 | Loss: 0.5706 | Test Acc: 0.6822\n",
      "Seed 3 | Epoch 020 | Loss: 0.5725 | Test Acc: 0.6822\n",
      "Seed 3 | Epoch 021 | Loss: 0.5707 | Test Acc: 0.6822\n",
      "Seed 3 | Epoch 022 | Loss: 0.5625 | Test Acc: 0.6780\n",
      "Seed 3 | Epoch 023 | Loss: 0.5681 | Test Acc: 0.6864\n",
      "Seed 3 | Epoch 024 | Loss: 0.5610 | Test Acc: 0.6737\n",
      "Seed 3 | Epoch 025 | Loss: 0.5740 | Test Acc: 0.6864\n",
      "Seed 3 | Epoch 026 | Loss: 0.5757 | Test Acc: 0.6822\n",
      "Seed 3 | Epoch 027 | Loss: 0.5697 | Test Acc: 0.7076\n",
      "Seed 3 | Epoch 028 | Loss: 0.5599 | Test Acc: 0.6441\n",
      "Seed 3 | Epoch 029 | Loss: 0.5669 | Test Acc: 0.7034\n",
      "Seed 3 | Epoch 030 | Loss: 0.5574 | Test Acc: 0.7076\n",
      "Seed 3 | Epoch 031 | Loss: 0.5649 | Test Acc: 0.6864\n",
      "Seed 3 | Epoch 032 | Loss: 0.5618 | Test Acc: 0.6949\n",
      "Seed 3 | Epoch 033 | Loss: 0.5489 | Test Acc: 0.6695\n",
      "Seed 3 | Epoch 034 | Loss: 0.5605 | Test Acc: 0.6949\n",
      "Seed 3 | Epoch 035 | Loss: 0.5565 | Test Acc: 0.6695\n",
      "Seed 3 | Epoch 036 | Loss: 0.5594 | Test Acc: 0.6992\n",
      "Seed 3 | Epoch 037 | Loss: 0.5657 | Test Acc: 0.7076\n",
      "Seed 3 | Epoch 038 | Loss: 0.5561 | Test Acc: 0.6695\n",
      "Seed 3 | Epoch 039 | Loss: 0.5509 | Test Acc: 0.7076\n",
      "Seed 3 | Epoch 040 | Loss: 0.5482 | Test Acc: 0.7076\n",
      "Seed 3 | Epoch 041 | Loss: 0.5472 | Test Acc: 0.6907\n",
      "Seed 3 | Epoch 042 | Loss: 0.5419 | Test Acc: 0.6780\n",
      "Seed 3 | Epoch 043 | Loss: 0.5475 | Test Acc: 0.6822\n",
      "Seed 3 | Epoch 044 | Loss: 0.5458 | Test Acc: 0.6780\n",
      "Seed 3 | Epoch 045 | Loss: 0.5515 | Test Acc: 0.6780\n",
      "Seed 3 | Epoch 046 | Loss: 0.5438 | Test Acc: 0.6780\n",
      "Seed 3 | Epoch 047 | Loss: 0.5475 | Test Acc: 0.7076\n",
      "Seed 3 | Epoch 048 | Loss: 0.5436 | Test Acc: 0.6822\n",
      "Seed 3 | Epoch 049 | Loss: 0.5393 | Test Acc: 0.6780\n",
      "Seed 3 | Epoch 050 | Loss: 0.5394 | Test Acc: 0.6907\n"
     ]
    },
    {
     "data": {
      "text/html": [],
      "text/plain": [
       "<IPython.core.display.HTML object>"
      ]
     },
     "metadata": {},
     "output_type": "display_data"
    },
    {
     "data": {
      "text/html": [
       "<br>    <style><br>        .wandb-row {<br>            display: flex;<br>            flex-direction: row;<br>            flex-wrap: wrap;<br>            justify-content: flex-start;<br>            width: 100%;<br>        }<br>        .wandb-col {<br>            display: flex;<br>            flex-direction: column;<br>            flex-basis: 100%;<br>            flex: 1;<br>            padding: 10px;<br>        }<br>    </style><br><div class=\"wandb-row\"><div class=\"wandb-col\"><h3>Run history:</h3><br/><table class=\"wandb\"><tr><td>epoch</td><td>▁▁▁▁▂▂▂▂▂▃▃▃▃▃▃▄▄▄▄▄▅▅▅▅▅▅▆▆▆▆▆▇▇▇▇▇▇███</td></tr><tr><td>loss</td><td>████▇▆▅▄▄▃▃▃▃▃▃▃▃▃▂▂▃▃▂▂▂▂▁▂▂▂▂▂▁▁▁▁▂▁▁▁</td></tr><tr><td>test_acc</td><td>▁▁▁▁▂▇▇█▇▇▇▇█▇▇▇▇▇▆▇█▅██▇▆▇▆████▇▇▇▇▇█▇▇</td></tr><tr><td>train_acc</td><td>▁▁▁▁▁▆▅▆▇▇▆▇▇▇█▇▇▇▇▇█▇▇▅▇███▇▇███▇██████</td></tr></table><br/></div><div class=\"wandb-col\"><h3>Run summary:</h3><br/><table class=\"wandb\"><tr><td>epoch</td><td>50</td></tr><tr><td>loss</td><td>0.53937</td></tr><tr><td>test_acc</td><td>0.69068</td></tr><tr><td>train_acc</td><td>0.7431</td></tr></table><br/></div></div>"
      ],
      "text/plain": [
       "<IPython.core.display.HTML object>"
      ]
     },
     "metadata": {},
     "output_type": "display_data"
    },
    {
     "data": {
      "text/html": [
       " View run <strong style=\"color:#cdcd00\">GCN_baseline_seed_3</strong> at: <a href='https://wandb.ai/noynetanel1-tel-aviv-university/GCN%20Graph%20classification%28DD%29_Gal/runs/43nwyjdb' target=\"_blank\">https://wandb.ai/noynetanel1-tel-aviv-university/GCN%20Graph%20classification%28DD%29_Gal/runs/43nwyjdb</a><br> View project at: <a href='https://wandb.ai/noynetanel1-tel-aviv-university/GCN%20Graph%20classification%28DD%29_Gal' target=\"_blank\">https://wandb.ai/noynetanel1-tel-aviv-university/GCN%20Graph%20classification%28DD%29_Gal</a><br>Synced 5 W&B file(s), 0 media file(s), 0 artifact file(s) and 0 other file(s)"
      ],
      "text/plain": [
       "<IPython.core.display.HTML object>"
      ]
     },
     "metadata": {},
     "output_type": "display_data"
    },
    {
     "data": {
      "text/html": [
       "Find logs at: <code>./wandb/run-20250822_193426-43nwyjdb/logs</code>"
      ],
      "text/plain": [
       "<IPython.core.display.HTML object>"
      ]
     },
     "metadata": {},
     "output_type": "display_data"
    },
    {
     "data": {
      "text/html": [
       "Tracking run with wandb version 0.20.1"
      ],
      "text/plain": [
       "<IPython.core.display.HTML object>"
      ]
     },
     "metadata": {},
     "output_type": "display_data"
    },
    {
     "data": {
      "text/html": [
       "Run data is saved locally in <code>/kaggle/working/wandb/run-20250822_193607-algf6g69</code>"
      ],
      "text/plain": [
       "<IPython.core.display.HTML object>"
      ]
     },
     "metadata": {},
     "output_type": "display_data"
    },
    {
     "data": {
      "text/html": [
       "Syncing run <strong><a href='https://wandb.ai/noynetanel1-tel-aviv-university/GCN%20Graph%20classification%28DD%29_Gal/runs/algf6g69' target=\"_blank\">GCN_baseline_seed_4</a></strong> to <a href='https://wandb.ai/noynetanel1-tel-aviv-university/GCN%20Graph%20classification%28DD%29_Gal' target=\"_blank\">Weights & Biases</a> (<a href='https://wandb.me/developer-guide' target=\"_blank\">docs</a>)<br>"
      ],
      "text/plain": [
       "<IPython.core.display.HTML object>"
      ]
     },
     "metadata": {},
     "output_type": "display_data"
    },
    {
     "data": {
      "text/html": [
       " View project at <a href='https://wandb.ai/noynetanel1-tel-aviv-university/GCN%20Graph%20classification%28DD%29_Gal' target=\"_blank\">https://wandb.ai/noynetanel1-tel-aviv-university/GCN%20Graph%20classification%28DD%29_Gal</a>"
      ],
      "text/plain": [
       "<IPython.core.display.HTML object>"
      ]
     },
     "metadata": {},
     "output_type": "display_data"
    },
    {
     "data": {
      "text/html": [
       " View run at <a href='https://wandb.ai/noynetanel1-tel-aviv-university/GCN%20Graph%20classification%28DD%29_Gal/runs/algf6g69' target=\"_blank\">https://wandb.ai/noynetanel1-tel-aviv-university/GCN%20Graph%20classification%28DD%29_Gal/runs/algf6g69</a>"
      ],
      "text/plain": [
       "<IPython.core.display.HTML object>"
      ]
     },
     "metadata": {},
     "output_type": "display_data"
    },
    {
     "name": "stdout",
     "output_type": "stream",
     "text": [
      "Seed 4 | Epoch 001 | Loss: 0.6828 | Test Acc: 0.6186\n",
      "Seed 4 | Epoch 002 | Loss: 0.6820 | Test Acc: 0.6186\n",
      "Seed 4 | Epoch 003 | Loss: 0.6787 | Test Acc: 0.6186\n",
      "Seed 4 | Epoch 004 | Loss: 0.6743 | Test Acc: 0.6186\n",
      "Seed 4 | Epoch 005 | Loss: 0.6679 | Test Acc: 0.6314\n",
      "Seed 4 | Epoch 006 | Loss: 0.6580 | Test Acc: 0.6695\n",
      "Seed 4 | Epoch 007 | Loss: 0.6415 | Test Acc: 0.6653\n",
      "Seed 4 | Epoch 008 | Loss: 0.6298 | Test Acc: 0.6949\n",
      "Seed 4 | Epoch 009 | Loss: 0.6260 | Test Acc: 0.6907\n",
      "Seed 4 | Epoch 010 | Loss: 0.6067 | Test Acc: 0.7331\n",
      "Seed 4 | Epoch 011 | Loss: 0.6017 | Test Acc: 0.7331\n",
      "Seed 4 | Epoch 012 | Loss: 0.5927 | Test Acc: 0.7076\n",
      "Seed 4 | Epoch 013 | Loss: 0.5895 | Test Acc: 0.7331\n",
      "Seed 4 | Epoch 014 | Loss: 0.5848 | Test Acc: 0.7246\n",
      "Seed 4 | Epoch 015 | Loss: 0.5888 | Test Acc: 0.7288\n",
      "Seed 4 | Epoch 016 | Loss: 0.5881 | Test Acc: 0.7331\n",
      "Seed 4 | Epoch 017 | Loss: 0.5949 | Test Acc: 0.7203\n",
      "Seed 4 | Epoch 018 | Loss: 0.5924 | Test Acc: 0.7415\n",
      "Seed 4 | Epoch 019 | Loss: 0.5778 | Test Acc: 0.7246\n",
      "Seed 4 | Epoch 020 | Loss: 0.5789 | Test Acc: 0.7331\n",
      "Seed 4 | Epoch 021 | Loss: 0.5802 | Test Acc: 0.7373\n",
      "Seed 4 | Epoch 022 | Loss: 0.5757 | Test Acc: 0.7458\n",
      "Seed 4 | Epoch 023 | Loss: 0.5816 | Test Acc: 0.7246\n",
      "Seed 4 | Epoch 024 | Loss: 0.5766 | Test Acc: 0.7246\n",
      "Seed 4 | Epoch 025 | Loss: 0.5706 | Test Acc: 0.7246\n",
      "Seed 4 | Epoch 026 | Loss: 0.5760 | Test Acc: 0.7288\n",
      "Seed 4 | Epoch 027 | Loss: 0.5732 | Test Acc: 0.7288\n",
      "Seed 4 | Epoch 028 | Loss: 0.5647 | Test Acc: 0.7246\n",
      "Seed 4 | Epoch 029 | Loss: 0.5637 | Test Acc: 0.7331\n",
      "Seed 4 | Epoch 030 | Loss: 0.5687 | Test Acc: 0.7288\n",
      "Seed 4 | Epoch 031 | Loss: 0.5680 | Test Acc: 0.7246\n",
      "Seed 4 | Epoch 032 | Loss: 0.5681 | Test Acc: 0.7331\n",
      "Seed 4 | Epoch 033 | Loss: 0.5677 | Test Acc: 0.7331\n",
      "Seed 4 | Epoch 034 | Loss: 0.5630 | Test Acc: 0.7331\n",
      "Seed 4 | Epoch 035 | Loss: 0.5663 | Test Acc: 0.7246\n",
      "Seed 4 | Epoch 036 | Loss: 0.5640 | Test Acc: 0.7246\n",
      "Seed 4 | Epoch 037 | Loss: 0.5621 | Test Acc: 0.7161\n",
      "Seed 4 | Epoch 038 | Loss: 0.5671 | Test Acc: 0.7415\n",
      "Seed 4 | Epoch 039 | Loss: 0.5589 | Test Acc: 0.7288\n",
      "Seed 4 | Epoch 040 | Loss: 0.5635 | Test Acc: 0.7373\n",
      "Seed 4 | Epoch 041 | Loss: 0.5559 | Test Acc: 0.7288\n",
      "Seed 4 | Epoch 042 | Loss: 0.5568 | Test Acc: 0.7373\n",
      "Seed 4 | Epoch 043 | Loss: 0.5632 | Test Acc: 0.7331\n",
      "Seed 4 | Epoch 044 | Loss: 0.5545 | Test Acc: 0.7373\n",
      "Seed 4 | Epoch 045 | Loss: 0.5465 | Test Acc: 0.7373\n",
      "Seed 4 | Epoch 046 | Loss: 0.5484 | Test Acc: 0.7246\n",
      "Seed 4 | Epoch 047 | Loss: 0.5530 | Test Acc: 0.7203\n",
      "Seed 4 | Epoch 048 | Loss: 0.5464 | Test Acc: 0.7373\n",
      "Seed 4 | Epoch 049 | Loss: 0.5691 | Test Acc: 0.7246\n",
      "Seed 4 | Epoch 050 | Loss: 0.5538 | Test Acc: 0.6737\n"
     ]
    },
    {
     "data": {
      "text/html": [],
      "text/plain": [
       "<IPython.core.display.HTML object>"
      ]
     },
     "metadata": {},
     "output_type": "display_data"
    },
    {
     "data": {
      "text/html": [
       "<br>    <style><br>        .wandb-row {<br>            display: flex;<br>            flex-direction: row;<br>            flex-wrap: wrap;<br>            justify-content: flex-start;<br>            width: 100%;<br>        }<br>        .wandb-col {<br>            display: flex;<br>            flex-direction: column;<br>            flex-basis: 100%;<br>            flex: 1;<br>            padding: 10px;<br>        }<br>    </style><br><div class=\"wandb-row\"><div class=\"wandb-col\"><h3>Run history:</h3><br/><table class=\"wandb\"><tr><td>epoch</td><td>▁▁▁▁▂▂▂▂▂▂▃▃▃▃▃▄▄▄▄▄▄▅▅▅▅▅▆▆▆▆▆▆▇▇▇▇▇███</td></tr><tr><td>loss</td><td>████▇▆▅▅▄▄▃▃▃▃▃▃▃▃▃▃▃▂▂▂▂▂▂▂▂▂▂▂▂▁▂▁▁▁▁▁</td></tr><tr><td>test_acc</td><td>▁▁▁▁▂▄▅▅▇▇▇▇▇▇▇▇██▇▇▇▇▇▇▇▇▇▇▇▆▇█▇█▇█▇▇█▄</td></tr><tr><td>train_acc</td><td>▁▁▁▁▁▃▅▅▇▇▇▇▇▇▇▇▇▇▇▇▇▇█▇▇▇▇█▇▇█▇█▇▇████▆</td></tr></table><br/></div><div class=\"wandb-col\"><h3>Run summary:</h3><br/><table class=\"wandb\"><tr><td>epoch</td><td>50</td></tr><tr><td>loss</td><td>0.55377</td></tr><tr><td>test_acc</td><td>0.67373</td></tr><tr><td>train_acc</td><td>0.69108</td></tr></table><br/></div></div>"
      ],
      "text/plain": [
       "<IPython.core.display.HTML object>"
      ]
     },
     "metadata": {},
     "output_type": "display_data"
    },
    {
     "data": {
      "text/html": [
       " View run <strong style=\"color:#cdcd00\">GCN_baseline_seed_4</strong> at: <a href='https://wandb.ai/noynetanel1-tel-aviv-university/GCN%20Graph%20classification%28DD%29_Gal/runs/algf6g69' target=\"_blank\">https://wandb.ai/noynetanel1-tel-aviv-university/GCN%20Graph%20classification%28DD%29_Gal/runs/algf6g69</a><br> View project at: <a href='https://wandb.ai/noynetanel1-tel-aviv-university/GCN%20Graph%20classification%28DD%29_Gal' target=\"_blank\">https://wandb.ai/noynetanel1-tel-aviv-university/GCN%20Graph%20classification%28DD%29_Gal</a><br>Synced 5 W&B file(s), 0 media file(s), 0 artifact file(s) and 0 other file(s)"
      ],
      "text/plain": [
       "<IPython.core.display.HTML object>"
      ]
     },
     "metadata": {},
     "output_type": "display_data"
    },
    {
     "data": {
      "text/html": [
       "Find logs at: <code>./wandb/run-20250822_193607-algf6g69/logs</code>"
      ],
      "text/plain": [
       "<IPython.core.display.HTML object>"
      ]
     },
     "metadata": {},
     "output_type": "display_data"
    },
    {
     "data": {
      "text/html": [
       "Tracking run with wandb version 0.20.1"
      ],
      "text/plain": [
       "<IPython.core.display.HTML object>"
      ]
     },
     "metadata": {},
     "output_type": "display_data"
    },
    {
     "data": {
      "text/html": [
       "Run data is saved locally in <code>/kaggle/working/wandb/run-20250822_193745-cky27nvv</code>"
      ],
      "text/plain": [
       "<IPython.core.display.HTML object>"
      ]
     },
     "metadata": {},
     "output_type": "display_data"
    },
    {
     "data": {
      "text/html": [
       "Syncing run <strong><a href='https://wandb.ai/noynetanel1-tel-aviv-university/GCN%20Graph%20classification%28DD%29_Gal/runs/cky27nvv' target=\"_blank\">GCN_baseline_seed_5</a></strong> to <a href='https://wandb.ai/noynetanel1-tel-aviv-university/GCN%20Graph%20classification%28DD%29_Gal' target=\"_blank\">Weights & Biases</a> (<a href='https://wandb.me/developer-guide' target=\"_blank\">docs</a>)<br>"
      ],
      "text/plain": [
       "<IPython.core.display.HTML object>"
      ]
     },
     "metadata": {},
     "output_type": "display_data"
    },
    {
     "data": {
      "text/html": [
       " View project at <a href='https://wandb.ai/noynetanel1-tel-aviv-university/GCN%20Graph%20classification%28DD%29_Gal' target=\"_blank\">https://wandb.ai/noynetanel1-tel-aviv-university/GCN%20Graph%20classification%28DD%29_Gal</a>"
      ],
      "text/plain": [
       "<IPython.core.display.HTML object>"
      ]
     },
     "metadata": {},
     "output_type": "display_data"
    },
    {
     "data": {
      "text/html": [
       " View run at <a href='https://wandb.ai/noynetanel1-tel-aviv-university/GCN%20Graph%20classification%28DD%29_Gal/runs/cky27nvv' target=\"_blank\">https://wandb.ai/noynetanel1-tel-aviv-university/GCN%20Graph%20classification%28DD%29_Gal/runs/cky27nvv</a>"
      ],
      "text/plain": [
       "<IPython.core.display.HTML object>"
      ]
     },
     "metadata": {},
     "output_type": "display_data"
    },
    {
     "name": "stdout",
     "output_type": "stream",
     "text": [
      "Seed 5 | Epoch 001 | Loss: 0.6796 | Test Acc: 0.5763\n",
      "Seed 5 | Epoch 002 | Loss: 0.6745 | Test Acc: 0.5763\n",
      "Seed 5 | Epoch 003 | Loss: 0.6713 | Test Acc: 0.5763\n",
      "Seed 5 | Epoch 004 | Loss: 0.6660 | Test Acc: 0.5763\n",
      "Seed 5 | Epoch 005 | Loss: 0.6589 | Test Acc: 0.6144\n",
      "Seed 5 | Epoch 006 | Loss: 0.6467 | Test Acc: 0.6822\n",
      "Seed 5 | Epoch 007 | Loss: 0.6283 | Test Acc: 0.7119\n",
      "Seed 5 | Epoch 008 | Loss: 0.6177 | Test Acc: 0.6992\n",
      "Seed 5 | Epoch 009 | Loss: 0.6039 | Test Acc: 0.6907\n",
      "Seed 5 | Epoch 010 | Loss: 0.6011 | Test Acc: 0.6992\n",
      "Seed 5 | Epoch 011 | Loss: 0.5935 | Test Acc: 0.7034\n",
      "Seed 5 | Epoch 012 | Loss: 0.5892 | Test Acc: 0.7034\n",
      "Seed 5 | Epoch 013 | Loss: 0.5896 | Test Acc: 0.6992\n",
      "Seed 5 | Epoch 014 | Loss: 0.5847 | Test Acc: 0.6949\n",
      "Seed 5 | Epoch 015 | Loss: 0.5860 | Test Acc: 0.7076\n",
      "Seed 5 | Epoch 016 | Loss: 0.5888 | Test Acc: 0.6907\n",
      "Seed 5 | Epoch 017 | Loss: 0.5896 | Test Acc: 0.7034\n",
      "Seed 5 | Epoch 018 | Loss: 0.5837 | Test Acc: 0.7119\n",
      "Seed 5 | Epoch 019 | Loss: 0.5722 | Test Acc: 0.6907\n",
      "Seed 5 | Epoch 020 | Loss: 0.5805 | Test Acc: 0.7034\n",
      "Seed 5 | Epoch 021 | Loss: 0.5703 | Test Acc: 0.7203\n",
      "Seed 5 | Epoch 022 | Loss: 0.5703 | Test Acc: 0.7203\n",
      "Seed 5 | Epoch 023 | Loss: 0.5668 | Test Acc: 0.7034\n",
      "Seed 5 | Epoch 024 | Loss: 0.5781 | Test Acc: 0.6864\n",
      "Seed 5 | Epoch 025 | Loss: 0.5801 | Test Acc: 0.7161\n",
      "Seed 5 | Epoch 026 | Loss: 0.5729 | Test Acc: 0.7331\n",
      "Seed 5 | Epoch 027 | Loss: 0.5633 | Test Acc: 0.7119\n",
      "Seed 5 | Epoch 028 | Loss: 0.5681 | Test Acc: 0.7161\n",
      "Seed 5 | Epoch 029 | Loss: 0.5638 | Test Acc: 0.7034\n",
      "Seed 5 | Epoch 030 | Loss: 0.5611 | Test Acc: 0.7119\n",
      "Seed 5 | Epoch 031 | Loss: 0.5585 | Test Acc: 0.7246\n",
      "Seed 5 | Epoch 032 | Loss: 0.5556 | Test Acc: 0.7034\n",
      "Seed 5 | Epoch 033 | Loss: 0.5627 | Test Acc: 0.7203\n",
      "Seed 5 | Epoch 034 | Loss: 0.5594 | Test Acc: 0.7076\n",
      "Seed 5 | Epoch 035 | Loss: 0.5609 | Test Acc: 0.7034\n",
      "Seed 5 | Epoch 036 | Loss: 0.5690 | Test Acc: 0.6949\n",
      "Seed 5 | Epoch 037 | Loss: 0.5539 | Test Acc: 0.7161\n",
      "Seed 5 | Epoch 038 | Loss: 0.5610 | Test Acc: 0.7119\n",
      "Seed 5 | Epoch 039 | Loss: 0.5561 | Test Acc: 0.7034\n",
      "Seed 5 | Epoch 040 | Loss: 0.5525 | Test Acc: 0.7246\n",
      "Seed 5 | Epoch 041 | Loss: 0.5518 | Test Acc: 0.7034\n",
      "Seed 5 | Epoch 042 | Loss: 0.5567 | Test Acc: 0.7034\n",
      "Seed 5 | Epoch 043 | Loss: 0.5502 | Test Acc: 0.7034\n",
      "Seed 5 | Epoch 044 | Loss: 0.5555 | Test Acc: 0.7246\n",
      "Seed 5 | Epoch 045 | Loss: 0.5463 | Test Acc: 0.7034\n",
      "Seed 5 | Epoch 046 | Loss: 0.5465 | Test Acc: 0.7246\n",
      "Seed 5 | Epoch 047 | Loss: 0.5468 | Test Acc: 0.7246\n",
      "Seed 5 | Epoch 048 | Loss: 0.5407 | Test Acc: 0.7076\n",
      "Seed 5 | Epoch 049 | Loss: 0.5412 | Test Acc: 0.7034\n",
      "Seed 5 | Epoch 050 | Loss: 0.5491 | Test Acc: 0.7076\n"
     ]
    },
    {
     "data": {
      "text/html": [],
      "text/plain": [
       "<IPython.core.display.HTML object>"
      ]
     },
     "metadata": {},
     "output_type": "display_data"
    },
    {
     "data": {
      "text/html": [
       "<br>    <style><br>        .wandb-row {<br>            display: flex;<br>            flex-direction: row;<br>            flex-wrap: wrap;<br>            justify-content: flex-start;<br>            width: 100%;<br>        }<br>        .wandb-col {<br>            display: flex;<br>            flex-direction: column;<br>            flex-basis: 100%;<br>            flex: 1;<br>            padding: 10px;<br>        }<br>    </style><br><div class=\"wandb-row\"><div class=\"wandb-col\"><h3>Run history:</h3><br/><table class=\"wandb\"><tr><td>epoch</td><td>▁▁▁▁▂▂▂▂▂▂▃▃▃▃▃▄▄▄▄▄▄▅▅▅▅▅▆▆▆▆▆▆▇▇▇▇▇███</td></tr><tr><td>loss</td><td>███▇▇▅▅▄▄▄▃▃▃▃▃▂▂▂▃▃▂▂▂▂▂▂▂▂▂▂▂▂▂▂▁▁▁▁▁▁</td></tr><tr><td>test_acc</td><td>▁▁▁▃▆▆▆▆▇▇▆▇▆▇▇▇▇▇▇▆█▇▇▇▇▇▇▇▇▆▇▇█▇▇███▇▇</td></tr><tr><td>train_acc</td><td>▁▁▁▂▃▆▆▅▇▆▅▇▇▇▆▇▇▇▇▆▇▇▇▇▇▇▇▇▇▇▇▇█▇██████</td></tr></table><br/></div><div class=\"wandb-col\"><h3>Run summary:</h3><br/><table class=\"wandb\"><tr><td>epoch</td><td>50</td></tr><tr><td>loss</td><td>0.54914</td></tr><tr><td>test_acc</td><td>0.70763</td></tr><tr><td>train_acc</td><td>0.75053</td></tr></table><br/></div></div>"
      ],
      "text/plain": [
       "<IPython.core.display.HTML object>"
      ]
     },
     "metadata": {},
     "output_type": "display_data"
    },
    {
     "data": {
      "text/html": [
       " View run <strong style=\"color:#cdcd00\">GCN_baseline_seed_5</strong> at: <a href='https://wandb.ai/noynetanel1-tel-aviv-university/GCN%20Graph%20classification%28DD%29_Gal/runs/cky27nvv' target=\"_blank\">https://wandb.ai/noynetanel1-tel-aviv-university/GCN%20Graph%20classification%28DD%29_Gal/runs/cky27nvv</a><br> View project at: <a href='https://wandb.ai/noynetanel1-tel-aviv-university/GCN%20Graph%20classification%28DD%29_Gal' target=\"_blank\">https://wandb.ai/noynetanel1-tel-aviv-university/GCN%20Graph%20classification%28DD%29_Gal</a><br>Synced 5 W&B file(s), 0 media file(s), 0 artifact file(s) and 0 other file(s)"
      ],
      "text/plain": [
       "<IPython.core.display.HTML object>"
      ]
     },
     "metadata": {},
     "output_type": "display_data"
    },
    {
     "data": {
      "text/html": [
       "Find logs at: <code>./wandb/run-20250822_193745-cky27nvv/logs</code>"
      ],
      "text/plain": [
       "<IPython.core.display.HTML object>"
      ]
     },
     "metadata": {},
     "output_type": "display_data"
    },
    {
     "data": {
      "text/html": [
       "Tracking run with wandb version 0.20.1"
      ],
      "text/plain": [
       "<IPython.core.display.HTML object>"
      ]
     },
     "metadata": {},
     "output_type": "display_data"
    },
    {
     "data": {
      "text/html": [
       "Run data is saved locally in <code>/kaggle/working/wandb/run-20250822_193925-6qxavz07</code>"
      ],
      "text/plain": [
       "<IPython.core.display.HTML object>"
      ]
     },
     "metadata": {},
     "output_type": "display_data"
    },
    {
     "data": {
      "text/html": [
       "Syncing run <strong><a href='https://wandb.ai/noynetanel1-tel-aviv-university/GCN%20Graph%20classification%28DD%29_Gal/runs/6qxavz07' target=\"_blank\">GCN_baseline_seed_6</a></strong> to <a href='https://wandb.ai/noynetanel1-tel-aviv-university/GCN%20Graph%20classification%28DD%29_Gal' target=\"_blank\">Weights & Biases</a> (<a href='https://wandb.me/developer-guide' target=\"_blank\">docs</a>)<br>"
      ],
      "text/plain": [
       "<IPython.core.display.HTML object>"
      ]
     },
     "metadata": {},
     "output_type": "display_data"
    },
    {
     "data": {
      "text/html": [
       " View project at <a href='https://wandb.ai/noynetanel1-tel-aviv-university/GCN%20Graph%20classification%28DD%29_Gal' target=\"_blank\">https://wandb.ai/noynetanel1-tel-aviv-university/GCN%20Graph%20classification%28DD%29_Gal</a>"
      ],
      "text/plain": [
       "<IPython.core.display.HTML object>"
      ]
     },
     "metadata": {},
     "output_type": "display_data"
    },
    {
     "data": {
      "text/html": [
       " View run at <a href='https://wandb.ai/noynetanel1-tel-aviv-university/GCN%20Graph%20classification%28DD%29_Gal/runs/6qxavz07' target=\"_blank\">https://wandb.ai/noynetanel1-tel-aviv-university/GCN%20Graph%20classification%28DD%29_Gal/runs/6qxavz07</a>"
      ],
      "text/plain": [
       "<IPython.core.display.HTML object>"
      ]
     },
     "metadata": {},
     "output_type": "display_data"
    },
    {
     "name": "stdout",
     "output_type": "stream",
     "text": [
      "Seed 6 | Epoch 001 | Loss: 0.6796 | Test Acc: 0.5593\n",
      "Seed 6 | Epoch 002 | Loss: 0.6756 | Test Acc: 0.5593\n",
      "Seed 6 | Epoch 003 | Loss: 0.6714 | Test Acc: 0.5593\n",
      "Seed 6 | Epoch 004 | Loss: 0.6718 | Test Acc: 0.5593\n",
      "Seed 6 | Epoch 005 | Loss: 0.6644 | Test Acc: 0.5593\n",
      "Seed 6 | Epoch 006 | Loss: 0.6588 | Test Acc: 0.6144\n",
      "Seed 6 | Epoch 007 | Loss: 0.6495 | Test Acc: 0.6653\n",
      "Seed 6 | Epoch 008 | Loss: 0.6347 | Test Acc: 0.6737\n",
      "Seed 6 | Epoch 009 | Loss: 0.6204 | Test Acc: 0.6356\n",
      "Seed 6 | Epoch 010 | Loss: 0.6114 | Test Acc: 0.6737\n",
      "Seed 6 | Epoch 011 | Loss: 0.6003 | Test Acc: 0.6271\n",
      "Seed 6 | Epoch 012 | Loss: 0.6011 | Test Acc: 0.6780\n",
      "Seed 6 | Epoch 013 | Loss: 0.5880 | Test Acc: 0.6822\n",
      "Seed 6 | Epoch 014 | Loss: 0.5895 | Test Acc: 0.6864\n",
      "Seed 6 | Epoch 015 | Loss: 0.5927 | Test Acc: 0.6907\n",
      "Seed 6 | Epoch 016 | Loss: 0.5809 | Test Acc: 0.6864\n",
      "Seed 6 | Epoch 017 | Loss: 0.5784 | Test Acc: 0.6864\n",
      "Seed 6 | Epoch 018 | Loss: 0.5842 | Test Acc: 0.6907\n",
      "Seed 6 | Epoch 019 | Loss: 0.5760 | Test Acc: 0.6949\n",
      "Seed 6 | Epoch 020 | Loss: 0.5762 | Test Acc: 0.6992\n",
      "Seed 6 | Epoch 021 | Loss: 0.5707 | Test Acc: 0.6992\n",
      "Seed 6 | Epoch 022 | Loss: 0.5704 | Test Acc: 0.6949\n",
      "Seed 6 | Epoch 023 | Loss: 0.5722 | Test Acc: 0.6737\n",
      "Seed 6 | Epoch 024 | Loss: 0.5750 | Test Acc: 0.6907\n",
      "Seed 6 | Epoch 025 | Loss: 0.5674 | Test Acc: 0.6864\n",
      "Seed 6 | Epoch 026 | Loss: 0.5649 | Test Acc: 0.6992\n",
      "Seed 6 | Epoch 027 | Loss: 0.5643 | Test Acc: 0.6822\n",
      "Seed 6 | Epoch 028 | Loss: 0.5774 | Test Acc: 0.6949\n",
      "Seed 6 | Epoch 029 | Loss: 0.5613 | Test Acc: 0.6949\n",
      "Seed 6 | Epoch 030 | Loss: 0.5591 | Test Acc: 0.6992\n",
      "Seed 6 | Epoch 031 | Loss: 0.5587 | Test Acc: 0.6949\n",
      "Seed 6 | Epoch 032 | Loss: 0.5640 | Test Acc: 0.6822\n",
      "Seed 6 | Epoch 033 | Loss: 0.5729 | Test Acc: 0.6949\n",
      "Seed 6 | Epoch 034 | Loss: 0.5565 | Test Acc: 0.6822\n",
      "Seed 6 | Epoch 035 | Loss: 0.5630 | Test Acc: 0.6907\n",
      "Seed 6 | Epoch 036 | Loss: 0.5587 | Test Acc: 0.6907\n",
      "Seed 6 | Epoch 037 | Loss: 0.5493 | Test Acc: 0.6907\n",
      "Seed 6 | Epoch 038 | Loss: 0.5592 | Test Acc: 0.6907\n",
      "Seed 6 | Epoch 039 | Loss: 0.5461 | Test Acc: 0.6992\n",
      "Seed 6 | Epoch 040 | Loss: 0.5479 | Test Acc: 0.6949\n",
      "Seed 6 | Epoch 041 | Loss: 0.5477 | Test Acc: 0.6949\n",
      "Seed 6 | Epoch 042 | Loss: 0.5444 | Test Acc: 0.6949\n",
      "Seed 6 | Epoch 043 | Loss: 0.5502 | Test Acc: 0.6949\n",
      "Seed 6 | Epoch 044 | Loss: 0.5469 | Test Acc: 0.6949\n",
      "Seed 6 | Epoch 045 | Loss: 0.5431 | Test Acc: 0.6949\n",
      "Seed 6 | Epoch 046 | Loss: 0.5456 | Test Acc: 0.6864\n",
      "Seed 6 | Epoch 047 | Loss: 0.5379 | Test Acc: 0.6992\n",
      "Seed 6 | Epoch 048 | Loss: 0.5450 | Test Acc: 0.6992\n",
      "Seed 6 | Epoch 049 | Loss: 0.5359 | Test Acc: 0.6992\n",
      "Seed 6 | Epoch 050 | Loss: 0.5354 | Test Acc: 0.6907\n"
     ]
    },
    {
     "data": {
      "text/html": [],
      "text/plain": [
       "<IPython.core.display.HTML object>"
      ]
     },
     "metadata": {},
     "output_type": "display_data"
    },
    {
     "data": {
      "text/html": [
       "<br>    <style><br>        .wandb-row {<br>            display: flex;<br>            flex-direction: row;<br>            flex-wrap: wrap;<br>            justify-content: flex-start;<br>            width: 100%;<br>        }<br>        .wandb-col {<br>            display: flex;<br>            flex-direction: column;<br>            flex-basis: 100%;<br>            flex: 1;<br>            padding: 10px;<br>        }<br>    </style><br><div class=\"wandb-row\"><div class=\"wandb-col\"><h3>Run history:</h3><br/><table class=\"wandb\"><tr><td>epoch</td><td>▁▁▁▁▂▂▂▂▂▂▃▃▃▃▃▄▄▄▄▄▅▅▅▅▅▆▆▆▆▆▆▇▇▇▇▇▇███</td></tr><tr><td>loss</td><td>████▇▆▅▅▄▄▄▄▃▃▃▃▃▃▃▃▂▃▂▂▂▃▂▂▂▂▂▂▂▁▂▁▁▁▁▁</td></tr><tr><td>test_acc</td><td>▁▁▁▁▁▆▇▅▇▄▇▇▇▇████▇██▇███▇█▇█████████▇██</td></tr><tr><td>train_acc</td><td>▁▁▁▁▁▅▆▄▅▄▆▆▇▇▇▆▇▆▇▇▇▆▇█▇▇▇██▇▆██▇███▇▇█</td></tr></table><br/></div><div class=\"wandb-col\"><h3>Run summary:</h3><br/><table class=\"wandb\"><tr><td>epoch</td><td>50</td></tr><tr><td>loss</td><td>0.53544</td></tr><tr><td>test_acc</td><td>0.69068</td></tr><tr><td>train_acc</td><td>0.75902</td></tr></table><br/></div></div>"
      ],
      "text/plain": [
       "<IPython.core.display.HTML object>"
      ]
     },
     "metadata": {},
     "output_type": "display_data"
    },
    {
     "data": {
      "text/html": [
       " View run <strong style=\"color:#cdcd00\">GCN_baseline_seed_6</strong> at: <a href='https://wandb.ai/noynetanel1-tel-aviv-university/GCN%20Graph%20classification%28DD%29_Gal/runs/6qxavz07' target=\"_blank\">https://wandb.ai/noynetanel1-tel-aviv-university/GCN%20Graph%20classification%28DD%29_Gal/runs/6qxavz07</a><br> View project at: <a href='https://wandb.ai/noynetanel1-tel-aviv-university/GCN%20Graph%20classification%28DD%29_Gal' target=\"_blank\">https://wandb.ai/noynetanel1-tel-aviv-university/GCN%20Graph%20classification%28DD%29_Gal</a><br>Synced 5 W&B file(s), 0 media file(s), 0 artifact file(s) and 0 other file(s)"
      ],
      "text/plain": [
       "<IPython.core.display.HTML object>"
      ]
     },
     "metadata": {},
     "output_type": "display_data"
    },
    {
     "data": {
      "text/html": [
       "Find logs at: <code>./wandb/run-20250822_193925-6qxavz07/logs</code>"
      ],
      "text/plain": [
       "<IPython.core.display.HTML object>"
      ]
     },
     "metadata": {},
     "output_type": "display_data"
    },
    {
     "data": {
      "text/html": [
       "Tracking run with wandb version 0.20.1"
      ],
      "text/plain": [
       "<IPython.core.display.HTML object>"
      ]
     },
     "metadata": {},
     "output_type": "display_data"
    },
    {
     "data": {
      "text/html": [
       "Run data is saved locally in <code>/kaggle/working/wandb/run-20250822_194103-mdvsy7sl</code>"
      ],
      "text/plain": [
       "<IPython.core.display.HTML object>"
      ]
     },
     "metadata": {},
     "output_type": "display_data"
    },
    {
     "data": {
      "text/html": [
       "Syncing run <strong><a href='https://wandb.ai/noynetanel1-tel-aviv-university/GCN%20Graph%20classification%28DD%29_Gal/runs/mdvsy7sl' target=\"_blank\">GCN_baseline_seed_7</a></strong> to <a href='https://wandb.ai/noynetanel1-tel-aviv-university/GCN%20Graph%20classification%28DD%29_Gal' target=\"_blank\">Weights & Biases</a> (<a href='https://wandb.me/developer-guide' target=\"_blank\">docs</a>)<br>"
      ],
      "text/plain": [
       "<IPython.core.display.HTML object>"
      ]
     },
     "metadata": {},
     "output_type": "display_data"
    },
    {
     "data": {
      "text/html": [
       " View project at <a href='https://wandb.ai/noynetanel1-tel-aviv-university/GCN%20Graph%20classification%28DD%29_Gal' target=\"_blank\">https://wandb.ai/noynetanel1-tel-aviv-university/GCN%20Graph%20classification%28DD%29_Gal</a>"
      ],
      "text/plain": [
       "<IPython.core.display.HTML object>"
      ]
     },
     "metadata": {},
     "output_type": "display_data"
    },
    {
     "data": {
      "text/html": [
       " View run at <a href='https://wandb.ai/noynetanel1-tel-aviv-university/GCN%20Graph%20classification%28DD%29_Gal/runs/mdvsy7sl' target=\"_blank\">https://wandb.ai/noynetanel1-tel-aviv-university/GCN%20Graph%20classification%28DD%29_Gal/runs/mdvsy7sl</a>"
      ],
      "text/plain": [
       "<IPython.core.display.HTML object>"
      ]
     },
     "metadata": {},
     "output_type": "display_data"
    },
    {
     "name": "stdout",
     "output_type": "stream",
     "text": [
      "Seed 7 | Epoch 001 | Loss: 0.6793 | Test Acc: 0.5678\n",
      "Seed 7 | Epoch 002 | Loss: 0.6759 | Test Acc: 0.5678\n",
      "Seed 7 | Epoch 003 | Loss: 0.6732 | Test Acc: 0.5678\n",
      "Seed 7 | Epoch 004 | Loss: 0.6680 | Test Acc: 0.5678\n",
      "Seed 7 | Epoch 005 | Loss: 0.6579 | Test Acc: 0.6144\n",
      "Seed 7 | Epoch 006 | Loss: 0.6419 | Test Acc: 0.6102\n",
      "Seed 7 | Epoch 007 | Loss: 0.6310 | Test Acc: 0.6780\n",
      "Seed 7 | Epoch 008 | Loss: 0.6153 | Test Acc: 0.7119\n",
      "Seed 7 | Epoch 009 | Loss: 0.6075 | Test Acc: 0.7034\n",
      "Seed 7 | Epoch 010 | Loss: 0.6004 | Test Acc: 0.6653\n",
      "Seed 7 | Epoch 011 | Loss: 0.5872 | Test Acc: 0.6737\n",
      "Seed 7 | Epoch 012 | Loss: 0.5973 | Test Acc: 0.6907\n",
      "Seed 7 | Epoch 013 | Loss: 0.5919 | Test Acc: 0.7034\n",
      "Seed 7 | Epoch 014 | Loss: 0.5799 | Test Acc: 0.6568\n",
      "Seed 7 | Epoch 015 | Loss: 0.5884 | Test Acc: 0.7119\n",
      "Seed 7 | Epoch 016 | Loss: 0.5741 | Test Acc: 0.7161\n",
      "Seed 7 | Epoch 017 | Loss: 0.5982 | Test Acc: 0.6822\n",
      "Seed 7 | Epoch 018 | Loss: 0.5725 | Test Acc: 0.7076\n",
      "Seed 7 | Epoch 019 | Loss: 0.5798 | Test Acc: 0.6568\n",
      "Seed 7 | Epoch 020 | Loss: 0.5723 | Test Acc: 0.7119\n",
      "Seed 7 | Epoch 021 | Loss: 0.5698 | Test Acc: 0.7119\n",
      "Seed 7 | Epoch 022 | Loss: 0.5713 | Test Acc: 0.7161\n",
      "Seed 7 | Epoch 023 | Loss: 0.5660 | Test Acc: 0.6653\n",
      "Seed 7 | Epoch 024 | Loss: 0.5790 | Test Acc: 0.6907\n",
      "Seed 7 | Epoch 025 | Loss: 0.5643 | Test Acc: 0.6907\n",
      "Seed 7 | Epoch 026 | Loss: 0.5686 | Test Acc: 0.6737\n",
      "Seed 7 | Epoch 027 | Loss: 0.5651 | Test Acc: 0.7076\n",
      "Seed 7 | Epoch 028 | Loss: 0.5671 | Test Acc: 0.7161\n",
      "Seed 7 | Epoch 029 | Loss: 0.5685 | Test Acc: 0.7076\n",
      "Seed 7 | Epoch 030 | Loss: 0.5699 | Test Acc: 0.6653\n",
      "Seed 7 | Epoch 031 | Loss: 0.5677 | Test Acc: 0.6949\n",
      "Seed 7 | Epoch 032 | Loss: 0.5599 | Test Acc: 0.6949\n",
      "Seed 7 | Epoch 033 | Loss: 0.5675 | Test Acc: 0.7119\n",
      "Seed 7 | Epoch 034 | Loss: 0.5626 | Test Acc: 0.6864\n",
      "Seed 7 | Epoch 035 | Loss: 0.5697 | Test Acc: 0.7119\n",
      "Seed 7 | Epoch 036 | Loss: 0.5631 | Test Acc: 0.7119\n",
      "Seed 7 | Epoch 037 | Loss: 0.5627 | Test Acc: 0.7034\n",
      "Seed 7 | Epoch 038 | Loss: 0.5570 | Test Acc: 0.7076\n",
      "Seed 7 | Epoch 039 | Loss: 0.5600 | Test Acc: 0.6737\n",
      "Seed 7 | Epoch 040 | Loss: 0.5545 | Test Acc: 0.7076\n",
      "Seed 7 | Epoch 041 | Loss: 0.5635 | Test Acc: 0.6992\n",
      "Seed 7 | Epoch 042 | Loss: 0.5583 | Test Acc: 0.6907\n",
      "Seed 7 | Epoch 043 | Loss: 0.5555 | Test Acc: 0.7119\n",
      "Seed 7 | Epoch 044 | Loss: 0.5536 | Test Acc: 0.7119\n",
      "Seed 7 | Epoch 045 | Loss: 0.5563 | Test Acc: 0.6949\n",
      "Seed 7 | Epoch 046 | Loss: 0.5545 | Test Acc: 0.7203\n",
      "Seed 7 | Epoch 047 | Loss: 0.5535 | Test Acc: 0.7119\n",
      "Seed 7 | Epoch 048 | Loss: 0.5508 | Test Acc: 0.7076\n",
      "Seed 7 | Epoch 049 | Loss: 0.5546 | Test Acc: 0.7034\n",
      "Seed 7 | Epoch 050 | Loss: 0.5459 | Test Acc: 0.6864\n"
     ]
    },
    {
     "data": {
      "text/html": [],
      "text/plain": [
       "<IPython.core.display.HTML object>"
      ]
     },
     "metadata": {},
     "output_type": "display_data"
    },
    {
     "data": {
      "text/html": [
       "<br>    <style><br>        .wandb-row {<br>            display: flex;<br>            flex-direction: row;<br>            flex-wrap: wrap;<br>            justify-content: flex-start;<br>            width: 100%;<br>        }<br>        .wandb-col {<br>            display: flex;<br>            flex-direction: column;<br>            flex-basis: 100%;<br>            flex: 1;<br>            padding: 10px;<br>        }<br>    </style><br><div class=\"wandb-row\"><div class=\"wandb-col\"><h3>Run history:</h3><br/><table class=\"wandb\"><tr><td>epoch</td><td>▁▁▁▁▂▂▂▂▂▂▃▃▃▃▃▄▄▄▄▄▄▅▅▅▅▅▅▆▆▆▆▇▇▇▇▇▇███</td></tr><tr><td>loss</td><td>███▆▅▄▄▃▄▃▃▂▄▂▃▂▂▂▃▂▂▂▂▂▂▂▂▂▂▂▂▁▂▂▂▂▁▁▁▁</td></tr><tr><td>test_acc</td><td>▁▁▁▁▃█▇▅▆▇▅██▆▇███▅▇▆▇█▇▅▇█▆██▇▆▇▇▇▇██▇▆</td></tr><tr><td>train_acc</td><td>▁▁▁▁▅▆▆▆▆▆▇▆▇▇▇▇▇▇▇█▇▇▇▇▆▇▇▇█▇█▇█▇██████</td></tr></table><br/></div><div class=\"wandb-col\"><h3>Run summary:</h3><br/><table class=\"wandb\"><tr><td>epoch</td><td>50</td></tr><tr><td>loss</td><td>0.5459</td></tr><tr><td>test_acc</td><td>0.68644</td></tr><tr><td>train_acc</td><td>0.74098</td></tr></table><br/></div></div>"
      ],
      "text/plain": [
       "<IPython.core.display.HTML object>"
      ]
     },
     "metadata": {},
     "output_type": "display_data"
    },
    {
     "data": {
      "text/html": [
       " View run <strong style=\"color:#cdcd00\">GCN_baseline_seed_7</strong> at: <a href='https://wandb.ai/noynetanel1-tel-aviv-university/GCN%20Graph%20classification%28DD%29_Gal/runs/mdvsy7sl' target=\"_blank\">https://wandb.ai/noynetanel1-tel-aviv-university/GCN%20Graph%20classification%28DD%29_Gal/runs/mdvsy7sl</a><br> View project at: <a href='https://wandb.ai/noynetanel1-tel-aviv-university/GCN%20Graph%20classification%28DD%29_Gal' target=\"_blank\">https://wandb.ai/noynetanel1-tel-aviv-university/GCN%20Graph%20classification%28DD%29_Gal</a><br>Synced 5 W&B file(s), 0 media file(s), 0 artifact file(s) and 0 other file(s)"
      ],
      "text/plain": [
       "<IPython.core.display.HTML object>"
      ]
     },
     "metadata": {},
     "output_type": "display_data"
    },
    {
     "data": {
      "text/html": [
       "Find logs at: <code>./wandb/run-20250822_194103-mdvsy7sl/logs</code>"
      ],
      "text/plain": [
       "<IPython.core.display.HTML object>"
      ]
     },
     "metadata": {},
     "output_type": "display_data"
    },
    {
     "data": {
      "text/html": [
       "Tracking run with wandb version 0.20.1"
      ],
      "text/plain": [
       "<IPython.core.display.HTML object>"
      ]
     },
     "metadata": {},
     "output_type": "display_data"
    },
    {
     "data": {
      "text/html": [
       "Run data is saved locally in <code>/kaggle/working/wandb/run-20250822_194243-161xl622</code>"
      ],
      "text/plain": [
       "<IPython.core.display.HTML object>"
      ]
     },
     "metadata": {},
     "output_type": "display_data"
    },
    {
     "data": {
      "text/html": [
       "Syncing run <strong><a href='https://wandb.ai/noynetanel1-tel-aviv-university/GCN%20Graph%20classification%28DD%29_Gal/runs/161xl622' target=\"_blank\">GCN_baseline_seed_8</a></strong> to <a href='https://wandb.ai/noynetanel1-tel-aviv-university/GCN%20Graph%20classification%28DD%29_Gal' target=\"_blank\">Weights & Biases</a> (<a href='https://wandb.me/developer-guide' target=\"_blank\">docs</a>)<br>"
      ],
      "text/plain": [
       "<IPython.core.display.HTML object>"
      ]
     },
     "metadata": {},
     "output_type": "display_data"
    },
    {
     "data": {
      "text/html": [
       " View project at <a href='https://wandb.ai/noynetanel1-tel-aviv-university/GCN%20Graph%20classification%28DD%29_Gal' target=\"_blank\">https://wandb.ai/noynetanel1-tel-aviv-university/GCN%20Graph%20classification%28DD%29_Gal</a>"
      ],
      "text/plain": [
       "<IPython.core.display.HTML object>"
      ]
     },
     "metadata": {},
     "output_type": "display_data"
    },
    {
     "data": {
      "text/html": [
       " View run at <a href='https://wandb.ai/noynetanel1-tel-aviv-university/GCN%20Graph%20classification%28DD%29_Gal/runs/161xl622' target=\"_blank\">https://wandb.ai/noynetanel1-tel-aviv-university/GCN%20Graph%20classification%28DD%29_Gal/runs/161xl622</a>"
      ],
      "text/plain": [
       "<IPython.core.display.HTML object>"
      ]
     },
     "metadata": {},
     "output_type": "display_data"
    },
    {
     "name": "stdout",
     "output_type": "stream",
     "text": [
      "Seed 8 | Epoch 001 | Loss: 0.6896 | Test Acc: 0.5551\n",
      "Seed 8 | Epoch 002 | Loss: 0.6725 | Test Acc: 0.5551\n",
      "Seed 8 | Epoch 003 | Loss: 0.6712 | Test Acc: 0.5551\n",
      "Seed 8 | Epoch 004 | Loss: 0.6705 | Test Acc: 0.5551\n",
      "Seed 8 | Epoch 005 | Loss: 0.6647 | Test Acc: 0.5593\n",
      "Seed 8 | Epoch 006 | Loss: 0.6575 | Test Acc: 0.5636\n",
      "Seed 8 | Epoch 007 | Loss: 0.6482 | Test Acc: 0.5636\n",
      "Seed 8 | Epoch 008 | Loss: 0.6403 | Test Acc: 0.6525\n",
      "Seed 8 | Epoch 009 | Loss: 0.6409 | Test Acc: 0.6144\n",
      "Seed 8 | Epoch 010 | Loss: 0.6253 | Test Acc: 0.6525\n",
      "Seed 8 | Epoch 011 | Loss: 0.6201 | Test Acc: 0.6780\n",
      "Seed 8 | Epoch 012 | Loss: 0.6050 | Test Acc: 0.6695\n",
      "Seed 8 | Epoch 013 | Loss: 0.6037 | Test Acc: 0.6483\n",
      "Seed 8 | Epoch 014 | Loss: 0.5988 | Test Acc: 0.6737\n",
      "Seed 8 | Epoch 015 | Loss: 0.5944 | Test Acc: 0.7161\n",
      "Seed 8 | Epoch 016 | Loss: 0.5972 | Test Acc: 0.7076\n",
      "Seed 8 | Epoch 017 | Loss: 0.5852 | Test Acc: 0.7034\n",
      "Seed 8 | Epoch 018 | Loss: 0.5869 | Test Acc: 0.6737\n",
      "Seed 8 | Epoch 019 | Loss: 0.5825 | Test Acc: 0.6525\n",
      "Seed 8 | Epoch 020 | Loss: 0.5777 | Test Acc: 0.7458\n",
      "Seed 8 | Epoch 021 | Loss: 0.5892 | Test Acc: 0.7373\n",
      "Seed 8 | Epoch 022 | Loss: 0.5846 | Test Acc: 0.7119\n",
      "Seed 8 | Epoch 023 | Loss: 0.5844 | Test Acc: 0.6992\n",
      "Seed 8 | Epoch 024 | Loss: 0.5831 | Test Acc: 0.7161\n",
      "Seed 8 | Epoch 025 | Loss: 0.5770 | Test Acc: 0.7246\n",
      "Seed 8 | Epoch 026 | Loss: 0.5775 | Test Acc: 0.7542\n",
      "Seed 8 | Epoch 027 | Loss: 0.5722 | Test Acc: 0.7373\n",
      "Seed 8 | Epoch 028 | Loss: 0.5699 | Test Acc: 0.7373\n",
      "Seed 8 | Epoch 029 | Loss: 0.5705 | Test Acc: 0.6992\n",
      "Seed 8 | Epoch 030 | Loss: 0.5738 | Test Acc: 0.7542\n",
      "Seed 8 | Epoch 031 | Loss: 0.5694 | Test Acc: 0.7712\n",
      "Seed 8 | Epoch 032 | Loss: 0.5635 | Test Acc: 0.7034\n",
      "Seed 8 | Epoch 033 | Loss: 0.5741 | Test Acc: 0.7458\n",
      "Seed 8 | Epoch 034 | Loss: 0.5661 | Test Acc: 0.7331\n",
      "Seed 8 | Epoch 035 | Loss: 0.5772 | Test Acc: 0.7500\n",
      "Seed 8 | Epoch 036 | Loss: 0.5746 | Test Acc: 0.7500\n",
      "Seed 8 | Epoch 037 | Loss: 0.5609 | Test Acc: 0.7542\n",
      "Seed 8 | Epoch 038 | Loss: 0.5703 | Test Acc: 0.7076\n",
      "Seed 8 | Epoch 039 | Loss: 0.5670 | Test Acc: 0.7542\n",
      "Seed 8 | Epoch 040 | Loss: 0.5613 | Test Acc: 0.7500\n",
      "Seed 8 | Epoch 041 | Loss: 0.5577 | Test Acc: 0.7500\n",
      "Seed 8 | Epoch 042 | Loss: 0.5591 | Test Acc: 0.7712\n",
      "Seed 8 | Epoch 043 | Loss: 0.5628 | Test Acc: 0.7542\n",
      "Seed 8 | Epoch 044 | Loss: 0.5626 | Test Acc: 0.7542\n",
      "Seed 8 | Epoch 045 | Loss: 0.5575 | Test Acc: 0.7500\n",
      "Seed 8 | Epoch 046 | Loss: 0.5678 | Test Acc: 0.6907\n",
      "Seed 8 | Epoch 047 | Loss: 0.5630 | Test Acc: 0.7542\n",
      "Seed 8 | Epoch 048 | Loss: 0.5562 | Test Acc: 0.7712\n",
      "Seed 8 | Epoch 049 | Loss: 0.5571 | Test Acc: 0.6992\n",
      "Seed 8 | Epoch 050 | Loss: 0.5538 | Test Acc: 0.7585\n"
     ]
    },
    {
     "data": {
      "text/html": [],
      "text/plain": [
       "<IPython.core.display.HTML object>"
      ]
     },
     "metadata": {},
     "output_type": "display_data"
    },
    {
     "data": {
      "text/html": [
       "<br>    <style><br>        .wandb-row {<br>            display: flex;<br>            flex-direction: row;<br>            flex-wrap: wrap;<br>            justify-content: flex-start;<br>            width: 100%;<br>        }<br>        .wandb-col {<br>            display: flex;<br>            flex-direction: column;<br>            flex-basis: 100%;<br>            flex: 1;<br>            padding: 10px;<br>        }<br>    </style><br><div class=\"wandb-row\"><div class=\"wandb-col\"><h3>Run history:</h3><br/><table class=\"wandb\"><tr><td>epoch</td><td>▁▁▁▁▂▂▂▂▂▂▃▃▃▃▃▄▄▄▄▄▅▅▅▅▅▅▆▆▆▆▆▇▇▇▇▇▇███</td></tr><tr><td>loss</td><td>█▇▇▇▇▆▅▅▅▄▄▃▃▃▃▂▂▃▃▃▂▂▂▂▂▂▂▂▂▂▂▁▁▁▁▁▂▁▁▁</td></tr><tr><td>test_acc</td><td>▁▁▁▁▁▁▄▃▄▅▄▅▆▆▅▇▇▆▆▆▇▇▆▇█▇▇▇▇▇▇▇▇█▇▇▅▇██</td></tr><tr><td>train_acc</td><td>▁▁▁▁▂▂▆▅▆▆▆▇▇▇▇▆▇▇▇▇█▇▇▇█▇▇███▇██████▇▇█</td></tr></table><br/></div><div class=\"wandb-col\"><h3>Run summary:</h3><br/><table class=\"wandb\"><tr><td>epoch</td><td>50</td></tr><tr><td>loss</td><td>0.55379</td></tr><tr><td>test_acc</td><td>0.75847</td></tr><tr><td>train_acc</td><td>0.73567</td></tr></table><br/></div></div>"
      ],
      "text/plain": [
       "<IPython.core.display.HTML object>"
      ]
     },
     "metadata": {},
     "output_type": "display_data"
    },
    {
     "data": {
      "text/html": [
       " View run <strong style=\"color:#cdcd00\">GCN_baseline_seed_8</strong> at: <a href='https://wandb.ai/noynetanel1-tel-aviv-university/GCN%20Graph%20classification%28DD%29_Gal/runs/161xl622' target=\"_blank\">https://wandb.ai/noynetanel1-tel-aviv-university/GCN%20Graph%20classification%28DD%29_Gal/runs/161xl622</a><br> View project at: <a href='https://wandb.ai/noynetanel1-tel-aviv-university/GCN%20Graph%20classification%28DD%29_Gal' target=\"_blank\">https://wandb.ai/noynetanel1-tel-aviv-university/GCN%20Graph%20classification%28DD%29_Gal</a><br>Synced 5 W&B file(s), 0 media file(s), 0 artifact file(s) and 0 other file(s)"
      ],
      "text/plain": [
       "<IPython.core.display.HTML object>"
      ]
     },
     "metadata": {},
     "output_type": "display_data"
    },
    {
     "data": {
      "text/html": [
       "Find logs at: <code>./wandb/run-20250822_194243-161xl622/logs</code>"
      ],
      "text/plain": [
       "<IPython.core.display.HTML object>"
      ]
     },
     "metadata": {},
     "output_type": "display_data"
    },
    {
     "data": {
      "text/html": [
       "Tracking run with wandb version 0.20.1"
      ],
      "text/plain": [
       "<IPython.core.display.HTML object>"
      ]
     },
     "metadata": {},
     "output_type": "display_data"
    },
    {
     "data": {
      "text/html": [
       "Run data is saved locally in <code>/kaggle/working/wandb/run-20250822_194429-rsjl9w1s</code>"
      ],
      "text/plain": [
       "<IPython.core.display.HTML object>"
      ]
     },
     "metadata": {},
     "output_type": "display_data"
    },
    {
     "data": {
      "text/html": [
       "Syncing run <strong><a href='https://wandb.ai/noynetanel1-tel-aviv-university/GCN%20Graph%20classification%28DD%29_Gal/runs/rsjl9w1s' target=\"_blank\">GCN_baseline_seed_9</a></strong> to <a href='https://wandb.ai/noynetanel1-tel-aviv-university/GCN%20Graph%20classification%28DD%29_Gal' target=\"_blank\">Weights & Biases</a> (<a href='https://wandb.me/developer-guide' target=\"_blank\">docs</a>)<br>"
      ],
      "text/plain": [
       "<IPython.core.display.HTML object>"
      ]
     },
     "metadata": {},
     "output_type": "display_data"
    },
    {
     "data": {
      "text/html": [
       " View project at <a href='https://wandb.ai/noynetanel1-tel-aviv-university/GCN%20Graph%20classification%28DD%29_Gal' target=\"_blank\">https://wandb.ai/noynetanel1-tel-aviv-university/GCN%20Graph%20classification%28DD%29_Gal</a>"
      ],
      "text/plain": [
       "<IPython.core.display.HTML object>"
      ]
     },
     "metadata": {},
     "output_type": "display_data"
    },
    {
     "data": {
      "text/html": [
       " View run at <a href='https://wandb.ai/noynetanel1-tel-aviv-university/GCN%20Graph%20classification%28DD%29_Gal/runs/rsjl9w1s' target=\"_blank\">https://wandb.ai/noynetanel1-tel-aviv-university/GCN%20Graph%20classification%28DD%29_Gal/runs/rsjl9w1s</a>"
      ],
      "text/plain": [
       "<IPython.core.display.HTML object>"
      ]
     },
     "metadata": {},
     "output_type": "display_data"
    },
    {
     "name": "stdout",
     "output_type": "stream",
     "text": [
      "Seed 9 | Epoch 001 | Loss: 0.6784 | Test Acc: 0.6017\n",
      "Seed 9 | Epoch 002 | Loss: 0.6764 | Test Acc: 0.6017\n",
      "Seed 9 | Epoch 003 | Loss: 0.6750 | Test Acc: 0.6017\n",
      "Seed 9 | Epoch 004 | Loss: 0.6660 | Test Acc: 0.6525\n",
      "Seed 9 | Epoch 005 | Loss: 0.6601 | Test Acc: 0.6907\n",
      "Seed 9 | Epoch 006 | Loss: 0.6465 | Test Acc: 0.6610\n",
      "Seed 9 | Epoch 007 | Loss: 0.6256 | Test Acc: 0.6992\n",
      "Seed 9 | Epoch 008 | Loss: 0.6163 | Test Acc: 0.6695\n",
      "Seed 9 | Epoch 009 | Loss: 0.6152 | Test Acc: 0.7076\n",
      "Seed 9 | Epoch 010 | Loss: 0.5988 | Test Acc: 0.7076\n",
      "Seed 9 | Epoch 011 | Loss: 0.5995 | Test Acc: 0.7076\n",
      "Seed 9 | Epoch 012 | Loss: 0.5945 | Test Acc: 0.7161\n",
      "Seed 9 | Epoch 013 | Loss: 0.5902 | Test Acc: 0.7119\n",
      "Seed 9 | Epoch 014 | Loss: 0.6019 | Test Acc: 0.6398\n",
      "Seed 9 | Epoch 015 | Loss: 0.5898 | Test Acc: 0.7161\n",
      "Seed 9 | Epoch 016 | Loss: 0.5954 | Test Acc: 0.7161\n",
      "Seed 9 | Epoch 017 | Loss: 0.5827 | Test Acc: 0.6992\n",
      "Seed 9 | Epoch 018 | Loss: 0.5833 | Test Acc: 0.6822\n",
      "Seed 9 | Epoch 019 | Loss: 0.5997 | Test Acc: 0.7161\n",
      "Seed 9 | Epoch 020 | Loss: 0.5782 | Test Acc: 0.6907\n",
      "Seed 9 | Epoch 021 | Loss: 0.5817 | Test Acc: 0.7119\n",
      "Seed 9 | Epoch 022 | Loss: 0.5805 | Test Acc: 0.7246\n",
      "Seed 9 | Epoch 023 | Loss: 0.5732 | Test Acc: 0.7161\n",
      "Seed 9 | Epoch 024 | Loss: 0.5713 | Test Acc: 0.7119\n",
      "Seed 9 | Epoch 025 | Loss: 0.5713 | Test Acc: 0.7034\n",
      "Seed 9 | Epoch 026 | Loss: 0.5950 | Test Acc: 0.7076\n",
      "Seed 9 | Epoch 027 | Loss: 0.5735 | Test Acc: 0.7203\n",
      "Seed 9 | Epoch 028 | Loss: 0.5722 | Test Acc: 0.7034\n",
      "Seed 9 | Epoch 029 | Loss: 0.5744 | Test Acc: 0.7034\n",
      "Seed 9 | Epoch 030 | Loss: 0.5651 | Test Acc: 0.6992\n",
      "Seed 9 | Epoch 031 | Loss: 0.5684 | Test Acc: 0.7119\n",
      "Seed 9 | Epoch 032 | Loss: 0.5691 | Test Acc: 0.7076\n",
      "Seed 9 | Epoch 033 | Loss: 0.5737 | Test Acc: 0.6610\n",
      "Seed 9 | Epoch 034 | Loss: 0.5730 | Test Acc: 0.7076\n",
      "Seed 9 | Epoch 035 | Loss: 0.5704 | Test Acc: 0.7119\n",
      "Seed 9 | Epoch 036 | Loss: 0.5691 | Test Acc: 0.7119\n",
      "Seed 9 | Epoch 037 | Loss: 0.5695 | Test Acc: 0.7119\n",
      "Seed 9 | Epoch 038 | Loss: 0.5608 | Test Acc: 0.7161\n",
      "Seed 9 | Epoch 039 | Loss: 0.5649 | Test Acc: 0.7076\n",
      "Seed 9 | Epoch 040 | Loss: 0.5612 | Test Acc: 0.7246\n",
      "Seed 9 | Epoch 041 | Loss: 0.5612 | Test Acc: 0.6864\n",
      "Seed 9 | Epoch 042 | Loss: 0.5658 | Test Acc: 0.7076\n",
      "Seed 9 | Epoch 043 | Loss: 0.5576 | Test Acc: 0.7076\n",
      "Seed 9 | Epoch 044 | Loss: 0.5663 | Test Acc: 0.7076\n",
      "Seed 9 | Epoch 045 | Loss: 0.5585 | Test Acc: 0.7119\n",
      "Seed 9 | Epoch 046 | Loss: 0.5534 | Test Acc: 0.7076\n",
      "Seed 9 | Epoch 047 | Loss: 0.5551 | Test Acc: 0.7076\n",
      "Seed 9 | Epoch 048 | Loss: 0.5552 | Test Acc: 0.7076\n",
      "Seed 9 | Epoch 049 | Loss: 0.5477 | Test Acc: 0.7203\n",
      "Seed 9 | Epoch 050 | Loss: 0.5625 | Test Acc: 0.7034\n"
     ]
    },
    {
     "data": {
      "text/html": [],
      "text/plain": [
       "<IPython.core.display.HTML object>"
      ]
     },
     "metadata": {},
     "output_type": "display_data"
    },
    {
     "data": {
      "text/html": [
       "<br>    <style><br>        .wandb-row {<br>            display: flex;<br>            flex-direction: row;<br>            flex-wrap: wrap;<br>            justify-content: flex-start;<br>            width: 100%;<br>        }<br>        .wandb-col {<br>            display: flex;<br>            flex-direction: column;<br>            flex-basis: 100%;<br>            flex: 1;<br>            padding: 10px;<br>        }<br>    </style><br><div class=\"wandb-row\"><div class=\"wandb-col\"><h3>Run history:</h3><br/><table class=\"wandb\"><tr><td>epoch</td><td>▁▁▁▁▂▂▂▂▂▃▃▃▃▃▃▄▄▄▄▄▅▅▅▅▅▆▆▆▆▆▆▇▇▇▇▇▇███</td></tr><tr><td>loss</td><td>███▇▇▅▅▄▄▄▄▃▃▃▃▃▃▂▂▂▂▂▂▂▂▂▂▂▂▂▂▁▁▂▁▁▁▁▁▂</td></tr><tr><td>test_acc</td><td>▁▁▁▄▆▇▅▇▇█▃██▇▆▆██▇▇█▇▇▇▇▄▇▇▇▇▇█▆▇▇▇▇▇▇▇</td></tr><tr><td>train_acc</td><td>▁▁▄▅▅▅▇▆▇▇▅▇▇█▇█▇█▇██████▆▇████▇████████</td></tr></table><br/></div><div class=\"wandb-col\"><h3>Run summary:</h3><br/><table class=\"wandb\"><tr><td>epoch</td><td>50</td></tr><tr><td>loss</td><td>0.56246</td></tr><tr><td>test_acc</td><td>0.70339</td></tr><tr><td>train_acc</td><td>0.74204</td></tr></table><br/></div></div>"
      ],
      "text/plain": [
       "<IPython.core.display.HTML object>"
      ]
     },
     "metadata": {},
     "output_type": "display_data"
    },
    {
     "data": {
      "text/html": [
       " View run <strong style=\"color:#cdcd00\">GCN_baseline_seed_9</strong> at: <a href='https://wandb.ai/noynetanel1-tel-aviv-university/GCN%20Graph%20classification%28DD%29_Gal/runs/rsjl9w1s' target=\"_blank\">https://wandb.ai/noynetanel1-tel-aviv-university/GCN%20Graph%20classification%28DD%29_Gal/runs/rsjl9w1s</a><br> View project at: <a href='https://wandb.ai/noynetanel1-tel-aviv-university/GCN%20Graph%20classification%28DD%29_Gal' target=\"_blank\">https://wandb.ai/noynetanel1-tel-aviv-university/GCN%20Graph%20classification%28DD%29_Gal</a><br>Synced 5 W&B file(s), 0 media file(s), 0 artifact file(s) and 0 other file(s)"
      ],
      "text/plain": [
       "<IPython.core.display.HTML object>"
      ]
     },
     "metadata": {},
     "output_type": "display_data"
    },
    {
     "data": {
      "text/html": [
       "Find logs at: <code>./wandb/run-20250822_194429-rsjl9w1s/logs</code>"
      ],
      "text/plain": [
       "<IPython.core.display.HTML object>"
      ]
     },
     "metadata": {},
     "output_type": "display_data"
    },
    {
     "data": {
      "text/html": [
       "Tracking run with wandb version 0.20.1"
      ],
      "text/plain": [
       "<IPython.core.display.HTML object>"
      ]
     },
     "metadata": {},
     "output_type": "display_data"
    },
    {
     "data": {
      "text/html": [
       "Run data is saved locally in <code>/kaggle/working/wandb/run-20250822_194608-eyyaatn3</code>"
      ],
      "text/plain": [
       "<IPython.core.display.HTML object>"
      ]
     },
     "metadata": {},
     "output_type": "display_data"
    },
    {
     "data": {
      "text/html": [
       "Syncing run <strong><a href='https://wandb.ai/noynetanel1-tel-aviv-university/GCN%20Graph%20classification%28DD%29_Gal/runs/eyyaatn3' target=\"_blank\">GCN_baseline_seed_10</a></strong> to <a href='https://wandb.ai/noynetanel1-tel-aviv-university/GCN%20Graph%20classification%28DD%29_Gal' target=\"_blank\">Weights & Biases</a> (<a href='https://wandb.me/developer-guide' target=\"_blank\">docs</a>)<br>"
      ],
      "text/plain": [
       "<IPython.core.display.HTML object>"
      ]
     },
     "metadata": {},
     "output_type": "display_data"
    },
    {
     "data": {
      "text/html": [
       " View project at <a href='https://wandb.ai/noynetanel1-tel-aviv-university/GCN%20Graph%20classification%28DD%29_Gal' target=\"_blank\">https://wandb.ai/noynetanel1-tel-aviv-university/GCN%20Graph%20classification%28DD%29_Gal</a>"
      ],
      "text/plain": [
       "<IPython.core.display.HTML object>"
      ]
     },
     "metadata": {},
     "output_type": "display_data"
    },
    {
     "data": {
      "text/html": [
       " View run at <a href='https://wandb.ai/noynetanel1-tel-aviv-university/GCN%20Graph%20classification%28DD%29_Gal/runs/eyyaatn3' target=\"_blank\">https://wandb.ai/noynetanel1-tel-aviv-university/GCN%20Graph%20classification%28DD%29_Gal/runs/eyyaatn3</a>"
      ],
      "text/plain": [
       "<IPython.core.display.HTML object>"
      ]
     },
     "metadata": {},
     "output_type": "display_data"
    },
    {
     "name": "stdout",
     "output_type": "stream",
     "text": [
      "Seed 10 | Epoch 001 | Loss: 0.6768 | Test Acc: 0.5297\n",
      "Seed 10 | Epoch 002 | Loss: 0.6684 | Test Acc: 0.5297\n",
      "Seed 10 | Epoch 003 | Loss: 0.6693 | Test Acc: 0.5297\n",
      "Seed 10 | Epoch 004 | Loss: 0.6626 | Test Acc: 0.5297\n",
      "Seed 10 | Epoch 005 | Loss: 0.6578 | Test Acc: 0.5381\n",
      "Seed 10 | Epoch 006 | Loss: 0.6513 | Test Acc: 0.5593\n",
      "Seed 10 | Epoch 007 | Loss: 0.6362 | Test Acc: 0.6144\n",
      "Seed 10 | Epoch 008 | Loss: 0.6210 | Test Acc: 0.6695\n",
      "Seed 10 | Epoch 009 | Loss: 0.6095 | Test Acc: 0.6695\n",
      "Seed 10 | Epoch 010 | Loss: 0.5975 | Test Acc: 0.6483\n",
      "Seed 10 | Epoch 011 | Loss: 0.5865 | Test Acc: 0.6568\n",
      "Seed 10 | Epoch 012 | Loss: 0.5829 | Test Acc: 0.6568\n",
      "Seed 10 | Epoch 013 | Loss: 0.5852 | Test Acc: 0.6525\n",
      "Seed 10 | Epoch 014 | Loss: 0.5803 | Test Acc: 0.6398\n",
      "Seed 10 | Epoch 015 | Loss: 0.5811 | Test Acc: 0.6780\n",
      "Seed 10 | Epoch 016 | Loss: 0.5715 | Test Acc: 0.6483\n",
      "Seed 10 | Epoch 017 | Loss: 0.5741 | Test Acc: 0.6737\n",
      "Seed 10 | Epoch 018 | Loss: 0.5719 | Test Acc: 0.6737\n",
      "Seed 10 | Epoch 019 | Loss: 0.5783 | Test Acc: 0.6737\n",
      "Seed 10 | Epoch 020 | Loss: 0.5709 | Test Acc: 0.6864\n",
      "Seed 10 | Epoch 021 | Loss: 0.5649 | Test Acc: 0.6568\n",
      "Seed 10 | Epoch 022 | Loss: 0.5700 | Test Acc: 0.6822\n",
      "Seed 10 | Epoch 023 | Loss: 0.5701 | Test Acc: 0.6568\n",
      "Seed 10 | Epoch 024 | Loss: 0.5673 | Test Acc: 0.6653\n",
      "Seed 10 | Epoch 025 | Loss: 0.5667 | Test Acc: 0.6653\n",
      "Seed 10 | Epoch 026 | Loss: 0.5624 | Test Acc: 0.6695\n",
      "Seed 10 | Epoch 027 | Loss: 0.5758 | Test Acc: 0.6441\n",
      "Seed 10 | Epoch 028 | Loss: 0.5628 | Test Acc: 0.6864\n",
      "Seed 10 | Epoch 029 | Loss: 0.5595 | Test Acc: 0.6653\n",
      "Seed 10 | Epoch 030 | Loss: 0.5647 | Test Acc: 0.6907\n",
      "Seed 10 | Epoch 031 | Loss: 0.5627 | Test Acc: 0.6737\n",
      "Seed 10 | Epoch 032 | Loss: 0.5665 | Test Acc: 0.6780\n",
      "Seed 10 | Epoch 033 | Loss: 0.5569 | Test Acc: 0.6398\n",
      "Seed 10 | Epoch 034 | Loss: 0.5584 | Test Acc: 0.6949\n",
      "Seed 10 | Epoch 035 | Loss: 0.5574 | Test Acc: 0.6610\n",
      "Seed 10 | Epoch 036 | Loss: 0.5613 | Test Acc: 0.6864\n",
      "Seed 10 | Epoch 037 | Loss: 0.5523 | Test Acc: 0.6483\n",
      "Seed 10 | Epoch 038 | Loss: 0.5536 | Test Acc: 0.6907\n",
      "Seed 10 | Epoch 039 | Loss: 0.5553 | Test Acc: 0.6822\n",
      "Seed 10 | Epoch 040 | Loss: 0.5487 | Test Acc: 0.6610\n",
      "Seed 10 | Epoch 041 | Loss: 0.5461 | Test Acc: 0.6610\n",
      "Seed 10 | Epoch 042 | Loss: 0.5573 | Test Acc: 0.6568\n",
      "Seed 10 | Epoch 043 | Loss: 0.5510 | Test Acc: 0.6780\n",
      "Seed 10 | Epoch 044 | Loss: 0.5524 | Test Acc: 0.6864\n",
      "Seed 10 | Epoch 045 | Loss: 0.5480 | Test Acc: 0.6992\n",
      "Seed 10 | Epoch 046 | Loss: 0.5472 | Test Acc: 0.6568\n",
      "Seed 10 | Epoch 047 | Loss: 0.5530 | Test Acc: 0.6314\n",
      "Seed 10 | Epoch 048 | Loss: 0.5554 | Test Acc: 0.6822\n",
      "Seed 10 | Epoch 049 | Loss: 0.5462 | Test Acc: 0.6949\n",
      "Seed 10 | Epoch 050 | Loss: 0.5473 | Test Acc: 0.6610\n"
     ]
    },
    {
     "data": {
      "text/html": [],
      "text/plain": [
       "<IPython.core.display.HTML object>"
      ]
     },
     "metadata": {},
     "output_type": "display_data"
    },
    {
     "data": {
      "text/html": [
       "<br>    <style><br>        .wandb-row {<br>            display: flex;<br>            flex-direction: row;<br>            flex-wrap: wrap;<br>            justify-content: flex-start;<br>            width: 100%;<br>        }<br>        .wandb-col {<br>            display: flex;<br>            flex-direction: column;<br>            flex-basis: 100%;<br>            flex: 1;<br>            padding: 10px;<br>        }<br>    </style><br><div class=\"wandb-row\"><div class=\"wandb-col\"><h3>Run history:</h3><br/><table class=\"wandb\"><tr><td>epoch</td><td>▁▁▁▁▂▂▂▂▂▃▃▃▃▃▃▄▄▄▄▄▅▅▅▅▅▅▆▆▆▆▆▇▇▇▇▇▇███</td></tr><tr><td>loss</td><td>███▇▇▅▄▄▃▃▃▃▂▂▂▂▂▂▂▂▂▃▂▂▂▂▂▂▂▂▁▁▁▂▁▁▁▁▁▁</td></tr><tr><td>test_acc</td><td>▁▁▁▁▁▅▇▇▆▆▆▆▇▆▇▇▇▆▇▆▇▇▇▇█▇▆█▆▇█▇▆▆▆▇█▆▅█</td></tr><tr><td>train_acc</td><td>▁▁▁▁▁▆▇▆▇▇▆▇▇██████▇▇█▇▇▇▇███▇▇█████▅▇██</td></tr></table><br/></div><div class=\"wandb-col\"><h3>Run summary:</h3><br/><table class=\"wandb\"><tr><td>epoch</td><td>50</td></tr><tr><td>loss</td><td>0.54728</td></tr><tr><td>test_acc</td><td>0.66102</td></tr><tr><td>train_acc</td><td>0.74204</td></tr></table><br/></div></div>"
      ],
      "text/plain": [
       "<IPython.core.display.HTML object>"
      ]
     },
     "metadata": {},
     "output_type": "display_data"
    },
    {
     "data": {
      "text/html": [
       " View run <strong style=\"color:#cdcd00\">GCN_baseline_seed_10</strong> at: <a href='https://wandb.ai/noynetanel1-tel-aviv-university/GCN%20Graph%20classification%28DD%29_Gal/runs/eyyaatn3' target=\"_blank\">https://wandb.ai/noynetanel1-tel-aviv-university/GCN%20Graph%20classification%28DD%29_Gal/runs/eyyaatn3</a><br> View project at: <a href='https://wandb.ai/noynetanel1-tel-aviv-university/GCN%20Graph%20classification%28DD%29_Gal' target=\"_blank\">https://wandb.ai/noynetanel1-tel-aviv-university/GCN%20Graph%20classification%28DD%29_Gal</a><br>Synced 5 W&B file(s), 0 media file(s), 0 artifact file(s) and 0 other file(s)"
      ],
      "text/plain": [
       "<IPython.core.display.HTML object>"
      ]
     },
     "metadata": {},
     "output_type": "display_data"
    },
    {
     "data": {
      "text/html": [
       "Find logs at: <code>./wandb/run-20250822_194608-eyyaatn3/logs</code>"
      ],
      "text/plain": [
       "<IPython.core.display.HTML object>"
      ]
     },
     "metadata": {},
     "output_type": "display_data"
    },
    {
     "data": {
      "text/html": [
       "Tracking run with wandb version 0.20.1"
      ],
      "text/plain": [
       "<IPython.core.display.HTML object>"
      ]
     },
     "metadata": {},
     "output_type": "display_data"
    },
    {
     "data": {
      "text/html": [
       "Run data is saved locally in <code>/kaggle/working/wandb/run-20250822_194744-n8ifws4i</code>"
      ],
      "text/plain": [
       "<IPython.core.display.HTML object>"
      ]
     },
     "metadata": {},
     "output_type": "display_data"
    },
    {
     "data": {
      "text/html": [
       "Syncing run <strong><a href='https://wandb.ai/noynetanel1-tel-aviv-university/GCN%20Graph%20classification%28DD%29_Gal/runs/n8ifws4i' target=\"_blank\">GCN_baseline_seed_11</a></strong> to <a href='https://wandb.ai/noynetanel1-tel-aviv-university/GCN%20Graph%20classification%28DD%29_Gal' target=\"_blank\">Weights & Biases</a> (<a href='https://wandb.me/developer-guide' target=\"_blank\">docs</a>)<br>"
      ],
      "text/plain": [
       "<IPython.core.display.HTML object>"
      ]
     },
     "metadata": {},
     "output_type": "display_data"
    },
    {
     "data": {
      "text/html": [
       " View project at <a href='https://wandb.ai/noynetanel1-tel-aviv-university/GCN%20Graph%20classification%28DD%29_Gal' target=\"_blank\">https://wandb.ai/noynetanel1-tel-aviv-university/GCN%20Graph%20classification%28DD%29_Gal</a>"
      ],
      "text/plain": [
       "<IPython.core.display.HTML object>"
      ]
     },
     "metadata": {},
     "output_type": "display_data"
    },
    {
     "data": {
      "text/html": [
       " View run at <a href='https://wandb.ai/noynetanel1-tel-aviv-university/GCN%20Graph%20classification%28DD%29_Gal/runs/n8ifws4i' target=\"_blank\">https://wandb.ai/noynetanel1-tel-aviv-university/GCN%20Graph%20classification%28DD%29_Gal/runs/n8ifws4i</a>"
      ],
      "text/plain": [
       "<IPython.core.display.HTML object>"
      ]
     },
     "metadata": {},
     "output_type": "display_data"
    },
    {
     "name": "stdout",
     "output_type": "stream",
     "text": [
      "Seed 11 | Epoch 001 | Loss: 0.6931 | Test Acc: 0.6271\n",
      "Seed 11 | Epoch 002 | Loss: 0.6809 | Test Acc: 0.6271\n",
      "Seed 11 | Epoch 003 | Loss: 0.6803 | Test Acc: 0.6271\n",
      "Seed 11 | Epoch 004 | Loss: 0.6747 | Test Acc: 0.6271\n",
      "Seed 11 | Epoch 005 | Loss: 0.6675 | Test Acc: 0.6271\n",
      "Seed 11 | Epoch 006 | Loss: 0.6588 | Test Acc: 0.5127\n",
      "Seed 11 | Epoch 007 | Loss: 0.6460 | Test Acc: 0.7034\n",
      "Seed 11 | Epoch 008 | Loss: 0.6358 | Test Acc: 0.7161\n",
      "Seed 11 | Epoch 009 | Loss: 0.6136 | Test Acc: 0.7246\n",
      "Seed 11 | Epoch 010 | Loss: 0.5993 | Test Acc: 0.7161\n",
      "Seed 11 | Epoch 011 | Loss: 0.5907 | Test Acc: 0.7203\n",
      "Seed 11 | Epoch 012 | Loss: 0.5893 | Test Acc: 0.7288\n",
      "Seed 11 | Epoch 013 | Loss: 0.5883 | Test Acc: 0.7246\n",
      "Seed 11 | Epoch 014 | Loss: 0.5809 | Test Acc: 0.6907\n",
      "Seed 11 | Epoch 015 | Loss: 0.5795 | Test Acc: 0.6864\n",
      "Seed 11 | Epoch 016 | Loss: 0.5765 | Test Acc: 0.7288\n",
      "Seed 11 | Epoch 017 | Loss: 0.5727 | Test Acc: 0.7331\n",
      "Seed 11 | Epoch 018 | Loss: 0.5732 | Test Acc: 0.7246\n",
      "Seed 11 | Epoch 019 | Loss: 0.5763 | Test Acc: 0.7288\n",
      "Seed 11 | Epoch 020 | Loss: 0.5734 | Test Acc: 0.7288\n",
      "Seed 11 | Epoch 021 | Loss: 0.5654 | Test Acc: 0.5932\n",
      "Seed 11 | Epoch 022 | Loss: 0.5748 | Test Acc: 0.7331\n",
      "Seed 11 | Epoch 023 | Loss: 0.5685 | Test Acc: 0.7203\n",
      "Seed 11 | Epoch 024 | Loss: 0.5680 | Test Acc: 0.7288\n",
      "Seed 11 | Epoch 025 | Loss: 0.5803 | Test Acc: 0.6186\n",
      "Seed 11 | Epoch 026 | Loss: 0.5751 | Test Acc: 0.6992\n",
      "Seed 11 | Epoch 027 | Loss: 0.5618 | Test Acc: 0.7076\n",
      "Seed 11 | Epoch 028 | Loss: 0.5672 | Test Acc: 0.7203\n",
      "Seed 11 | Epoch 029 | Loss: 0.5681 | Test Acc: 0.7288\n",
      "Seed 11 | Epoch 030 | Loss: 0.5640 | Test Acc: 0.7034\n",
      "Seed 11 | Epoch 031 | Loss: 0.5611 | Test Acc: 0.7288\n",
      "Seed 11 | Epoch 032 | Loss: 0.5556 | Test Acc: 0.6907\n",
      "Seed 11 | Epoch 033 | Loss: 0.5591 | Test Acc: 0.6907\n",
      "Seed 11 | Epoch 034 | Loss: 0.5607 | Test Acc: 0.7373\n",
      "Seed 11 | Epoch 035 | Loss: 0.5683 | Test Acc: 0.7373\n",
      "Seed 11 | Epoch 036 | Loss: 0.5521 | Test Acc: 0.7373\n",
      "Seed 11 | Epoch 037 | Loss: 0.5514 | Test Acc: 0.7034\n",
      "Seed 11 | Epoch 038 | Loss: 0.5528 | Test Acc: 0.7331\n",
      "Seed 11 | Epoch 039 | Loss: 0.5552 | Test Acc: 0.7246\n",
      "Seed 11 | Epoch 040 | Loss: 0.5486 | Test Acc: 0.7246\n",
      "Seed 11 | Epoch 041 | Loss: 0.5543 | Test Acc: 0.7161\n",
      "Seed 11 | Epoch 042 | Loss: 0.5479 | Test Acc: 0.7288\n",
      "Seed 11 | Epoch 043 | Loss: 0.5455 | Test Acc: 0.7288\n",
      "Seed 11 | Epoch 044 | Loss: 0.5500 | Test Acc: 0.7034\n",
      "Seed 11 | Epoch 045 | Loss: 0.5474 | Test Acc: 0.7415\n",
      "Seed 11 | Epoch 046 | Loss: 0.5476 | Test Acc: 0.7161\n",
      "Seed 11 | Epoch 047 | Loss: 0.5392 | Test Acc: 0.7288\n",
      "Seed 11 | Epoch 048 | Loss: 0.5452 | Test Acc: 0.7203\n",
      "Seed 11 | Epoch 049 | Loss: 0.5415 | Test Acc: 0.6483\n",
      "Seed 11 | Epoch 050 | Loss: 0.5385 | Test Acc: 0.7161\n"
     ]
    },
    {
     "data": {
      "text/html": [],
      "text/plain": [
       "<IPython.core.display.HTML object>"
      ]
     },
     "metadata": {},
     "output_type": "display_data"
    },
    {
     "data": {
      "text/html": [
       "<br>    <style><br>        .wandb-row {<br>            display: flex;<br>            flex-direction: row;<br>            flex-wrap: wrap;<br>            justify-content: flex-start;<br>            width: 100%;<br>        }<br>        .wandb-col {<br>            display: flex;<br>            flex-direction: column;<br>            flex-basis: 100%;<br>            flex: 1;<br>            padding: 10px;<br>        }<br>    </style><br><div class=\"wandb-row\"><div class=\"wandb-col\"><h3>Run history:</h3><br/><table class=\"wandb\"><tr><td>epoch</td><td>▁▁▁▁▂▂▂▂▂▂▃▃▃▃▃▄▄▄▄▄▅▅▅▅▅▅▆▆▆▆▆▇▇▇▇▇▇███</td></tr><tr><td>loss</td><td>█▇▇▇▇▅▄▄▃▃▃▃▃▃▃▃▂▃▂▂▂▂▂▂▂▂▂▂▂▂▂▁▂▁▁▁▁▁▁▁</td></tr><tr><td>test_acc</td><td>▃▃▃▃▃▆▇▇▇▇▇▆▅▇█▇▇▁█▇▂▆▇▇▆▆▆████▇▇▇▇▆█▇▇▇</td></tr><tr><td>train_acc</td><td>▁▁▁▁▁▄▇▇▇▇▇▇▇▇▇▇▆▇▇▆█▇▇██▇▇▇▇██▇█▇▇▇█▇██</td></tr></table><br/></div><div class=\"wandb-col\"><h3>Run summary:</h3><br/><table class=\"wandb\"><tr><td>epoch</td><td>50</td></tr><tr><td>loss</td><td>0.53847</td></tr><tr><td>test_acc</td><td>0.7161</td></tr><tr><td>train_acc</td><td>0.75265</td></tr></table><br/></div></div>"
      ],
      "text/plain": [
       "<IPython.core.display.HTML object>"
      ]
     },
     "metadata": {},
     "output_type": "display_data"
    },
    {
     "data": {
      "text/html": [
       " View run <strong style=\"color:#cdcd00\">GCN_baseline_seed_11</strong> at: <a href='https://wandb.ai/noynetanel1-tel-aviv-university/GCN%20Graph%20classification%28DD%29_Gal/runs/n8ifws4i' target=\"_blank\">https://wandb.ai/noynetanel1-tel-aviv-university/GCN%20Graph%20classification%28DD%29_Gal/runs/n8ifws4i</a><br> View project at: <a href='https://wandb.ai/noynetanel1-tel-aviv-university/GCN%20Graph%20classification%28DD%29_Gal' target=\"_blank\">https://wandb.ai/noynetanel1-tel-aviv-university/GCN%20Graph%20classification%28DD%29_Gal</a><br>Synced 5 W&B file(s), 0 media file(s), 0 artifact file(s) and 0 other file(s)"
      ],
      "text/plain": [
       "<IPython.core.display.HTML object>"
      ]
     },
     "metadata": {},
     "output_type": "display_data"
    },
    {
     "data": {
      "text/html": [
       "Find logs at: <code>./wandb/run-20250822_194744-n8ifws4i/logs</code>"
      ],
      "text/plain": [
       "<IPython.core.display.HTML object>"
      ]
     },
     "metadata": {},
     "output_type": "display_data"
    },
    {
     "data": {
      "text/html": [
       "Tracking run with wandb version 0.20.1"
      ],
      "text/plain": [
       "<IPython.core.display.HTML object>"
      ]
     },
     "metadata": {},
     "output_type": "display_data"
    },
    {
     "data": {
      "text/html": [
       "Run data is saved locally in <code>/kaggle/working/wandb/run-20250822_194922-3mpnzonm</code>"
      ],
      "text/plain": [
       "<IPython.core.display.HTML object>"
      ]
     },
     "metadata": {},
     "output_type": "display_data"
    },
    {
     "data": {
      "text/html": [
       "Syncing run <strong><a href='https://wandb.ai/noynetanel1-tel-aviv-university/GCN%20Graph%20classification%28DD%29_Gal/runs/3mpnzonm' target=\"_blank\">GCN_baseline_seed_12</a></strong> to <a href='https://wandb.ai/noynetanel1-tel-aviv-university/GCN%20Graph%20classification%28DD%29_Gal' target=\"_blank\">Weights & Biases</a> (<a href='https://wandb.me/developer-guide' target=\"_blank\">docs</a>)<br>"
      ],
      "text/plain": [
       "<IPython.core.display.HTML object>"
      ]
     },
     "metadata": {},
     "output_type": "display_data"
    },
    {
     "data": {
      "text/html": [
       " View project at <a href='https://wandb.ai/noynetanel1-tel-aviv-university/GCN%20Graph%20classification%28DD%29_Gal' target=\"_blank\">https://wandb.ai/noynetanel1-tel-aviv-university/GCN%20Graph%20classification%28DD%29_Gal</a>"
      ],
      "text/plain": [
       "<IPython.core.display.HTML object>"
      ]
     },
     "metadata": {},
     "output_type": "display_data"
    },
    {
     "data": {
      "text/html": [
       " View run at <a href='https://wandb.ai/noynetanel1-tel-aviv-university/GCN%20Graph%20classification%28DD%29_Gal/runs/3mpnzonm' target=\"_blank\">https://wandb.ai/noynetanel1-tel-aviv-university/GCN%20Graph%20classification%28DD%29_Gal/runs/3mpnzonm</a>"
      ],
      "text/plain": [
       "<IPython.core.display.HTML object>"
      ]
     },
     "metadata": {},
     "output_type": "display_data"
    },
    {
     "name": "stdout",
     "output_type": "stream",
     "text": [
      "Seed 12 | Epoch 001 | Loss: 0.6820 | Test Acc: 0.5636\n",
      "Seed 12 | Epoch 002 | Loss: 0.6753 | Test Acc: 0.5636\n",
      "Seed 12 | Epoch 003 | Loss: 0.6721 | Test Acc: 0.5636\n",
      "Seed 12 | Epoch 004 | Loss: 0.6676 | Test Acc: 0.5636\n",
      "Seed 12 | Epoch 005 | Loss: 0.6608 | Test Acc: 0.5678\n",
      "Seed 12 | Epoch 006 | Loss: 0.6515 | Test Acc: 0.6483\n",
      "Seed 12 | Epoch 007 | Loss: 0.6368 | Test Acc: 0.6356\n",
      "Seed 12 | Epoch 008 | Loss: 0.6190 | Test Acc: 0.6653\n",
      "Seed 12 | Epoch 009 | Loss: 0.5985 | Test Acc: 0.6992\n",
      "Seed 12 | Epoch 010 | Loss: 0.5880 | Test Acc: 0.6271\n",
      "Seed 12 | Epoch 011 | Loss: 0.5780 | Test Acc: 0.7076\n",
      "Seed 12 | Epoch 012 | Loss: 0.5800 | Test Acc: 0.6949\n",
      "Seed 12 | Epoch 013 | Loss: 0.5727 | Test Acc: 0.6949\n",
      "Seed 12 | Epoch 014 | Loss: 0.5724 | Test Acc: 0.7076\n",
      "Seed 12 | Epoch 015 | Loss: 0.5721 | Test Acc: 0.6737\n",
      "Seed 12 | Epoch 016 | Loss: 0.5671 | Test Acc: 0.7034\n",
      "Seed 12 | Epoch 017 | Loss: 0.5673 | Test Acc: 0.6780\n",
      "Seed 12 | Epoch 018 | Loss: 0.5700 | Test Acc: 0.6822\n",
      "Seed 12 | Epoch 019 | Loss: 0.5621 | Test Acc: 0.7076\n",
      "Seed 12 | Epoch 020 | Loss: 0.5629 | Test Acc: 0.6992\n",
      "Seed 12 | Epoch 021 | Loss: 0.5574 | Test Acc: 0.6992\n",
      "Seed 12 | Epoch 022 | Loss: 0.5622 | Test Acc: 0.6949\n",
      "Seed 12 | Epoch 023 | Loss: 0.5549 | Test Acc: 0.7034\n",
      "Seed 12 | Epoch 024 | Loss: 0.5601 | Test Acc: 0.7076\n",
      "Seed 12 | Epoch 025 | Loss: 0.5686 | Test Acc: 0.7119\n",
      "Seed 12 | Epoch 026 | Loss: 0.5653 | Test Acc: 0.7076\n",
      "Seed 12 | Epoch 027 | Loss: 0.5544 | Test Acc: 0.6992\n",
      "Seed 12 | Epoch 028 | Loss: 0.5617 | Test Acc: 0.6864\n",
      "Seed 12 | Epoch 029 | Loss: 0.5626 | Test Acc: 0.6992\n",
      "Seed 12 | Epoch 030 | Loss: 0.5699 | Test Acc: 0.7246\n",
      "Seed 12 | Epoch 031 | Loss: 0.5557 | Test Acc: 0.7076\n",
      "Seed 12 | Epoch 032 | Loss: 0.5583 | Test Acc: 0.6695\n",
      "Seed 12 | Epoch 033 | Loss: 0.5587 | Test Acc: 0.7203\n",
      "Seed 12 | Epoch 034 | Loss: 0.5505 | Test Acc: 0.7119\n",
      "Seed 12 | Epoch 035 | Loss: 0.5550 | Test Acc: 0.6992\n",
      "Seed 12 | Epoch 036 | Loss: 0.5550 | Test Acc: 0.6907\n",
      "Seed 12 | Epoch 037 | Loss: 0.5465 | Test Acc: 0.6907\n",
      "Seed 12 | Epoch 038 | Loss: 0.5548 | Test Acc: 0.7034\n",
      "Seed 12 | Epoch 039 | Loss: 0.5497 | Test Acc: 0.6907\n",
      "Seed 12 | Epoch 040 | Loss: 0.5494 | Test Acc: 0.7203\n",
      "Seed 12 | Epoch 041 | Loss: 0.5476 | Test Acc: 0.7203\n",
      "Seed 12 | Epoch 042 | Loss: 0.5481 | Test Acc: 0.7034\n",
      "Seed 12 | Epoch 043 | Loss: 0.5511 | Test Acc: 0.7161\n",
      "Seed 12 | Epoch 044 | Loss: 0.5640 | Test Acc: 0.6864\n",
      "Seed 12 | Epoch 045 | Loss: 0.5448 | Test Acc: 0.6949\n",
      "Seed 12 | Epoch 046 | Loss: 0.5455 | Test Acc: 0.6949\n",
      "Seed 12 | Epoch 047 | Loss: 0.5435 | Test Acc: 0.6864\n",
      "Seed 12 | Epoch 048 | Loss: 0.5453 | Test Acc: 0.6907\n",
      "Seed 12 | Epoch 049 | Loss: 0.5441 | Test Acc: 0.7203\n",
      "Seed 12 | Epoch 050 | Loss: 0.5422 | Test Acc: 0.7076\n"
     ]
    },
    {
     "data": {
      "text/html": [],
      "text/plain": [
       "<IPython.core.display.HTML object>"
      ]
     },
     "metadata": {},
     "output_type": "display_data"
    },
    {
     "data": {
      "text/html": [
       "<br>    <style><br>        .wandb-row {<br>            display: flex;<br>            flex-direction: row;<br>            flex-wrap: wrap;<br>            justify-content: flex-start;<br>            width: 100%;<br>        }<br>        .wandb-col {<br>            display: flex;<br>            flex-direction: column;<br>            flex-basis: 100%;<br>            flex: 1;<br>            padding: 10px;<br>        }<br>    </style><br><div class=\"wandb-row\"><div class=\"wandb-col\"><h3>Run history:</h3><br/><table class=\"wandb\"><tr><td>epoch</td><td>▁▁▁▁▂▂▂▂▂▂▃▃▃▃▃▄▄▄▄▄▄▅▅▅▅▅▆▆▆▆▆▆▇▇▇▇▇███</td></tr><tr><td>loss</td><td>███▇▇▆▅▄▃▃▃▃▂▂▂▂▂▂▂▂▂▂▂▂▂▂▂▂▂▁▁▁▁▁▁▁▁▁▁▁</td></tr><tr><td>test_acc</td><td>▁▁▁▁▁▄▇▇▇▇▆▇▆▆▇▇▇▇▇▇▇▆▇█▇█▇▇▇▇▇██▇█▇▇▆▇▇</td></tr><tr><td>train_acc</td><td>▁▁▁▁▂▅▆▇▅▇▇▇▇▇▇▇▇▇▇▇██▇▇█▇▇█▇██▇████████</td></tr></table><br/></div><div class=\"wandb-col\"><h3>Run summary:</h3><br/><table class=\"wandb\"><tr><td>epoch</td><td>50</td></tr><tr><td>loss</td><td>0.54218</td></tr><tr><td>test_acc</td><td>0.70763</td></tr><tr><td>train_acc</td><td>0.73461</td></tr></table><br/></div></div>"
      ],
      "text/plain": [
       "<IPython.core.display.HTML object>"
      ]
     },
     "metadata": {},
     "output_type": "display_data"
    },
    {
     "data": {
      "text/html": [
       " View run <strong style=\"color:#cdcd00\">GCN_baseline_seed_12</strong> at: <a href='https://wandb.ai/noynetanel1-tel-aviv-university/GCN%20Graph%20classification%28DD%29_Gal/runs/3mpnzonm' target=\"_blank\">https://wandb.ai/noynetanel1-tel-aviv-university/GCN%20Graph%20classification%28DD%29_Gal/runs/3mpnzonm</a><br> View project at: <a href='https://wandb.ai/noynetanel1-tel-aviv-university/GCN%20Graph%20classification%28DD%29_Gal' target=\"_blank\">https://wandb.ai/noynetanel1-tel-aviv-university/GCN%20Graph%20classification%28DD%29_Gal</a><br>Synced 5 W&B file(s), 0 media file(s), 0 artifact file(s) and 0 other file(s)"
      ],
      "text/plain": [
       "<IPython.core.display.HTML object>"
      ]
     },
     "metadata": {},
     "output_type": "display_data"
    },
    {
     "data": {
      "text/html": [
       "Find logs at: <code>./wandb/run-20250822_194922-3mpnzonm/logs</code>"
      ],
      "text/plain": [
       "<IPython.core.display.HTML object>"
      ]
     },
     "metadata": {},
     "output_type": "display_data"
    },
    {
     "data": {
      "text/html": [
       "Tracking run with wandb version 0.20.1"
      ],
      "text/plain": [
       "<IPython.core.display.HTML object>"
      ]
     },
     "metadata": {},
     "output_type": "display_data"
    },
    {
     "data": {
      "text/html": [
       "Run data is saved locally in <code>/kaggle/working/wandb/run-20250822_195101-qzjhqh7k</code>"
      ],
      "text/plain": [
       "<IPython.core.display.HTML object>"
      ]
     },
     "metadata": {},
     "output_type": "display_data"
    },
    {
     "data": {
      "text/html": [
       "Syncing run <strong><a href='https://wandb.ai/noynetanel1-tel-aviv-university/GCN%20Graph%20classification%28DD%29_Gal/runs/qzjhqh7k' target=\"_blank\">GCN_baseline_seed_13</a></strong> to <a href='https://wandb.ai/noynetanel1-tel-aviv-university/GCN%20Graph%20classification%28DD%29_Gal' target=\"_blank\">Weights & Biases</a> (<a href='https://wandb.me/developer-guide' target=\"_blank\">docs</a>)<br>"
      ],
      "text/plain": [
       "<IPython.core.display.HTML object>"
      ]
     },
     "metadata": {},
     "output_type": "display_data"
    },
    {
     "data": {
      "text/html": [
       " View project at <a href='https://wandb.ai/noynetanel1-tel-aviv-university/GCN%20Graph%20classification%28DD%29_Gal' target=\"_blank\">https://wandb.ai/noynetanel1-tel-aviv-university/GCN%20Graph%20classification%28DD%29_Gal</a>"
      ],
      "text/plain": [
       "<IPython.core.display.HTML object>"
      ]
     },
     "metadata": {},
     "output_type": "display_data"
    },
    {
     "data": {
      "text/html": [
       " View run at <a href='https://wandb.ai/noynetanel1-tel-aviv-university/GCN%20Graph%20classification%28DD%29_Gal/runs/qzjhqh7k' target=\"_blank\">https://wandb.ai/noynetanel1-tel-aviv-university/GCN%20Graph%20classification%28DD%29_Gal/runs/qzjhqh7k</a>"
      ],
      "text/plain": [
       "<IPython.core.display.HTML object>"
      ]
     },
     "metadata": {},
     "output_type": "display_data"
    },
    {
     "name": "stdout",
     "output_type": "stream",
     "text": [
      "Seed 13 | Epoch 001 | Loss: 0.6808 | Test Acc: 0.6144\n",
      "Seed 13 | Epoch 002 | Loss: 0.6771 | Test Acc: 0.6144\n",
      "Seed 13 | Epoch 003 | Loss: 0.6741 | Test Acc: 0.6144\n",
      "Seed 13 | Epoch 004 | Loss: 0.6712 | Test Acc: 0.6144\n",
      "Seed 13 | Epoch 005 | Loss: 0.6618 | Test Acc: 0.6186\n",
      "Seed 13 | Epoch 006 | Loss: 0.6472 | Test Acc: 0.7203\n",
      "Seed 13 | Epoch 007 | Loss: 0.6318 | Test Acc: 0.6949\n",
      "Seed 13 | Epoch 008 | Loss: 0.6158 | Test Acc: 0.7203\n",
      "Seed 13 | Epoch 009 | Loss: 0.6109 | Test Acc: 0.6610\n",
      "Seed 13 | Epoch 010 | Loss: 0.5997 | Test Acc: 0.6780\n",
      "Seed 13 | Epoch 011 | Loss: 0.5944 | Test Acc: 0.7203\n",
      "Seed 13 | Epoch 012 | Loss: 0.5974 | Test Acc: 0.7076\n",
      "Seed 13 | Epoch 013 | Loss: 0.5897 | Test Acc: 0.7246\n",
      "Seed 13 | Epoch 014 | Loss: 0.5877 | Test Acc: 0.7119\n",
      "Seed 13 | Epoch 015 | Loss: 0.5825 | Test Acc: 0.7161\n",
      "Seed 13 | Epoch 016 | Loss: 0.5897 | Test Acc: 0.7161\n",
      "Seed 13 | Epoch 017 | Loss: 0.5782 | Test Acc: 0.7203\n",
      "Seed 13 | Epoch 018 | Loss: 0.5788 | Test Acc: 0.6780\n",
      "Seed 13 | Epoch 019 | Loss: 0.5804 | Test Acc: 0.6992\n",
      "Seed 13 | Epoch 020 | Loss: 0.5792 | Test Acc: 0.7161\n",
      "Seed 13 | Epoch 021 | Loss: 0.5773 | Test Acc: 0.7161\n",
      "Seed 13 | Epoch 022 | Loss: 0.5720 | Test Acc: 0.7203\n",
      "Seed 13 | Epoch 023 | Loss: 0.5711 | Test Acc: 0.7203\n",
      "Seed 13 | Epoch 024 | Loss: 0.5694 | Test Acc: 0.7076\n",
      "Seed 13 | Epoch 025 | Loss: 0.5746 | Test Acc: 0.7246\n",
      "Seed 13 | Epoch 026 | Loss: 0.5676 | Test Acc: 0.6949\n",
      "Seed 13 | Epoch 027 | Loss: 0.5833 | Test Acc: 0.7119\n",
      "Seed 13 | Epoch 028 | Loss: 0.5704 | Test Acc: 0.6992\n",
      "Seed 13 | Epoch 029 | Loss: 0.5692 | Test Acc: 0.7246\n",
      "Seed 13 | Epoch 030 | Loss: 0.5729 | Test Acc: 0.7076\n",
      "Seed 13 | Epoch 031 | Loss: 0.5662 | Test Acc: 0.7034\n",
      "Seed 13 | Epoch 032 | Loss: 0.5679 | Test Acc: 0.7161\n",
      "Seed 13 | Epoch 033 | Loss: 0.5666 | Test Acc: 0.7161\n",
      "Seed 13 | Epoch 034 | Loss: 0.5654 | Test Acc: 0.7119\n",
      "Seed 13 | Epoch 035 | Loss: 0.5636 | Test Acc: 0.7119\n",
      "Seed 13 | Epoch 036 | Loss: 0.5634 | Test Acc: 0.7246\n",
      "Seed 13 | Epoch 037 | Loss: 0.5641 | Test Acc: 0.7373\n",
      "Seed 13 | Epoch 038 | Loss: 0.5604 | Test Acc: 0.7288\n",
      "Seed 13 | Epoch 039 | Loss: 0.5584 | Test Acc: 0.7203\n",
      "Seed 13 | Epoch 040 | Loss: 0.5594 | Test Acc: 0.7246\n",
      "Seed 13 | Epoch 041 | Loss: 0.5611 | Test Acc: 0.6949\n",
      "Seed 13 | Epoch 042 | Loss: 0.5580 | Test Acc: 0.7119\n",
      "Seed 13 | Epoch 043 | Loss: 0.5641 | Test Acc: 0.7203\n",
      "Seed 13 | Epoch 044 | Loss: 0.5620 | Test Acc: 0.7203\n",
      "Seed 13 | Epoch 045 | Loss: 0.5597 | Test Acc: 0.7034\n",
      "Seed 13 | Epoch 046 | Loss: 0.5649 | Test Acc: 0.7076\n",
      "Seed 13 | Epoch 047 | Loss: 0.5666 | Test Acc: 0.7288\n",
      "Seed 13 | Epoch 048 | Loss: 0.5538 | Test Acc: 0.7373\n",
      "Seed 13 | Epoch 049 | Loss: 0.5526 | Test Acc: 0.6992\n",
      "Seed 13 | Epoch 050 | Loss: 0.5568 | Test Acc: 0.7076\n"
     ]
    },
    {
     "data": {
      "text/html": [],
      "text/plain": [
       "<IPython.core.display.HTML object>"
      ]
     },
     "metadata": {},
     "output_type": "display_data"
    },
    {
     "data": {
      "text/html": [
       "<br>    <style><br>        .wandb-row {<br>            display: flex;<br>            flex-direction: row;<br>            flex-wrap: wrap;<br>            justify-content: flex-start;<br>            width: 100%;<br>        }<br>        .wandb-col {<br>            display: flex;<br>            flex-direction: column;<br>            flex-basis: 100%;<br>            flex: 1;<br>            padding: 10px;<br>        }<br>    </style><br><div class=\"wandb-row\"><div class=\"wandb-col\"><h3>Run history:</h3><br/><table class=\"wandb\"><tr><td>epoch</td><td>▁▁▁▁▂▂▂▂▂▂▃▃▃▃▃▄▄▄▄▄▄▅▅▅▅▅▆▆▆▆▆▆▇▇▇▇▇▇██</td></tr><tr><td>loss</td><td>███▇▇▅▄▄▄▃▃▃▃▃▂▂▂▂▂▂▂▂▃▂▂▂▂▂▂▂▁▁▁▁▁▁▂▂▁▁</td></tr><tr><td>test_acc</td><td>▁▁▁▁▇▇▄▅▇▆▇▇▇▇▅▇▇▇▇▆▆▇▆▇▆▇▇▇▇▇█▇▇▆▇▇▆██▆</td></tr><tr><td>train_acc</td><td>▁▁▁▁▂▅▆▆▆▆▇▇▇▇▇▆▇▇▇▇▇▇▇█▇▇▇▇██▇▇█▇▇██▇██</td></tr></table><br/></div><div class=\"wandb-col\"><h3>Run summary:</h3><br/><table class=\"wandb\"><tr><td>epoch</td><td>50</td></tr><tr><td>loss</td><td>0.55676</td></tr><tr><td>test_acc</td><td>0.70763</td></tr><tr><td>train_acc</td><td>0.74628</td></tr></table><br/></div></div>"
      ],
      "text/plain": [
       "<IPython.core.display.HTML object>"
      ]
     },
     "metadata": {},
     "output_type": "display_data"
    },
    {
     "data": {
      "text/html": [
       " View run <strong style=\"color:#cdcd00\">GCN_baseline_seed_13</strong> at: <a href='https://wandb.ai/noynetanel1-tel-aviv-university/GCN%20Graph%20classification%28DD%29_Gal/runs/qzjhqh7k' target=\"_blank\">https://wandb.ai/noynetanel1-tel-aviv-university/GCN%20Graph%20classification%28DD%29_Gal/runs/qzjhqh7k</a><br> View project at: <a href='https://wandb.ai/noynetanel1-tel-aviv-university/GCN%20Graph%20classification%28DD%29_Gal' target=\"_blank\">https://wandb.ai/noynetanel1-tel-aviv-university/GCN%20Graph%20classification%28DD%29_Gal</a><br>Synced 5 W&B file(s), 0 media file(s), 0 artifact file(s) and 0 other file(s)"
      ],
      "text/plain": [
       "<IPython.core.display.HTML object>"
      ]
     },
     "metadata": {},
     "output_type": "display_data"
    },
    {
     "data": {
      "text/html": [
       "Find logs at: <code>./wandb/run-20250822_195101-qzjhqh7k/logs</code>"
      ],
      "text/plain": [
       "<IPython.core.display.HTML object>"
      ]
     },
     "metadata": {},
     "output_type": "display_data"
    },
    {
     "data": {
      "text/html": [
       "Tracking run with wandb version 0.20.1"
      ],
      "text/plain": [
       "<IPython.core.display.HTML object>"
      ]
     },
     "metadata": {},
     "output_type": "display_data"
    },
    {
     "data": {
      "text/html": [
       "Run data is saved locally in <code>/kaggle/working/wandb/run-20250822_195238-fq0wq5nz</code>"
      ],
      "text/plain": [
       "<IPython.core.display.HTML object>"
      ]
     },
     "metadata": {},
     "output_type": "display_data"
    },
    {
     "data": {
      "text/html": [
       "Syncing run <strong><a href='https://wandb.ai/noynetanel1-tel-aviv-university/GCN%20Graph%20classification%28DD%29_Gal/runs/fq0wq5nz' target=\"_blank\">GCN_baseline_seed_14</a></strong> to <a href='https://wandb.ai/noynetanel1-tel-aviv-university/GCN%20Graph%20classification%28DD%29_Gal' target=\"_blank\">Weights & Biases</a> (<a href='https://wandb.me/developer-guide' target=\"_blank\">docs</a>)<br>"
      ],
      "text/plain": [
       "<IPython.core.display.HTML object>"
      ]
     },
     "metadata": {},
     "output_type": "display_data"
    },
    {
     "data": {
      "text/html": [
       " View project at <a href='https://wandb.ai/noynetanel1-tel-aviv-university/GCN%20Graph%20classification%28DD%29_Gal' target=\"_blank\">https://wandb.ai/noynetanel1-tel-aviv-university/GCN%20Graph%20classification%28DD%29_Gal</a>"
      ],
      "text/plain": [
       "<IPython.core.display.HTML object>"
      ]
     },
     "metadata": {},
     "output_type": "display_data"
    },
    {
     "data": {
      "text/html": [
       " View run at <a href='https://wandb.ai/noynetanel1-tel-aviv-university/GCN%20Graph%20classification%28DD%29_Gal/runs/fq0wq5nz' target=\"_blank\">https://wandb.ai/noynetanel1-tel-aviv-university/GCN%20Graph%20classification%28DD%29_Gal/runs/fq0wq5nz</a>"
      ],
      "text/plain": [
       "<IPython.core.display.HTML object>"
      ]
     },
     "metadata": {},
     "output_type": "display_data"
    },
    {
     "name": "stdout",
     "output_type": "stream",
     "text": [
      "Seed 14 | Epoch 001 | Loss: 0.6841 | Test Acc: 0.5763\n",
      "Seed 14 | Epoch 002 | Loss: 0.6759 | Test Acc: 0.5763\n",
      "Seed 14 | Epoch 003 | Loss: 0.6743 | Test Acc: 0.5763\n",
      "Seed 14 | Epoch 004 | Loss: 0.6699 | Test Acc: 0.5763\n",
      "Seed 14 | Epoch 005 | Loss: 0.6604 | Test Acc: 0.5890\n",
      "Seed 14 | Epoch 006 | Loss: 0.6461 | Test Acc: 0.6653\n",
      "Seed 14 | Epoch 007 | Loss: 0.6260 | Test Acc: 0.6144\n",
      "Seed 14 | Epoch 008 | Loss: 0.6145 | Test Acc: 0.6992\n",
      "Seed 14 | Epoch 009 | Loss: 0.5991 | Test Acc: 0.6907\n",
      "Seed 14 | Epoch 010 | Loss: 0.5858 | Test Acc: 0.7034\n",
      "Seed 14 | Epoch 011 | Loss: 0.5875 | Test Acc: 0.7034\n",
      "Seed 14 | Epoch 012 | Loss: 0.5826 | Test Acc: 0.7034\n",
      "Seed 14 | Epoch 013 | Loss: 0.5702 | Test Acc: 0.7034\n",
      "Seed 14 | Epoch 014 | Loss: 0.5823 | Test Acc: 0.7076\n",
      "Seed 14 | Epoch 015 | Loss: 0.5658 | Test Acc: 0.7034\n",
      "Seed 14 | Epoch 016 | Loss: 0.5723 | Test Acc: 0.6864\n",
      "Seed 14 | Epoch 017 | Loss: 0.5595 | Test Acc: 0.6864\n",
      "Seed 14 | Epoch 018 | Loss: 0.5656 | Test Acc: 0.6907\n",
      "Seed 14 | Epoch 019 | Loss: 0.5554 | Test Acc: 0.6992\n",
      "Seed 14 | Epoch 020 | Loss: 0.5598 | Test Acc: 0.7034\n",
      "Seed 14 | Epoch 021 | Loss: 0.5551 | Test Acc: 0.6907\n",
      "Seed 14 | Epoch 022 | Loss: 0.5543 | Test Acc: 0.7119\n",
      "Seed 14 | Epoch 023 | Loss: 0.5548 | Test Acc: 0.6822\n",
      "Seed 14 | Epoch 024 | Loss: 0.5469 | Test Acc: 0.7034\n",
      "Seed 14 | Epoch 025 | Loss: 0.5532 | Test Acc: 0.7076\n",
      "Seed 14 | Epoch 026 | Loss: 0.5554 | Test Acc: 0.6949\n",
      "Seed 14 | Epoch 027 | Loss: 0.5452 | Test Acc: 0.6907\n",
      "Seed 14 | Epoch 028 | Loss: 0.5430 | Test Acc: 0.6907\n",
      "Seed 14 | Epoch 029 | Loss: 0.5420 | Test Acc: 0.6822\n",
      "Seed 14 | Epoch 030 | Loss: 0.5513 | Test Acc: 0.7034\n",
      "Seed 14 | Epoch 031 | Loss: 0.5490 | Test Acc: 0.7034\n",
      "Seed 14 | Epoch 032 | Loss: 0.5486 | Test Acc: 0.6949\n",
      "Seed 14 | Epoch 033 | Loss: 0.5520 | Test Acc: 0.6610\n",
      "Seed 14 | Epoch 034 | Loss: 0.5658 | Test Acc: 0.6822\n",
      "Seed 14 | Epoch 035 | Loss: 0.5566 | Test Acc: 0.7076\n",
      "Seed 14 | Epoch 036 | Loss: 0.5444 | Test Acc: 0.7034\n",
      "Seed 14 | Epoch 037 | Loss: 0.5434 | Test Acc: 0.6907\n",
      "Seed 14 | Epoch 038 | Loss: 0.5423 | Test Acc: 0.7076\n",
      "Seed 14 | Epoch 039 | Loss: 0.5528 | Test Acc: 0.6907\n",
      "Seed 14 | Epoch 040 | Loss: 0.5396 | Test Acc: 0.6992\n",
      "Seed 14 | Epoch 041 | Loss: 0.5342 | Test Acc: 0.7034\n",
      "Seed 14 | Epoch 042 | Loss: 0.5450 | Test Acc: 0.7034\n",
      "Seed 14 | Epoch 043 | Loss: 0.5349 | Test Acc: 0.6695\n",
      "Seed 14 | Epoch 044 | Loss: 0.5318 | Test Acc: 0.6907\n",
      "Seed 14 | Epoch 045 | Loss: 0.5312 | Test Acc: 0.7246\n",
      "Seed 14 | Epoch 046 | Loss: 0.5449 | Test Acc: 0.7034\n",
      "Seed 14 | Epoch 047 | Loss: 0.5376 | Test Acc: 0.7034\n",
      "Seed 14 | Epoch 048 | Loss: 0.5239 | Test Acc: 0.6992\n",
      "Seed 14 | Epoch 049 | Loss: 0.5297 | Test Acc: 0.7034\n",
      "Seed 14 | Epoch 050 | Loss: 0.5268 | Test Acc: 0.6992\n"
     ]
    },
    {
     "data": {
      "text/html": [],
      "text/plain": [
       "<IPython.core.display.HTML object>"
      ]
     },
     "metadata": {},
     "output_type": "display_data"
    },
    {
     "data": {
      "text/html": [
       "<br>    <style><br>        .wandb-row {<br>            display: flex;<br>            flex-direction: row;<br>            flex-wrap: wrap;<br>            justify-content: flex-start;<br>            width: 100%;<br>        }<br>        .wandb-col {<br>            display: flex;<br>            flex-direction: column;<br>            flex-basis: 100%;<br>            flex: 1;<br>            padding: 10px;<br>        }<br>    </style><br><div class=\"wandb-row\"><div class=\"wandb-col\"><h3>Run history:</h3><br/><table class=\"wandb\"><tr><td>epoch</td><td>▁▁▁▁▂▂▂▂▂▂▃▃▃▃▃▄▄▄▄▄▄▅▅▅▅▅▆▆▆▆▆▇▇▇▇▇▇███</td></tr><tr><td>loss</td><td>███▇▆▅▄▄▄▄▄▃▃▃▃▃▂▂▂▂▂▂▂▂▂▂▂▃▂▂▂▂▁▂▁▁▂▂▁▁</td></tr><tr><td>test_acc</td><td>▁▁▁▂▅▇▆▇▇▇▇▇▆▆▆▇▆▇▆▇▇▆▆▆▇▇▅▆▇▇▇▆▇▇▇▆█▇▇▇</td></tr><tr><td>train_acc</td><td>▁▁▁▁▂▄▇▆▇▇▇▇▇▇▆▇▇▇▇▇▇▇▇▇█▇▇▆▇█▇██▇▇▇████</td></tr></table><br/></div><div class=\"wandb-col\"><h3>Run summary:</h3><br/><table class=\"wandb\"><tr><td>epoch</td><td>50</td></tr><tr><td>loss</td><td>0.52677</td></tr><tr><td>test_acc</td><td>0.69915</td></tr><tr><td>train_acc</td><td>0.74204</td></tr></table><br/></div></div>"
      ],
      "text/plain": [
       "<IPython.core.display.HTML object>"
      ]
     },
     "metadata": {},
     "output_type": "display_data"
    },
    {
     "data": {
      "text/html": [
       " View run <strong style=\"color:#cdcd00\">GCN_baseline_seed_14</strong> at: <a href='https://wandb.ai/noynetanel1-tel-aviv-university/GCN%20Graph%20classification%28DD%29_Gal/runs/fq0wq5nz' target=\"_blank\">https://wandb.ai/noynetanel1-tel-aviv-university/GCN%20Graph%20classification%28DD%29_Gal/runs/fq0wq5nz</a><br> View project at: <a href='https://wandb.ai/noynetanel1-tel-aviv-university/GCN%20Graph%20classification%28DD%29_Gal' target=\"_blank\">https://wandb.ai/noynetanel1-tel-aviv-university/GCN%20Graph%20classification%28DD%29_Gal</a><br>Synced 5 W&B file(s), 0 media file(s), 0 artifact file(s) and 0 other file(s)"
      ],
      "text/plain": [
       "<IPython.core.display.HTML object>"
      ]
     },
     "metadata": {},
     "output_type": "display_data"
    },
    {
     "data": {
      "text/html": [
       "Find logs at: <code>./wandb/run-20250822_195238-fq0wq5nz/logs</code>"
      ],
      "text/plain": [
       "<IPython.core.display.HTML object>"
      ]
     },
     "metadata": {},
     "output_type": "display_data"
    },
    {
     "data": {
      "text/html": [
       "Tracking run with wandb version 0.20.1"
      ],
      "text/plain": [
       "<IPython.core.display.HTML object>"
      ]
     },
     "metadata": {},
     "output_type": "display_data"
    },
    {
     "data": {
      "text/html": [
       "Run data is saved locally in <code>/kaggle/working/wandb/run-20250822_195502-tpjuzquj</code>"
      ],
      "text/plain": [
       "<IPython.core.display.HTML object>"
      ]
     },
     "metadata": {},
     "output_type": "display_data"
    },
    {
     "data": {
      "text/html": [
       "Syncing run <strong><a href='https://wandb.ai/noynetanel1-tel-aviv-university/GCN%20Graph%20classification%28DD%29_Gal/runs/tpjuzquj' target=\"_blank\">GCN_baseline_seed_15</a></strong> to <a href='https://wandb.ai/noynetanel1-tel-aviv-university/GCN%20Graph%20classification%28DD%29_Gal' target=\"_blank\">Weights & Biases</a> (<a href='https://wandb.me/developer-guide' target=\"_blank\">docs</a>)<br>"
      ],
      "text/plain": [
       "<IPython.core.display.HTML object>"
      ]
     },
     "metadata": {},
     "output_type": "display_data"
    },
    {
     "data": {
      "text/html": [
       " View project at <a href='https://wandb.ai/noynetanel1-tel-aviv-university/GCN%20Graph%20classification%28DD%29_Gal' target=\"_blank\">https://wandb.ai/noynetanel1-tel-aviv-university/GCN%20Graph%20classification%28DD%29_Gal</a>"
      ],
      "text/plain": [
       "<IPython.core.display.HTML object>"
      ]
     },
     "metadata": {},
     "output_type": "display_data"
    },
    {
     "data": {
      "text/html": [
       " View run at <a href='https://wandb.ai/noynetanel1-tel-aviv-university/GCN%20Graph%20classification%28DD%29_Gal/runs/tpjuzquj' target=\"_blank\">https://wandb.ai/noynetanel1-tel-aviv-university/GCN%20Graph%20classification%28DD%29_Gal/runs/tpjuzquj</a>"
      ],
      "text/plain": [
       "<IPython.core.display.HTML object>"
      ]
     },
     "metadata": {},
     "output_type": "display_data"
    },
    {
     "name": "stdout",
     "output_type": "stream",
     "text": [
      "Seed 15 | Epoch 001 | Loss: 0.6815 | Test Acc: 0.5763\n",
      "Seed 15 | Epoch 002 | Loss: 0.6741 | Test Acc: 0.5763\n",
      "Seed 15 | Epoch 003 | Loss: 0.6700 | Test Acc: 0.5763\n",
      "Seed 15 | Epoch 004 | Loss: 0.6647 | Test Acc: 0.5847\n",
      "Seed 15 | Epoch 005 | Loss: 0.6573 | Test Acc: 0.5763\n",
      "Seed 15 | Epoch 006 | Loss: 0.6446 | Test Acc: 0.6059\n",
      "Seed 15 | Epoch 007 | Loss: 0.6280 | Test Acc: 0.6695\n",
      "Seed 15 | Epoch 008 | Loss: 0.6108 | Test Acc: 0.6780\n",
      "Seed 15 | Epoch 009 | Loss: 0.5948 | Test Acc: 0.6695\n",
      "Seed 15 | Epoch 010 | Loss: 0.5886 | Test Acc: 0.6737\n",
      "Seed 15 | Epoch 011 | Loss: 0.5914 | Test Acc: 0.6610\n",
      "Seed 15 | Epoch 012 | Loss: 0.5810 | Test Acc: 0.6737\n",
      "Seed 15 | Epoch 013 | Loss: 0.5835 | Test Acc: 0.6780\n",
      "Seed 15 | Epoch 014 | Loss: 0.5793 | Test Acc: 0.6356\n",
      "Seed 15 | Epoch 015 | Loss: 0.5725 | Test Acc: 0.6780\n",
      "Seed 15 | Epoch 016 | Loss: 0.5773 | Test Acc: 0.7119\n",
      "Seed 15 | Epoch 017 | Loss: 0.5740 | Test Acc: 0.6992\n",
      "Seed 15 | Epoch 018 | Loss: 0.5595 | Test Acc: 0.6864\n",
      "Seed 15 | Epoch 019 | Loss: 0.5723 | Test Acc: 0.6314\n",
      "Seed 15 | Epoch 020 | Loss: 0.5762 | Test Acc: 0.6992\n",
      "Seed 15 | Epoch 021 | Loss: 0.5637 | Test Acc: 0.6864\n",
      "Seed 15 | Epoch 022 | Loss: 0.5635 | Test Acc: 0.6949\n",
      "Seed 15 | Epoch 023 | Loss: 0.5618 | Test Acc: 0.7246\n",
      "Seed 15 | Epoch 024 | Loss: 0.5634 | Test Acc: 0.7076\n",
      "Seed 15 | Epoch 025 | Loss: 0.5648 | Test Acc: 0.6907\n",
      "Seed 15 | Epoch 026 | Loss: 0.5605 | Test Acc: 0.6992\n",
      "Seed 15 | Epoch 027 | Loss: 0.5564 | Test Acc: 0.6949\n",
      "Seed 15 | Epoch 028 | Loss: 0.5760 | Test Acc: 0.6992\n",
      "Seed 15 | Epoch 029 | Loss: 0.5607 | Test Acc: 0.7119\n",
      "Seed 15 | Epoch 030 | Loss: 0.5563 | Test Acc: 0.6907\n",
      "Seed 15 | Epoch 031 | Loss: 0.5560 | Test Acc: 0.6992\n",
      "Seed 15 | Epoch 032 | Loss: 0.5656 | Test Acc: 0.6653\n",
      "Seed 15 | Epoch 033 | Loss: 0.5642 | Test Acc: 0.7076\n",
      "Seed 15 | Epoch 034 | Loss: 0.5568 | Test Acc: 0.7034\n",
      "Seed 15 | Epoch 035 | Loss: 0.5538 | Test Acc: 0.7076\n",
      "Seed 15 | Epoch 036 | Loss: 0.5493 | Test Acc: 0.7034\n",
      "Seed 15 | Epoch 037 | Loss: 0.5521 | Test Acc: 0.7119\n",
      "Seed 15 | Epoch 038 | Loss: 0.5476 | Test Acc: 0.6949\n",
      "Seed 15 | Epoch 039 | Loss: 0.5536 | Test Acc: 0.6822\n",
      "Seed 15 | Epoch 040 | Loss: 0.5471 | Test Acc: 0.7076\n",
      "Seed 15 | Epoch 041 | Loss: 0.5432 | Test Acc: 0.6695\n",
      "Seed 15 | Epoch 042 | Loss: 0.5552 | Test Acc: 0.6992\n",
      "Seed 15 | Epoch 043 | Loss: 0.5479 | Test Acc: 0.6992\n",
      "Seed 15 | Epoch 044 | Loss: 0.5430 | Test Acc: 0.6949\n",
      "Seed 15 | Epoch 045 | Loss: 0.5428 | Test Acc: 0.7034\n",
      "Seed 15 | Epoch 046 | Loss: 0.5534 | Test Acc: 0.6907\n",
      "Seed 15 | Epoch 047 | Loss: 0.5420 | Test Acc: 0.7076\n",
      "Seed 15 | Epoch 048 | Loss: 0.5468 | Test Acc: 0.6949\n",
      "Seed 15 | Epoch 049 | Loss: 0.5421 | Test Acc: 0.6653\n",
      "Seed 15 | Epoch 050 | Loss: 0.5383 | Test Acc: 0.7034\n"
     ]
    },
    {
     "data": {
      "text/html": [],
      "text/plain": [
       "<IPython.core.display.HTML object>"
      ]
     },
     "metadata": {},
     "output_type": "display_data"
    },
    {
     "data": {
      "text/html": [
       "<br>    <style><br>        .wandb-row {<br>            display: flex;<br>            flex-direction: row;<br>            flex-wrap: wrap;<br>            justify-content: flex-start;<br>            width: 100%;<br>        }<br>        .wandb-col {<br>            display: flex;<br>            flex-direction: column;<br>            flex-basis: 100%;<br>            flex: 1;<br>            padding: 10px;<br>        }<br>    </style><br><div class=\"wandb-row\"><div class=\"wandb-col\"><h3>Run history:</h3><br/><table class=\"wandb\"><tr><td>epoch</td><td>▁▁▁▁▂▂▂▂▂▃▃▃▃▃▃▄▄▄▄▄▅▅▅▅▅▆▆▆▆▆▆▇▇▇▇▇▇███</td></tr><tr><td>loss</td><td>██▇▇▇▅▅▄▃▄▃▃▃▃▃▃▃▂▂▂▂▂▃▂▂▂▂▂▂▂▂▁▁▂▁▁▂▁▁▁</td></tr><tr><td>test_acc</td><td>▁▁▁▁▁▅▆▆▅▆▄▆▇▇▆▇▆▇█▇▇▇▇▇▆▅▇▇▇▇▆▇▅▇▇▇▆▇▇▇</td></tr><tr><td>train_acc</td><td>▁▁▁▁▂▅▆▆▆▆▆▆▇▇▇▆▇▇▇▇▇▇▇▇▇▇▇█▇█▇█▆▇▇███▇█</td></tr></table><br/></div><div class=\"wandb-col\"><h3>Run summary:</h3><br/><table class=\"wandb\"><tr><td>epoch</td><td>50</td></tr><tr><td>loss</td><td>0.53831</td></tr><tr><td>test_acc</td><td>0.70339</td></tr><tr><td>train_acc</td><td>0.74841</td></tr></table><br/></div></div>"
      ],
      "text/plain": [
       "<IPython.core.display.HTML object>"
      ]
     },
     "metadata": {},
     "output_type": "display_data"
    },
    {
     "data": {
      "text/html": [
       " View run <strong style=\"color:#cdcd00\">GCN_baseline_seed_15</strong> at: <a href='https://wandb.ai/noynetanel1-tel-aviv-university/GCN%20Graph%20classification%28DD%29_Gal/runs/tpjuzquj' target=\"_blank\">https://wandb.ai/noynetanel1-tel-aviv-university/GCN%20Graph%20classification%28DD%29_Gal/runs/tpjuzquj</a><br> View project at: <a href='https://wandb.ai/noynetanel1-tel-aviv-university/GCN%20Graph%20classification%28DD%29_Gal' target=\"_blank\">https://wandb.ai/noynetanel1-tel-aviv-university/GCN%20Graph%20classification%28DD%29_Gal</a><br>Synced 5 W&B file(s), 0 media file(s), 0 artifact file(s) and 0 other file(s)"
      ],
      "text/plain": [
       "<IPython.core.display.HTML object>"
      ]
     },
     "metadata": {},
     "output_type": "display_data"
    },
    {
     "data": {
      "text/html": [
       "Find logs at: <code>./wandb/run-20250822_195502-tpjuzquj/logs</code>"
      ],
      "text/plain": [
       "<IPython.core.display.HTML object>"
      ]
     },
     "metadata": {},
     "output_type": "display_data"
    },
    {
     "data": {
      "text/html": [
       "Tracking run with wandb version 0.20.1"
      ],
      "text/plain": [
       "<IPython.core.display.HTML object>"
      ]
     },
     "metadata": {},
     "output_type": "display_data"
    },
    {
     "data": {
      "text/html": [
       "Run data is saved locally in <code>/kaggle/working/wandb/run-20250822_195641-74jvxayt</code>"
      ],
      "text/plain": [
       "<IPython.core.display.HTML object>"
      ]
     },
     "metadata": {},
     "output_type": "display_data"
    },
    {
     "data": {
      "text/html": [
       "Syncing run <strong><a href='https://wandb.ai/noynetanel1-tel-aviv-university/GCN%20Graph%20classification%28DD%29_Gal/runs/74jvxayt' target=\"_blank\">GCN_baseline_seed_16</a></strong> to <a href='https://wandb.ai/noynetanel1-tel-aviv-university/GCN%20Graph%20classification%28DD%29_Gal' target=\"_blank\">Weights & Biases</a> (<a href='https://wandb.me/developer-guide' target=\"_blank\">docs</a>)<br>"
      ],
      "text/plain": [
       "<IPython.core.display.HTML object>"
      ]
     },
     "metadata": {},
     "output_type": "display_data"
    },
    {
     "data": {
      "text/html": [
       " View project at <a href='https://wandb.ai/noynetanel1-tel-aviv-university/GCN%20Graph%20classification%28DD%29_Gal' target=\"_blank\">https://wandb.ai/noynetanel1-tel-aviv-university/GCN%20Graph%20classification%28DD%29_Gal</a>"
      ],
      "text/plain": [
       "<IPython.core.display.HTML object>"
      ]
     },
     "metadata": {},
     "output_type": "display_data"
    },
    {
     "data": {
      "text/html": [
       " View run at <a href='https://wandb.ai/noynetanel1-tel-aviv-university/GCN%20Graph%20classification%28DD%29_Gal/runs/74jvxayt' target=\"_blank\">https://wandb.ai/noynetanel1-tel-aviv-university/GCN%20Graph%20classification%28DD%29_Gal/runs/74jvxayt</a>"
      ],
      "text/plain": [
       "<IPython.core.display.HTML object>"
      ]
     },
     "metadata": {},
     "output_type": "display_data"
    },
    {
     "name": "stdout",
     "output_type": "stream",
     "text": [
      "Seed 16 | Epoch 001 | Loss: 0.6890 | Test Acc: 0.6271\n",
      "Seed 16 | Epoch 002 | Loss: 0.6821 | Test Acc: 0.6271\n",
      "Seed 16 | Epoch 003 | Loss: 0.6773 | Test Acc: 0.6271\n",
      "Seed 16 | Epoch 004 | Loss: 0.6772 | Test Acc: 0.6271\n",
      "Seed 16 | Epoch 005 | Loss: 0.6725 | Test Acc: 0.6229\n",
      "Seed 16 | Epoch 006 | Loss: 0.6677 | Test Acc: 0.6271\n",
      "Seed 16 | Epoch 007 | Loss: 0.6616 | Test Acc: 0.6441\n",
      "Seed 16 | Epoch 008 | Loss: 0.6523 | Test Acc: 0.6441\n",
      "Seed 16 | Epoch 009 | Loss: 0.6355 | Test Acc: 0.7161\n",
      "Seed 16 | Epoch 010 | Loss: 0.6229 | Test Acc: 0.7161\n",
      "Seed 16 | Epoch 011 | Loss: 0.6096 | Test Acc: 0.6907\n",
      "Seed 16 | Epoch 012 | Loss: 0.6172 | Test Acc: 0.7161\n",
      "Seed 16 | Epoch 013 | Loss: 0.6149 | Test Acc: 0.6907\n",
      "Seed 16 | Epoch 014 | Loss: 0.5986 | Test Acc: 0.6949\n",
      "Seed 16 | Epoch 015 | Loss: 0.5956 | Test Acc: 0.6822\n",
      "Seed 16 | Epoch 016 | Loss: 0.5957 | Test Acc: 0.7203\n",
      "Seed 16 | Epoch 017 | Loss: 0.5927 | Test Acc: 0.7203\n",
      "Seed 16 | Epoch 018 | Loss: 0.5853 | Test Acc: 0.7161\n",
      "Seed 16 | Epoch 019 | Loss: 0.5894 | Test Acc: 0.7119\n",
      "Seed 16 | Epoch 020 | Loss: 0.5847 | Test Acc: 0.7203\n",
      "Seed 16 | Epoch 021 | Loss: 0.5950 | Test Acc: 0.7246\n",
      "Seed 16 | Epoch 022 | Loss: 0.5892 | Test Acc: 0.7034\n",
      "Seed 16 | Epoch 023 | Loss: 0.5831 | Test Acc: 0.7076\n",
      "Seed 16 | Epoch 024 | Loss: 0.5768 | Test Acc: 0.7246\n",
      "Seed 16 | Epoch 025 | Loss: 0.5825 | Test Acc: 0.7246\n",
      "Seed 16 | Epoch 026 | Loss: 0.5713 | Test Acc: 0.7076\n",
      "Seed 16 | Epoch 027 | Loss: 0.5809 | Test Acc: 0.7246\n",
      "Seed 16 | Epoch 028 | Loss: 0.5764 | Test Acc: 0.7246\n",
      "Seed 16 | Epoch 029 | Loss: 0.5786 | Test Acc: 0.7161\n",
      "Seed 16 | Epoch 030 | Loss: 0.5692 | Test Acc: 0.7203\n",
      "Seed 16 | Epoch 031 | Loss: 0.5707 | Test Acc: 0.7331\n",
      "Seed 16 | Epoch 032 | Loss: 0.5742 | Test Acc: 0.7119\n",
      "Seed 16 | Epoch 033 | Loss: 0.5682 | Test Acc: 0.7119\n",
      "Seed 16 | Epoch 034 | Loss: 0.5697 | Test Acc: 0.7161\n",
      "Seed 16 | Epoch 035 | Loss: 0.5680 | Test Acc: 0.6356\n",
      "Seed 16 | Epoch 036 | Loss: 0.5714 | Test Acc: 0.7203\n",
      "Seed 16 | Epoch 037 | Loss: 0.5781 | Test Acc: 0.7246\n",
      "Seed 16 | Epoch 038 | Loss: 0.5629 | Test Acc: 0.7203\n",
      "Seed 16 | Epoch 039 | Loss: 0.5647 | Test Acc: 0.7203\n",
      "Seed 16 | Epoch 040 | Loss: 0.5651 | Test Acc: 0.7076\n",
      "Seed 16 | Epoch 041 | Loss: 0.5677 | Test Acc: 0.7246\n",
      "Seed 16 | Epoch 042 | Loss: 0.5683 | Test Acc: 0.7288\n",
      "Seed 16 | Epoch 043 | Loss: 0.5637 | Test Acc: 0.7288\n",
      "Seed 16 | Epoch 044 | Loss: 0.5567 | Test Acc: 0.7246\n",
      "Seed 16 | Epoch 045 | Loss: 0.5662 | Test Acc: 0.7246\n",
      "Seed 16 | Epoch 046 | Loss: 0.5582 | Test Acc: 0.7246\n",
      "Seed 16 | Epoch 047 | Loss: 0.5573 | Test Acc: 0.7203\n",
      "Seed 16 | Epoch 048 | Loss: 0.5535 | Test Acc: 0.7288\n",
      "Seed 16 | Epoch 049 | Loss: 0.5527 | Test Acc: 0.7373\n",
      "Seed 16 | Epoch 050 | Loss: 0.5518 | Test Acc: 0.7203\n"
     ]
    },
    {
     "data": {
      "text/html": [],
      "text/plain": [
       "<IPython.core.display.HTML object>"
      ]
     },
     "metadata": {},
     "output_type": "display_data"
    },
    {
     "data": {
      "text/html": [
       "<br>    <style><br>        .wandb-row {<br>            display: flex;<br>            flex-direction: row;<br>            flex-wrap: wrap;<br>            justify-content: flex-start;<br>            width: 100%;<br>        }<br>        .wandb-col {<br>            display: flex;<br>            flex-direction: column;<br>            flex-basis: 100%;<br>            flex: 1;<br>            padding: 10px;<br>        }<br>    </style><br><div class=\"wandb-row\"><div class=\"wandb-col\"><h3>Run history:</h3><br/><table class=\"wandb\"><tr><td>epoch</td><td>▁▁▁▁▂▂▂▂▂▂▃▃▃▃▃▄▄▄▄▄▄▅▅▅▅▅▆▆▆▆▆▆▇▇▇▇▇███</td></tr><tr><td>loss</td><td>██▇▇▇▇▆▅▅▄▄▃▃▃▃▃▃▃▃▃▂▂▂▂▂▂▂▂▂▂▂▂▂▂▂▂▁▁▁▁</td></tr><tr><td>test_acc</td><td>▁▁▁▁▁▂▂▇▇▅▅▆▅▇▇▇▇█▆█▇██▇▇▇▇▇▂▇▇▇▇█████▇▇</td></tr><tr><td>train_acc</td><td>▁▁▁▁▁▂▂▅▇▄▆▇▆▇▇▇▇▇▇▇█▇█▇▇▇███▆▇█████████</td></tr></table><br/></div><div class=\"wandb-col\"><h3>Run summary:</h3><br/><table class=\"wandb\"><tr><td>epoch</td><td>50</td></tr><tr><td>loss</td><td>0.55176</td></tr><tr><td>test_acc</td><td>0.72034</td></tr><tr><td>train_acc</td><td>0.73673</td></tr></table><br/></div></div>"
      ],
      "text/plain": [
       "<IPython.core.display.HTML object>"
      ]
     },
     "metadata": {},
     "output_type": "display_data"
    },
    {
     "data": {
      "text/html": [
       " View run <strong style=\"color:#cdcd00\">GCN_baseline_seed_16</strong> at: <a href='https://wandb.ai/noynetanel1-tel-aviv-university/GCN%20Graph%20classification%28DD%29_Gal/runs/74jvxayt' target=\"_blank\">https://wandb.ai/noynetanel1-tel-aviv-university/GCN%20Graph%20classification%28DD%29_Gal/runs/74jvxayt</a><br> View project at: <a href='https://wandb.ai/noynetanel1-tel-aviv-university/GCN%20Graph%20classification%28DD%29_Gal' target=\"_blank\">https://wandb.ai/noynetanel1-tel-aviv-university/GCN%20Graph%20classification%28DD%29_Gal</a><br>Synced 5 W&B file(s), 0 media file(s), 0 artifact file(s) and 0 other file(s)"
      ],
      "text/plain": [
       "<IPython.core.display.HTML object>"
      ]
     },
     "metadata": {},
     "output_type": "display_data"
    },
    {
     "data": {
      "text/html": [
       "Find logs at: <code>./wandb/run-20250822_195641-74jvxayt/logs</code>"
      ],
      "text/plain": [
       "<IPython.core.display.HTML object>"
      ]
     },
     "metadata": {},
     "output_type": "display_data"
    },
    {
     "data": {
      "text/html": [
       "Tracking run with wandb version 0.20.1"
      ],
      "text/plain": [
       "<IPython.core.display.HTML object>"
      ]
     },
     "metadata": {},
     "output_type": "display_data"
    },
    {
     "data": {
      "text/html": [
       "Run data is saved locally in <code>/kaggle/working/wandb/run-20250822_195817-xhqv1aip</code>"
      ],
      "text/plain": [
       "<IPython.core.display.HTML object>"
      ]
     },
     "metadata": {},
     "output_type": "display_data"
    },
    {
     "data": {
      "text/html": [
       "Syncing run <strong><a href='https://wandb.ai/noynetanel1-tel-aviv-university/GCN%20Graph%20classification%28DD%29_Gal/runs/xhqv1aip' target=\"_blank\">GCN_baseline_seed_17</a></strong> to <a href='https://wandb.ai/noynetanel1-tel-aviv-university/GCN%20Graph%20classification%28DD%29_Gal' target=\"_blank\">Weights & Biases</a> (<a href='https://wandb.me/developer-guide' target=\"_blank\">docs</a>)<br>"
      ],
      "text/plain": [
       "<IPython.core.display.HTML object>"
      ]
     },
     "metadata": {},
     "output_type": "display_data"
    },
    {
     "data": {
      "text/html": [
       " View project at <a href='https://wandb.ai/noynetanel1-tel-aviv-university/GCN%20Graph%20classification%28DD%29_Gal' target=\"_blank\">https://wandb.ai/noynetanel1-tel-aviv-university/GCN%20Graph%20classification%28DD%29_Gal</a>"
      ],
      "text/plain": [
       "<IPython.core.display.HTML object>"
      ]
     },
     "metadata": {},
     "output_type": "display_data"
    },
    {
     "data": {
      "text/html": [
       " View run at <a href='https://wandb.ai/noynetanel1-tel-aviv-university/GCN%20Graph%20classification%28DD%29_Gal/runs/xhqv1aip' target=\"_blank\">https://wandb.ai/noynetanel1-tel-aviv-university/GCN%20Graph%20classification%28DD%29_Gal/runs/xhqv1aip</a>"
      ],
      "text/plain": [
       "<IPython.core.display.HTML object>"
      ]
     },
     "metadata": {},
     "output_type": "display_data"
    },
    {
     "name": "stdout",
     "output_type": "stream",
     "text": [
      "Seed 17 | Epoch 001 | Loss: 0.6778 | Test Acc: 0.5932\n",
      "Seed 17 | Epoch 002 | Loss: 0.6769 | Test Acc: 0.5932\n",
      "Seed 17 | Epoch 003 | Loss: 0.6726 | Test Acc: 0.5932\n",
      "Seed 17 | Epoch 004 | Loss: 0.6639 | Test Acc: 0.6059\n",
      "Seed 17 | Epoch 005 | Loss: 0.6505 | Test Acc: 0.6525\n",
      "Seed 17 | Epoch 006 | Loss: 0.6323 | Test Acc: 0.6780\n",
      "Seed 17 | Epoch 007 | Loss: 0.6185 | Test Acc: 0.6822\n",
      "Seed 17 | Epoch 008 | Loss: 0.6016 | Test Acc: 0.6695\n",
      "Seed 17 | Epoch 009 | Loss: 0.5946 | Test Acc: 0.6653\n",
      "Seed 17 | Epoch 010 | Loss: 0.5895 | Test Acc: 0.6822\n",
      "Seed 17 | Epoch 011 | Loss: 0.5851 | Test Acc: 0.6822\n",
      "Seed 17 | Epoch 012 | Loss: 0.5944 | Test Acc: 0.6271\n",
      "Seed 17 | Epoch 013 | Loss: 0.5808 | Test Acc: 0.6822\n",
      "Seed 17 | Epoch 014 | Loss: 0.5843 | Test Acc: 0.6992\n",
      "Seed 17 | Epoch 015 | Loss: 0.5693 | Test Acc: 0.6695\n",
      "Seed 17 | Epoch 016 | Loss: 0.5671 | Test Acc: 0.6695\n",
      "Seed 17 | Epoch 017 | Loss: 0.5655 | Test Acc: 0.6992\n",
      "Seed 17 | Epoch 018 | Loss: 0.5794 | Test Acc: 0.6949\n",
      "Seed 17 | Epoch 019 | Loss: 0.5615 | Test Acc: 0.6822\n",
      "Seed 17 | Epoch 020 | Loss: 0.5693 | Test Acc: 0.7034\n",
      "Seed 17 | Epoch 021 | Loss: 0.5571 | Test Acc: 0.6907\n",
      "Seed 17 | Epoch 022 | Loss: 0.5708 | Test Acc: 0.7076\n",
      "Seed 17 | Epoch 023 | Loss: 0.5677 | Test Acc: 0.6907\n",
      "Seed 17 | Epoch 024 | Loss: 0.5569 | Test Acc: 0.6695\n",
      "Seed 17 | Epoch 025 | Loss: 0.5552 | Test Acc: 0.6949\n",
      "Seed 17 | Epoch 026 | Loss: 0.5551 | Test Acc: 0.6864\n",
      "Seed 17 | Epoch 027 | Loss: 0.5569 | Test Acc: 0.6907\n",
      "Seed 17 | Epoch 028 | Loss: 0.5489 | Test Acc: 0.6907\n",
      "Seed 17 | Epoch 029 | Loss: 0.5567 | Test Acc: 0.6907\n",
      "Seed 17 | Epoch 030 | Loss: 0.5564 | Test Acc: 0.6907\n",
      "Seed 17 | Epoch 031 | Loss: 0.5491 | Test Acc: 0.6907\n",
      "Seed 17 | Epoch 032 | Loss: 0.5524 | Test Acc: 0.6864\n",
      "Seed 17 | Epoch 033 | Loss: 0.5517 | Test Acc: 0.6822\n",
      "Seed 17 | Epoch 034 | Loss: 0.5465 | Test Acc: 0.6949\n",
      "Seed 17 | Epoch 035 | Loss: 0.5511 | Test Acc: 0.6907\n",
      "Seed 17 | Epoch 036 | Loss: 0.5492 | Test Acc: 0.6907\n",
      "Seed 17 | Epoch 037 | Loss: 0.5547 | Test Acc: 0.6907\n",
      "Seed 17 | Epoch 038 | Loss: 0.5566 | Test Acc: 0.6864\n",
      "Seed 17 | Epoch 039 | Loss: 0.5521 | Test Acc: 0.6992\n",
      "Seed 17 | Epoch 040 | Loss: 0.5461 | Test Acc: 0.6864\n",
      "Seed 17 | Epoch 041 | Loss: 0.5383 | Test Acc: 0.6992\n",
      "Seed 17 | Epoch 042 | Loss: 0.5409 | Test Acc: 0.6822\n",
      "Seed 17 | Epoch 043 | Loss: 0.5392 | Test Acc: 0.6907\n",
      "Seed 17 | Epoch 044 | Loss: 0.5357 | Test Acc: 0.6907\n",
      "Seed 17 | Epoch 045 | Loss: 0.5387 | Test Acc: 0.6864\n",
      "Seed 17 | Epoch 046 | Loss: 0.5332 | Test Acc: 0.6653\n",
      "Seed 17 | Epoch 047 | Loss: 0.5379 | Test Acc: 0.6992\n",
      "Seed 17 | Epoch 048 | Loss: 0.5330 | Test Acc: 0.6568\n",
      "Seed 17 | Epoch 049 | Loss: 0.5355 | Test Acc: 0.6568\n",
      "Seed 17 | Epoch 050 | Loss: 0.5405 | Test Acc: 0.7034\n"
     ]
    },
    {
     "data": {
      "text/html": [],
      "text/plain": [
       "<IPython.core.display.HTML object>"
      ]
     },
     "metadata": {},
     "output_type": "display_data"
    },
    {
     "data": {
      "text/html": [
       "<br>    <style><br>        .wandb-row {<br>            display: flex;<br>            flex-direction: row;<br>            flex-wrap: wrap;<br>            justify-content: flex-start;<br>            width: 100%;<br>        }<br>        .wandb-col {<br>            display: flex;<br>            flex-direction: column;<br>            flex-basis: 100%;<br>            flex: 1;<br>            padding: 10px;<br>        }<br>    </style><br><div class=\"wandb-row\"><div class=\"wandb-col\"><h3>Run history:</h3><br/><table class=\"wandb\"><tr><td>epoch</td><td>▁▁▁▁▂▂▂▂▂▂▃▃▃▃▃▄▄▄▄▄▅▅▅▅▅▅▆▆▆▆▆▇▇▇▇▇▇███</td></tr><tr><td>loss</td><td>███▇▇▅▄▄▄▄▃▃▃▃▃▂▃▂▃▂▂▂▂▂▂▂▂▂▂▂▂▂▂▁▁▁▁▁▁▁</td></tr><tr><td>test_acc</td><td>▁▁▁▂▅▆▆▅▆▆▆▇▆▆▇▆▇█▇▆▇▇▇▇▇▇▆▇▇▇▇▇▇▇▆▇▅▇▅█</td></tr><tr><td>train_acc</td><td>▁▁▁▁▃▆▆▇▆▆▆▇▇▆▇▇▇▇▇▇█▇█▇▇█████▇█▇█████▇█</td></tr></table><br/></div><div class=\"wandb-col\"><h3>Run summary:</h3><br/><table class=\"wandb\"><tr><td>epoch</td><td>50</td></tr><tr><td>loss</td><td>0.54046</td></tr><tr><td>test_acc</td><td>0.70339</td></tr><tr><td>train_acc</td><td>0.75053</td></tr></table><br/></div></div>"
      ],
      "text/plain": [
       "<IPython.core.display.HTML object>"
      ]
     },
     "metadata": {},
     "output_type": "display_data"
    },
    {
     "data": {
      "text/html": [
       " View run <strong style=\"color:#cdcd00\">GCN_baseline_seed_17</strong> at: <a href='https://wandb.ai/noynetanel1-tel-aviv-university/GCN%20Graph%20classification%28DD%29_Gal/runs/xhqv1aip' target=\"_blank\">https://wandb.ai/noynetanel1-tel-aviv-university/GCN%20Graph%20classification%28DD%29_Gal/runs/xhqv1aip</a><br> View project at: <a href='https://wandb.ai/noynetanel1-tel-aviv-university/GCN%20Graph%20classification%28DD%29_Gal' target=\"_blank\">https://wandb.ai/noynetanel1-tel-aviv-university/GCN%20Graph%20classification%28DD%29_Gal</a><br>Synced 5 W&B file(s), 0 media file(s), 0 artifact file(s) and 0 other file(s)"
      ],
      "text/plain": [
       "<IPython.core.display.HTML object>"
      ]
     },
     "metadata": {},
     "output_type": "display_data"
    },
    {
     "data": {
      "text/html": [
       "Find logs at: <code>./wandb/run-20250822_195817-xhqv1aip/logs</code>"
      ],
      "text/plain": [
       "<IPython.core.display.HTML object>"
      ]
     },
     "metadata": {},
     "output_type": "display_data"
    },
    {
     "data": {
      "text/html": [
       "Tracking run with wandb version 0.20.1"
      ],
      "text/plain": [
       "<IPython.core.display.HTML object>"
      ]
     },
     "metadata": {},
     "output_type": "display_data"
    },
    {
     "data": {
      "text/html": [
       "Run data is saved locally in <code>/kaggle/working/wandb/run-20250822_195955-ioiryzhx</code>"
      ],
      "text/plain": [
       "<IPython.core.display.HTML object>"
      ]
     },
     "metadata": {},
     "output_type": "display_data"
    },
    {
     "data": {
      "text/html": [
       "Syncing run <strong><a href='https://wandb.ai/noynetanel1-tel-aviv-university/GCN%20Graph%20classification%28DD%29_Gal/runs/ioiryzhx' target=\"_blank\">GCN_baseline_seed_18</a></strong> to <a href='https://wandb.ai/noynetanel1-tel-aviv-university/GCN%20Graph%20classification%28DD%29_Gal' target=\"_blank\">Weights & Biases</a> (<a href='https://wandb.me/developer-guide' target=\"_blank\">docs</a>)<br>"
      ],
      "text/plain": [
       "<IPython.core.display.HTML object>"
      ]
     },
     "metadata": {},
     "output_type": "display_data"
    },
    {
     "data": {
      "text/html": [
       " View project at <a href='https://wandb.ai/noynetanel1-tel-aviv-university/GCN%20Graph%20classification%28DD%29_Gal' target=\"_blank\">https://wandb.ai/noynetanel1-tel-aviv-university/GCN%20Graph%20classification%28DD%29_Gal</a>"
      ],
      "text/plain": [
       "<IPython.core.display.HTML object>"
      ]
     },
     "metadata": {},
     "output_type": "display_data"
    },
    {
     "data": {
      "text/html": [
       " View run at <a href='https://wandb.ai/noynetanel1-tel-aviv-university/GCN%20Graph%20classification%28DD%29_Gal/runs/ioiryzhx' target=\"_blank\">https://wandb.ai/noynetanel1-tel-aviv-university/GCN%20Graph%20classification%28DD%29_Gal/runs/ioiryzhx</a>"
      ],
      "text/plain": [
       "<IPython.core.display.HTML object>"
      ]
     },
     "metadata": {},
     "output_type": "display_data"
    },
    {
     "name": "stdout",
     "output_type": "stream",
     "text": [
      "Seed 18 | Epoch 001 | Loss: 0.6885 | Test Acc: 0.5508\n",
      "Seed 18 | Epoch 002 | Loss: 0.6728 | Test Acc: 0.5508\n",
      "Seed 18 | Epoch 003 | Loss: 0.6727 | Test Acc: 0.5508\n",
      "Seed 18 | Epoch 004 | Loss: 0.6677 | Test Acc: 0.5508\n",
      "Seed 18 | Epoch 005 | Loss: 0.6662 | Test Acc: 0.5508\n",
      "Seed 18 | Epoch 006 | Loss: 0.6604 | Test Acc: 0.5593\n",
      "Seed 18 | Epoch 007 | Loss: 0.6519 | Test Acc: 0.5593\n",
      "Seed 18 | Epoch 008 | Loss: 0.6428 | Test Acc: 0.6737\n",
      "Seed 18 | Epoch 009 | Loss: 0.6319 | Test Acc: 0.5847\n",
      "Seed 18 | Epoch 010 | Loss: 0.6128 | Test Acc: 0.6737\n",
      "Seed 18 | Epoch 011 | Loss: 0.6036 | Test Acc: 0.6568\n",
      "Seed 18 | Epoch 012 | Loss: 0.6019 | Test Acc: 0.6949\n",
      "Seed 18 | Epoch 013 | Loss: 0.5955 | Test Acc: 0.6907\n",
      "Seed 18 | Epoch 014 | Loss: 0.5873 | Test Acc: 0.6949\n",
      "Seed 18 | Epoch 015 | Loss: 0.5971 | Test Acc: 0.6653\n",
      "Seed 18 | Epoch 016 | Loss: 0.5906 | Test Acc: 0.6907\n",
      "Seed 18 | Epoch 017 | Loss: 0.5786 | Test Acc: 0.6907\n",
      "Seed 18 | Epoch 018 | Loss: 0.5774 | Test Acc: 0.6949\n",
      "Seed 18 | Epoch 019 | Loss: 0.5785 | Test Acc: 0.6610\n",
      "Seed 18 | Epoch 020 | Loss: 0.5725 | Test Acc: 0.6737\n",
      "Seed 18 | Epoch 021 | Loss: 0.5755 | Test Acc: 0.6780\n",
      "Seed 18 | Epoch 022 | Loss: 0.5706 | Test Acc: 0.6780\n",
      "Seed 18 | Epoch 023 | Loss: 0.5763 | Test Acc: 0.6780\n",
      "Seed 18 | Epoch 024 | Loss: 0.5675 | Test Acc: 0.6822\n",
      "Seed 18 | Epoch 025 | Loss: 0.5758 | Test Acc: 0.6653\n",
      "Seed 18 | Epoch 026 | Loss: 0.5712 | Test Acc: 0.6737\n",
      "Seed 18 | Epoch 027 | Loss: 0.5658 | Test Acc: 0.6737\n",
      "Seed 18 | Epoch 028 | Loss: 0.5723 | Test Acc: 0.6780\n",
      "Seed 18 | Epoch 029 | Loss: 0.5751 | Test Acc: 0.6949\n",
      "Seed 18 | Epoch 030 | Loss: 0.5655 | Test Acc: 0.6864\n",
      "Seed 18 | Epoch 031 | Loss: 0.5684 | Test Acc: 0.6907\n",
      "Seed 18 | Epoch 032 | Loss: 0.5657 | Test Acc: 0.6610\n",
      "Seed 18 | Epoch 033 | Loss: 0.5875 | Test Acc: 0.6780\n",
      "Seed 18 | Epoch 034 | Loss: 0.5654 | Test Acc: 0.6864\n",
      "Seed 18 | Epoch 035 | Loss: 0.5672 | Test Acc: 0.6864\n",
      "Seed 18 | Epoch 036 | Loss: 0.5634 | Test Acc: 0.6780\n",
      "Seed 18 | Epoch 037 | Loss: 0.5572 | Test Acc: 0.6992\n",
      "Seed 18 | Epoch 038 | Loss: 0.5774 | Test Acc: 0.7034\n",
      "Seed 18 | Epoch 039 | Loss: 0.5579 | Test Acc: 0.6695\n",
      "Seed 18 | Epoch 040 | Loss: 0.5601 | Test Acc: 0.6737\n",
      "Seed 18 | Epoch 041 | Loss: 0.5585 | Test Acc: 0.6780\n",
      "Seed 18 | Epoch 042 | Loss: 0.5601 | Test Acc: 0.6907\n",
      "Seed 18 | Epoch 043 | Loss: 0.5587 | Test Acc: 0.6695\n",
      "Seed 18 | Epoch 044 | Loss: 0.5583 | Test Acc: 0.6822\n",
      "Seed 18 | Epoch 045 | Loss: 0.5605 | Test Acc: 0.6780\n",
      "Seed 18 | Epoch 046 | Loss: 0.5593 | Test Acc: 0.6737\n",
      "Seed 18 | Epoch 047 | Loss: 0.5559 | Test Acc: 0.6695\n",
      "Seed 18 | Epoch 048 | Loss: 0.5566 | Test Acc: 0.6907\n",
      "Seed 18 | Epoch 049 | Loss: 0.5517 | Test Acc: 0.6737\n",
      "Seed 18 | Epoch 050 | Loss: 0.5535 | Test Acc: 0.6695\n"
     ]
    },
    {
     "data": {
      "text/html": [],
      "text/plain": [
       "<IPython.core.display.HTML object>"
      ]
     },
     "metadata": {},
     "output_type": "display_data"
    },
    {
     "data": {
      "text/html": [
       "<br>    <style><br>        .wandb-row {<br>            display: flex;<br>            flex-direction: row;<br>            flex-wrap: wrap;<br>            justify-content: flex-start;<br>            width: 100%;<br>        }<br>        .wandb-col {<br>            display: flex;<br>            flex-direction: column;<br>            flex-basis: 100%;<br>            flex: 1;<br>            padding: 10px;<br>        }<br>    </style><br><div class=\"wandb-row\"><div class=\"wandb-col\"><h3>Run history:</h3><br/><table class=\"wandb\"><tr><td>epoch</td><td>▁▁▁▁▂▂▂▂▂▂▃▃▃▃▃▄▄▄▄▄▅▅▅▅▅▅▆▆▆▆▆▇▇▇▇▇▇███</td></tr><tr><td>loss</td><td>█▇▇▇▇▆▆▅▄▄▃▃▃▂▂▂▂▂▂▂▂▂▂▂▂▂▃▂▂▂▂▁▁▁▁▁▁▁▁▁</td></tr><tr><td>test_acc</td><td>▁▁▁▁▁▁▇▃▇▆██▆██▇▇▇▇▇▇▇█▇█▇▇▇▇█▇▇▇█▇▇▇▇█▇</td></tr><tr><td>train_acc</td><td>▁▁▁▁▁▁▅▃▅▅▇▇▆█▇████▅███▇██▆▇██▇████▇████</td></tr></table><br/></div><div class=\"wandb-col\"><h3>Run summary:</h3><br/><table class=\"wandb\"><tr><td>epoch</td><td>50</td></tr><tr><td>loss</td><td>0.55352</td></tr><tr><td>test_acc</td><td>0.66949</td></tr><tr><td>train_acc</td><td>0.73992</td></tr></table><br/></div></div>"
      ],
      "text/plain": [
       "<IPython.core.display.HTML object>"
      ]
     },
     "metadata": {},
     "output_type": "display_data"
    },
    {
     "data": {
      "text/html": [
       " View run <strong style=\"color:#cdcd00\">GCN_baseline_seed_18</strong> at: <a href='https://wandb.ai/noynetanel1-tel-aviv-university/GCN%20Graph%20classification%28DD%29_Gal/runs/ioiryzhx' target=\"_blank\">https://wandb.ai/noynetanel1-tel-aviv-university/GCN%20Graph%20classification%28DD%29_Gal/runs/ioiryzhx</a><br> View project at: <a href='https://wandb.ai/noynetanel1-tel-aviv-university/GCN%20Graph%20classification%28DD%29_Gal' target=\"_blank\">https://wandb.ai/noynetanel1-tel-aviv-university/GCN%20Graph%20classification%28DD%29_Gal</a><br>Synced 5 W&B file(s), 0 media file(s), 0 artifact file(s) and 0 other file(s)"
      ],
      "text/plain": [
       "<IPython.core.display.HTML object>"
      ]
     },
     "metadata": {},
     "output_type": "display_data"
    },
    {
     "data": {
      "text/html": [
       "Find logs at: <code>./wandb/run-20250822_195955-ioiryzhx/logs</code>"
      ],
      "text/plain": [
       "<IPython.core.display.HTML object>"
      ]
     },
     "metadata": {},
     "output_type": "display_data"
    },
    {
     "data": {
      "text/html": [
       "Tracking run with wandb version 0.20.1"
      ],
      "text/plain": [
       "<IPython.core.display.HTML object>"
      ]
     },
     "metadata": {},
     "output_type": "display_data"
    },
    {
     "data": {
      "text/html": [
       "Run data is saved locally in <code>/kaggle/working/wandb/run-20250822_200132-l0fzq3f0</code>"
      ],
      "text/plain": [
       "<IPython.core.display.HTML object>"
      ]
     },
     "metadata": {},
     "output_type": "display_data"
    },
    {
     "data": {
      "text/html": [
       "Syncing run <strong><a href='https://wandb.ai/noynetanel1-tel-aviv-university/GCN%20Graph%20classification%28DD%29_Gal/runs/l0fzq3f0' target=\"_blank\">GCN_baseline_seed_19</a></strong> to <a href='https://wandb.ai/noynetanel1-tel-aviv-university/GCN%20Graph%20classification%28DD%29_Gal' target=\"_blank\">Weights & Biases</a> (<a href='https://wandb.me/developer-guide' target=\"_blank\">docs</a>)<br>"
      ],
      "text/plain": [
       "<IPython.core.display.HTML object>"
      ]
     },
     "metadata": {},
     "output_type": "display_data"
    },
    {
     "data": {
      "text/html": [
       " View project at <a href='https://wandb.ai/noynetanel1-tel-aviv-university/GCN%20Graph%20classification%28DD%29_Gal' target=\"_blank\">https://wandb.ai/noynetanel1-tel-aviv-university/GCN%20Graph%20classification%28DD%29_Gal</a>"
      ],
      "text/plain": [
       "<IPython.core.display.HTML object>"
      ]
     },
     "metadata": {},
     "output_type": "display_data"
    },
    {
     "data": {
      "text/html": [
       " View run at <a href='https://wandb.ai/noynetanel1-tel-aviv-university/GCN%20Graph%20classification%28DD%29_Gal/runs/l0fzq3f0' target=\"_blank\">https://wandb.ai/noynetanel1-tel-aviv-university/GCN%20Graph%20classification%28DD%29_Gal/runs/l0fzq3f0</a>"
      ],
      "text/plain": [
       "<IPython.core.display.HTML object>"
      ]
     },
     "metadata": {},
     "output_type": "display_data"
    },
    {
     "name": "stdout",
     "output_type": "stream",
     "text": [
      "Seed 19 | Epoch 001 | Loss: 0.6832 | Test Acc: 0.5847\n",
      "Seed 19 | Epoch 002 | Loss: 0.6814 | Test Acc: 0.5847\n",
      "Seed 19 | Epoch 003 | Loss: 0.6768 | Test Acc: 0.5847\n",
      "Seed 19 | Epoch 004 | Loss: 0.6716 | Test Acc: 0.5847\n",
      "Seed 19 | Epoch 005 | Loss: 0.6655 | Test Acc: 0.5847\n",
      "Seed 19 | Epoch 006 | Loss: 0.6591 | Test Acc: 0.6102\n",
      "Seed 19 | Epoch 007 | Loss: 0.6431 | Test Acc: 0.6525\n",
      "Seed 19 | Epoch 008 | Loss: 0.6337 | Test Acc: 0.6949\n",
      "Seed 19 | Epoch 009 | Loss: 0.6079 | Test Acc: 0.6695\n",
      "Seed 19 | Epoch 010 | Loss: 0.6092 | Test Acc: 0.6441\n",
      "Seed 19 | Epoch 011 | Loss: 0.6012 | Test Acc: 0.6695\n",
      "Seed 19 | Epoch 012 | Loss: 0.5854 | Test Acc: 0.6737\n",
      "Seed 19 | Epoch 013 | Loss: 0.5876 | Test Acc: 0.6356\n",
      "Seed 19 | Epoch 014 | Loss: 0.5903 | Test Acc: 0.6398\n",
      "Seed 19 | Epoch 015 | Loss: 0.5880 | Test Acc: 0.6822\n",
      "Seed 19 | Epoch 016 | Loss: 0.5731 | Test Acc: 0.6780\n",
      "Seed 19 | Epoch 017 | Loss: 0.5700 | Test Acc: 0.6864\n",
      "Seed 19 | Epoch 018 | Loss: 0.5739 | Test Acc: 0.6864\n",
      "Seed 19 | Epoch 019 | Loss: 0.5731 | Test Acc: 0.6864\n",
      "Seed 19 | Epoch 020 | Loss: 0.5609 | Test Acc: 0.6780\n",
      "Seed 19 | Epoch 021 | Loss: 0.5688 | Test Acc: 0.6525\n",
      "Seed 19 | Epoch 022 | Loss: 0.5667 | Test Acc: 0.6695\n",
      "Seed 19 | Epoch 023 | Loss: 0.5612 | Test Acc: 0.6822\n",
      "Seed 19 | Epoch 024 | Loss: 0.5623 | Test Acc: 0.6737\n",
      "Seed 19 | Epoch 025 | Loss: 0.5668 | Test Acc: 0.6610\n",
      "Seed 19 | Epoch 026 | Loss: 0.5715 | Test Acc: 0.6653\n",
      "Seed 19 | Epoch 027 | Loss: 0.5684 | Test Acc: 0.6653\n",
      "Seed 19 | Epoch 028 | Loss: 0.5631 | Test Acc: 0.6568\n",
      "Seed 19 | Epoch 029 | Loss: 0.5645 | Test Acc: 0.6822\n",
      "Seed 19 | Epoch 030 | Loss: 0.5592 | Test Acc: 0.6737\n",
      "Seed 19 | Epoch 031 | Loss: 0.5606 | Test Acc: 0.6737\n",
      "Seed 19 | Epoch 032 | Loss: 0.5541 | Test Acc: 0.6653\n",
      "Seed 19 | Epoch 033 | Loss: 0.5590 | Test Acc: 0.6780\n",
      "Seed 19 | Epoch 034 | Loss: 0.5547 | Test Acc: 0.6695\n",
      "Seed 19 | Epoch 035 | Loss: 0.5547 | Test Acc: 0.6568\n",
      "Seed 19 | Epoch 036 | Loss: 0.5543 | Test Acc: 0.6695\n",
      "Seed 19 | Epoch 037 | Loss: 0.5579 | Test Acc: 0.6822\n",
      "Seed 19 | Epoch 038 | Loss: 0.5597 | Test Acc: 0.6780\n",
      "Seed 19 | Epoch 039 | Loss: 0.5489 | Test Acc: 0.6780\n",
      "Seed 19 | Epoch 040 | Loss: 0.5513 | Test Acc: 0.6568\n",
      "Seed 19 | Epoch 041 | Loss: 0.5516 | Test Acc: 0.6653\n",
      "Seed 19 | Epoch 042 | Loss: 0.5501 | Test Acc: 0.6695\n",
      "Seed 19 | Epoch 043 | Loss: 0.5460 | Test Acc: 0.6653\n",
      "Seed 19 | Epoch 044 | Loss: 0.5523 | Test Acc: 0.6653\n",
      "Seed 19 | Epoch 045 | Loss: 0.5737 | Test Acc: 0.6822\n",
      "Seed 19 | Epoch 046 | Loss: 0.5560 | Test Acc: 0.6780\n",
      "Seed 19 | Epoch 047 | Loss: 0.5510 | Test Acc: 0.6695\n",
      "Seed 19 | Epoch 048 | Loss: 0.5452 | Test Acc: 0.6737\n",
      "Seed 19 | Epoch 049 | Loss: 0.5459 | Test Acc: 0.6780\n",
      "Seed 19 | Epoch 050 | Loss: 0.5481 | Test Acc: 0.6653\n"
     ]
    },
    {
     "data": {
      "text/html": [],
      "text/plain": [
       "<IPython.core.display.HTML object>"
      ]
     },
     "metadata": {},
     "output_type": "display_data"
    },
    {
     "data": {
      "text/html": [
       "<br>    <style><br>        .wandb-row {<br>            display: flex;<br>            flex-direction: row;<br>            flex-wrap: wrap;<br>            justify-content: flex-start;<br>            width: 100%;<br>        }<br>        .wandb-col {<br>            display: flex;<br>            flex-direction: column;<br>            flex-basis: 100%;<br>            flex: 1;<br>            padding: 10px;<br>        }<br>    </style><br><div class=\"wandb-row\"><div class=\"wandb-col\"><h3>Run history:</h3><br/><table class=\"wandb\"><tr><td>epoch</td><td>▁▁▁▁▂▂▂▂▂▂▃▃▃▃▃▄▄▄▄▄▅▅▅▅▅▆▆▆▆▆▆▇▇▇▇▇▇███</td></tr><tr><td>loss</td><td>███▇▇▆▅▄▄▄▃▃▃▂▂▂▂▂▂▂▂▂▂▂▂▂▁▂▁▁▂▁▁▁▁▁▂▁▁▁</td></tr><tr><td>test_acc</td><td>▁▁▁▁▃█▆▅▆▇▅▇▇▇▇▇▅▆▇▇▆▆▆▇▇▇▆▆▆▇▇▆▆▆▆▇▇▆▇▆</td></tr><tr><td>train_acc</td><td>▁▁▁▁▁▆▅▅▇▆▄▇█▇▇▇██▇████▇▇██████▇▇█▇▇████</td></tr></table><br/></div><div class=\"wandb-col\"><h3>Run summary:</h3><br/><table class=\"wandb\"><tr><td>epoch</td><td>50</td></tr><tr><td>loss</td><td>0.54809</td></tr><tr><td>test_acc</td><td>0.66525</td></tr><tr><td>train_acc</td><td>0.75053</td></tr></table><br/></div></div>"
      ],
      "text/plain": [
       "<IPython.core.display.HTML object>"
      ]
     },
     "metadata": {},
     "output_type": "display_data"
    },
    {
     "data": {
      "text/html": [
       " View run <strong style=\"color:#cdcd00\">GCN_baseline_seed_19</strong> at: <a href='https://wandb.ai/noynetanel1-tel-aviv-university/GCN%20Graph%20classification%28DD%29_Gal/runs/l0fzq3f0' target=\"_blank\">https://wandb.ai/noynetanel1-tel-aviv-university/GCN%20Graph%20classification%28DD%29_Gal/runs/l0fzq3f0</a><br> View project at: <a href='https://wandb.ai/noynetanel1-tel-aviv-university/GCN%20Graph%20classification%28DD%29_Gal' target=\"_blank\">https://wandb.ai/noynetanel1-tel-aviv-university/GCN%20Graph%20classification%28DD%29_Gal</a><br>Synced 5 W&B file(s), 0 media file(s), 0 artifact file(s) and 0 other file(s)"
      ],
      "text/plain": [
       "<IPython.core.display.HTML object>"
      ]
     },
     "metadata": {},
     "output_type": "display_data"
    },
    {
     "data": {
      "text/html": [
       "Find logs at: <code>./wandb/run-20250822_200132-l0fzq3f0/logs</code>"
      ],
      "text/plain": [
       "<IPython.core.display.HTML object>"
      ]
     },
     "metadata": {},
     "output_type": "display_data"
    },
    {
     "data": {
      "text/html": [
       "Tracking run with wandb version 0.20.1"
      ],
      "text/plain": [
       "<IPython.core.display.HTML object>"
      ]
     },
     "metadata": {},
     "output_type": "display_data"
    },
    {
     "data": {
      "text/html": [
       "Run data is saved locally in <code>/kaggle/working/wandb/run-20250822_200310-btqpb5pr</code>"
      ],
      "text/plain": [
       "<IPython.core.display.HTML object>"
      ]
     },
     "metadata": {},
     "output_type": "display_data"
    },
    {
     "data": {
      "text/html": [
       "Syncing run <strong><a href='https://wandb.ai/noynetanel1-tel-aviv-university/GCN%20Graph%20classification%28DD%29_Gal/runs/btqpb5pr' target=\"_blank\">GCN_baseline_seed_20</a></strong> to <a href='https://wandb.ai/noynetanel1-tel-aviv-university/GCN%20Graph%20classification%28DD%29_Gal' target=\"_blank\">Weights & Biases</a> (<a href='https://wandb.me/developer-guide' target=\"_blank\">docs</a>)<br>"
      ],
      "text/plain": [
       "<IPython.core.display.HTML object>"
      ]
     },
     "metadata": {},
     "output_type": "display_data"
    },
    {
     "data": {
      "text/html": [
       " View project at <a href='https://wandb.ai/noynetanel1-tel-aviv-university/GCN%20Graph%20classification%28DD%29_Gal' target=\"_blank\">https://wandb.ai/noynetanel1-tel-aviv-university/GCN%20Graph%20classification%28DD%29_Gal</a>"
      ],
      "text/plain": [
       "<IPython.core.display.HTML object>"
      ]
     },
     "metadata": {},
     "output_type": "display_data"
    },
    {
     "data": {
      "text/html": [
       " View run at <a href='https://wandb.ai/noynetanel1-tel-aviv-university/GCN%20Graph%20classification%28DD%29_Gal/runs/btqpb5pr' target=\"_blank\">https://wandb.ai/noynetanel1-tel-aviv-university/GCN%20Graph%20classification%28DD%29_Gal/runs/btqpb5pr</a>"
      ],
      "text/plain": [
       "<IPython.core.display.HTML object>"
      ]
     },
     "metadata": {},
     "output_type": "display_data"
    },
    {
     "name": "stdout",
     "output_type": "stream",
     "text": [
      "Seed 20 | Epoch 001 | Loss: 0.6884 | Test Acc: 0.6525\n",
      "Seed 20 | Epoch 002 | Loss: 0.6802 | Test Acc: 0.6525\n",
      "Seed 20 | Epoch 003 | Loss: 0.6794 | Test Acc: 0.6525\n",
      "Seed 20 | Epoch 004 | Loss: 0.6743 | Test Acc: 0.6695\n",
      "Seed 20 | Epoch 005 | Loss: 0.6668 | Test Acc: 0.6525\n",
      "Seed 20 | Epoch 006 | Loss: 0.6625 | Test Acc: 0.6864\n",
      "Seed 20 | Epoch 007 | Loss: 0.6477 | Test Acc: 0.7373\n",
      "Seed 20 | Epoch 008 | Loss: 0.6329 | Test Acc: 0.7373\n",
      "Seed 20 | Epoch 009 | Loss: 0.6239 | Test Acc: 0.6780\n",
      "Seed 20 | Epoch 010 | Loss: 0.6068 | Test Acc: 0.7627\n",
      "Seed 20 | Epoch 011 | Loss: 0.6043 | Test Acc: 0.7627\n",
      "Seed 20 | Epoch 012 | Loss: 0.5971 | Test Acc: 0.7288\n",
      "Seed 20 | Epoch 013 | Loss: 0.5993 | Test Acc: 0.6992\n",
      "Seed 20 | Epoch 014 | Loss: 0.5976 | Test Acc: 0.7669\n",
      "Seed 20 | Epoch 015 | Loss: 0.5924 | Test Acc: 0.7669\n",
      "Seed 20 | Epoch 016 | Loss: 0.5854 | Test Acc: 0.7754\n",
      "Seed 20 | Epoch 017 | Loss: 0.5875 | Test Acc: 0.7500\n",
      "Seed 20 | Epoch 018 | Loss: 0.5824 | Test Acc: 0.7415\n",
      "Seed 20 | Epoch 019 | Loss: 0.5813 | Test Acc: 0.7458\n",
      "Seed 20 | Epoch 020 | Loss: 0.5833 | Test Acc: 0.7500\n",
      "Seed 20 | Epoch 021 | Loss: 0.5773 | Test Acc: 0.7415\n",
      "Seed 20 | Epoch 022 | Loss: 0.5766 | Test Acc: 0.7458\n",
      "Seed 20 | Epoch 023 | Loss: 0.5718 | Test Acc: 0.7669\n",
      "Seed 20 | Epoch 024 | Loss: 0.5720 | Test Acc: 0.7542\n",
      "Seed 20 | Epoch 025 | Loss: 0.5696 | Test Acc: 0.7585\n",
      "Seed 20 | Epoch 026 | Loss: 0.5773 | Test Acc: 0.7712\n",
      "Seed 20 | Epoch 027 | Loss: 0.5687 | Test Acc: 0.7119\n",
      "Seed 20 | Epoch 028 | Loss: 0.5756 | Test Acc: 0.7669\n",
      "Seed 20 | Epoch 029 | Loss: 0.5653 | Test Acc: 0.7585\n",
      "Seed 20 | Epoch 030 | Loss: 0.5713 | Test Acc: 0.7542\n",
      "Seed 20 | Epoch 031 | Loss: 0.5682 | Test Acc: 0.7669\n",
      "Seed 20 | Epoch 032 | Loss: 0.5817 | Test Acc: 0.7415\n",
      "Seed 20 | Epoch 033 | Loss: 0.5638 | Test Acc: 0.7542\n",
      "Seed 20 | Epoch 034 | Loss: 0.5721 | Test Acc: 0.7585\n",
      "Seed 20 | Epoch 035 | Loss: 0.5732 | Test Acc: 0.6695\n",
      "Seed 20 | Epoch 036 | Loss: 0.5585 | Test Acc: 0.7500\n",
      "Seed 20 | Epoch 037 | Loss: 0.5624 | Test Acc: 0.7500\n",
      "Seed 20 | Epoch 038 | Loss: 0.5640 | Test Acc: 0.7585\n",
      "Seed 20 | Epoch 039 | Loss: 0.5668 | Test Acc: 0.7669\n",
      "Seed 20 | Epoch 040 | Loss: 0.5603 | Test Acc: 0.7585\n",
      "Seed 20 | Epoch 041 | Loss: 0.5535 | Test Acc: 0.7542\n",
      "Seed 20 | Epoch 042 | Loss: 0.5556 | Test Acc: 0.7754\n",
      "Seed 20 | Epoch 043 | Loss: 0.5567 | Test Acc: 0.7627\n",
      "Seed 20 | Epoch 044 | Loss: 0.5529 | Test Acc: 0.7542\n",
      "Seed 20 | Epoch 045 | Loss: 0.5610 | Test Acc: 0.7627\n",
      "Seed 20 | Epoch 046 | Loss: 0.5544 | Test Acc: 0.7585\n",
      "Seed 20 | Epoch 047 | Loss: 0.5567 | Test Acc: 0.7627\n",
      "Seed 20 | Epoch 048 | Loss: 0.5633 | Test Acc: 0.7669\n",
      "Seed 20 | Epoch 049 | Loss: 0.5514 | Test Acc: 0.7627\n",
      "Seed 20 | Epoch 050 | Loss: 0.5467 | Test Acc: 0.7669\n"
     ]
    },
    {
     "data": {
      "text/html": [],
      "text/plain": [
       "<IPython.core.display.HTML object>"
      ]
     },
     "metadata": {},
     "output_type": "display_data"
    },
    {
     "data": {
      "text/html": [
       "<br>    <style><br>        .wandb-row {<br>            display: flex;<br>            flex-direction: row;<br>            flex-wrap: wrap;<br>            justify-content: flex-start;<br>            width: 100%;<br>        }<br>        .wandb-col {<br>            display: flex;<br>            flex-direction: column;<br>            flex-basis: 100%;<br>            flex: 1;<br>            padding: 10px;<br>        }<br>    </style><br><div class=\"wandb-row\"><div class=\"wandb-col\"><h3>Run history:</h3><br/><table class=\"wandb\"><tr><td>epoch</td><td>▁▁▁▁▂▂▂▂▂▂▃▃▃▃▃▄▄▄▄▄▅▅▅▅▅▆▆▆▆▆▆▇▇▇▇▇▇███</td></tr><tr><td>loss</td><td>███▇▇▆▅▅▄▄▄▄▃▃▃▃▃▃▂▂▃▂▂▂▂▃▂▂▂▂▂▂▂▁▁▂▁▁▂▁</td></tr><tr><td>test_acc</td><td>▁▁▁▂▁▆▂▇▇▅███▇▆▇▆▆█▇█▄█▇▇▆▇▇▂▇▇█▇▇█▇▇▇██</td></tr><tr><td>train_acc</td><td>▁▁▁▂▁▆▅▇▇▇▇▇▇▇▇▇▇▇▇▇▇▇▇▇███▇▆█▇▇▇▇▇▇███▇</td></tr></table><br/></div><div class=\"wandb-col\"><h3>Run summary:</h3><br/><table class=\"wandb\"><tr><td>epoch</td><td>50</td></tr><tr><td>loss</td><td>0.54667</td></tr><tr><td>test_acc</td><td>0.76695</td></tr><tr><td>train_acc</td><td>0.72293</td></tr></table><br/></div></div>"
      ],
      "text/plain": [
       "<IPython.core.display.HTML object>"
      ]
     },
     "metadata": {},
     "output_type": "display_data"
    },
    {
     "data": {
      "text/html": [
       " View run <strong style=\"color:#cdcd00\">GCN_baseline_seed_20</strong> at: <a href='https://wandb.ai/noynetanel1-tel-aviv-university/GCN%20Graph%20classification%28DD%29_Gal/runs/btqpb5pr' target=\"_blank\">https://wandb.ai/noynetanel1-tel-aviv-university/GCN%20Graph%20classification%28DD%29_Gal/runs/btqpb5pr</a><br> View project at: <a href='https://wandb.ai/noynetanel1-tel-aviv-university/GCN%20Graph%20classification%28DD%29_Gal' target=\"_blank\">https://wandb.ai/noynetanel1-tel-aviv-university/GCN%20Graph%20classification%28DD%29_Gal</a><br>Synced 5 W&B file(s), 0 media file(s), 0 artifact file(s) and 0 other file(s)"
      ],
      "text/plain": [
       "<IPython.core.display.HTML object>"
      ]
     },
     "metadata": {},
     "output_type": "display_data"
    },
    {
     "data": {
      "text/html": [
       "Find logs at: <code>./wandb/run-20250822_200310-btqpb5pr/logs</code>"
      ],
      "text/plain": [
       "<IPython.core.display.HTML object>"
      ]
     },
     "metadata": {},
     "output_type": "display_data"
    },
    {
     "data": {
      "text/html": [
       "Tracking run with wandb version 0.20.1"
      ],
      "text/plain": [
       "<IPython.core.display.HTML object>"
      ]
     },
     "metadata": {},
     "output_type": "display_data"
    },
    {
     "data": {
      "text/html": [
       "Run data is saved locally in <code>/kaggle/working/wandb/run-20250822_200447-la8gh5ik</code>"
      ],
      "text/plain": [
       "<IPython.core.display.HTML object>"
      ]
     },
     "metadata": {},
     "output_type": "display_data"
    },
    {
     "data": {
      "text/html": [
       "Syncing run <strong><a href='https://wandb.ai/noynetanel1-tel-aviv-university/GCN%20Graph%20classification%28DD%29_Gal/runs/la8gh5ik' target=\"_blank\">GCN_baseline_seed_21</a></strong> to <a href='https://wandb.ai/noynetanel1-tel-aviv-university/GCN%20Graph%20classification%28DD%29_Gal' target=\"_blank\">Weights & Biases</a> (<a href='https://wandb.me/developer-guide' target=\"_blank\">docs</a>)<br>"
      ],
      "text/plain": [
       "<IPython.core.display.HTML object>"
      ]
     },
     "metadata": {},
     "output_type": "display_data"
    },
    {
     "data": {
      "text/html": [
       " View project at <a href='https://wandb.ai/noynetanel1-tel-aviv-university/GCN%20Graph%20classification%28DD%29_Gal' target=\"_blank\">https://wandb.ai/noynetanel1-tel-aviv-university/GCN%20Graph%20classification%28DD%29_Gal</a>"
      ],
      "text/plain": [
       "<IPython.core.display.HTML object>"
      ]
     },
     "metadata": {},
     "output_type": "display_data"
    },
    {
     "data": {
      "text/html": [
       " View run at <a href='https://wandb.ai/noynetanel1-tel-aviv-university/GCN%20Graph%20classification%28DD%29_Gal/runs/la8gh5ik' target=\"_blank\">https://wandb.ai/noynetanel1-tel-aviv-university/GCN%20Graph%20classification%28DD%29_Gal/runs/la8gh5ik</a>"
      ],
      "text/plain": [
       "<IPython.core.display.HTML object>"
      ]
     },
     "metadata": {},
     "output_type": "display_data"
    },
    {
     "name": "stdout",
     "output_type": "stream",
     "text": [
      "Seed 21 | Epoch 001 | Loss: 0.6858 | Test Acc: 0.5847\n",
      "Seed 21 | Epoch 002 | Loss: 0.6775 | Test Acc: 0.5847\n",
      "Seed 21 | Epoch 003 | Loss: 0.6762 | Test Acc: 0.5847\n",
      "Seed 21 | Epoch 004 | Loss: 0.6740 | Test Acc: 0.5847\n",
      "Seed 21 | Epoch 005 | Loss: 0.6716 | Test Acc: 0.5847\n",
      "Seed 21 | Epoch 006 | Loss: 0.6659 | Test Acc: 0.5932\n",
      "Seed 21 | Epoch 007 | Loss: 0.6582 | Test Acc: 0.6017\n",
      "Seed 21 | Epoch 008 | Loss: 0.6479 | Test Acc: 0.6483\n",
      "Seed 21 | Epoch 009 | Loss: 0.6338 | Test Acc: 0.7585\n",
      "Seed 21 | Epoch 010 | Loss: 0.6221 | Test Acc: 0.7542\n",
      "Seed 21 | Epoch 011 | Loss: 0.6143 | Test Acc: 0.7542\n",
      "Seed 21 | Epoch 012 | Loss: 0.6097 | Test Acc: 0.7627\n",
      "Seed 21 | Epoch 013 | Loss: 0.6025 | Test Acc: 0.7585\n",
      "Seed 21 | Epoch 014 | Loss: 0.5986 | Test Acc: 0.7881\n",
      "Seed 21 | Epoch 015 | Loss: 0.6000 | Test Acc: 0.7712\n",
      "Seed 21 | Epoch 016 | Loss: 0.5916 | Test Acc: 0.7839\n",
      "Seed 21 | Epoch 017 | Loss: 0.5919 | Test Acc: 0.8051\n",
      "Seed 21 | Epoch 018 | Loss: 0.5826 | Test Acc: 0.7203\n",
      "Seed 21 | Epoch 019 | Loss: 0.5937 | Test Acc: 0.7924\n",
      "Seed 21 | Epoch 020 | Loss: 0.5873 | Test Acc: 0.7966\n",
      "Seed 21 | Epoch 021 | Loss: 0.5866 | Test Acc: 0.7966\n",
      "Seed 21 | Epoch 022 | Loss: 0.5844 | Test Acc: 0.7415\n",
      "Seed 21 | Epoch 023 | Loss: 0.5871 | Test Acc: 0.7161\n",
      "Seed 21 | Epoch 024 | Loss: 0.5959 | Test Acc: 0.7415\n",
      "Seed 21 | Epoch 025 | Loss: 0.5892 | Test Acc: 0.7966\n",
      "Seed 21 | Epoch 026 | Loss: 0.5846 | Test Acc: 0.7669\n",
      "Seed 21 | Epoch 027 | Loss: 0.5868 | Test Acc: 0.7415\n",
      "Seed 21 | Epoch 028 | Loss: 0.5833 | Test Acc: 0.7500\n",
      "Seed 21 | Epoch 029 | Loss: 0.5865 | Test Acc: 0.7373\n",
      "Seed 21 | Epoch 030 | Loss: 0.5889 | Test Acc: 0.7415\n",
      "Seed 21 | Epoch 031 | Loss: 0.5891 | Test Acc: 0.7712\n",
      "Seed 21 | Epoch 032 | Loss: 0.5774 | Test Acc: 0.7500\n",
      "Seed 21 | Epoch 033 | Loss: 0.5775 | Test Acc: 0.7839\n",
      "Seed 21 | Epoch 034 | Loss: 0.5751 | Test Acc: 0.7797\n",
      "Seed 21 | Epoch 035 | Loss: 0.5797 | Test Acc: 0.7373\n",
      "Seed 21 | Epoch 036 | Loss: 0.5794 | Test Acc: 0.7331\n",
      "Seed 21 | Epoch 037 | Loss: 0.5870 | Test Acc: 0.7797\n",
      "Seed 21 | Epoch 038 | Loss: 0.5762 | Test Acc: 0.7754\n",
      "Seed 21 | Epoch 039 | Loss: 0.5756 | Test Acc: 0.7754\n",
      "Seed 21 | Epoch 040 | Loss: 0.5920 | Test Acc: 0.7415\n",
      "Seed 21 | Epoch 041 | Loss: 0.5740 | Test Acc: 0.7839\n",
      "Seed 21 | Epoch 042 | Loss: 0.5828 | Test Acc: 0.7415\n",
      "Seed 21 | Epoch 043 | Loss: 0.5769 | Test Acc: 0.7373\n",
      "Seed 21 | Epoch 044 | Loss: 0.5689 | Test Acc: 0.7500\n",
      "Seed 21 | Epoch 045 | Loss: 0.5755 | Test Acc: 0.7754\n",
      "Seed 21 | Epoch 046 | Loss: 0.5800 | Test Acc: 0.7839\n",
      "Seed 21 | Epoch 047 | Loss: 0.5797 | Test Acc: 0.7415\n",
      "Seed 21 | Epoch 048 | Loss: 0.5864 | Test Acc: 0.7415\n",
      "Seed 21 | Epoch 049 | Loss: 0.5735 | Test Acc: 0.7288\n",
      "Seed 21 | Epoch 050 | Loss: 0.5777 | Test Acc: 0.7542\n"
     ]
    },
    {
     "data": {
      "text/html": [],
      "text/plain": [
       "<IPython.core.display.HTML object>"
      ]
     },
     "metadata": {},
     "output_type": "display_data"
    },
    {
     "data": {
      "text/html": [
       "<br>    <style><br>        .wandb-row {<br>            display: flex;<br>            flex-direction: row;<br>            flex-wrap: wrap;<br>            justify-content: flex-start;<br>            width: 100%;<br>        }<br>        .wandb-col {<br>            display: flex;<br>            flex-direction: column;<br>            flex-basis: 100%;<br>            flex: 1;<br>            padding: 10px;<br>        }<br>    </style><br><div class=\"wandb-row\"><div class=\"wandb-col\"><h3>Run history:</h3><br/><table class=\"wandb\"><tr><td>epoch</td><td>▁▁▁▂▂▂▂▂▂▃▃▃▃▃▃▄▄▄▄▄▅▅▅▅▅▅▆▆▆▆▆▆▇▇▇▇▇███</td></tr><tr><td>loss</td><td>████▇▆▅▄▄▃▃▃▂▂▂▂▂▂▂▂▂▂▂▂▂▁▁▁▁▂▁▂▁▂▁▁▁▁▂▁</td></tr><tr><td>test_acc</td><td>▁▁▁▁▁▂▃▇▆▆▇▇▇▇████▆▅█▇▆▆▆▇▆▇▇▆▇▇▇▆▇▆▇▇▆▆</td></tr><tr><td>train_acc</td><td>▁▁▁▁▁▂▄▇▇▇▇▇▇▇▇▇▇▇▇▆▇██▇▇████▇█▇▇█▇██▇▇▇</td></tr></table><br/></div><div class=\"wandb-col\"><h3>Run summary:</h3><br/><table class=\"wandb\"><tr><td>epoch</td><td>50</td></tr><tr><td>loss</td><td>0.57767</td></tr><tr><td>test_acc</td><td>0.75424</td></tr><tr><td>train_acc</td><td>0.70701</td></tr></table><br/></div></div>"
      ],
      "text/plain": [
       "<IPython.core.display.HTML object>"
      ]
     },
     "metadata": {},
     "output_type": "display_data"
    },
    {
     "data": {
      "text/html": [
       " View run <strong style=\"color:#cdcd00\">GCN_baseline_seed_21</strong> at: <a href='https://wandb.ai/noynetanel1-tel-aviv-university/GCN%20Graph%20classification%28DD%29_Gal/runs/la8gh5ik' target=\"_blank\">https://wandb.ai/noynetanel1-tel-aviv-university/GCN%20Graph%20classification%28DD%29_Gal/runs/la8gh5ik</a><br> View project at: <a href='https://wandb.ai/noynetanel1-tel-aviv-university/GCN%20Graph%20classification%28DD%29_Gal' target=\"_blank\">https://wandb.ai/noynetanel1-tel-aviv-university/GCN%20Graph%20classification%28DD%29_Gal</a><br>Synced 5 W&B file(s), 0 media file(s), 0 artifact file(s) and 0 other file(s)"
      ],
      "text/plain": [
       "<IPython.core.display.HTML object>"
      ]
     },
     "metadata": {},
     "output_type": "display_data"
    },
    {
     "data": {
      "text/html": [
       "Find logs at: <code>./wandb/run-20250822_200447-la8gh5ik/logs</code>"
      ],
      "text/plain": [
       "<IPython.core.display.HTML object>"
      ]
     },
     "metadata": {},
     "output_type": "display_data"
    },
    {
     "data": {
      "text/html": [
       "Tracking run with wandb version 0.20.1"
      ],
      "text/plain": [
       "<IPython.core.display.HTML object>"
      ]
     },
     "metadata": {},
     "output_type": "display_data"
    },
    {
     "data": {
      "text/html": [
       "Run data is saved locally in <code>/kaggle/working/wandb/run-20250822_200621-8olhrjk5</code>"
      ],
      "text/plain": [
       "<IPython.core.display.HTML object>"
      ]
     },
     "metadata": {},
     "output_type": "display_data"
    },
    {
     "data": {
      "text/html": [
       "Syncing run <strong><a href='https://wandb.ai/noynetanel1-tel-aviv-university/GCN%20Graph%20classification%28DD%29_Gal/runs/8olhrjk5' target=\"_blank\">GCN_baseline_seed_22</a></strong> to <a href='https://wandb.ai/noynetanel1-tel-aviv-university/GCN%20Graph%20classification%28DD%29_Gal' target=\"_blank\">Weights & Biases</a> (<a href='https://wandb.me/developer-guide' target=\"_blank\">docs</a>)<br>"
      ],
      "text/plain": [
       "<IPython.core.display.HTML object>"
      ]
     },
     "metadata": {},
     "output_type": "display_data"
    },
    {
     "data": {
      "text/html": [
       " View project at <a href='https://wandb.ai/noynetanel1-tel-aviv-university/GCN%20Graph%20classification%28DD%29_Gal' target=\"_blank\">https://wandb.ai/noynetanel1-tel-aviv-university/GCN%20Graph%20classification%28DD%29_Gal</a>"
      ],
      "text/plain": [
       "<IPython.core.display.HTML object>"
      ]
     },
     "metadata": {},
     "output_type": "display_data"
    },
    {
     "data": {
      "text/html": [
       " View run at <a href='https://wandb.ai/noynetanel1-tel-aviv-university/GCN%20Graph%20classification%28DD%29_Gal/runs/8olhrjk5' target=\"_blank\">https://wandb.ai/noynetanel1-tel-aviv-university/GCN%20Graph%20classification%28DD%29_Gal/runs/8olhrjk5</a>"
      ],
      "text/plain": [
       "<IPython.core.display.HTML object>"
      ]
     },
     "metadata": {},
     "output_type": "display_data"
    },
    {
     "name": "stdout",
     "output_type": "stream",
     "text": [
      "Seed 22 | Epoch 001 | Loss: 0.6845 | Test Acc: 0.5847\n",
      "Seed 22 | Epoch 002 | Loss: 0.6769 | Test Acc: 0.5847\n",
      "Seed 22 | Epoch 003 | Loss: 0.6737 | Test Acc: 0.5847\n",
      "Seed 22 | Epoch 004 | Loss: 0.6714 | Test Acc: 0.5847\n",
      "Seed 22 | Epoch 005 | Loss: 0.6657 | Test Acc: 0.5932\n",
      "Seed 22 | Epoch 006 | Loss: 0.6573 | Test Acc: 0.6780\n",
      "Seed 22 | Epoch 007 | Loss: 0.6493 | Test Acc: 0.6695\n",
      "Seed 22 | Epoch 008 | Loss: 0.6350 | Test Acc: 0.6864\n",
      "Seed 22 | Epoch 009 | Loss: 0.6232 | Test Acc: 0.6822\n",
      "Seed 22 | Epoch 010 | Loss: 0.6145 | Test Acc: 0.6737\n",
      "Seed 22 | Epoch 011 | Loss: 0.6077 | Test Acc: 0.6780\n",
      "Seed 22 | Epoch 012 | Loss: 0.5950 | Test Acc: 0.6822\n",
      "Seed 22 | Epoch 013 | Loss: 0.6067 | Test Acc: 0.6822\n",
      "Seed 22 | Epoch 014 | Loss: 0.5968 | Test Acc: 0.6949\n",
      "Seed 22 | Epoch 015 | Loss: 0.5851 | Test Acc: 0.7034\n",
      "Seed 22 | Epoch 016 | Loss: 0.5864 | Test Acc: 0.6907\n",
      "Seed 22 | Epoch 017 | Loss: 0.5807 | Test Acc: 0.6949\n",
      "Seed 22 | Epoch 018 | Loss: 0.5860 | Test Acc: 0.6864\n",
      "Seed 22 | Epoch 019 | Loss: 0.5905 | Test Acc: 0.7203\n",
      "Seed 22 | Epoch 020 | Loss: 0.5889 | Test Acc: 0.7076\n",
      "Seed 22 | Epoch 021 | Loss: 0.5852 | Test Acc: 0.7034\n",
      "Seed 22 | Epoch 022 | Loss: 0.5809 | Test Acc: 0.6907\n",
      "Seed 22 | Epoch 023 | Loss: 0.5806 | Test Acc: 0.7034\n",
      "Seed 22 | Epoch 024 | Loss: 0.5730 | Test Acc: 0.7076\n",
      "Seed 22 | Epoch 025 | Loss: 0.5737 | Test Acc: 0.7034\n",
      "Seed 22 | Epoch 026 | Loss: 0.5805 | Test Acc: 0.7246\n",
      "Seed 22 | Epoch 027 | Loss: 0.5794 | Test Acc: 0.6992\n",
      "Seed 22 | Epoch 028 | Loss: 0.5742 | Test Acc: 0.7331\n",
      "Seed 22 | Epoch 029 | Loss: 0.5721 | Test Acc: 0.7288\n",
      "Seed 22 | Epoch 030 | Loss: 0.5771 | Test Acc: 0.7034\n",
      "Seed 22 | Epoch 031 | Loss: 0.5660 | Test Acc: 0.6992\n",
      "Seed 22 | Epoch 032 | Loss: 0.5693 | Test Acc: 0.7288\n",
      "Seed 22 | Epoch 033 | Loss: 0.5690 | Test Acc: 0.7034\n",
      "Seed 22 | Epoch 034 | Loss: 0.5819 | Test Acc: 0.6780\n",
      "Seed 22 | Epoch 035 | Loss: 0.5684 | Test Acc: 0.7288\n",
      "Seed 22 | Epoch 036 | Loss: 0.5719 | Test Acc: 0.7161\n",
      "Seed 22 | Epoch 037 | Loss: 0.5624 | Test Acc: 0.7034\n",
      "Seed 22 | Epoch 038 | Loss: 0.5662 | Test Acc: 0.7331\n",
      "Seed 22 | Epoch 039 | Loss: 0.5616 | Test Acc: 0.7288\n",
      "Seed 22 | Epoch 040 | Loss: 0.5722 | Test Acc: 0.7331\n",
      "Seed 22 | Epoch 041 | Loss: 0.5598 | Test Acc: 0.7288\n",
      "Seed 22 | Epoch 042 | Loss: 0.5618 | Test Acc: 0.7034\n",
      "Seed 22 | Epoch 043 | Loss: 0.5661 | Test Acc: 0.7203\n",
      "Seed 22 | Epoch 044 | Loss: 0.5589 | Test Acc: 0.7288\n",
      "Seed 22 | Epoch 045 | Loss: 0.5578 | Test Acc: 0.7331\n",
      "Seed 22 | Epoch 046 | Loss: 0.5583 | Test Acc: 0.7246\n",
      "Seed 22 | Epoch 047 | Loss: 0.5553 | Test Acc: 0.7288\n",
      "Seed 22 | Epoch 048 | Loss: 0.5557 | Test Acc: 0.7203\n",
      "Seed 22 | Epoch 049 | Loss: 0.5526 | Test Acc: 0.7034\n",
      "Seed 22 | Epoch 050 | Loss: 0.5628 | Test Acc: 0.7203\n"
     ]
    },
    {
     "data": {
      "text/html": [],
      "text/plain": [
       "<IPython.core.display.HTML object>"
      ]
     },
     "metadata": {},
     "output_type": "display_data"
    },
    {
     "data": {
      "text/html": [
       "<br>    <style><br>        .wandb-row {<br>            display: flex;<br>            flex-direction: row;<br>            flex-wrap: wrap;<br>            justify-content: flex-start;<br>            width: 100%;<br>        }<br>        .wandb-col {<br>            display: flex;<br>            flex-direction: column;<br>            flex-basis: 100%;<br>            flex: 1;<br>            padding: 10px;<br>        }<br>    </style><br><div class=\"wandb-row\"><div class=\"wandb-col\"><h3>Run history:</h3><br/><table class=\"wandb\"><tr><td>epoch</td><td>▁▁▁▁▂▂▂▂▂▂▃▃▃▃▃▄▄▄▄▄▅▅▅▅▅▅▆▆▆▆▆▆▇▇▇▇▇▇██</td></tr><tr><td>loss</td><td>██▇▇▇▆▅▅▄▄▄▃▃▂▃▃▃▂▂▂▂▂▂▂▂▂▂▂▂▂▁▂▁▁▂▁▁▁▁▁</td></tr><tr><td>test_acc</td><td>▁▁▁▁▁▅▆▆▅▅▆▆▇▆▆▇▇▇▆▇▇█▆█▇▇▅█▇▇███▇▇███▇▇</td></tr><tr><td>train_acc</td><td>▁▁▁▁▁▄▇▅▆▆▇▇▇▇▇▇█▇███▇██▇█▇▆█▇████▇█████</td></tr></table><br/></div><div class=\"wandb-col\"><h3>Run summary:</h3><br/><table class=\"wandb\"><tr><td>epoch</td><td>50</td></tr><tr><td>loss</td><td>0.56278</td></tr><tr><td>test_acc</td><td>0.72034</td></tr><tr><td>train_acc</td><td>0.73992</td></tr></table><br/></div></div>"
      ],
      "text/plain": [
       "<IPython.core.display.HTML object>"
      ]
     },
     "metadata": {},
     "output_type": "display_data"
    },
    {
     "data": {
      "text/html": [
       " View run <strong style=\"color:#cdcd00\">GCN_baseline_seed_22</strong> at: <a href='https://wandb.ai/noynetanel1-tel-aviv-university/GCN%20Graph%20classification%28DD%29_Gal/runs/8olhrjk5' target=\"_blank\">https://wandb.ai/noynetanel1-tel-aviv-university/GCN%20Graph%20classification%28DD%29_Gal/runs/8olhrjk5</a><br> View project at: <a href='https://wandb.ai/noynetanel1-tel-aviv-university/GCN%20Graph%20classification%28DD%29_Gal' target=\"_blank\">https://wandb.ai/noynetanel1-tel-aviv-university/GCN%20Graph%20classification%28DD%29_Gal</a><br>Synced 5 W&B file(s), 0 media file(s), 0 artifact file(s) and 0 other file(s)"
      ],
      "text/plain": [
       "<IPython.core.display.HTML object>"
      ]
     },
     "metadata": {},
     "output_type": "display_data"
    },
    {
     "data": {
      "text/html": [
       "Find logs at: <code>./wandb/run-20250822_200621-8olhrjk5/logs</code>"
      ],
      "text/plain": [
       "<IPython.core.display.HTML object>"
      ]
     },
     "metadata": {},
     "output_type": "display_data"
    },
    {
     "data": {
      "text/html": [
       "Tracking run with wandb version 0.20.1"
      ],
      "text/plain": [
       "<IPython.core.display.HTML object>"
      ]
     },
     "metadata": {},
     "output_type": "display_data"
    },
    {
     "data": {
      "text/html": [
       "Run data is saved locally in <code>/kaggle/working/wandb/run-20250822_200758-4y5m6gb9</code>"
      ],
      "text/plain": [
       "<IPython.core.display.HTML object>"
      ]
     },
     "metadata": {},
     "output_type": "display_data"
    },
    {
     "data": {
      "text/html": [
       "Syncing run <strong><a href='https://wandb.ai/noynetanel1-tel-aviv-university/GCN%20Graph%20classification%28DD%29_Gal/runs/4y5m6gb9' target=\"_blank\">GCN_baseline_seed_23</a></strong> to <a href='https://wandb.ai/noynetanel1-tel-aviv-university/GCN%20Graph%20classification%28DD%29_Gal' target=\"_blank\">Weights & Biases</a> (<a href='https://wandb.me/developer-guide' target=\"_blank\">docs</a>)<br>"
      ],
      "text/plain": [
       "<IPython.core.display.HTML object>"
      ]
     },
     "metadata": {},
     "output_type": "display_data"
    },
    {
     "data": {
      "text/html": [
       " View project at <a href='https://wandb.ai/noynetanel1-tel-aviv-university/GCN%20Graph%20classification%28DD%29_Gal' target=\"_blank\">https://wandb.ai/noynetanel1-tel-aviv-university/GCN%20Graph%20classification%28DD%29_Gal</a>"
      ],
      "text/plain": [
       "<IPython.core.display.HTML object>"
      ]
     },
     "metadata": {},
     "output_type": "display_data"
    },
    {
     "data": {
      "text/html": [
       " View run at <a href='https://wandb.ai/noynetanel1-tel-aviv-university/GCN%20Graph%20classification%28DD%29_Gal/runs/4y5m6gb9' target=\"_blank\">https://wandb.ai/noynetanel1-tel-aviv-university/GCN%20Graph%20classification%28DD%29_Gal/runs/4y5m6gb9</a>"
      ],
      "text/plain": [
       "<IPython.core.display.HTML object>"
      ]
     },
     "metadata": {},
     "output_type": "display_data"
    },
    {
     "name": "stdout",
     "output_type": "stream",
     "text": [
      "Seed 23 | Epoch 001 | Loss: 0.6850 | Test Acc: 0.6186\n",
      "Seed 23 | Epoch 002 | Loss: 0.6817 | Test Acc: 0.6186\n",
      "Seed 23 | Epoch 003 | Loss: 0.6767 | Test Acc: 0.6186\n",
      "Seed 23 | Epoch 004 | Loss: 0.6743 | Test Acc: 0.6186\n",
      "Seed 23 | Epoch 005 | Loss: 0.6634 | Test Acc: 0.6356\n",
      "Seed 23 | Epoch 006 | Loss: 0.6516 | Test Acc: 0.6568\n",
      "Seed 23 | Epoch 007 | Loss: 0.6377 | Test Acc: 0.7034\n",
      "Seed 23 | Epoch 008 | Loss: 0.6185 | Test Acc: 0.6864\n",
      "Seed 23 | Epoch 009 | Loss: 0.6061 | Test Acc: 0.7203\n",
      "Seed 23 | Epoch 010 | Loss: 0.5997 | Test Acc: 0.6907\n",
      "Seed 23 | Epoch 011 | Loss: 0.5983 | Test Acc: 0.7119\n",
      "Seed 23 | Epoch 012 | Loss: 0.5991 | Test Acc: 0.7076\n",
      "Seed 23 | Epoch 013 | Loss: 0.5868 | Test Acc: 0.6568\n",
      "Seed 23 | Epoch 014 | Loss: 0.5838 | Test Acc: 0.6864\n",
      "Seed 23 | Epoch 015 | Loss: 0.5892 | Test Acc: 0.6992\n",
      "Seed 23 | Epoch 016 | Loss: 0.5857 | Test Acc: 0.7161\n",
      "Seed 23 | Epoch 017 | Loss: 0.5906 | Test Acc: 0.6695\n",
      "Seed 23 | Epoch 018 | Loss: 0.5991 | Test Acc: 0.6864\n",
      "Seed 23 | Epoch 019 | Loss: 0.5777 | Test Acc: 0.6949\n",
      "Seed 23 | Epoch 020 | Loss: 0.5738 | Test Acc: 0.7161\n",
      "Seed 23 | Epoch 021 | Loss: 0.5714 | Test Acc: 0.7076\n",
      "Seed 23 | Epoch 022 | Loss: 0.5838 | Test Acc: 0.6864\n",
      "Seed 23 | Epoch 023 | Loss: 0.5715 | Test Acc: 0.7161\n",
      "Seed 23 | Epoch 024 | Loss: 0.5728 | Test Acc: 0.6992\n",
      "Seed 23 | Epoch 025 | Loss: 0.5718 | Test Acc: 0.6737\n",
      "Seed 23 | Epoch 026 | Loss: 0.5727 | Test Acc: 0.7203\n",
      "Seed 23 | Epoch 027 | Loss: 0.5736 | Test Acc: 0.6864\n",
      "Seed 23 | Epoch 028 | Loss: 0.5768 | Test Acc: 0.7161\n",
      "Seed 23 | Epoch 029 | Loss: 0.5696 | Test Acc: 0.7076\n",
      "Seed 23 | Epoch 030 | Loss: 0.5684 | Test Acc: 0.7161\n",
      "Seed 23 | Epoch 031 | Loss: 0.5682 | Test Acc: 0.6737\n",
      "Seed 23 | Epoch 032 | Loss: 0.5733 | Test Acc: 0.6780\n",
      "Seed 23 | Epoch 033 | Loss: 0.5666 | Test Acc: 0.7161\n",
      "Seed 23 | Epoch 034 | Loss: 0.5855 | Test Acc: 0.6780\n",
      "Seed 23 | Epoch 035 | Loss: 0.5745 | Test Acc: 0.7076\n",
      "Seed 23 | Epoch 036 | Loss: 0.5651 | Test Acc: 0.6822\n",
      "Seed 23 | Epoch 037 | Loss: 0.5659 | Test Acc: 0.7161\n",
      "Seed 23 | Epoch 038 | Loss: 0.5638 | Test Acc: 0.6822\n",
      "Seed 23 | Epoch 039 | Loss: 0.5589 | Test Acc: 0.7203\n",
      "Seed 23 | Epoch 040 | Loss: 0.5702 | Test Acc: 0.7288\n",
      "Seed 23 | Epoch 041 | Loss: 0.5688 | Test Acc: 0.7161\n",
      "Seed 23 | Epoch 042 | Loss: 0.5708 | Test Acc: 0.7076\n",
      "Seed 23 | Epoch 043 | Loss: 0.5662 | Test Acc: 0.6737\n",
      "Seed 23 | Epoch 044 | Loss: 0.5568 | Test Acc: 0.6907\n",
      "Seed 23 | Epoch 045 | Loss: 0.5687 | Test Acc: 0.6780\n",
      "Seed 23 | Epoch 046 | Loss: 0.5575 | Test Acc: 0.6822\n",
      "Seed 23 | Epoch 047 | Loss: 0.5544 | Test Acc: 0.7246\n",
      "Seed 23 | Epoch 048 | Loss: 0.5577 | Test Acc: 0.6864\n",
      "Seed 23 | Epoch 049 | Loss: 0.5610 | Test Acc: 0.6780\n",
      "Seed 23 | Epoch 050 | Loss: 0.5633 | Test Acc: 0.6737\n"
     ]
    },
    {
     "data": {
      "text/html": [],
      "text/plain": [
       "<IPython.core.display.HTML object>"
      ]
     },
     "metadata": {},
     "output_type": "display_data"
    },
    {
     "data": {
      "text/html": [
       "<br>    <style><br>        .wandb-row {<br>            display: flex;<br>            flex-direction: row;<br>            flex-wrap: wrap;<br>            justify-content: flex-start;<br>            width: 100%;<br>        }<br>        .wandb-col {<br>            display: flex;<br>            flex-direction: column;<br>            flex-basis: 100%;<br>            flex: 1;<br>            padding: 10px;<br>        }<br>    </style><br><div class=\"wandb-row\"><div class=\"wandb-col\"><h3>Run history:</h3><br/><table class=\"wandb\"><tr><td>epoch</td><td>▁▁▁▁▂▂▂▂▂▂▃▃▃▃▃▄▄▄▄▄▅▅▅▅▅▅▆▆▆▆▆▆▇▇▇▇▇███</td></tr><tr><td>loss</td><td>██▇▇▆▄▄▃▃▃▃▃▃▃▃▂▂▃▂▂▂▂▂▂▂▂▂▃▂▂▂▁▂▂▂▂▁▁▁▁</td></tr><tr><td>test_acc</td><td>▁▁▁▁▂▆▅▇▆▇▃▅▆▇▄▆▇▇▅▆▅▇▇▇▅▇▅▇▅▇▇█▇▇▅▅▅█▅▅</td></tr><tr><td>train_acc</td><td>▁▁▁▁▂▅▄▆▆▇▅▇▆▇▆▇▇▇█▇▆▇█▇▇▇▇▇███▇▇█▇▇████</td></tr></table><br/></div><div class=\"wandb-col\"><h3>Run summary:</h3><br/><table class=\"wandb\"><tr><td>epoch</td><td>50</td></tr><tr><td>loss</td><td>0.56329</td></tr><tr><td>test_acc</td><td>0.67373</td></tr><tr><td>train_acc</td><td>0.74204</td></tr></table><br/></div></div>"
      ],
      "text/plain": [
       "<IPython.core.display.HTML object>"
      ]
     },
     "metadata": {},
     "output_type": "display_data"
    },
    {
     "data": {
      "text/html": [
       " View run <strong style=\"color:#cdcd00\">GCN_baseline_seed_23</strong> at: <a href='https://wandb.ai/noynetanel1-tel-aviv-university/GCN%20Graph%20classification%28DD%29_Gal/runs/4y5m6gb9' target=\"_blank\">https://wandb.ai/noynetanel1-tel-aviv-university/GCN%20Graph%20classification%28DD%29_Gal/runs/4y5m6gb9</a><br> View project at: <a href='https://wandb.ai/noynetanel1-tel-aviv-university/GCN%20Graph%20classification%28DD%29_Gal' target=\"_blank\">https://wandb.ai/noynetanel1-tel-aviv-university/GCN%20Graph%20classification%28DD%29_Gal</a><br>Synced 5 W&B file(s), 0 media file(s), 0 artifact file(s) and 0 other file(s)"
      ],
      "text/plain": [
       "<IPython.core.display.HTML object>"
      ]
     },
     "metadata": {},
     "output_type": "display_data"
    },
    {
     "data": {
      "text/html": [
       "Find logs at: <code>./wandb/run-20250822_200758-4y5m6gb9/logs</code>"
      ],
      "text/plain": [
       "<IPython.core.display.HTML object>"
      ]
     },
     "metadata": {},
     "output_type": "display_data"
    },
    {
     "data": {
      "text/html": [
       "Tracking run with wandb version 0.20.1"
      ],
      "text/plain": [
       "<IPython.core.display.HTML object>"
      ]
     },
     "metadata": {},
     "output_type": "display_data"
    },
    {
     "data": {
      "text/html": [
       "Run data is saved locally in <code>/kaggle/working/wandb/run-20250822_200936-e7l9gi92</code>"
      ],
      "text/plain": [
       "<IPython.core.display.HTML object>"
      ]
     },
     "metadata": {},
     "output_type": "display_data"
    },
    {
     "data": {
      "text/html": [
       "Syncing run <strong><a href='https://wandb.ai/noynetanel1-tel-aviv-university/GCN%20Graph%20classification%28DD%29_Gal/runs/e7l9gi92' target=\"_blank\">GCN_baseline_seed_24</a></strong> to <a href='https://wandb.ai/noynetanel1-tel-aviv-university/GCN%20Graph%20classification%28DD%29_Gal' target=\"_blank\">Weights & Biases</a> (<a href='https://wandb.me/developer-guide' target=\"_blank\">docs</a>)<br>"
      ],
      "text/plain": [
       "<IPython.core.display.HTML object>"
      ]
     },
     "metadata": {},
     "output_type": "display_data"
    },
    {
     "data": {
      "text/html": [
       " View project at <a href='https://wandb.ai/noynetanel1-tel-aviv-university/GCN%20Graph%20classification%28DD%29_Gal' target=\"_blank\">https://wandb.ai/noynetanel1-tel-aviv-university/GCN%20Graph%20classification%28DD%29_Gal</a>"
      ],
      "text/plain": [
       "<IPython.core.display.HTML object>"
      ]
     },
     "metadata": {},
     "output_type": "display_data"
    },
    {
     "data": {
      "text/html": [
       " View run at <a href='https://wandb.ai/noynetanel1-tel-aviv-university/GCN%20Graph%20classification%28DD%29_Gal/runs/e7l9gi92' target=\"_blank\">https://wandb.ai/noynetanel1-tel-aviv-university/GCN%20Graph%20classification%28DD%29_Gal/runs/e7l9gi92</a>"
      ],
      "text/plain": [
       "<IPython.core.display.HTML object>"
      ]
     },
     "metadata": {},
     "output_type": "display_data"
    },
    {
     "name": "stdout",
     "output_type": "stream",
     "text": [
      "Seed 24 | Epoch 001 | Loss: 0.6818 | Test Acc: 0.6356\n",
      "Seed 24 | Epoch 002 | Loss: 0.6794 | Test Acc: 0.6356\n",
      "Seed 24 | Epoch 003 | Loss: 0.6762 | Test Acc: 0.6356\n",
      "Seed 24 | Epoch 004 | Loss: 0.6688 | Test Acc: 0.6356\n",
      "Seed 24 | Epoch 005 | Loss: 0.6579 | Test Acc: 0.6610\n",
      "Seed 24 | Epoch 006 | Loss: 0.6443 | Test Acc: 0.7246\n",
      "Seed 24 | Epoch 007 | Loss: 0.6212 | Test Acc: 0.7246\n",
      "Seed 24 | Epoch 008 | Loss: 0.6108 | Test Acc: 0.7288\n",
      "Seed 24 | Epoch 009 | Loss: 0.6066 | Test Acc: 0.7331\n",
      "Seed 24 | Epoch 010 | Loss: 0.6115 | Test Acc: 0.6822\n",
      "Seed 24 | Epoch 011 | Loss: 0.5996 | Test Acc: 0.6907\n",
      "Seed 24 | Epoch 012 | Loss: 0.5974 | Test Acc: 0.7415\n",
      "Seed 24 | Epoch 013 | Loss: 0.5898 | Test Acc: 0.7458\n",
      "Seed 24 | Epoch 014 | Loss: 0.5860 | Test Acc: 0.7288\n",
      "Seed 24 | Epoch 015 | Loss: 0.5911 | Test Acc: 0.7076\n",
      "Seed 24 | Epoch 016 | Loss: 0.5806 | Test Acc: 0.7458\n",
      "Seed 24 | Epoch 017 | Loss: 0.5847 | Test Acc: 0.7246\n",
      "Seed 24 | Epoch 018 | Loss: 0.5764 | Test Acc: 0.7458\n",
      "Seed 24 | Epoch 019 | Loss: 0.5836 | Test Acc: 0.7288\n",
      "Seed 24 | Epoch 020 | Loss: 0.5710 | Test Acc: 0.7415\n",
      "Seed 24 | Epoch 021 | Loss: 0.5719 | Test Acc: 0.7458\n",
      "Seed 24 | Epoch 022 | Loss: 0.5765 | Test Acc: 0.6907\n",
      "Seed 24 | Epoch 023 | Loss: 0.5853 | Test Acc: 0.7415\n",
      "Seed 24 | Epoch 024 | Loss: 0.5936 | Test Acc: 0.6525\n",
      "Seed 24 | Epoch 025 | Loss: 0.5781 | Test Acc: 0.7119\n",
      "Seed 24 | Epoch 026 | Loss: 0.5782 | Test Acc: 0.7034\n",
      "Seed 24 | Epoch 027 | Loss: 0.5748 | Test Acc: 0.6949\n",
      "Seed 24 | Epoch 028 | Loss: 0.5719 | Test Acc: 0.7331\n",
      "Seed 24 | Epoch 029 | Loss: 0.5659 | Test Acc: 0.6610\n",
      "Seed 24 | Epoch 030 | Loss: 0.5779 | Test Acc: 0.7331\n",
      "Seed 24 | Epoch 031 | Loss: 0.5774 | Test Acc: 0.6907\n",
      "Seed 24 | Epoch 032 | Loss: 0.5627 | Test Acc: 0.7373\n",
      "Seed 24 | Epoch 033 | Loss: 0.5669 | Test Acc: 0.7458\n",
      "Seed 24 | Epoch 034 | Loss: 0.5700 | Test Acc: 0.7373\n",
      "Seed 24 | Epoch 035 | Loss: 0.5691 | Test Acc: 0.6992\n",
      "Seed 24 | Epoch 036 | Loss: 0.5666 | Test Acc: 0.7415\n",
      "Seed 24 | Epoch 037 | Loss: 0.5612 | Test Acc: 0.7331\n",
      "Seed 24 | Epoch 038 | Loss: 0.5718 | Test Acc: 0.7373\n",
      "Seed 24 | Epoch 039 | Loss: 0.5617 | Test Acc: 0.7034\n",
      "Seed 24 | Epoch 040 | Loss: 0.5650 | Test Acc: 0.7373\n",
      "Seed 24 | Epoch 041 | Loss: 0.5551 | Test Acc: 0.7415\n",
      "Seed 24 | Epoch 042 | Loss: 0.5589 | Test Acc: 0.7458\n",
      "Seed 24 | Epoch 043 | Loss: 0.5700 | Test Acc: 0.7034\n",
      "Seed 24 | Epoch 044 | Loss: 0.5605 | Test Acc: 0.7500\n",
      "Seed 24 | Epoch 045 | Loss: 0.5694 | Test Acc: 0.7331\n",
      "Seed 24 | Epoch 046 | Loss: 0.5662 | Test Acc: 0.7373\n",
      "Seed 24 | Epoch 047 | Loss: 0.5666 | Test Acc: 0.6992\n",
      "Seed 24 | Epoch 048 | Loss: 0.5561 | Test Acc: 0.7373\n",
      "Seed 24 | Epoch 049 | Loss: 0.5617 | Test Acc: 0.7373\n",
      "Seed 24 | Epoch 050 | Loss: 0.5578 | Test Acc: 0.6949\n"
     ]
    },
    {
     "data": {
      "text/html": [],
      "text/plain": [
       "<IPython.core.display.HTML object>"
      ]
     },
     "metadata": {},
     "output_type": "display_data"
    },
    {
     "data": {
      "text/html": [
       "<br>    <style><br>        .wandb-row {<br>            display: flex;<br>            flex-direction: row;<br>            flex-wrap: wrap;<br>            justify-content: flex-start;<br>            width: 100%;<br>        }<br>        .wandb-col {<br>            display: flex;<br>            flex-direction: column;<br>            flex-basis: 100%;<br>            flex: 1;<br>            padding: 10px;<br>        }<br>    </style><br><div class=\"wandb-row\"><div class=\"wandb-col\"><h3>Run history:</h3><br/><table class=\"wandb\"><tr><td>epoch</td><td>▁▁▁▁▂▂▂▂▂▃▃▃▃▃▃▄▄▄▄▄▅▅▅▅▅▅▆▆▆▆▆▆▇▇▇▇▇███</td></tr><tr><td>loss</td><td>███▇▇▅▄▄▄▃▃▃▃▂▃▃▂▂▂▃▂▂▂▂▂▁▂▂▂▂▂▁▂▁▁▁▂▂▁▁</td></tr><tr><td>test_acc</td><td>▁▁▁▁▃▆▇▇▄▄█▇▅█▆▇▇█▄▇▆▅▅▇▃▄▇█▇▅▇▇▅▇▇▅█▇▅▇</td></tr><tr><td>train_acc</td><td>▁▁▂▂▆▆▇▇▇▇▆▇▆█▇▇▇▇▆▆▇▇▆▇▇█▇█▇██████▇████</td></tr></table><br/></div><div class=\"wandb-col\"><h3>Run summary:</h3><br/><table class=\"wandb\"><tr><td>epoch</td><td>50</td></tr><tr><td>loss</td><td>0.55779</td></tr><tr><td>test_acc</td><td>0.69492</td></tr><tr><td>train_acc</td><td>0.73673</td></tr></table><br/></div></div>"
      ],
      "text/plain": [
       "<IPython.core.display.HTML object>"
      ]
     },
     "metadata": {},
     "output_type": "display_data"
    },
    {
     "data": {
      "text/html": [
       " View run <strong style=\"color:#cdcd00\">GCN_baseline_seed_24</strong> at: <a href='https://wandb.ai/noynetanel1-tel-aviv-university/GCN%20Graph%20classification%28DD%29_Gal/runs/e7l9gi92' target=\"_blank\">https://wandb.ai/noynetanel1-tel-aviv-university/GCN%20Graph%20classification%28DD%29_Gal/runs/e7l9gi92</a><br> View project at: <a href='https://wandb.ai/noynetanel1-tel-aviv-university/GCN%20Graph%20classification%28DD%29_Gal' target=\"_blank\">https://wandb.ai/noynetanel1-tel-aviv-university/GCN%20Graph%20classification%28DD%29_Gal</a><br>Synced 5 W&B file(s), 0 media file(s), 0 artifact file(s) and 0 other file(s)"
      ],
      "text/plain": [
       "<IPython.core.display.HTML object>"
      ]
     },
     "metadata": {},
     "output_type": "display_data"
    },
    {
     "data": {
      "text/html": [
       "Find logs at: <code>./wandb/run-20250822_200936-e7l9gi92/logs</code>"
      ],
      "text/plain": [
       "<IPython.core.display.HTML object>"
      ]
     },
     "metadata": {},
     "output_type": "display_data"
    },
    {
     "data": {
      "text/html": [
       "Tracking run with wandb version 0.20.1"
      ],
      "text/plain": [
       "<IPython.core.display.HTML object>"
      ]
     },
     "metadata": {},
     "output_type": "display_data"
    },
    {
     "data": {
      "text/html": [
       "Run data is saved locally in <code>/kaggle/working/wandb/run-20250822_201114-d741c5rw</code>"
      ],
      "text/plain": [
       "<IPython.core.display.HTML object>"
      ]
     },
     "metadata": {},
     "output_type": "display_data"
    },
    {
     "data": {
      "text/html": [
       "Syncing run <strong><a href='https://wandb.ai/noynetanel1-tel-aviv-university/GCN%20Graph%20classification%28DD%29_Gal/runs/d741c5rw' target=\"_blank\">GCN_baseline_seed_25</a></strong> to <a href='https://wandb.ai/noynetanel1-tel-aviv-university/GCN%20Graph%20classification%28DD%29_Gal' target=\"_blank\">Weights & Biases</a> (<a href='https://wandb.me/developer-guide' target=\"_blank\">docs</a>)<br>"
      ],
      "text/plain": [
       "<IPython.core.display.HTML object>"
      ]
     },
     "metadata": {},
     "output_type": "display_data"
    },
    {
     "data": {
      "text/html": [
       " View project at <a href='https://wandb.ai/noynetanel1-tel-aviv-university/GCN%20Graph%20classification%28DD%29_Gal' target=\"_blank\">https://wandb.ai/noynetanel1-tel-aviv-university/GCN%20Graph%20classification%28DD%29_Gal</a>"
      ],
      "text/plain": [
       "<IPython.core.display.HTML object>"
      ]
     },
     "metadata": {},
     "output_type": "display_data"
    },
    {
     "data": {
      "text/html": [
       " View run at <a href='https://wandb.ai/noynetanel1-tel-aviv-university/GCN%20Graph%20classification%28DD%29_Gal/runs/d741c5rw' target=\"_blank\">https://wandb.ai/noynetanel1-tel-aviv-university/GCN%20Graph%20classification%28DD%29_Gal/runs/d741c5rw</a>"
      ],
      "text/plain": [
       "<IPython.core.display.HTML object>"
      ]
     },
     "metadata": {},
     "output_type": "display_data"
    },
    {
     "name": "stdout",
     "output_type": "stream",
     "text": [
      "Seed 25 | Epoch 001 | Loss: 0.6793 | Test Acc: 0.5551\n",
      "Seed 25 | Epoch 002 | Loss: 0.6777 | Test Acc: 0.5551\n",
      "Seed 25 | Epoch 003 | Loss: 0.6728 | Test Acc: 0.5551\n",
      "Seed 25 | Epoch 004 | Loss: 0.6702 | Test Acc: 0.5551\n",
      "Seed 25 | Epoch 005 | Loss: 0.6632 | Test Acc: 0.5636\n",
      "Seed 25 | Epoch 006 | Loss: 0.6548 | Test Acc: 0.6271\n",
      "Seed 25 | Epoch 007 | Loss: 0.6379 | Test Acc: 0.6398\n",
      "Seed 25 | Epoch 008 | Loss: 0.6168 | Test Acc: 0.6356\n",
      "Seed 25 | Epoch 009 | Loss: 0.6054 | Test Acc: 0.6822\n",
      "Seed 25 | Epoch 010 | Loss: 0.6008 | Test Acc: 0.6737\n",
      "Seed 25 | Epoch 011 | Loss: 0.5895 | Test Acc: 0.6780\n",
      "Seed 25 | Epoch 012 | Loss: 0.5903 | Test Acc: 0.6864\n",
      "Seed 25 | Epoch 013 | Loss: 0.5773 | Test Acc: 0.6949\n",
      "Seed 25 | Epoch 014 | Loss: 0.5709 | Test Acc: 0.7034\n",
      "Seed 25 | Epoch 015 | Loss: 0.5712 | Test Acc: 0.6992\n",
      "Seed 25 | Epoch 016 | Loss: 0.5771 | Test Acc: 0.6229\n",
      "Seed 25 | Epoch 017 | Loss: 0.5724 | Test Acc: 0.7076\n",
      "Seed 25 | Epoch 018 | Loss: 0.5632 | Test Acc: 0.6483\n",
      "Seed 25 | Epoch 019 | Loss: 0.5724 | Test Acc: 0.7076\n",
      "Seed 25 | Epoch 020 | Loss: 0.5629 | Test Acc: 0.7034\n",
      "Seed 25 | Epoch 021 | Loss: 0.5578 | Test Acc: 0.6822\n",
      "Seed 25 | Epoch 022 | Loss: 0.5642 | Test Acc: 0.6992\n",
      "Seed 25 | Epoch 023 | Loss: 0.5620 | Test Acc: 0.6992\n",
      "Seed 25 | Epoch 024 | Loss: 0.5553 | Test Acc: 0.6949\n",
      "Seed 25 | Epoch 025 | Loss: 0.5574 | Test Acc: 0.6737\n",
      "Seed 25 | Epoch 026 | Loss: 0.5595 | Test Acc: 0.7034\n",
      "Seed 25 | Epoch 027 | Loss: 0.5574 | Test Acc: 0.6864\n",
      "Seed 25 | Epoch 028 | Loss: 0.5573 | Test Acc: 0.6144\n",
      "Seed 25 | Epoch 029 | Loss: 0.5533 | Test Acc: 0.6907\n",
      "Seed 25 | Epoch 030 | Loss: 0.5517 | Test Acc: 0.6992\n",
      "Seed 25 | Epoch 031 | Loss: 0.5501 | Test Acc: 0.6949\n",
      "Seed 25 | Epoch 032 | Loss: 0.5500 | Test Acc: 0.6907\n",
      "Seed 25 | Epoch 033 | Loss: 0.5505 | Test Acc: 0.7034\n",
      "Seed 25 | Epoch 034 | Loss: 0.5492 | Test Acc: 0.6907\n",
      "Seed 25 | Epoch 035 | Loss: 0.5613 | Test Acc: 0.6822\n",
      "Seed 25 | Epoch 036 | Loss: 0.5444 | Test Acc: 0.6992\n",
      "Seed 25 | Epoch 037 | Loss: 0.5401 | Test Acc: 0.6822\n",
      "Seed 25 | Epoch 038 | Loss: 0.5528 | Test Acc: 0.6695\n",
      "Seed 25 | Epoch 039 | Loss: 0.5434 | Test Acc: 0.6949\n",
      "Seed 25 | Epoch 040 | Loss: 0.5486 | Test Acc: 0.6907\n",
      "Seed 25 | Epoch 041 | Loss: 0.5460 | Test Acc: 0.6780\n",
      "Seed 25 | Epoch 042 | Loss: 0.5476 | Test Acc: 0.6949\n",
      "Seed 25 | Epoch 043 | Loss: 0.5496 | Test Acc: 0.6949\n",
      "Seed 25 | Epoch 044 | Loss: 0.5421 | Test Acc: 0.6949\n",
      "Seed 25 | Epoch 045 | Loss: 0.5437 | Test Acc: 0.6271\n",
      "Seed 25 | Epoch 046 | Loss: 0.5424 | Test Acc: 0.6949\n",
      "Seed 25 | Epoch 047 | Loss: 0.5468 | Test Acc: 0.6525\n",
      "Seed 25 | Epoch 048 | Loss: 0.5372 | Test Acc: 0.6780\n",
      "Seed 25 | Epoch 049 | Loss: 0.5361 | Test Acc: 0.6864\n",
      "Seed 25 | Epoch 050 | Loss: 0.5370 | Test Acc: 0.6864\n"
     ]
    },
    {
     "data": {
      "text/html": [],
      "text/plain": [
       "<IPython.core.display.HTML object>"
      ]
     },
     "metadata": {},
     "output_type": "display_data"
    },
    {
     "data": {
      "text/html": [
       "<br>    <style><br>        .wandb-row {<br>            display: flex;<br>            flex-direction: row;<br>            flex-wrap: wrap;<br>            justify-content: flex-start;<br>            width: 100%;<br>        }<br>        .wandb-col {<br>            display: flex;<br>            flex-direction: column;<br>            flex-basis: 100%;<br>            flex: 1;<br>            padding: 10px;<br>        }<br>    </style><br><div class=\"wandb-row\"><div class=\"wandb-col\"><h3>Run history:</h3><br/><table class=\"wandb\"><tr><td>epoch</td><td>▁▁▁▁▂▂▂▂▂▂▃▃▃▃▃▄▄▄▄▄▅▅▅▅▅▆▆▆▆▆▆▇▇▇▇▇▇███</td></tr><tr><td>loss</td><td>███▇▇▅▄▄▄▄▃▃▃▃▂▂▂▂▂▂▂▂▂▂▂▂▂▂▂▁▂▁▂▁▂▁▁▁▁▁</td></tr><tr><td>test_acc</td><td>▁▁▁▁▁▅▅▇▆▇▇██▄███▇██▆█▇▄▇▇▇█▇▇▇▆▇▇▇▄▇▅▇▇</td></tr><tr><td>train_acc</td><td>▁▁▁▁▁▄▄▆▆▆▇▇▆▆▇▆▇▇▇▇▇█▆▇▇█▇▇█▇▇▇▇█▇▇▇▇██</td></tr></table><br/></div><div class=\"wandb-col\"><h3>Run summary:</h3><br/><table class=\"wandb\"><tr><td>epoch</td><td>50</td></tr><tr><td>loss</td><td>0.53698</td></tr><tr><td>test_acc</td><td>0.68644</td></tr><tr><td>train_acc</td><td>0.76115</td></tr></table><br/></div></div>"
      ],
      "text/plain": [
       "<IPython.core.display.HTML object>"
      ]
     },
     "metadata": {},
     "output_type": "display_data"
    },
    {
     "data": {
      "text/html": [
       " View run <strong style=\"color:#cdcd00\">GCN_baseline_seed_25</strong> at: <a href='https://wandb.ai/noynetanel1-tel-aviv-university/GCN%20Graph%20classification%28DD%29_Gal/runs/d741c5rw' target=\"_blank\">https://wandb.ai/noynetanel1-tel-aviv-university/GCN%20Graph%20classification%28DD%29_Gal/runs/d741c5rw</a><br> View project at: <a href='https://wandb.ai/noynetanel1-tel-aviv-university/GCN%20Graph%20classification%28DD%29_Gal' target=\"_blank\">https://wandb.ai/noynetanel1-tel-aviv-university/GCN%20Graph%20classification%28DD%29_Gal</a><br>Synced 5 W&B file(s), 0 media file(s), 0 artifact file(s) and 0 other file(s)"
      ],
      "text/plain": [
       "<IPython.core.display.HTML object>"
      ]
     },
     "metadata": {},
     "output_type": "display_data"
    },
    {
     "data": {
      "text/html": [
       "Find logs at: <code>./wandb/run-20250822_201114-d741c5rw/logs</code>"
      ],
      "text/plain": [
       "<IPython.core.display.HTML object>"
      ]
     },
     "metadata": {},
     "output_type": "display_data"
    },
    {
     "data": {
      "text/html": [
       "Tracking run with wandb version 0.20.1"
      ],
      "text/plain": [
       "<IPython.core.display.HTML object>"
      ]
     },
     "metadata": {},
     "output_type": "display_data"
    },
    {
     "data": {
      "text/html": [
       "Run data is saved locally in <code>/kaggle/working/wandb/run-20250822_201254-bjn7at61</code>"
      ],
      "text/plain": [
       "<IPython.core.display.HTML object>"
      ]
     },
     "metadata": {},
     "output_type": "display_data"
    },
    {
     "data": {
      "text/html": [
       "Syncing run <strong><a href='https://wandb.ai/noynetanel1-tel-aviv-university/GCN%20Graph%20classification%28DD%29_Gal/runs/bjn7at61' target=\"_blank\">GCN_baseline_seed_26</a></strong> to <a href='https://wandb.ai/noynetanel1-tel-aviv-university/GCN%20Graph%20classification%28DD%29_Gal' target=\"_blank\">Weights & Biases</a> (<a href='https://wandb.me/developer-guide' target=\"_blank\">docs</a>)<br>"
      ],
      "text/plain": [
       "<IPython.core.display.HTML object>"
      ]
     },
     "metadata": {},
     "output_type": "display_data"
    },
    {
     "data": {
      "text/html": [
       " View project at <a href='https://wandb.ai/noynetanel1-tel-aviv-university/GCN%20Graph%20classification%28DD%29_Gal' target=\"_blank\">https://wandb.ai/noynetanel1-tel-aviv-university/GCN%20Graph%20classification%28DD%29_Gal</a>"
      ],
      "text/plain": [
       "<IPython.core.display.HTML object>"
      ]
     },
     "metadata": {},
     "output_type": "display_data"
    },
    {
     "data": {
      "text/html": [
       " View run at <a href='https://wandb.ai/noynetanel1-tel-aviv-university/GCN%20Graph%20classification%28DD%29_Gal/runs/bjn7at61' target=\"_blank\">https://wandb.ai/noynetanel1-tel-aviv-university/GCN%20Graph%20classification%28DD%29_Gal/runs/bjn7at61</a>"
      ],
      "text/plain": [
       "<IPython.core.display.HTML object>"
      ]
     },
     "metadata": {},
     "output_type": "display_data"
    },
    {
     "name": "stdout",
     "output_type": "stream",
     "text": [
      "Seed 26 | Epoch 001 | Loss: 0.6849 | Test Acc: 0.6017\n",
      "Seed 26 | Epoch 002 | Loss: 0.6778 | Test Acc: 0.6017\n",
      "Seed 26 | Epoch 003 | Loss: 0.6769 | Test Acc: 0.6017\n",
      "Seed 26 | Epoch 004 | Loss: 0.6753 | Test Acc: 0.6017\n",
      "Seed 26 | Epoch 005 | Loss: 0.6706 | Test Acc: 0.6059\n",
      "Seed 26 | Epoch 006 | Loss: 0.6676 | Test Acc: 0.6017\n",
      "Seed 26 | Epoch 007 | Loss: 0.6538 | Test Acc: 0.6398\n",
      "Seed 26 | Epoch 008 | Loss: 0.6431 | Test Acc: 0.7161\n",
      "Seed 26 | Epoch 009 | Loss: 0.6315 | Test Acc: 0.7034\n",
      "Seed 26 | Epoch 010 | Loss: 0.6177 | Test Acc: 0.7203\n",
      "Seed 26 | Epoch 011 | Loss: 0.6063 | Test Acc: 0.7246\n",
      "Seed 26 | Epoch 012 | Loss: 0.6032 | Test Acc: 0.7203\n",
      "Seed 26 | Epoch 013 | Loss: 0.5955 | Test Acc: 0.7373\n",
      "Seed 26 | Epoch 014 | Loss: 0.5921 | Test Acc: 0.7415\n",
      "Seed 26 | Epoch 015 | Loss: 0.5875 | Test Acc: 0.7246\n",
      "Seed 26 | Epoch 016 | Loss: 0.5928 | Test Acc: 0.7458\n",
      "Seed 26 | Epoch 017 | Loss: 0.5859 | Test Acc: 0.7203\n",
      "Seed 26 | Epoch 018 | Loss: 0.5874 | Test Acc: 0.7500\n",
      "Seed 26 | Epoch 019 | Loss: 0.5808 | Test Acc: 0.7203\n",
      "Seed 26 | Epoch 020 | Loss: 0.5752 | Test Acc: 0.7415\n",
      "Seed 26 | Epoch 021 | Loss: 0.5823 | Test Acc: 0.7288\n",
      "Seed 26 | Epoch 022 | Loss: 0.5831 | Test Acc: 0.7585\n",
      "Seed 26 | Epoch 023 | Loss: 0.5765 | Test Acc: 0.7542\n",
      "Seed 26 | Epoch 024 | Loss: 0.5745 | Test Acc: 0.7500\n",
      "Seed 26 | Epoch 025 | Loss: 0.5742 | Test Acc: 0.7331\n",
      "Seed 26 | Epoch 026 | Loss: 0.5715 | Test Acc: 0.7119\n",
      "Seed 26 | Epoch 027 | Loss: 0.5711 | Test Acc: 0.7373\n",
      "Seed 26 | Epoch 028 | Loss: 0.5743 | Test Acc: 0.7415\n",
      "Seed 26 | Epoch 029 | Loss: 0.5705 | Test Acc: 0.7542\n",
      "Seed 26 | Epoch 030 | Loss: 0.5737 | Test Acc: 0.7373\n",
      "Seed 26 | Epoch 031 | Loss: 0.5636 | Test Acc: 0.7246\n",
      "Seed 26 | Epoch 032 | Loss: 0.5639 | Test Acc: 0.7500\n",
      "Seed 26 | Epoch 033 | Loss: 0.5656 | Test Acc: 0.7415\n",
      "Seed 26 | Epoch 034 | Loss: 0.5633 | Test Acc: 0.7415\n",
      "Seed 26 | Epoch 035 | Loss: 0.5627 | Test Acc: 0.7373\n",
      "Seed 26 | Epoch 036 | Loss: 0.5628 | Test Acc: 0.7373\n",
      "Seed 26 | Epoch 037 | Loss: 0.5646 | Test Acc: 0.7500\n",
      "Seed 26 | Epoch 038 | Loss: 0.5628 | Test Acc: 0.7415\n",
      "Seed 26 | Epoch 039 | Loss: 0.5589 | Test Acc: 0.7500\n",
      "Seed 26 | Epoch 040 | Loss: 0.5527 | Test Acc: 0.7458\n",
      "Seed 26 | Epoch 041 | Loss: 0.5526 | Test Acc: 0.7373\n",
      "Seed 26 | Epoch 042 | Loss: 0.5501 | Test Acc: 0.7458\n",
      "Seed 26 | Epoch 043 | Loss: 0.5554 | Test Acc: 0.7373\n",
      "Seed 26 | Epoch 044 | Loss: 0.5514 | Test Acc: 0.7331\n",
      "Seed 26 | Epoch 045 | Loss: 0.5520 | Test Acc: 0.7288\n",
      "Seed 26 | Epoch 046 | Loss: 0.5542 | Test Acc: 0.7415\n",
      "Seed 26 | Epoch 047 | Loss: 0.5463 | Test Acc: 0.7288\n",
      "Seed 26 | Epoch 048 | Loss: 0.5468 | Test Acc: 0.7373\n",
      "Seed 26 | Epoch 049 | Loss: 0.5681 | Test Acc: 0.6780\n",
      "Seed 26 | Epoch 050 | Loss: 0.5475 | Test Acc: 0.7415\n"
     ]
    },
    {
     "data": {
      "text/html": [],
      "text/plain": [
       "<IPython.core.display.HTML object>"
      ]
     },
     "metadata": {},
     "output_type": "display_data"
    },
    {
     "data": {
      "text/html": [
       "<br>    <style><br>        .wandb-row {<br>            display: flex;<br>            flex-direction: row;<br>            flex-wrap: wrap;<br>            justify-content: flex-start;<br>            width: 100%;<br>        }<br>        .wandb-col {<br>            display: flex;<br>            flex-direction: column;<br>            flex-basis: 100%;<br>            flex: 1;<br>            padding: 10px;<br>        }<br>    </style><br><div class=\"wandb-row\"><div class=\"wandb-col\"><h3>Run history:</h3><br/><table class=\"wandb\"><tr><td>epoch</td><td>▁▁▁▁▂▂▂▂▂▂▃▃▃▃▃▄▄▄▄▄▅▅▅▅▅▅▆▆▆▆▆▇▇▇▇▇▇███</td></tr><tr><td>loss</td><td>████▇▆▆▅▅▄▃▃▃▃▃▃▂▃▃▃▂▂▂▂▂▂▂▂▂▂▂▂▁▁▁▁▁▁▁▁</td></tr><tr><td>test_acc</td><td>▁▁▁▁▁▆▆▆▆▆▇▆▇▆█▇███▇▇▇█▇▆▇▇▇▇██▇▇▇▇▇▇▇▇▇</td></tr><tr><td>train_acc</td><td>▁▁▁▁▁▃▆▅▆▆▇▇▇▇▇▇▇▇▇▇▇▇▇▇▇▇▇████▇▇█▇▇▇███</td></tr></table><br/></div><div class=\"wandb-col\"><h3>Run summary:</h3><br/><table class=\"wandb\"><tr><td>epoch</td><td>50</td></tr><tr><td>loss</td><td>0.54745</td></tr><tr><td>test_acc</td><td>0.74153</td></tr><tr><td>train_acc</td><td>0.74416</td></tr></table><br/></div></div>"
      ],
      "text/plain": [
       "<IPython.core.display.HTML object>"
      ]
     },
     "metadata": {},
     "output_type": "display_data"
    },
    {
     "data": {
      "text/html": [
       " View run <strong style=\"color:#cdcd00\">GCN_baseline_seed_26</strong> at: <a href='https://wandb.ai/noynetanel1-tel-aviv-university/GCN%20Graph%20classification%28DD%29_Gal/runs/bjn7at61' target=\"_blank\">https://wandb.ai/noynetanel1-tel-aviv-university/GCN%20Graph%20classification%28DD%29_Gal/runs/bjn7at61</a><br> View project at: <a href='https://wandb.ai/noynetanel1-tel-aviv-university/GCN%20Graph%20classification%28DD%29_Gal' target=\"_blank\">https://wandb.ai/noynetanel1-tel-aviv-university/GCN%20Graph%20classification%28DD%29_Gal</a><br>Synced 5 W&B file(s), 0 media file(s), 0 artifact file(s) and 0 other file(s)"
      ],
      "text/plain": [
       "<IPython.core.display.HTML object>"
      ]
     },
     "metadata": {},
     "output_type": "display_data"
    },
    {
     "data": {
      "text/html": [
       "Find logs at: <code>./wandb/run-20250822_201254-bjn7at61/logs</code>"
      ],
      "text/plain": [
       "<IPython.core.display.HTML object>"
      ]
     },
     "metadata": {},
     "output_type": "display_data"
    },
    {
     "data": {
      "text/html": [
       "Tracking run with wandb version 0.20.1"
      ],
      "text/plain": [
       "<IPython.core.display.HTML object>"
      ]
     },
     "metadata": {},
     "output_type": "display_data"
    },
    {
     "data": {
      "text/html": [
       "Run data is saved locally in <code>/kaggle/working/wandb/run-20250822_201434-7ekf9jwt</code>"
      ],
      "text/plain": [
       "<IPython.core.display.HTML object>"
      ]
     },
     "metadata": {},
     "output_type": "display_data"
    },
    {
     "data": {
      "text/html": [
       "Syncing run <strong><a href='https://wandb.ai/noynetanel1-tel-aviv-university/GCN%20Graph%20classification%28DD%29_Gal/runs/7ekf9jwt' target=\"_blank\">GCN_baseline_seed_27</a></strong> to <a href='https://wandb.ai/noynetanel1-tel-aviv-university/GCN%20Graph%20classification%28DD%29_Gal' target=\"_blank\">Weights & Biases</a> (<a href='https://wandb.me/developer-guide' target=\"_blank\">docs</a>)<br>"
      ],
      "text/plain": [
       "<IPython.core.display.HTML object>"
      ]
     },
     "metadata": {},
     "output_type": "display_data"
    },
    {
     "data": {
      "text/html": [
       " View project at <a href='https://wandb.ai/noynetanel1-tel-aviv-university/GCN%20Graph%20classification%28DD%29_Gal' target=\"_blank\">https://wandb.ai/noynetanel1-tel-aviv-university/GCN%20Graph%20classification%28DD%29_Gal</a>"
      ],
      "text/plain": [
       "<IPython.core.display.HTML object>"
      ]
     },
     "metadata": {},
     "output_type": "display_data"
    },
    {
     "data": {
      "text/html": [
       " View run at <a href='https://wandb.ai/noynetanel1-tel-aviv-university/GCN%20Graph%20classification%28DD%29_Gal/runs/7ekf9jwt' target=\"_blank\">https://wandb.ai/noynetanel1-tel-aviv-university/GCN%20Graph%20classification%28DD%29_Gal/runs/7ekf9jwt</a>"
      ],
      "text/plain": [
       "<IPython.core.display.HTML object>"
      ]
     },
     "metadata": {},
     "output_type": "display_data"
    },
    {
     "name": "stdout",
     "output_type": "stream",
     "text": [
      "Seed 27 | Epoch 001 | Loss: 0.6830 | Test Acc: 0.5975\n",
      "Seed 27 | Epoch 002 | Loss: 0.6789 | Test Acc: 0.5975\n",
      "Seed 27 | Epoch 003 | Loss: 0.6736 | Test Acc: 0.5975\n",
      "Seed 27 | Epoch 004 | Loss: 0.6707 | Test Acc: 0.5975\n",
      "Seed 27 | Epoch 005 | Loss: 0.6614 | Test Acc: 0.6144\n",
      "Seed 27 | Epoch 006 | Loss: 0.6453 | Test Acc: 0.6695\n",
      "Seed 27 | Epoch 007 | Loss: 0.6268 | Test Acc: 0.6525\n",
      "Seed 27 | Epoch 008 | Loss: 0.6116 | Test Acc: 0.7203\n",
      "Seed 27 | Epoch 009 | Loss: 0.6003 | Test Acc: 0.7161\n",
      "Seed 27 | Epoch 010 | Loss: 0.5962 | Test Acc: 0.7246\n",
      "Seed 27 | Epoch 011 | Loss: 0.5841 | Test Acc: 0.6695\n",
      "Seed 27 | Epoch 012 | Loss: 0.5872 | Test Acc: 0.7288\n",
      "Seed 27 | Epoch 013 | Loss: 0.5783 | Test Acc: 0.7203\n",
      "Seed 27 | Epoch 014 | Loss: 0.5763 | Test Acc: 0.7373\n",
      "Seed 27 | Epoch 015 | Loss: 0.5838 | Test Acc: 0.6949\n",
      "Seed 27 | Epoch 016 | Loss: 0.5738 | Test Acc: 0.6992\n",
      "Seed 27 | Epoch 017 | Loss: 0.5755 | Test Acc: 0.7415\n",
      "Seed 27 | Epoch 018 | Loss: 0.5671 | Test Acc: 0.7203\n",
      "Seed 27 | Epoch 019 | Loss: 0.5747 | Test Acc: 0.6907\n",
      "Seed 27 | Epoch 020 | Loss: 0.6126 | Test Acc: 0.7161\n",
      "Seed 27 | Epoch 021 | Loss: 0.5771 | Test Acc: 0.7246\n",
      "Seed 27 | Epoch 022 | Loss: 0.5698 | Test Acc: 0.7373\n",
      "Seed 27 | Epoch 023 | Loss: 0.5667 | Test Acc: 0.7203\n",
      "Seed 27 | Epoch 024 | Loss: 0.5671 | Test Acc: 0.7203\n",
      "Seed 27 | Epoch 025 | Loss: 0.5652 | Test Acc: 0.7373\n",
      "Seed 27 | Epoch 026 | Loss: 0.5605 | Test Acc: 0.7119\n",
      "Seed 27 | Epoch 027 | Loss: 0.5663 | Test Acc: 0.7246\n",
      "Seed 27 | Epoch 028 | Loss: 0.5689 | Test Acc: 0.6992\n",
      "Seed 27 | Epoch 029 | Loss: 0.5620 | Test Acc: 0.7246\n",
      "Seed 27 | Epoch 030 | Loss: 0.5589 | Test Acc: 0.7331\n",
      "Seed 27 | Epoch 031 | Loss: 0.5585 | Test Acc: 0.7288\n",
      "Seed 27 | Epoch 032 | Loss: 0.5638 | Test Acc: 0.7373\n",
      "Seed 27 | Epoch 033 | Loss: 0.5591 | Test Acc: 0.7288\n",
      "Seed 27 | Epoch 034 | Loss: 0.5669 | Test Acc: 0.7246\n",
      "Seed 27 | Epoch 035 | Loss: 0.5529 | Test Acc: 0.7203\n",
      "Seed 27 | Epoch 036 | Loss: 0.5520 | Test Acc: 0.7331\n",
      "Seed 27 | Epoch 037 | Loss: 0.5628 | Test Acc: 0.7203\n",
      "Seed 27 | Epoch 038 | Loss: 0.5553 | Test Acc: 0.7288\n",
      "Seed 27 | Epoch 039 | Loss: 0.5510 | Test Acc: 0.7331\n",
      "Seed 27 | Epoch 040 | Loss: 0.5632 | Test Acc: 0.7415\n",
      "Seed 27 | Epoch 041 | Loss: 0.5597 | Test Acc: 0.7203\n",
      "Seed 27 | Epoch 042 | Loss: 0.5496 | Test Acc: 0.7161\n",
      "Seed 27 | Epoch 043 | Loss: 0.5488 | Test Acc: 0.6822\n",
      "Seed 27 | Epoch 044 | Loss: 0.5506 | Test Acc: 0.7246\n",
      "Seed 27 | Epoch 045 | Loss: 0.5462 | Test Acc: 0.6992\n",
      "Seed 27 | Epoch 046 | Loss: 0.5576 | Test Acc: 0.7119\n",
      "Seed 27 | Epoch 047 | Loss: 0.5434 | Test Acc: 0.7415\n",
      "Seed 27 | Epoch 048 | Loss: 0.5449 | Test Acc: 0.7034\n",
      "Seed 27 | Epoch 049 | Loss: 0.5477 | Test Acc: 0.7246\n",
      "Seed 27 | Epoch 050 | Loss: 0.5400 | Test Acc: 0.7203\n"
     ]
    },
    {
     "data": {
      "text/html": [],
      "text/plain": [
       "<IPython.core.display.HTML object>"
      ]
     },
     "metadata": {},
     "output_type": "display_data"
    },
    {
     "data": {
      "text/html": [
       "<br>    <style><br>        .wandb-row {<br>            display: flex;<br>            flex-direction: row;<br>            flex-wrap: wrap;<br>            justify-content: flex-start;<br>            width: 100%;<br>        }<br>        .wandb-col {<br>            display: flex;<br>            flex-direction: column;<br>            flex-basis: 100%;<br>            flex: 1;<br>            padding: 10px;<br>        }<br>    </style><br><div class=\"wandb-row\"><div class=\"wandb-col\"><h3>Run history:</h3><br/><table class=\"wandb\"><tr><td>epoch</td><td>▁▁▁▁▂▂▂▂▂▂▃▃▃▃▃▄▄▄▄▄▅▅▅▅▅▆▆▆▆▆▆▇▇▇▇▇▇███</td></tr><tr><td>loss</td><td>███▇▇▅▅▄▄▃▃▃▃▃▃▃▅▃▂▂▂▂▂▂▂▂▂▂▂▂▂▂▂▂▁▁▂▁▁▁</td></tr><tr><td>test_acc</td><td>▁▁▁▁▂▄▇▇▇▅▇█▆▆█▆▇▇█▇█▇▇▆▇▇█▇▇█▇█▇▇▅▆▇█▆▇</td></tr><tr><td>train_acc</td><td>▁▁▁▁▂▃▆▅▆▆▇▆▇▇▇▇▇▇▇▇▇▇▇▇▇▇▇███▇██▇█▇████</td></tr></table><br/></div><div class=\"wandb-col\"><h3>Run summary:</h3><br/><table class=\"wandb\"><tr><td>epoch</td><td>50</td></tr><tr><td>loss</td><td>0.54</td></tr><tr><td>test_acc</td><td>0.72034</td></tr><tr><td>train_acc</td><td>0.75053</td></tr></table><br/></div></div>"
      ],
      "text/plain": [
       "<IPython.core.display.HTML object>"
      ]
     },
     "metadata": {},
     "output_type": "display_data"
    },
    {
     "data": {
      "text/html": [
       " View run <strong style=\"color:#cdcd00\">GCN_baseline_seed_27</strong> at: <a href='https://wandb.ai/noynetanel1-tel-aviv-university/GCN%20Graph%20classification%28DD%29_Gal/runs/7ekf9jwt' target=\"_blank\">https://wandb.ai/noynetanel1-tel-aviv-university/GCN%20Graph%20classification%28DD%29_Gal/runs/7ekf9jwt</a><br> View project at: <a href='https://wandb.ai/noynetanel1-tel-aviv-university/GCN%20Graph%20classification%28DD%29_Gal' target=\"_blank\">https://wandb.ai/noynetanel1-tel-aviv-university/GCN%20Graph%20classification%28DD%29_Gal</a><br>Synced 5 W&B file(s), 0 media file(s), 0 artifact file(s) and 0 other file(s)"
      ],
      "text/plain": [
       "<IPython.core.display.HTML object>"
      ]
     },
     "metadata": {},
     "output_type": "display_data"
    },
    {
     "data": {
      "text/html": [
       "Find logs at: <code>./wandb/run-20250822_201434-7ekf9jwt/logs</code>"
      ],
      "text/plain": [
       "<IPython.core.display.HTML object>"
      ]
     },
     "metadata": {},
     "output_type": "display_data"
    },
    {
     "data": {
      "text/html": [
       "Tracking run with wandb version 0.20.1"
      ],
      "text/plain": [
       "<IPython.core.display.HTML object>"
      ]
     },
     "metadata": {},
     "output_type": "display_data"
    },
    {
     "data": {
      "text/html": [
       "Run data is saved locally in <code>/kaggle/working/wandb/run-20250822_201611-c6aucyn4</code>"
      ],
      "text/plain": [
       "<IPython.core.display.HTML object>"
      ]
     },
     "metadata": {},
     "output_type": "display_data"
    },
    {
     "data": {
      "text/html": [
       "Syncing run <strong><a href='https://wandb.ai/noynetanel1-tel-aviv-university/GCN%20Graph%20classification%28DD%29_Gal/runs/c6aucyn4' target=\"_blank\">GCN_baseline_seed_28</a></strong> to <a href='https://wandb.ai/noynetanel1-tel-aviv-university/GCN%20Graph%20classification%28DD%29_Gal' target=\"_blank\">Weights & Biases</a> (<a href='https://wandb.me/developer-guide' target=\"_blank\">docs</a>)<br>"
      ],
      "text/plain": [
       "<IPython.core.display.HTML object>"
      ]
     },
     "metadata": {},
     "output_type": "display_data"
    },
    {
     "data": {
      "text/html": [
       " View project at <a href='https://wandb.ai/noynetanel1-tel-aviv-university/GCN%20Graph%20classification%28DD%29_Gal' target=\"_blank\">https://wandb.ai/noynetanel1-tel-aviv-university/GCN%20Graph%20classification%28DD%29_Gal</a>"
      ],
      "text/plain": [
       "<IPython.core.display.HTML object>"
      ]
     },
     "metadata": {},
     "output_type": "display_data"
    },
    {
     "data": {
      "text/html": [
       " View run at <a href='https://wandb.ai/noynetanel1-tel-aviv-university/GCN%20Graph%20classification%28DD%29_Gal/runs/c6aucyn4' target=\"_blank\">https://wandb.ai/noynetanel1-tel-aviv-university/GCN%20Graph%20classification%28DD%29_Gal/runs/c6aucyn4</a>"
      ],
      "text/plain": [
       "<IPython.core.display.HTML object>"
      ]
     },
     "metadata": {},
     "output_type": "display_data"
    },
    {
     "name": "stdout",
     "output_type": "stream",
     "text": [
      "Seed 28 | Epoch 001 | Loss: 0.6781 | Test Acc: 0.5975\n",
      "Seed 28 | Epoch 002 | Loss: 0.6800 | Test Acc: 0.5975\n",
      "Seed 28 | Epoch 003 | Loss: 0.6779 | Test Acc: 0.5975\n",
      "Seed 28 | Epoch 004 | Loss: 0.6779 | Test Acc: 0.5975\n",
      "Seed 28 | Epoch 005 | Loss: 0.6719 | Test Acc: 0.5975\n",
      "Seed 28 | Epoch 006 | Loss: 0.6627 | Test Acc: 0.6017\n",
      "Seed 28 | Epoch 007 | Loss: 0.6513 | Test Acc: 0.6568\n",
      "Seed 28 | Epoch 008 | Loss: 0.6305 | Test Acc: 0.6780\n",
      "Seed 28 | Epoch 009 | Loss: 0.6132 | Test Acc: 0.6822\n",
      "Seed 28 | Epoch 010 | Loss: 0.6046 | Test Acc: 0.7119\n",
      "Seed 28 | Epoch 011 | Loss: 0.6010 | Test Acc: 0.6314\n",
      "Seed 28 | Epoch 012 | Loss: 0.6035 | Test Acc: 0.6695\n",
      "Seed 28 | Epoch 013 | Loss: 0.6086 | Test Acc: 0.7034\n",
      "Seed 28 | Epoch 014 | Loss: 0.5903 | Test Acc: 0.7119\n",
      "Seed 28 | Epoch 015 | Loss: 0.5828 | Test Acc: 0.7034\n",
      "Seed 28 | Epoch 016 | Loss: 0.5749 | Test Acc: 0.7034\n",
      "Seed 28 | Epoch 017 | Loss: 0.5931 | Test Acc: 0.7034\n",
      "Seed 28 | Epoch 018 | Loss: 0.5796 | Test Acc: 0.7076\n",
      "Seed 28 | Epoch 019 | Loss: 0.5814 | Test Acc: 0.6992\n",
      "Seed 28 | Epoch 020 | Loss: 0.5712 | Test Acc: 0.7246\n",
      "Seed 28 | Epoch 021 | Loss: 0.5646 | Test Acc: 0.6907\n",
      "Seed 28 | Epoch 022 | Loss: 0.5642 | Test Acc: 0.7203\n",
      "Seed 28 | Epoch 023 | Loss: 0.5756 | Test Acc: 0.6864\n",
      "Seed 28 | Epoch 024 | Loss: 0.5752 | Test Acc: 0.6864\n",
      "Seed 28 | Epoch 025 | Loss: 0.5693 | Test Acc: 0.7034\n",
      "Seed 28 | Epoch 026 | Loss: 0.5659 | Test Acc: 0.7246\n",
      "Seed 28 | Epoch 027 | Loss: 0.5572 | Test Acc: 0.7161\n",
      "Seed 28 | Epoch 028 | Loss: 0.5602 | Test Acc: 0.7246\n",
      "Seed 28 | Epoch 029 | Loss: 0.5578 | Test Acc: 0.7203\n",
      "Seed 28 | Epoch 030 | Loss: 0.5509 | Test Acc: 0.6864\n",
      "Seed 28 | Epoch 031 | Loss: 0.5689 | Test Acc: 0.7331\n",
      "Seed 28 | Epoch 032 | Loss: 0.5619 | Test Acc: 0.7076\n",
      "Seed 28 | Epoch 033 | Loss: 0.5474 | Test Acc: 0.7076\n",
      "Seed 28 | Epoch 034 | Loss: 0.5499 | Test Acc: 0.6864\n",
      "Seed 28 | Epoch 035 | Loss: 0.5592 | Test Acc: 0.7246\n",
      "Seed 28 | Epoch 036 | Loss: 0.5677 | Test Acc: 0.7203\n",
      "Seed 28 | Epoch 037 | Loss: 0.5465 | Test Acc: 0.7034\n",
      "Seed 28 | Epoch 038 | Loss: 0.5472 | Test Acc: 0.7034\n",
      "Seed 28 | Epoch 039 | Loss: 0.5489 | Test Acc: 0.7288\n",
      "Seed 28 | Epoch 040 | Loss: 0.5436 | Test Acc: 0.7203\n",
      "Seed 28 | Epoch 041 | Loss: 0.5450 | Test Acc: 0.7034\n",
      "Seed 28 | Epoch 042 | Loss: 0.5413 | Test Acc: 0.7288\n",
      "Seed 28 | Epoch 043 | Loss: 0.5390 | Test Acc: 0.6822\n",
      "Seed 28 | Epoch 044 | Loss: 0.5447 | Test Acc: 0.6780\n",
      "Seed 28 | Epoch 045 | Loss: 0.5509 | Test Acc: 0.7076\n",
      "Seed 28 | Epoch 046 | Loss: 0.5433 | Test Acc: 0.7119\n",
      "Seed 28 | Epoch 047 | Loss: 0.5421 | Test Acc: 0.7034\n",
      "Seed 28 | Epoch 048 | Loss: 0.5418 | Test Acc: 0.7161\n",
      "Seed 28 | Epoch 049 | Loss: 0.5411 | Test Acc: 0.7076\n",
      "Seed 28 | Epoch 050 | Loss: 0.5425 | Test Acc: 0.7119\n"
     ]
    },
    {
     "data": {
      "text/html": [],
      "text/plain": [
       "<IPython.core.display.HTML object>"
      ]
     },
     "metadata": {},
     "output_type": "display_data"
    },
    {
     "data": {
      "text/html": [
       "<br>    <style><br>        .wandb-row {<br>            display: flex;<br>            flex-direction: row;<br>            flex-wrap: wrap;<br>            justify-content: flex-start;<br>            width: 100%;<br>        }<br>        .wandb-col {<br>            display: flex;<br>            flex-direction: column;<br>            flex-basis: 100%;<br>            flex: 1;<br>            padding: 10px;<br>        }<br>    </style><br><div class=\"wandb-row\"><div class=\"wandb-col\"><h3>Run history:</h3><br/><table class=\"wandb\"><tr><td>epoch</td><td>▁▁▁▂▂▂▂▂▃▃▃▃▃▃▄▄▄▄▄▄▅▅▅▅▅▆▆▆▆▆▆▇▇▇▇▇▇███</td></tr><tr><td>loss</td><td>█████▇▆▅▄▄▄▄▃▃▃▃▂▃▃▃▂▂▂▂▂▁▂▂▂▁▁▁▁▁▁▂▁▁▁▁</td></tr><tr><td>test_acc</td><td>▁▁▁▁▁▅▆▇▃▅▇▇▇▇▇█▆█▆▆█▇██▆▇▆██▇██▇█▆▇▇▇▇▇</td></tr><tr><td>train_acc</td><td>▁▁▁▁▁▄▆▅▆▄▆▇▇▆▇▇▇▇▇▇▇▇▇▇▇▇▇▇█▇▇██▇███▇██</td></tr></table><br/></div><div class=\"wandb-col\"><h3>Run summary:</h3><br/><table class=\"wandb\"><tr><td>epoch</td><td>50</td></tr><tr><td>loss</td><td>0.54251</td></tr><tr><td>test_acc</td><td>0.71186</td></tr><tr><td>train_acc</td><td>0.73885</td></tr></table><br/></div></div>"
      ],
      "text/plain": [
       "<IPython.core.display.HTML object>"
      ]
     },
     "metadata": {},
     "output_type": "display_data"
    },
    {
     "data": {
      "text/html": [
       " View run <strong style=\"color:#cdcd00\">GCN_baseline_seed_28</strong> at: <a href='https://wandb.ai/noynetanel1-tel-aviv-university/GCN%20Graph%20classification%28DD%29_Gal/runs/c6aucyn4' target=\"_blank\">https://wandb.ai/noynetanel1-tel-aviv-university/GCN%20Graph%20classification%28DD%29_Gal/runs/c6aucyn4</a><br> View project at: <a href='https://wandb.ai/noynetanel1-tel-aviv-university/GCN%20Graph%20classification%28DD%29_Gal' target=\"_blank\">https://wandb.ai/noynetanel1-tel-aviv-university/GCN%20Graph%20classification%28DD%29_Gal</a><br>Synced 5 W&B file(s), 0 media file(s), 0 artifact file(s) and 0 other file(s)"
      ],
      "text/plain": [
       "<IPython.core.display.HTML object>"
      ]
     },
     "metadata": {},
     "output_type": "display_data"
    },
    {
     "data": {
      "text/html": [
       "Find logs at: <code>./wandb/run-20250822_201611-c6aucyn4/logs</code>"
      ],
      "text/plain": [
       "<IPython.core.display.HTML object>"
      ]
     },
     "metadata": {},
     "output_type": "display_data"
    },
    {
     "data": {
      "text/html": [
       "Tracking run with wandb version 0.20.1"
      ],
      "text/plain": [
       "<IPython.core.display.HTML object>"
      ]
     },
     "metadata": {},
     "output_type": "display_data"
    },
    {
     "data": {
      "text/html": [
       "Run data is saved locally in <code>/kaggle/working/wandb/run-20250822_201750-kn4ofmgn</code>"
      ],
      "text/plain": [
       "<IPython.core.display.HTML object>"
      ]
     },
     "metadata": {},
     "output_type": "display_data"
    },
    {
     "data": {
      "text/html": [
       "Syncing run <strong><a href='https://wandb.ai/noynetanel1-tel-aviv-university/GCN%20Graph%20classification%28DD%29_Gal/runs/kn4ofmgn' target=\"_blank\">GCN_baseline_seed_29</a></strong> to <a href='https://wandb.ai/noynetanel1-tel-aviv-university/GCN%20Graph%20classification%28DD%29_Gal' target=\"_blank\">Weights & Biases</a> (<a href='https://wandb.me/developer-guide' target=\"_blank\">docs</a>)<br>"
      ],
      "text/plain": [
       "<IPython.core.display.HTML object>"
      ]
     },
     "metadata": {},
     "output_type": "display_data"
    },
    {
     "data": {
      "text/html": [
       " View project at <a href='https://wandb.ai/noynetanel1-tel-aviv-university/GCN%20Graph%20classification%28DD%29_Gal' target=\"_blank\">https://wandb.ai/noynetanel1-tel-aviv-university/GCN%20Graph%20classification%28DD%29_Gal</a>"
      ],
      "text/plain": [
       "<IPython.core.display.HTML object>"
      ]
     },
     "metadata": {},
     "output_type": "display_data"
    },
    {
     "data": {
      "text/html": [
       " View run at <a href='https://wandb.ai/noynetanel1-tel-aviv-university/GCN%20Graph%20classification%28DD%29_Gal/runs/kn4ofmgn' target=\"_blank\">https://wandb.ai/noynetanel1-tel-aviv-university/GCN%20Graph%20classification%28DD%29_Gal/runs/kn4ofmgn</a>"
      ],
      "text/plain": [
       "<IPython.core.display.HTML object>"
      ]
     },
     "metadata": {},
     "output_type": "display_data"
    },
    {
     "name": "stdout",
     "output_type": "stream",
     "text": [
      "Seed 29 | Epoch 001 | Loss: 0.6898 | Test Acc: 0.6059\n",
      "Seed 29 | Epoch 002 | Loss: 0.6778 | Test Acc: 0.6059\n",
      "Seed 29 | Epoch 003 | Loss: 0.6747 | Test Acc: 0.6059\n",
      "Seed 29 | Epoch 004 | Loss: 0.6716 | Test Acc: 0.6059\n",
      "Seed 29 | Epoch 005 | Loss: 0.6668 | Test Acc: 0.6059\n",
      "Seed 29 | Epoch 006 | Loss: 0.6590 | Test Acc: 0.6059\n",
      "Seed 29 | Epoch 007 | Loss: 0.6413 | Test Acc: 0.6525\n",
      "Seed 29 | Epoch 008 | Loss: 0.6291 | Test Acc: 0.6314\n",
      "Seed 29 | Epoch 009 | Loss: 0.6150 | Test Acc: 0.6610\n",
      "Seed 29 | Epoch 010 | Loss: 0.5985 | Test Acc: 0.6737\n",
      "Seed 29 | Epoch 011 | Loss: 0.5962 | Test Acc: 0.6822\n",
      "Seed 29 | Epoch 012 | Loss: 0.5838 | Test Acc: 0.6610\n",
      "Seed 29 | Epoch 013 | Loss: 0.5795 | Test Acc: 0.6780\n",
      "Seed 29 | Epoch 014 | Loss: 0.5702 | Test Acc: 0.6949\n",
      "Seed 29 | Epoch 015 | Loss: 0.5735 | Test Acc: 0.6695\n",
      "Seed 29 | Epoch 016 | Loss: 0.5713 | Test Acc: 0.6695\n",
      "Seed 29 | Epoch 017 | Loss: 0.5776 | Test Acc: 0.6949\n",
      "Seed 29 | Epoch 018 | Loss: 0.5850 | Test Acc: 0.6695\n",
      "Seed 29 | Epoch 019 | Loss: 0.5607 | Test Acc: 0.6780\n",
      "Seed 29 | Epoch 020 | Loss: 0.5702 | Test Acc: 0.6695\n",
      "Seed 29 | Epoch 021 | Loss: 0.5653 | Test Acc: 0.6864\n",
      "Seed 29 | Epoch 022 | Loss: 0.5559 | Test Acc: 0.6949\n",
      "Seed 29 | Epoch 023 | Loss: 0.5542 | Test Acc: 0.6822\n",
      "Seed 29 | Epoch 024 | Loss: 0.5524 | Test Acc: 0.6992\n",
      "Seed 29 | Epoch 025 | Loss: 0.5623 | Test Acc: 0.7034\n",
      "Seed 29 | Epoch 026 | Loss: 0.5572 | Test Acc: 0.6864\n",
      "Seed 29 | Epoch 027 | Loss: 0.5534 | Test Acc: 0.6864\n",
      "Seed 29 | Epoch 028 | Loss: 0.5572 | Test Acc: 0.6737\n",
      "Seed 29 | Epoch 029 | Loss: 0.5500 | Test Acc: 0.6822\n",
      "Seed 29 | Epoch 030 | Loss: 0.5481 | Test Acc: 0.6992\n",
      "Seed 29 | Epoch 031 | Loss: 0.5486 | Test Acc: 0.6780\n",
      "Seed 29 | Epoch 032 | Loss: 0.5483 | Test Acc: 0.6822\n",
      "Seed 29 | Epoch 033 | Loss: 0.5435 | Test Acc: 0.6907\n",
      "Seed 29 | Epoch 034 | Loss: 0.5527 | Test Acc: 0.6568\n",
      "Seed 29 | Epoch 035 | Loss: 0.5666 | Test Acc: 0.6864\n",
      "Seed 29 | Epoch 036 | Loss: 0.5482 | Test Acc: 0.6907\n",
      "Seed 29 | Epoch 037 | Loss: 0.5353 | Test Acc: 0.6737\n",
      "Seed 29 | Epoch 038 | Loss: 0.5412 | Test Acc: 0.6864\n",
      "Seed 29 | Epoch 039 | Loss: 0.5502 | Test Acc: 0.6780\n",
      "Seed 29 | Epoch 040 | Loss: 0.5429 | Test Acc: 0.6907\n",
      "Seed 29 | Epoch 041 | Loss: 0.5357 | Test Acc: 0.6864\n",
      "Seed 29 | Epoch 042 | Loss: 0.5352 | Test Acc: 0.6864\n",
      "Seed 29 | Epoch 043 | Loss: 0.5359 | Test Acc: 0.6822\n",
      "Seed 29 | Epoch 044 | Loss: 0.5384 | Test Acc: 0.6864\n",
      "Seed 29 | Epoch 045 | Loss: 0.5330 | Test Acc: 0.6822\n",
      "Seed 29 | Epoch 046 | Loss: 0.5383 | Test Acc: 0.6780\n",
      "Seed 29 | Epoch 047 | Loss: 0.5427 | Test Acc: 0.7034\n",
      "Seed 29 | Epoch 048 | Loss: 0.5420 | Test Acc: 0.6907\n",
      "Seed 29 | Epoch 049 | Loss: 0.5352 | Test Acc: 0.6737\n",
      "Seed 29 | Epoch 050 | Loss: 0.5430 | Test Acc: 0.6780\n"
     ]
    },
    {
     "data": {
      "text/html": [],
      "text/plain": [
       "<IPython.core.display.HTML object>"
      ]
     },
     "metadata": {},
     "output_type": "display_data"
    },
    {
     "data": {
      "text/html": [
       "<br>    <style><br>        .wandb-row {<br>            display: flex;<br>            flex-direction: row;<br>            flex-wrap: wrap;<br>            justify-content: flex-start;<br>            width: 100%;<br>        }<br>        .wandb-col {<br>            display: flex;<br>            flex-direction: column;<br>            flex-basis: 100%;<br>            flex: 1;<br>            padding: 10px;<br>        }<br>    </style><br><div class=\"wandb-row\"><div class=\"wandb-col\"><h3>Run history:</h3><br/><table class=\"wandb\"><tr><td>epoch</td><td>▁▁▁▁▂▂▂▂▂▃▃▃▃▃▄▄▄▄▄▄▅▅▅▅▅▆▆▆▆▆▆▇▇▇▇▇▇███</td></tr><tr><td>loss</td><td>█▇▇▇▇▅▅▄▄▃▃▃▃▃▃▃▂▂▂▂▂▂▂▂▂▂▁▂▂▁▂▁▁▁▁▁▁▁▁▁</td></tr><tr><td>test_acc</td><td>▁▁▁▁▁▃▅▆▆▅▇▆▆▆▆▇▇▆██▇▆▆█▆▇▅▇▇▆▆▇▇▇▆▆▆█▇▆</td></tr><tr><td>train_acc</td><td>▁▁▁▂▂▄▆▆▇▆▇▇▇▇▇▇█▇█▇▇█▇█▇█▇▇█▇█▇████▇██▇</td></tr></table><br/></div><div class=\"wandb-col\"><h3>Run summary:</h3><br/><table class=\"wandb\"><tr><td>epoch</td><td>50</td></tr><tr><td>loss</td><td>0.54299</td></tr><tr><td>test_acc</td><td>0.67797</td></tr><tr><td>train_acc</td><td>0.72824</td></tr></table><br/></div></div>"
      ],
      "text/plain": [
       "<IPython.core.display.HTML object>"
      ]
     },
     "metadata": {},
     "output_type": "display_data"
    },
    {
     "data": {
      "text/html": [
       " View run <strong style=\"color:#cdcd00\">GCN_baseline_seed_29</strong> at: <a href='https://wandb.ai/noynetanel1-tel-aviv-university/GCN%20Graph%20classification%28DD%29_Gal/runs/kn4ofmgn' target=\"_blank\">https://wandb.ai/noynetanel1-tel-aviv-university/GCN%20Graph%20classification%28DD%29_Gal/runs/kn4ofmgn</a><br> View project at: <a href='https://wandb.ai/noynetanel1-tel-aviv-university/GCN%20Graph%20classification%28DD%29_Gal' target=\"_blank\">https://wandb.ai/noynetanel1-tel-aviv-university/GCN%20Graph%20classification%28DD%29_Gal</a><br>Synced 5 W&B file(s), 0 media file(s), 0 artifact file(s) and 0 other file(s)"
      ],
      "text/plain": [
       "<IPython.core.display.HTML object>"
      ]
     },
     "metadata": {},
     "output_type": "display_data"
    },
    {
     "data": {
      "text/html": [
       "Find logs at: <code>./wandb/run-20250822_201750-kn4ofmgn/logs</code>"
      ],
      "text/plain": [
       "<IPython.core.display.HTML object>"
      ]
     },
     "metadata": {},
     "output_type": "display_data"
    },
    {
     "data": {
      "text/html": [
       "Tracking run with wandb version 0.20.1"
      ],
      "text/plain": [
       "<IPython.core.display.HTML object>"
      ]
     },
     "metadata": {},
     "output_type": "display_data"
    },
    {
     "data": {
      "text/html": [
       "Run data is saved locally in <code>/kaggle/working/wandb/run-20250822_201926-p4ya08b5</code>"
      ],
      "text/plain": [
       "<IPython.core.display.HTML object>"
      ]
     },
     "metadata": {},
     "output_type": "display_data"
    },
    {
     "data": {
      "text/html": [
       "Syncing run <strong><a href='https://wandb.ai/noynetanel1-tel-aviv-university/GCN%20Graph%20classification%28DD%29_Gal/runs/p4ya08b5' target=\"_blank\">GCN_baseline_seed_30</a></strong> to <a href='https://wandb.ai/noynetanel1-tel-aviv-university/GCN%20Graph%20classification%28DD%29_Gal' target=\"_blank\">Weights & Biases</a> (<a href='https://wandb.me/developer-guide' target=\"_blank\">docs</a>)<br>"
      ],
      "text/plain": [
       "<IPython.core.display.HTML object>"
      ]
     },
     "metadata": {},
     "output_type": "display_data"
    },
    {
     "data": {
      "text/html": [
       " View project at <a href='https://wandb.ai/noynetanel1-tel-aviv-university/GCN%20Graph%20classification%28DD%29_Gal' target=\"_blank\">https://wandb.ai/noynetanel1-tel-aviv-university/GCN%20Graph%20classification%28DD%29_Gal</a>"
      ],
      "text/plain": [
       "<IPython.core.display.HTML object>"
      ]
     },
     "metadata": {},
     "output_type": "display_data"
    },
    {
     "data": {
      "text/html": [
       " View run at <a href='https://wandb.ai/noynetanel1-tel-aviv-university/GCN%20Graph%20classification%28DD%29_Gal/runs/p4ya08b5' target=\"_blank\">https://wandb.ai/noynetanel1-tel-aviv-university/GCN%20Graph%20classification%28DD%29_Gal/runs/p4ya08b5</a>"
      ],
      "text/plain": [
       "<IPython.core.display.HTML object>"
      ]
     },
     "metadata": {},
     "output_type": "display_data"
    },
    {
     "name": "stdout",
     "output_type": "stream",
     "text": [
      "Seed 30 | Epoch 001 | Loss: 0.6840 | Test Acc: 0.5890\n",
      "Seed 30 | Epoch 002 | Loss: 0.6747 | Test Acc: 0.5890\n",
      "Seed 30 | Epoch 003 | Loss: 0.6732 | Test Acc: 0.5890\n",
      "Seed 30 | Epoch 004 | Loss: 0.6692 | Test Acc: 0.5890\n",
      "Seed 30 | Epoch 005 | Loss: 0.6726 | Test Acc: 0.5890\n",
      "Seed 30 | Epoch 006 | Loss: 0.6587 | Test Acc: 0.6144\n",
      "Seed 30 | Epoch 007 | Loss: 0.6483 | Test Acc: 0.7076\n",
      "Seed 30 | Epoch 008 | Loss: 0.6313 | Test Acc: 0.6864\n",
      "Seed 30 | Epoch 009 | Loss: 0.6211 | Test Acc: 0.7076\n",
      "Seed 30 | Epoch 010 | Loss: 0.6033 | Test Acc: 0.6992\n",
      "Seed 30 | Epoch 011 | Loss: 0.6064 | Test Acc: 0.7119\n",
      "Seed 30 | Epoch 012 | Loss: 0.5957 | Test Acc: 0.6949\n",
      "Seed 30 | Epoch 013 | Loss: 0.5963 | Test Acc: 0.6907\n",
      "Seed 30 | Epoch 014 | Loss: 0.5798 | Test Acc: 0.6907\n",
      "Seed 30 | Epoch 015 | Loss: 0.5858 | Test Acc: 0.6949\n",
      "Seed 30 | Epoch 016 | Loss: 0.5891 | Test Acc: 0.6907\n",
      "Seed 30 | Epoch 017 | Loss: 0.5826 | Test Acc: 0.6907\n",
      "Seed 30 | Epoch 018 | Loss: 0.5765 | Test Acc: 0.7076\n",
      "Seed 30 | Epoch 019 | Loss: 0.5736 | Test Acc: 0.6992\n",
      "Seed 30 | Epoch 020 | Loss: 0.5767 | Test Acc: 0.6822\n",
      "Seed 30 | Epoch 021 | Loss: 0.5766 | Test Acc: 0.7034\n",
      "Seed 30 | Epoch 022 | Loss: 0.5723 | Test Acc: 0.6864\n",
      "Seed 30 | Epoch 023 | Loss: 0.5778 | Test Acc: 0.6695\n",
      "Seed 30 | Epoch 024 | Loss: 0.5731 | Test Acc: 0.6949\n",
      "Seed 30 | Epoch 025 | Loss: 0.5750 | Test Acc: 0.6822\n",
      "Seed 30 | Epoch 026 | Loss: 0.5702 | Test Acc: 0.6949\n",
      "Seed 30 | Epoch 027 | Loss: 0.5661 | Test Acc: 0.6907\n",
      "Seed 30 | Epoch 028 | Loss: 0.5663 | Test Acc: 0.6822\n",
      "Seed 30 | Epoch 029 | Loss: 0.5624 | Test Acc: 0.6780\n",
      "Seed 30 | Epoch 030 | Loss: 0.5606 | Test Acc: 0.6949\n",
      "Seed 30 | Epoch 031 | Loss: 0.5669 | Test Acc: 0.6822\n",
      "Seed 30 | Epoch 032 | Loss: 0.5667 | Test Acc: 0.6822\n",
      "Seed 30 | Epoch 033 | Loss: 0.5597 | Test Acc: 0.6949\n",
      "Seed 30 | Epoch 034 | Loss: 0.5599 | Test Acc: 0.6737\n",
      "Seed 30 | Epoch 035 | Loss: 0.5573 | Test Acc: 0.6907\n",
      "Seed 30 | Epoch 036 | Loss: 0.5665 | Test Acc: 0.6864\n",
      "Seed 30 | Epoch 037 | Loss: 0.5575 | Test Acc: 0.6780\n",
      "Seed 30 | Epoch 038 | Loss: 0.5598 | Test Acc: 0.6992\n",
      "Seed 30 | Epoch 039 | Loss: 0.5642 | Test Acc: 0.6822\n",
      "Seed 30 | Epoch 040 | Loss: 0.5579 | Test Acc: 0.6907\n",
      "Seed 30 | Epoch 041 | Loss: 0.5514 | Test Acc: 0.6949\n",
      "Seed 30 | Epoch 042 | Loss: 0.5590 | Test Acc: 0.6822\n",
      "Seed 30 | Epoch 043 | Loss: 0.5538 | Test Acc: 0.6992\n",
      "Seed 30 | Epoch 044 | Loss: 0.5485 | Test Acc: 0.6992\n",
      "Seed 30 | Epoch 045 | Loss: 0.5576 | Test Acc: 0.6949\n",
      "Seed 30 | Epoch 046 | Loss: 0.5456 | Test Acc: 0.6907\n",
      "Seed 30 | Epoch 047 | Loss: 0.5481 | Test Acc: 0.6949\n",
      "Seed 30 | Epoch 048 | Loss: 0.5491 | Test Acc: 0.6992\n",
      "Seed 30 | Epoch 049 | Loss: 0.5420 | Test Acc: 0.6822\n",
      "Seed 30 | Epoch 050 | Loss: 0.5455 | Test Acc: 0.7076\n"
     ]
    },
    {
     "data": {
      "text/html": [],
      "text/plain": [
       "<IPython.core.display.HTML object>"
      ]
     },
     "metadata": {},
     "output_type": "display_data"
    },
    {
     "data": {
      "text/html": [
       "<br>    <style><br>        .wandb-row {<br>            display: flex;<br>            flex-direction: row;<br>            flex-wrap: wrap;<br>            justify-content: flex-start;<br>            width: 100%;<br>        }<br>        .wandb-col {<br>            display: flex;<br>            flex-direction: column;<br>            flex-basis: 100%;<br>            flex: 1;<br>            padding: 10px;<br>        }<br>    </style><br><div class=\"wandb-row\"><div class=\"wandb-col\"><h3>Run history:</h3><br/><table class=\"wandb\"><tr><td>epoch</td><td>▁▁▁▁▂▂▂▂▂▂▃▃▃▃▃▄▄▄▄▄▅▅▅▅▅▆▆▆▆▆▆▇▇▇▇▇▇███</td></tr><tr><td>loss</td><td>██▇▇▇▅▅▄▄▄▃▃▃▃▂▃▂▃▂▂▂▂▂▂▂▂▂▂▂▂▂▂▁▂▁▂▁▁▁▁</td></tr><tr><td>test_acc</td><td>▁▁▁▁▁█▇█▇█▇▇▇▇▇▇▆█▇▆▆▇▇▆▆▆▇▆▇▇▇▆▇▇▆▇▇▇▇█</td></tr><tr><td>train_acc</td><td>▁▁▁▁▁▇▅▇▆▇▇▇▆▇▆█▇████▇▇▇▇█▇██████▇██████</td></tr></table><br/></div><div class=\"wandb-col\"><h3>Run summary:</h3><br/><table class=\"wandb\"><tr><td>epoch</td><td>50</td></tr><tr><td>loss</td><td>0.54553</td></tr><tr><td>test_acc</td><td>0.70763</td></tr><tr><td>train_acc</td><td>0.73779</td></tr></table><br/></div></div>"
      ],
      "text/plain": [
       "<IPython.core.display.HTML object>"
      ]
     },
     "metadata": {},
     "output_type": "display_data"
    },
    {
     "data": {
      "text/html": [
       " View run <strong style=\"color:#cdcd00\">GCN_baseline_seed_30</strong> at: <a href='https://wandb.ai/noynetanel1-tel-aviv-university/GCN%20Graph%20classification%28DD%29_Gal/runs/p4ya08b5' target=\"_blank\">https://wandb.ai/noynetanel1-tel-aviv-university/GCN%20Graph%20classification%28DD%29_Gal/runs/p4ya08b5</a><br> View project at: <a href='https://wandb.ai/noynetanel1-tel-aviv-university/GCN%20Graph%20classification%28DD%29_Gal' target=\"_blank\">https://wandb.ai/noynetanel1-tel-aviv-university/GCN%20Graph%20classification%28DD%29_Gal</a><br>Synced 5 W&B file(s), 0 media file(s), 0 artifact file(s) and 0 other file(s)"
      ],
      "text/plain": [
       "<IPython.core.display.HTML object>"
      ]
     },
     "metadata": {},
     "output_type": "display_data"
    },
    {
     "data": {
      "text/html": [
       "Find logs at: <code>./wandb/run-20250822_201926-p4ya08b5/logs</code>"
      ],
      "text/plain": [
       "<IPython.core.display.HTML object>"
      ]
     },
     "metadata": {},
     "output_type": "display_data"
    }
   ],
   "source": [
    "import os\n",
    "import random\n",
    "import numpy as np\n",
    "import torch\n",
    "import torch.nn.functional as F\n",
    "from torch_geometric.datasets import TUDataset\n",
    "from torch_geometric.loader import DataLoader\n",
    "from torch_geometric.nn import GCNConv, global_mean_pool\n",
    "import wandb\n",
    "\n",
    "EPOCHS = int(os.getenv(\"EPOCHS\", \"50\"))\n",
    "PROJECT = f\"GCN Graph classification({Dataset_name})_Gal\"\n",
    "ENTITY = \"noynetanel1-tel-aviv-university\"\n",
    "\n",
    "class GCN(torch.nn.Module):\n",
    "    def __init__(self, in_channels, hidden_channels, out_channels):\n",
    "        super().__init__()\n",
    "        self.conv1 = GCNConv(in_channels, hidden_channels)\n",
    "        self.conv2 = GCNConv(hidden_channels, hidden_channels)\n",
    "        self.lin = torch.nn.Linear(hidden_channels, out_channels)\n",
    "    def forward(self, x, edge_index, batch):\n",
    "        x = self.conv1(x, edge_index)\n",
    "        x = F.relu(x)\n",
    "        x = self.conv2(x, edge_index)\n",
    "        x = global_mean_pool(x, batch)\n",
    "        x = self.lin(x)\n",
    "        return F.log_softmax(x, dim=1)\n",
    "\n",
    "def set_seed(s):\n",
    "    random.seed(s)\n",
    "    np.random.seed(s)\n",
    "    torch.manual_seed(s)\n",
    "    torch.cuda.manual_seed_all(s)\n",
    "\n",
    "def run_seed(seed):\n",
    "    set_seed(seed)\n",
    "    \n",
    "    dataset = TUDataset(root='data/TUDataset', name=Dataset_name)\n",
    "\n",
    "    # Filter out None graphs and create x if missing\n",
    "    clean_dataset = []\n",
    "    for data in dataset:\n",
    "        if data is None:\n",
    "            continue\n",
    "        if data.x is None:\n",
    "            data.x = torch.ones((data.num_nodes, 1), dtype=torch.float)\n",
    "        clean_dataset.append(data)\n",
    "\n",
    "    if len(clean_dataset) == 0:\n",
    "        raise RuntimeError(f\"No valid graphs in dataset. Check your {Dataset_name} installation.\")\n",
    "\n",
    "    dataset = clean_dataset\n",
    "\n",
    "    device = torch.device('cuda' if torch.cuda.is_available() else 'cpu')\n",
    "    in_channels = dataset[0].x.shape[1]\n",
    "    out_channels = max([data.y.max().item() for data in dataset]) + 1\n",
    "    model = GCN(in_channels, 64, out_channels).to(device)\n",
    "\n",
    "    # Shuffle using random.shuffle instead of dataset.shuffle()\n",
    "    random.shuffle(dataset)\n",
    "\n",
    "    num_graphs = len(dataset)\n",
    "    train_size = int(0.8 * num_graphs)\n",
    "    train_dataset = dataset[:train_size]\n",
    "    test_dataset = dataset[train_size:]\n",
    "    train_loader = DataLoader(train_dataset, batch_size=32, shuffle=True)\n",
    "    test_loader = DataLoader(test_dataset, batch_size=32, shuffle=False)\n",
    "\n",
    "    optimizer = torch.optim.Adam(model.parameters(), lr=0.001)\n",
    "\n",
    "    wandb.init(\n",
    "        project=PROJECT,\n",
    "        entity=ENTITY,\n",
    "        name=f\"GCN_baseline_seed_{seed}\",\n",
    "        group=f\"GCN_{Dataset_name}_baseline\",\n",
    "        job_type=\"baseline\",\n",
    "        reinit=True,\n",
    "        config={\n",
    "            \"model\":\"GCN\",\n",
    "            \"dataset\":Dataset_name,\n",
    "            \"hidden_channels\":64,\n",
    "            \"lr\":0.001,\n",
    "            \"epochs\":EPOCHS,\n",
    "            \"task\":\"Baseline\",\n",
    "            \"seed\":seed\n",
    "        }\n",
    "    )\n",
    "\n",
    "    def train():\n",
    "        model.train()\n",
    "        total_loss = 0.0\n",
    "        for batch in train_loader:\n",
    "            batch = batch.to(device)\n",
    "            optimizer.zero_grad()\n",
    "            out = model(batch.x, batch.edge_index, batch.batch)\n",
    "            loss = F.nll_loss(out, batch.y)\n",
    "            loss.backward()\n",
    "            optimizer.step()\n",
    "            total_loss += loss.item()\n",
    "        return total_loss / len(train_loader)\n",
    "\n",
    "    def test(loader):\n",
    "        model.eval()\n",
    "        correct = 0\n",
    "        for batch in loader:\n",
    "            batch = batch.to(device)\n",
    "            out = model(batch.x, batch.edge_index, batch.batch)\n",
    "            pred = out.argmax(dim=1)\n",
    "            correct += (pred == batch.y).sum().item()\n",
    "        return correct / len(loader.dataset)\n",
    "\n",
    "    for epoch in range(1, EPOCHS + 1):\n",
    "        loss = train()\n",
    "        test_acc = test(test_loader)\n",
    "        train_acc = test(train_loader)\n",
    "        \n",
    "        print(f\"Seed {seed} | Epoch {epoch:03d} | Loss: {loss:.4f} | Test Acc: {test_acc:.4f}\")\n",
    "        wandb.log({\"epoch\": epoch, \"loss\": loss, \"train_acc\": train_acc, \"test_acc\": test_acc})\n",
    "\n",
    "    wandb.finish()\n",
    "\n",
    "if __name__ == \"__main__\":\n",
    "    for s in range(1, 31):\n",
    "        run_seed(s)\n"
   ]
  },
  {
   "cell_type": "markdown",
   "metadata": {},
   "source": [
    "# *BFS*"
   ]
  },
  {
   "cell_type": "code",
   "execution_count": null,
   "metadata": {
    "execution": {
     "execution_failed": "2025-08-23T07:21:38.455Z",
     "iopub.execute_input": "2025-08-22T20:21:00.598179Z",
     "iopub.status.busy": "2025-08-22T20:21:00.597891Z"
    },
    "trusted": true
   },
   "outputs": [
    {
     "data": {
      "text/html": [
       "Tracking run with wandb version 0.20.1"
      ],
      "text/plain": [
       "<IPython.core.display.HTML object>"
      ]
     },
     "metadata": {},
     "output_type": "display_data"
    },
    {
     "data": {
      "text/html": [
       "Run data is saved locally in <code>/kaggle/working/wandb/run-20250822_202108-nme44t45</code>"
      ],
      "text/plain": [
       "<IPython.core.display.HTML object>"
      ]
     },
     "metadata": {},
     "output_type": "display_data"
    },
    {
     "data": {
      "text/html": [
       "Syncing run <strong><a href='https://wandb.ai/noynetanel1-tel-aviv-university/GCN%20Graph%20classification%28DD%29_Gal/runs/nme44t45' target=\"_blank\">GCN_BFS_seed_1</a></strong> to <a href='https://wandb.ai/noynetanel1-tel-aviv-university/GCN%20Graph%20classification%28DD%29_Gal' target=\"_blank\">Weights & Biases</a> (<a href='https://wandb.me/developer-guide' target=\"_blank\">docs</a>)<br>"
      ],
      "text/plain": [
       "<IPython.core.display.HTML object>"
      ]
     },
     "metadata": {},
     "output_type": "display_data"
    },
    {
     "data": {
      "text/html": [
       " View project at <a href='https://wandb.ai/noynetanel1-tel-aviv-university/GCN%20Graph%20classification%28DD%29_Gal' target=\"_blank\">https://wandb.ai/noynetanel1-tel-aviv-university/GCN%20Graph%20classification%28DD%29_Gal</a>"
      ],
      "text/plain": [
       "<IPython.core.display.HTML object>"
      ]
     },
     "metadata": {},
     "output_type": "display_data"
    },
    {
     "data": {
      "text/html": [
       " View run at <a href='https://wandb.ai/noynetanel1-tel-aviv-university/GCN%20Graph%20classification%28DD%29_Gal/runs/nme44t45' target=\"_blank\">https://wandb.ai/noynetanel1-tel-aviv-university/GCN%20Graph%20classification%28DD%29_Gal/runs/nme44t45</a>"
      ],
      "text/plain": [
       "<IPython.core.display.HTML object>"
      ]
     },
     "metadata": {},
     "output_type": "display_data"
    },
    {
     "name": "stdout",
     "output_type": "stream",
     "text": [
      "Seed 1 | Epoch 001 | Loss: 0.6887 | Test Acc: 0.5678\n",
      "Seed 1 | Epoch 002 | Loss: 0.6754 | Test Acc: 0.5678\n",
      "Seed 1 | Epoch 003 | Loss: 0.6727 | Test Acc: 0.5678\n",
      "Seed 1 | Epoch 004 | Loss: 0.6702 | Test Acc: 0.5678\n",
      "Seed 1 | Epoch 005 | Loss: 0.6636 | Test Acc: 0.5720\n",
      "Seed 1 | Epoch 006 | Loss: 0.6598 | Test Acc: 0.5805\n",
      "Seed 1 | Epoch 007 | Loss: 0.6436 | Test Acc: 0.6356\n",
      "Seed 1 | Epoch 008 | Loss: 0.6299 | Test Acc: 0.6525\n",
      "Seed 1 | Epoch 009 | Loss: 0.6138 | Test Acc: 0.6610\n",
      "Seed 1 | Epoch 010 | Loss: 0.6040 | Test Acc: 0.6653\n",
      "Seed 1 | Epoch 011 | Loss: 0.5877 | Test Acc: 0.6653\n",
      "Seed 1 | Epoch 012 | Loss: 0.5834 | Test Acc: 0.6483\n",
      "Seed 1 | Epoch 013 | Loss: 0.5764 | Test Acc: 0.6610\n",
      "Seed 1 | Epoch 014 | Loss: 0.5961 | Test Acc: 0.6907\n",
      "Seed 1 | Epoch 015 | Loss: 0.5676 | Test Acc: 0.6864\n",
      "Seed 1 | Epoch 016 | Loss: 0.5691 | Test Acc: 0.6737\n",
      "Seed 1 | Epoch 017 | Loss: 0.5640 | Test Acc: 0.6907\n",
      "Seed 1 | Epoch 018 | Loss: 0.5627 | Test Acc: 0.6949\n",
      "Seed 1 | Epoch 019 | Loss: 0.5614 | Test Acc: 0.6441\n",
      "Seed 1 | Epoch 020 | Loss: 0.5624 | Test Acc: 0.6822\n",
      "Seed 1 | Epoch 021 | Loss: 0.5524 | Test Acc: 0.5890\n",
      "Seed 1 | Epoch 022 | Loss: 0.5697 | Test Acc: 0.6822\n",
      "Seed 1 | Epoch 023 | Loss: 0.5594 | Test Acc: 0.6186\n",
      "Seed 1 | Epoch 024 | Loss: 0.5570 | Test Acc: 0.6864\n",
      "Seed 1 | Epoch 025 | Loss: 0.5496 | Test Acc: 0.6907\n",
      "Seed 1 | Epoch 026 | Loss: 0.5519 | Test Acc: 0.6822\n",
      "Seed 1 | Epoch 027 | Loss: 0.5574 | Test Acc: 0.6314\n",
      "Seed 1 | Epoch 028 | Loss: 0.5502 | Test Acc: 0.6822\n",
      "Seed 1 | Epoch 029 | Loss: 0.5555 | Test Acc: 0.6864\n",
      "Seed 1 | Epoch 030 | Loss: 0.5483 | Test Acc: 0.6822\n",
      "Seed 1 | Epoch 031 | Loss: 0.5512 | Test Acc: 0.6780\n",
      "Seed 1 | Epoch 032 | Loss: 0.5475 | Test Acc: 0.6737\n",
      "Seed 1 | Epoch 033 | Loss: 0.5519 | Test Acc: 0.6822\n",
      "Seed 1 | Epoch 034 | Loss: 0.5519 | Test Acc: 0.5932\n",
      "Seed 1 | Epoch 035 | Loss: 0.5541 | Test Acc: 0.6568\n",
      "Seed 1 | Epoch 036 | Loss: 0.5460 | Test Acc: 0.6822\n",
      "Seed 1 | Epoch 037 | Loss: 0.5437 | Test Acc: 0.6737\n",
      "Seed 1 | Epoch 038 | Loss: 0.5479 | Test Acc: 0.6822\n",
      "Seed 1 | Epoch 039 | Loss: 0.5505 | Test Acc: 0.6610\n",
      "Seed 1 | Epoch 040 | Loss: 0.5385 | Test Acc: 0.6737\n",
      "Seed 1 | Epoch 041 | Loss: 0.5392 | Test Acc: 0.6653\n",
      "Seed 1 | Epoch 042 | Loss: 0.5442 | Test Acc: 0.6695\n",
      "Seed 1 | Epoch 043 | Loss: 0.5406 | Test Acc: 0.6653\n",
      "Seed 1 | Epoch 044 | Loss: 0.5345 | Test Acc: 0.6907\n",
      "Seed 1 | Epoch 045 | Loss: 0.5380 | Test Acc: 0.6314\n",
      "Seed 1 | Epoch 046 | Loss: 0.5503 | Test Acc: 0.6864\n",
      "Seed 1 | Epoch 047 | Loss: 0.5393 | Test Acc: 0.6949\n",
      "Seed 1 | Epoch 048 | Loss: 0.5335 | Test Acc: 0.6949\n",
      "Seed 1 | Epoch 049 | Loss: 0.5404 | Test Acc: 0.6864\n",
      "Seed 1 | Epoch 050 | Loss: 0.5483 | Test Acc: 0.6314\n"
     ]
    },
    {
     "data": {
      "text/html": [],
      "text/plain": [
       "<IPython.core.display.HTML object>"
      ]
     },
     "metadata": {},
     "output_type": "display_data"
    },
    {
     "data": {
      "text/html": [
       "<br>    <style><br>        .wandb-row {<br>            display: flex;<br>            flex-direction: row;<br>            flex-wrap: wrap;<br>            justify-content: flex-start;<br>            width: 100%;<br>        }<br>        .wandb-col {<br>            display: flex;<br>            flex-direction: column;<br>            flex-basis: 100%;<br>            flex: 1;<br>            padding: 10px;<br>        }<br>    </style><br><div class=\"wandb-row\"><div class=\"wandb-col\"><h3>Run history:</h3><br/><table class=\"wandb\"><tr><td>epoch</td><td>▁▁▁▁▂▂▂▂▂▂▃▃▃▃▃▄▄▄▄▄▅▅▅▅▅▅▆▆▆▆▆▇▇▇▇▇▇███</td></tr><tr><td>loss</td><td>█▇▇▇▇▆▅▅▄▃▃▄▃▃▂▂▂▂▃▂▂▂▂▂▂▂▂▂▂▂▂▂▁▁▁▁▂▁▁▂</td></tr><tr><td>test_acc</td><td>▁▁▁▁▂▆▆▆▆▅██▇██▇▂▇▄█▇▅▇█▇▇▇▂▆▇▇▆▆▇▆▅███▅</td></tr><tr><td>train_acc</td><td>▁▁▁▁▁▄▅▆▆▆▆▇▆▇▇▇█▅█▆▇█▇█▇██▆██▇███▇█▆██▇</td></tr></table><br/></div><div class=\"wandb-col\"><h3>Run summary:</h3><br/><table class=\"wandb\"><tr><td>epoch</td><td>50</td></tr><tr><td>loss</td><td>0.54827</td></tr><tr><td>test_acc</td><td>0.63136</td></tr><tr><td>train_acc</td><td>0.73673</td></tr></table><br/></div></div>"
      ],
      "text/plain": [
       "<IPython.core.display.HTML object>"
      ]
     },
     "metadata": {},
     "output_type": "display_data"
    },
    {
     "data": {
      "text/html": [
       " View run <strong style=\"color:#cdcd00\">GCN_BFS_seed_1</strong> at: <a href='https://wandb.ai/noynetanel1-tel-aviv-university/GCN%20Graph%20classification%28DD%29_Gal/runs/nme44t45' target=\"_blank\">https://wandb.ai/noynetanel1-tel-aviv-university/GCN%20Graph%20classification%28DD%29_Gal/runs/nme44t45</a><br> View project at: <a href='https://wandb.ai/noynetanel1-tel-aviv-university/GCN%20Graph%20classification%28DD%29_Gal' target=\"_blank\">https://wandb.ai/noynetanel1-tel-aviv-university/GCN%20Graph%20classification%28DD%29_Gal</a><br>Synced 5 W&B file(s), 0 media file(s), 0 artifact file(s) and 0 other file(s)"
      ],
      "text/plain": [
       "<IPython.core.display.HTML object>"
      ]
     },
     "metadata": {},
     "output_type": "display_data"
    },
    {
     "data": {
      "text/html": [
       "Find logs at: <code>./wandb/run-20250822_202108-nme44t45/logs</code>"
      ],
      "text/plain": [
       "<IPython.core.display.HTML object>"
      ]
     },
     "metadata": {},
     "output_type": "display_data"
    },
    {
     "data": {
      "text/html": [
       "Tracking run with wandb version 0.20.1"
      ],
      "text/plain": [
       "<IPython.core.display.HTML object>"
      ]
     },
     "metadata": {},
     "output_type": "display_data"
    },
    {
     "data": {
      "text/html": [
       "Run data is saved locally in <code>/kaggle/working/wandb/run-20250822_203056-ga7tyqa2</code>"
      ],
      "text/plain": [
       "<IPython.core.display.HTML object>"
      ]
     },
     "metadata": {},
     "output_type": "display_data"
    },
    {
     "data": {
      "text/html": [
       "Syncing run <strong><a href='https://wandb.ai/noynetanel1-tel-aviv-university/GCN%20Graph%20classification%28DD%29_Gal/runs/ga7tyqa2' target=\"_blank\">GCN_BFS_seed_2</a></strong> to <a href='https://wandb.ai/noynetanel1-tel-aviv-university/GCN%20Graph%20classification%28DD%29_Gal' target=\"_blank\">Weights & Biases</a> (<a href='https://wandb.me/developer-guide' target=\"_blank\">docs</a>)<br>"
      ],
      "text/plain": [
       "<IPython.core.display.HTML object>"
      ]
     },
     "metadata": {},
     "output_type": "display_data"
    },
    {
     "data": {
      "text/html": [
       " View project at <a href='https://wandb.ai/noynetanel1-tel-aviv-university/GCN%20Graph%20classification%28DD%29_Gal' target=\"_blank\">https://wandb.ai/noynetanel1-tel-aviv-university/GCN%20Graph%20classification%28DD%29_Gal</a>"
      ],
      "text/plain": [
       "<IPython.core.display.HTML object>"
      ]
     },
     "metadata": {},
     "output_type": "display_data"
    },
    {
     "data": {
      "text/html": [
       " View run at <a href='https://wandb.ai/noynetanel1-tel-aviv-university/GCN%20Graph%20classification%28DD%29_Gal/runs/ga7tyqa2' target=\"_blank\">https://wandb.ai/noynetanel1-tel-aviv-university/GCN%20Graph%20classification%28DD%29_Gal/runs/ga7tyqa2</a>"
      ],
      "text/plain": [
       "<IPython.core.display.HTML object>"
      ]
     },
     "metadata": {},
     "output_type": "display_data"
    },
    {
     "name": "stdout",
     "output_type": "stream",
     "text": [
      "Seed 2 | Epoch 001 | Loss: 0.6859 | Test Acc: 0.6144\n",
      "Seed 2 | Epoch 002 | Loss: 0.6799 | Test Acc: 0.6144\n",
      "Seed 2 | Epoch 003 | Loss: 0.6774 | Test Acc: 0.6144\n",
      "Seed 2 | Epoch 004 | Loss: 0.6734 | Test Acc: 0.6144\n",
      "Seed 2 | Epoch 005 | Loss: 0.6700 | Test Acc: 0.6144\n",
      "Seed 2 | Epoch 006 | Loss: 0.6661 | Test Acc: 0.6229\n",
      "Seed 2 | Epoch 007 | Loss: 0.6619 | Test Acc: 0.6186\n",
      "Seed 2 | Epoch 008 | Loss: 0.6526 | Test Acc: 0.6271\n",
      "Seed 2 | Epoch 009 | Loss: 0.6475 | Test Acc: 0.6780\n",
      "Seed 2 | Epoch 010 | Loss: 0.6305 | Test Acc: 0.7034\n",
      "Seed 2 | Epoch 011 | Loss: 0.6226 | Test Acc: 0.7246\n",
      "Seed 2 | Epoch 012 | Loss: 0.6114 | Test Acc: 0.6992\n",
      "Seed 2 | Epoch 013 | Loss: 0.6100 | Test Acc: 0.7161\n",
      "Seed 2 | Epoch 014 | Loss: 0.6004 | Test Acc: 0.7373\n",
      "Seed 2 | Epoch 015 | Loss: 0.6016 | Test Acc: 0.7203\n",
      "Seed 2 | Epoch 016 | Loss: 0.6014 | Test Acc: 0.7373\n",
      "Seed 2 | Epoch 017 | Loss: 0.5886 | Test Acc: 0.7415\n",
      "Seed 2 | Epoch 018 | Loss: 0.5912 | Test Acc: 0.7373\n",
      "Seed 2 | Epoch 019 | Loss: 0.5817 | Test Acc: 0.7288\n",
      "Seed 2 | Epoch 020 | Loss: 0.5886 | Test Acc: 0.7203\n",
      "Seed 2 | Epoch 021 | Loss: 0.5964 | Test Acc: 0.7288\n",
      "Seed 2 | Epoch 022 | Loss: 0.5878 | Test Acc: 0.7288\n",
      "Seed 2 | Epoch 023 | Loss: 0.5799 | Test Acc: 0.7161\n",
      "Seed 2 | Epoch 024 | Loss: 0.5777 | Test Acc: 0.7246\n",
      "Seed 2 | Epoch 025 | Loss: 0.5795 | Test Acc: 0.7161\n",
      "Seed 2 | Epoch 026 | Loss: 0.5739 | Test Acc: 0.7288\n",
      "Seed 2 | Epoch 027 | Loss: 0.5748 | Test Acc: 0.7288\n",
      "Seed 2 | Epoch 028 | Loss: 0.5718 | Test Acc: 0.7161\n",
      "Seed 2 | Epoch 029 | Loss: 0.5693 | Test Acc: 0.7331\n",
      "Seed 2 | Epoch 030 | Loss: 0.5759 | Test Acc: 0.7288\n",
      "Seed 2 | Epoch 031 | Loss: 0.5668 | Test Acc: 0.7415\n",
      "Seed 2 | Epoch 032 | Loss: 0.5827 | Test Acc: 0.7246\n",
      "Seed 2 | Epoch 033 | Loss: 0.5719 | Test Acc: 0.7246\n",
      "Seed 2 | Epoch 034 | Loss: 0.5731 | Test Acc: 0.6864\n",
      "Seed 2 | Epoch 035 | Loss: 0.5794 | Test Acc: 0.7415\n",
      "Seed 2 | Epoch 036 | Loss: 0.5622 | Test Acc: 0.7203\n",
      "Seed 2 | Epoch 037 | Loss: 0.5579 | Test Acc: 0.7331\n",
      "Seed 2 | Epoch 038 | Loss: 0.5622 | Test Acc: 0.7373\n",
      "Seed 2 | Epoch 039 | Loss: 0.5514 | Test Acc: 0.7373\n",
      "Seed 2 | Epoch 040 | Loss: 0.5554 | Test Acc: 0.7458\n",
      "Seed 2 | Epoch 041 | Loss: 0.5530 | Test Acc: 0.7161\n",
      "Seed 2 | Epoch 042 | Loss: 0.5486 | Test Acc: 0.7542\n",
      "Seed 2 | Epoch 043 | Loss: 0.5491 | Test Acc: 0.7119\n",
      "Seed 2 | Epoch 044 | Loss: 0.5543 | Test Acc: 0.7373\n",
      "Seed 2 | Epoch 045 | Loss: 0.5499 | Test Acc: 0.7542\n",
      "Seed 2 | Epoch 046 | Loss: 0.5468 | Test Acc: 0.7542\n",
      "Seed 2 | Epoch 047 | Loss: 0.5443 | Test Acc: 0.7288\n",
      "Seed 2 | Epoch 048 | Loss: 0.5494 | Test Acc: 0.7585\n",
      "Seed 2 | Epoch 049 | Loss: 0.5408 | Test Acc: 0.7331\n",
      "Seed 2 | Epoch 050 | Loss: 0.5479 | Test Acc: 0.7458\n"
     ]
    },
    {
     "data": {
      "text/html": [],
      "text/plain": [
       "<IPython.core.display.HTML object>"
      ]
     },
     "metadata": {},
     "output_type": "display_data"
    },
    {
     "data": {
      "text/html": [
       "<br>    <style><br>        .wandb-row {<br>            display: flex;<br>            flex-direction: row;<br>            flex-wrap: wrap;<br>            justify-content: flex-start;<br>            width: 100%;<br>        }<br>        .wandb-col {<br>            display: flex;<br>            flex-direction: column;<br>            flex-basis: 100%;<br>            flex: 1;<br>            padding: 10px;<br>        }<br>    </style><br><div class=\"wandb-row\"><div class=\"wandb-col\"><h3>Run history:</h3><br/><table class=\"wandb\"><tr><td>epoch</td><td>▁▁▁▁▂▂▂▂▂▂▃▃▃▃▃▄▄▄▄▄▅▅▅▅▅▅▆▆▆▆▆▇▇▇▇▇▇███</td></tr><tr><td>loss</td><td>███▇▇▇▆▆▅▅▄▄▄▄▃▃▄▃▃▃▂▃▂▂▃▃▂▂▃▂▂▁▂▁▁▁▁▁▁▁</td></tr><tr><td>test_acc</td><td>▁▁▁▁▁▁▂▄▅▆▆▇▆▇▇▇▆▇▆▆▇▆▇▇▇▆▅▇▆▇▇▇▆█▆██▇█▇</td></tr><tr><td>train_acc</td><td>▁▁▁▁▁▁▁▄▆▆▆▇▆▇▇▇▆▇▆▇▇▇▇▇▇▆▅█▇█▇▇▇█▇██▇██</td></tr></table><br/></div><div class=\"wandb-col\"><h3>Run summary:</h3><br/><table class=\"wandb\"><tr><td>epoch</td><td>50</td></tr><tr><td>loss</td><td>0.54794</td></tr><tr><td>test_acc</td><td>0.74576</td></tr><tr><td>train_acc</td><td>0.7569</td></tr></table><br/></div></div>"
      ],
      "text/plain": [
       "<IPython.core.display.HTML object>"
      ]
     },
     "metadata": {},
     "output_type": "display_data"
    },
    {
     "data": {
      "text/html": [
       " View run <strong style=\"color:#cdcd00\">GCN_BFS_seed_2</strong> at: <a href='https://wandb.ai/noynetanel1-tel-aviv-university/GCN%20Graph%20classification%28DD%29_Gal/runs/ga7tyqa2' target=\"_blank\">https://wandb.ai/noynetanel1-tel-aviv-university/GCN%20Graph%20classification%28DD%29_Gal/runs/ga7tyqa2</a><br> View project at: <a href='https://wandb.ai/noynetanel1-tel-aviv-university/GCN%20Graph%20classification%28DD%29_Gal' target=\"_blank\">https://wandb.ai/noynetanel1-tel-aviv-university/GCN%20Graph%20classification%28DD%29_Gal</a><br>Synced 5 W&B file(s), 0 media file(s), 0 artifact file(s) and 0 other file(s)"
      ],
      "text/plain": [
       "<IPython.core.display.HTML object>"
      ]
     },
     "metadata": {},
     "output_type": "display_data"
    },
    {
     "data": {
      "text/html": [
       "Find logs at: <code>./wandb/run-20250822_203056-ga7tyqa2/logs</code>"
      ],
      "text/plain": [
       "<IPython.core.display.HTML object>"
      ]
     },
     "metadata": {},
     "output_type": "display_data"
    },
    {
     "data": {
      "text/html": [
       "Tracking run with wandb version 0.20.1"
      ],
      "text/plain": [
       "<IPython.core.display.HTML object>"
      ]
     },
     "metadata": {},
     "output_type": "display_data"
    },
    {
     "data": {
      "text/html": [
       "Run data is saved locally in <code>/kaggle/working/wandb/run-20250822_204031-pjeb9t6a</code>"
      ],
      "text/plain": [
       "<IPython.core.display.HTML object>"
      ]
     },
     "metadata": {},
     "output_type": "display_data"
    },
    {
     "data": {
      "text/html": [
       "Syncing run <strong><a href='https://wandb.ai/noynetanel1-tel-aviv-university/GCN%20Graph%20classification%28DD%29_Gal/runs/pjeb9t6a' target=\"_blank\">GCN_BFS_seed_3</a></strong> to <a href='https://wandb.ai/noynetanel1-tel-aviv-university/GCN%20Graph%20classification%28DD%29_Gal' target=\"_blank\">Weights & Biases</a> (<a href='https://wandb.me/developer-guide' target=\"_blank\">docs</a>)<br>"
      ],
      "text/plain": [
       "<IPython.core.display.HTML object>"
      ]
     },
     "metadata": {},
     "output_type": "display_data"
    },
    {
     "data": {
      "text/html": [
       " View project at <a href='https://wandb.ai/noynetanel1-tel-aviv-university/GCN%20Graph%20classification%28DD%29_Gal' target=\"_blank\">https://wandb.ai/noynetanel1-tel-aviv-university/GCN%20Graph%20classification%28DD%29_Gal</a>"
      ],
      "text/plain": [
       "<IPython.core.display.HTML object>"
      ]
     },
     "metadata": {},
     "output_type": "display_data"
    },
    {
     "data": {
      "text/html": [
       " View run at <a href='https://wandb.ai/noynetanel1-tel-aviv-university/GCN%20Graph%20classification%28DD%29_Gal/runs/pjeb9t6a' target=\"_blank\">https://wandb.ai/noynetanel1-tel-aviv-university/GCN%20Graph%20classification%28DD%29_Gal/runs/pjeb9t6a</a>"
      ],
      "text/plain": [
       "<IPython.core.display.HTML object>"
      ]
     },
     "metadata": {},
     "output_type": "display_data"
    },
    {
     "name": "stdout",
     "output_type": "stream",
     "text": [
      "Seed 3 | Epoch 001 | Loss: 0.6825 | Test Acc: 0.5847\n",
      "Seed 3 | Epoch 002 | Loss: 0.6773 | Test Acc: 0.5847\n",
      "Seed 3 | Epoch 003 | Loss: 0.6751 | Test Acc: 0.5847\n",
      "Seed 3 | Epoch 004 | Loss: 0.6707 | Test Acc: 0.5763\n",
      "Seed 3 | Epoch 005 | Loss: 0.6659 | Test Acc: 0.5763\n",
      "Seed 3 | Epoch 006 | Loss: 0.6536 | Test Acc: 0.6059\n",
      "Seed 3 | Epoch 007 | Loss: 0.6460 | Test Acc: 0.5890\n",
      "Seed 3 | Epoch 008 | Loss: 0.6362 | Test Acc: 0.6229\n",
      "Seed 3 | Epoch 009 | Loss: 0.6231 | Test Acc: 0.6949\n",
      "Seed 3 | Epoch 010 | Loss: 0.6073 | Test Acc: 0.6314\n",
      "Seed 3 | Epoch 011 | Loss: 0.6004 | Test Acc: 0.6398\n",
      "Seed 3 | Epoch 012 | Loss: 0.5963 | Test Acc: 0.7076\n",
      "Seed 3 | Epoch 013 | Loss: 0.5879 | Test Acc: 0.6949\n",
      "Seed 3 | Epoch 014 | Loss: 0.5934 | Test Acc: 0.7034\n",
      "Seed 3 | Epoch 015 | Loss: 0.5872 | Test Acc: 0.6949\n",
      "Seed 3 | Epoch 016 | Loss: 0.5824 | Test Acc: 0.7034\n",
      "Seed 3 | Epoch 017 | Loss: 0.5789 | Test Acc: 0.7076\n",
      "Seed 3 | Epoch 018 | Loss: 0.5823 | Test Acc: 0.6822\n",
      "Seed 3 | Epoch 019 | Loss: 0.5806 | Test Acc: 0.6907\n",
      "Seed 3 | Epoch 020 | Loss: 0.5786 | Test Acc: 0.6949\n",
      "Seed 3 | Epoch 021 | Loss: 0.5697 | Test Acc: 0.7034\n",
      "Seed 3 | Epoch 022 | Loss: 0.5745 | Test Acc: 0.6949\n",
      "Seed 3 | Epoch 023 | Loss: 0.5736 | Test Acc: 0.7161\n",
      "Seed 3 | Epoch 024 | Loss: 0.5633 | Test Acc: 0.6949\n",
      "Seed 3 | Epoch 025 | Loss: 0.5657 | Test Acc: 0.6780\n",
      "Seed 3 | Epoch 026 | Loss: 0.5592 | Test Acc: 0.6780\n",
      "Seed 3 | Epoch 027 | Loss: 0.5585 | Test Acc: 0.6907\n",
      "Seed 3 | Epoch 028 | Loss: 0.5680 | Test Acc: 0.7119\n",
      "Seed 3 | Epoch 029 | Loss: 0.5594 | Test Acc: 0.6864\n",
      "Seed 3 | Epoch 030 | Loss: 0.5648 | Test Acc: 0.6992\n",
      "Seed 3 | Epoch 031 | Loss: 0.5555 | Test Acc: 0.6822\n",
      "Seed 3 | Epoch 032 | Loss: 0.5521 | Test Acc: 0.7034\n",
      "Seed 3 | Epoch 033 | Loss: 0.5725 | Test Acc: 0.6780\n",
      "Seed 3 | Epoch 034 | Loss: 0.5557 | Test Acc: 0.6822\n",
      "Seed 3 | Epoch 035 | Loss: 0.5550 | Test Acc: 0.6780\n",
      "Seed 3 | Epoch 036 | Loss: 0.5505 | Test Acc: 0.6822\n",
      "Seed 3 | Epoch 037 | Loss: 0.5567 | Test Acc: 0.7076\n",
      "Seed 3 | Epoch 038 | Loss: 0.5457 | Test Acc: 0.6822\n",
      "Seed 3 | Epoch 039 | Loss: 0.5527 | Test Acc: 0.7119\n",
      "Seed 3 | Epoch 040 | Loss: 0.5563 | Test Acc: 0.6780\n",
      "Seed 3 | Epoch 041 | Loss: 0.5500 | Test Acc: 0.7034\n",
      "Seed 3 | Epoch 042 | Loss: 0.5528 | Test Acc: 0.6907\n",
      "Seed 3 | Epoch 043 | Loss: 0.5509 | Test Acc: 0.6864\n",
      "Seed 3 | Epoch 044 | Loss: 0.5483 | Test Acc: 0.6864\n",
      "Seed 3 | Epoch 045 | Loss: 0.5439 | Test Acc: 0.6864\n",
      "Seed 3 | Epoch 046 | Loss: 0.5424 | Test Acc: 0.6907\n",
      "Seed 3 | Epoch 047 | Loss: 0.5425 | Test Acc: 0.6864\n",
      "Seed 3 | Epoch 048 | Loss: 0.5457 | Test Acc: 0.6822\n",
      "Seed 3 | Epoch 049 | Loss: 0.5452 | Test Acc: 0.6864\n",
      "Seed 3 | Epoch 050 | Loss: 0.5413 | Test Acc: 0.6949\n"
     ]
    },
    {
     "data": {
      "text/html": [],
      "text/plain": [
       "<IPython.core.display.HTML object>"
      ]
     },
     "metadata": {},
     "output_type": "display_data"
    },
    {
     "data": {
      "text/html": [
       "<br>    <style><br>        .wandb-row {<br>            display: flex;<br>            flex-direction: row;<br>            flex-wrap: wrap;<br>            justify-content: flex-start;<br>            width: 100%;<br>        }<br>        .wandb-col {<br>            display: flex;<br>            flex-direction: column;<br>            flex-basis: 100%;<br>            flex: 1;<br>            padding: 10px;<br>        }<br>    </style><br><div class=\"wandb-row\"><div class=\"wandb-col\"><h3>Run history:</h3><br/><table class=\"wandb\"><tr><td>epoch</td><td>▁▁▁▁▂▂▂▂▃▃▃▃▃▃▄▄▄▄▄▄▅▅▅▅▅▆▆▆▆▆▆▇▇▇▇▇▇███</td></tr><tr><td>loss</td><td>███▇▇▆▆▅▄▄▃▄▃▃▃▃▃▂▃▃▂▂▂▂▂▂▂▃▂▂▂▁▂▁▂▁▁▁▁▁</td></tr><tr><td>test_acc</td><td>▁▁▁▁▁▂▃▇▄▄▇▇▇█▆▇▇▇█▇▆▇█▇▇▇▆▆▆▆▆▆▇▇▇▇▇▇▆▇</td></tr><tr><td>train_acc</td><td>▁▁▁▁▁▂▄▆▄▅▇▇▆▇▇▇▇▇▇▇▇▇▇▇█▆██▇█▇████████▇</td></tr></table><br/></div><div class=\"wandb-col\"><h3>Run summary:</h3><br/><table class=\"wandb\"><tr><td>epoch</td><td>50</td></tr><tr><td>loss</td><td>0.54135</td></tr><tr><td>test_acc</td><td>0.69492</td></tr><tr><td>train_acc</td><td>0.73673</td></tr></table><br/></div></div>"
      ],
      "text/plain": [
       "<IPython.core.display.HTML object>"
      ]
     },
     "metadata": {},
     "output_type": "display_data"
    },
    {
     "data": {
      "text/html": [
       " View run <strong style=\"color:#cdcd00\">GCN_BFS_seed_3</strong> at: <a href='https://wandb.ai/noynetanel1-tel-aviv-university/GCN%20Graph%20classification%28DD%29_Gal/runs/pjeb9t6a' target=\"_blank\">https://wandb.ai/noynetanel1-tel-aviv-university/GCN%20Graph%20classification%28DD%29_Gal/runs/pjeb9t6a</a><br> View project at: <a href='https://wandb.ai/noynetanel1-tel-aviv-university/GCN%20Graph%20classification%28DD%29_Gal' target=\"_blank\">https://wandb.ai/noynetanel1-tel-aviv-university/GCN%20Graph%20classification%28DD%29_Gal</a><br>Synced 5 W&B file(s), 0 media file(s), 0 artifact file(s) and 0 other file(s)"
      ],
      "text/plain": [
       "<IPython.core.display.HTML object>"
      ]
     },
     "metadata": {},
     "output_type": "display_data"
    },
    {
     "data": {
      "text/html": [
       "Find logs at: <code>./wandb/run-20250822_204031-pjeb9t6a/logs</code>"
      ],
      "text/plain": [
       "<IPython.core.display.HTML object>"
      ]
     },
     "metadata": {},
     "output_type": "display_data"
    },
    {
     "data": {
      "text/html": [
       "Tracking run with wandb version 0.20.1"
      ],
      "text/plain": [
       "<IPython.core.display.HTML object>"
      ]
     },
     "metadata": {},
     "output_type": "display_data"
    },
    {
     "data": {
      "text/html": [
       "Run data is saved locally in <code>/kaggle/working/wandb/run-20250822_205014-25m5nbdg</code>"
      ],
      "text/plain": [
       "<IPython.core.display.HTML object>"
      ]
     },
     "metadata": {},
     "output_type": "display_data"
    },
    {
     "data": {
      "text/html": [
       "Syncing run <strong><a href='https://wandb.ai/noynetanel1-tel-aviv-university/GCN%20Graph%20classification%28DD%29_Gal/runs/25m5nbdg' target=\"_blank\">GCN_BFS_seed_4</a></strong> to <a href='https://wandb.ai/noynetanel1-tel-aviv-university/GCN%20Graph%20classification%28DD%29_Gal' target=\"_blank\">Weights & Biases</a> (<a href='https://wandb.me/developer-guide' target=\"_blank\">docs</a>)<br>"
      ],
      "text/plain": [
       "<IPython.core.display.HTML object>"
      ]
     },
     "metadata": {},
     "output_type": "display_data"
    },
    {
     "data": {
      "text/html": [
       " View project at <a href='https://wandb.ai/noynetanel1-tel-aviv-university/GCN%20Graph%20classification%28DD%29_Gal' target=\"_blank\">https://wandb.ai/noynetanel1-tel-aviv-university/GCN%20Graph%20classification%28DD%29_Gal</a>"
      ],
      "text/plain": [
       "<IPython.core.display.HTML object>"
      ]
     },
     "metadata": {},
     "output_type": "display_data"
    },
    {
     "data": {
      "text/html": [
       " View run at <a href='https://wandb.ai/noynetanel1-tel-aviv-university/GCN%20Graph%20classification%28DD%29_Gal/runs/25m5nbdg' target=\"_blank\">https://wandb.ai/noynetanel1-tel-aviv-university/GCN%20Graph%20classification%28DD%29_Gal/runs/25m5nbdg</a>"
      ],
      "text/plain": [
       "<IPython.core.display.HTML object>"
      ]
     },
     "metadata": {},
     "output_type": "display_data"
    },
    {
     "name": "stdout",
     "output_type": "stream",
     "text": [
      "Seed 4 | Epoch 001 | Loss: 0.6872 | Test Acc: 0.5890\n",
      "Seed 4 | Epoch 002 | Loss: 0.6771 | Test Acc: 0.5890\n",
      "Seed 4 | Epoch 003 | Loss: 0.6747 | Test Acc: 0.5890\n",
      "Seed 4 | Epoch 004 | Loss: 0.6733 | Test Acc: 0.5890\n",
      "Seed 4 | Epoch 005 | Loss: 0.6691 | Test Acc: 0.5890\n",
      "Seed 4 | Epoch 006 | Loss: 0.6642 | Test Acc: 0.6059\n",
      "Seed 4 | Epoch 007 | Loss: 0.6576 | Test Acc: 0.6610\n",
      "Seed 4 | Epoch 008 | Loss: 0.6455 | Test Acc: 0.6780\n",
      "Seed 4 | Epoch 009 | Loss: 0.6313 | Test Acc: 0.7119\n",
      "Seed 4 | Epoch 010 | Loss: 0.6189 | Test Acc: 0.6864\n",
      "Seed 4 | Epoch 011 | Loss: 0.6077 | Test Acc: 0.6907\n",
      "Seed 4 | Epoch 012 | Loss: 0.6041 | Test Acc: 0.7076\n",
      "Seed 4 | Epoch 013 | Loss: 0.5910 | Test Acc: 0.6229\n",
      "Seed 4 | Epoch 014 | Loss: 0.6096 | Test Acc: 0.6992\n",
      "Seed 4 | Epoch 015 | Loss: 0.5879 | Test Acc: 0.7119\n",
      "Seed 4 | Epoch 016 | Loss: 0.5923 | Test Acc: 0.7119\n",
      "Seed 4 | Epoch 017 | Loss: 0.5914 | Test Acc: 0.7203\n",
      "Seed 4 | Epoch 018 | Loss: 0.5844 | Test Acc: 0.6992\n",
      "Seed 4 | Epoch 019 | Loss: 0.5904 | Test Acc: 0.6780\n",
      "Seed 4 | Epoch 020 | Loss: 0.5875 | Test Acc: 0.6822\n",
      "Seed 4 | Epoch 021 | Loss: 0.5811 | Test Acc: 0.7119\n",
      "Seed 4 | Epoch 022 | Loss: 0.5788 | Test Acc: 0.6992\n",
      "Seed 4 | Epoch 023 | Loss: 0.5786 | Test Acc: 0.7119\n",
      "Seed 4 | Epoch 024 | Loss: 0.5703 | Test Acc: 0.7119\n",
      "Seed 4 | Epoch 025 | Loss: 0.5741 | Test Acc: 0.7119\n",
      "Seed 4 | Epoch 026 | Loss: 0.5693 | Test Acc: 0.7119\n",
      "Seed 4 | Epoch 027 | Loss: 0.5690 | Test Acc: 0.7119\n",
      "Seed 4 | Epoch 028 | Loss: 0.5648 | Test Acc: 0.6780\n",
      "Seed 4 | Epoch 029 | Loss: 0.5647 | Test Acc: 0.7203\n",
      "Seed 4 | Epoch 030 | Loss: 0.5697 | Test Acc: 0.6780\n",
      "Seed 4 | Epoch 031 | Loss: 0.5625 | Test Acc: 0.6949\n",
      "Seed 4 | Epoch 032 | Loss: 0.5741 | Test Acc: 0.7076\n",
      "Seed 4 | Epoch 033 | Loss: 0.5649 | Test Acc: 0.7161\n",
      "Seed 4 | Epoch 034 | Loss: 0.5636 | Test Acc: 0.6864\n",
      "Seed 4 | Epoch 035 | Loss: 0.5605 | Test Acc: 0.6949\n",
      "Seed 4 | Epoch 036 | Loss: 0.5674 | Test Acc: 0.7119\n",
      "Seed 4 | Epoch 037 | Loss: 0.5561 | Test Acc: 0.7076\n",
      "Seed 4 | Epoch 038 | Loss: 0.5629 | Test Acc: 0.6992\n",
      "Seed 4 | Epoch 039 | Loss: 0.5605 | Test Acc: 0.6949\n",
      "Seed 4 | Epoch 040 | Loss: 0.5609 | Test Acc: 0.7076\n",
      "Seed 4 | Epoch 041 | Loss: 0.5528 | Test Acc: 0.7119\n",
      "Seed 4 | Epoch 042 | Loss: 0.5507 | Test Acc: 0.7076\n",
      "Seed 4 | Epoch 043 | Loss: 0.5567 | Test Acc: 0.7076\n",
      "Seed 4 | Epoch 044 | Loss: 0.5367 | Test Acc: 0.7034\n",
      "Seed 4 | Epoch 045 | Loss: 0.5579 | Test Acc: 0.6864\n",
      "Seed 4 | Epoch 046 | Loss: 0.5477 | Test Acc: 0.7076\n",
      "Seed 4 | Epoch 047 | Loss: 0.5409 | Test Acc: 0.6864\n",
      "Seed 4 | Epoch 048 | Loss: 0.5350 | Test Acc: 0.7076\n",
      "Seed 4 | Epoch 049 | Loss: 0.5379 | Test Acc: 0.7034\n",
      "Seed 4 | Epoch 050 | Loss: 0.5307 | Test Acc: 0.7034\n"
     ]
    },
    {
     "data": {
      "text/html": [],
      "text/plain": [
       "<IPython.core.display.HTML object>"
      ]
     },
     "metadata": {},
     "output_type": "display_data"
    },
    {
     "data": {
      "text/html": [
       "<br>    <style><br>        .wandb-row {<br>            display: flex;<br>            flex-direction: row;<br>            flex-wrap: wrap;<br>            justify-content: flex-start;<br>            width: 100%;<br>        }<br>        .wandb-col {<br>            display: flex;<br>            flex-direction: column;<br>            flex-basis: 100%;<br>            flex: 1;<br>            padding: 10px;<br>        }<br>    </style><br><div class=\"wandb-row\"><div class=\"wandb-col\"><h3>Run history:</h3><br/><table class=\"wandb\"><tr><td>epoch</td><td>▁▁▁▁▂▂▂▂▂▂▃▃▃▃▄▄▄▄▄▄▅▅▅▅▅▆▆▆▆▆▆▇▇▇▇▇▇███</td></tr><tr><td>loss</td><td>██▇▇▇▇▆▅▅▄▄▅▄▄▄▄▄▃▃▃▃▃▃▃▃▃▃▂▂▃▂▂▂▂▂▁▂▁▁▁</td></tr><tr><td>test_acc</td><td>▁▁▁▁▁▅▆█▆▆▃▇██▇▆█▇████▆█▆▇█▆▇█▇▇█▇▇▆▇▆▇▇</td></tr><tr><td>train_acc</td><td>▁▁▁▁▁▃▅▆▅▆▆▇▆▇▇▇▇▇▇▇▇▇▇▇▆██▇██▇▇███▇▇██▇</td></tr></table><br/></div><div class=\"wandb-col\"><h3>Run summary:</h3><br/><table class=\"wandb\"><tr><td>epoch</td><td>50</td></tr><tr><td>loss</td><td>0.53071</td></tr><tr><td>test_acc</td><td>0.70339</td></tr><tr><td>train_acc</td><td>0.73992</td></tr></table><br/></div></div>"
      ],
      "text/plain": [
       "<IPython.core.display.HTML object>"
      ]
     },
     "metadata": {},
     "output_type": "display_data"
    },
    {
     "data": {
      "text/html": [
       " View run <strong style=\"color:#cdcd00\">GCN_BFS_seed_4</strong> at: <a href='https://wandb.ai/noynetanel1-tel-aviv-university/GCN%20Graph%20classification%28DD%29_Gal/runs/25m5nbdg' target=\"_blank\">https://wandb.ai/noynetanel1-tel-aviv-university/GCN%20Graph%20classification%28DD%29_Gal/runs/25m5nbdg</a><br> View project at: <a href='https://wandb.ai/noynetanel1-tel-aviv-university/GCN%20Graph%20classification%28DD%29_Gal' target=\"_blank\">https://wandb.ai/noynetanel1-tel-aviv-university/GCN%20Graph%20classification%28DD%29_Gal</a><br>Synced 5 W&B file(s), 0 media file(s), 0 artifact file(s) and 0 other file(s)"
      ],
      "text/plain": [
       "<IPython.core.display.HTML object>"
      ]
     },
     "metadata": {},
     "output_type": "display_data"
    },
    {
     "data": {
      "text/html": [
       "Find logs at: <code>./wandb/run-20250822_205014-25m5nbdg/logs</code>"
      ],
      "text/plain": [
       "<IPython.core.display.HTML object>"
      ]
     },
     "metadata": {},
     "output_type": "display_data"
    },
    {
     "data": {
      "text/html": [
       "Tracking run with wandb version 0.20.1"
      ],
      "text/plain": [
       "<IPython.core.display.HTML object>"
      ]
     },
     "metadata": {},
     "output_type": "display_data"
    },
    {
     "data": {
      "text/html": [
       "Run data is saved locally in <code>/kaggle/working/wandb/run-20250822_210020-jl98br70</code>"
      ],
      "text/plain": [
       "<IPython.core.display.HTML object>"
      ]
     },
     "metadata": {},
     "output_type": "display_data"
    },
    {
     "data": {
      "text/html": [
       "Syncing run <strong><a href='https://wandb.ai/noynetanel1-tel-aviv-university/GCN%20Graph%20classification%28DD%29_Gal/runs/jl98br70' target=\"_blank\">GCN_BFS_seed_5</a></strong> to <a href='https://wandb.ai/noynetanel1-tel-aviv-university/GCN%20Graph%20classification%28DD%29_Gal' target=\"_blank\">Weights & Biases</a> (<a href='https://wandb.me/developer-guide' target=\"_blank\">docs</a>)<br>"
      ],
      "text/plain": [
       "<IPython.core.display.HTML object>"
      ]
     },
     "metadata": {},
     "output_type": "display_data"
    },
    {
     "data": {
      "text/html": [
       " View project at <a href='https://wandb.ai/noynetanel1-tel-aviv-university/GCN%20Graph%20classification%28DD%29_Gal' target=\"_blank\">https://wandb.ai/noynetanel1-tel-aviv-university/GCN%20Graph%20classification%28DD%29_Gal</a>"
      ],
      "text/plain": [
       "<IPython.core.display.HTML object>"
      ]
     },
     "metadata": {},
     "output_type": "display_data"
    },
    {
     "data": {
      "text/html": [
       " View run at <a href='https://wandb.ai/noynetanel1-tel-aviv-university/GCN%20Graph%20classification%28DD%29_Gal/runs/jl98br70' target=\"_blank\">https://wandb.ai/noynetanel1-tel-aviv-university/GCN%20Graph%20classification%28DD%29_Gal/runs/jl98br70</a>"
      ],
      "text/plain": [
       "<IPython.core.display.HTML object>"
      ]
     },
     "metadata": {},
     "output_type": "display_data"
    },
    {
     "name": "stdout",
     "output_type": "stream",
     "text": [
      "Seed 5 | Epoch 001 | Loss: 0.6842 | Test Acc: 0.5805\n",
      "Seed 5 | Epoch 002 | Loss: 0.6766 | Test Acc: 0.5805\n",
      "Seed 5 | Epoch 003 | Loss: 0.6748 | Test Acc: 0.5805\n",
      "Seed 5 | Epoch 004 | Loss: 0.6713 | Test Acc: 0.5805\n",
      "Seed 5 | Epoch 005 | Loss: 0.6655 | Test Acc: 0.5805\n",
      "Seed 5 | Epoch 006 | Loss: 0.6646 | Test Acc: 0.6144\n",
      "Seed 5 | Epoch 007 | Loss: 0.6505 | Test Acc: 0.6610\n",
      "Seed 5 | Epoch 008 | Loss: 0.6378 | Test Acc: 0.6610\n",
      "Seed 5 | Epoch 009 | Loss: 0.6305 | Test Acc: 0.6864\n",
      "Seed 5 | Epoch 010 | Loss: 0.6109 | Test Acc: 0.6356\n",
      "Seed 5 | Epoch 011 | Loss: 0.6009 | Test Acc: 0.6822\n",
      "Seed 5 | Epoch 012 | Loss: 0.6011 | Test Acc: 0.6780\n",
      "Seed 5 | Epoch 013 | Loss: 0.5890 | Test Acc: 0.6780\n",
      "Seed 5 | Epoch 014 | Loss: 0.5858 | Test Acc: 0.6780\n",
      "Seed 5 | Epoch 015 | Loss: 0.5832 | Test Acc: 0.6017\n",
      "Seed 5 | Epoch 016 | Loss: 0.5774 | Test Acc: 0.6780\n",
      "Seed 5 | Epoch 017 | Loss: 0.5930 | Test Acc: 0.6907\n",
      "Seed 5 | Epoch 018 | Loss: 0.5757 | Test Acc: 0.6780\n",
      "Seed 5 | Epoch 019 | Loss: 0.5685 | Test Acc: 0.6949\n",
      "Seed 5 | Epoch 020 | Loss: 0.5636 | Test Acc: 0.6780\n",
      "Seed 5 | Epoch 021 | Loss: 0.5622 | Test Acc: 0.6780\n",
      "Seed 5 | Epoch 022 | Loss: 0.5624 | Test Acc: 0.6822\n",
      "Seed 5 | Epoch 023 | Loss: 0.5581 | Test Acc: 0.6949\n",
      "Seed 5 | Epoch 024 | Loss: 0.5598 | Test Acc: 0.6653\n",
      "Seed 5 | Epoch 025 | Loss: 0.5638 | Test Acc: 0.6992\n",
      "Seed 5 | Epoch 026 | Loss: 0.5608 | Test Acc: 0.6653\n",
      "Seed 5 | Epoch 027 | Loss: 0.5534 | Test Acc: 0.6949\n",
      "Seed 5 | Epoch 028 | Loss: 0.5531 | Test Acc: 0.6992\n",
      "Seed 5 | Epoch 029 | Loss: 0.5524 | Test Acc: 0.7034\n",
      "Seed 5 | Epoch 030 | Loss: 0.5482 | Test Acc: 0.6949\n",
      "Seed 5 | Epoch 031 | Loss: 0.5441 | Test Acc: 0.7119\n",
      "Seed 5 | Epoch 032 | Loss: 0.5537 | Test Acc: 0.6992\n",
      "Seed 5 | Epoch 033 | Loss: 0.5468 | Test Acc: 0.6992\n",
      "Seed 5 | Epoch 034 | Loss: 0.5569 | Test Acc: 0.7203\n",
      "Seed 5 | Epoch 035 | Loss: 0.5467 | Test Acc: 0.7076\n",
      "Seed 5 | Epoch 036 | Loss: 0.5464 | Test Acc: 0.6992\n",
      "Seed 5 | Epoch 037 | Loss: 0.5403 | Test Acc: 0.7034\n",
      "Seed 5 | Epoch 038 | Loss: 0.5381 | Test Acc: 0.7246\n",
      "Seed 5 | Epoch 039 | Loss: 0.5388 | Test Acc: 0.7246\n",
      "Seed 5 | Epoch 040 | Loss: 0.5430 | Test Acc: 0.7161\n",
      "Seed 5 | Epoch 041 | Loss: 0.5344 | Test Acc: 0.7119\n",
      "Seed 5 | Epoch 042 | Loss: 0.5300 | Test Acc: 0.6992\n",
      "Seed 5 | Epoch 043 | Loss: 0.5306 | Test Acc: 0.7076\n",
      "Seed 5 | Epoch 044 | Loss: 0.5393 | Test Acc: 0.7076\n",
      "Seed 5 | Epoch 045 | Loss: 0.5306 | Test Acc: 0.7076\n",
      "Seed 5 | Epoch 046 | Loss: 0.5299 | Test Acc: 0.6949\n",
      "Seed 5 | Epoch 047 | Loss: 0.5216 | Test Acc: 0.7076\n",
      "Seed 5 | Epoch 048 | Loss: 0.5261 | Test Acc: 0.7076\n",
      "Seed 5 | Epoch 049 | Loss: 0.5299 | Test Acc: 0.7119\n",
      "Seed 5 | Epoch 050 | Loss: 0.5226 | Test Acc: 0.7288\n"
     ]
    },
    {
     "data": {
      "text/html": [],
      "text/plain": [
       "<IPython.core.display.HTML object>"
      ]
     },
     "metadata": {},
     "output_type": "display_data"
    },
    {
     "data": {
      "text/html": [
       "<br>    <style><br>        .wandb-row {<br>            display: flex;<br>            flex-direction: row;<br>            flex-wrap: wrap;<br>            justify-content: flex-start;<br>            width: 100%;<br>        }<br>        .wandb-col {<br>            display: flex;<br>            flex-direction: column;<br>            flex-basis: 100%;<br>            flex: 1;<br>            padding: 10px;<br>        }<br>    </style><br><div class=\"wandb-row\"><div class=\"wandb-col\"><h3>Run history:</h3><br/><table class=\"wandb\"><tr><td>epoch</td><td>▁▁▁▁▂▂▂▂▂▂▃▃▃▃▃▄▄▄▄▄▅▅▅▅▅▆▆▆▆▆▆▇▇▇▇▇▇███</td></tr><tr><td>loss</td><td>███▇▇▇▆▆▅▄▄▄▃▄▃▃▃▃▃▃▂▂▂▂▂▂▃▂▂▂▂▂▂▁▁▁▁▁▁▁</td></tr><tr><td>test_acc</td><td>▁▁▁▁▃▅▆▄▆▆▆▂▆▆▆▆▆▆▅▇▆▇▇▆▇▇█▇▇▇█▇▇▇▇▇▆▇▇█</td></tr><tr><td>train_acc</td><td>▁▁▁▁▁▅▅▆▄▆▆▇▄▆▇▇▇▇▇▇▇▇▇▇▇▇▇▇▇▇▇▇▇███████</td></tr></table><br/></div><div class=\"wandb-col\"><h3>Run summary:</h3><br/><table class=\"wandb\"><tr><td>epoch</td><td>50</td></tr><tr><td>loss</td><td>0.52262</td></tr><tr><td>test_acc</td><td>0.72881</td></tr><tr><td>train_acc</td><td>0.76327</td></tr></table><br/></div></div>"
      ],
      "text/plain": [
       "<IPython.core.display.HTML object>"
      ]
     },
     "metadata": {},
     "output_type": "display_data"
    },
    {
     "data": {
      "text/html": [
       " View run <strong style=\"color:#cdcd00\">GCN_BFS_seed_5</strong> at: <a href='https://wandb.ai/noynetanel1-tel-aviv-university/GCN%20Graph%20classification%28DD%29_Gal/runs/jl98br70' target=\"_blank\">https://wandb.ai/noynetanel1-tel-aviv-university/GCN%20Graph%20classification%28DD%29_Gal/runs/jl98br70</a><br> View project at: <a href='https://wandb.ai/noynetanel1-tel-aviv-university/GCN%20Graph%20classification%28DD%29_Gal' target=\"_blank\">https://wandb.ai/noynetanel1-tel-aviv-university/GCN%20Graph%20classification%28DD%29_Gal</a><br>Synced 5 W&B file(s), 0 media file(s), 0 artifact file(s) and 0 other file(s)"
      ],
      "text/plain": [
       "<IPython.core.display.HTML object>"
      ]
     },
     "metadata": {},
     "output_type": "display_data"
    },
    {
     "data": {
      "text/html": [
       "Find logs at: <code>./wandb/run-20250822_210020-jl98br70/logs</code>"
      ],
      "text/plain": [
       "<IPython.core.display.HTML object>"
      ]
     },
     "metadata": {},
     "output_type": "display_data"
    },
    {
     "data": {
      "text/html": [
       "Tracking run with wandb version 0.20.1"
      ],
      "text/plain": [
       "<IPython.core.display.HTML object>"
      ]
     },
     "metadata": {},
     "output_type": "display_data"
    },
    {
     "data": {
      "text/html": [
       "Run data is saved locally in <code>/kaggle/working/wandb/run-20250822_211043-bumnj46n</code>"
      ],
      "text/plain": [
       "<IPython.core.display.HTML object>"
      ]
     },
     "metadata": {},
     "output_type": "display_data"
    },
    {
     "data": {
      "text/html": [
       "Syncing run <strong><a href='https://wandb.ai/noynetanel1-tel-aviv-university/GCN%20Graph%20classification%28DD%29_Gal/runs/bumnj46n' target=\"_blank\">GCN_BFS_seed_6</a></strong> to <a href='https://wandb.ai/noynetanel1-tel-aviv-university/GCN%20Graph%20classification%28DD%29_Gal' target=\"_blank\">Weights & Biases</a> (<a href='https://wandb.me/developer-guide' target=\"_blank\">docs</a>)<br>"
      ],
      "text/plain": [
       "<IPython.core.display.HTML object>"
      ]
     },
     "metadata": {},
     "output_type": "display_data"
    },
    {
     "data": {
      "text/html": [
       " View project at <a href='https://wandb.ai/noynetanel1-tel-aviv-university/GCN%20Graph%20classification%28DD%29_Gal' target=\"_blank\">https://wandb.ai/noynetanel1-tel-aviv-university/GCN%20Graph%20classification%28DD%29_Gal</a>"
      ],
      "text/plain": [
       "<IPython.core.display.HTML object>"
      ]
     },
     "metadata": {},
     "output_type": "display_data"
    },
    {
     "data": {
      "text/html": [
       " View run at <a href='https://wandb.ai/noynetanel1-tel-aviv-university/GCN%20Graph%20classification%28DD%29_Gal/runs/bumnj46n' target=\"_blank\">https://wandb.ai/noynetanel1-tel-aviv-university/GCN%20Graph%20classification%28DD%29_Gal/runs/bumnj46n</a>"
      ],
      "text/plain": [
       "<IPython.core.display.HTML object>"
      ]
     },
     "metadata": {},
     "output_type": "display_data"
    },
    {
     "name": "stdout",
     "output_type": "stream",
     "text": [
      "Seed 6 | Epoch 001 | Loss: 0.6865 | Test Acc: 0.6229\n",
      "Seed 6 | Epoch 002 | Loss: 0.6804 | Test Acc: 0.6229\n",
      "Seed 6 | Epoch 003 | Loss: 0.6789 | Test Acc: 0.6229\n",
      "Seed 6 | Epoch 004 | Loss: 0.6758 | Test Acc: 0.6229\n",
      "Seed 6 | Epoch 005 | Loss: 0.6710 | Test Acc: 0.6356\n",
      "Seed 6 | Epoch 006 | Loss: 0.6617 | Test Acc: 0.6314\n",
      "Seed 6 | Epoch 007 | Loss: 0.6532 | Test Acc: 0.6610\n",
      "Seed 6 | Epoch 008 | Loss: 0.6334 | Test Acc: 0.6780\n",
      "Seed 6 | Epoch 009 | Loss: 0.6189 | Test Acc: 0.7203\n",
      "Seed 6 | Epoch 010 | Loss: 0.6092 | Test Acc: 0.6568\n",
      "Seed 6 | Epoch 011 | Loss: 0.6099 | Test Acc: 0.7161\n",
      "Seed 6 | Epoch 012 | Loss: 0.5911 | Test Acc: 0.7119\n",
      "Seed 6 | Epoch 013 | Loss: 0.5982 | Test Acc: 0.7161\n",
      "Seed 6 | Epoch 014 | Loss: 0.5881 | Test Acc: 0.6822\n",
      "Seed 6 | Epoch 015 | Loss: 0.5992 | Test Acc: 0.6780\n",
      "Seed 6 | Epoch 016 | Loss: 0.5788 | Test Acc: 0.7203\n",
      "Seed 6 | Epoch 017 | Loss: 0.5766 | Test Acc: 0.7246\n",
      "Seed 6 | Epoch 018 | Loss: 0.5785 | Test Acc: 0.6610\n",
      "Seed 6 | Epoch 019 | Loss: 0.5758 | Test Acc: 0.7288\n",
      "Seed 6 | Epoch 020 | Loss: 0.5727 | Test Acc: 0.7246\n",
      "Seed 6 | Epoch 021 | Loss: 0.5682 | Test Acc: 0.7288\n",
      "Seed 6 | Epoch 022 | Loss: 0.5662 | Test Acc: 0.7034\n",
      "Seed 6 | Epoch 023 | Loss: 0.5690 | Test Acc: 0.7203\n",
      "Seed 6 | Epoch 024 | Loss: 0.5674 | Test Acc: 0.7034\n",
      "Seed 6 | Epoch 025 | Loss: 0.5691 | Test Acc: 0.7288\n",
      "Seed 6 | Epoch 026 | Loss: 0.5728 | Test Acc: 0.7034\n",
      "Seed 6 | Epoch 027 | Loss: 0.5754 | Test Acc: 0.7119\n",
      "Seed 6 | Epoch 028 | Loss: 0.5641 | Test Acc: 0.6949\n",
      "Seed 6 | Epoch 029 | Loss: 0.5665 | Test Acc: 0.7203\n",
      "Seed 6 | Epoch 030 | Loss: 0.5697 | Test Acc: 0.6483\n",
      "Seed 6 | Epoch 031 | Loss: 0.5692 | Test Acc: 0.7288\n",
      "Seed 6 | Epoch 032 | Loss: 0.5642 | Test Acc: 0.7246\n",
      "Seed 6 | Epoch 033 | Loss: 0.5509 | Test Acc: 0.7331\n",
      "Seed 6 | Epoch 034 | Loss: 0.5570 | Test Acc: 0.7203\n",
      "Seed 6 | Epoch 035 | Loss: 0.5560 | Test Acc: 0.7076\n",
      "Seed 6 | Epoch 036 | Loss: 0.5489 | Test Acc: 0.7331\n",
      "Seed 6 | Epoch 037 | Loss: 0.5868 | Test Acc: 0.7203\n",
      "Seed 6 | Epoch 038 | Loss: 0.5555 | Test Acc: 0.7076\n",
      "Seed 6 | Epoch 039 | Loss: 0.5482 | Test Acc: 0.7246\n",
      "Seed 6 | Epoch 040 | Loss: 0.5490 | Test Acc: 0.7161\n",
      "Seed 6 | Epoch 041 | Loss: 0.5502 | Test Acc: 0.7331\n",
      "Seed 6 | Epoch 042 | Loss: 0.5475 | Test Acc: 0.7288\n",
      "Seed 6 | Epoch 043 | Loss: 0.5527 | Test Acc: 0.6737\n",
      "Seed 6 | Epoch 044 | Loss: 0.5440 | Test Acc: 0.7331\n",
      "Seed 6 | Epoch 045 | Loss: 0.5368 | Test Acc: 0.6907\n",
      "Seed 6 | Epoch 046 | Loss: 0.5414 | Test Acc: 0.7288\n",
      "Seed 6 | Epoch 047 | Loss: 0.5398 | Test Acc: 0.7373\n",
      "Seed 6 | Epoch 048 | Loss: 0.5313 | Test Acc: 0.7203\n",
      "Seed 6 | Epoch 049 | Loss: 0.5323 | Test Acc: 0.7331\n",
      "Seed 6 | Epoch 050 | Loss: 0.5523 | Test Acc: 0.6441\n"
     ]
    },
    {
     "data": {
      "text/html": [],
      "text/plain": [
       "<IPython.core.display.HTML object>"
      ]
     },
     "metadata": {},
     "output_type": "display_data"
    },
    {
     "data": {
      "text/html": [
       "<br>    <style><br>        .wandb-row {<br>            display: flex;<br>            flex-direction: row;<br>            flex-wrap: wrap;<br>            justify-content: flex-start;<br>            width: 100%;<br>        }<br>        .wandb-col {<br>            display: flex;<br>            flex-direction: column;<br>            flex-basis: 100%;<br>            flex: 1;<br>            padding: 10px;<br>        }<br>    </style><br><div class=\"wandb-row\"><div class=\"wandb-col\"><h3>Run history:</h3><br/><table class=\"wandb\"><tr><td>epoch</td><td>▁▁▁▁▂▂▂▂▂▂▃▃▃▃▃▄▄▄▄▄▄▅▅▅▅▅▆▆▆▆▆▆▇▇▇▇▇▇██</td></tr><tr><td>loss</td><td>███▇▇▆▅▅▅▄▄▄▃▃▃▃▃▃▃▃▃▂▃▃▃▂▂▂▂▄▂▂▂▂▂▁▁▁▁▂</td></tr><tr><td>test_acc</td><td>▁▁▁▁▂▃▅▇▃▇▇▅▇▇▃▇█▆▇▆▆▇▆▇▃▇█▇▆█▆▇▇███▅█▇▂</td></tr><tr><td>train_acc</td><td>▁▁▁▂▁▅▆▆▆▆▇▆▇▇▆▇▇▇▇▇▇▇▇▇▆█▇█▆▇███▇▆▇███▆</td></tr></table><br/></div><div class=\"wandb-col\"><h3>Run summary:</h3><br/><table class=\"wandb\"><tr><td>epoch</td><td>50</td></tr><tr><td>loss</td><td>0.55226</td></tr><tr><td>test_acc</td><td>0.64407</td></tr><tr><td>train_acc</td><td>0.70488</td></tr></table><br/></div></div>"
      ],
      "text/plain": [
       "<IPython.core.display.HTML object>"
      ]
     },
     "metadata": {},
     "output_type": "display_data"
    },
    {
     "data": {
      "text/html": [
       " View run <strong style=\"color:#cdcd00\">GCN_BFS_seed_6</strong> at: <a href='https://wandb.ai/noynetanel1-tel-aviv-university/GCN%20Graph%20classification%28DD%29_Gal/runs/bumnj46n' target=\"_blank\">https://wandb.ai/noynetanel1-tel-aviv-university/GCN%20Graph%20classification%28DD%29_Gal/runs/bumnj46n</a><br> View project at: <a href='https://wandb.ai/noynetanel1-tel-aviv-university/GCN%20Graph%20classification%28DD%29_Gal' target=\"_blank\">https://wandb.ai/noynetanel1-tel-aviv-university/GCN%20Graph%20classification%28DD%29_Gal</a><br>Synced 5 W&B file(s), 0 media file(s), 0 artifact file(s) and 0 other file(s)"
      ],
      "text/plain": [
       "<IPython.core.display.HTML object>"
      ]
     },
     "metadata": {},
     "output_type": "display_data"
    },
    {
     "data": {
      "text/html": [
       "Find logs at: <code>./wandb/run-20250822_211043-bumnj46n/logs</code>"
      ],
      "text/plain": [
       "<IPython.core.display.HTML object>"
      ]
     },
     "metadata": {},
     "output_type": "display_data"
    },
    {
     "data": {
      "text/html": [
       "Tracking run with wandb version 0.20.1"
      ],
      "text/plain": [
       "<IPython.core.display.HTML object>"
      ]
     },
     "metadata": {},
     "output_type": "display_data"
    },
    {
     "data": {
      "text/html": [
       "Run data is saved locally in <code>/kaggle/working/wandb/run-20250822_212048-ownj0rp1</code>"
      ],
      "text/plain": [
       "<IPython.core.display.HTML object>"
      ]
     },
     "metadata": {},
     "output_type": "display_data"
    },
    {
     "data": {
      "text/html": [
       "Syncing run <strong><a href='https://wandb.ai/noynetanel1-tel-aviv-university/GCN%20Graph%20classification%28DD%29_Gal/runs/ownj0rp1' target=\"_blank\">GCN_BFS_seed_7</a></strong> to <a href='https://wandb.ai/noynetanel1-tel-aviv-university/GCN%20Graph%20classification%28DD%29_Gal' target=\"_blank\">Weights & Biases</a> (<a href='https://wandb.me/developer-guide' target=\"_blank\">docs</a>)<br>"
      ],
      "text/plain": [
       "<IPython.core.display.HTML object>"
      ]
     },
     "metadata": {},
     "output_type": "display_data"
    },
    {
     "data": {
      "text/html": [
       " View project at <a href='https://wandb.ai/noynetanel1-tel-aviv-university/GCN%20Graph%20classification%28DD%29_Gal' target=\"_blank\">https://wandb.ai/noynetanel1-tel-aviv-university/GCN%20Graph%20classification%28DD%29_Gal</a>"
      ],
      "text/plain": [
       "<IPython.core.display.HTML object>"
      ]
     },
     "metadata": {},
     "output_type": "display_data"
    },
    {
     "data": {
      "text/html": [
       " View run at <a href='https://wandb.ai/noynetanel1-tel-aviv-university/GCN%20Graph%20classification%28DD%29_Gal/runs/ownj0rp1' target=\"_blank\">https://wandb.ai/noynetanel1-tel-aviv-university/GCN%20Graph%20classification%28DD%29_Gal/runs/ownj0rp1</a>"
      ],
      "text/plain": [
       "<IPython.core.display.HTML object>"
      ]
     },
     "metadata": {},
     "output_type": "display_data"
    },
    {
     "name": "stdout",
     "output_type": "stream",
     "text": [
      "Seed 7 | Epoch 001 | Loss: 0.6804 | Test Acc: 0.5593\n",
      "Seed 7 | Epoch 002 | Loss: 0.6753 | Test Acc: 0.5593\n",
      "Seed 7 | Epoch 003 | Loss: 0.6711 | Test Acc: 0.5593\n",
      "Seed 7 | Epoch 004 | Loss: 0.6715 | Test Acc: 0.5593\n",
      "Seed 7 | Epoch 005 | Loss: 0.6678 | Test Acc: 0.5593\n",
      "Seed 7 | Epoch 006 | Loss: 0.6653 | Test Acc: 0.5593\n",
      "Seed 7 | Epoch 007 | Loss: 0.6574 | Test Acc: 0.5720\n",
      "Seed 7 | Epoch 008 | Loss: 0.6492 | Test Acc: 0.5847\n",
      "Seed 7 | Epoch 009 | Loss: 0.6301 | Test Acc: 0.5763\n",
      "Seed 7 | Epoch 010 | Loss: 0.6222 | Test Acc: 0.6271\n",
      "Seed 7 | Epoch 011 | Loss: 0.6078 | Test Acc: 0.6356\n",
      "Seed 7 | Epoch 012 | Loss: 0.6023 | Test Acc: 0.6907\n",
      "Seed 7 | Epoch 013 | Loss: 0.5945 | Test Acc: 0.6864\n",
      "Seed 7 | Epoch 014 | Loss: 0.5873 | Test Acc: 0.6356\n",
      "Seed 7 | Epoch 015 | Loss: 0.5884 | Test Acc: 0.7076\n",
      "Seed 7 | Epoch 016 | Loss: 0.5968 | Test Acc: 0.6653\n",
      "Seed 7 | Epoch 017 | Loss: 0.5846 | Test Acc: 0.6568\n",
      "Seed 7 | Epoch 018 | Loss: 0.5737 | Test Acc: 0.6271\n",
      "Seed 7 | Epoch 019 | Loss: 0.5791 | Test Acc: 0.6653\n",
      "Seed 7 | Epoch 020 | Loss: 0.5768 | Test Acc: 0.7119\n",
      "Seed 7 | Epoch 021 | Loss: 0.5797 | Test Acc: 0.6695\n",
      "Seed 7 | Epoch 022 | Loss: 0.5692 | Test Acc: 0.6568\n",
      "Seed 7 | Epoch 023 | Loss: 0.5688 | Test Acc: 0.6864\n",
      "Seed 7 | Epoch 024 | Loss: 0.5701 | Test Acc: 0.6864\n",
      "Seed 7 | Epoch 025 | Loss: 0.5643 | Test Acc: 0.6992\n",
      "Seed 7 | Epoch 026 | Loss: 0.5663 | Test Acc: 0.6653\n",
      "Seed 7 | Epoch 027 | Loss: 0.5630 | Test Acc: 0.7119\n",
      "Seed 7 | Epoch 028 | Loss: 0.5558 | Test Acc: 0.6610\n",
      "Seed 7 | Epoch 029 | Loss: 0.5689 | Test Acc: 0.7076\n",
      "Seed 7 | Epoch 030 | Loss: 0.5559 | Test Acc: 0.6695\n",
      "Seed 7 | Epoch 031 | Loss: 0.5561 | Test Acc: 0.6822\n",
      "Seed 7 | Epoch 032 | Loss: 0.5591 | Test Acc: 0.6822\n",
      "Seed 7 | Epoch 033 | Loss: 0.5599 | Test Acc: 0.6949\n",
      "Seed 7 | Epoch 034 | Loss: 0.5520 | Test Acc: 0.6780\n",
      "Seed 7 | Epoch 035 | Loss: 0.5468 | Test Acc: 0.6653\n",
      "Seed 7 | Epoch 036 | Loss: 0.5496 | Test Acc: 0.6949\n",
      "Seed 7 | Epoch 037 | Loss: 0.5516 | Test Acc: 0.6780\n",
      "Seed 7 | Epoch 038 | Loss: 0.5479 | Test Acc: 0.6780\n",
      "Seed 7 | Epoch 039 | Loss: 0.5681 | Test Acc: 0.6907\n",
      "Seed 7 | Epoch 040 | Loss: 0.5535 | Test Acc: 0.6864\n",
      "Seed 7 | Epoch 041 | Loss: 0.5518 | Test Acc: 0.6907\n",
      "Seed 7 | Epoch 042 | Loss: 0.5425 | Test Acc: 0.7034\n",
      "Seed 7 | Epoch 043 | Loss: 0.5473 | Test Acc: 0.6822\n",
      "Seed 7 | Epoch 044 | Loss: 0.5594 | Test Acc: 0.6907\n",
      "Seed 7 | Epoch 045 | Loss: 0.5482 | Test Acc: 0.6737\n",
      "Seed 7 | Epoch 046 | Loss: 0.5370 | Test Acc: 0.7034\n",
      "Seed 7 | Epoch 047 | Loss: 0.5372 | Test Acc: 0.6864\n",
      "Seed 7 | Epoch 048 | Loss: 0.5332 | Test Acc: 0.6907\n",
      "Seed 7 | Epoch 049 | Loss: 0.5384 | Test Acc: 0.6695\n",
      "Seed 7 | Epoch 050 | Loss: 0.5372 | Test Acc: 0.7119\n"
     ]
    },
    {
     "data": {
      "text/html": [],
      "text/plain": [
       "<IPython.core.display.HTML object>"
      ]
     },
     "metadata": {},
     "output_type": "display_data"
    },
    {
     "data": {
      "text/html": [
       "<br>    <style><br>        .wandb-row {<br>            display: flex;<br>            flex-direction: row;<br>            flex-wrap: wrap;<br>            justify-content: flex-start;<br>            width: 100%;<br>        }<br>        .wandb-col {<br>            display: flex;<br>            flex-direction: column;<br>            flex-basis: 100%;<br>            flex: 1;<br>            padding: 10px;<br>        }<br>    </style><br><div class=\"wandb-row\"><div class=\"wandb-col\"><h3>Run history:</h3><br/><table class=\"wandb\"><tr><td>epoch</td><td>▁▁▁▁▂▂▂▂▂▃▃▃▃▃▄▄▄▄▄▄▅▅▅▅▅▆▆▆▆▆▆▇▇▇▇▇▇███</td></tr><tr><td>loss</td><td>████▇▇▇▆▅▅▄▄▄▃▃▃▃▃▃▃▃▂▂▃▂▂▂▂▂▂▃▂▂▁▂▂▁▁▁▁</td></tr><tr><td>test_acc</td><td>▁▁▁▁▁▂▂▄▅▇█▆▅▄▆▆▅▇▇▇█▆█▆▇▇▆▆▇▆▇▇▇█▇▆█▇▇█</td></tr><tr><td>train_acc</td><td>▁▁▁▁▁▄▂▆▆▆▆▇▇▇▆▆▇▇▇▇▇▇▇▇▇▇█▇▇█▇████▇███▇</td></tr></table><br/></div><div class=\"wandb-col\"><h3>Run summary:</h3><br/><table class=\"wandb\"><tr><td>epoch</td><td>50</td></tr><tr><td>loss</td><td>0.53718</td></tr><tr><td>test_acc</td><td>0.71186</td></tr><tr><td>train_acc</td><td>0.74947</td></tr></table><br/></div></div>"
      ],
      "text/plain": [
       "<IPython.core.display.HTML object>"
      ]
     },
     "metadata": {},
     "output_type": "display_data"
    },
    {
     "data": {
      "text/html": [
       " View run <strong style=\"color:#cdcd00\">GCN_BFS_seed_7</strong> at: <a href='https://wandb.ai/noynetanel1-tel-aviv-university/GCN%20Graph%20classification%28DD%29_Gal/runs/ownj0rp1' target=\"_blank\">https://wandb.ai/noynetanel1-tel-aviv-university/GCN%20Graph%20classification%28DD%29_Gal/runs/ownj0rp1</a><br> View project at: <a href='https://wandb.ai/noynetanel1-tel-aviv-university/GCN%20Graph%20classification%28DD%29_Gal' target=\"_blank\">https://wandb.ai/noynetanel1-tel-aviv-university/GCN%20Graph%20classification%28DD%29_Gal</a><br>Synced 5 W&B file(s), 0 media file(s), 0 artifact file(s) and 0 other file(s)"
      ],
      "text/plain": [
       "<IPython.core.display.HTML object>"
      ]
     },
     "metadata": {},
     "output_type": "display_data"
    },
    {
     "data": {
      "text/html": [
       "Find logs at: <code>./wandb/run-20250822_212048-ownj0rp1/logs</code>"
      ],
      "text/plain": [
       "<IPython.core.display.HTML object>"
      ]
     },
     "metadata": {},
     "output_type": "display_data"
    },
    {
     "data": {
      "text/html": [
       "Tracking run with wandb version 0.20.1"
      ],
      "text/plain": [
       "<IPython.core.display.HTML object>"
      ]
     },
     "metadata": {},
     "output_type": "display_data"
    },
    {
     "data": {
      "text/html": [
       "Run data is saved locally in <code>/kaggle/working/wandb/run-20250822_213012-xezrha2v</code>"
      ],
      "text/plain": [
       "<IPython.core.display.HTML object>"
      ]
     },
     "metadata": {},
     "output_type": "display_data"
    },
    {
     "data": {
      "text/html": [
       "Syncing run <strong><a href='https://wandb.ai/noynetanel1-tel-aviv-university/GCN%20Graph%20classification%28DD%29_Gal/runs/xezrha2v' target=\"_blank\">GCN_BFS_seed_8</a></strong> to <a href='https://wandb.ai/noynetanel1-tel-aviv-university/GCN%20Graph%20classification%28DD%29_Gal' target=\"_blank\">Weights & Biases</a> (<a href='https://wandb.me/developer-guide' target=\"_blank\">docs</a>)<br>"
      ],
      "text/plain": [
       "<IPython.core.display.HTML object>"
      ]
     },
     "metadata": {},
     "output_type": "display_data"
    },
    {
     "data": {
      "text/html": [
       " View project at <a href='https://wandb.ai/noynetanel1-tel-aviv-university/GCN%20Graph%20classification%28DD%29_Gal' target=\"_blank\">https://wandb.ai/noynetanel1-tel-aviv-university/GCN%20Graph%20classification%28DD%29_Gal</a>"
      ],
      "text/plain": [
       "<IPython.core.display.HTML object>"
      ]
     },
     "metadata": {},
     "output_type": "display_data"
    },
    {
     "data": {
      "text/html": [
       " View run at <a href='https://wandb.ai/noynetanel1-tel-aviv-university/GCN%20Graph%20classification%28DD%29_Gal/runs/xezrha2v' target=\"_blank\">https://wandb.ai/noynetanel1-tel-aviv-university/GCN%20Graph%20classification%28DD%29_Gal/runs/xezrha2v</a>"
      ],
      "text/plain": [
       "<IPython.core.display.HTML object>"
      ]
     },
     "metadata": {},
     "output_type": "display_data"
    },
    {
     "name": "stdout",
     "output_type": "stream",
     "text": [
      "Seed 8 | Epoch 001 | Loss: 0.6871 | Test Acc: 0.5805\n",
      "Seed 8 | Epoch 002 | Loss: 0.6746 | Test Acc: 0.5805\n",
      "Seed 8 | Epoch 003 | Loss: 0.6743 | Test Acc: 0.5805\n",
      "Seed 8 | Epoch 004 | Loss: 0.6709 | Test Acc: 0.5805\n",
      "Seed 8 | Epoch 005 | Loss: 0.6657 | Test Acc: 0.5720\n",
      "Seed 8 | Epoch 006 | Loss: 0.6617 | Test Acc: 0.6017\n",
      "Seed 8 | Epoch 007 | Loss: 0.6509 | Test Acc: 0.6822\n",
      "Seed 8 | Epoch 008 | Loss: 0.6407 | Test Acc: 0.6822\n",
      "Seed 8 | Epoch 009 | Loss: 0.6242 | Test Acc: 0.6568\n",
      "Seed 8 | Epoch 010 | Loss: 0.6140 | Test Acc: 0.7203\n",
      "Seed 8 | Epoch 011 | Loss: 0.5983 | Test Acc: 0.7500\n",
      "Seed 8 | Epoch 012 | Loss: 0.5967 | Test Acc: 0.7373\n",
      "Seed 8 | Epoch 013 | Loss: 0.5980 | Test Acc: 0.7076\n",
      "Seed 8 | Epoch 014 | Loss: 0.6070 | Test Acc: 0.7288\n",
      "Seed 8 | Epoch 015 | Loss: 0.5925 | Test Acc: 0.7119\n",
      "Seed 8 | Epoch 016 | Loss: 0.5847 | Test Acc: 0.7458\n",
      "Seed 8 | Epoch 017 | Loss: 0.5802 | Test Acc: 0.7288\n",
      "Seed 8 | Epoch 018 | Loss: 0.5858 | Test Acc: 0.7331\n",
      "Seed 8 | Epoch 019 | Loss: 0.5863 | Test Acc: 0.7076\n",
      "Seed 8 | Epoch 020 | Loss: 0.5868 | Test Acc: 0.7373\n",
      "Seed 8 | Epoch 021 | Loss: 0.5762 | Test Acc: 0.7331\n",
      "Seed 8 | Epoch 022 | Loss: 0.5783 | Test Acc: 0.6907\n",
      "Seed 8 | Epoch 023 | Loss: 0.5716 | Test Acc: 0.7373\n",
      "Seed 8 | Epoch 024 | Loss: 0.5834 | Test Acc: 0.7458\n",
      "Seed 8 | Epoch 025 | Loss: 0.5807 | Test Acc: 0.7415\n",
      "Seed 8 | Epoch 026 | Loss: 0.5753 | Test Acc: 0.7288\n",
      "Seed 8 | Epoch 027 | Loss: 0.5673 | Test Acc: 0.7034\n",
      "Seed 8 | Epoch 028 | Loss: 0.5702 | Test Acc: 0.7458\n",
      "Seed 8 | Epoch 029 | Loss: 0.5738 | Test Acc: 0.7415\n",
      "Seed 8 | Epoch 030 | Loss: 0.5636 | Test Acc: 0.7458\n",
      "Seed 8 | Epoch 031 | Loss: 0.5656 | Test Acc: 0.7500\n",
      "Seed 8 | Epoch 032 | Loss: 0.5692 | Test Acc: 0.7415\n",
      "Seed 8 | Epoch 033 | Loss: 0.5579 | Test Acc: 0.7500\n",
      "Seed 8 | Epoch 034 | Loss: 0.5711 | Test Acc: 0.6822\n",
      "Seed 8 | Epoch 035 | Loss: 0.5717 | Test Acc: 0.7458\n",
      "Seed 8 | Epoch 036 | Loss: 0.5629 | Test Acc: 0.7500\n",
      "Seed 8 | Epoch 037 | Loss: 0.5563 | Test Acc: 0.7331\n",
      "Seed 8 | Epoch 038 | Loss: 0.5597 | Test Acc: 0.7542\n",
      "Seed 8 | Epoch 039 | Loss: 0.5575 | Test Acc: 0.7331\n",
      "Seed 8 | Epoch 040 | Loss: 0.5561 | Test Acc: 0.7500\n",
      "Seed 8 | Epoch 041 | Loss: 0.5634 | Test Acc: 0.7076\n",
      "Seed 8 | Epoch 042 | Loss: 0.5582 | Test Acc: 0.7500\n",
      "Seed 8 | Epoch 043 | Loss: 0.5511 | Test Acc: 0.7585\n",
      "Seed 8 | Epoch 044 | Loss: 0.5493 | Test Acc: 0.7500\n",
      "Seed 8 | Epoch 045 | Loss: 0.5666 | Test Acc: 0.7331\n",
      "Seed 8 | Epoch 046 | Loss: 0.5494 | Test Acc: 0.7373\n",
      "Seed 8 | Epoch 047 | Loss: 0.5508 | Test Acc: 0.7542\n",
      "Seed 8 | Epoch 048 | Loss: 0.5519 | Test Acc: 0.7542\n",
      "Seed 8 | Epoch 049 | Loss: 0.5459 | Test Acc: 0.7373\n",
      "Seed 8 | Epoch 050 | Loss: 0.5512 | Test Acc: 0.7500\n"
     ]
    },
    {
     "data": {
      "text/html": [],
      "text/plain": [
       "<IPython.core.display.HTML object>"
      ]
     },
     "metadata": {},
     "output_type": "display_data"
    },
    {
     "data": {
      "text/html": [
       "<br>    <style><br>        .wandb-row {<br>            display: flex;<br>            flex-direction: row;<br>            flex-wrap: wrap;<br>            justify-content: flex-start;<br>            width: 100%;<br>        }<br>        .wandb-col {<br>            display: flex;<br>            flex-direction: column;<br>            flex-basis: 100%;<br>            flex: 1;<br>            padding: 10px;<br>        }<br>    </style><br><div class=\"wandb-row\"><div class=\"wandb-col\"><h3>Run history:</h3><br/><table class=\"wandb\"><tr><td>epoch</td><td>▁▁▁▁▂▂▂▂▂▂▃▃▃▃▃▄▄▄▄▄▅▅▅▅▅▆▆▆▆▆▆▇▇▇▇▇▇███</td></tr><tr><td>loss</td><td>█▇▇▇▇▆▆▅▄▃▃▄▃▃▃▃▃▂▂▃▂▂▂▂▂▁▂▂▂▁▁▁▂▁▁▂▁▁▁▁</td></tr><tr><td>test_acc</td><td>▁▁▁▁▁▅▄▇█▇▇▆█▇▇▇▇▅▇█▇▆█▇█▇█▅██▇█▆██▇▇███</td></tr><tr><td>train_acc</td><td>▁▁▁▁▂▅▅▆▆▇▆▆▇▇▇▇▇▆▇▇▆▇█▇▇▇▆▇▇█▇▇▆▇▇█████</td></tr></table><br/></div><div class=\"wandb-col\"><h3>Run summary:</h3><br/><table class=\"wandb\"><tr><td>epoch</td><td>50</td></tr><tr><td>loss</td><td>0.5512</td></tr><tr><td>test_acc</td><td>0.75</td></tr><tr><td>train_acc</td><td>0.73992</td></tr></table><br/></div></div>"
      ],
      "text/plain": [
       "<IPython.core.display.HTML object>"
      ]
     },
     "metadata": {},
     "output_type": "display_data"
    },
    {
     "data": {
      "text/html": [
       " View run <strong style=\"color:#cdcd00\">GCN_BFS_seed_8</strong> at: <a href='https://wandb.ai/noynetanel1-tel-aviv-university/GCN%20Graph%20classification%28DD%29_Gal/runs/xezrha2v' target=\"_blank\">https://wandb.ai/noynetanel1-tel-aviv-university/GCN%20Graph%20classification%28DD%29_Gal/runs/xezrha2v</a><br> View project at: <a href='https://wandb.ai/noynetanel1-tel-aviv-university/GCN%20Graph%20classification%28DD%29_Gal' target=\"_blank\">https://wandb.ai/noynetanel1-tel-aviv-university/GCN%20Graph%20classification%28DD%29_Gal</a><br>Synced 5 W&B file(s), 0 media file(s), 0 artifact file(s) and 0 other file(s)"
      ],
      "text/plain": [
       "<IPython.core.display.HTML object>"
      ]
     },
     "metadata": {},
     "output_type": "display_data"
    },
    {
     "data": {
      "text/html": [
       "Find logs at: <code>./wandb/run-20250822_213012-xezrha2v/logs</code>"
      ],
      "text/plain": [
       "<IPython.core.display.HTML object>"
      ]
     },
     "metadata": {},
     "output_type": "display_data"
    },
    {
     "data": {
      "text/html": [
       "Tracking run with wandb version 0.20.1"
      ],
      "text/plain": [
       "<IPython.core.display.HTML object>"
      ]
     },
     "metadata": {},
     "output_type": "display_data"
    },
    {
     "data": {
      "text/html": [
       "Run data is saved locally in <code>/kaggle/working/wandb/run-20250822_213959-dj3sbhsh</code>"
      ],
      "text/plain": [
       "<IPython.core.display.HTML object>"
      ]
     },
     "metadata": {},
     "output_type": "display_data"
    },
    {
     "data": {
      "text/html": [
       "Syncing run <strong><a href='https://wandb.ai/noynetanel1-tel-aviv-university/GCN%20Graph%20classification%28DD%29_Gal/runs/dj3sbhsh' target=\"_blank\">GCN_BFS_seed_9</a></strong> to <a href='https://wandb.ai/noynetanel1-tel-aviv-university/GCN%20Graph%20classification%28DD%29_Gal' target=\"_blank\">Weights & Biases</a> (<a href='https://wandb.me/developer-guide' target=\"_blank\">docs</a>)<br>"
      ],
      "text/plain": [
       "<IPython.core.display.HTML object>"
      ]
     },
     "metadata": {},
     "output_type": "display_data"
    },
    {
     "data": {
      "text/html": [
       " View project at <a href='https://wandb.ai/noynetanel1-tel-aviv-university/GCN%20Graph%20classification%28DD%29_Gal' target=\"_blank\">https://wandb.ai/noynetanel1-tel-aviv-university/GCN%20Graph%20classification%28DD%29_Gal</a>"
      ],
      "text/plain": [
       "<IPython.core.display.HTML object>"
      ]
     },
     "metadata": {},
     "output_type": "display_data"
    },
    {
     "data": {
      "text/html": [
       " View run at <a href='https://wandb.ai/noynetanel1-tel-aviv-university/GCN%20Graph%20classification%28DD%29_Gal/runs/dj3sbhsh' target=\"_blank\">https://wandb.ai/noynetanel1-tel-aviv-university/GCN%20Graph%20classification%28DD%29_Gal/runs/dj3sbhsh</a>"
      ],
      "text/plain": [
       "<IPython.core.display.HTML object>"
      ]
     },
     "metadata": {},
     "output_type": "display_data"
    },
    {
     "name": "stdout",
     "output_type": "stream",
     "text": [
      "Seed 9 | Epoch 001 | Loss: 0.6813 | Test Acc: 0.5975\n",
      "Seed 9 | Epoch 002 | Loss: 0.6786 | Test Acc: 0.5975\n",
      "Seed 9 | Epoch 003 | Loss: 0.6780 | Test Acc: 0.5975\n",
      "Seed 9 | Epoch 004 | Loss: 0.6751 | Test Acc: 0.5975\n",
      "Seed 9 | Epoch 005 | Loss: 0.6736 | Test Acc: 0.6017\n",
      "Seed 9 | Epoch 006 | Loss: 0.6643 | Test Acc: 0.6186\n",
      "Seed 9 | Epoch 007 | Loss: 0.6538 | Test Acc: 0.6186\n",
      "Seed 9 | Epoch 008 | Loss: 0.6309 | Test Acc: 0.6695\n",
      "Seed 9 | Epoch 009 | Loss: 0.6050 | Test Acc: 0.5466\n",
      "Seed 9 | Epoch 010 | Loss: 0.6056 | Test Acc: 0.6992\n",
      "Seed 9 | Epoch 011 | Loss: 0.5926 | Test Acc: 0.6992\n",
      "Seed 9 | Epoch 012 | Loss: 0.5833 | Test Acc: 0.6992\n",
      "Seed 9 | Epoch 013 | Loss: 0.5794 | Test Acc: 0.6949\n",
      "Seed 9 | Epoch 014 | Loss: 0.5815 | Test Acc: 0.6864\n",
      "Seed 9 | Epoch 015 | Loss: 0.5743 | Test Acc: 0.7076\n",
      "Seed 9 | Epoch 016 | Loss: 0.5702 | Test Acc: 0.7119\n",
      "Seed 9 | Epoch 017 | Loss: 0.5618 | Test Acc: 0.6610\n",
      "Seed 9 | Epoch 018 | Loss: 0.5802 | Test Acc: 0.6864\n",
      "Seed 9 | Epoch 019 | Loss: 0.5684 | Test Acc: 0.6992\n",
      "Seed 9 | Epoch 020 | Loss: 0.5656 | Test Acc: 0.7076\n",
      "Seed 9 | Epoch 021 | Loss: 0.5585 | Test Acc: 0.6610\n",
      "Seed 9 | Epoch 022 | Loss: 0.5618 | Test Acc: 0.6992\n",
      "Seed 9 | Epoch 023 | Loss: 0.5652 | Test Acc: 0.6398\n",
      "Seed 9 | Epoch 024 | Loss: 0.5512 | Test Acc: 0.6992\n",
      "Seed 9 | Epoch 025 | Loss: 0.5592 | Test Acc: 0.6822\n",
      "Seed 9 | Epoch 026 | Loss: 0.5509 | Test Acc: 0.7076\n",
      "Seed 9 | Epoch 027 | Loss: 0.5535 | Test Acc: 0.7076\n",
      "Seed 9 | Epoch 028 | Loss: 0.5497 | Test Acc: 0.7034\n",
      "Seed 9 | Epoch 029 | Loss: 0.5507 | Test Acc: 0.7034\n",
      "Seed 9 | Epoch 030 | Loss: 0.5414 | Test Acc: 0.7161\n",
      "Seed 9 | Epoch 031 | Loss: 0.5444 | Test Acc: 0.6992\n",
      "Seed 9 | Epoch 032 | Loss: 0.5377 | Test Acc: 0.7076\n",
      "Seed 9 | Epoch 033 | Loss: 0.5339 | Test Acc: 0.7076\n",
      "Seed 9 | Epoch 034 | Loss: 0.5476 | Test Acc: 0.7076\n",
      "Seed 9 | Epoch 035 | Loss: 0.5343 | Test Acc: 0.6525\n",
      "Seed 9 | Epoch 036 | Loss: 0.5372 | Test Acc: 0.7034\n",
      "Seed 9 | Epoch 037 | Loss: 0.5355 | Test Acc: 0.7076\n",
      "Seed 9 | Epoch 038 | Loss: 0.5416 | Test Acc: 0.6864\n",
      "Seed 9 | Epoch 039 | Loss: 0.5381 | Test Acc: 0.7161\n",
      "Seed 9 | Epoch 040 | Loss: 0.5374 | Test Acc: 0.6780\n",
      "Seed 9 | Epoch 041 | Loss: 0.5379 | Test Acc: 0.6949\n",
      "Seed 9 | Epoch 042 | Loss: 0.5397 | Test Acc: 0.6992\n",
      "Seed 9 | Epoch 043 | Loss: 0.5367 | Test Acc: 0.6737\n",
      "Seed 9 | Epoch 044 | Loss: 0.5433 | Test Acc: 0.7161\n",
      "Seed 9 | Epoch 045 | Loss: 0.5298 | Test Acc: 0.6441\n",
      "Seed 9 | Epoch 046 | Loss: 0.5437 | Test Acc: 0.7161\n",
      "Seed 9 | Epoch 047 | Loss: 0.5212 | Test Acc: 0.7119\n",
      "Seed 9 | Epoch 048 | Loss: 0.5208 | Test Acc: 0.6864\n",
      "Seed 9 | Epoch 049 | Loss: 0.5182 | Test Acc: 0.7119\n",
      "Seed 9 | Epoch 050 | Loss: 0.5275 | Test Acc: 0.6992\n"
     ]
    },
    {
     "data": {
      "text/html": [],
      "text/plain": [
       "<IPython.core.display.HTML object>"
      ]
     },
     "metadata": {},
     "output_type": "display_data"
    },
    {
     "data": {
      "text/html": [
       "<br>    <style><br>        .wandb-row {<br>            display: flex;<br>            flex-direction: row;<br>            flex-wrap: wrap;<br>            justify-content: flex-start;<br>            width: 100%;<br>        }<br>        .wandb-col {<br>            display: flex;<br>            flex-direction: column;<br>            flex-basis: 100%;<br>            flex: 1;<br>            padding: 10px;<br>        }<br>    </style><br><div class=\"wandb-row\"><div class=\"wandb-col\"><h3>Run history:</h3><br/><table class=\"wandb\"><tr><td>epoch</td><td>▁▁▁▁▂▂▂▂▂▃▃▃▃▃▄▄▄▄▄▄▅▅▅▅▅▆▆▆▆▆▆▇▇▇▇▇▇███</td></tr><tr><td>loss</td><td>█████▇▆▅▅▄▄▄▃▃▃▃▃▃▃▃▂▂▂▂▂▂▂▂▂▂▂▂▂▂▂▁▂▁▁▁</td></tr><tr><td>test_acc</td><td>▃▃▃▃▃▄▆▁▇▇▇▇██▆▇█▆▇▅▇██▇▇▇███▅██▆▇▇▅██▇▇</td></tr><tr><td>train_acc</td><td>▂▂▂▂▂▂▅▁▆▇▇▇▆▇▇▇▇▇▆▆▇█▇▇█▇▇▇▇▇▇██▇█▇███▇</td></tr></table><br/></div><div class=\"wandb-col\"><h3>Run summary:</h3><br/><table class=\"wandb\"><tr><td>epoch</td><td>50</td></tr><tr><td>loss</td><td>0.52752</td></tr><tr><td>test_acc</td><td>0.69915</td></tr><tr><td>train_acc</td><td>0.74098</td></tr></table><br/></div></div>"
      ],
      "text/plain": [
       "<IPython.core.display.HTML object>"
      ]
     },
     "metadata": {},
     "output_type": "display_data"
    },
    {
     "data": {
      "text/html": [
       " View run <strong style=\"color:#cdcd00\">GCN_BFS_seed_9</strong> at: <a href='https://wandb.ai/noynetanel1-tel-aviv-university/GCN%20Graph%20classification%28DD%29_Gal/runs/dj3sbhsh' target=\"_blank\">https://wandb.ai/noynetanel1-tel-aviv-university/GCN%20Graph%20classification%28DD%29_Gal/runs/dj3sbhsh</a><br> View project at: <a href='https://wandb.ai/noynetanel1-tel-aviv-university/GCN%20Graph%20classification%28DD%29_Gal' target=\"_blank\">https://wandb.ai/noynetanel1-tel-aviv-university/GCN%20Graph%20classification%28DD%29_Gal</a><br>Synced 5 W&B file(s), 0 media file(s), 0 artifact file(s) and 0 other file(s)"
      ],
      "text/plain": [
       "<IPython.core.display.HTML object>"
      ]
     },
     "metadata": {},
     "output_type": "display_data"
    },
    {
     "data": {
      "text/html": [
       "Find logs at: <code>./wandb/run-20250822_213959-dj3sbhsh/logs</code>"
      ],
      "text/plain": [
       "<IPython.core.display.HTML object>"
      ]
     },
     "metadata": {},
     "output_type": "display_data"
    },
    {
     "data": {
      "text/html": [
       "Tracking run with wandb version 0.20.1"
      ],
      "text/plain": [
       "<IPython.core.display.HTML object>"
      ]
     },
     "metadata": {},
     "output_type": "display_data"
    },
    {
     "data": {
      "text/html": [
       "Run data is saved locally in <code>/kaggle/working/wandb/run-20250822_215002-t2dhrbk2</code>"
      ],
      "text/plain": [
       "<IPython.core.display.HTML object>"
      ]
     },
     "metadata": {},
     "output_type": "display_data"
    },
    {
     "data": {
      "text/html": [
       "Syncing run <strong><a href='https://wandb.ai/noynetanel1-tel-aviv-university/GCN%20Graph%20classification%28DD%29_Gal/runs/t2dhrbk2' target=\"_blank\">GCN_BFS_seed_10</a></strong> to <a href='https://wandb.ai/noynetanel1-tel-aviv-university/GCN%20Graph%20classification%28DD%29_Gal' target=\"_blank\">Weights & Biases</a> (<a href='https://wandb.me/developer-guide' target=\"_blank\">docs</a>)<br>"
      ],
      "text/plain": [
       "<IPython.core.display.HTML object>"
      ]
     },
     "metadata": {},
     "output_type": "display_data"
    },
    {
     "data": {
      "text/html": [
       " View project at <a href='https://wandb.ai/noynetanel1-tel-aviv-university/GCN%20Graph%20classification%28DD%29_Gal' target=\"_blank\">https://wandb.ai/noynetanel1-tel-aviv-university/GCN%20Graph%20classification%28DD%29_Gal</a>"
      ],
      "text/plain": [
       "<IPython.core.display.HTML object>"
      ]
     },
     "metadata": {},
     "output_type": "display_data"
    },
    {
     "data": {
      "text/html": [
       " View run at <a href='https://wandb.ai/noynetanel1-tel-aviv-university/GCN%20Graph%20classification%28DD%29_Gal/runs/t2dhrbk2' target=\"_blank\">https://wandb.ai/noynetanel1-tel-aviv-university/GCN%20Graph%20classification%28DD%29_Gal/runs/t2dhrbk2</a>"
      ],
      "text/plain": [
       "<IPython.core.display.HTML object>"
      ]
     },
     "metadata": {},
     "output_type": "display_data"
    },
    {
     "name": "stdout",
     "output_type": "stream",
     "text": [
      "Seed 10 | Epoch 001 | Loss: 0.6796 | Test Acc: 0.6017\n",
      "Seed 10 | Epoch 002 | Loss: 0.6780 | Test Acc: 0.6017\n",
      "Seed 10 | Epoch 003 | Loss: 0.6742 | Test Acc: 0.5932\n",
      "Seed 10 | Epoch 004 | Loss: 0.6708 | Test Acc: 0.5890\n",
      "Seed 10 | Epoch 005 | Loss: 0.6635 | Test Acc: 0.5932\n",
      "Seed 10 | Epoch 006 | Loss: 0.6494 | Test Acc: 0.6356\n",
      "Seed 10 | Epoch 007 | Loss: 0.6301 | Test Acc: 0.6822\n",
      "Seed 10 | Epoch 008 | Loss: 0.6197 | Test Acc: 0.6949\n",
      "Seed 10 | Epoch 009 | Loss: 0.5965 | Test Acc: 0.6441\n",
      "Seed 10 | Epoch 010 | Loss: 0.5918 | Test Acc: 0.7034\n",
      "Seed 10 | Epoch 011 | Loss: 0.5958 | Test Acc: 0.6907\n",
      "Seed 10 | Epoch 012 | Loss: 0.5781 | Test Acc: 0.6780\n",
      "Seed 10 | Epoch 013 | Loss: 0.5752 | Test Acc: 0.7076\n",
      "Seed 10 | Epoch 014 | Loss: 0.5665 | Test Acc: 0.6737\n",
      "Seed 10 | Epoch 015 | Loss: 0.5634 | Test Acc: 0.6568\n",
      "Seed 10 | Epoch 016 | Loss: 0.5632 | Test Acc: 0.6992\n",
      "Seed 10 | Epoch 017 | Loss: 0.5562 | Test Acc: 0.6864\n",
      "Seed 10 | Epoch 018 | Loss: 0.5668 | Test Acc: 0.6441\n",
      "Seed 10 | Epoch 019 | Loss: 0.5609 | Test Acc: 0.6780\n",
      "Seed 10 | Epoch 020 | Loss: 0.5591 | Test Acc: 0.6949\n",
      "Seed 10 | Epoch 021 | Loss: 0.5539 | Test Acc: 0.6864\n",
      "Seed 10 | Epoch 022 | Loss: 0.5557 | Test Acc: 0.7161\n",
      "Seed 10 | Epoch 023 | Loss: 0.5595 | Test Acc: 0.7034\n",
      "Seed 10 | Epoch 024 | Loss: 0.5490 | Test Acc: 0.6864\n",
      "Seed 10 | Epoch 025 | Loss: 0.5530 | Test Acc: 0.6949\n",
      "Seed 10 | Epoch 026 | Loss: 0.5529 | Test Acc: 0.6864\n",
      "Seed 10 | Epoch 027 | Loss: 0.5504 | Test Acc: 0.6780\n",
      "Seed 10 | Epoch 028 | Loss: 0.5480 | Test Acc: 0.6780\n",
      "Seed 10 | Epoch 029 | Loss: 0.5444 | Test Acc: 0.7119\n",
      "Seed 10 | Epoch 030 | Loss: 0.5449 | Test Acc: 0.6483\n",
      "Seed 10 | Epoch 031 | Loss: 0.5478 | Test Acc: 0.7203\n",
      "Seed 10 | Epoch 032 | Loss: 0.5517 | Test Acc: 0.6653\n",
      "Seed 10 | Epoch 033 | Loss: 0.5473 | Test Acc: 0.6864\n",
      "Seed 10 | Epoch 034 | Loss: 0.5415 | Test Acc: 0.6907\n",
      "Seed 10 | Epoch 035 | Loss: 0.5373 | Test Acc: 0.6992\n",
      "Seed 10 | Epoch 036 | Loss: 0.5401 | Test Acc: 0.7203\n",
      "Seed 10 | Epoch 037 | Loss: 0.5305 | Test Acc: 0.6356\n",
      "Seed 10 | Epoch 038 | Loss: 0.5349 | Test Acc: 0.6695\n",
      "Seed 10 | Epoch 039 | Loss: 0.5304 | Test Acc: 0.6907\n",
      "Seed 10 | Epoch 040 | Loss: 0.5392 | Test Acc: 0.6907\n",
      "Seed 10 | Epoch 041 | Loss: 0.5471 | Test Acc: 0.7034\n",
      "Seed 10 | Epoch 042 | Loss: 0.5297 | Test Acc: 0.6907\n",
      "Seed 10 | Epoch 043 | Loss: 0.5295 | Test Acc: 0.6992\n",
      "Seed 10 | Epoch 044 | Loss: 0.5221 | Test Acc: 0.6907\n",
      "Seed 10 | Epoch 045 | Loss: 0.5222 | Test Acc: 0.6992\n",
      "Seed 10 | Epoch 046 | Loss: 0.5161 | Test Acc: 0.7119\n",
      "Seed 10 | Epoch 047 | Loss: 0.5156 | Test Acc: 0.6356\n",
      "Seed 10 | Epoch 048 | Loss: 0.5313 | Test Acc: 0.6864\n",
      "Seed 10 | Epoch 049 | Loss: 0.5137 | Test Acc: 0.6864\n",
      "Seed 10 | Epoch 050 | Loss: 0.5200 | Test Acc: 0.6907\n"
     ]
    },
    {
     "data": {
      "text/html": [],
      "text/plain": [
       "<IPython.core.display.HTML object>"
      ]
     },
     "metadata": {},
     "output_type": "display_data"
    },
    {
     "data": {
      "text/html": [
       "<br>    <style><br>        .wandb-row {<br>            display: flex;<br>            flex-direction: row;<br>            flex-wrap: wrap;<br>            justify-content: flex-start;<br>            width: 100%;<br>        }<br>        .wandb-col {<br>            display: flex;<br>            flex-direction: column;<br>            flex-basis: 100%;<br>            flex: 1;<br>            padding: 10px;<br>        }<br>    </style><br><div class=\"wandb-row\"><div class=\"wandb-col\"><h3>Run history:</h3><br/><table class=\"wandb\"><tr><td>epoch</td><td>▁▁▁▁▂▂▂▂▂▂▃▃▃▃▄▄▄▄▄▄▅▅▅▅▅▆▆▆▆▆▆▇▇▇▇▇▇███</td></tr><tr><td>loss</td><td>████▇▆▅▄▄▄▄▃▃▃▃▃▃▃▃▃▃▂▂▂▂▃▂▂▂▂▂▂▂▂▂▁▁▁▂▁</td></tr><tr><td>test_acc</td><td>▂▂▁▁▁▆▇▄▇▆▇▆▅▇▆▆▇▆█▇▆▆▆▄█▆▆▇█▃▆▆▇▆▇▇█▃▆▆</td></tr><tr><td>train_acc</td><td>▁▁▁▁▁▆▅▆▅▇▇▆▆▇▆▇▇▆▇▇▇▇▇▇▆▇▇▇▇▇▇▇▇█▇█▇▇██</td></tr></table><br/></div><div class=\"wandb-col\"><h3>Run summary:</h3><br/><table class=\"wandb\"><tr><td>epoch</td><td>50</td></tr><tr><td>loss</td><td>0.52005</td></tr><tr><td>test_acc</td><td>0.69068</td></tr><tr><td>train_acc</td><td>0.77389</td></tr></table><br/></div></div>"
      ],
      "text/plain": [
       "<IPython.core.display.HTML object>"
      ]
     },
     "metadata": {},
     "output_type": "display_data"
    },
    {
     "data": {
      "text/html": [
       " View run <strong style=\"color:#cdcd00\">GCN_BFS_seed_10</strong> at: <a href='https://wandb.ai/noynetanel1-tel-aviv-university/GCN%20Graph%20classification%28DD%29_Gal/runs/t2dhrbk2' target=\"_blank\">https://wandb.ai/noynetanel1-tel-aviv-university/GCN%20Graph%20classification%28DD%29_Gal/runs/t2dhrbk2</a><br> View project at: <a href='https://wandb.ai/noynetanel1-tel-aviv-university/GCN%20Graph%20classification%28DD%29_Gal' target=\"_blank\">https://wandb.ai/noynetanel1-tel-aviv-university/GCN%20Graph%20classification%28DD%29_Gal</a><br>Synced 5 W&B file(s), 0 media file(s), 0 artifact file(s) and 0 other file(s)"
      ],
      "text/plain": [
       "<IPython.core.display.HTML object>"
      ]
     },
     "metadata": {},
     "output_type": "display_data"
    },
    {
     "data": {
      "text/html": [
       "Find logs at: <code>./wandb/run-20250822_215002-t2dhrbk2/logs</code>"
      ],
      "text/plain": [
       "<IPython.core.display.HTML object>"
      ]
     },
     "metadata": {},
     "output_type": "display_data"
    },
    {
     "data": {
      "text/html": [
       "Tracking run with wandb version 0.20.1"
      ],
      "text/plain": [
       "<IPython.core.display.HTML object>"
      ]
     },
     "metadata": {},
     "output_type": "display_data"
    },
    {
     "data": {
      "text/html": [
       "Run data is saved locally in <code>/kaggle/working/wandb/run-20250822_215946-ho6yzgzy</code>"
      ],
      "text/plain": [
       "<IPython.core.display.HTML object>"
      ]
     },
     "metadata": {},
     "output_type": "display_data"
    },
    {
     "data": {
      "text/html": [
       "Syncing run <strong><a href='https://wandb.ai/noynetanel1-tel-aviv-university/GCN%20Graph%20classification%28DD%29_Gal/runs/ho6yzgzy' target=\"_blank\">GCN_BFS_seed_11</a></strong> to <a href='https://wandb.ai/noynetanel1-tel-aviv-university/GCN%20Graph%20classification%28DD%29_Gal' target=\"_blank\">Weights & Biases</a> (<a href='https://wandb.me/developer-guide' target=\"_blank\">docs</a>)<br>"
      ],
      "text/plain": [
       "<IPython.core.display.HTML object>"
      ]
     },
     "metadata": {},
     "output_type": "display_data"
    },
    {
     "data": {
      "text/html": [
       " View project at <a href='https://wandb.ai/noynetanel1-tel-aviv-university/GCN%20Graph%20classification%28DD%29_Gal' target=\"_blank\">https://wandb.ai/noynetanel1-tel-aviv-university/GCN%20Graph%20classification%28DD%29_Gal</a>"
      ],
      "text/plain": [
       "<IPython.core.display.HTML object>"
      ]
     },
     "metadata": {},
     "output_type": "display_data"
    },
    {
     "data": {
      "text/html": [
       " View run at <a href='https://wandb.ai/noynetanel1-tel-aviv-university/GCN%20Graph%20classification%28DD%29_Gal/runs/ho6yzgzy' target=\"_blank\">https://wandb.ai/noynetanel1-tel-aviv-university/GCN%20Graph%20classification%28DD%29_Gal/runs/ho6yzgzy</a>"
      ],
      "text/plain": [
       "<IPython.core.display.HTML object>"
      ]
     },
     "metadata": {},
     "output_type": "display_data"
    },
    {
     "name": "stdout",
     "output_type": "stream",
     "text": [
      "Seed 11 | Epoch 001 | Loss: 0.6819 | Test Acc: 0.5593\n",
      "Seed 11 | Epoch 002 | Loss: 0.6752 | Test Acc: 0.5593\n",
      "Seed 11 | Epoch 003 | Loss: 0.6725 | Test Acc: 0.5593\n",
      "Seed 11 | Epoch 004 | Loss: 0.6691 | Test Acc: 0.5593\n",
      "Seed 11 | Epoch 005 | Loss: 0.6644 | Test Acc: 0.5636\n",
      "Seed 11 | Epoch 006 | Loss: 0.6562 | Test Acc: 0.5636\n",
      "Seed 11 | Epoch 007 | Loss: 0.6564 | Test Acc: 0.5636\n",
      "Seed 11 | Epoch 008 | Loss: 0.6315 | Test Acc: 0.5678\n",
      "Seed 11 | Epoch 009 | Loss: 0.6304 | Test Acc: 0.5975\n",
      "Seed 11 | Epoch 010 | Loss: 0.6109 | Test Acc: 0.6441\n",
      "Seed 11 | Epoch 011 | Loss: 0.6020 | Test Acc: 0.6398\n",
      "Seed 11 | Epoch 012 | Loss: 0.6014 | Test Acc: 0.6441\n",
      "Seed 11 | Epoch 013 | Loss: 0.5975 | Test Acc: 0.6568\n",
      "Seed 11 | Epoch 014 | Loss: 0.5904 | Test Acc: 0.6398\n",
      "Seed 11 | Epoch 015 | Loss: 0.5796 | Test Acc: 0.6441\n",
      "Seed 11 | Epoch 016 | Loss: 0.5732 | Test Acc: 0.6229\n",
      "Seed 11 | Epoch 017 | Loss: 0.5722 | Test Acc: 0.6525\n",
      "Seed 11 | Epoch 018 | Loss: 0.5662 | Test Acc: 0.6653\n",
      "Seed 11 | Epoch 019 | Loss: 0.5685 | Test Acc: 0.6525\n",
      "Seed 11 | Epoch 020 | Loss: 0.5570 | Test Acc: 0.6568\n",
      "Seed 11 | Epoch 021 | Loss: 0.5618 | Test Acc: 0.6314\n",
      "Seed 11 | Epoch 022 | Loss: 0.5516 | Test Acc: 0.6229\n",
      "Seed 11 | Epoch 023 | Loss: 0.5512 | Test Acc: 0.6398\n",
      "Seed 11 | Epoch 024 | Loss: 0.5499 | Test Acc: 0.6144\n",
      "Seed 11 | Epoch 025 | Loss: 0.5540 | Test Acc: 0.6398\n",
      "Seed 11 | Epoch 026 | Loss: 0.5451 | Test Acc: 0.6441\n",
      "Seed 11 | Epoch 027 | Loss: 0.5409 | Test Acc: 0.6102\n",
      "Seed 11 | Epoch 028 | Loss: 0.5400 | Test Acc: 0.6356\n",
      "Seed 11 | Epoch 029 | Loss: 0.5464 | Test Acc: 0.6525\n",
      "Seed 11 | Epoch 030 | Loss: 0.5392 | Test Acc: 0.6568\n",
      "Seed 11 | Epoch 031 | Loss: 0.5349 | Test Acc: 0.6144\n",
      "Seed 11 | Epoch 032 | Loss: 0.5344 | Test Acc: 0.6398\n",
      "Seed 11 | Epoch 033 | Loss: 0.5354 | Test Acc: 0.6483\n",
      "Seed 11 | Epoch 034 | Loss: 0.5291 | Test Acc: 0.6144\n",
      "Seed 11 | Epoch 035 | Loss: 0.5239 | Test Acc: 0.6356\n",
      "Seed 11 | Epoch 036 | Loss: 0.5298 | Test Acc: 0.6356\n",
      "Seed 11 | Epoch 037 | Loss: 0.5276 | Test Acc: 0.6271\n",
      "Seed 11 | Epoch 038 | Loss: 0.5248 | Test Acc: 0.6356\n",
      "Seed 11 | Epoch 039 | Loss: 0.5166 | Test Acc: 0.6441\n",
      "Seed 11 | Epoch 040 | Loss: 0.5217 | Test Acc: 0.6356\n",
      "Seed 11 | Epoch 041 | Loss: 0.5184 | Test Acc: 0.6271\n",
      "Seed 11 | Epoch 042 | Loss: 0.5125 | Test Acc: 0.6229\n",
      "Seed 11 | Epoch 043 | Loss: 0.5330 | Test Acc: 0.6314\n",
      "Seed 11 | Epoch 044 | Loss: 0.5107 | Test Acc: 0.6314\n",
      "Seed 11 | Epoch 045 | Loss: 0.5066 | Test Acc: 0.6356\n",
      "Seed 11 | Epoch 046 | Loss: 0.5132 | Test Acc: 0.6314\n",
      "Seed 11 | Epoch 047 | Loss: 0.5124 | Test Acc: 0.6314\n",
      "Seed 11 | Epoch 048 | Loss: 0.5104 | Test Acc: 0.6356\n",
      "Seed 11 | Epoch 049 | Loss: 0.5046 | Test Acc: 0.6398\n",
      "Seed 11 | Epoch 050 | Loss: 0.5120 | Test Acc: 0.6525\n"
     ]
    },
    {
     "data": {
      "text/html": [],
      "text/plain": [
       "<IPython.core.display.HTML object>"
      ]
     },
     "metadata": {},
     "output_type": "display_data"
    },
    {
     "data": {
      "text/html": [
       "<br>    <style><br>        .wandb-row {<br>            display: flex;<br>            flex-direction: row;<br>            flex-wrap: wrap;<br>            justify-content: flex-start;<br>            width: 100%;<br>        }<br>        .wandb-col {<br>            display: flex;<br>            flex-direction: column;<br>            flex-basis: 100%;<br>            flex: 1;<br>            padding: 10px;<br>        }<br>    </style><br><div class=\"wandb-row\"><div class=\"wandb-col\"><h3>Run history:</h3><br/><table class=\"wandb\"><tr><td>epoch</td><td>▁▁▁▁▂▂▂▂▂▃▃▃▃▃▃▄▄▄▄▄▅▅▅▅▅▆▆▆▆▆▆▇▇▇▇▇▇███</td></tr><tr><td>loss</td><td>███▇▇▇▆▅▅▅▄▄▄▄▃▃▃▃▃▃▃▂▂▃▂▂▂▂▂▂▁▂▁▁▂▁▁▁▁▁</td></tr><tr><td>test_acc</td><td>▁▁▁▁▁▁▂▄▇▇█▇▇▆███▆▆▇▇▇▅▆█▅▇▇▅▆▆▆▇▆▆▆▆▆▆█</td></tr><tr><td>train_acc</td><td>▁▁▁▁▁▁▂▃▅▅▆▆▆▆▆▆▇▇▇▇▇▇▇▆▇▇▇▇██████▇████▇</td></tr></table><br/></div><div class=\"wandb-col\"><h3>Run summary:</h3><br/><table class=\"wandb\"><tr><td>epoch</td><td>50</td></tr><tr><td>loss</td><td>0.51196</td></tr><tr><td>test_acc</td><td>0.65254</td></tr><tr><td>train_acc</td><td>0.74947</td></tr></table><br/></div></div>"
      ],
      "text/plain": [
       "<IPython.core.display.HTML object>"
      ]
     },
     "metadata": {},
     "output_type": "display_data"
    },
    {
     "data": {
      "text/html": [
       " View run <strong style=\"color:#cdcd00\">GCN_BFS_seed_11</strong> at: <a href='https://wandb.ai/noynetanel1-tel-aviv-university/GCN%20Graph%20classification%28DD%29_Gal/runs/ho6yzgzy' target=\"_blank\">https://wandb.ai/noynetanel1-tel-aviv-university/GCN%20Graph%20classification%28DD%29_Gal/runs/ho6yzgzy</a><br> View project at: <a href='https://wandb.ai/noynetanel1-tel-aviv-university/GCN%20Graph%20classification%28DD%29_Gal' target=\"_blank\">https://wandb.ai/noynetanel1-tel-aviv-university/GCN%20Graph%20classification%28DD%29_Gal</a><br>Synced 5 W&B file(s), 0 media file(s), 0 artifact file(s) and 0 other file(s)"
      ],
      "text/plain": [
       "<IPython.core.display.HTML object>"
      ]
     },
     "metadata": {},
     "output_type": "display_data"
    },
    {
     "data": {
      "text/html": [
       "Find logs at: <code>./wandb/run-20250822_215946-ho6yzgzy/logs</code>"
      ],
      "text/plain": [
       "<IPython.core.display.HTML object>"
      ]
     },
     "metadata": {},
     "output_type": "display_data"
    },
    {
     "data": {
      "text/html": [
       "Tracking run with wandb version 0.20.1"
      ],
      "text/plain": [
       "<IPython.core.display.HTML object>"
      ]
     },
     "metadata": {},
     "output_type": "display_data"
    },
    {
     "data": {
      "text/html": [
       "Run data is saved locally in <code>/kaggle/working/wandb/run-20250822_220901-cyjpb7m2</code>"
      ],
      "text/plain": [
       "<IPython.core.display.HTML object>"
      ]
     },
     "metadata": {},
     "output_type": "display_data"
    },
    {
     "data": {
      "text/html": [
       "Syncing run <strong><a href='https://wandb.ai/noynetanel1-tel-aviv-university/GCN%20Graph%20classification%28DD%29_Gal/runs/cyjpb7m2' target=\"_blank\">GCN_BFS_seed_12</a></strong> to <a href='https://wandb.ai/noynetanel1-tel-aviv-university/GCN%20Graph%20classification%28DD%29_Gal' target=\"_blank\">Weights & Biases</a> (<a href='https://wandb.me/developer-guide' target=\"_blank\">docs</a>)<br>"
      ],
      "text/plain": [
       "<IPython.core.display.HTML object>"
      ]
     },
     "metadata": {},
     "output_type": "display_data"
    },
    {
     "data": {
      "text/html": [
       " View project at <a href='https://wandb.ai/noynetanel1-tel-aviv-university/GCN%20Graph%20classification%28DD%29_Gal' target=\"_blank\">https://wandb.ai/noynetanel1-tel-aviv-university/GCN%20Graph%20classification%28DD%29_Gal</a>"
      ],
      "text/plain": [
       "<IPython.core.display.HTML object>"
      ]
     },
     "metadata": {},
     "output_type": "display_data"
    },
    {
     "data": {
      "text/html": [
       " View run at <a href='https://wandb.ai/noynetanel1-tel-aviv-university/GCN%20Graph%20classification%28DD%29_Gal/runs/cyjpb7m2' target=\"_blank\">https://wandb.ai/noynetanel1-tel-aviv-university/GCN%20Graph%20classification%28DD%29_Gal/runs/cyjpb7m2</a>"
      ],
      "text/plain": [
       "<IPython.core.display.HTML object>"
      ]
     },
     "metadata": {},
     "output_type": "display_data"
    },
    {
     "name": "stdout",
     "output_type": "stream",
     "text": [
      "Seed 12 | Epoch 001 | Loss: 0.6806 | Test Acc: 0.5847\n",
      "Seed 12 | Epoch 002 | Loss: 0.6753 | Test Acc: 0.5847\n",
      "Seed 12 | Epoch 003 | Loss: 0.6727 | Test Acc: 0.5847\n",
      "Seed 12 | Epoch 004 | Loss: 0.6678 | Test Acc: 0.5805\n",
      "Seed 12 | Epoch 005 | Loss: 0.6607 | Test Acc: 0.5890\n",
      "Seed 12 | Epoch 006 | Loss: 0.6505 | Test Acc: 0.5932\n",
      "Seed 12 | Epoch 007 | Loss: 0.6352 | Test Acc: 0.6568\n",
      "Seed 12 | Epoch 008 | Loss: 0.6135 | Test Acc: 0.6102\n",
      "Seed 12 | Epoch 009 | Loss: 0.6042 | Test Acc: 0.6525\n",
      "Seed 12 | Epoch 010 | Loss: 0.5989 | Test Acc: 0.6398\n",
      "Seed 12 | Epoch 011 | Loss: 0.6039 | Test Acc: 0.6483\n",
      "Seed 12 | Epoch 012 | Loss: 0.5800 | Test Acc: 0.6610\n",
      "Seed 12 | Epoch 013 | Loss: 0.5854 | Test Acc: 0.6737\n",
      "Seed 12 | Epoch 014 | Loss: 0.5724 | Test Acc: 0.6695\n",
      "Seed 12 | Epoch 015 | Loss: 0.5682 | Test Acc: 0.6568\n",
      "Seed 12 | Epoch 016 | Loss: 0.5673 | Test Acc: 0.6568\n",
      "Seed 12 | Epoch 017 | Loss: 0.5758 | Test Acc: 0.6653\n",
      "Seed 12 | Epoch 018 | Loss: 0.5680 | Test Acc: 0.6737\n",
      "Seed 12 | Epoch 019 | Loss: 0.5652 | Test Acc: 0.6822\n",
      "Seed 12 | Epoch 020 | Loss: 0.5621 | Test Acc: 0.6737\n",
      "Seed 12 | Epoch 021 | Loss: 0.5617 | Test Acc: 0.6780\n",
      "Seed 12 | Epoch 022 | Loss: 0.5572 | Test Acc: 0.6653\n",
      "Seed 12 | Epoch 023 | Loss: 0.5580 | Test Acc: 0.6653\n",
      "Seed 12 | Epoch 024 | Loss: 0.5627 | Test Acc: 0.6737\n",
      "Seed 12 | Epoch 025 | Loss: 0.5581 | Test Acc: 0.6780\n",
      "Seed 12 | Epoch 026 | Loss: 0.5662 | Test Acc: 0.6780\n",
      "Seed 12 | Epoch 027 | Loss: 0.5736 | Test Acc: 0.6737\n",
      "Seed 12 | Epoch 028 | Loss: 0.5638 | Test Acc: 0.6102\n",
      "Seed 12 | Epoch 029 | Loss: 0.5617 | Test Acc: 0.6822\n",
      "Seed 12 | Epoch 030 | Loss: 0.5621 | Test Acc: 0.6610\n",
      "Seed 12 | Epoch 031 | Loss: 0.5587 | Test Acc: 0.6737\n",
      "Seed 12 | Epoch 032 | Loss: 0.5607 | Test Acc: 0.6610\n",
      "Seed 12 | Epoch 033 | Loss: 0.5586 | Test Acc: 0.6822\n",
      "Seed 12 | Epoch 034 | Loss: 0.5590 | Test Acc: 0.6822\n",
      "Seed 12 | Epoch 035 | Loss: 0.5433 | Test Acc: 0.6737\n",
      "Seed 12 | Epoch 036 | Loss: 0.5492 | Test Acc: 0.6610\n",
      "Seed 12 | Epoch 037 | Loss: 0.5541 | Test Acc: 0.6780\n",
      "Seed 12 | Epoch 038 | Loss: 0.5447 | Test Acc: 0.6780\n",
      "Seed 12 | Epoch 039 | Loss: 0.5360 | Test Acc: 0.6568\n",
      "Seed 12 | Epoch 040 | Loss: 0.5538 | Test Acc: 0.6780\n",
      "Seed 12 | Epoch 041 | Loss: 0.5508 | Test Acc: 0.6737\n",
      "Seed 12 | Epoch 042 | Loss: 0.5410 | Test Acc: 0.6864\n",
      "Seed 12 | Epoch 043 | Loss: 0.5413 | Test Acc: 0.6780\n",
      "Seed 12 | Epoch 044 | Loss: 0.5444 | Test Acc: 0.6737\n",
      "Seed 12 | Epoch 045 | Loss: 0.5393 | Test Acc: 0.6780\n",
      "Seed 12 | Epoch 046 | Loss: 0.5422 | Test Acc: 0.6737\n",
      "Seed 12 | Epoch 047 | Loss: 0.5397 | Test Acc: 0.6780\n",
      "Seed 12 | Epoch 048 | Loss: 0.5403 | Test Acc: 0.6864\n",
      "Seed 12 | Epoch 049 | Loss: 0.5300 | Test Acc: 0.6864\n",
      "Seed 12 | Epoch 050 | Loss: 0.5361 | Test Acc: 0.6822\n"
     ]
    },
    {
     "data": {
      "text/html": [],
      "text/plain": [
       "<IPython.core.display.HTML object>"
      ]
     },
     "metadata": {},
     "output_type": "display_data"
    },
    {
     "data": {
      "text/html": [
       "<br>    <style><br>        .wandb-row {<br>            display: flex;<br>            flex-direction: row;<br>            flex-wrap: wrap;<br>            justify-content: flex-start;<br>            width: 100%;<br>        }<br>        .wandb-col {<br>            display: flex;<br>            flex-direction: column;<br>            flex-basis: 100%;<br>            flex: 1;<br>            padding: 10px;<br>        }<br>    </style><br><div class=\"wandb-row\"><div class=\"wandb-col\"><h3>Run history:</h3><br/><table class=\"wandb\"><tr><td>epoch</td><td>▁▁▁▁▂▂▂▂▂▃▃▃▃▃▃▄▄▄▄▄▅▅▅▅▅▅▆▆▆▆▆▆▇▇▇▇▇███</td></tr><tr><td>loss</td><td>███▇▇▅▄▄▄▃▃▃▃▃▂▂▂▂▂▂▃▂▂▂▂▂▂▁▂▂▁▂▂▁▁▁▁▁▁▁</td></tr><tr><td>test_acc</td><td>▁▁▁▁▂▆▃▆▅▅▇▆▆▇▇▇▇▇▇▇▇▇▃█▆▆██▇▆▇▆▇▇█▇▇▇██</td></tr><tr><td>train_acc</td><td>▁▁▁▁▁▅▆▅▅▅▇▇▇▇▇▇▇▇▇▇▇▇▄▇███▇▇▇▇▇███▇███▇</td></tr></table><br/></div><div class=\"wandb-col\"><h3>Run summary:</h3><br/><table class=\"wandb\"><tr><td>epoch</td><td>50</td></tr><tr><td>loss</td><td>0.53608</td></tr><tr><td>test_acc</td><td>0.6822</td></tr><tr><td>train_acc</td><td>0.74522</td></tr></table><br/></div></div>"
      ],
      "text/plain": [
       "<IPython.core.display.HTML object>"
      ]
     },
     "metadata": {},
     "output_type": "display_data"
    },
    {
     "data": {
      "text/html": [
       " View run <strong style=\"color:#cdcd00\">GCN_BFS_seed_12</strong> at: <a href='https://wandb.ai/noynetanel1-tel-aviv-university/GCN%20Graph%20classification%28DD%29_Gal/runs/cyjpb7m2' target=\"_blank\">https://wandb.ai/noynetanel1-tel-aviv-university/GCN%20Graph%20classification%28DD%29_Gal/runs/cyjpb7m2</a><br> View project at: <a href='https://wandb.ai/noynetanel1-tel-aviv-university/GCN%20Graph%20classification%28DD%29_Gal' target=\"_blank\">https://wandb.ai/noynetanel1-tel-aviv-university/GCN%20Graph%20classification%28DD%29_Gal</a><br>Synced 5 W&B file(s), 0 media file(s), 0 artifact file(s) and 0 other file(s)"
      ],
      "text/plain": [
       "<IPython.core.display.HTML object>"
      ]
     },
     "metadata": {},
     "output_type": "display_data"
    },
    {
     "data": {
      "text/html": [
       "Find logs at: <code>./wandb/run-20250822_220901-cyjpb7m2/logs</code>"
      ],
      "text/plain": [
       "<IPython.core.display.HTML object>"
      ]
     },
     "metadata": {},
     "output_type": "display_data"
    },
    {
     "data": {
      "text/html": [
       "Tracking run with wandb version 0.20.1"
      ],
      "text/plain": [
       "<IPython.core.display.HTML object>"
      ]
     },
     "metadata": {},
     "output_type": "display_data"
    },
    {
     "data": {
      "text/html": [
       "Run data is saved locally in <code>/kaggle/working/wandb/run-20250822_221819-gsy6fbf0</code>"
      ],
      "text/plain": [
       "<IPython.core.display.HTML object>"
      ]
     },
     "metadata": {},
     "output_type": "display_data"
    },
    {
     "data": {
      "text/html": [
       "Syncing run <strong><a href='https://wandb.ai/noynetanel1-tel-aviv-university/GCN%20Graph%20classification%28DD%29_Gal/runs/gsy6fbf0' target=\"_blank\">GCN_BFS_seed_13</a></strong> to <a href='https://wandb.ai/noynetanel1-tel-aviv-university/GCN%20Graph%20classification%28DD%29_Gal' target=\"_blank\">Weights & Biases</a> (<a href='https://wandb.me/developer-guide' target=\"_blank\">docs</a>)<br>"
      ],
      "text/plain": [
       "<IPython.core.display.HTML object>"
      ]
     },
     "metadata": {},
     "output_type": "display_data"
    },
    {
     "data": {
      "text/html": [
       " View project at <a href='https://wandb.ai/noynetanel1-tel-aviv-university/GCN%20Graph%20classification%28DD%29_Gal' target=\"_blank\">https://wandb.ai/noynetanel1-tel-aviv-university/GCN%20Graph%20classification%28DD%29_Gal</a>"
      ],
      "text/plain": [
       "<IPython.core.display.HTML object>"
      ]
     },
     "metadata": {},
     "output_type": "display_data"
    },
    {
     "data": {
      "text/html": [
       " View run at <a href='https://wandb.ai/noynetanel1-tel-aviv-university/GCN%20Graph%20classification%28DD%29_Gal/runs/gsy6fbf0' target=\"_blank\">https://wandb.ai/noynetanel1-tel-aviv-university/GCN%20Graph%20classification%28DD%29_Gal/runs/gsy6fbf0</a>"
      ],
      "text/plain": [
       "<IPython.core.display.HTML object>"
      ]
     },
     "metadata": {},
     "output_type": "display_data"
    },
    {
     "name": "stdout",
     "output_type": "stream",
     "text": [
      "Seed 13 | Epoch 001 | Loss: 0.6863 | Test Acc: 0.6229\n",
      "Seed 13 | Epoch 002 | Loss: 0.6794 | Test Acc: 0.6229\n",
      "Seed 13 | Epoch 003 | Loss: 0.6770 | Test Acc: 0.6229\n",
      "Seed 13 | Epoch 004 | Loss: 0.6771 | Test Acc: 0.6229\n",
      "Seed 13 | Epoch 005 | Loss: 0.6723 | Test Acc: 0.6271\n",
      "Seed 13 | Epoch 006 | Loss: 0.6645 | Test Acc: 0.6271\n",
      "Seed 13 | Epoch 007 | Loss: 0.6609 | Test Acc: 0.6441\n",
      "Seed 13 | Epoch 008 | Loss: 0.6477 | Test Acc: 0.7076\n",
      "Seed 13 | Epoch 009 | Loss: 0.6276 | Test Acc: 0.7288\n",
      "Seed 13 | Epoch 010 | Loss: 0.6197 | Test Acc: 0.6102\n",
      "Seed 13 | Epoch 011 | Loss: 0.6165 | Test Acc: 0.7288\n",
      "Seed 13 | Epoch 012 | Loss: 0.6048 | Test Acc: 0.7246\n",
      "Seed 13 | Epoch 013 | Loss: 0.5953 | Test Acc: 0.7161\n",
      "Seed 13 | Epoch 014 | Loss: 0.5944 | Test Acc: 0.6992\n",
      "Seed 13 | Epoch 015 | Loss: 0.5935 | Test Acc: 0.7034\n",
      "Seed 13 | Epoch 016 | Loss: 0.5841 | Test Acc: 0.7203\n",
      "Seed 13 | Epoch 017 | Loss: 0.5799 | Test Acc: 0.6949\n",
      "Seed 13 | Epoch 018 | Loss: 0.5792 | Test Acc: 0.7161\n",
      "Seed 13 | Epoch 019 | Loss: 0.5930 | Test Acc: 0.7076\n",
      "Seed 13 | Epoch 020 | Loss: 0.5889 | Test Acc: 0.7119\n",
      "Seed 13 | Epoch 021 | Loss: 0.5771 | Test Acc: 0.7076\n",
      "Seed 13 | Epoch 022 | Loss: 0.5792 | Test Acc: 0.7246\n",
      "Seed 13 | Epoch 023 | Loss: 0.5722 | Test Acc: 0.7246\n",
      "Seed 13 | Epoch 024 | Loss: 0.5651 | Test Acc: 0.7203\n",
      "Seed 13 | Epoch 025 | Loss: 0.5623 | Test Acc: 0.7119\n",
      "Seed 13 | Epoch 026 | Loss: 0.5680 | Test Acc: 0.7415\n",
      "Seed 13 | Epoch 027 | Loss: 0.5608 | Test Acc: 0.7246\n",
      "Seed 13 | Epoch 028 | Loss: 0.5591 | Test Acc: 0.7458\n",
      "Seed 13 | Epoch 029 | Loss: 0.5613 | Test Acc: 0.7119\n",
      "Seed 13 | Epoch 030 | Loss: 0.5681 | Test Acc: 0.7119\n",
      "Seed 13 | Epoch 031 | Loss: 0.5585 | Test Acc: 0.7415\n",
      "Seed 13 | Epoch 032 | Loss: 0.5524 | Test Acc: 0.7203\n",
      "Seed 13 | Epoch 033 | Loss: 0.5527 | Test Acc: 0.7119\n",
      "Seed 13 | Epoch 034 | Loss: 0.5522 | Test Acc: 0.7161\n",
      "Seed 13 | Epoch 035 | Loss: 0.5589 | Test Acc: 0.7161\n",
      "Seed 13 | Epoch 036 | Loss: 0.5521 | Test Acc: 0.7203\n",
      "Seed 13 | Epoch 037 | Loss: 0.5445 | Test Acc: 0.7161\n",
      "Seed 13 | Epoch 038 | Loss: 0.5491 | Test Acc: 0.7076\n",
      "Seed 13 | Epoch 039 | Loss: 0.5601 | Test Acc: 0.7203\n",
      "Seed 13 | Epoch 040 | Loss: 0.5388 | Test Acc: 0.7331\n",
      "Seed 13 | Epoch 041 | Loss: 0.5376 | Test Acc: 0.7203\n",
      "Seed 13 | Epoch 042 | Loss: 0.5358 | Test Acc: 0.7246\n",
      "Seed 13 | Epoch 043 | Loss: 0.5345 | Test Acc: 0.6907\n",
      "Seed 13 | Epoch 044 | Loss: 0.5418 | Test Acc: 0.7246\n",
      "Seed 13 | Epoch 045 | Loss: 0.5321 | Test Acc: 0.7373\n",
      "Seed 13 | Epoch 046 | Loss: 0.5288 | Test Acc: 0.7288\n",
      "Seed 13 | Epoch 047 | Loss: 0.5215 | Test Acc: 0.7415\n",
      "Seed 13 | Epoch 048 | Loss: 0.5209 | Test Acc: 0.6695\n",
      "Seed 13 | Epoch 049 | Loss: 0.5256 | Test Acc: 0.7500\n",
      "Seed 13 | Epoch 050 | Loss: 0.5191 | Test Acc: 0.7203\n"
     ]
    },
    {
     "data": {
      "text/html": [],
      "text/plain": [
       "<IPython.core.display.HTML object>"
      ]
     },
     "metadata": {},
     "output_type": "display_data"
    },
    {
     "data": {
      "text/html": [
       "<br>    <style><br>        .wandb-row {<br>            display: flex;<br>            flex-direction: row;<br>            flex-wrap: wrap;<br>            justify-content: flex-start;<br>            width: 100%;<br>        }<br>        .wandb-col {<br>            display: flex;<br>            flex-direction: column;<br>            flex-basis: 100%;<br>            flex: 1;<br>            padding: 10px;<br>        }<br>    </style><br><div class=\"wandb-row\"><div class=\"wandb-col\"><h3>Run history:</h3><br/><table class=\"wandb\"><tr><td>epoch</td><td>▁▁▁▁▂▂▂▂▃▃▃▃▃▃▄▄▄▄▄▄▅▅▅▅▅▆▆▆▆▆▆▇▇▇▇▇▇███</td></tr><tr><td>loss</td><td>████▇▆▆▅▅▅▄▄▄▄▄▃▄▃▃▃▃▃▃▃▃▂▂▃▂▂▃▂▂▂▂▂▁▁▁▁</td></tr><tr><td>test_acc</td><td>▂▂▂▂▂▃▆▁▇▇▆▆▇▅▆▆▆▇▇▇█▇█▆▆▇▆▆▆▇▆▇▇▇▇▇▇█▄▇</td></tr><tr><td>train_acc</td><td>▁▁▁▁▁▂▅▄▆▅▇▇▆▇▇▇▇▇▇▇▇▇▇▇▇▇▇▇▇▇▇▇██▇███▇▇</td></tr></table><br/></div><div class=\"wandb-col\"><h3>Run summary:</h3><br/><table class=\"wandb\"><tr><td>epoch</td><td>50</td></tr><tr><td>loss</td><td>0.51913</td></tr><tr><td>test_acc</td><td>0.72034</td></tr><tr><td>train_acc</td><td>0.72718</td></tr></table><br/></div></div>"
      ],
      "text/plain": [
       "<IPython.core.display.HTML object>"
      ]
     },
     "metadata": {},
     "output_type": "display_data"
    },
    {
     "data": {
      "text/html": [
       " View run <strong style=\"color:#cdcd00\">GCN_BFS_seed_13</strong> at: <a href='https://wandb.ai/noynetanel1-tel-aviv-university/GCN%20Graph%20classification%28DD%29_Gal/runs/gsy6fbf0' target=\"_blank\">https://wandb.ai/noynetanel1-tel-aviv-university/GCN%20Graph%20classification%28DD%29_Gal/runs/gsy6fbf0</a><br> View project at: <a href='https://wandb.ai/noynetanel1-tel-aviv-university/GCN%20Graph%20classification%28DD%29_Gal' target=\"_blank\">https://wandb.ai/noynetanel1-tel-aviv-university/GCN%20Graph%20classification%28DD%29_Gal</a><br>Synced 5 W&B file(s), 0 media file(s), 0 artifact file(s) and 0 other file(s)"
      ],
      "text/plain": [
       "<IPython.core.display.HTML object>"
      ]
     },
     "metadata": {},
     "output_type": "display_data"
    },
    {
     "data": {
      "text/html": [
       "Find logs at: <code>./wandb/run-20250822_221819-gsy6fbf0/logs</code>"
      ],
      "text/plain": [
       "<IPython.core.display.HTML object>"
      ]
     },
     "metadata": {},
     "output_type": "display_data"
    },
    {
     "data": {
      "text/html": [
       "Tracking run with wandb version 0.20.1"
      ],
      "text/plain": [
       "<IPython.core.display.HTML object>"
      ]
     },
     "metadata": {},
     "output_type": "display_data"
    },
    {
     "data": {
      "text/html": [
       "Run data is saved locally in <code>/kaggle/working/wandb/run-20250822_222747-jqzw3lgf</code>"
      ],
      "text/plain": [
       "<IPython.core.display.HTML object>"
      ]
     },
     "metadata": {},
     "output_type": "display_data"
    },
    {
     "data": {
      "text/html": [
       "Syncing run <strong><a href='https://wandb.ai/noynetanel1-tel-aviv-university/GCN%20Graph%20classification%28DD%29_Gal/runs/jqzw3lgf' target=\"_blank\">GCN_BFS_seed_14</a></strong> to <a href='https://wandb.ai/noynetanel1-tel-aviv-university/GCN%20Graph%20classification%28DD%29_Gal' target=\"_blank\">Weights & Biases</a> (<a href='https://wandb.me/developer-guide' target=\"_blank\">docs</a>)<br>"
      ],
      "text/plain": [
       "<IPython.core.display.HTML object>"
      ]
     },
     "metadata": {},
     "output_type": "display_data"
    },
    {
     "data": {
      "text/html": [
       " View project at <a href='https://wandb.ai/noynetanel1-tel-aviv-university/GCN%20Graph%20classification%28DD%29_Gal' target=\"_blank\">https://wandb.ai/noynetanel1-tel-aviv-university/GCN%20Graph%20classification%28DD%29_Gal</a>"
      ],
      "text/plain": [
       "<IPython.core.display.HTML object>"
      ]
     },
     "metadata": {},
     "output_type": "display_data"
    },
    {
     "data": {
      "text/html": [
       " View run at <a href='https://wandb.ai/noynetanel1-tel-aviv-university/GCN%20Graph%20classification%28DD%29_Gal/runs/jqzw3lgf' target=\"_blank\">https://wandb.ai/noynetanel1-tel-aviv-university/GCN%20Graph%20classification%28DD%29_Gal/runs/jqzw3lgf</a>"
      ],
      "text/plain": [
       "<IPython.core.display.HTML object>"
      ]
     },
     "metadata": {},
     "output_type": "display_data"
    },
    {
     "name": "stdout",
     "output_type": "stream",
     "text": [
      "Seed 14 | Epoch 001 | Loss: 0.6849 | Test Acc: 0.6017\n",
      "Seed 14 | Epoch 002 | Loss: 0.6795 | Test Acc: 0.6017\n",
      "Seed 14 | Epoch 003 | Loss: 0.6759 | Test Acc: 0.6017\n",
      "Seed 14 | Epoch 004 | Loss: 0.6757 | Test Acc: 0.6017\n",
      "Seed 14 | Epoch 005 | Loss: 0.6694 | Test Acc: 0.6059\n",
      "Seed 14 | Epoch 006 | Loss: 0.6563 | Test Acc: 0.6186\n",
      "Seed 14 | Epoch 007 | Loss: 0.6478 | Test Acc: 0.6568\n",
      "Seed 14 | Epoch 008 | Loss: 0.6294 | Test Acc: 0.6949\n",
      "Seed 14 | Epoch 009 | Loss: 0.6185 | Test Acc: 0.6822\n",
      "Seed 14 | Epoch 010 | Loss: 0.6023 | Test Acc: 0.6864\n",
      "Seed 14 | Epoch 011 | Loss: 0.5980 | Test Acc: 0.6907\n",
      "Seed 14 | Epoch 012 | Loss: 0.5875 | Test Acc: 0.6949\n",
      "Seed 14 | Epoch 013 | Loss: 0.5854 | Test Acc: 0.7203\n",
      "Seed 14 | Epoch 014 | Loss: 0.5791 | Test Acc: 0.6907\n",
      "Seed 14 | Epoch 015 | Loss: 0.5736 | Test Acc: 0.6907\n",
      "Seed 14 | Epoch 016 | Loss: 0.5752 | Test Acc: 0.7034\n",
      "Seed 14 | Epoch 017 | Loss: 0.5674 | Test Acc: 0.6949\n",
      "Seed 14 | Epoch 018 | Loss: 0.5736 | Test Acc: 0.7119\n",
      "Seed 14 | Epoch 019 | Loss: 0.5759 | Test Acc: 0.7034\n",
      "Seed 14 | Epoch 020 | Loss: 0.5657 | Test Acc: 0.7076\n",
      "Seed 14 | Epoch 021 | Loss: 0.5743 | Test Acc: 0.7119\n",
      "Seed 14 | Epoch 022 | Loss: 0.5679 | Test Acc: 0.7076\n",
      "Seed 14 | Epoch 023 | Loss: 0.5606 | Test Acc: 0.6907\n",
      "Seed 14 | Epoch 024 | Loss: 0.5616 | Test Acc: 0.7034\n",
      "Seed 14 | Epoch 025 | Loss: 0.5589 | Test Acc: 0.7034\n",
      "Seed 14 | Epoch 026 | Loss: 0.5547 | Test Acc: 0.7161\n",
      "Seed 14 | Epoch 027 | Loss: 0.5527 | Test Acc: 0.6949\n",
      "Seed 14 | Epoch 028 | Loss: 0.5597 | Test Acc: 0.7119\n",
      "Seed 14 | Epoch 029 | Loss: 0.5660 | Test Acc: 0.7034\n",
      "Seed 14 | Epoch 030 | Loss: 0.5563 | Test Acc: 0.7119\n",
      "Seed 14 | Epoch 031 | Loss: 0.5530 | Test Acc: 0.7034\n",
      "Seed 14 | Epoch 032 | Loss: 0.5597 | Test Acc: 0.7119\n",
      "Seed 14 | Epoch 033 | Loss: 0.5613 | Test Acc: 0.7119\n",
      "Seed 14 | Epoch 034 | Loss: 0.5443 | Test Acc: 0.7076\n",
      "Seed 14 | Epoch 035 | Loss: 0.5465 | Test Acc: 0.7034\n",
      "Seed 14 | Epoch 036 | Loss: 0.5654 | Test Acc: 0.7119\n",
      "Seed 14 | Epoch 037 | Loss: 0.5568 | Test Acc: 0.7119\n",
      "Seed 14 | Epoch 038 | Loss: 0.5426 | Test Acc: 0.7119\n",
      "Seed 14 | Epoch 039 | Loss: 0.5489 | Test Acc: 0.7076\n",
      "Seed 14 | Epoch 040 | Loss: 0.5497 | Test Acc: 0.6907\n",
      "Seed 14 | Epoch 041 | Loss: 0.5515 | Test Acc: 0.7119\n",
      "Seed 14 | Epoch 042 | Loss: 0.5482 | Test Acc: 0.7246\n",
      "Seed 14 | Epoch 043 | Loss: 0.5385 | Test Acc: 0.7161\n",
      "Seed 14 | Epoch 044 | Loss: 0.5449 | Test Acc: 0.7076\n",
      "Seed 14 | Epoch 045 | Loss: 0.5486 | Test Acc: 0.6653\n",
      "Seed 14 | Epoch 046 | Loss: 0.5495 | Test Acc: 0.7203\n",
      "Seed 14 | Epoch 047 | Loss: 0.5332 | Test Acc: 0.7246\n",
      "Seed 14 | Epoch 048 | Loss: 0.5393 | Test Acc: 0.7246\n",
      "Seed 14 | Epoch 049 | Loss: 0.5411 | Test Acc: 0.7076\n",
      "Seed 14 | Epoch 050 | Loss: 0.5351 | Test Acc: 0.7288\n"
     ]
    },
    {
     "data": {
      "text/html": [],
      "text/plain": [
       "<IPython.core.display.HTML object>"
      ]
     },
     "metadata": {},
     "output_type": "display_data"
    },
    {
     "data": {
      "text/html": [
       "<br>    <style><br>        .wandb-row {<br>            display: flex;<br>            flex-direction: row;<br>            flex-wrap: wrap;<br>            justify-content: flex-start;<br>            width: 100%;<br>        }<br>        .wandb-col {<br>            display: flex;<br>            flex-direction: column;<br>            flex-basis: 100%;<br>            flex: 1;<br>            padding: 10px;<br>        }<br>    </style><br><div class=\"wandb-row\"><div class=\"wandb-col\"><h3>Run history:</h3><br/><table class=\"wandb\"><tr><td>epoch</td><td>▁▁▁▁▂▂▂▂▂▂▃▃▃▃▃▄▄▄▄▄▄▅▅▅▅▅▆▆▆▆▆▇▇▇▇▇▇███</td></tr><tr><td>loss</td><td>████▇▆▅▅▄▄▃▃▃▃▃▃▂▃▃▂▂▂▂▂▂▂▂▂▁▂▂▁▂▂▂▁▁▂▂▁</td></tr><tr><td>test_acc</td><td>▁▁▁▁▁▄▆▅▆▆█▆▆▇▆▇▇▇▇▆▇▇▆▇▇▇▇▇▇▇▇▇▇▇█▇████</td></tr><tr><td>train_acc</td><td>▁▁▁▁▁▄▅▆▆▆▆▆▆▇▇▇▆▇▇▇▇▇▇▇▇▇▇▇▇▇█▇▇██▆████</td></tr></table><br/></div><div class=\"wandb-col\"><h3>Run summary:</h3><br/><table class=\"wandb\"><tr><td>epoch</td><td>50</td></tr><tr><td>loss</td><td>0.5351</td></tr><tr><td>test_acc</td><td>0.72881</td></tr><tr><td>train_acc</td><td>0.76115</td></tr></table><br/></div></div>"
      ],
      "text/plain": [
       "<IPython.core.display.HTML object>"
      ]
     },
     "metadata": {},
     "output_type": "display_data"
    },
    {
     "data": {
      "text/html": [
       " View run <strong style=\"color:#cdcd00\">GCN_BFS_seed_14</strong> at: <a href='https://wandb.ai/noynetanel1-tel-aviv-university/GCN%20Graph%20classification%28DD%29_Gal/runs/jqzw3lgf' target=\"_blank\">https://wandb.ai/noynetanel1-tel-aviv-university/GCN%20Graph%20classification%28DD%29_Gal/runs/jqzw3lgf</a><br> View project at: <a href='https://wandb.ai/noynetanel1-tel-aviv-university/GCN%20Graph%20classification%28DD%29_Gal' target=\"_blank\">https://wandb.ai/noynetanel1-tel-aviv-university/GCN%20Graph%20classification%28DD%29_Gal</a><br>Synced 5 W&B file(s), 0 media file(s), 0 artifact file(s) and 0 other file(s)"
      ],
      "text/plain": [
       "<IPython.core.display.HTML object>"
      ]
     },
     "metadata": {},
     "output_type": "display_data"
    },
    {
     "data": {
      "text/html": [
       "Find logs at: <code>./wandb/run-20250822_222747-jqzw3lgf/logs</code>"
      ],
      "text/plain": [
       "<IPython.core.display.HTML object>"
      ]
     },
     "metadata": {},
     "output_type": "display_data"
    },
    {
     "data": {
      "text/html": [
       "Tracking run with wandb version 0.20.1"
      ],
      "text/plain": [
       "<IPython.core.display.HTML object>"
      ]
     },
     "metadata": {},
     "output_type": "display_data"
    },
    {
     "data": {
      "text/html": [
       "Run data is saved locally in <code>/kaggle/working/wandb/run-20250822_223730-lip5lnu4</code>"
      ],
      "text/plain": [
       "<IPython.core.display.HTML object>"
      ]
     },
     "metadata": {},
     "output_type": "display_data"
    },
    {
     "data": {
      "text/html": [
       "Syncing run <strong><a href='https://wandb.ai/noynetanel1-tel-aviv-university/GCN%20Graph%20classification%28DD%29_Gal/runs/lip5lnu4' target=\"_blank\">GCN_BFS_seed_15</a></strong> to <a href='https://wandb.ai/noynetanel1-tel-aviv-university/GCN%20Graph%20classification%28DD%29_Gal' target=\"_blank\">Weights & Biases</a> (<a href='https://wandb.me/developer-guide' target=\"_blank\">docs</a>)<br>"
      ],
      "text/plain": [
       "<IPython.core.display.HTML object>"
      ]
     },
     "metadata": {},
     "output_type": "display_data"
    },
    {
     "data": {
      "text/html": [
       " View project at <a href='https://wandb.ai/noynetanel1-tel-aviv-university/GCN%20Graph%20classification%28DD%29_Gal' target=\"_blank\">https://wandb.ai/noynetanel1-tel-aviv-university/GCN%20Graph%20classification%28DD%29_Gal</a>"
      ],
      "text/plain": [
       "<IPython.core.display.HTML object>"
      ]
     },
     "metadata": {},
     "output_type": "display_data"
    },
    {
     "data": {
      "text/html": [
       " View run at <a href='https://wandb.ai/noynetanel1-tel-aviv-university/GCN%20Graph%20classification%28DD%29_Gal/runs/lip5lnu4' target=\"_blank\">https://wandb.ai/noynetanel1-tel-aviv-university/GCN%20Graph%20classification%28DD%29_Gal/runs/lip5lnu4</a>"
      ],
      "text/plain": [
       "<IPython.core.display.HTML object>"
      ]
     },
     "metadata": {},
     "output_type": "display_data"
    },
    {
     "name": "stdout",
     "output_type": "stream",
     "text": [
      "Seed 15 | Epoch 001 | Loss: 0.6804 | Test Acc: 0.6059\n",
      "Seed 15 | Epoch 002 | Loss: 0.6794 | Test Acc: 0.6059\n",
      "Seed 15 | Epoch 003 | Loss: 0.6763 | Test Acc: 0.6059\n",
      "Seed 15 | Epoch 004 | Loss: 0.6745 | Test Acc: 0.6059\n",
      "Seed 15 | Epoch 005 | Loss: 0.6670 | Test Acc: 0.6102\n",
      "Seed 15 | Epoch 006 | Loss: 0.6584 | Test Acc: 0.6017\n",
      "Seed 15 | Epoch 007 | Loss: 0.6555 | Test Acc: 0.6398\n",
      "Seed 15 | Epoch 008 | Loss: 0.6390 | Test Acc: 0.6822\n",
      "Seed 15 | Epoch 009 | Loss: 0.6234 | Test Acc: 0.6780\n",
      "Seed 15 | Epoch 010 | Loss: 0.6039 | Test Acc: 0.6780\n",
      "Seed 15 | Epoch 011 | Loss: 0.6130 | Test Acc: 0.6780\n",
      "Seed 15 | Epoch 012 | Loss: 0.5994 | Test Acc: 0.6907\n",
      "Seed 15 | Epoch 013 | Loss: 0.5883 | Test Acc: 0.6949\n",
      "Seed 15 | Epoch 014 | Loss: 0.5813 | Test Acc: 0.6949\n",
      "Seed 15 | Epoch 015 | Loss: 0.5797 | Test Acc: 0.6822\n",
      "Seed 15 | Epoch 016 | Loss: 0.5695 | Test Acc: 0.6949\n",
      "Seed 15 | Epoch 017 | Loss: 0.5666 | Test Acc: 0.6992\n",
      "Seed 15 | Epoch 018 | Loss: 0.5719 | Test Acc: 0.7034\n",
      "Seed 15 | Epoch 019 | Loss: 0.5625 | Test Acc: 0.6949\n",
      "Seed 15 | Epoch 020 | Loss: 0.5695 | Test Acc: 0.7119\n",
      "Seed 15 | Epoch 021 | Loss: 0.5601 | Test Acc: 0.6356\n",
      "Seed 15 | Epoch 022 | Loss: 0.5624 | Test Acc: 0.7203\n",
      "Seed 15 | Epoch 023 | Loss: 0.5503 | Test Acc: 0.7034\n",
      "Seed 15 | Epoch 024 | Loss: 0.5481 | Test Acc: 0.7203\n",
      "Seed 15 | Epoch 025 | Loss: 0.5533 | Test Acc: 0.6992\n",
      "Seed 15 | Epoch 026 | Loss: 0.5495 | Test Acc: 0.6992\n",
      "Seed 15 | Epoch 027 | Loss: 0.5439 | Test Acc: 0.7119\n",
      "Seed 15 | Epoch 028 | Loss: 0.5480 | Test Acc: 0.6907\n",
      "Seed 15 | Epoch 029 | Loss: 0.5506 | Test Acc: 0.7034\n",
      "Seed 15 | Epoch 030 | Loss: 0.5406 | Test Acc: 0.7034\n",
      "Seed 15 | Epoch 031 | Loss: 0.5436 | Test Acc: 0.6822\n",
      "Seed 15 | Epoch 032 | Loss: 0.5406 | Test Acc: 0.7076\n",
      "Seed 15 | Epoch 033 | Loss: 0.5357 | Test Acc: 0.7034\n",
      "Seed 15 | Epoch 034 | Loss: 0.5392 | Test Acc: 0.6907\n",
      "Seed 15 | Epoch 035 | Loss: 0.5357 | Test Acc: 0.7034\n",
      "Seed 15 | Epoch 036 | Loss: 0.5307 | Test Acc: 0.7203\n",
      "Seed 15 | Epoch 037 | Loss: 0.5329 | Test Acc: 0.7076\n",
      "Seed 15 | Epoch 038 | Loss: 0.5268 | Test Acc: 0.7203\n",
      "Seed 15 | Epoch 039 | Loss: 0.5290 | Test Acc: 0.7076\n",
      "Seed 15 | Epoch 040 | Loss: 0.5358 | Test Acc: 0.6610\n",
      "Seed 15 | Epoch 041 | Loss: 0.5312 | Test Acc: 0.6653\n",
      "Seed 15 | Epoch 042 | Loss: 0.5270 | Test Acc: 0.7076\n",
      "Seed 15 | Epoch 043 | Loss: 0.5205 | Test Acc: 0.6864\n",
      "Seed 15 | Epoch 044 | Loss: 0.5208 | Test Acc: 0.6864\n",
      "Seed 15 | Epoch 045 | Loss: 0.5181 | Test Acc: 0.6864\n",
      "Seed 15 | Epoch 046 | Loss: 0.5202 | Test Acc: 0.7246\n",
      "Seed 15 | Epoch 047 | Loss: 0.5173 | Test Acc: 0.6992\n",
      "Seed 15 | Epoch 048 | Loss: 0.5247 | Test Acc: 0.6907\n",
      "Seed 15 | Epoch 049 | Loss: 0.5144 | Test Acc: 0.7161\n",
      "Seed 15 | Epoch 050 | Loss: 0.5216 | Test Acc: 0.7203\n"
     ]
    },
    {
     "data": {
      "text/html": [],
      "text/plain": [
       "<IPython.core.display.HTML object>"
      ]
     },
     "metadata": {},
     "output_type": "display_data"
    },
    {
     "data": {
      "text/html": [
       "<br>    <style><br>        .wandb-row {<br>            display: flex;<br>            flex-direction: row;<br>            flex-wrap: wrap;<br>            justify-content: flex-start;<br>            width: 100%;<br>        }<br>        .wandb-col {<br>            display: flex;<br>            flex-direction: column;<br>            flex-basis: 100%;<br>            flex: 1;<br>            padding: 10px;<br>        }<br>    </style><br><div class=\"wandb-row\"><div class=\"wandb-col\"><h3>Run history:</h3><br/><table class=\"wandb\"><tr><td>epoch</td><td>▁▁▁▁▂▂▂▂▂▂▃▃▃▃▃▄▄▄▄▄▅▅▅▅▅▆▆▆▆▆▆▇▇▇▇▇▇███</td></tr><tr><td>loss</td><td>████▇▆▆▅▅▅▄▄▃▃▃▃▃▃▂▂▂▂▂▂▂▂▂▂▂▂▁▂▂▁▁▁▁▁▁▁</td></tr><tr><td>test_acc</td><td>▁▁▁▁▁▆▅▅▆▆▆▆▇▇▆▃█▇█▇▇▆▇▇▆▇▆▇█▇▇▄▅▇▆▆█▇▆█</td></tr><tr><td>train_acc</td><td>▁▁▁▁▁▃▅▆▅▆▆▆▆▇▇▇▆▅▆▇▇▇▇▇▇▇▇▆▇██▇█▇███▇██</td></tr></table><br/></div><div class=\"wandb-col\"><h3>Run summary:</h3><br/><table class=\"wandb\"><tr><td>epoch</td><td>50</td></tr><tr><td>loss</td><td>0.52156</td></tr><tr><td>test_acc</td><td>0.72034</td></tr><tr><td>train_acc</td><td>0.77389</td></tr></table><br/></div></div>"
      ],
      "text/plain": [
       "<IPython.core.display.HTML object>"
      ]
     },
     "metadata": {},
     "output_type": "display_data"
    },
    {
     "data": {
      "text/html": [
       " View run <strong style=\"color:#cdcd00\">GCN_BFS_seed_15</strong> at: <a href='https://wandb.ai/noynetanel1-tel-aviv-university/GCN%20Graph%20classification%28DD%29_Gal/runs/lip5lnu4' target=\"_blank\">https://wandb.ai/noynetanel1-tel-aviv-university/GCN%20Graph%20classification%28DD%29_Gal/runs/lip5lnu4</a><br> View project at: <a href='https://wandb.ai/noynetanel1-tel-aviv-university/GCN%20Graph%20classification%28DD%29_Gal' target=\"_blank\">https://wandb.ai/noynetanel1-tel-aviv-university/GCN%20Graph%20classification%28DD%29_Gal</a><br>Synced 5 W&B file(s), 0 media file(s), 0 artifact file(s) and 0 other file(s)"
      ],
      "text/plain": [
       "<IPython.core.display.HTML object>"
      ]
     },
     "metadata": {},
     "output_type": "display_data"
    },
    {
     "data": {
      "text/html": [
       "Find logs at: <code>./wandb/run-20250822_223730-lip5lnu4/logs</code>"
      ],
      "text/plain": [
       "<IPython.core.display.HTML object>"
      ]
     },
     "metadata": {},
     "output_type": "display_data"
    },
    {
     "data": {
      "text/html": [
       "Tracking run with wandb version 0.20.1"
      ],
      "text/plain": [
       "<IPython.core.display.HTML object>"
      ]
     },
     "metadata": {},
     "output_type": "display_data"
    },
    {
     "data": {
      "text/html": [
       "Run data is saved locally in <code>/kaggle/working/wandb/run-20250822_224716-lj5a5q05</code>"
      ],
      "text/plain": [
       "<IPython.core.display.HTML object>"
      ]
     },
     "metadata": {},
     "output_type": "display_data"
    },
    {
     "data": {
      "text/html": [
       "Syncing run <strong><a href='https://wandb.ai/noynetanel1-tel-aviv-university/GCN%20Graph%20classification%28DD%29_Gal/runs/lj5a5q05' target=\"_blank\">GCN_BFS_seed_16</a></strong> to <a href='https://wandb.ai/noynetanel1-tel-aviv-university/GCN%20Graph%20classification%28DD%29_Gal' target=\"_blank\">Weights & Biases</a> (<a href='https://wandb.me/developer-guide' target=\"_blank\">docs</a>)<br>"
      ],
      "text/plain": [
       "<IPython.core.display.HTML object>"
      ]
     },
     "metadata": {},
     "output_type": "display_data"
    },
    {
     "data": {
      "text/html": [
       " View project at <a href='https://wandb.ai/noynetanel1-tel-aviv-university/GCN%20Graph%20classification%28DD%29_Gal' target=\"_blank\">https://wandb.ai/noynetanel1-tel-aviv-university/GCN%20Graph%20classification%28DD%29_Gal</a>"
      ],
      "text/plain": [
       "<IPython.core.display.HTML object>"
      ]
     },
     "metadata": {},
     "output_type": "display_data"
    },
    {
     "data": {
      "text/html": [
       " View run at <a href='https://wandb.ai/noynetanel1-tel-aviv-university/GCN%20Graph%20classification%28DD%29_Gal/runs/lj5a5q05' target=\"_blank\">https://wandb.ai/noynetanel1-tel-aviv-university/GCN%20Graph%20classification%28DD%29_Gal/runs/lj5a5q05</a>"
      ],
      "text/plain": [
       "<IPython.core.display.HTML object>"
      ]
     },
     "metadata": {},
     "output_type": "display_data"
    },
    {
     "name": "stdout",
     "output_type": "stream",
     "text": [
      "Seed 16 | Epoch 001 | Loss: 0.6800 | Test Acc: 0.5381\n",
      "Seed 16 | Epoch 002 | Loss: 0.6716 | Test Acc: 0.5381\n",
      "Seed 16 | Epoch 003 | Loss: 0.6725 | Test Acc: 0.5381\n",
      "Seed 16 | Epoch 004 | Loss: 0.6693 | Test Acc: 0.5381\n",
      "Seed 16 | Epoch 005 | Loss: 0.6652 | Test Acc: 0.5381\n",
      "Seed 16 | Epoch 006 | Loss: 0.6593 | Test Acc: 0.5424\n",
      "Seed 16 | Epoch 007 | Loss: 0.6518 | Test Acc: 0.5381\n",
      "Seed 16 | Epoch 008 | Loss: 0.6344 | Test Acc: 0.5678\n",
      "Seed 16 | Epoch 009 | Loss: 0.6177 | Test Acc: 0.6314\n",
      "Seed 16 | Epoch 010 | Loss: 0.6091 | Test Acc: 0.6653\n",
      "Seed 16 | Epoch 011 | Loss: 0.5956 | Test Acc: 0.6398\n",
      "Seed 16 | Epoch 012 | Loss: 0.5890 | Test Acc: 0.6822\n",
      "Seed 16 | Epoch 013 | Loss: 0.5845 | Test Acc: 0.6864\n",
      "Seed 16 | Epoch 014 | Loss: 0.5782 | Test Acc: 0.6780\n",
      "Seed 16 | Epoch 015 | Loss: 0.5758 | Test Acc: 0.6992\n",
      "Seed 16 | Epoch 016 | Loss: 0.5836 | Test Acc: 0.6907\n",
      "Seed 16 | Epoch 017 | Loss: 0.5651 | Test Acc: 0.6737\n",
      "Seed 16 | Epoch 018 | Loss: 0.5880 | Test Acc: 0.6992\n",
      "Seed 16 | Epoch 019 | Loss: 0.5808 | Test Acc: 0.7034\n",
      "Seed 16 | Epoch 020 | Loss: 0.5629 | Test Acc: 0.6780\n",
      "Seed 16 | Epoch 021 | Loss: 0.5633 | Test Acc: 0.6992\n",
      "Seed 16 | Epoch 022 | Loss: 0.5584 | Test Acc: 0.7076\n",
      "Seed 16 | Epoch 023 | Loss: 0.5590 | Test Acc: 0.7034\n",
      "Seed 16 | Epoch 024 | Loss: 0.5659 | Test Acc: 0.6907\n",
      "Seed 16 | Epoch 025 | Loss: 0.5645 | Test Acc: 0.6610\n",
      "Seed 16 | Epoch 026 | Loss: 0.5650 | Test Acc: 0.6949\n",
      "Seed 16 | Epoch 027 | Loss: 0.5574 | Test Acc: 0.7076\n",
      "Seed 16 | Epoch 028 | Loss: 0.5570 | Test Acc: 0.6695\n",
      "Seed 16 | Epoch 029 | Loss: 0.5556 | Test Acc: 0.6695\n",
      "Seed 16 | Epoch 030 | Loss: 0.5519 | Test Acc: 0.7076\n",
      "Seed 16 | Epoch 031 | Loss: 0.5519 | Test Acc: 0.7119\n",
      "Seed 16 | Epoch 032 | Loss: 0.5596 | Test Acc: 0.6992\n",
      "Seed 16 | Epoch 033 | Loss: 0.5458 | Test Acc: 0.6737\n",
      "Seed 16 | Epoch 034 | Loss: 0.5465 | Test Acc: 0.6822\n",
      "Seed 16 | Epoch 035 | Loss: 0.5394 | Test Acc: 0.6483\n",
      "Seed 16 | Epoch 036 | Loss: 0.5604 | Test Acc: 0.7034\n",
      "Seed 16 | Epoch 037 | Loss: 0.5777 | Test Acc: 0.7034\n",
      "Seed 16 | Epoch 038 | Loss: 0.5436 | Test Acc: 0.6907\n",
      "Seed 16 | Epoch 039 | Loss: 0.5387 | Test Acc: 0.7034\n",
      "Seed 16 | Epoch 040 | Loss: 0.5410 | Test Acc: 0.7119\n",
      "Seed 16 | Epoch 041 | Loss: 0.5366 | Test Acc: 0.7034\n",
      "Seed 16 | Epoch 042 | Loss: 0.5330 | Test Acc: 0.6483\n",
      "Seed 16 | Epoch 043 | Loss: 0.5396 | Test Acc: 0.6949\n",
      "Seed 16 | Epoch 044 | Loss: 0.5394 | Test Acc: 0.7076\n",
      "Seed 16 | Epoch 045 | Loss: 0.5351 | Test Acc: 0.7076\n",
      "Seed 16 | Epoch 046 | Loss: 0.5380 | Test Acc: 0.6992\n",
      "Seed 16 | Epoch 047 | Loss: 0.5385 | Test Acc: 0.6949\n",
      "Seed 16 | Epoch 048 | Loss: 0.5270 | Test Acc: 0.6992\n",
      "Seed 16 | Epoch 049 | Loss: 0.5370 | Test Acc: 0.6864\n",
      "Seed 16 | Epoch 050 | Loss: 0.5332 | Test Acc: 0.6822\n"
     ]
    },
    {
     "data": {
      "text/html": [],
      "text/plain": [
       "<IPython.core.display.HTML object>"
      ]
     },
     "metadata": {},
     "output_type": "display_data"
    },
    {
     "data": {
      "text/html": [
       "<br>    <style><br>        .wandb-row {<br>            display: flex;<br>            flex-direction: row;<br>            flex-wrap: wrap;<br>            justify-content: flex-start;<br>            width: 100%;<br>        }<br>        .wandb-col {<br>            display: flex;<br>            flex-direction: column;<br>            flex-basis: 100%;<br>            flex: 1;<br>            padding: 10px;<br>        }<br>    </style><br><div class=\"wandb-row\"><div class=\"wandb-col\"><h3>Run history:</h3><br/><table class=\"wandb\"><tr><td>epoch</td><td>▁▁▁▁▂▂▂▂▂▂▃▃▃▃▃▄▄▄▄▄▅▅▅▅▅▆▆▆▆▆▆▇▇▇▇▇▇███</td></tr><tr><td>loss</td><td>████▇▇▆▅▅▄▄▃▄▃▄▃▃▂▂▃▂▂▂▂▂▂▂▂▃▃▂▂▁▁▂▁▂▂▁▁</td></tr><tr><td>test_acc</td><td>▁▁▁▁▁▁▂▅▆▅▇▇▇▇▆█▇▇██▆▇█▆▆█▇▇▅█▇███▅██▇▇▇</td></tr><tr><td>train_acc</td><td>▁▁▁▁▁▃▄▆▅▆▆▇▇▅▇▇▇▇▆▅▇▇████▇▇█▇█▇▇▇▇█▇███</td></tr></table><br/></div><div class=\"wandb-col\"><h3>Run summary:</h3><br/><table class=\"wandb\"><tr><td>epoch</td><td>50</td></tr><tr><td>loss</td><td>0.53325</td></tr><tr><td>test_acc</td><td>0.6822</td></tr><tr><td>train_acc</td><td>0.75265</td></tr></table><br/></div></div>"
      ],
      "text/plain": [
       "<IPython.core.display.HTML object>"
      ]
     },
     "metadata": {},
     "output_type": "display_data"
    },
    {
     "data": {
      "text/html": [
       " View run <strong style=\"color:#cdcd00\">GCN_BFS_seed_16</strong> at: <a href='https://wandb.ai/noynetanel1-tel-aviv-university/GCN%20Graph%20classification%28DD%29_Gal/runs/lj5a5q05' target=\"_blank\">https://wandb.ai/noynetanel1-tel-aviv-university/GCN%20Graph%20classification%28DD%29_Gal/runs/lj5a5q05</a><br> View project at: <a href='https://wandb.ai/noynetanel1-tel-aviv-university/GCN%20Graph%20classification%28DD%29_Gal' target=\"_blank\">https://wandb.ai/noynetanel1-tel-aviv-university/GCN%20Graph%20classification%28DD%29_Gal</a><br>Synced 5 W&B file(s), 0 media file(s), 0 artifact file(s) and 0 other file(s)"
      ],
      "text/plain": [
       "<IPython.core.display.HTML object>"
      ]
     },
     "metadata": {},
     "output_type": "display_data"
    },
    {
     "data": {
      "text/html": [
       "Find logs at: <code>./wandb/run-20250822_224716-lj5a5q05/logs</code>"
      ],
      "text/plain": [
       "<IPython.core.display.HTML object>"
      ]
     },
     "metadata": {},
     "output_type": "display_data"
    },
    {
     "data": {
      "text/html": [
       "Tracking run with wandb version 0.20.1"
      ],
      "text/plain": [
       "<IPython.core.display.HTML object>"
      ]
     },
     "metadata": {},
     "output_type": "display_data"
    },
    {
     "data": {
      "text/html": [
       "Run data is saved locally in <code>/kaggle/working/wandb/run-20250822_225619-2uccyuz1</code>"
      ],
      "text/plain": [
       "<IPython.core.display.HTML object>"
      ]
     },
     "metadata": {},
     "output_type": "display_data"
    },
    {
     "data": {
      "text/html": [
       "Syncing run <strong><a href='https://wandb.ai/noynetanel1-tel-aviv-university/GCN%20Graph%20classification%28DD%29_Gal/runs/2uccyuz1' target=\"_blank\">GCN_BFS_seed_17</a></strong> to <a href='https://wandb.ai/noynetanel1-tel-aviv-university/GCN%20Graph%20classification%28DD%29_Gal' target=\"_blank\">Weights & Biases</a> (<a href='https://wandb.me/developer-guide' target=\"_blank\">docs</a>)<br>"
      ],
      "text/plain": [
       "<IPython.core.display.HTML object>"
      ]
     },
     "metadata": {},
     "output_type": "display_data"
    },
    {
     "data": {
      "text/html": [
       " View project at <a href='https://wandb.ai/noynetanel1-tel-aviv-university/GCN%20Graph%20classification%28DD%29_Gal' target=\"_blank\">https://wandb.ai/noynetanel1-tel-aviv-university/GCN%20Graph%20classification%28DD%29_Gal</a>"
      ],
      "text/plain": [
       "<IPython.core.display.HTML object>"
      ]
     },
     "metadata": {},
     "output_type": "display_data"
    },
    {
     "data": {
      "text/html": [
       " View run at <a href='https://wandb.ai/noynetanel1-tel-aviv-university/GCN%20Graph%20classification%28DD%29_Gal/runs/2uccyuz1' target=\"_blank\">https://wandb.ai/noynetanel1-tel-aviv-university/GCN%20Graph%20classification%28DD%29_Gal/runs/2uccyuz1</a>"
      ],
      "text/plain": [
       "<IPython.core.display.HTML object>"
      ]
     },
     "metadata": {},
     "output_type": "display_data"
    },
    {
     "name": "stdout",
     "output_type": "stream",
     "text": [
      "Seed 17 | Epoch 001 | Loss: 0.6873 | Test Acc: 0.5975\n",
      "Seed 17 | Epoch 002 | Loss: 0.6775 | Test Acc: 0.5975\n",
      "Seed 17 | Epoch 003 | Loss: 0.6764 | Test Acc: 0.5975\n",
      "Seed 17 | Epoch 004 | Loss: 0.6748 | Test Acc: 0.5975\n",
      "Seed 17 | Epoch 005 | Loss: 0.6728 | Test Acc: 0.5975\n",
      "Seed 17 | Epoch 006 | Loss: 0.6665 | Test Acc: 0.5975\n",
      "Seed 17 | Epoch 007 | Loss: 0.6638 | Test Acc: 0.6059\n",
      "Seed 17 | Epoch 008 | Loss: 0.6529 | Test Acc: 0.6653\n",
      "Seed 17 | Epoch 009 | Loss: 0.6470 | Test Acc: 0.6144\n",
      "Seed 17 | Epoch 010 | Loss: 0.6275 | Test Acc: 0.7161\n",
      "Seed 17 | Epoch 011 | Loss: 0.6174 | Test Acc: 0.7331\n",
      "Seed 17 | Epoch 012 | Loss: 0.6076 | Test Acc: 0.6822\n",
      "Seed 17 | Epoch 013 | Loss: 0.5990 | Test Acc: 0.7246\n",
      "Seed 17 | Epoch 014 | Loss: 0.5925 | Test Acc: 0.7161\n",
      "Seed 17 | Epoch 015 | Loss: 0.5851 | Test Acc: 0.7246\n",
      "Seed 17 | Epoch 016 | Loss: 0.5902 | Test Acc: 0.7076\n",
      "Seed 17 | Epoch 017 | Loss: 0.5847 | Test Acc: 0.7246\n",
      "Seed 17 | Epoch 018 | Loss: 0.5814 | Test Acc: 0.7203\n",
      "Seed 17 | Epoch 019 | Loss: 0.5820 | Test Acc: 0.7119\n",
      "Seed 17 | Epoch 020 | Loss: 0.5719 | Test Acc: 0.7076\n",
      "Seed 17 | Epoch 021 | Loss: 0.5752 | Test Acc: 0.7119\n",
      "Seed 17 | Epoch 022 | Loss: 0.5698 | Test Acc: 0.7246\n",
      "Seed 17 | Epoch 023 | Loss: 0.5692 | Test Acc: 0.7161\n",
      "Seed 17 | Epoch 024 | Loss: 0.5789 | Test Acc: 0.6907\n",
      "Seed 17 | Epoch 025 | Loss: 0.5674 | Test Acc: 0.7119\n",
      "Seed 17 | Epoch 026 | Loss: 0.5732 | Test Acc: 0.7119\n",
      "Seed 17 | Epoch 027 | Loss: 0.5694 | Test Acc: 0.7203\n",
      "Seed 17 | Epoch 028 | Loss: 0.5621 | Test Acc: 0.6907\n",
      "Seed 17 | Epoch 029 | Loss: 0.5741 | Test Acc: 0.7034\n",
      "Seed 17 | Epoch 030 | Loss: 0.5688 | Test Acc: 0.7161\n",
      "Seed 17 | Epoch 031 | Loss: 0.5614 | Test Acc: 0.7076\n",
      "Seed 17 | Epoch 032 | Loss: 0.5615 | Test Acc: 0.7246\n",
      "Seed 17 | Epoch 033 | Loss: 0.5602 | Test Acc: 0.7246\n",
      "Seed 17 | Epoch 034 | Loss: 0.5663 | Test Acc: 0.7288\n",
      "Seed 17 | Epoch 035 | Loss: 0.5720 | Test Acc: 0.7246\n",
      "Seed 17 | Epoch 036 | Loss: 0.5876 | Test Acc: 0.7203\n",
      "Seed 17 | Epoch 037 | Loss: 0.5709 | Test Acc: 0.7288\n",
      "Seed 17 | Epoch 038 | Loss: 0.5531 | Test Acc: 0.7288\n",
      "Seed 17 | Epoch 039 | Loss: 0.5536 | Test Acc: 0.6992\n",
      "Seed 17 | Epoch 040 | Loss: 0.5544 | Test Acc: 0.7203\n",
      "Seed 17 | Epoch 041 | Loss: 0.5533 | Test Acc: 0.7246\n",
      "Seed 17 | Epoch 042 | Loss: 0.5479 | Test Acc: 0.7034\n",
      "Seed 17 | Epoch 043 | Loss: 0.5440 | Test Acc: 0.7288\n",
      "Seed 17 | Epoch 044 | Loss: 0.5480 | Test Acc: 0.7119\n",
      "Seed 17 | Epoch 045 | Loss: 0.5443 | Test Acc: 0.6949\n",
      "Seed 17 | Epoch 046 | Loss: 0.5435 | Test Acc: 0.7331\n",
      "Seed 17 | Epoch 047 | Loss: 0.5403 | Test Acc: 0.7119\n",
      "Seed 17 | Epoch 048 | Loss: 0.5406 | Test Acc: 0.7331\n",
      "Seed 17 | Epoch 049 | Loss: 0.5435 | Test Acc: 0.7034\n",
      "Seed 17 | Epoch 050 | Loss: 0.5501 | Test Acc: 0.7119\n"
     ]
    },
    {
     "data": {
      "text/html": [],
      "text/plain": [
       "<IPython.core.display.HTML object>"
      ]
     },
     "metadata": {},
     "output_type": "display_data"
    },
    {
     "data": {
      "text/html": [
       "<br>    <style><br>        .wandb-row {<br>            display: flex;<br>            flex-direction: row;<br>            flex-wrap: wrap;<br>            justify-content: flex-start;<br>            width: 100%;<br>        }<br>        .wandb-col {<br>            display: flex;<br>            flex-direction: column;<br>            flex-basis: 100%;<br>            flex: 1;<br>            padding: 10px;<br>        }<br>    </style><br><div class=\"wandb-row\"><div class=\"wandb-col\"><h3>Run history:</h3><br/><table class=\"wandb\"><tr><td>epoch</td><td>▁▁▁▁▂▂▂▂▂▂▃▃▃▃▃▄▄▄▄▄▅▅▅▅▅▅▆▆▆▆▆▆▇▇▇▇▇███</td></tr><tr><td>loss</td><td>██▇▇▇▇▆▆▅▅▄▃▃▃▃▃▃▃▂▂▂▃▂▂▃▂▂▂▂▃▂▂▂▂▂▁▁▁▁▁</td></tr><tr><td>test_acc</td><td>▁▁▁▁▁▁▅▂▇██▇█▇█▇▇▇█▇▇▇▆▆▇████▇█▆▇█▆▇▆█▇▆</td></tr><tr><td>train_acc</td><td>▁▁▁▁▁▂▅▃▆▆▆▇▇▆▇▇▆▇▇▇▇▇▇▆████▇███▇███████</td></tr></table><br/></div><div class=\"wandb-col\"><h3>Run summary:</h3><br/><table class=\"wandb\"><tr><td>epoch</td><td>50</td></tr><tr><td>loss</td><td>0.5501</td></tr><tr><td>test_acc</td><td>0.71186</td></tr><tr><td>train_acc</td><td>0.75265</td></tr></table><br/></div></div>"
      ],
      "text/plain": [
       "<IPython.core.display.HTML object>"
      ]
     },
     "metadata": {},
     "output_type": "display_data"
    },
    {
     "data": {
      "text/html": [
       " View run <strong style=\"color:#cdcd00\">GCN_BFS_seed_17</strong> at: <a href='https://wandb.ai/noynetanel1-tel-aviv-university/GCN%20Graph%20classification%28DD%29_Gal/runs/2uccyuz1' target=\"_blank\">https://wandb.ai/noynetanel1-tel-aviv-university/GCN%20Graph%20classification%28DD%29_Gal/runs/2uccyuz1</a><br> View project at: <a href='https://wandb.ai/noynetanel1-tel-aviv-university/GCN%20Graph%20classification%28DD%29_Gal' target=\"_blank\">https://wandb.ai/noynetanel1-tel-aviv-university/GCN%20Graph%20classification%28DD%29_Gal</a><br>Synced 5 W&B file(s), 0 media file(s), 0 artifact file(s) and 0 other file(s)"
      ],
      "text/plain": [
       "<IPython.core.display.HTML object>"
      ]
     },
     "metadata": {},
     "output_type": "display_data"
    },
    {
     "data": {
      "text/html": [
       "Find logs at: <code>./wandb/run-20250822_225619-2uccyuz1/logs</code>"
      ],
      "text/plain": [
       "<IPython.core.display.HTML object>"
      ]
     },
     "metadata": {},
     "output_type": "display_data"
    },
    {
     "data": {
      "text/html": [
       "Tracking run with wandb version 0.20.1"
      ],
      "text/plain": [
       "<IPython.core.display.HTML object>"
      ]
     },
     "metadata": {},
     "output_type": "display_data"
    },
    {
     "data": {
      "text/html": [
       "Run data is saved locally in <code>/kaggle/working/wandb/run-20250822_230606-275zfxf0</code>"
      ],
      "text/plain": [
       "<IPython.core.display.HTML object>"
      ]
     },
     "metadata": {},
     "output_type": "display_data"
    },
    {
     "data": {
      "text/html": [
       "Syncing run <strong><a href='https://wandb.ai/noynetanel1-tel-aviv-university/GCN%20Graph%20classification%28DD%29_Gal/runs/275zfxf0' target=\"_blank\">GCN_BFS_seed_18</a></strong> to <a href='https://wandb.ai/noynetanel1-tel-aviv-university/GCN%20Graph%20classification%28DD%29_Gal' target=\"_blank\">Weights & Biases</a> (<a href='https://wandb.me/developer-guide' target=\"_blank\">docs</a>)<br>"
      ],
      "text/plain": [
       "<IPython.core.display.HTML object>"
      ]
     },
     "metadata": {},
     "output_type": "display_data"
    },
    {
     "data": {
      "text/html": [
       " View project at <a href='https://wandb.ai/noynetanel1-tel-aviv-university/GCN%20Graph%20classification%28DD%29_Gal' target=\"_blank\">https://wandb.ai/noynetanel1-tel-aviv-university/GCN%20Graph%20classification%28DD%29_Gal</a>"
      ],
      "text/plain": [
       "<IPython.core.display.HTML object>"
      ]
     },
     "metadata": {},
     "output_type": "display_data"
    },
    {
     "data": {
      "text/html": [
       " View run at <a href='https://wandb.ai/noynetanel1-tel-aviv-university/GCN%20Graph%20classification%28DD%29_Gal/runs/275zfxf0' target=\"_blank\">https://wandb.ai/noynetanel1-tel-aviv-university/GCN%20Graph%20classification%28DD%29_Gal/runs/275zfxf0</a>"
      ],
      "text/plain": [
       "<IPython.core.display.HTML object>"
      ]
     },
     "metadata": {},
     "output_type": "display_data"
    },
    {
     "name": "stdout",
     "output_type": "stream",
     "text": [
      "Seed 18 | Epoch 001 | Loss: 0.6864 | Test Acc: 0.6059\n",
      "Seed 18 | Epoch 002 | Loss: 0.6784 | Test Acc: 0.6059\n",
      "Seed 18 | Epoch 003 | Loss: 0.6795 | Test Acc: 0.6059\n",
      "Seed 18 | Epoch 004 | Loss: 0.6773 | Test Acc: 0.6059\n",
      "Seed 18 | Epoch 005 | Loss: 0.6770 | Test Acc: 0.6059\n",
      "Seed 18 | Epoch 006 | Loss: 0.6714 | Test Acc: 0.6059\n",
      "Seed 18 | Epoch 007 | Loss: 0.6675 | Test Acc: 0.6102\n",
      "Seed 18 | Epoch 008 | Loss: 0.6563 | Test Acc: 0.6568\n",
      "Seed 18 | Epoch 009 | Loss: 0.6392 | Test Acc: 0.6314\n",
      "Seed 18 | Epoch 010 | Loss: 0.6321 | Test Acc: 0.7203\n",
      "Seed 18 | Epoch 011 | Loss: 0.6196 | Test Acc: 0.7373\n",
      "Seed 18 | Epoch 012 | Loss: 0.6118 | Test Acc: 0.6695\n",
      "Seed 18 | Epoch 013 | Loss: 0.6117 | Test Acc: 0.6949\n",
      "Seed 18 | Epoch 014 | Loss: 0.5994 | Test Acc: 0.7542\n",
      "Seed 18 | Epoch 015 | Loss: 0.5939 | Test Acc: 0.7458\n",
      "Seed 18 | Epoch 016 | Loss: 0.5858 | Test Acc: 0.7331\n",
      "Seed 18 | Epoch 017 | Loss: 0.5919 | Test Acc: 0.7288\n",
      "Seed 18 | Epoch 018 | Loss: 0.5864 | Test Acc: 0.7373\n",
      "Seed 18 | Epoch 019 | Loss: 0.5841 | Test Acc: 0.7458\n",
      "Seed 18 | Epoch 020 | Loss: 0.5797 | Test Acc: 0.7203\n",
      "Seed 18 | Epoch 021 | Loss: 0.5930 | Test Acc: 0.7458\n",
      "Seed 18 | Epoch 022 | Loss: 0.5756 | Test Acc: 0.7500\n",
      "Seed 18 | Epoch 023 | Loss: 0.5709 | Test Acc: 0.7415\n",
      "Seed 18 | Epoch 024 | Loss: 0.5711 | Test Acc: 0.7373\n",
      "Seed 18 | Epoch 025 | Loss: 0.5704 | Test Acc: 0.7458\n",
      "Seed 18 | Epoch 026 | Loss: 0.5701 | Test Acc: 0.7415\n",
      "Seed 18 | Epoch 027 | Loss: 0.5629 | Test Acc: 0.7415\n",
      "Seed 18 | Epoch 028 | Loss: 0.5667 | Test Acc: 0.7627\n",
      "Seed 18 | Epoch 029 | Loss: 0.5568 | Test Acc: 0.7585\n",
      "Seed 18 | Epoch 030 | Loss: 0.5591 | Test Acc: 0.7458\n",
      "Seed 18 | Epoch 031 | Loss: 0.5519 | Test Acc: 0.7458\n",
      "Seed 18 | Epoch 032 | Loss: 0.5641 | Test Acc: 0.7627\n",
      "Seed 18 | Epoch 033 | Loss: 0.5544 | Test Acc: 0.7669\n",
      "Seed 18 | Epoch 034 | Loss: 0.5495 | Test Acc: 0.7415\n",
      "Seed 18 | Epoch 035 | Loss: 0.5510 | Test Acc: 0.7542\n",
      "Seed 18 | Epoch 036 | Loss: 0.5466 | Test Acc: 0.7500\n",
      "Seed 18 | Epoch 037 | Loss: 0.5473 | Test Acc: 0.7415\n",
      "Seed 18 | Epoch 038 | Loss: 0.5530 | Test Acc: 0.7585\n",
      "Seed 18 | Epoch 039 | Loss: 0.5403 | Test Acc: 0.7458\n",
      "Seed 18 | Epoch 040 | Loss: 0.5450 | Test Acc: 0.7542\n",
      "Seed 18 | Epoch 041 | Loss: 0.5392 | Test Acc: 0.7458\n",
      "Seed 18 | Epoch 042 | Loss: 0.5672 | Test Acc: 0.7542\n",
      "Seed 18 | Epoch 043 | Loss: 0.5528 | Test Acc: 0.7627\n",
      "Seed 18 | Epoch 044 | Loss: 0.5355 | Test Acc: 0.7458\n",
      "Seed 18 | Epoch 045 | Loss: 0.5321 | Test Acc: 0.7627\n",
      "Seed 18 | Epoch 046 | Loss: 0.5399 | Test Acc: 0.7627\n",
      "Seed 18 | Epoch 047 | Loss: 0.5297 | Test Acc: 0.7034\n",
      "Seed 18 | Epoch 048 | Loss: 0.5377 | Test Acc: 0.7542\n",
      "Seed 18 | Epoch 049 | Loss: 0.5246 | Test Acc: 0.7500\n",
      "Seed 18 | Epoch 050 | Loss: 0.5246 | Test Acc: 0.7585\n"
     ]
    },
    {
     "data": {
      "text/html": [],
      "text/plain": [
       "<IPython.core.display.HTML object>"
      ]
     },
     "metadata": {},
     "output_type": "display_data"
    },
    {
     "data": {
      "text/html": [
       "<br>    <style><br>        .wandb-row {<br>            display: flex;<br>            flex-direction: row;<br>            flex-wrap: wrap;<br>            justify-content: flex-start;<br>            width: 100%;<br>        }<br>        .wandb-col {<br>            display: flex;<br>            flex-direction: column;<br>            flex-basis: 100%;<br>            flex: 1;<br>            padding: 10px;<br>        }<br>    </style><br><div class=\"wandb-row\"><div class=\"wandb-col\"><h3>Run history:</h3><br/><table class=\"wandb\"><tr><td>epoch</td><td>▁▁▁▁▂▂▂▂▂▂▃▃▃▃▃▄▄▄▄▄▅▅▅▅▅▅▆▆▆▆▆▆▇▇▇▇▇███</td></tr><tr><td>loss</td><td>█████▇▇▆▆▅▅▄▄▄▄▃▄▃▃▃▃▃▃▂▂▃▂▂▂▂▂▂▂▂▃▁▂▁▂▁</td></tr><tr><td>test_acc</td><td>▁▁▁▁▁▁▃▂▆▇▅▇▇▇▆▇▆▇▇▇▇▇██▇█▇▇▇▇▇▇▇▇███▅▇█</td></tr><tr><td>train_acc</td><td>▁▁▁▁▁▁▃▂▆▄▆▆▆▆▆▆▇▇▇▇▇▇▇▇▇▇▆▇▇█▇█▇████▇██</td></tr></table><br/></div><div class=\"wandb-col\"><h3>Run summary:</h3><br/><table class=\"wandb\"><tr><td>epoch</td><td>50</td></tr><tr><td>loss</td><td>0.52463</td></tr><tr><td>test_acc</td><td>0.75847</td></tr><tr><td>train_acc</td><td>0.76221</td></tr></table><br/></div></div>"
      ],
      "text/plain": [
       "<IPython.core.display.HTML object>"
      ]
     },
     "metadata": {},
     "output_type": "display_data"
    },
    {
     "data": {
      "text/html": [
       " View run <strong style=\"color:#cdcd00\">GCN_BFS_seed_18</strong> at: <a href='https://wandb.ai/noynetanel1-tel-aviv-university/GCN%20Graph%20classification%28DD%29_Gal/runs/275zfxf0' target=\"_blank\">https://wandb.ai/noynetanel1-tel-aviv-university/GCN%20Graph%20classification%28DD%29_Gal/runs/275zfxf0</a><br> View project at: <a href='https://wandb.ai/noynetanel1-tel-aviv-university/GCN%20Graph%20classification%28DD%29_Gal' target=\"_blank\">https://wandb.ai/noynetanel1-tel-aviv-university/GCN%20Graph%20classification%28DD%29_Gal</a><br>Synced 5 W&B file(s), 0 media file(s), 0 artifact file(s) and 0 other file(s)"
      ],
      "text/plain": [
       "<IPython.core.display.HTML object>"
      ]
     },
     "metadata": {},
     "output_type": "display_data"
    },
    {
     "data": {
      "text/html": [
       "Find logs at: <code>./wandb/run-20250822_230606-275zfxf0/logs</code>"
      ],
      "text/plain": [
       "<IPython.core.display.HTML object>"
      ]
     },
     "metadata": {},
     "output_type": "display_data"
    },
    {
     "data": {
      "text/html": [
       "Tracking run with wandb version 0.20.1"
      ],
      "text/plain": [
       "<IPython.core.display.HTML object>"
      ]
     },
     "metadata": {},
     "output_type": "display_data"
    },
    {
     "data": {
      "text/html": [
       "Run data is saved locally in <code>/kaggle/working/wandb/run-20250822_231552-5g9v1rbe</code>"
      ],
      "text/plain": [
       "<IPython.core.display.HTML object>"
      ]
     },
     "metadata": {},
     "output_type": "display_data"
    },
    {
     "data": {
      "text/html": [
       "Syncing run <strong><a href='https://wandb.ai/noynetanel1-tel-aviv-university/GCN%20Graph%20classification%28DD%29_Gal/runs/5g9v1rbe' target=\"_blank\">GCN_BFS_seed_19</a></strong> to <a href='https://wandb.ai/noynetanel1-tel-aviv-university/GCN%20Graph%20classification%28DD%29_Gal' target=\"_blank\">Weights & Biases</a> (<a href='https://wandb.me/developer-guide' target=\"_blank\">docs</a>)<br>"
      ],
      "text/plain": [
       "<IPython.core.display.HTML object>"
      ]
     },
     "metadata": {},
     "output_type": "display_data"
    },
    {
     "data": {
      "text/html": [
       " View project at <a href='https://wandb.ai/noynetanel1-tel-aviv-university/GCN%20Graph%20classification%28DD%29_Gal' target=\"_blank\">https://wandb.ai/noynetanel1-tel-aviv-university/GCN%20Graph%20classification%28DD%29_Gal</a>"
      ],
      "text/plain": [
       "<IPython.core.display.HTML object>"
      ]
     },
     "metadata": {},
     "output_type": "display_data"
    },
    {
     "data": {
      "text/html": [
       " View run at <a href='https://wandb.ai/noynetanel1-tel-aviv-university/GCN%20Graph%20classification%28DD%29_Gal/runs/5g9v1rbe' target=\"_blank\">https://wandb.ai/noynetanel1-tel-aviv-university/GCN%20Graph%20classification%28DD%29_Gal/runs/5g9v1rbe</a>"
      ],
      "text/plain": [
       "<IPython.core.display.HTML object>"
      ]
     },
     "metadata": {},
     "output_type": "display_data"
    },
    {
     "name": "stdout",
     "output_type": "stream",
     "text": [
      "Seed 19 | Epoch 001 | Loss: 0.6815 | Test Acc: 0.6144\n",
      "Seed 19 | Epoch 002 | Loss: 0.6785 | Test Acc: 0.6144\n",
      "Seed 19 | Epoch 003 | Loss: 0.6781 | Test Acc: 0.6144\n",
      "Seed 19 | Epoch 004 | Loss: 0.6745 | Test Acc: 0.6102\n",
      "Seed 19 | Epoch 005 | Loss: 0.6709 | Test Acc: 0.6059\n",
      "Seed 19 | Epoch 006 | Loss: 0.6589 | Test Acc: 0.6907\n",
      "Seed 19 | Epoch 007 | Loss: 0.6521 | Test Acc: 0.7076\n",
      "Seed 19 | Epoch 008 | Loss: 0.6347 | Test Acc: 0.6992\n",
      "Seed 19 | Epoch 009 | Loss: 0.6199 | Test Acc: 0.7076\n",
      "Seed 19 | Epoch 010 | Loss: 0.6011 | Test Acc: 0.7161\n",
      "Seed 19 | Epoch 011 | Loss: 0.5887 | Test Acc: 0.7034\n",
      "Seed 19 | Epoch 012 | Loss: 0.5896 | Test Acc: 0.7034\n",
      "Seed 19 | Epoch 013 | Loss: 0.5886 | Test Acc: 0.7076\n",
      "Seed 19 | Epoch 014 | Loss: 0.5862 | Test Acc: 0.7288\n",
      "Seed 19 | Epoch 015 | Loss: 0.5806 | Test Acc: 0.7246\n",
      "Seed 19 | Epoch 016 | Loss: 0.5728 | Test Acc: 0.7203\n",
      "Seed 19 | Epoch 017 | Loss: 0.5696 | Test Acc: 0.7331\n",
      "Seed 19 | Epoch 018 | Loss: 0.5782 | Test Acc: 0.7246\n",
      "Seed 19 | Epoch 019 | Loss: 0.5674 | Test Acc: 0.7288\n",
      "Seed 19 | Epoch 020 | Loss: 0.5742 | Test Acc: 0.7246\n",
      "Seed 19 | Epoch 021 | Loss: 0.5650 | Test Acc: 0.7246\n",
      "Seed 19 | Epoch 022 | Loss: 0.5601 | Test Acc: 0.7119\n",
      "Seed 19 | Epoch 023 | Loss: 0.5626 | Test Acc: 0.7246\n",
      "Seed 19 | Epoch 024 | Loss: 0.5562 | Test Acc: 0.7331\n",
      "Seed 19 | Epoch 025 | Loss: 0.5737 | Test Acc: 0.7288\n",
      "Seed 19 | Epoch 026 | Loss: 0.5634 | Test Acc: 0.6907\n",
      "Seed 19 | Epoch 027 | Loss: 0.5541 | Test Acc: 0.7246\n",
      "Seed 19 | Epoch 028 | Loss: 0.5490 | Test Acc: 0.7119\n",
      "Seed 19 | Epoch 029 | Loss: 0.5545 | Test Acc: 0.7203\n",
      "Seed 19 | Epoch 030 | Loss: 0.5707 | Test Acc: 0.6907\n",
      "Seed 19 | Epoch 031 | Loss: 0.5740 | Test Acc: 0.7458\n",
      "Seed 19 | Epoch 032 | Loss: 0.5621 | Test Acc: 0.6907\n",
      "Seed 19 | Epoch 033 | Loss: 0.5588 | Test Acc: 0.7246\n",
      "Seed 19 | Epoch 034 | Loss: 0.5470 | Test Acc: 0.6992\n",
      "Seed 19 | Epoch 035 | Loss: 0.5517 | Test Acc: 0.6780\n",
      "Seed 19 | Epoch 036 | Loss: 0.5517 | Test Acc: 0.7119\n",
      "Seed 19 | Epoch 037 | Loss: 0.5451 | Test Acc: 0.6568\n",
      "Seed 19 | Epoch 038 | Loss: 0.5463 | Test Acc: 0.6992\n",
      "Seed 19 | Epoch 039 | Loss: 0.5424 | Test Acc: 0.7246\n",
      "Seed 19 | Epoch 040 | Loss: 0.5388 | Test Acc: 0.7288\n",
      "Seed 19 | Epoch 041 | Loss: 0.5456 | Test Acc: 0.7331\n",
      "Seed 19 | Epoch 042 | Loss: 0.5489 | Test Acc: 0.6907\n",
      "Seed 19 | Epoch 043 | Loss: 0.5413 | Test Acc: 0.7458\n",
      "Seed 19 | Epoch 044 | Loss: 0.5431 | Test Acc: 0.6992\n",
      "Seed 19 | Epoch 045 | Loss: 0.5336 | Test Acc: 0.6949\n",
      "Seed 19 | Epoch 046 | Loss: 0.5358 | Test Acc: 0.6059\n",
      "Seed 19 | Epoch 047 | Loss: 0.5404 | Test Acc: 0.7458\n",
      "Seed 19 | Epoch 048 | Loss: 0.5324 | Test Acc: 0.7246\n",
      "Seed 19 | Epoch 049 | Loss: 0.5285 | Test Acc: 0.6864\n",
      "Seed 19 | Epoch 050 | Loss: 0.5271 | Test Acc: 0.7373\n"
     ]
    },
    {
     "data": {
      "text/html": [],
      "text/plain": [
       "<IPython.core.display.HTML object>"
      ]
     },
     "metadata": {},
     "output_type": "display_data"
    },
    {
     "data": {
      "text/html": [
       "<br>    <style><br>        .wandb-row {<br>            display: flex;<br>            flex-direction: row;<br>            flex-wrap: wrap;<br>            justify-content: flex-start;<br>            width: 100%;<br>        }<br>        .wandb-col {<br>            display: flex;<br>            flex-direction: column;<br>            flex-basis: 100%;<br>            flex: 1;<br>            padding: 10px;<br>        }<br>    </style><br><div class=\"wandb-row\"><div class=\"wandb-col\"><h3>Run history:</h3><br/><table class=\"wandb\"><tr><td>epoch</td><td>▁▁▁▁▂▂▂▂▂▂▃▃▃▃▃▄▄▄▄▄▅▅▅▅▅▅▆▆▆▆▆▆▇▇▇▇▇███</td></tr><tr><td>loss</td><td>█████▇▆▅▄▄▄▄▃▃▃▃▃▂▃▂▃▂▂▂▃▃▂▂▂▂▂▂▁▂▂▂▁▁▂▁</td></tr><tr><td>test_acc</td><td>▁▁▁▁▁▆▆▆▇▆▆▇▇▇▇▇▇▇▆▇▇▅▆▇▅▅▇▆▅▆▆▇▇▇█▅▁█▇█</td></tr><tr><td>train_acc</td><td>▁▁▁▁▁▆▆▆▆▅▇▇▇▇▇▆▇▇▇▇▇▇█▇▇▇▇▇▇███▇█▇██▇██</td></tr></table><br/></div><div class=\"wandb-col\"><h3>Run summary:</h3><br/><table class=\"wandb\"><tr><td>epoch</td><td>50</td></tr><tr><td>loss</td><td>0.52714</td></tr><tr><td>test_acc</td><td>0.73729</td></tr><tr><td>train_acc</td><td>0.7569</td></tr></table><br/></div></div>"
      ],
      "text/plain": [
       "<IPython.core.display.HTML object>"
      ]
     },
     "metadata": {},
     "output_type": "display_data"
    },
    {
     "data": {
      "text/html": [
       " View run <strong style=\"color:#cdcd00\">GCN_BFS_seed_19</strong> at: <a href='https://wandb.ai/noynetanel1-tel-aviv-university/GCN%20Graph%20classification%28DD%29_Gal/runs/5g9v1rbe' target=\"_blank\">https://wandb.ai/noynetanel1-tel-aviv-university/GCN%20Graph%20classification%28DD%29_Gal/runs/5g9v1rbe</a><br> View project at: <a href='https://wandb.ai/noynetanel1-tel-aviv-university/GCN%20Graph%20classification%28DD%29_Gal' target=\"_blank\">https://wandb.ai/noynetanel1-tel-aviv-university/GCN%20Graph%20classification%28DD%29_Gal</a><br>Synced 5 W&B file(s), 0 media file(s), 0 artifact file(s) and 0 other file(s)"
      ],
      "text/plain": [
       "<IPython.core.display.HTML object>"
      ]
     },
     "metadata": {},
     "output_type": "display_data"
    },
    {
     "data": {
      "text/html": [
       "Find logs at: <code>./wandb/run-20250822_231552-5g9v1rbe/logs</code>"
      ],
      "text/plain": [
       "<IPython.core.display.HTML object>"
      ]
     },
     "metadata": {},
     "output_type": "display_data"
    },
    {
     "data": {
      "text/html": [
       "Tracking run with wandb version 0.20.1"
      ],
      "text/plain": [
       "<IPython.core.display.HTML object>"
      ]
     },
     "metadata": {},
     "output_type": "display_data"
    },
    {
     "data": {
      "text/html": [
       "Run data is saved locally in <code>/kaggle/working/wandb/run-20250822_232548-c9oyga0t</code>"
      ],
      "text/plain": [
       "<IPython.core.display.HTML object>"
      ]
     },
     "metadata": {},
     "output_type": "display_data"
    },
    {
     "data": {
      "text/html": [
       "Syncing run <strong><a href='https://wandb.ai/noynetanel1-tel-aviv-university/GCN%20Graph%20classification%28DD%29_Gal/runs/c9oyga0t' target=\"_blank\">GCN_BFS_seed_20</a></strong> to <a href='https://wandb.ai/noynetanel1-tel-aviv-university/GCN%20Graph%20classification%28DD%29_Gal' target=\"_blank\">Weights & Biases</a> (<a href='https://wandb.me/developer-guide' target=\"_blank\">docs</a>)<br>"
      ],
      "text/plain": [
       "<IPython.core.display.HTML object>"
      ]
     },
     "metadata": {},
     "output_type": "display_data"
    },
    {
     "data": {
      "text/html": [
       " View project at <a href='https://wandb.ai/noynetanel1-tel-aviv-university/GCN%20Graph%20classification%28DD%29_Gal' target=\"_blank\">https://wandb.ai/noynetanel1-tel-aviv-university/GCN%20Graph%20classification%28DD%29_Gal</a>"
      ],
      "text/plain": [
       "<IPython.core.display.HTML object>"
      ]
     },
     "metadata": {},
     "output_type": "display_data"
    },
    {
     "data": {
      "text/html": [
       " View run at <a href='https://wandb.ai/noynetanel1-tel-aviv-university/GCN%20Graph%20classification%28DD%29_Gal/runs/c9oyga0t' target=\"_blank\">https://wandb.ai/noynetanel1-tel-aviv-university/GCN%20Graph%20classification%28DD%29_Gal/runs/c9oyga0t</a>"
      ],
      "text/plain": [
       "<IPython.core.display.HTML object>"
      ]
     },
     "metadata": {},
     "output_type": "display_data"
    },
    {
     "name": "stdout",
     "output_type": "stream",
     "text": [
      "Seed 20 | Epoch 001 | Loss: 0.6734 | Test Acc: 0.5508\n",
      "Seed 20 | Epoch 002 | Loss: 0.6732 | Test Acc: 0.5508\n",
      "Seed 20 | Epoch 003 | Loss: 0.6711 | Test Acc: 0.5508\n",
      "Seed 20 | Epoch 004 | Loss: 0.6707 | Test Acc: 0.5508\n",
      "Seed 20 | Epoch 005 | Loss: 0.6623 | Test Acc: 0.5763\n",
      "Seed 20 | Epoch 006 | Loss: 0.6563 | Test Acc: 0.5805\n",
      "Seed 20 | Epoch 007 | Loss: 0.6477 | Test Acc: 0.6949\n",
      "Seed 20 | Epoch 008 | Loss: 0.6364 | Test Acc: 0.6314\n",
      "Seed 20 | Epoch 009 | Loss: 0.6234 | Test Acc: 0.7076\n",
      "Seed 20 | Epoch 010 | Loss: 0.6135 | Test Acc: 0.6949\n",
      "Seed 20 | Epoch 011 | Loss: 0.6032 | Test Acc: 0.7076\n",
      "Seed 20 | Epoch 012 | Loss: 0.5960 | Test Acc: 0.7034\n",
      "Seed 20 | Epoch 013 | Loss: 0.5969 | Test Acc: 0.7161\n",
      "Seed 20 | Epoch 014 | Loss: 0.5933 | Test Acc: 0.6653\n",
      "Seed 20 | Epoch 015 | Loss: 0.6200 | Test Acc: 0.6907\n",
      "Seed 20 | Epoch 016 | Loss: 0.5861 | Test Acc: 0.7246\n",
      "Seed 20 | Epoch 017 | Loss: 0.5849 | Test Acc: 0.7415\n",
      "Seed 20 | Epoch 018 | Loss: 0.5867 | Test Acc: 0.7203\n",
      "Seed 20 | Epoch 019 | Loss: 0.5833 | Test Acc: 0.7161\n",
      "Seed 20 | Epoch 020 | Loss: 0.5817 | Test Acc: 0.7458\n",
      "Seed 20 | Epoch 021 | Loss: 0.5911 | Test Acc: 0.7627\n",
      "Seed 20 | Epoch 022 | Loss: 0.5936 | Test Acc: 0.6780\n",
      "Seed 20 | Epoch 023 | Loss: 0.5766 | Test Acc: 0.7458\n",
      "Seed 20 | Epoch 024 | Loss: 0.5704 | Test Acc: 0.7500\n",
      "Seed 20 | Epoch 025 | Loss: 0.5791 | Test Acc: 0.7246\n",
      "Seed 20 | Epoch 026 | Loss: 0.5644 | Test Acc: 0.7331\n",
      "Seed 20 | Epoch 027 | Loss: 0.5660 | Test Acc: 0.7246\n",
      "Seed 20 | Epoch 028 | Loss: 0.5674 | Test Acc: 0.7458\n",
      "Seed 20 | Epoch 029 | Loss: 0.5791 | Test Acc: 0.7246\n",
      "Seed 20 | Epoch 030 | Loss: 0.5605 | Test Acc: 0.7203\n",
      "Seed 20 | Epoch 031 | Loss: 0.5630 | Test Acc: 0.7458\n",
      "Seed 20 | Epoch 032 | Loss: 0.5672 | Test Acc: 0.7585\n",
      "Seed 20 | Epoch 033 | Loss: 0.5595 | Test Acc: 0.7203\n",
      "Seed 20 | Epoch 034 | Loss: 0.5546 | Test Acc: 0.7288\n",
      "Seed 20 | Epoch 035 | Loss: 0.5610 | Test Acc: 0.7585\n",
      "Seed 20 | Epoch 036 | Loss: 0.5535 | Test Acc: 0.7542\n",
      "Seed 20 | Epoch 037 | Loss: 0.5552 | Test Acc: 0.7203\n",
      "Seed 20 | Epoch 038 | Loss: 0.5681 | Test Acc: 0.7246\n",
      "Seed 20 | Epoch 039 | Loss: 0.5528 | Test Acc: 0.7331\n",
      "Seed 20 | Epoch 040 | Loss: 0.5494 | Test Acc: 0.7542\n",
      "Seed 20 | Epoch 041 | Loss: 0.5623 | Test Acc: 0.7203\n",
      "Seed 20 | Epoch 042 | Loss: 0.5492 | Test Acc: 0.7331\n",
      "Seed 20 | Epoch 043 | Loss: 0.5437 | Test Acc: 0.7458\n",
      "Seed 20 | Epoch 044 | Loss: 0.5439 | Test Acc: 0.7161\n",
      "Seed 20 | Epoch 045 | Loss: 0.5391 | Test Acc: 0.7585\n",
      "Seed 20 | Epoch 046 | Loss: 0.5405 | Test Acc: 0.7331\n",
      "Seed 20 | Epoch 047 | Loss: 0.5444 | Test Acc: 0.7500\n",
      "Seed 20 | Epoch 048 | Loss: 0.5366 | Test Acc: 0.7415\n",
      "Seed 20 | Epoch 049 | Loss: 0.5459 | Test Acc: 0.7161\n",
      "Seed 20 | Epoch 050 | Loss: 0.5384 | Test Acc: 0.7331\n"
     ]
    },
    {
     "data": {
      "text/html": [],
      "text/plain": [
       "<IPython.core.display.HTML object>"
      ]
     },
     "metadata": {},
     "output_type": "display_data"
    },
    {
     "data": {
      "text/html": [
       "<br>    <style><br>        .wandb-row {<br>            display: flex;<br>            flex-direction: row;<br>            flex-wrap: wrap;<br>            justify-content: flex-start;<br>            width: 100%;<br>        }<br>        .wandb-col {<br>            display: flex;<br>            flex-direction: column;<br>            flex-basis: 100%;<br>            flex: 1;<br>            padding: 10px;<br>        }<br>    </style><br><div class=\"wandb-row\"><div class=\"wandb-col\"><h3>Run history:</h3><br/><table class=\"wandb\"><tr><td>epoch</td><td>▁▁▁▁▂▂▂▂▂▃▃▃▃▃▃▄▄▄▄▄▅▅▅▅▅▅▆▆▆▆▆▆▇▇▇▇▇███</td></tr><tr><td>loss</td><td>████▇▇▆▅▅▄▄▄▅▃▃▃▃▄▄▃▃▂▂▃▃▂▂▂▂▂▂▃▂▂▂▁▁▁▁▁</td></tr><tr><td>test_acc</td><td>▁▁▁▂▂▄▆▆▆▆▅▆▇▇▇▇█▅▇█▇▇▇▇▇▇▇██▇▇█▇▇▇█▇█▇▇</td></tr><tr><td>train_acc</td><td>▁▁▁▁▁▆▃▆▆▆▆▄▅▆▇▆▇▇▅▇▇▆▇▆▇▇▇▇▇▇▇█▇██████▆</td></tr></table><br/></div><div class=\"wandb-col\"><h3>Run summary:</h3><br/><table class=\"wandb\"><tr><td>epoch</td><td>50</td></tr><tr><td>loss</td><td>0.53841</td></tr><tr><td>test_acc</td><td>0.73305</td></tr><tr><td>train_acc</td><td>0.71868</td></tr></table><br/></div></div>"
      ],
      "text/plain": [
       "<IPython.core.display.HTML object>"
      ]
     },
     "metadata": {},
     "output_type": "display_data"
    },
    {
     "data": {
      "text/html": [
       " View run <strong style=\"color:#cdcd00\">GCN_BFS_seed_20</strong> at: <a href='https://wandb.ai/noynetanel1-tel-aviv-university/GCN%20Graph%20classification%28DD%29_Gal/runs/c9oyga0t' target=\"_blank\">https://wandb.ai/noynetanel1-tel-aviv-university/GCN%20Graph%20classification%28DD%29_Gal/runs/c9oyga0t</a><br> View project at: <a href='https://wandb.ai/noynetanel1-tel-aviv-university/GCN%20Graph%20classification%28DD%29_Gal' target=\"_blank\">https://wandb.ai/noynetanel1-tel-aviv-university/GCN%20Graph%20classification%28DD%29_Gal</a><br>Synced 5 W&B file(s), 0 media file(s), 0 artifact file(s) and 0 other file(s)"
      ],
      "text/plain": [
       "<IPython.core.display.HTML object>"
      ]
     },
     "metadata": {},
     "output_type": "display_data"
    },
    {
     "data": {
      "text/html": [
       "Find logs at: <code>./wandb/run-20250822_232548-c9oyga0t/logs</code>"
      ],
      "text/plain": [
       "<IPython.core.display.HTML object>"
      ]
     },
     "metadata": {},
     "output_type": "display_data"
    },
    {
     "data": {
      "text/html": [
       "Tracking run with wandb version 0.20.1"
      ],
      "text/plain": [
       "<IPython.core.display.HTML object>"
      ]
     },
     "metadata": {},
     "output_type": "display_data"
    },
    {
     "data": {
      "text/html": [
       "Run data is saved locally in <code>/kaggle/working/wandb/run-20250822_233459-2q3rmwv1</code>"
      ],
      "text/plain": [
       "<IPython.core.display.HTML object>"
      ]
     },
     "metadata": {},
     "output_type": "display_data"
    },
    {
     "data": {
      "text/html": [
       "Syncing run <strong><a href='https://wandb.ai/noynetanel1-tel-aviv-university/GCN%20Graph%20classification%28DD%29_Gal/runs/2q3rmwv1' target=\"_blank\">GCN_BFS_seed_21</a></strong> to <a href='https://wandb.ai/noynetanel1-tel-aviv-university/GCN%20Graph%20classification%28DD%29_Gal' target=\"_blank\">Weights & Biases</a> (<a href='https://wandb.me/developer-guide' target=\"_blank\">docs</a>)<br>"
      ],
      "text/plain": [
       "<IPython.core.display.HTML object>"
      ]
     },
     "metadata": {},
     "output_type": "display_data"
    },
    {
     "data": {
      "text/html": [
       " View project at <a href='https://wandb.ai/noynetanel1-tel-aviv-university/GCN%20Graph%20classification%28DD%29_Gal' target=\"_blank\">https://wandb.ai/noynetanel1-tel-aviv-university/GCN%20Graph%20classification%28DD%29_Gal</a>"
      ],
      "text/plain": [
       "<IPython.core.display.HTML object>"
      ]
     },
     "metadata": {},
     "output_type": "display_data"
    },
    {
     "data": {
      "text/html": [
       " View run at <a href='https://wandb.ai/noynetanel1-tel-aviv-university/GCN%20Graph%20classification%28DD%29_Gal/runs/2q3rmwv1' target=\"_blank\">https://wandb.ai/noynetanel1-tel-aviv-university/GCN%20Graph%20classification%28DD%29_Gal/runs/2q3rmwv1</a>"
      ],
      "text/plain": [
       "<IPython.core.display.HTML object>"
      ]
     },
     "metadata": {},
     "output_type": "display_data"
    },
    {
     "name": "stdout",
     "output_type": "stream",
     "text": [
      "Seed 21 | Epoch 001 | Loss: 0.6767 | Test Acc: 0.5593\n",
      "Seed 21 | Epoch 002 | Loss: 0.6738 | Test Acc: 0.5593\n",
      "Seed 21 | Epoch 003 | Loss: 0.6716 | Test Acc: 0.5593\n",
      "Seed 21 | Epoch 004 | Loss: 0.6690 | Test Acc: 0.5508\n",
      "Seed 21 | Epoch 005 | Loss: 0.6634 | Test Acc: 0.5551\n",
      "Seed 21 | Epoch 006 | Loss: 0.6559 | Test Acc: 0.5636\n",
      "Seed 21 | Epoch 007 | Loss: 0.6434 | Test Acc: 0.5932\n",
      "Seed 21 | Epoch 008 | Loss: 0.6226 | Test Acc: 0.6186\n",
      "Seed 21 | Epoch 009 | Loss: 0.6090 | Test Acc: 0.6864\n",
      "Seed 21 | Epoch 010 | Loss: 0.6110 | Test Acc: 0.6864\n",
      "Seed 21 | Epoch 011 | Loss: 0.5979 | Test Acc: 0.6822\n",
      "Seed 21 | Epoch 012 | Loss: 0.5913 | Test Acc: 0.7373\n",
      "Seed 21 | Epoch 013 | Loss: 0.5940 | Test Acc: 0.7034\n",
      "Seed 21 | Epoch 014 | Loss: 0.5832 | Test Acc: 0.7331\n",
      "Seed 21 | Epoch 015 | Loss: 0.5875 | Test Acc: 0.6992\n",
      "Seed 21 | Epoch 016 | Loss: 0.5808 | Test Acc: 0.7161\n",
      "Seed 21 | Epoch 017 | Loss: 0.5740 | Test Acc: 0.6780\n",
      "Seed 21 | Epoch 018 | Loss: 0.5796 | Test Acc: 0.7246\n",
      "Seed 21 | Epoch 019 | Loss: 0.5700 | Test Acc: 0.6864\n",
      "Seed 21 | Epoch 020 | Loss: 0.5786 | Test Acc: 0.7203\n",
      "Seed 21 | Epoch 021 | Loss: 0.5735 | Test Acc: 0.7203\n",
      "Seed 21 | Epoch 022 | Loss: 0.5852 | Test Acc: 0.6907\n",
      "Seed 21 | Epoch 023 | Loss: 0.5665 | Test Acc: 0.7288\n",
      "Seed 21 | Epoch 024 | Loss: 0.5704 | Test Acc: 0.7288\n",
      "Seed 21 | Epoch 025 | Loss: 0.5614 | Test Acc: 0.7161\n",
      "Seed 21 | Epoch 026 | Loss: 0.5661 | Test Acc: 0.7076\n",
      "Seed 21 | Epoch 027 | Loss: 0.5547 | Test Acc: 0.7076\n",
      "Seed 21 | Epoch 028 | Loss: 0.5599 | Test Acc: 0.7076\n",
      "Seed 21 | Epoch 029 | Loss: 0.5663 | Test Acc: 0.7246\n",
      "Seed 21 | Epoch 030 | Loss: 0.5602 | Test Acc: 0.7076\n",
      "Seed 21 | Epoch 031 | Loss: 0.5692 | Test Acc: 0.6780\n",
      "Seed 21 | Epoch 032 | Loss: 0.5693 | Test Acc: 0.7203\n",
      "Seed 21 | Epoch 033 | Loss: 0.5602 | Test Acc: 0.7119\n",
      "Seed 21 | Epoch 034 | Loss: 0.5571 | Test Acc: 0.7203\n",
      "Seed 21 | Epoch 035 | Loss: 0.5504 | Test Acc: 0.7203\n",
      "Seed 21 | Epoch 036 | Loss: 0.5530 | Test Acc: 0.7161\n",
      "Seed 21 | Epoch 037 | Loss: 0.5495 | Test Acc: 0.7288\n",
      "Seed 21 | Epoch 038 | Loss: 0.5616 | Test Acc: 0.6610\n",
      "Seed 21 | Epoch 039 | Loss: 0.5932 | Test Acc: 0.7119\n",
      "Seed 21 | Epoch 040 | Loss: 0.5454 | Test Acc: 0.7119\n",
      "Seed 21 | Epoch 041 | Loss: 0.5464 | Test Acc: 0.7161\n",
      "Seed 21 | Epoch 042 | Loss: 0.5505 | Test Acc: 0.7161\n",
      "Seed 21 | Epoch 043 | Loss: 0.5407 | Test Acc: 0.7246\n",
      "Seed 21 | Epoch 044 | Loss: 0.5440 | Test Acc: 0.6992\n",
      "Seed 21 | Epoch 045 | Loss: 0.5488 | Test Acc: 0.7161\n",
      "Seed 21 | Epoch 046 | Loss: 0.5429 | Test Acc: 0.7119\n",
      "Seed 21 | Epoch 047 | Loss: 0.5436 | Test Acc: 0.7288\n",
      "Seed 21 | Epoch 048 | Loss: 0.5336 | Test Acc: 0.7119\n",
      "Seed 21 | Epoch 049 | Loss: 0.5417 | Test Acc: 0.7161\n",
      "Seed 21 | Epoch 050 | Loss: 0.5374 | Test Acc: 0.7076\n"
     ]
    },
    {
     "data": {
      "text/html": [],
      "text/plain": [
       "<IPython.core.display.HTML object>"
      ]
     },
     "metadata": {},
     "output_type": "display_data"
    },
    {
     "data": {
      "text/html": [
       "<br>    <style><br>        .wandb-row {<br>            display: flex;<br>            flex-direction: row;<br>            flex-wrap: wrap;<br>            justify-content: flex-start;<br>            width: 100%;<br>        }<br>        .wandb-col {<br>            display: flex;<br>            flex-direction: column;<br>            flex-basis: 100%;<br>            flex: 1;<br>            padding: 10px;<br>        }<br>    </style><br><div class=\"wandb-row\"><div class=\"wandb-col\"><h3>Run history:</h3><br/><table class=\"wandb\"><tr><td>epoch</td><td>▁▁▁▁▂▂▂▂▂▂▃▃▃▃▃▄▄▄▄▄▄▅▅▅▅▅▅▆▆▆▆▆▆▇▇▇▇███</td></tr><tr><td>loss</td><td>████▇▆▅▅▅▄▄▃▄▃▃▃▃▃▃▂▂▂▂▂▂▃▃▂▂▂▂▄▁▁▂▁▂▁▁▁</td></tr><tr><td>test_acc</td><td>▁▁▁▁▁▃▄▆▆▆█▇▇▆███▆██▇▇▇█▇█▇██▇▅▇▇▇█▇▇█▇▇</td></tr><tr><td>train_acc</td><td>▁▁▁▁▁▃▃▇▆▆▇▇▇▇▆▆▇▇▇▇▇▇▇▇▇▇▇▇██▇███████▇█</td></tr></table><br/></div><div class=\"wandb-col\"><h3>Run summary:</h3><br/><table class=\"wandb\"><tr><td>epoch</td><td>50</td></tr><tr><td>loss</td><td>0.53742</td></tr><tr><td>test_acc</td><td>0.70763</td></tr><tr><td>train_acc</td><td>0.75159</td></tr></table><br/></div></div>"
      ],
      "text/plain": [
       "<IPython.core.display.HTML object>"
      ]
     },
     "metadata": {},
     "output_type": "display_data"
    },
    {
     "data": {
      "text/html": [
       " View run <strong style=\"color:#cdcd00\">GCN_BFS_seed_21</strong> at: <a href='https://wandb.ai/noynetanel1-tel-aviv-university/GCN%20Graph%20classification%28DD%29_Gal/runs/2q3rmwv1' target=\"_blank\">https://wandb.ai/noynetanel1-tel-aviv-university/GCN%20Graph%20classification%28DD%29_Gal/runs/2q3rmwv1</a><br> View project at: <a href='https://wandb.ai/noynetanel1-tel-aviv-university/GCN%20Graph%20classification%28DD%29_Gal' target=\"_blank\">https://wandb.ai/noynetanel1-tel-aviv-university/GCN%20Graph%20classification%28DD%29_Gal</a><br>Synced 5 W&B file(s), 0 media file(s), 0 artifact file(s) and 0 other file(s)"
      ],
      "text/plain": [
       "<IPython.core.display.HTML object>"
      ]
     },
     "metadata": {},
     "output_type": "display_data"
    },
    {
     "data": {
      "text/html": [
       "Find logs at: <code>./wandb/run-20250822_233459-2q3rmwv1/logs</code>"
      ],
      "text/plain": [
       "<IPython.core.display.HTML object>"
      ]
     },
     "metadata": {},
     "output_type": "display_data"
    },
    {
     "data": {
      "text/html": [
       "Tracking run with wandb version 0.20.1"
      ],
      "text/plain": [
       "<IPython.core.display.HTML object>"
      ]
     },
     "metadata": {},
     "output_type": "display_data"
    },
    {
     "data": {
      "text/html": [
       "Run data is saved locally in <code>/kaggle/working/wandb/run-20250822_234428-bdsf9t1j</code>"
      ],
      "text/plain": [
       "<IPython.core.display.HTML object>"
      ]
     },
     "metadata": {},
     "output_type": "display_data"
    },
    {
     "data": {
      "text/html": [
       "Syncing run <strong><a href='https://wandb.ai/noynetanel1-tel-aviv-university/GCN%20Graph%20classification%28DD%29_Gal/runs/bdsf9t1j' target=\"_blank\">GCN_BFS_seed_22</a></strong> to <a href='https://wandb.ai/noynetanel1-tel-aviv-university/GCN%20Graph%20classification%28DD%29_Gal' target=\"_blank\">Weights & Biases</a> (<a href='https://wandb.me/developer-guide' target=\"_blank\">docs</a>)<br>"
      ],
      "text/plain": [
       "<IPython.core.display.HTML object>"
      ]
     },
     "metadata": {},
     "output_type": "display_data"
    },
    {
     "data": {
      "text/html": [
       " View project at <a href='https://wandb.ai/noynetanel1-tel-aviv-university/GCN%20Graph%20classification%28DD%29_Gal' target=\"_blank\">https://wandb.ai/noynetanel1-tel-aviv-university/GCN%20Graph%20classification%28DD%29_Gal</a>"
      ],
      "text/plain": [
       "<IPython.core.display.HTML object>"
      ]
     },
     "metadata": {},
     "output_type": "display_data"
    },
    {
     "data": {
      "text/html": [
       " View run at <a href='https://wandb.ai/noynetanel1-tel-aviv-university/GCN%20Graph%20classification%28DD%29_Gal/runs/bdsf9t1j' target=\"_blank\">https://wandb.ai/noynetanel1-tel-aviv-university/GCN%20Graph%20classification%28DD%29_Gal/runs/bdsf9t1j</a>"
      ],
      "text/plain": [
       "<IPython.core.display.HTML object>"
      ]
     },
     "metadata": {},
     "output_type": "display_data"
    },
    {
     "name": "stdout",
     "output_type": "stream",
     "text": [
      "Seed 22 | Epoch 001 | Loss: 0.6796 | Test Acc: 0.5890\n",
      "Seed 22 | Epoch 002 | Loss: 0.6762 | Test Acc: 0.5890\n",
      "Seed 22 | Epoch 003 | Loss: 0.6752 | Test Acc: 0.5890\n",
      "Seed 22 | Epoch 004 | Loss: 0.6729 | Test Acc: 0.5890\n",
      "Seed 22 | Epoch 005 | Loss: 0.6677 | Test Acc: 0.6059\n",
      "Seed 22 | Epoch 006 | Loss: 0.6602 | Test Acc: 0.6144\n",
      "Seed 22 | Epoch 007 | Loss: 0.6500 | Test Acc: 0.6653\n",
      "Seed 22 | Epoch 008 | Loss: 0.6403 | Test Acc: 0.6949\n",
      "Seed 22 | Epoch 009 | Loss: 0.6347 | Test Acc: 0.7161\n",
      "Seed 22 | Epoch 010 | Loss: 0.6220 | Test Acc: 0.7246\n",
      "Seed 22 | Epoch 011 | Loss: 0.6141 | Test Acc: 0.7373\n",
      "Seed 22 | Epoch 012 | Loss: 0.6064 | Test Acc: 0.7331\n",
      "Seed 22 | Epoch 013 | Loss: 0.6023 | Test Acc: 0.7119\n",
      "Seed 22 | Epoch 014 | Loss: 0.6083 | Test Acc: 0.7500\n",
      "Seed 22 | Epoch 015 | Loss: 0.5999 | Test Acc: 0.7458\n",
      "Seed 22 | Epoch 016 | Loss: 0.5933 | Test Acc: 0.7373\n",
      "Seed 22 | Epoch 017 | Loss: 0.5858 | Test Acc: 0.7542\n",
      "Seed 22 | Epoch 018 | Loss: 0.5929 | Test Acc: 0.7458\n",
      "Seed 22 | Epoch 019 | Loss: 0.5869 | Test Acc: 0.7331\n",
      "Seed 22 | Epoch 020 | Loss: 0.5897 | Test Acc: 0.7246\n",
      "Seed 22 | Epoch 021 | Loss: 0.5815 | Test Acc: 0.7500\n",
      "Seed 22 | Epoch 022 | Loss: 0.5797 | Test Acc: 0.7288\n",
      "Seed 22 | Epoch 023 | Loss: 0.5779 | Test Acc: 0.7373\n",
      "Seed 22 | Epoch 024 | Loss: 0.5772 | Test Acc: 0.7288\n",
      "Seed 22 | Epoch 025 | Loss: 0.5721 | Test Acc: 0.7458\n",
      "Seed 22 | Epoch 026 | Loss: 0.5734 | Test Acc: 0.7288\n",
      "Seed 22 | Epoch 027 | Loss: 0.5766 | Test Acc: 0.7415\n",
      "Seed 22 | Epoch 028 | Loss: 0.5701 | Test Acc: 0.7119\n",
      "Seed 22 | Epoch 029 | Loss: 0.5737 | Test Acc: 0.6992\n",
      "Seed 22 | Epoch 030 | Loss: 0.5648 | Test Acc: 0.7203\n",
      "Seed 22 | Epoch 031 | Loss: 0.5608 | Test Acc: 0.7161\n",
      "Seed 22 | Epoch 032 | Loss: 0.5690 | Test Acc: 0.7500\n",
      "Seed 22 | Epoch 033 | Loss: 0.5632 | Test Acc: 0.7542\n",
      "Seed 22 | Epoch 034 | Loss: 0.5682 | Test Acc: 0.7373\n",
      "Seed 22 | Epoch 035 | Loss: 0.5739 | Test Acc: 0.7669\n",
      "Seed 22 | Epoch 036 | Loss: 0.5601 | Test Acc: 0.7458\n",
      "Seed 22 | Epoch 037 | Loss: 0.5556 | Test Acc: 0.7415\n",
      "Seed 22 | Epoch 038 | Loss: 0.5560 | Test Acc: 0.7542\n",
      "Seed 22 | Epoch 039 | Loss: 0.5613 | Test Acc: 0.7500\n",
      "Seed 22 | Epoch 040 | Loss: 0.5500 | Test Acc: 0.7246\n",
      "Seed 22 | Epoch 041 | Loss: 0.5582 | Test Acc: 0.7500\n",
      "Seed 22 | Epoch 042 | Loss: 0.5495 | Test Acc: 0.7500\n",
      "Seed 22 | Epoch 043 | Loss: 0.5582 | Test Acc: 0.6992\n",
      "Seed 22 | Epoch 044 | Loss: 0.5505 | Test Acc: 0.7288\n",
      "Seed 22 | Epoch 045 | Loss: 0.5489 | Test Acc: 0.7246\n",
      "Seed 22 | Epoch 046 | Loss: 0.5440 | Test Acc: 0.7542\n",
      "Seed 22 | Epoch 047 | Loss: 0.5419 | Test Acc: 0.7500\n",
      "Seed 22 | Epoch 048 | Loss: 0.5388 | Test Acc: 0.7288\n",
      "Seed 22 | Epoch 049 | Loss: 0.5431 | Test Acc: 0.7627\n",
      "Seed 22 | Epoch 050 | Loss: 0.5384 | Test Acc: 0.7458\n"
     ]
    },
    {
     "data": {
      "text/html": [],
      "text/plain": [
       "<IPython.core.display.HTML object>"
      ]
     },
     "metadata": {},
     "output_type": "display_data"
    },
    {
     "data": {
      "text/html": [
       "<br>    <style><br>        .wandb-row {<br>            display: flex;<br>            flex-direction: row;<br>            flex-wrap: wrap;<br>            justify-content: flex-start;<br>            width: 100%;<br>        }<br>        .wandb-col {<br>            display: flex;<br>            flex-direction: column;<br>            flex-basis: 100%;<br>            flex: 1;<br>            padding: 10px;<br>        }<br>    </style><br><div class=\"wandb-row\"><div class=\"wandb-col\"><h3>Run history:</h3><br/><table class=\"wandb\"><tr><td>epoch</td><td>▁▁▁▁▂▂▂▂▂▂▃▃▃▃▃▄▄▄▄▄▅▅▅▅▅▆▆▆▆▆▆▇▇▇▇▇▇███</td></tr><tr><td>loss</td><td>████▇▇▆▆▅▅▄▄▄▄▃▃▄▃▃▃▃▃▃▃▃▂▂▂▃▂▂▂▂▂▂▂▂▁▁▁</td></tr><tr><td>test_acc</td><td>▁▁▁▁▂▄▅▆▇▇▆██▇█▇▇▇▇▇▇▇▆▆▇██▇█▇█▇██▆▇██▇█</td></tr><tr><td>train_acc</td><td>▁▁▁▁▁▃▄▅▅▆▆▇▇▆▇▆▇▇▅▆▇▇▆▆▇▇▇▇█▇█▇▇▇▇▇▇█▇█</td></tr></table><br/></div><div class=\"wandb-col\"><h3>Run summary:</h3><br/><table class=\"wandb\"><tr><td>epoch</td><td>50</td></tr><tr><td>loss</td><td>0.53842</td></tr><tr><td>test_acc</td><td>0.74576</td></tr><tr><td>train_acc</td><td>0.74841</td></tr></table><br/></div></div>"
      ],
      "text/plain": [
       "<IPython.core.display.HTML object>"
      ]
     },
     "metadata": {},
     "output_type": "display_data"
    },
    {
     "data": {
      "text/html": [
       " View run <strong style=\"color:#cdcd00\">GCN_BFS_seed_22</strong> at: <a href='https://wandb.ai/noynetanel1-tel-aviv-university/GCN%20Graph%20classification%28DD%29_Gal/runs/bdsf9t1j' target=\"_blank\">https://wandb.ai/noynetanel1-tel-aviv-university/GCN%20Graph%20classification%28DD%29_Gal/runs/bdsf9t1j</a><br> View project at: <a href='https://wandb.ai/noynetanel1-tel-aviv-university/GCN%20Graph%20classification%28DD%29_Gal' target=\"_blank\">https://wandb.ai/noynetanel1-tel-aviv-university/GCN%20Graph%20classification%28DD%29_Gal</a><br>Synced 5 W&B file(s), 0 media file(s), 0 artifact file(s) and 0 other file(s)"
      ],
      "text/plain": [
       "<IPython.core.display.HTML object>"
      ]
     },
     "metadata": {},
     "output_type": "display_data"
    },
    {
     "data": {
      "text/html": [
       "Find logs at: <code>./wandb/run-20250822_234428-bdsf9t1j/logs</code>"
      ],
      "text/plain": [
       "<IPython.core.display.HTML object>"
      ]
     },
     "metadata": {},
     "output_type": "display_data"
    },
    {
     "data": {
      "text/html": [
       "Tracking run with wandb version 0.20.1"
      ],
      "text/plain": [
       "<IPython.core.display.HTML object>"
      ]
     },
     "metadata": {},
     "output_type": "display_data"
    },
    {
     "data": {
      "text/html": [
       "Run data is saved locally in <code>/kaggle/working/wandb/run-20250822_235350-uk44nahx</code>"
      ],
      "text/plain": [
       "<IPython.core.display.HTML object>"
      ]
     },
     "metadata": {},
     "output_type": "display_data"
    },
    {
     "data": {
      "text/html": [
       "Syncing run <strong><a href='https://wandb.ai/noynetanel1-tel-aviv-university/GCN%20Graph%20classification%28DD%29_Gal/runs/uk44nahx' target=\"_blank\">GCN_BFS_seed_23</a></strong> to <a href='https://wandb.ai/noynetanel1-tel-aviv-university/GCN%20Graph%20classification%28DD%29_Gal' target=\"_blank\">Weights & Biases</a> (<a href='https://wandb.me/developer-guide' target=\"_blank\">docs</a>)<br>"
      ],
      "text/plain": [
       "<IPython.core.display.HTML object>"
      ]
     },
     "metadata": {},
     "output_type": "display_data"
    },
    {
     "data": {
      "text/html": [
       " View project at <a href='https://wandb.ai/noynetanel1-tel-aviv-university/GCN%20Graph%20classification%28DD%29_Gal' target=\"_blank\">https://wandb.ai/noynetanel1-tel-aviv-university/GCN%20Graph%20classification%28DD%29_Gal</a>"
      ],
      "text/plain": [
       "<IPython.core.display.HTML object>"
      ]
     },
     "metadata": {},
     "output_type": "display_data"
    },
    {
     "data": {
      "text/html": [
       " View run at <a href='https://wandb.ai/noynetanel1-tel-aviv-university/GCN%20Graph%20classification%28DD%29_Gal/runs/uk44nahx' target=\"_blank\">https://wandb.ai/noynetanel1-tel-aviv-university/GCN%20Graph%20classification%28DD%29_Gal/runs/uk44nahx</a>"
      ],
      "text/plain": [
       "<IPython.core.display.HTML object>"
      ]
     },
     "metadata": {},
     "output_type": "display_data"
    },
    {
     "name": "stdout",
     "output_type": "stream",
     "text": [
      "Seed 23 | Epoch 001 | Loss: 0.6876 | Test Acc: 0.5932\n",
      "Seed 23 | Epoch 002 | Loss: 0.6778 | Test Acc: 0.5932\n",
      "Seed 23 | Epoch 003 | Loss: 0.6741 | Test Acc: 0.5932\n",
      "Seed 23 | Epoch 004 | Loss: 0.6729 | Test Acc: 0.5890\n",
      "Seed 23 | Epoch 005 | Loss: 0.6692 | Test Acc: 0.5890\n",
      "Seed 23 | Epoch 006 | Loss: 0.6597 | Test Acc: 0.6017\n",
      "Seed 23 | Epoch 007 | Loss: 0.6436 | Test Acc: 0.6017\n",
      "Seed 23 | Epoch 008 | Loss: 0.6294 | Test Acc: 0.6737\n",
      "Seed 23 | Epoch 009 | Loss: 0.6118 | Test Acc: 0.6737\n",
      "Seed 23 | Epoch 010 | Loss: 0.5956 | Test Acc: 0.6610\n",
      "Seed 23 | Epoch 011 | Loss: 0.5882 | Test Acc: 0.6780\n",
      "Seed 23 | Epoch 012 | Loss: 0.5955 | Test Acc: 0.6695\n",
      "Seed 23 | Epoch 013 | Loss: 0.5820 | Test Acc: 0.6780\n",
      "Seed 23 | Epoch 014 | Loss: 0.5864 | Test Acc: 0.6610\n",
      "Seed 23 | Epoch 015 | Loss: 0.5830 | Test Acc: 0.6949\n",
      "Seed 23 | Epoch 016 | Loss: 0.5811 | Test Acc: 0.6737\n",
      "Seed 23 | Epoch 017 | Loss: 0.5752 | Test Acc: 0.6737\n",
      "Seed 23 | Epoch 018 | Loss: 0.5787 | Test Acc: 0.6907\n",
      "Seed 23 | Epoch 019 | Loss: 0.5682 | Test Acc: 0.6780\n",
      "Seed 23 | Epoch 020 | Loss: 0.5658 | Test Acc: 0.7034\n",
      "Seed 23 | Epoch 021 | Loss: 0.5701 | Test Acc: 0.6907\n",
      "Seed 23 | Epoch 022 | Loss: 0.5615 | Test Acc: 0.7203\n",
      "Seed 23 | Epoch 023 | Loss: 0.5610 | Test Acc: 0.6780\n",
      "Seed 23 | Epoch 024 | Loss: 0.5606 | Test Acc: 0.6864\n",
      "Seed 23 | Epoch 025 | Loss: 0.5568 | Test Acc: 0.6864\n",
      "Seed 23 | Epoch 026 | Loss: 0.5620 | Test Acc: 0.6992\n",
      "Seed 23 | Epoch 027 | Loss: 0.5576 | Test Acc: 0.6610\n",
      "Seed 23 | Epoch 028 | Loss: 0.5588 | Test Acc: 0.6949\n",
      "Seed 23 | Epoch 029 | Loss: 0.5516 | Test Acc: 0.6907\n",
      "Seed 23 | Epoch 030 | Loss: 0.5510 | Test Acc: 0.7076\n",
      "Seed 23 | Epoch 031 | Loss: 0.5616 | Test Acc: 0.7119\n",
      "Seed 23 | Epoch 032 | Loss: 0.5502 | Test Acc: 0.6864\n",
      "Seed 23 | Epoch 033 | Loss: 0.5470 | Test Acc: 0.6907\n",
      "Seed 23 | Epoch 034 | Loss: 0.5607 | Test Acc: 0.6610\n",
      "Seed 23 | Epoch 035 | Loss: 0.5556 | Test Acc: 0.7034\n",
      "Seed 23 | Epoch 036 | Loss: 0.5534 | Test Acc: 0.6864\n",
      "Seed 23 | Epoch 037 | Loss: 0.5485 | Test Acc: 0.7076\n",
      "Seed 23 | Epoch 038 | Loss: 0.5495 | Test Acc: 0.6992\n",
      "Seed 23 | Epoch 039 | Loss: 0.5500 | Test Acc: 0.7076\n",
      "Seed 23 | Epoch 040 | Loss: 0.5451 | Test Acc: 0.6822\n",
      "Seed 23 | Epoch 041 | Loss: 0.5625 | Test Acc: 0.7076\n",
      "Seed 23 | Epoch 042 | Loss: 0.5454 | Test Acc: 0.6907\n",
      "Seed 23 | Epoch 043 | Loss: 0.5417 | Test Acc: 0.6864\n",
      "Seed 23 | Epoch 044 | Loss: 0.5399 | Test Acc: 0.6992\n",
      "Seed 23 | Epoch 045 | Loss: 0.5389 | Test Acc: 0.7119\n",
      "Seed 23 | Epoch 046 | Loss: 0.5380 | Test Acc: 0.6949\n",
      "Seed 23 | Epoch 047 | Loss: 0.5447 | Test Acc: 0.6992\n",
      "Seed 23 | Epoch 048 | Loss: 0.5450 | Test Acc: 0.6907\n",
      "Seed 23 | Epoch 049 | Loss: 0.5349 | Test Acc: 0.6949\n",
      "Seed 23 | Epoch 050 | Loss: 0.5420 | Test Acc: 0.6992\n"
     ]
    },
    {
     "data": {
      "text/html": [],
      "text/plain": [
       "<IPython.core.display.HTML object>"
      ]
     },
     "metadata": {},
     "output_type": "display_data"
    },
    {
     "data": {
      "text/html": [
       "<br>    <style><br>        .wandb-row {<br>            display: flex;<br>            flex-direction: row;<br>            flex-wrap: wrap;<br>            justify-content: flex-start;<br>            width: 100%;<br>        }<br>        .wandb-col {<br>            display: flex;<br>            flex-direction: column;<br>            flex-basis: 100%;<br>            flex: 1;<br>            padding: 10px;<br>        }<br>    </style><br><div class=\"wandb-row\"><div class=\"wandb-col\"><h3>Run history:</h3><br/><table class=\"wandb\"><tr><td>epoch</td><td>▁▁▁▁▂▂▂▂▂▃▃▃▃▃▄▄▄▄▄▄▅▅▅▅▅▆▆▆▆▆▆▇▇▇▇▇▇███</td></tr><tr><td>loss</td><td>██▇▇▇▅▄▄▃▄▃▃▃▃▃▂▂▂▂▂▂▂▂▂▂▁▂▂▂▁▂▁▂▁▁▁▁▁▁▁</td></tr><tr><td>test_acc</td><td>▁▁▁▁▁▂▆▆▅▆▆▅▆▆▆▇▆█▆▆▇▅▇▆▇▆▆▅▆▇▇▆▇▆▆█▇▇▆▇</td></tr><tr><td>train_acc</td><td>▁▁▁▁▁▂▆▆▅▇▆▆▇▇▇▇▇▇▇▇▇▇▇▇▇█▇▇█▇██▇███████</td></tr></table><br/></div><div class=\"wandb-col\"><h3>Run summary:</h3><br/><table class=\"wandb\"><tr><td>epoch</td><td>50</td></tr><tr><td>loss</td><td>0.54195</td></tr><tr><td>test_acc</td><td>0.69915</td></tr><tr><td>train_acc</td><td>0.75584</td></tr></table><br/></div></div>"
      ],
      "text/plain": [
       "<IPython.core.display.HTML object>"
      ]
     },
     "metadata": {},
     "output_type": "display_data"
    },
    {
     "data": {
      "text/html": [
       " View run <strong style=\"color:#cdcd00\">GCN_BFS_seed_23</strong> at: <a href='https://wandb.ai/noynetanel1-tel-aviv-university/GCN%20Graph%20classification%28DD%29_Gal/runs/uk44nahx' target=\"_blank\">https://wandb.ai/noynetanel1-tel-aviv-university/GCN%20Graph%20classification%28DD%29_Gal/runs/uk44nahx</a><br> View project at: <a href='https://wandb.ai/noynetanel1-tel-aviv-university/GCN%20Graph%20classification%28DD%29_Gal' target=\"_blank\">https://wandb.ai/noynetanel1-tel-aviv-university/GCN%20Graph%20classification%28DD%29_Gal</a><br>Synced 5 W&B file(s), 0 media file(s), 0 artifact file(s) and 0 other file(s)"
      ],
      "text/plain": [
       "<IPython.core.display.HTML object>"
      ]
     },
     "metadata": {},
     "output_type": "display_data"
    },
    {
     "data": {
      "text/html": [
       "Find logs at: <code>./wandb/run-20250822_235350-uk44nahx/logs</code>"
      ],
      "text/plain": [
       "<IPython.core.display.HTML object>"
      ]
     },
     "metadata": {},
     "output_type": "display_data"
    },
    {
     "data": {
      "text/html": [
       "Tracking run with wandb version 0.20.1"
      ],
      "text/plain": [
       "<IPython.core.display.HTML object>"
      ]
     },
     "metadata": {},
     "output_type": "display_data"
    },
    {
     "data": {
      "text/html": [
       "Run data is saved locally in <code>/kaggle/working/wandb/run-20250823_000330-rjvi3gh2</code>"
      ],
      "text/plain": [
       "<IPython.core.display.HTML object>"
      ]
     },
     "metadata": {},
     "output_type": "display_data"
    },
    {
     "data": {
      "text/html": [
       "Syncing run <strong><a href='https://wandb.ai/noynetanel1-tel-aviv-university/GCN%20Graph%20classification%28DD%29_Gal/runs/rjvi3gh2' target=\"_blank\">GCN_BFS_seed_24</a></strong> to <a href='https://wandb.ai/noynetanel1-tel-aviv-university/GCN%20Graph%20classification%28DD%29_Gal' target=\"_blank\">Weights & Biases</a> (<a href='https://wandb.me/developer-guide' target=\"_blank\">docs</a>)<br>"
      ],
      "text/plain": [
       "<IPython.core.display.HTML object>"
      ]
     },
     "metadata": {},
     "output_type": "display_data"
    },
    {
     "data": {
      "text/html": [
       " View project at <a href='https://wandb.ai/noynetanel1-tel-aviv-university/GCN%20Graph%20classification%28DD%29_Gal' target=\"_blank\">https://wandb.ai/noynetanel1-tel-aviv-university/GCN%20Graph%20classification%28DD%29_Gal</a>"
      ],
      "text/plain": [
       "<IPython.core.display.HTML object>"
      ]
     },
     "metadata": {},
     "output_type": "display_data"
    },
    {
     "data": {
      "text/html": [
       " View run at <a href='https://wandb.ai/noynetanel1-tel-aviv-university/GCN%20Graph%20classification%28DD%29_Gal/runs/rjvi3gh2' target=\"_blank\">https://wandb.ai/noynetanel1-tel-aviv-university/GCN%20Graph%20classification%28DD%29_Gal/runs/rjvi3gh2</a>"
      ],
      "text/plain": [
       "<IPython.core.display.HTML object>"
      ]
     },
     "metadata": {},
     "output_type": "display_data"
    },
    {
     "name": "stdout",
     "output_type": "stream",
     "text": [
      "Seed 24 | Epoch 001 | Loss: 0.6841 | Test Acc: 0.5805\n",
      "Seed 24 | Epoch 002 | Loss: 0.6794 | Test Acc: 0.5805\n",
      "Seed 24 | Epoch 003 | Loss: 0.6773 | Test Acc: 0.5805\n",
      "Seed 24 | Epoch 004 | Loss: 0.6732 | Test Acc: 0.5805\n",
      "Seed 24 | Epoch 005 | Loss: 0.6727 | Test Acc: 0.5805\n",
      "Seed 24 | Epoch 006 | Loss: 0.6697 | Test Acc: 0.5805\n",
      "Seed 24 | Epoch 007 | Loss: 0.6614 | Test Acc: 0.5805\n",
      "Seed 24 | Epoch 008 | Loss: 0.6508 | Test Acc: 0.6144\n",
      "Seed 24 | Epoch 009 | Loss: 0.6308 | Test Acc: 0.6907\n",
      "Seed 24 | Epoch 010 | Loss: 0.6177 | Test Acc: 0.6695\n",
      "Seed 24 | Epoch 011 | Loss: 0.6118 | Test Acc: 0.6695\n",
      "Seed 24 | Epoch 012 | Loss: 0.6021 | Test Acc: 0.6949\n",
      "Seed 24 | Epoch 013 | Loss: 0.5898 | Test Acc: 0.7203\n",
      "Seed 24 | Epoch 014 | Loss: 0.5975 | Test Acc: 0.6949\n",
      "Seed 24 | Epoch 015 | Loss: 0.5913 | Test Acc: 0.6907\n",
      "Seed 24 | Epoch 016 | Loss: 0.5849 | Test Acc: 0.6907\n",
      "Seed 24 | Epoch 017 | Loss: 0.5785 | Test Acc: 0.6907\n",
      "Seed 24 | Epoch 018 | Loss: 0.5781 | Test Acc: 0.7119\n",
      "Seed 24 | Epoch 019 | Loss: 0.5807 | Test Acc: 0.6949\n",
      "Seed 24 | Epoch 020 | Loss: 0.5718 | Test Acc: 0.7331\n",
      "Seed 24 | Epoch 021 | Loss: 0.5761 | Test Acc: 0.7076\n",
      "Seed 24 | Epoch 022 | Loss: 0.5687 | Test Acc: 0.7119\n",
      "Seed 24 | Epoch 023 | Loss: 0.5716 | Test Acc: 0.7034\n",
      "Seed 24 | Epoch 024 | Loss: 0.5674 | Test Acc: 0.7034\n",
      "Seed 24 | Epoch 025 | Loss: 0.5671 | Test Acc: 0.7034\n",
      "Seed 24 | Epoch 026 | Loss: 0.5707 | Test Acc: 0.7246\n",
      "Seed 24 | Epoch 027 | Loss: 0.5628 | Test Acc: 0.7288\n",
      "Seed 24 | Epoch 028 | Loss: 0.5634 | Test Acc: 0.6864\n",
      "Seed 24 | Epoch 029 | Loss: 0.5688 | Test Acc: 0.7246\n",
      "Seed 24 | Epoch 030 | Loss: 0.5650 | Test Acc: 0.7161\n",
      "Seed 24 | Epoch 031 | Loss: 0.5572 | Test Acc: 0.7119\n",
      "Seed 24 | Epoch 032 | Loss: 0.5592 | Test Acc: 0.6992\n",
      "Seed 24 | Epoch 033 | Loss: 0.5568 | Test Acc: 0.7246\n",
      "Seed 24 | Epoch 034 | Loss: 0.5644 | Test Acc: 0.6822\n",
      "Seed 24 | Epoch 035 | Loss: 0.5574 | Test Acc: 0.7119\n",
      "Seed 24 | Epoch 036 | Loss: 0.5587 | Test Acc: 0.7246\n",
      "Seed 24 | Epoch 037 | Loss: 0.5562 | Test Acc: 0.7119\n",
      "Seed 24 | Epoch 038 | Loss: 0.5580 | Test Acc: 0.7415\n",
      "Seed 24 | Epoch 039 | Loss: 0.5542 | Test Acc: 0.7246\n",
      "Seed 24 | Epoch 040 | Loss: 0.5502 | Test Acc: 0.7331\n",
      "Seed 24 | Epoch 041 | Loss: 0.5452 | Test Acc: 0.7288\n",
      "Seed 24 | Epoch 042 | Loss: 0.5513 | Test Acc: 0.7288\n",
      "Seed 24 | Epoch 043 | Loss: 0.5492 | Test Acc: 0.6992\n",
      "Seed 24 | Epoch 044 | Loss: 0.5541 | Test Acc: 0.7415\n",
      "Seed 24 | Epoch 045 | Loss: 0.5465 | Test Acc: 0.7246\n",
      "Seed 24 | Epoch 046 | Loss: 0.5385 | Test Acc: 0.6864\n",
      "Seed 24 | Epoch 047 | Loss: 0.5477 | Test Acc: 0.7373\n",
      "Seed 24 | Epoch 048 | Loss: 0.5462 | Test Acc: 0.7331\n",
      "Seed 24 | Epoch 049 | Loss: 0.5520 | Test Acc: 0.7331\n",
      "Seed 24 | Epoch 050 | Loss: 0.5588 | Test Acc: 0.7246\n"
     ]
    },
    {
     "data": {
      "text/html": [],
      "text/plain": [
       "<IPython.core.display.HTML object>"
      ]
     },
     "metadata": {},
     "output_type": "display_data"
    },
    {
     "data": {
      "text/html": [
       "<br>    <style><br>        .wandb-row {<br>            display: flex;<br>            flex-direction: row;<br>            flex-wrap: wrap;<br>            justify-content: flex-start;<br>            width: 100%;<br>        }<br>        .wandb-col {<br>            display: flex;<br>            flex-direction: column;<br>            flex-basis: 100%;<br>            flex: 1;<br>            padding: 10px;<br>        }<br>    </style><br><div class=\"wandb-row\"><div class=\"wandb-col\"><h3>Run history:</h3><br/><table class=\"wandb\"><tr><td>epoch</td><td>▁▁▁▁▂▂▂▂▂▂▃▃▃▃▃▄▄▄▄▄▅▅▅▅▅▆▆▆▆▆▆▇▇▇▇▇▇███</td></tr><tr><td>loss</td><td>█████▇▆▅▅▄▄▄▃▃▃▃▃▃▃▂▃▂▂▃▂▂▂▂▂▂▂▂▁▂▂▁▁▁▁▂</td></tr><tr><td>test_acc</td><td>▁▁▁▁▁▃▆▅▅▆▆▆▆▆▇█▇▆▆▆█▆▇▇▇▇▆▇▇▇▇███▆▇▆██▇</td></tr><tr><td>train_acc</td><td>▁▁▁▁▁▁▃▆▅▆▅▇▇▇▆▆▇▆▇▇▆▇▆▇▇▇▇▇▇▇███▇▇█▇█▇█</td></tr></table><br/></div><div class=\"wandb-col\"><h3>Run summary:</h3><br/><table class=\"wandb\"><tr><td>epoch</td><td>50</td></tr><tr><td>loss</td><td>0.55883</td></tr><tr><td>test_acc</td><td>0.72458</td></tr><tr><td>train_acc</td><td>0.75902</td></tr></table><br/></div></div>"
      ],
      "text/plain": [
       "<IPython.core.display.HTML object>"
      ]
     },
     "metadata": {},
     "output_type": "display_data"
    },
    {
     "data": {
      "text/html": [
       " View run <strong style=\"color:#cdcd00\">GCN_BFS_seed_24</strong> at: <a href='https://wandb.ai/noynetanel1-tel-aviv-university/GCN%20Graph%20classification%28DD%29_Gal/runs/rjvi3gh2' target=\"_blank\">https://wandb.ai/noynetanel1-tel-aviv-university/GCN%20Graph%20classification%28DD%29_Gal/runs/rjvi3gh2</a><br> View project at: <a href='https://wandb.ai/noynetanel1-tel-aviv-university/GCN%20Graph%20classification%28DD%29_Gal' target=\"_blank\">https://wandb.ai/noynetanel1-tel-aviv-university/GCN%20Graph%20classification%28DD%29_Gal</a><br>Synced 5 W&B file(s), 0 media file(s), 0 artifact file(s) and 0 other file(s)"
      ],
      "text/plain": [
       "<IPython.core.display.HTML object>"
      ]
     },
     "metadata": {},
     "output_type": "display_data"
    },
    {
     "data": {
      "text/html": [
       "Find logs at: <code>./wandb/run-20250823_000330-rjvi3gh2/logs</code>"
      ],
      "text/plain": [
       "<IPython.core.display.HTML object>"
      ]
     },
     "metadata": {},
     "output_type": "display_data"
    },
    {
     "data": {
      "text/html": [
       "Tracking run with wandb version 0.20.1"
      ],
      "text/plain": [
       "<IPython.core.display.HTML object>"
      ]
     },
     "metadata": {},
     "output_type": "display_data"
    },
    {
     "data": {
      "text/html": [
       "Run data is saved locally in <code>/kaggle/working/wandb/run-20250823_001335-1vmwj2p5</code>"
      ],
      "text/plain": [
       "<IPython.core.display.HTML object>"
      ]
     },
     "metadata": {},
     "output_type": "display_data"
    },
    {
     "data": {
      "text/html": [
       "Syncing run <strong><a href='https://wandb.ai/noynetanel1-tel-aviv-university/GCN%20Graph%20classification%28DD%29_Gal/runs/1vmwj2p5' target=\"_blank\">GCN_BFS_seed_25</a></strong> to <a href='https://wandb.ai/noynetanel1-tel-aviv-university/GCN%20Graph%20classification%28DD%29_Gal' target=\"_blank\">Weights & Biases</a> (<a href='https://wandb.me/developer-guide' target=\"_blank\">docs</a>)<br>"
      ],
      "text/plain": [
       "<IPython.core.display.HTML object>"
      ]
     },
     "metadata": {},
     "output_type": "display_data"
    },
    {
     "data": {
      "text/html": [
       " View project at <a href='https://wandb.ai/noynetanel1-tel-aviv-university/GCN%20Graph%20classification%28DD%29_Gal' target=\"_blank\">https://wandb.ai/noynetanel1-tel-aviv-university/GCN%20Graph%20classification%28DD%29_Gal</a>"
      ],
      "text/plain": [
       "<IPython.core.display.HTML object>"
      ]
     },
     "metadata": {},
     "output_type": "display_data"
    },
    {
     "data": {
      "text/html": [
       " View run at <a href='https://wandb.ai/noynetanel1-tel-aviv-university/GCN%20Graph%20classification%28DD%29_Gal/runs/1vmwj2p5' target=\"_blank\">https://wandb.ai/noynetanel1-tel-aviv-university/GCN%20Graph%20classification%28DD%29_Gal/runs/1vmwj2p5</a>"
      ],
      "text/plain": [
       "<IPython.core.display.HTML object>"
      ]
     },
     "metadata": {},
     "output_type": "display_data"
    },
    {
     "name": "stdout",
     "output_type": "stream",
     "text": [
      "Seed 25 | Epoch 001 | Loss: 0.6916 | Test Acc: 0.6144\n",
      "Seed 25 | Epoch 002 | Loss: 0.6802 | Test Acc: 0.6144\n",
      "Seed 25 | Epoch 003 | Loss: 0.6761 | Test Acc: 0.6144\n",
      "Seed 25 | Epoch 004 | Loss: 0.6741 | Test Acc: 0.6144\n",
      "Seed 25 | Epoch 005 | Loss: 0.6698 | Test Acc: 0.6102\n",
      "Seed 25 | Epoch 006 | Loss: 0.6618 | Test Acc: 0.6271\n",
      "Seed 25 | Epoch 007 | Loss: 0.6512 | Test Acc: 0.7034\n",
      "Seed 25 | Epoch 008 | Loss: 0.6365 | Test Acc: 0.6610\n",
      "Seed 25 | Epoch 009 | Loss: 0.6193 | Test Acc: 0.6864\n",
      "Seed 25 | Epoch 010 | Loss: 0.6086 | Test Acc: 0.6822\n",
      "Seed 25 | Epoch 011 | Loss: 0.6056 | Test Acc: 0.6949\n",
      "Seed 25 | Epoch 012 | Loss: 0.5956 | Test Acc: 0.6907\n",
      "Seed 25 | Epoch 013 | Loss: 0.5946 | Test Acc: 0.7034\n",
      "Seed 25 | Epoch 014 | Loss: 0.5899 | Test Acc: 0.7203\n",
      "Seed 25 | Epoch 015 | Loss: 0.5959 | Test Acc: 0.7034\n",
      "Seed 25 | Epoch 016 | Loss: 0.5916 | Test Acc: 0.6398\n",
      "Seed 25 | Epoch 017 | Loss: 0.5904 | Test Acc: 0.7203\n",
      "Seed 25 | Epoch 018 | Loss: 0.5836 | Test Acc: 0.7203\n",
      "Seed 25 | Epoch 019 | Loss: 0.5817 | Test Acc: 0.7288\n",
      "Seed 25 | Epoch 020 | Loss: 0.5904 | Test Acc: 0.7288\n",
      "Seed 25 | Epoch 021 | Loss: 0.5797 | Test Acc: 0.7246\n",
      "Seed 25 | Epoch 022 | Loss: 0.5736 | Test Acc: 0.7288\n",
      "Seed 25 | Epoch 023 | Loss: 0.5749 | Test Acc: 0.7331\n",
      "Seed 25 | Epoch 024 | Loss: 0.5801 | Test Acc: 0.7203\n",
      "Seed 25 | Epoch 025 | Loss: 0.5713 | Test Acc: 0.7373\n",
      "Seed 25 | Epoch 026 | Loss: 0.5758 | Test Acc: 0.7373\n",
      "Seed 25 | Epoch 027 | Loss: 0.5713 | Test Acc: 0.7331\n",
      "Seed 25 | Epoch 028 | Loss: 0.5734 | Test Acc: 0.7246\n",
      "Seed 25 | Epoch 029 | Loss: 0.5654 | Test Acc: 0.7373\n",
      "Seed 25 | Epoch 030 | Loss: 0.5712 | Test Acc: 0.7373\n",
      "Seed 25 | Epoch 031 | Loss: 0.5663 | Test Acc: 0.7246\n",
      "Seed 25 | Epoch 032 | Loss: 0.5651 | Test Acc: 0.7373\n",
      "Seed 25 | Epoch 033 | Loss: 0.5803 | Test Acc: 0.7331\n",
      "Seed 25 | Epoch 034 | Loss: 0.5618 | Test Acc: 0.7246\n",
      "Seed 25 | Epoch 035 | Loss: 0.5602 | Test Acc: 0.7076\n",
      "Seed 25 | Epoch 036 | Loss: 0.5629 | Test Acc: 0.7119\n",
      "Seed 25 | Epoch 037 | Loss: 0.5706 | Test Acc: 0.7203\n",
      "Seed 25 | Epoch 038 | Loss: 0.5626 | Test Acc: 0.7203\n",
      "Seed 25 | Epoch 039 | Loss: 0.5587 | Test Acc: 0.7415\n",
      "Seed 25 | Epoch 040 | Loss: 0.5563 | Test Acc: 0.7331\n",
      "Seed 25 | Epoch 041 | Loss: 0.5572 | Test Acc: 0.7415\n",
      "Seed 25 | Epoch 042 | Loss: 0.5596 | Test Acc: 0.7034\n",
      "Seed 25 | Epoch 043 | Loss: 0.5571 | Test Acc: 0.7373\n",
      "Seed 25 | Epoch 044 | Loss: 0.5523 | Test Acc: 0.6992\n",
      "Seed 25 | Epoch 045 | Loss: 0.5537 | Test Acc: 0.7415\n",
      "Seed 25 | Epoch 046 | Loss: 0.5494 | Test Acc: 0.7034\n",
      "Seed 25 | Epoch 047 | Loss: 0.5527 | Test Acc: 0.7246\n",
      "Seed 25 | Epoch 048 | Loss: 0.5613 | Test Acc: 0.7203\n",
      "Seed 25 | Epoch 049 | Loss: 0.5497 | Test Acc: 0.7415\n",
      "Seed 25 | Epoch 050 | Loss: 0.5484 | Test Acc: 0.7161\n"
     ]
    },
    {
     "data": {
      "text/html": [],
      "text/plain": [
       "<IPython.core.display.HTML object>"
      ]
     },
     "metadata": {},
     "output_type": "display_data"
    },
    {
     "data": {
      "text/html": [
       "<br>    <style><br>        .wandb-row {<br>            display: flex;<br>            flex-direction: row;<br>            flex-wrap: wrap;<br>            justify-content: flex-start;<br>            width: 100%;<br>        }<br>        .wandb-col {<br>            display: flex;<br>            flex-direction: column;<br>            flex-basis: 100%;<br>            flex: 1;<br>            padding: 10px;<br>        }<br>    </style><br><div class=\"wandb-row\"><div class=\"wandb-col\"><h3>Run history:</h3><br/><table class=\"wandb\"><tr><td>epoch</td><td>▁▁▁▁▂▂▂▂▂▃▃▃▃▃▃▄▄▄▄▄▅▅▅▅▅▆▆▆▆▆▆▇▇▇▇▇▇███</td></tr><tr><td>loss</td><td>█▇▇▇▇▅▄▄▄▃▃▃▃▃▃▃▃▂▂▃▂▂▂▂▂▃▂▂▂▂▂▁▁▂▁▁▁▁▂▁</td></tr><tr><td>test_acc</td><td>▁▁▁▁▁▆▄▅▅▆▆▇▆▃▇▇▇▇█▇█▇██▇█▇▆▆▇███▆██▆▇▇▇</td></tr><tr><td>train_acc</td><td>▁▁▁▁▁▆▅▆▆▆▇▇▅▅▇▇▇▇▇▇▇▇▇▇▇▇▇▇████████████</td></tr></table><br/></div><div class=\"wandb-col\"><h3>Run summary:</h3><br/><table class=\"wandb\"><tr><td>epoch</td><td>50</td></tr><tr><td>loss</td><td>0.54842</td></tr><tr><td>test_acc</td><td>0.7161</td></tr><tr><td>train_acc</td><td>0.74628</td></tr></table><br/></div></div>"
      ],
      "text/plain": [
       "<IPython.core.display.HTML object>"
      ]
     },
     "metadata": {},
     "output_type": "display_data"
    },
    {
     "data": {
      "text/html": [
       " View run <strong style=\"color:#cdcd00\">GCN_BFS_seed_25</strong> at: <a href='https://wandb.ai/noynetanel1-tel-aviv-university/GCN%20Graph%20classification%28DD%29_Gal/runs/1vmwj2p5' target=\"_blank\">https://wandb.ai/noynetanel1-tel-aviv-university/GCN%20Graph%20classification%28DD%29_Gal/runs/1vmwj2p5</a><br> View project at: <a href='https://wandb.ai/noynetanel1-tel-aviv-university/GCN%20Graph%20classification%28DD%29_Gal' target=\"_blank\">https://wandb.ai/noynetanel1-tel-aviv-university/GCN%20Graph%20classification%28DD%29_Gal</a><br>Synced 5 W&B file(s), 0 media file(s), 0 artifact file(s) and 0 other file(s)"
      ],
      "text/plain": [
       "<IPython.core.display.HTML object>"
      ]
     },
     "metadata": {},
     "output_type": "display_data"
    },
    {
     "data": {
      "text/html": [
       "Find logs at: <code>./wandb/run-20250823_001335-1vmwj2p5/logs</code>"
      ],
      "text/plain": [
       "<IPython.core.display.HTML object>"
      ]
     },
     "metadata": {},
     "output_type": "display_data"
    },
    {
     "data": {
      "text/html": [
       "Tracking run with wandb version 0.20.1"
      ],
      "text/plain": [
       "<IPython.core.display.HTML object>"
      ]
     },
     "metadata": {},
     "output_type": "display_data"
    },
    {
     "data": {
      "text/html": [
       "Run data is saved locally in <code>/kaggle/working/wandb/run-20250823_002242-qbpnc2o9</code>"
      ],
      "text/plain": [
       "<IPython.core.display.HTML object>"
      ]
     },
     "metadata": {},
     "output_type": "display_data"
    },
    {
     "data": {
      "text/html": [
       "Syncing run <strong><a href='https://wandb.ai/noynetanel1-tel-aviv-university/GCN%20Graph%20classification%28DD%29_Gal/runs/qbpnc2o9' target=\"_blank\">GCN_BFS_seed_26</a></strong> to <a href='https://wandb.ai/noynetanel1-tel-aviv-university/GCN%20Graph%20classification%28DD%29_Gal' target=\"_blank\">Weights & Biases</a> (<a href='https://wandb.me/developer-guide' target=\"_blank\">docs</a>)<br>"
      ],
      "text/plain": [
       "<IPython.core.display.HTML object>"
      ]
     },
     "metadata": {},
     "output_type": "display_data"
    },
    {
     "data": {
      "text/html": [
       " View project at <a href='https://wandb.ai/noynetanel1-tel-aviv-university/GCN%20Graph%20classification%28DD%29_Gal' target=\"_blank\">https://wandb.ai/noynetanel1-tel-aviv-university/GCN%20Graph%20classification%28DD%29_Gal</a>"
      ],
      "text/plain": [
       "<IPython.core.display.HTML object>"
      ]
     },
     "metadata": {},
     "output_type": "display_data"
    },
    {
     "data": {
      "text/html": [
       " View run at <a href='https://wandb.ai/noynetanel1-tel-aviv-university/GCN%20Graph%20classification%28DD%29_Gal/runs/qbpnc2o9' target=\"_blank\">https://wandb.ai/noynetanel1-tel-aviv-university/GCN%20Graph%20classification%28DD%29_Gal/runs/qbpnc2o9</a>"
      ],
      "text/plain": [
       "<IPython.core.display.HTML object>"
      ]
     },
     "metadata": {},
     "output_type": "display_data"
    },
    {
     "name": "stdout",
     "output_type": "stream",
     "text": [
      "Seed 26 | Epoch 001 | Loss: 0.6799 | Test Acc: 0.5339\n",
      "Seed 26 | Epoch 002 | Loss: 0.6708 | Test Acc: 0.5339\n",
      "Seed 26 | Epoch 003 | Loss: 0.6675 | Test Acc: 0.5339\n",
      "Seed 26 | Epoch 004 | Loss: 0.6665 | Test Acc: 0.5339\n",
      "Seed 26 | Epoch 005 | Loss: 0.6619 | Test Acc: 0.5381\n",
      "Seed 26 | Epoch 006 | Loss: 0.6491 | Test Acc: 0.5508\n",
      "Seed 26 | Epoch 007 | Loss: 0.6355 | Test Acc: 0.5975\n",
      "Seed 26 | Epoch 008 | Loss: 0.6265 | Test Acc: 0.6017\n",
      "Seed 26 | Epoch 009 | Loss: 0.6140 | Test Acc: 0.6229\n",
      "Seed 26 | Epoch 010 | Loss: 0.6055 | Test Acc: 0.6822\n",
      "Seed 26 | Epoch 011 | Loss: 0.5989 | Test Acc: 0.6695\n",
      "Seed 26 | Epoch 012 | Loss: 0.5942 | Test Acc: 0.6907\n",
      "Seed 26 | Epoch 013 | Loss: 0.5971 | Test Acc: 0.6737\n",
      "Seed 26 | Epoch 014 | Loss: 0.5882 | Test Acc: 0.6695\n",
      "Seed 26 | Epoch 015 | Loss: 0.5798 | Test Acc: 0.6653\n",
      "Seed 26 | Epoch 016 | Loss: 0.5781 | Test Acc: 0.6822\n",
      "Seed 26 | Epoch 017 | Loss: 0.5801 | Test Acc: 0.6822\n",
      "Seed 26 | Epoch 018 | Loss: 0.5754 | Test Acc: 0.6695\n",
      "Seed 26 | Epoch 019 | Loss: 0.5787 | Test Acc: 0.6737\n",
      "Seed 26 | Epoch 020 | Loss: 0.5817 | Test Acc: 0.6780\n",
      "Seed 26 | Epoch 021 | Loss: 0.5736 | Test Acc: 0.6695\n",
      "Seed 26 | Epoch 022 | Loss: 0.5754 | Test Acc: 0.6780\n",
      "Seed 26 | Epoch 023 | Loss: 0.5693 | Test Acc: 0.6907\n",
      "Seed 26 | Epoch 024 | Loss: 0.5654 | Test Acc: 0.6907\n",
      "Seed 26 | Epoch 025 | Loss: 0.5642 | Test Acc: 0.6864\n",
      "Seed 26 | Epoch 026 | Loss: 0.5603 | Test Acc: 0.7034\n",
      "Seed 26 | Epoch 027 | Loss: 0.5734 | Test Acc: 0.6907\n",
      "Seed 26 | Epoch 028 | Loss: 0.5645 | Test Acc: 0.6949\n",
      "Seed 26 | Epoch 029 | Loss: 0.5646 | Test Acc: 0.6949\n",
      "Seed 26 | Epoch 030 | Loss: 0.5721 | Test Acc: 0.7119\n",
      "Seed 26 | Epoch 031 | Loss: 0.5625 | Test Acc: 0.6949\n",
      "Seed 26 | Epoch 032 | Loss: 0.5562 | Test Acc: 0.6949\n",
      "Seed 26 | Epoch 033 | Loss: 0.5598 | Test Acc: 0.6949\n",
      "Seed 26 | Epoch 034 | Loss: 0.5646 | Test Acc: 0.7034\n",
      "Seed 26 | Epoch 035 | Loss: 0.5636 | Test Acc: 0.6907\n",
      "Seed 26 | Epoch 036 | Loss: 0.5525 | Test Acc: 0.6907\n",
      "Seed 26 | Epoch 037 | Loss: 0.5674 | Test Acc: 0.7034\n",
      "Seed 26 | Epoch 038 | Loss: 0.5531 | Test Acc: 0.6949\n",
      "Seed 26 | Epoch 039 | Loss: 0.5664 | Test Acc: 0.7458\n",
      "Seed 26 | Epoch 040 | Loss: 0.5535 | Test Acc: 0.6992\n",
      "Seed 26 | Epoch 041 | Loss: 0.5498 | Test Acc: 0.7415\n",
      "Seed 26 | Epoch 042 | Loss: 0.5507 | Test Acc: 0.7119\n",
      "Seed 26 | Epoch 043 | Loss: 0.5484 | Test Acc: 0.7161\n",
      "Seed 26 | Epoch 044 | Loss: 0.5502 | Test Acc: 0.7076\n",
      "Seed 26 | Epoch 045 | Loss: 0.5549 | Test Acc: 0.7076\n",
      "Seed 26 | Epoch 046 | Loss: 0.5461 | Test Acc: 0.7076\n",
      "Seed 26 | Epoch 047 | Loss: 0.5418 | Test Acc: 0.7161\n",
      "Seed 26 | Epoch 048 | Loss: 0.5379 | Test Acc: 0.6949\n",
      "Seed 26 | Epoch 049 | Loss: 0.5387 | Test Acc: 0.7161\n",
      "Seed 26 | Epoch 050 | Loss: 0.5650 | Test Acc: 0.7203\n"
     ]
    },
    {
     "data": {
      "text/html": [],
      "text/plain": [
       "<IPython.core.display.HTML object>"
      ]
     },
     "metadata": {},
     "output_type": "display_data"
    }
   ],
   "source": [
    "import os, random, numpy as np, torch\n",
    "import torch.nn.functional as F\n",
    "from torch_geometric.datasets import TUDataset\n",
    "from torch_geometric.loader import DataLoader\n",
    "from torch_geometric.nn import GCNConv, global_mean_pool\n",
    "from torch_geometric.utils import to_networkx\n",
    "import networkx as nx\n",
    "import wandb\n",
    "\n",
    "EPOCHS = int(os.getenv(\"EPOCHS\", \"50\"))\n",
    "NUM_SEEDS = int(os.getenv(\"NUM_SEEDS\", \"30\"))\n",
    "PROJECT = f\"GCN Graph classification({Dataset_name})_Gal\"\n",
    "ENTITY = \"noynetanel1-tel-aviv-university\"\n",
    "\n",
    "class GCN(torch.nn.Module):\n",
    "    def __init__(self, in_channels, hidden_channels, out_channels):\n",
    "        super().__init__()\n",
    "        self.conv1 = GCNConv(in_channels, hidden_channels)\n",
    "        self.conv2 = GCNConv(hidden_channels, hidden_channels)\n",
    "        self.lin = torch.nn.Linear(hidden_channels, out_channels)\n",
    "\n",
    "    def forward(self, x, edge_index, batch):\n",
    "        x = self.conv1(x, edge_index)\n",
    "        x = F.relu(x)\n",
    "        x = self.conv2(x, edge_index)\n",
    "        x = global_mean_pool(x, batch)\n",
    "        return F.log_softmax(self.lin(x), dim=1)\n",
    "\n",
    "def set_seed(s):\n",
    "    random.seed(s)\n",
    "    np.random.seed(s)\n",
    "    torch.manual_seed(s)\n",
    "    torch.cuda.manual_seed_all(s)\n",
    "    torch.backends.cudnn.deterministic = True\n",
    "    torch.backends.cudnn.benchmark = False\n",
    "\n",
    "def add_bfs_rank(d):\n",
    "    d = d.clone()\n",
    "    if d.x is None:\n",
    "        d.x = torch.ones((d.num_nodes, 1), dtype=torch.float)\n",
    "    G = to_networkx(d, to_undirected=True)\n",
    "    root = int(d.edge_index[0][0].item()) if d.edge_index.numel() > 0 else 0\n",
    "    bfs_order = list(nx.bfs_tree(G, root)) if G.number_of_nodes() > 0 else []\n",
    "    bfs_rank = torch.full((d.num_nodes, 1), -1.0, dtype=torch.float)\n",
    "    L = max(1, len(bfs_order))\n",
    "    for i, node in enumerate(bfs_order):\n",
    "        bfs_rank[node] = float(i) / float(L)\n",
    "    d.x = torch.cat([d.x, bfs_rank], dim=1)\n",
    "    return d\n",
    "\n",
    "def run_seed(seed):\n",
    "    set_seed(seed)\n",
    "    dataset = TUDataset(root='data/TUDataset', name=Dataset_name, transform=add_bfs_rank)\n",
    "    torch.manual_seed(seed)\n",
    "    dataset = dataset.shuffle()\n",
    "    num_graphs = len(dataset)\n",
    "    train_size = int(0.8 * num_graphs)\n",
    "    train_dataset = dataset[:train_size]\n",
    "    test_dataset = dataset[train_size:]\n",
    "    train_loader = DataLoader(train_dataset, batch_size=32, shuffle=True, num_workers=2)\n",
    "    test_loader = DataLoader(test_dataset, batch_size=32, shuffle=False, num_workers=2)\n",
    "    device = torch.device('cuda' if torch.cuda.is_available() else 'cpu')\n",
    "    in_channels = dataset[0].x.size(1)\n",
    "    model = GCN(in_channels, 64, dataset.num_classes).to(device)\n",
    "    optimizer = torch.optim.Adam(model.parameters(), lr=0.001)\n",
    "    wandb.init(\n",
    "        project=PROJECT,\n",
    "        entity=ENTITY,\n",
    "        name=f\"GCN_BFS_seed_{seed}\",\n",
    "        group=f\"GCN_{Dataset_name}_BFS\",\n",
    "        job_type=\"bfs\",\n",
    "        reinit=True,\n",
    "        config={\"model\":\"GCN\",\"hidden_channels\":64,\"epochs\":EPOCHS,\"lr\":0.001,\"dataset\":\"REDDIT-BINARY\",\"task\":\"BFS\",\"positional_encoding\":\"BFS\",\"seed\":seed}\n",
    "    )\n",
    "\n",
    "    def train():\n",
    "        model.train()\n",
    "        total_loss = 0.0\n",
    "        for data in train_loader:\n",
    "            data = data.to(device)\n",
    "            optimizer.zero_grad()\n",
    "            out = model(data.x, data.edge_index, data.batch)\n",
    "            loss = F.nll_loss(out, data.y)\n",
    "            loss.backward()\n",
    "            optimizer.step()\n",
    "            total_loss += loss.item()\n",
    "        return total_loss / len(train_loader)\n",
    "\n",
    "    def test(loader):\n",
    "        model.eval()\n",
    "        correct = 0\n",
    "        for data in loader:\n",
    "            data = data.to(device)\n",
    "            out = model(data.x, data.edge_index, data.batch)\n",
    "            pred = out.argmax(dim=1)\n",
    "            correct += int((pred == data.y).sum())\n",
    "        return correct / len(loader.dataset)\n",
    "\n",
    "    for epoch in range(1, EPOCHS + 1):\n",
    "        loss = train()\n",
    "        test_acc = test(test_loader)\n",
    "        train_acc = test(train_loader)\n",
    "        print(f\"Seed {seed} | Epoch {epoch:03d} | Loss: {loss:.4f} | Test Acc: {test_acc:.4f}\")\n",
    "        wandb.log({\"epoch\": epoch, \"loss\": loss, \"train_acc\": train_acc, \"test_acc\": test_acc})\n",
    "    wandb.finish()\n",
    "\n",
    "if __name__ == \"__main__\":\n",
    "    wandb.login()\n",
    "    for s in range(1, NUM_SEEDS + 1):\n",
    "        run_seed(s)\n"
   ]
  }
 ],
 "metadata": {
  "kaggle": {
   "accelerator": "none",
   "dataSources": [],
   "dockerImageVersionId": 31089,
   "isGpuEnabled": false,
   "isInternetEnabled": true,
   "language": "python",
   "sourceType": "notebook"
  },
  "kernelspec": {
   "display_name": "Python 3",
   "language": "python",
   "name": "python3"
  },
  "language_info": {
   "codemirror_mode": {
    "name": "ipython",
    "version": 3
   },
   "file_extension": ".py",
   "mimetype": "text/x-python",
   "name": "python",
   "nbconvert_exporter": "python",
   "pygments_lexer": "ipython3",
   "version": "3.11.13"
  }
 },
 "nbformat": 4,
 "nbformat_minor": 4
}
